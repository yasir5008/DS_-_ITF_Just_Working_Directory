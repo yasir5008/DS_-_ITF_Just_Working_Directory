{
 "cells": [
  {
   "cell_type": "code",
   "execution_count": 1,
   "metadata": {},
   "outputs": [],
   "source": [
    "from bs4 import BeautifulSoup\n",
    "import requests\n",
    "import re\n",
    "import pandas as pd\n",
    "from os.path import basename\n",
    "from time import sleep"
   ]
  },
  {
   "cell_type": "code",
   "execution_count": 2,
   "metadata": {},
   "outputs": [],
   "source": [
    "list_csvs =[]\n",
    "if __name__ =='__main__':\n",
    "  url = requests.get('https://prod-perf-test-reports.atg.digital/csv/').text\n",
    "  soup = BeautifulSoup(url)\n",
    "  for link in soup.find_all('a'):\n",
    "\n",
    "    c_link = link.get('href')\n",
    "    if c_link.endswith('csv'):\n",
    "      #print('bulunan dosya'+c_link)\n",
    "      #print('indiriliyor %s' %c_link)\n",
    "      sleep(10)\n",
    "      list_csvs.append(c_link)\n",
    "      "
   ]
  },
  {
   "cell_type": "code",
   "execution_count": 4,
   "metadata": {},
   "outputs": [
    {
     "data": {
      "text/plain": [
       "39"
      ]
     },
     "execution_count": 4,
     "metadata": {},
     "output_type": "execute_result"
    }
   ],
   "source": [
    "len(list_csvs[0])"
   ]
  },
  {
   "cell_type": "code",
   "execution_count": 6,
   "metadata": {},
   "outputs": [
    {
     "data": {
      "text/plain": [
       "['perf-test-exceptions-20220826020540.csv',\n",
       " 'perf-test-failures-20220826020539.csv',\n",
       " 'perf-test-requests-20220826020539.csv',\n",
       " 'perf-test-exceptions-20220826014922.csv',\n",
       " 'perf-test-requests-20220826014922.csv',\n",
       " 'perf-test-failures-20220826014922.csv',\n",
       " 'perf-test-failures-20220826013621.csv',\n",
       " 'perf-test-requests-20220826013621.csv',\n",
       " 'perf-test-exceptions-20220826013621.csv',\n",
       " 'perf-test-failures-20220826012213.csv',\n",
       " 'perf-test-requests-20220826012213.csv',\n",
       " 'perf-test-exceptions-20220826012213.csv',\n",
       " 'perf-test-exceptions-20220825135803.csv',\n",
       " 'perf-test-failures-20220825135803.csv',\n",
       " 'perf-test-requests-20220825135803.csv',\n",
       " 'perf-test-failures-20220825121923.csv',\n",
       " 'perf-test-requests-20220825121923.csv',\n",
       " 'perf-test-exceptions-20220825121923.csv',\n",
       " 'perf-test-failures-20211025024318.csv',\n",
       " 'perf-test-requests-20211025024318.csv',\n",
       " 'perf-test-exceptions-20211025024318.csv',\n",
       " 'perf-test-failures-20211025020710.csv',\n",
       " 'perf-test-requests-20211025020710.csv',\n",
       " 'perf-test-exceptions-20211025020710.csv',\n",
       " 'perf-test-failures-20211025015943.csv',\n",
       " 'perf-test-requests-20211025015943.csv',\n",
       " 'perf-test-exceptions-20211025015943.csv',\n",
       " 'perf-test-exceptions-20211025015427.csv',\n",
       " 'perf-test-requests-20211025015427.csv',\n",
       " 'perf-test-failures-20211025015427.csv',\n",
       " 'perf-test-failures-20211025014603.csv',\n",
       " 'perf-test-requests-20211025014603.csv',\n",
       " 'perf-test-exceptions-20211025014603.csv',\n",
       " 'perf-test-exceptions-20211025010811.csv',\n",
       " 'perf-test-requests-20211025010811.csv',\n",
       " 'perf-test-failures-20211025010811.csv',\n",
       " 'perf-test-exceptions-20211025005905.csv',\n",
       " 'perf-test-requests-20211025005905.csv',\n",
       " 'perf-test-failures-20211025005905.csv',\n",
       " 'perf-test-failures-20211023215433.csv',\n",
       " 'perf-test-exceptions-20211023215433.csv',\n",
       " 'perf-test-requests-20211023215433.csv',\n",
       " 'perf-test-failures-20211023172912.csv',\n",
       " 'perf-test-exceptions-20211023172912.csv',\n",
       " 'perf-test-requests-20211023172912.csv']"
      ]
     },
     "execution_count": 6,
     "metadata": {},
     "output_type": "execute_result"
    }
   ],
   "source": [
    "list_csvs"
   ]
  },
  {
   "cell_type": "code",
   "execution_count": 7,
   "metadata": {},
   "outputs": [],
   "source": [
    "reqs =[]\n",
    "for i in  list_csvs :\n",
    "    if 'requests' in i:\n",
    "        reqs.append(i)"
   ]
  },
  {
   "cell_type": "code",
   "execution_count": 9,
   "metadata": {},
   "outputs": [
    {
     "data": {
      "text/plain": [
       "15"
      ]
     },
     "execution_count": 9,
     "metadata": {},
     "output_type": "execute_result"
    }
   ],
   "source": [
    "len(reqs)"
   ]
  },
  {
   "cell_type": "code",
   "execution_count": 10,
   "metadata": {},
   "outputs": [],
   "source": [
    "a = 'https://prod-perf-test-reports.atg.digital/csv/'\n",
    "b = reqs[0]"
   ]
  },
  {
   "cell_type": "code",
   "execution_count": 11,
   "metadata": {},
   "outputs": [
    {
     "data": {
      "text/plain": [
       "'https://prod-perf-test-reports.atg.digital/csv/perf-test-requests-20220826020539.csv'"
      ]
     },
     "execution_count": 11,
     "metadata": {},
     "output_type": "execute_result"
    }
   ],
   "source": [
    "a+b"
   ]
  },
  {
   "cell_type": "code",
   "execution_count": 11,
   "metadata": {},
   "outputs": [
    {
     "data": {
      "text/html": [
       "<div>\n",
       "<style scoped>\n",
       "    .dataframe tbody tr th:only-of-type {\n",
       "        vertical-align: middle;\n",
       "    }\n",
       "\n",
       "    .dataframe tbody tr th {\n",
       "        vertical-align: top;\n",
       "    }\n",
       "\n",
       "    .dataframe thead th {\n",
       "        text-align: right;\n",
       "    }\n",
       "</style>\n",
       "<table border=\"1\" class=\"dataframe\">\n",
       "  <thead>\n",
       "    <tr style=\"text-align: right;\">\n",
       "      <th></th>\n",
       "      <th>Type</th>\n",
       "      <th>Name</th>\n",
       "      <th>Request Count</th>\n",
       "      <th>Failure Count</th>\n",
       "      <th>Median Response Time</th>\n",
       "      <th>Average Response Time</th>\n",
       "      <th>Min Response Time</th>\n",
       "      <th>Max Response Time</th>\n",
       "      <th>Average Content Size</th>\n",
       "      <th>Requests/s</th>\n",
       "      <th>...</th>\n",
       "      <th>66%</th>\n",
       "      <th>75%</th>\n",
       "      <th>80%</th>\n",
       "      <th>90%</th>\n",
       "      <th>95%</th>\n",
       "      <th>98%</th>\n",
       "      <th>99%</th>\n",
       "      <th>99.9%</th>\n",
       "      <th>99.99%</th>\n",
       "      <th>100%</th>\n",
       "    </tr>\n",
       "  </thead>\n",
       "  <tbody>\n",
       "    <tr>\n",
       "      <th>0</th>\n",
       "      <td>POST</td>\n",
       "      <td>Add to Bag</td>\n",
       "      <td>8757</td>\n",
       "      <td>4</td>\n",
       "      <td>240.0</td>\n",
       "      <td>367.822714</td>\n",
       "      <td>82.180370</td>\n",
       "      <td>23712.858082</td>\n",
       "      <td>1.550646e+04</td>\n",
       "      <td>13.833100</td>\n",
       "      <td>...</td>\n",
       "      <td>340</td>\n",
       "      <td>440</td>\n",
       "      <td>520</td>\n",
       "      <td>760</td>\n",
       "      <td>1100</td>\n",
       "      <td>1500</td>\n",
       "      <td>1800</td>\n",
       "      <td>3600</td>\n",
       "      <td>24000</td>\n",
       "      <td>24000</td>\n",
       "    </tr>\n",
       "    <tr>\n",
       "      <th>1</th>\n",
       "      <td>GET</td>\n",
       "      <td>Cart Review</td>\n",
       "      <td>4352</td>\n",
       "      <td>0</td>\n",
       "      <td>960.0</td>\n",
       "      <td>1763.583985</td>\n",
       "      <td>129.616680</td>\n",
       "      <td>14632.914598</td>\n",
       "      <td>4.400000e+01</td>\n",
       "      <td>6.874689</td>\n",
       "      <td>...</td>\n",
       "      <td>1500</td>\n",
       "      <td>2000</td>\n",
       "      <td>2400</td>\n",
       "      <td>3800</td>\n",
       "      <td>7100</td>\n",
       "      <td>10000</td>\n",
       "      <td>11000</td>\n",
       "      <td>14000</td>\n",
       "      <td>15000</td>\n",
       "      <td>15000</td>\n",
       "    </tr>\n",
       "    <tr>\n",
       "      <th>2</th>\n",
       "      <td>GET</td>\n",
       "      <td>Get Cookies</td>\n",
       "      <td>4393</td>\n",
       "      <td>0</td>\n",
       "      <td>410.0</td>\n",
       "      <td>635.759667</td>\n",
       "      <td>139.663046</td>\n",
       "      <td>4412.297406</td>\n",
       "      <td>6.566098e+05</td>\n",
       "      <td>6.939455</td>\n",
       "      <td>...</td>\n",
       "      <td>590</td>\n",
       "      <td>780</td>\n",
       "      <td>910</td>\n",
       "      <td>1400</td>\n",
       "      <td>1900</td>\n",
       "      <td>2600</td>\n",
       "      <td>2900</td>\n",
       "      <td>3600</td>\n",
       "      <td>4400</td>\n",
       "      <td>4400</td>\n",
       "    </tr>\n",
       "    <tr>\n",
       "      <th>3</th>\n",
       "      <td>GET</td>\n",
       "      <td>Get PLPs</td>\n",
       "      <td>4383</td>\n",
       "      <td>0</td>\n",
       "      <td>1300.0</td>\n",
       "      <td>1522.372382</td>\n",
       "      <td>685.776408</td>\n",
       "      <td>5651.871172</td>\n",
       "      <td>1.158141e+06</td>\n",
       "      <td>6.923658</td>\n",
       "      <td>...</td>\n",
       "      <td>1500</td>\n",
       "      <td>1800</td>\n",
       "      <td>2000</td>\n",
       "      <td>2600</td>\n",
       "      <td>3200</td>\n",
       "      <td>3800</td>\n",
       "      <td>4200</td>\n",
       "      <td>5400</td>\n",
       "      <td>5700</td>\n",
       "      <td>5700</td>\n",
       "    </tr>\n",
       "    <tr>\n",
       "      <th>4</th>\n",
       "      <td>GET</td>\n",
       "      <td>Get cfuid</td>\n",
       "      <td>4400</td>\n",
       "      <td>0</td>\n",
       "      <td>330.0</td>\n",
       "      <td>522.060730</td>\n",
       "      <td>119.714717</td>\n",
       "      <td>4226.472146</td>\n",
       "      <td>6.740015e+05</td>\n",
       "      <td>6.950513</td>\n",
       "      <td>...</td>\n",
       "      <td>500</td>\n",
       "      <td>650</td>\n",
       "      <td>750</td>\n",
       "      <td>1200</td>\n",
       "      <td>1600</td>\n",
       "      <td>2100</td>\n",
       "      <td>2600</td>\n",
       "      <td>3400</td>\n",
       "      <td>4200</td>\n",
       "      <td>4200</td>\n",
       "    </tr>\n",
       "    <tr>\n",
       "      <th>5</th>\n",
       "      <td>GET</td>\n",
       "      <td>Go to Payment Page</td>\n",
       "      <td>4294</td>\n",
       "      <td>0</td>\n",
       "      <td>1800.0</td>\n",
       "      <td>2786.063967</td>\n",
       "      <td>531.679157</td>\n",
       "      <td>22563.466383</td>\n",
       "      <td>8.431882e+05</td>\n",
       "      <td>6.783068</td>\n",
       "      <td>...</td>\n",
       "      <td>2700</td>\n",
       "      <td>3500</td>\n",
       "      <td>4100</td>\n",
       "      <td>5900</td>\n",
       "      <td>8300</td>\n",
       "      <td>11000</td>\n",
       "      <td>12000</td>\n",
       "      <td>15000</td>\n",
       "      <td>23000</td>\n",
       "      <td>23000</td>\n",
       "    </tr>\n",
       "    <tr>\n",
       "      <th>6</th>\n",
       "      <td>GET</td>\n",
       "      <td>Open PDP Page</td>\n",
       "      <td>8758</td>\n",
       "      <td>0</td>\n",
       "      <td>130.0</td>\n",
       "      <td>246.753290</td>\n",
       "      <td>50.536460</td>\n",
       "      <td>4135.770670</td>\n",
       "      <td>1.709968e+05</td>\n",
       "      <td>13.834679</td>\n",
       "      <td>...</td>\n",
       "      <td>210</td>\n",
       "      <td>280</td>\n",
       "      <td>340</td>\n",
       "      <td>560</td>\n",
       "      <td>840</td>\n",
       "      <td>1300</td>\n",
       "      <td>1600</td>\n",
       "      <td>2900</td>\n",
       "      <td>4100</td>\n",
       "      <td>4100</td>\n",
       "    </tr>\n",
       "    <tr>\n",
       "      <th>7</th>\n",
       "      <td>POST</td>\n",
       "      <td>Set Shipment Information</td>\n",
       "      <td>4316</td>\n",
       "      <td>3</td>\n",
       "      <td>2700.0</td>\n",
       "      <td>5061.259467</td>\n",
       "      <td>541.362775</td>\n",
       "      <td>37449.056189</td>\n",
       "      <td>1.545876e+01</td>\n",
       "      <td>6.817821</td>\n",
       "      <td>...</td>\n",
       "      <td>4300</td>\n",
       "      <td>5800</td>\n",
       "      <td>6900</td>\n",
       "      <td>13000</td>\n",
       "      <td>19000</td>\n",
       "      <td>25000</td>\n",
       "      <td>29000</td>\n",
       "      <td>34000</td>\n",
       "      <td>37000</td>\n",
       "      <td>37000</td>\n",
       "    </tr>\n",
       "    <tr>\n",
       "      <th>8</th>\n",
       "      <td>GET</td>\n",
       "      <td>Verify Cart</td>\n",
       "      <td>4367</td>\n",
       "      <td>0</td>\n",
       "      <td>440.0</td>\n",
       "      <td>829.600174</td>\n",
       "      <td>141.124728</td>\n",
       "      <td>13521.049991</td>\n",
       "      <td>6.806104e+05</td>\n",
       "      <td>6.898384</td>\n",
       "      <td>...</td>\n",
       "      <td>670</td>\n",
       "      <td>890</td>\n",
       "      <td>1100</td>\n",
       "      <td>1800</td>\n",
       "      <td>2800</td>\n",
       "      <td>4300</td>\n",
       "      <td>5900</td>\n",
       "      <td>12000</td>\n",
       "      <td>14000</td>\n",
       "      <td>14000</td>\n",
       "    </tr>\n",
       "    <tr>\n",
       "      <th>9</th>\n",
       "      <td>NaN</td>\n",
       "      <td>Aggregated</td>\n",
       "      <td>48020</td>\n",
       "      <td>7</td>\n",
       "      <td>520.0</td>\n",
       "      <td>1296.341991</td>\n",
       "      <td>50.536460</td>\n",
       "      <td>37449.056189</td>\n",
       "      <td>3.988492e+05</td>\n",
       "      <td>75.855367</td>\n",
       "      <td>...</td>\n",
       "      <td>950</td>\n",
       "      <td>1300</td>\n",
       "      <td>1600</td>\n",
       "      <td>2900</td>\n",
       "      <td>4800</td>\n",
       "      <td>9200</td>\n",
       "      <td>13000</td>\n",
       "      <td>28000</td>\n",
       "      <td>34000</td>\n",
       "      <td>37000</td>\n",
       "    </tr>\n",
       "  </tbody>\n",
       "</table>\n",
       "<p>10 rows × 22 columns</p>\n",
       "</div>"
      ],
      "text/plain": [
       "   Type                      Name  Request Count  Failure Count  \\\n",
       "0  POST                Add to Bag           8757              4   \n",
       "1   GET               Cart Review           4352              0   \n",
       "2   GET               Get Cookies           4393              0   \n",
       "3   GET                  Get PLPs           4383              0   \n",
       "4   GET                 Get cfuid           4400              0   \n",
       "5   GET        Go to Payment Page           4294              0   \n",
       "6   GET             Open PDP Page           8758              0   \n",
       "7  POST  Set Shipment Information           4316              3   \n",
       "8   GET               Verify Cart           4367              0   \n",
       "9   NaN                Aggregated          48020              7   \n",
       "\n",
       "   Median Response Time  Average Response Time  Min Response Time  \\\n",
       "0                 240.0             367.822714          82.180370   \n",
       "1                 960.0            1763.583985         129.616680   \n",
       "2                 410.0             635.759667         139.663046   \n",
       "3                1300.0            1522.372382         685.776408   \n",
       "4                 330.0             522.060730         119.714717   \n",
       "5                1800.0            2786.063967         531.679157   \n",
       "6                 130.0             246.753290          50.536460   \n",
       "7                2700.0            5061.259467         541.362775   \n",
       "8                 440.0             829.600174         141.124728   \n",
       "9                 520.0            1296.341991          50.536460   \n",
       "\n",
       "   Max Response Time  Average Content Size  Requests/s  ...   66%   75%   80%  \\\n",
       "0       23712.858082          1.550646e+04   13.833100  ...   340   440   520   \n",
       "1       14632.914598          4.400000e+01    6.874689  ...  1500  2000  2400   \n",
       "2        4412.297406          6.566098e+05    6.939455  ...   590   780   910   \n",
       "3        5651.871172          1.158141e+06    6.923658  ...  1500  1800  2000   \n",
       "4        4226.472146          6.740015e+05    6.950513  ...   500   650   750   \n",
       "5       22563.466383          8.431882e+05    6.783068  ...  2700  3500  4100   \n",
       "6        4135.770670          1.709968e+05   13.834679  ...   210   280   340   \n",
       "7       37449.056189          1.545876e+01    6.817821  ...  4300  5800  6900   \n",
       "8       13521.049991          6.806104e+05    6.898384  ...   670   890  1100   \n",
       "9       37449.056189          3.988492e+05   75.855367  ...   950  1300  1600   \n",
       "\n",
       "     90%    95%    98%    99%  99.9%  99.99%   100%  \n",
       "0    760   1100   1500   1800   3600   24000  24000  \n",
       "1   3800   7100  10000  11000  14000   15000  15000  \n",
       "2   1400   1900   2600   2900   3600    4400   4400  \n",
       "3   2600   3200   3800   4200   5400    5700   5700  \n",
       "4   1200   1600   2100   2600   3400    4200   4200  \n",
       "5   5900   8300  11000  12000  15000   23000  23000  \n",
       "6    560    840   1300   1600   2900    4100   4100  \n",
       "7  13000  19000  25000  29000  34000   37000  37000  \n",
       "8   1800   2800   4300   5900  12000   14000  14000  \n",
       "9   2900   4800   9200  13000  28000   34000  37000  \n",
       "\n",
       "[10 rows x 22 columns]"
      ]
     },
     "execution_count": 11,
     "metadata": {},
     "output_type": "execute_result"
    }
   ],
   "source": [
    "pd.read_csv(a+b)"
   ]
  },
  {
   "cell_type": "code",
   "execution_count": 12,
   "metadata": {},
   "outputs": [],
   "source": [
    "paths = []\n",
    "for i in reqs:\n",
    "    paths.append(a+i)"
   ]
  },
  {
   "cell_type": "code",
   "execution_count": 17,
   "metadata": {},
   "outputs": [],
   "source": [
    "dfs = []\n",
    "for i in paths:\n",
    "    dfs.append(pd.read_csv(i))\n"
   ]
  },
  {
   "cell_type": "code",
   "execution_count": 18,
   "metadata": {},
   "outputs": [],
   "source": [
    "count = 0\n",
    "for i in dfs:\n",
    "    i['TimeStamp'] = pd.Series(re.findall(r\"\\d+\", paths[count]))\n",
    "    i.TimeStamp.fillna(re.findall(r\"\\d+\", paths[count])[0], inplace =True)\n",
    "    i.set_index('TimeStamp', inplace=True)\n",
    "    count+=1"
   ]
  },
  {
   "cell_type": "code",
   "execution_count": 20,
   "metadata": {},
   "outputs": [],
   "source": [
    "big_data = pd.concat(dfs)"
   ]
  },
  {
   "cell_type": "code",
   "execution_count": 26,
   "metadata": {},
   "outputs": [],
   "source": [
    "#pd.set_option('display.max_rows', None)"
   ]
  },
  {
   "cell_type": "code",
   "execution_count": null,
   "metadata": {},
   "outputs": [],
   "source": [
    "big_data"
   ]
  },
  {
   "cell_type": "code",
   "execution_count": 33,
   "metadata": {},
   "outputs": [],
   "source": [
    "big_data.dropna(inplace=True)\n"
   ]
  },
  {
   "cell_type": "code",
   "execution_count": 41,
   "metadata": {},
   "outputs": [],
   "source": [
    "big_data.to_csv('LoadTest_BigData.csv')"
   ]
  },
  {
   "cell_type": "code",
   "execution_count": null,
   "metadata": {},
   "outputs": [],
   "source": [
    "import streamlit"
   ]
  }
 ],
 "metadata": {
  "kernelspec": {
   "display_name": "Python 3.9.13 64-bit (system)",
   "language": "python",
   "name": "python3"
  },
  "language_info": {
   "codemirror_mode": {
    "name": "ipython",
    "version": 3
   },
   "file_extension": ".py",
   "mimetype": "text/x-python",
   "name": "python",
   "nbconvert_exporter": "python",
   "pygments_lexer": "ipython3",
   "version": "3.9.13"
  },
  "orig_nbformat": 4,
  "vscode": {
   "interpreter": {
    "hash": "fc62f01d6085b3eb1be14ce6335af1e3bfbfbbc5d11629def8fd38d64646ad34"
   }
  }
 },
 "nbformat": 4,
 "nbformat_minor": 2
}
