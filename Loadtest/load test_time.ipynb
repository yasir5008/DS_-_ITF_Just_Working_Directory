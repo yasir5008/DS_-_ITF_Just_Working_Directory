{
 "cells": [
  {
   "cell_type": "code",
   "execution_count": 28,
   "metadata": {},
   "outputs": [],
   "source": [
    "import pandas as pd\n",
    "import datetime"
   ]
  },
  {
   "cell_type": "code",
   "execution_count": 29,
   "metadata": {},
   "outputs": [],
   "source": [
    "big_data= pd.read_csv(\"LoadTest_BigData.csv\" )"
   ]
  },
  {
   "cell_type": "code",
   "execution_count": 19,
   "metadata": {},
   "outputs": [
    {
     "data": {
      "text/html": [
       "<div>\n",
       "<style scoped>\n",
       "    .dataframe tbody tr th:only-of-type {\n",
       "        vertical-align: middle;\n",
       "    }\n",
       "\n",
       "    .dataframe tbody tr th {\n",
       "        vertical-align: top;\n",
       "    }\n",
       "\n",
       "    .dataframe thead th {\n",
       "        text-align: right;\n",
       "    }\n",
       "</style>\n",
       "<table border=\"1\" class=\"dataframe\">\n",
       "  <thead>\n",
       "    <tr style=\"text-align: right;\">\n",
       "      <th></th>\n",
       "      <th>TimeStamp</th>\n",
       "      <th>Type</th>\n",
       "      <th>Name</th>\n",
       "      <th>Request Count</th>\n",
       "      <th>Failure Count</th>\n",
       "      <th>Median Response Time</th>\n",
       "      <th>Average Response Time</th>\n",
       "      <th>Min Response Time</th>\n",
       "      <th>Max Response Time</th>\n",
       "      <th>Average Content Size</th>\n",
       "      <th>...</th>\n",
       "      <th>66%</th>\n",
       "      <th>75%</th>\n",
       "      <th>80%</th>\n",
       "      <th>90%</th>\n",
       "      <th>95%</th>\n",
       "      <th>98%</th>\n",
       "      <th>99%</th>\n",
       "      <th>99.9%</th>\n",
       "      <th>99.99%</th>\n",
       "      <th>100%</th>\n",
       "    </tr>\n",
       "  </thead>\n",
       "  <tbody>\n",
       "    <tr>\n",
       "      <th>0</th>\n",
       "      <td>20220826020539</td>\n",
       "      <td>POST</td>\n",
       "      <td>Add to Bag</td>\n",
       "      <td>8757</td>\n",
       "      <td>4</td>\n",
       "      <td>240.0</td>\n",
       "      <td>367.822714</td>\n",
       "      <td>82.180370</td>\n",
       "      <td>23712.858082</td>\n",
       "      <td>1.550646e+04</td>\n",
       "      <td>...</td>\n",
       "      <td>340</td>\n",
       "      <td>440</td>\n",
       "      <td>520</td>\n",
       "      <td>760</td>\n",
       "      <td>1100</td>\n",
       "      <td>1500</td>\n",
       "      <td>1800</td>\n",
       "      <td>3600</td>\n",
       "      <td>24000</td>\n",
       "      <td>24000</td>\n",
       "    </tr>\n",
       "    <tr>\n",
       "      <th>1</th>\n",
       "      <td>20220826020539</td>\n",
       "      <td>GET</td>\n",
       "      <td>Cart Review</td>\n",
       "      <td>4352</td>\n",
       "      <td>0</td>\n",
       "      <td>960.0</td>\n",
       "      <td>1763.583985</td>\n",
       "      <td>129.616680</td>\n",
       "      <td>14632.914598</td>\n",
       "      <td>4.400000e+01</td>\n",
       "      <td>...</td>\n",
       "      <td>1500</td>\n",
       "      <td>2000</td>\n",
       "      <td>2400</td>\n",
       "      <td>3800</td>\n",
       "      <td>7100</td>\n",
       "      <td>10000</td>\n",
       "      <td>11000</td>\n",
       "      <td>14000</td>\n",
       "      <td>15000</td>\n",
       "      <td>15000</td>\n",
       "    </tr>\n",
       "    <tr>\n",
       "      <th>2</th>\n",
       "      <td>20220826020539</td>\n",
       "      <td>GET</td>\n",
       "      <td>Get Cookies</td>\n",
       "      <td>4393</td>\n",
       "      <td>0</td>\n",
       "      <td>410.0</td>\n",
       "      <td>635.759667</td>\n",
       "      <td>139.663046</td>\n",
       "      <td>4412.297406</td>\n",
       "      <td>6.566098e+05</td>\n",
       "      <td>...</td>\n",
       "      <td>590</td>\n",
       "      <td>780</td>\n",
       "      <td>910</td>\n",
       "      <td>1400</td>\n",
       "      <td>1900</td>\n",
       "      <td>2600</td>\n",
       "      <td>2900</td>\n",
       "      <td>3600</td>\n",
       "      <td>4400</td>\n",
       "      <td>4400</td>\n",
       "    </tr>\n",
       "    <tr>\n",
       "      <th>3</th>\n",
       "      <td>20220826020539</td>\n",
       "      <td>GET</td>\n",
       "      <td>Get PLPs</td>\n",
       "      <td>4383</td>\n",
       "      <td>0</td>\n",
       "      <td>1300.0</td>\n",
       "      <td>1522.372382</td>\n",
       "      <td>685.776408</td>\n",
       "      <td>5651.871172</td>\n",
       "      <td>1.158141e+06</td>\n",
       "      <td>...</td>\n",
       "      <td>1500</td>\n",
       "      <td>1800</td>\n",
       "      <td>2000</td>\n",
       "      <td>2600</td>\n",
       "      <td>3200</td>\n",
       "      <td>3800</td>\n",
       "      <td>4200</td>\n",
       "      <td>5400</td>\n",
       "      <td>5700</td>\n",
       "      <td>5700</td>\n",
       "    </tr>\n",
       "    <tr>\n",
       "      <th>4</th>\n",
       "      <td>20220826020539</td>\n",
       "      <td>GET</td>\n",
       "      <td>Get cfuid</td>\n",
       "      <td>4400</td>\n",
       "      <td>0</td>\n",
       "      <td>330.0</td>\n",
       "      <td>522.060730</td>\n",
       "      <td>119.714717</td>\n",
       "      <td>4226.472146</td>\n",
       "      <td>6.740015e+05</td>\n",
       "      <td>...</td>\n",
       "      <td>500</td>\n",
       "      <td>650</td>\n",
       "      <td>750</td>\n",
       "      <td>1200</td>\n",
       "      <td>1600</td>\n",
       "      <td>2100</td>\n",
       "      <td>2600</td>\n",
       "      <td>3400</td>\n",
       "      <td>4200</td>\n",
       "      <td>4200</td>\n",
       "    </tr>\n",
       "  </tbody>\n",
       "</table>\n",
       "<p>5 rows × 23 columns</p>\n",
       "</div>"
      ],
      "text/plain": [
       "        TimeStamp  Type         Name  Request Count  Failure Count  \\\n",
       "0  20220826020539  POST   Add to Bag           8757              4   \n",
       "1  20220826020539   GET  Cart Review           4352              0   \n",
       "2  20220826020539   GET  Get Cookies           4393              0   \n",
       "3  20220826020539   GET     Get PLPs           4383              0   \n",
       "4  20220826020539   GET    Get cfuid           4400              0   \n",
       "\n",
       "   Median Response Time  Average Response Time  Min Response Time  \\\n",
       "0                 240.0             367.822714          82.180370   \n",
       "1                 960.0            1763.583985         129.616680   \n",
       "2                 410.0             635.759667         139.663046   \n",
       "3                1300.0            1522.372382         685.776408   \n",
       "4                 330.0             522.060730         119.714717   \n",
       "\n",
       "   Max Response Time  Average Content Size  ...   66%   75%   80%   90%   95%  \\\n",
       "0       23712.858082          1.550646e+04  ...   340   440   520   760  1100   \n",
       "1       14632.914598          4.400000e+01  ...  1500  2000  2400  3800  7100   \n",
       "2        4412.297406          6.566098e+05  ...   590   780   910  1400  1900   \n",
       "3        5651.871172          1.158141e+06  ...  1500  1800  2000  2600  3200   \n",
       "4        4226.472146          6.740015e+05  ...   500   650   750  1200  1600   \n",
       "\n",
       "     98%    99%  99.9%  99.99%   100%  \n",
       "0   1500   1800   3600   24000  24000  \n",
       "1  10000  11000  14000   15000  15000  \n",
       "2   2600   2900   3600    4400   4400  \n",
       "3   3800   4200   5400    5700   5700  \n",
       "4   2100   2600   3400    4200   4200  \n",
       "\n",
       "[5 rows x 23 columns]"
      ]
     },
     "execution_count": 19,
     "metadata": {},
     "output_type": "execute_result"
    }
   ],
   "source": [
    "big_data.head()"
   ]
  },
  {
   "cell_type": "code",
   "execution_count": null,
   "metadata": {},
   "outputs": [],
   "source": [
    "big_data.columns"
   ]
  },
  {
   "cell_type": "code",
   "execution_count": null,
   "metadata": {},
   "outputs": [],
   "source": [
    "big_data.info()"
   ]
  },
  {
   "cell_type": "code",
   "execution_count": 54,
   "metadata": {},
   "outputs": [
    {
     "ename": "OSError",
     "evalue": "[Errno 22] Invalid argument",
     "output_type": "error",
     "traceback": [
      "\u001b[1;31m---------------------------------------------------------------------------\u001b[0m",
      "\u001b[1;31mOSError\u001b[0m                                   Traceback (most recent call last)",
      "\u001b[1;32mc:\\Users\\Yasir\\Documents\\GitHub\\DS_-_ITF_Just_Working_Directory\\Loadtest\\load test_time.ipynb Cell 6\u001b[0m in \u001b[0;36m<cell line: 1>\u001b[1;34m()\u001b[0m\n\u001b[1;32m----> <a href='vscode-notebook-cell:/c%3A/Users/Yasir/Documents/GitHub/DS_-_ITF_Just_Working_Directory/Loadtest/load%20test_time.ipynb#X23sZmlsZQ%3D%3D?line=0'>1</a>\u001b[0m datetime\u001b[39m.\u001b[39;49mdatetime\u001b[39m.\u001b[39;49mutcfromtimestamp(\u001b[39m20220826020539\u001b[39;49m)\n",
      "\u001b[1;31mOSError\u001b[0m: [Errno 22] Invalid argument"
     ]
    }
   ],
   "source": [
    "datetime.datetime.utcfromtimestamp(20220826020539)"
   ]
  },
  {
   "cell_type": "code",
   "execution_count": 57,
   "metadata": {},
   "outputs": [
    {
     "ename": "ValueError",
     "evalue": "cannot cast unit MS",
     "output_type": "error",
     "traceback": [
      "\u001b[1;31m---------------------------------------------------------------------------\u001b[0m",
      "\u001b[1;31mValueError\u001b[0m                                Traceback (most recent call last)",
      "\u001b[1;31mValueError\u001b[0m: cannot cast unit MS"
     ]
    },
    {
     "name": "stderr",
     "output_type": "stream",
     "text": [
      "Exception ignored in: 'pandas._libs.tslibs.conversion.precision_from_unit'\n",
      "Traceback (most recent call last):\n",
      "  File \"c:\\ProgramData\\Anaconda3\\lib\\site-packages\\pandas\\core\\tools\\datetimes.py\", line 530, in _to_datetime_with_unit\n",
      "    arr, tz_parsed = tslib.array_with_unit_to_datetime(arg, unit, errors=errors)\n",
      "ValueError: cannot cast unit MS\n"
     ]
    },
    {
     "ename": "OutOfBoundsDatetime",
     "evalue": "cannot convert input with unit 'MS'",
     "output_type": "error",
     "traceback": [
      "\u001b[1;31m---------------------------------------------------------------------------\u001b[0m",
      "\u001b[1;31mOutOfBoundsDatetime\u001b[0m                       Traceback (most recent call last)",
      "\u001b[1;32mc:\\Users\\Yasir\\Documents\\GitHub\\DS_-_ITF_Just_Working_Directory\\Loadtest\\load test_time.ipynb Cell 7\u001b[0m in \u001b[0;36m<cell line: 1>\u001b[1;34m()\u001b[0m\n\u001b[1;32m----> <a href='vscode-notebook-cell:/c%3A/Users/Yasir/Documents/GitHub/DS_-_ITF_Just_Working_Directory/Loadtest/load%20test_time.ipynb#X22sZmlsZQ%3D%3D?line=0'>1</a>\u001b[0m pd\u001b[39m.\u001b[39;49mto_datetime(\u001b[39mint\u001b[39;49m(\u001b[39m'\u001b[39;49m\u001b[39m20220826020539\u001b[39;49m\u001b[39m'\u001b[39;49m), utc\u001b[39m=\u001b[39;49m\u001b[39mTrue\u001b[39;49;00m, unit\u001b[39m=\u001b[39;49m\u001b[39m\"\u001b[39;49m\u001b[39mMS\u001b[39;49m\u001b[39m\"\u001b[39;49m)\n",
      "File \u001b[1;32mc:\\ProgramData\\Anaconda3\\lib\\site-packages\\pandas\\core\\tools\\datetimes.py:1078\u001b[0m, in \u001b[0;36mto_datetime\u001b[1;34m(arg, errors, dayfirst, yearfirst, utc, format, exact, unit, infer_datetime_format, origin, cache)\u001b[0m\n\u001b[0;32m   1076\u001b[0m         result \u001b[39m=\u001b[39m convert_listlike(arg, \u001b[39mformat\u001b[39m)\n\u001b[0;32m   1077\u001b[0m \u001b[39melse\u001b[39;00m:\n\u001b[1;32m-> 1078\u001b[0m     result \u001b[39m=\u001b[39m convert_listlike(np\u001b[39m.\u001b[39;49marray([arg]), \u001b[39mformat\u001b[39;49m)[\u001b[39m0\u001b[39m]\n\u001b[0;32m   1080\u001b[0m \u001b[39m#  error: Incompatible return value type (got \"Union[Timestamp, NaTType,\u001b[39;00m\n\u001b[0;32m   1081\u001b[0m \u001b[39m# Series, Index]\", expected \"Union[DatetimeIndex, Series, float, str,\u001b[39;00m\n\u001b[0;32m   1082\u001b[0m \u001b[39m# NaTType, None]\")\u001b[39;00m\n\u001b[0;32m   1083\u001b[0m \u001b[39mreturn\u001b[39;00m result\n",
      "File \u001b[1;32mc:\\ProgramData\\Anaconda3\\lib\\site-packages\\pandas\\core\\tools\\datetimes.py:357\u001b[0m, in \u001b[0;36m_convert_listlike_datetimes\u001b[1;34m(arg, format, name, tz, unit, errors, infer_datetime_format, dayfirst, yearfirst, exact)\u001b[0m\n\u001b[0;32m    355\u001b[0m     \u001b[39mif\u001b[39;00m \u001b[39mformat\u001b[39m \u001b[39mis\u001b[39;00m \u001b[39mnot\u001b[39;00m \u001b[39mNone\u001b[39;00m:\n\u001b[0;32m    356\u001b[0m         \u001b[39mraise\u001b[39;00m \u001b[39mValueError\u001b[39;00m(\u001b[39m\"\u001b[39m\u001b[39mcannot specify both format and unit\u001b[39m\u001b[39m\"\u001b[39m)\n\u001b[1;32m--> 357\u001b[0m     \u001b[39mreturn\u001b[39;00m _to_datetime_with_unit(arg, unit, name, tz, errors)\n\u001b[0;32m    358\u001b[0m \u001b[39melif\u001b[39;00m \u001b[39mgetattr\u001b[39m(arg, \u001b[39m\"\u001b[39m\u001b[39mndim\u001b[39m\u001b[39m\"\u001b[39m, \u001b[39m1\u001b[39m) \u001b[39m>\u001b[39m \u001b[39m1\u001b[39m:\n\u001b[0;32m    359\u001b[0m     \u001b[39mraise\u001b[39;00m \u001b[39mTypeError\u001b[39;00m(\n\u001b[0;32m    360\u001b[0m         \u001b[39m\"\u001b[39m\u001b[39marg must be a string, datetime, list, tuple, 1-d array, or Series\u001b[39m\u001b[39m\"\u001b[39m\n\u001b[0;32m    361\u001b[0m     )\n",
      "File \u001b[1;32mc:\\ProgramData\\Anaconda3\\lib\\site-packages\\pandas\\core\\tools\\datetimes.py:530\u001b[0m, in \u001b[0;36m_to_datetime_with_unit\u001b[1;34m(arg, unit, name, tz, errors)\u001b[0m\n\u001b[0;32m    528\u001b[0m \u001b[39melse\u001b[39;00m:\n\u001b[0;32m    529\u001b[0m     arg \u001b[39m=\u001b[39m np\u001b[39m.\u001b[39masarray(arg)\n\u001b[1;32m--> 530\u001b[0m     arr, tz_parsed \u001b[39m=\u001b[39m tslib\u001b[39m.\u001b[39;49marray_with_unit_to_datetime(arg, unit, errors\u001b[39m=\u001b[39;49merrors)\n\u001b[0;32m    532\u001b[0m \u001b[39mif\u001b[39;00m errors \u001b[39m==\u001b[39m \u001b[39m\"\u001b[39m\u001b[39mignore\u001b[39m\u001b[39m\"\u001b[39m:\n\u001b[0;32m    533\u001b[0m     \u001b[39m# Index constructor _may_ infer to DatetimeIndex\u001b[39;00m\n\u001b[0;32m    534\u001b[0m     result \u001b[39m=\u001b[39m Index\u001b[39m.\u001b[39m_with_infer(arr, name\u001b[39m=\u001b[39mname)\n",
      "File \u001b[1;32mc:\\ProgramData\\Anaconda3\\lib\\site-packages\\pandas\\_libs\\tslib.pyx:266\u001b[0m, in \u001b[0;36mpandas._libs.tslib.array_with_unit_to_datetime\u001b[1;34m()\u001b[0m\n",
      "\u001b[1;31mOutOfBoundsDatetime\u001b[0m: cannot convert input with unit 'MS'"
     ]
    }
   ],
   "source": [
    "pd.to_datetime(int('20220826020539'), utc=True, unit=\"MS\")\n"
   ]
  },
  {
   "cell_type": "code",
   "execution_count": 43,
   "metadata": {},
   "outputs": [
    {
     "data": {
      "text/plain": [
       "20220826020539"
      ]
     },
     "execution_count": 43,
     "metadata": {},
     "output_type": "execute_result"
    }
   ],
   "source": [
    "big_data['TimeStamp'][0]"
   ]
  },
  {
   "cell_type": "code",
   "execution_count": 47,
   "metadata": {},
   "outputs": [
    {
     "data": {
      "text/plain": [
       "datetime.datetime(2034, 1, 28, 20, 36, 42, 53900)"
      ]
     },
     "execution_count": 47,
     "metadata": {},
     "output_type": "execute_result"
    }
   ],
   "source": [
    "your_timestamp = 20220826020539\n",
    "date = datetime.datetime.fromtimestamp(your_timestamp, unit)\n",
    "date"
   ]
  },
  {
   "cell_type": "code",
   "execution_count": 45,
   "metadata": {},
   "outputs": [
    {
     "data": {
      "text/plain": [
       "datetime.datetime(2610, 10, 10, 11, 7, 0, 539001)"
      ]
     },
     "execution_count": 45,
     "metadata": {},
     "output_type": "execute_result"
    }
   ],
   "source": [
    "date"
   ]
  },
  {
   "cell_type": "code",
   "execution_count": 42,
   "metadata": {},
   "outputs": [
    {
     "ename": "OSError",
     "evalue": "[Errno 22] Invalid argument",
     "output_type": "error",
     "traceback": [
      "\u001b[1;31m---------------------------------------------------------------------------\u001b[0m",
      "\u001b[1;31mOSError\u001b[0m                                   Traceback (most recent call last)",
      "\u001b[1;32mc:\\Users\\Yasir\\Documents\\GitHub\\DS_-_ITF_Just_Working_Directory\\Loadtest\\load test_time.ipynb Cell 6\u001b[0m in \u001b[0;36m<cell line: 1>\u001b[1;34m()\u001b[0m\n\u001b[1;32m----> <a href='vscode-notebook-cell:/c%3A/Users/Yasir/Documents/GitHub/DS_-_ITF_Just_Working_Directory/Loadtest/load%20test_time.ipynb#X15sZmlsZQ%3D%3D?line=0'>1</a>\u001b[0m big_data[\u001b[39m'\u001b[39m\u001b[39mdate\u001b[39m\u001b[39m'\u001b[39m] \u001b[39m=\u001b[39mbig_data[\u001b[39m'\u001b[39;49m\u001b[39mTimeStamp\u001b[39;49m\u001b[39m'\u001b[39;49m]\u001b[39m.\u001b[39;49mapply(\u001b[39mlambda\u001b[39;49;00m d: datetime\u001b[39m.\u001b[39;49mdate\u001b[39m.\u001b[39;49mfromtimestamp(d))\n",
      "File \u001b[1;32mc:\\ProgramData\\Anaconda3\\lib\\site-packages\\pandas\\core\\series.py:4433\u001b[0m, in \u001b[0;36mSeries.apply\u001b[1;34m(self, func, convert_dtype, args, **kwargs)\u001b[0m\n\u001b[0;32m   4323\u001b[0m \u001b[39mdef\u001b[39;00m \u001b[39mapply\u001b[39m(\n\u001b[0;32m   4324\u001b[0m     \u001b[39mself\u001b[39m,\n\u001b[0;32m   4325\u001b[0m     func: AggFuncType,\n\u001b[1;32m   (...)\u001b[0m\n\u001b[0;32m   4328\u001b[0m     \u001b[39m*\u001b[39m\u001b[39m*\u001b[39mkwargs,\n\u001b[0;32m   4329\u001b[0m ) \u001b[39m-\u001b[39m\u001b[39m>\u001b[39m DataFrame \u001b[39m|\u001b[39m Series:\n\u001b[0;32m   4330\u001b[0m     \u001b[39m\"\"\"\u001b[39;00m\n\u001b[0;32m   4331\u001b[0m \u001b[39m    Invoke function on values of Series.\u001b[39;00m\n\u001b[0;32m   4332\u001b[0m \n\u001b[1;32m   (...)\u001b[0m\n\u001b[0;32m   4431\u001b[0m \u001b[39m    dtype: float64\u001b[39;00m\n\u001b[0;32m   4432\u001b[0m \u001b[39m    \"\"\"\u001b[39;00m\n\u001b[1;32m-> 4433\u001b[0m     \u001b[39mreturn\u001b[39;00m SeriesApply(\u001b[39mself\u001b[39;49m, func, convert_dtype, args, kwargs)\u001b[39m.\u001b[39;49mapply()\n",
      "File \u001b[1;32mc:\\ProgramData\\Anaconda3\\lib\\site-packages\\pandas\\core\\apply.py:1082\u001b[0m, in \u001b[0;36mSeriesApply.apply\u001b[1;34m(self)\u001b[0m\n\u001b[0;32m   1078\u001b[0m \u001b[39mif\u001b[39;00m \u001b[39misinstance\u001b[39m(\u001b[39mself\u001b[39m\u001b[39m.\u001b[39mf, \u001b[39mstr\u001b[39m):\n\u001b[0;32m   1079\u001b[0m     \u001b[39m# if we are a string, try to dispatch\u001b[39;00m\n\u001b[0;32m   1080\u001b[0m     \u001b[39mreturn\u001b[39;00m \u001b[39mself\u001b[39m\u001b[39m.\u001b[39mapply_str()\n\u001b[1;32m-> 1082\u001b[0m \u001b[39mreturn\u001b[39;00m \u001b[39mself\u001b[39;49m\u001b[39m.\u001b[39;49mapply_standard()\n",
      "File \u001b[1;32mc:\\ProgramData\\Anaconda3\\lib\\site-packages\\pandas\\core\\apply.py:1137\u001b[0m, in \u001b[0;36mSeriesApply.apply_standard\u001b[1;34m(self)\u001b[0m\n\u001b[0;32m   1131\u001b[0m         values \u001b[39m=\u001b[39m obj\u001b[39m.\u001b[39mastype(\u001b[39mobject\u001b[39m)\u001b[39m.\u001b[39m_values\n\u001b[0;32m   1132\u001b[0m         \u001b[39m# error: Argument 2 to \"map_infer\" has incompatible type\u001b[39;00m\n\u001b[0;32m   1133\u001b[0m         \u001b[39m# \"Union[Callable[..., Any], str, List[Union[Callable[..., Any], str]],\u001b[39;00m\n\u001b[0;32m   1134\u001b[0m         \u001b[39m# Dict[Hashable, Union[Union[Callable[..., Any], str],\u001b[39;00m\n\u001b[0;32m   1135\u001b[0m         \u001b[39m# List[Union[Callable[..., Any], str]]]]]\"; expected\u001b[39;00m\n\u001b[0;32m   1136\u001b[0m         \u001b[39m# \"Callable[[Any], Any]\"\u001b[39;00m\n\u001b[1;32m-> 1137\u001b[0m         mapped \u001b[39m=\u001b[39m lib\u001b[39m.\u001b[39;49mmap_infer(\n\u001b[0;32m   1138\u001b[0m             values,\n\u001b[0;32m   1139\u001b[0m             f,  \u001b[39m# type: ignore[arg-type]\u001b[39;49;00m\n\u001b[0;32m   1140\u001b[0m             convert\u001b[39m=\u001b[39;49m\u001b[39mself\u001b[39;49m\u001b[39m.\u001b[39;49mconvert_dtype,\n\u001b[0;32m   1141\u001b[0m         )\n\u001b[0;32m   1143\u001b[0m \u001b[39mif\u001b[39;00m \u001b[39mlen\u001b[39m(mapped) \u001b[39mand\u001b[39;00m \u001b[39misinstance\u001b[39m(mapped[\u001b[39m0\u001b[39m], ABCSeries):\n\u001b[0;32m   1144\u001b[0m     \u001b[39m# GH#43986 Need to do list(mapped) in order to get treated as nested\u001b[39;00m\n\u001b[0;32m   1145\u001b[0m     \u001b[39m#  See also GH#25959 regarding EA support\u001b[39;00m\n\u001b[0;32m   1146\u001b[0m     \u001b[39mreturn\u001b[39;00m obj\u001b[39m.\u001b[39m_constructor_expanddim(\u001b[39mlist\u001b[39m(mapped), index\u001b[39m=\u001b[39mobj\u001b[39m.\u001b[39mindex)\n",
      "File \u001b[1;32mc:\\ProgramData\\Anaconda3\\lib\\site-packages\\pandas\\_libs\\lib.pyx:2870\u001b[0m, in \u001b[0;36mpandas._libs.lib.map_infer\u001b[1;34m()\u001b[0m\n",
      "\u001b[1;32mc:\\Users\\Yasir\\Documents\\GitHub\\DS_-_ITF_Just_Working_Directory\\Loadtest\\load test_time.ipynb Cell 6\u001b[0m in \u001b[0;36m<lambda>\u001b[1;34m(d)\u001b[0m\n\u001b[1;32m----> <a href='vscode-notebook-cell:/c%3A/Users/Yasir/Documents/GitHub/DS_-_ITF_Just_Working_Directory/Loadtest/load%20test_time.ipynb#X15sZmlsZQ%3D%3D?line=0'>1</a>\u001b[0m big_data[\u001b[39m'\u001b[39m\u001b[39mdate\u001b[39m\u001b[39m'\u001b[39m] \u001b[39m=\u001b[39mbig_data[\u001b[39m'\u001b[39m\u001b[39mTimeStamp\u001b[39m\u001b[39m'\u001b[39m]\u001b[39m.\u001b[39mapply(\u001b[39mlambda\u001b[39;00m d: datetime\u001b[39m.\u001b[39;49mdate\u001b[39m.\u001b[39;49mfromtimestamp(d))\n",
      "\u001b[1;31mOSError\u001b[0m: [Errno 22] Invalid argument"
     ]
    }
   ],
   "source": [
    "big_data['date'] =big_data['TimeStamp'].apply(lambda d: datetime.date.fromtimestamp(d))"
   ]
  },
  {
   "cell_type": "code",
   "execution_count": 33,
   "metadata": {},
   "outputs": [
    {
     "data": {
      "text/plain": [
       "20220826020539"
      ]
     },
     "execution_count": 33,
     "metadata": {},
     "output_type": "execute_result"
    }
   ],
   "source": [
    "big_data[\"TimeStamp\"][0]"
   ]
  },
  {
   "cell_type": "code",
   "execution_count": 41,
   "metadata": {},
   "outputs": [
    {
     "name": "stdout",
     "output_type": "stream",
     "text": [
      "2034-01-28 20:36:42\n"
     ]
    }
   ],
   "source": [
    "timestamp = datetime.datetime.fromtimestamp(2022082602)\n",
    "print(timestamp.strftime('%Y-%m-%d %H:%M:%S'))"
   ]
  },
  {
   "cell_type": "code",
   "execution_count": 30,
   "metadata": {},
   "outputs": [
    {
     "ename": "TypeError",
     "evalue": "cannot convert the series to <class 'int'>",
     "output_type": "error",
     "traceback": [
      "\u001b[1;31m---------------------------------------------------------------------------\u001b[0m",
      "\u001b[1;31mTypeError\u001b[0m                                 Traceback (most recent call last)",
      "\u001b[1;32mc:\\Users\\Yasir\\Documents\\GitHub\\DS_-_ITF_Just_Working_Directory\\Loadtest\\load test_time.ipynb Cell 6\u001b[0m in \u001b[0;36m<cell line: 1>\u001b[1;34m()\u001b[0m\n\u001b[1;32m----> <a href='vscode-notebook-cell:/c%3A/Users/Yasir/Documents/GitHub/DS_-_ITF_Just_Working_Directory/Loadtest/load%20test_time.ipynb#X12sZmlsZQ%3D%3D?line=0'>1</a>\u001b[0m d_time \u001b[39m=\u001b[39m datetime\u001b[39m.\u001b[39;49mdate(big_data[\u001b[39m\"\u001b[39;49m\u001b[39mTimeStamp\u001b[39;49m\u001b[39m\"\u001b[39;49m])\n",
      "File \u001b[1;32mc:\\ProgramData\\Anaconda3\\lib\\site-packages\\pandas\\core\\series.py:191\u001b[0m, in \u001b[0;36m_coerce_method.<locals>.wrapper\u001b[1;34m(self)\u001b[0m\n\u001b[0;32m    189\u001b[0m \u001b[39mif\u001b[39;00m \u001b[39mlen\u001b[39m(\u001b[39mself\u001b[39m) \u001b[39m==\u001b[39m \u001b[39m1\u001b[39m:\n\u001b[0;32m    190\u001b[0m     \u001b[39mreturn\u001b[39;00m converter(\u001b[39mself\u001b[39m\u001b[39m.\u001b[39miloc[\u001b[39m0\u001b[39m])\n\u001b[1;32m--> 191\u001b[0m \u001b[39mraise\u001b[39;00m \u001b[39mTypeError\u001b[39;00m(\u001b[39mf\u001b[39m\u001b[39m\"\u001b[39m\u001b[39mcannot convert the series to \u001b[39m\u001b[39m{\u001b[39;00mconverter\u001b[39m}\u001b[39;00m\u001b[39m\"\u001b[39m)\n",
      "\u001b[1;31mTypeError\u001b[0m: cannot convert the series to <class 'int'>"
     ]
    }
   ],
   "source": [
    "d_time = datetime.date(big_data[\"TimeStamp\"])"
   ]
  },
  {
   "cell_type": "code",
   "execution_count": 21,
   "metadata": {},
   "outputs": [
    {
     "data": {
      "text/plain": [
       "0     1970-01-01 05:37:00.826020539\n",
       "1     1970-01-01 05:37:00.826020539\n",
       "2     1970-01-01 05:37:00.826020539\n",
       "3     1970-01-01 05:37:00.826020539\n",
       "4     1970-01-01 05:37:00.826020539\n",
       "                   ...             \n",
       "132   1970-01-01 05:36:51.023215433\n",
       "133   1970-01-01 05:36:51.023215433\n",
       "134   1970-01-01 05:36:51.023172912\n",
       "135   1970-01-01 05:36:51.023172912\n",
       "136   1970-01-01 05:36:51.023172912\n",
       "Name: TimeStamp, Length: 137, dtype: datetime64[ns]"
      ]
     },
     "execution_count": 21,
     "metadata": {},
     "output_type": "execute_result"
    }
   ],
   "source": [
    "big_data[\"TimeStamp\"] = pd.to_datetime(big_data[\"TimeStamp\"])\n",
    "big_data[\"TimeStamp\"].trftime('%d-%m-%Y %H:%M')"
   ]
  },
  {
   "cell_type": "code",
   "execution_count": 27,
   "metadata": {},
   "outputs": [
    {
     "ename": "TypeError",
     "evalue": "Cannot convert input [0      20220826020539\n1      20220826020539\n2      20220826020539\n3      20220826020539\n4      20220826020539\n            ...      \n132    20211023215433\n133    20211023215433\n134    20211023172912\n135    20211023172912\n136    20211023172912\nName: TimeStamp, Length: 137, dtype: int64] of type <class 'pandas.core.series.Series'> to Timestamp",
     "output_type": "error",
     "traceback": [
      "\u001b[1;31m---------------------------------------------------------------------------\u001b[0m",
      "\u001b[1;31mTypeError\u001b[0m                                 Traceback (most recent call last)",
      "\u001b[1;32mc:\\Users\\Yasir\\Documents\\GitHub\\DS_-_ITF_Just_Working_Directory\\Loadtest\\load test_time.ipynb Cell 7\u001b[0m in \u001b[0;36m<cell line: 1>\u001b[1;34m()\u001b[0m\n\u001b[1;32m----> <a href='vscode-notebook-cell:/c%3A/Users/Yasir/Documents/GitHub/DS_-_ITF_Just_Working_Directory/Loadtest/load%20test_time.ipynb#X11sZmlsZQ%3D%3D?line=0'>1</a>\u001b[0m t \u001b[39m=\u001b[39m pd\u001b[39m.\u001b[39;49mTimestamp(big_data[\u001b[39m\"\u001b[39;49m\u001b[39mTimeStamp\u001b[39;49m\u001b[39m\"\u001b[39;49m])\n\u001b[0;32m      <a href='vscode-notebook-cell:/c%3A/Users/Yasir/Documents/GitHub/DS_-_ITF_Just_Working_Directory/Loadtest/load%20test_time.ipynb#X11sZmlsZQ%3D%3D?line=1'>2</a>\u001b[0m t\n",
      "File \u001b[1;32mc:\\ProgramData\\Anaconda3\\lib\\site-packages\\pandas\\_libs\\tslibs\\timestamps.pyx:1399\u001b[0m, in \u001b[0;36mpandas._libs.tslibs.timestamps.Timestamp.__new__\u001b[1;34m()\u001b[0m\n",
      "File \u001b[1;32mc:\\ProgramData\\Anaconda3\\lib\\site-packages\\pandas\\_libs\\tslibs\\conversion.pyx:446\u001b[0m, in \u001b[0;36mpandas._libs.tslibs.conversion.convert_to_tsobject\u001b[1;34m()\u001b[0m\n",
      "\u001b[1;31mTypeError\u001b[0m: Cannot convert input [0      20220826020539\n1      20220826020539\n2      20220826020539\n3      20220826020539\n4      20220826020539\n            ...      \n132    20211023215433\n133    20211023215433\n134    20211023172912\n135    20211023172912\n136    20211023172912\nName: TimeStamp, Length: 137, dtype: int64] of type <class 'pandas.core.series.Series'> to Timestamp"
     ]
    }
   ],
   "source": [
    "t = pd.Timestamp(big_data[\"TimeStamp\"])\n",
    "t"
   ]
  },
  {
   "cell_type": "code",
   "execution_count": 23,
   "metadata": {},
   "outputs": [
    {
     "ename": "AttributeError",
     "evalue": "'Series' object has no attribute 'strftime'",
     "output_type": "error",
     "traceback": [
      "\u001b[1;31m---------------------------------------------------------------------------\u001b[0m",
      "\u001b[1;31mAttributeError\u001b[0m                            Traceback (most recent call last)",
      "\u001b[1;32mc:\\Users\\Yasir\\Documents\\GitHub\\DS_-_ITF_Just_Working_Directory\\Loadtest\\load test_time.ipynb Cell 7\u001b[0m in \u001b[0;36m<cell line: 1>\u001b[1;34m()\u001b[0m\n\u001b[1;32m----> <a href='vscode-notebook-cell:/c%3A/Users/Yasir/Documents/GitHub/DS_-_ITF_Just_Working_Directory/Loadtest/load%20test_time.ipynb#W6sZmlsZQ%3D%3D?line=0'>1</a>\u001b[0m big_data[\u001b[39m\"\u001b[39;49m\u001b[39mTimeStamp\u001b[39;49m\u001b[39m\"\u001b[39;49m]\u001b[39m.\u001b[39;49mstrftime(\u001b[39m'\u001b[39m\u001b[39m%d\u001b[39;00m\u001b[39m-\u001b[39m\u001b[39m%\u001b[39m\u001b[39mm-\u001b[39m\u001b[39m%\u001b[39m\u001b[39mY \u001b[39m\u001b[39m%\u001b[39m\u001b[39mH:\u001b[39m\u001b[39m%\u001b[39m\u001b[39mM\u001b[39m\u001b[39m'\u001b[39m)\n",
      "File \u001b[1;32mc:\\ProgramData\\Anaconda3\\lib\\site-packages\\pandas\\core\\generic.py:5575\u001b[0m, in \u001b[0;36mNDFrame.__getattr__\u001b[1;34m(self, name)\u001b[0m\n\u001b[0;32m   5568\u001b[0m \u001b[39mif\u001b[39;00m (\n\u001b[0;32m   5569\u001b[0m     name \u001b[39mnot\u001b[39;00m \u001b[39min\u001b[39;00m \u001b[39mself\u001b[39m\u001b[39m.\u001b[39m_internal_names_set\n\u001b[0;32m   5570\u001b[0m     \u001b[39mand\u001b[39;00m name \u001b[39mnot\u001b[39;00m \u001b[39min\u001b[39;00m \u001b[39mself\u001b[39m\u001b[39m.\u001b[39m_metadata\n\u001b[0;32m   5571\u001b[0m     \u001b[39mand\u001b[39;00m name \u001b[39mnot\u001b[39;00m \u001b[39min\u001b[39;00m \u001b[39mself\u001b[39m\u001b[39m.\u001b[39m_accessors\n\u001b[0;32m   5572\u001b[0m     \u001b[39mand\u001b[39;00m \u001b[39mself\u001b[39m\u001b[39m.\u001b[39m_info_axis\u001b[39m.\u001b[39m_can_hold_identifiers_and_holds_name(name)\n\u001b[0;32m   5573\u001b[0m ):\n\u001b[0;32m   5574\u001b[0m     \u001b[39mreturn\u001b[39;00m \u001b[39mself\u001b[39m[name]\n\u001b[1;32m-> 5575\u001b[0m \u001b[39mreturn\u001b[39;00m \u001b[39mobject\u001b[39;49m\u001b[39m.\u001b[39;49m\u001b[39m__getattribute__\u001b[39;49m(\u001b[39mself\u001b[39;49m, name)\n",
      "\u001b[1;31mAttributeError\u001b[0m: 'Series' object has no attribute 'strftime'"
     ]
    }
   ],
   "source": [
    "big_data[\"TimeStamp\"].strftime('%d-%m-%Y %H:%M')"
   ]
  }
 ],
 "metadata": {
  "kernelspec": {
   "display_name": "Python 3.9.12 ('base')",
   "language": "python",
   "name": "python3"
  },
  "language_info": {
   "codemirror_mode": {
    "name": "ipython",
    "version": 3
   },
   "file_extension": ".py",
   "mimetype": "text/x-python",
   "name": "python",
   "nbconvert_exporter": "python",
   "pygments_lexer": "ipython3",
   "version": "3.9.12"
  },
  "orig_nbformat": 4,
  "vscode": {
   "interpreter": {
    "hash": "ad2bdc8ecc057115af97d19610ffacc2b4e99fae6737bb82f5d7fb13d2f2c186"
   }
  }
 },
 "nbformat": 4,
 "nbformat_minor": 2
}
