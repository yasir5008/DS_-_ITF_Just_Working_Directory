{
 "cells": [
  {
   "cell_type": "markdown",
   "metadata": {},
   "source": [
    "EC2 instance kur ve calistir.\n",
    "VS Code’u ac.\n",
    "VS Code sol alttan “Open a Remote Window”a tikla.\n",
    "Open SSH Configuration File’a tikla.\n",
    "Users/macboook/ssh/config’e tikla.\n",
    "Burada instance’in public IPv4 adresini hostname’a kopyala. Ayrica pem key’in path’ini IdentityFile’a kopyala ve kaydet.\n",
    "Pem anahtarini desktop’a da kopyalayip config sayfasinda onun path’ini kopyalayabilirim.\n",
    "Ardindan yine Open a Remote Window’a tikla ve cikan ekrandan Connect to Host’a tikla ve hostname adlandirma sayfasinda verdiginiz config ismine tikla.\n",
    "Baglanti saglandiktan sonra open folder ec2-user klasorune baglan.\n",
    "Yeni terminal ac. Su anda cloud’daki bilgisayara baglandin.\n",
    "Cd ile home page’e git ve burada .envs adinda bir klasor olustur.\n",
    "Ardindan cd .envs ile bu klasorun icine gir ve “python3 -m venv env_streamlit” yaz ve enter’a bas.\n",
    "Ardindan “source env_streamlit/bin/activate” yap.\n",
    "Ardindan bu env_streamlit adindaki virtual environment’a kuracagimiz kutuphaneleri bir txt explorer’da bir txt dosyasi acarak icine kopyaliyoruz.\n",
    "Olusturdugumuz dosyada pakenler ve karsilarinda surumleri var, ornegin seaborn==0.11.2\n",
    "Bunlari kurmak icin venv icindeysen “pip3 install -r requirements.txt” yapiyoruz.\n",
    "“pip3 list” ile kurulan paketleri goruntuleyebiliyorum.\n",
    "Activate yaptigim klasoru deactivate yaparak cikis yapabiliyorum.\n",
    "Bu yaptiklarimizin aynisini local’de olusturdugumuz bir klasore de yapiyoruz."
   ]
  },
  {
   "cell_type": "code",
   "execution_count": 1,
   "metadata": {},
   "outputs": [],
   "source": [
    "import streamlit"
   ]
  },
  {
   "cell_type": "code",
   "execution_count": 4,
   "metadata": {},
   "outputs": [
    {
     "data": {
      "text/plain": [
       "DeltaGenerator(_root_container=0, _provided_cursor=None, _parent=None, _block_type=None, _form_data=None)"
      ]
     },
     "execution_count": 4,
     "metadata": {},
     "output_type": "execute_result"
    }
   ],
   "source": [
    "from numpy.random import sample\n",
    "import streamlit as st\n",
    "import pandas as pd\n",
    "import numpy as np\n",
    "import datetime\n",
    "import matplotlib.pyplot as plt\n",
    "from PIL import Image\n",
    "\n",
    "st.title(\"This is a title\")"
   ]
  },
  {
   "cell_type": "code",
   "execution_count": 2,
   "metadata": {},
   "outputs": [],
   "source": [
    "import streamlit as st"
   ]
  },
  {
   "cell_type": "code",
   "execution_count": 3,
   "metadata": {},
   "outputs": [
    {
     "name": "stderr",
     "output_type": "stream",
     "text": [
      "2022-02-20 14:57:23.334 \n",
      "  \u001b[33m\u001b[1mWarning:\u001b[0m to view this Streamlit app on a browser, run it with the following\n",
      "  command:\n",
      "\n",
      "    streamlit run C:\\Users\\yasir\\AppData\\Local\\Packages\\PythonSoftwareFoundation.Python.3.9_qbz5n2kfra8p0\\LocalCache\\local-packages\\Python39\\site-packages\\ipykernel_launcher.py [ARGUMENTS]\n"
     ]
    },
    {
     "data": {
      "text/plain": [
       "DeltaGenerator(_root_container=0, _provided_cursor=None, _parent=None, _block_type=None, _form_data=None)"
      ]
     },
     "execution_count": 3,
     "metadata": {},
     "output_type": "execute_result"
    }
   ],
   "source": [
    "from numpy.random import sample\n",
    "import streamlit as st\n",
    "import pandas as pd\n",
    "import numpy as np\n",
    "import datetime\n",
    "import matplotlib.pyplot as plt\n",
    "from PIL import Image\n",
    "\n",
    "st.title(\"This is a title\")\n",
    "st.text('This is some text.')\n",
    "st.markdown('Streamlit is **_really_ cool**.:+1:')\n",
    "st.markdown(\"# This is a markdown\" )\n",
    "st.markdown(\"## This is a markdown\")\n",
    "st.header(\"This is a header\")\n",
    "st.subheader(\"This is a subheader\")\n",
    "\n",
    "st.success(\"This is a success message\")\n",
    "st.info(\"This is a purely informational message\")\n",
    "st.error(\"This is an error\")\n",
    "st.help(range)\n",
    "st.write(\"Hello, *World!* :sunglasses:\")\n",
    "img = Image.open(\"image.jpeg\")\n",
    "st.image(img,caption=\"cattie\",width=300)\n",
    "st.image(img,caption=\"cattie\",use_column_width=True)"
   ]
  }
 ],
 "metadata": {
  "interpreter": {
   "hash": "f54f548834cd5004815cf7c2a98e656c3454a16c8c6270de2968c01c213389d4"
  },
  "kernelspec": {
   "display_name": "Python 3.9.10 64-bit (windows store)",
   "language": "python",
   "name": "python3"
  },
  "language_info": {
   "codemirror_mode": {
    "name": "ipython",
    "version": 3
   },
   "file_extension": ".py",
   "mimetype": "text/x-python",
   "name": "python",
   "nbconvert_exporter": "python",
   "pygments_lexer": "ipython3",
   "version": "3.9.10"
  },
  "orig_nbformat": 4
 },
 "nbformat": 4,
 "nbformat_minor": 2
}
