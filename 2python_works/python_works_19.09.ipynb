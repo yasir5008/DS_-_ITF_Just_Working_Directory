{
 "cells": [
  {
   "cell_type": "code",
   "execution_count": 2,
   "source": [
    "def sirala(text):\r\n",
    "    harf, rakam = [], []\r\n",
    "    for i in text:\r\n",
    "        if i.isalpha():harf.append(i)\r\n",
    "        else:rakam.append(i)\r\n",
    "    harf.sort()\r\n",
    "    rakam.sort()\r\n",
    "    toplam = harf + rakam\r\n",
    "    sonuc = ''.join(toplam)\r\n",
    "    return sonuc\r\n",
    "\r\n",
    "sirala('MHsdaf1412MMT1453')"
   ],
   "outputs": [
    {
     "output_type": "execute_result",
     "data": {
      "text/plain": [
       "'HMMMTadfs11123445'"
      ]
     },
     "metadata": {},
     "execution_count": 2
    }
   ],
   "metadata": {}
  },
  {
   "cell_type": "code",
   "execution_count": 3,
   "source": [
    "def sort_char(text):\r\n",
    "\r\n",
    "  letters = filter(lambda x: x.isalpha(), text)\r\n",
    "  nums = filter(lambda x: x.isnumeric(), text)\r\n",
    "\r\n",
    "  return \"\".join(sorted(letters) + sorted(nums))\r\n",
    "\r\n",
    "sort_char(\"MHMMT1453\")"
   ],
   "outputs": [
    {
     "output_type": "execute_result",
     "data": {
      "text/plain": [
       "'HMMMT1345'"
      ]
     },
     "metadata": {},
     "execution_count": 3
    }
   ],
   "metadata": {}
  },
  {
   "cell_type": "code",
   "execution_count": 4,
   "source": [
    "text = \"Welcome to the Data Science Path!\"\r\n",
    "\r\n",
    "even_pos = \"\".join([text[x] for x in range(0, len(text), 2)])\r\n",
    "odd_pos = \"\".join([text[x] for x in range(1, len(text), 2)])\r\n",
    "\r\n",
    "print(\"Characters at Even Position: \", even_pos)\r\n",
    "print(\"Characters at Odd Position: \", odd_pos)"
   ],
   "outputs": [
    {
     "output_type": "stream",
     "name": "stdout",
     "text": [
      "Characters at Even Position:  Wloet h aaSinePt!\n",
      "Characters at Odd Position:  ecm oteDt cec ah\n"
     ]
    }
   ],
   "metadata": {}
  },
  {
   "cell_type": "code",
   "execution_count": null,
   "source": [
    "text = \"Welcome to the Data Science Path!\"\r\n",
    "odd = ''.join(list(map(lambda x : text[x] if x % 2 != 0 else '', list(range(len(text))))))\r\n",
    "even = ''.join(list(map(lambda x : text[x] if x % 2 == 0 else '', list(range(len(text))))))\r\n",
    "print('Characters at Even Position: ', even)\r\n",
    "print('Characters at Odd Position: ', odd)"
   ],
   "outputs": [],
   "metadata": {}
  },
  {
   "cell_type": "code",
   "execution_count": 5,
   "source": [
    "liste = [('b', 1), ('c', 2), ('x', 3), ('x', 4), ('z', 0)]\r\n",
    "liste = sorted([i[::-1] for i in liste])\r\n",
    "liste = [i[::-1] for i in liste]\r\n",
    "print(liste)"
   ],
   "outputs": [
    {
     "output_type": "stream",
     "name": "stdout",
     "text": [
      "[('z', 0), ('b', 1), ('c', 2), ('x', 3), ('x', 4)]\n"
     ]
    }
   ],
   "metadata": {}
  },
  {
   "cell_type": "code",
   "execution_count": 6,
   "source": [
    "input=[(\"b\",1),(\"c\",2),(\"x\",3),(\"x\",4),(\"z\",0)]\r\n",
    "dicct={i:j for j,i in input}\r\n",
    "output=[(dicct[k],k) for k in sorted(dicct.keys())]\r\n",
    "print(output)"
   ],
   "outputs": [
    {
     "output_type": "stream",
     "name": "stdout",
     "text": [
      "[('z', 0), ('b', 1), ('c', 2), ('x', 3), ('x', 4)]\n"
     ]
    }
   ],
   "metadata": {}
  },
  {
   "cell_type": "markdown",
   "source": [
    "Herkese iyi akşamlar, iyi hafta sonları:woman-raising-hand:\r\n",
    "This problem was asked by Microsoft.\r\n",
    "Compute the running median of a sequence of numbers. That is, given a\r\n",
    "stream of numbers, print out the median of the list so far on each new\r\n",
    "element.\r\n",
    "Recall that the median of an even-numbered list is the average of the two\r\n",
    "middle numbers.\r\n",
    "For example, given the sequence [2, 1, 5, 7, 2, 0, 5], your algorithm\r\n",
    "should print out:\r\n",
    "2\r\n",
    "1.5\r\n",
    "2\r\n",
    "3.5\r\n",
    "2\r\n",
    "2\r\n",
    "2"
   ],
   "metadata": {}
  },
  {
   "cell_type": "code",
   "execution_count": 14,
   "source": [
    "sequence = [2, 1, 5, 7, 2, 0, 5]\r\n",
    "\r\n"
   ],
   "outputs": [],
   "metadata": {}
  },
  {
   "cell_type": "code",
   "execution_count": 13,
   "source": [
    "def median(liste):\r\n",
    "    for i in range(len(liste)):\r\n",
    "        new = []\r\n",
    "        new.extend(liste[:i + 1])\r\n",
    "        new.sort()\r\n",
    "        if len(new) == 1:\r\n",
    "            b = new[0]\r\n",
    "        elif len(new) % 2 == 0:\r\n",
    "            a = len(new) // 2\r\n",
    "            b = (new[a - 1] + new[a]) / 2\r\n",
    "            if b == int(b):\r\n",
    "                b = int(b)\r\n",
    "        elif len(new) % 2 != 0:\r\n",
    "            a = len(new) // 2\r\n",
    "            b = new[a]\r\n",
    "        print(b)\r\n",
    "\r\n",
    "median([2, 1, 5, 7, 2, 0, 5])"
   ],
   "outputs": [
    {
     "output_type": "stream",
     "name": "stdout",
     "text": [
      "2\n",
      "1.5\n",
      "2\n",
      "3.5\n",
      "2\n",
      "2\n",
      "2\n"
     ]
    }
   ],
   "metadata": {}
  },
  {
   "cell_type": "code",
   "execution_count": null,
   "source": [
    "def sayı(n):\r\n",
    "  t=1\r\n",
    "  l=[]\r\n",
    "  z=[]\r\n",
    "  for i in range(len(n)):\r\n",
    "    x=n[:t]\r\n",
    "    l+=[sorted(x)]\r\n",
    "    t+=1\r\n",
    "  for j in l:\r\n",
    "          if len(j)==1:\r\n",
    "              a=j[0]\r\n",
    "              z.append(a)\r\n",
    "          elif len(j)%2==0:\r\n",
    "              y=len(j)//2\r\n",
    "              a=(j[y]+j[y-1])/2\r\n",
    "              z.append(a)\r\n",
    "          else:\r\n",
    "              y=len(j)//2\r\n",
    "              a=j[y]\r\n",
    "              z.append(a)\r\n",
    "  return z\r\n",
    "print(sayı([2, 1, 5, 7, 2, 0, 5]))"
   ],
   "outputs": [],
   "metadata": {}
  },
  {
   "cell_type": "code",
   "execution_count": null,
   "source": [
    "import statistics as sta\r\n",
    "dizi= [2, 1, 5, 7, 2, 0, 5]\r\n",
    "print([sta.median(dizi[:i]) for i in range(1,len(dizi)+1)])"
   ],
   "outputs": [],
   "metadata": {}
  }
 ],
 "metadata": {
  "orig_nbformat": 4,
  "language_info": {
   "name": "python",
   "version": "3.9.7",
   "mimetype": "text/x-python",
   "codemirror_mode": {
    "name": "ipython",
    "version": 3
   },
   "pygments_lexer": "ipython3",
   "nbconvert_exporter": "python",
   "file_extension": ".py"
  },
  "kernelspec": {
   "name": "python3",
   "display_name": "Python 3.9.7 64-bit"
  },
  "interpreter": {
   "hash": "fe44fef87f92f48a3a32707d0df204585f471652bc0ce87358a3ce712bc24db0"
  }
 },
 "nbformat": 4,
 "nbformat_minor": 2
}