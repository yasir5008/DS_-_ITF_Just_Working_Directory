{
  "cells": [
    {
      "cell_type": "markdown",
      "metadata": {
        "id": "rfUdHCfe1b6v"
      },
      "source": [
        "___\n",
        "\n",
        "<p style=\"text-align: center;\"><img src=\"https://docs.google.com/uc?id=1lY0Uj5R04yMY3-ZppPWxqCr5pvBLYPnV\" class=\"img-fluid\" alt=\"CLRSWY\"></p>\n",
        "\n",
        "___"
      ]
    },
    {
      "cell_type": "markdown",
      "metadata": {
        "cell_style": "split",
        "heading_collapsed": true,
        "id": "CvFxPmf41b6y"
      },
      "source": [
        "# WELCOME!"
      ]
    },
    {
      "cell_type": "markdown",
      "metadata": {
        "cell_style": "split",
        "hidden": true,
        "id": "WZUMKNQY1b6y"
      },
      "source": [
        "In this project, you must apply EDA processes for the development of predictive models. Handling outliers, domain knowledge and feature engineering will be challenges.\n",
        "\n",
        "Also, this project aims to improve your ability to implement algorithms for Multi-Class Classification. Thus, you will have the opportunity to implement many algorithms commonly used for Multi-Class Classification problems.\n",
        "\n",
        "Before diving into the project, please take a look at the determines and tasks."
      ]
    },
    {
      "cell_type": "markdown",
      "metadata": {
        "cell_style": "split",
        "heading_collapsed": true,
        "id": "laCRtJs51b6z"
      },
      "source": [
        "# Determines"
      ]
    },
    {
      "cell_type": "markdown",
      "metadata": {
        "cell_style": "split",
        "hidden": true,
        "id": "iixh9Bej1b6z"
      },
      "source": [
        "The 2012 US Army Anthropometric Survey (ANSUR II) was executed by the Natick Soldier Research, Development and Engineering Center (NSRDEC) from October 2010 to April 2012 and is comprised of personnel representing the total US Army force to include the US Army Active Duty, Reserves, and National Guard. In addition to the anthropometric and demographic data described below, the ANSUR II database also consists of 3D whole body, foot, and head scans of Soldier participants. These 3D data are not publicly available out of respect for the privacy of ANSUR II participants. The data from this survey are used for a wide range of equipment design, sizing, and tariffing applications within the military and has many potential commercial, industrial, and academic applications.\n",
        "\n",
        "The ANSUR II working databases contain 93 anthropometric measurements which were directly measured, and 15 demographic/administrative variables explained below. The ANSUR II Male working database contains a total sample of 4,082 subjects. The ANSUR II Female working database contains a total sample of 1,986 subjects.\n",
        "\n",
        "\n",
        "DATA DICT:\n",
        "https://data.world/datamil/ansur-ii-data-dictionary/workspace/file?filename=ANSUR+II+Databases+Overview.pdf\n",
        "\n",
        "---\n",
        "\n",
        "To achieve high prediction success, you must understand the data well and develop different approaches that can affect the dependent variable.\n",
        "\n",
        "Firstly, try to understand the dataset column by column using pandas module. Do research within the scope of domain (body scales, and race characteristics) knowledge on the internet to get to know the data set in the fastest way. \n",
        "\n",
        "You will implement ***Logistic Regression, Support Vector Machine, XGBoost, Random Forest*** algorithms. Also, evaluate the success of your models with appropriate performance metrics.\n",
        "\n",
        "At the end of the project, choose the most successful model and try to enhance the scores with ***SMOTE*** make it ready to deploy. Furthermore, use ***SHAP*** to explain how the best model you choose works."
      ]
    },
    {
      "cell_type": "markdown",
      "metadata": {
        "cell_style": "split",
        "heading_collapsed": true,
        "id": "P2UckCvP1b60"
      },
      "source": [
        "# Tasks"
      ]
    },
    {
      "cell_type": "markdown",
      "metadata": {
        "cell_style": "split",
        "hidden": true,
        "id": "gCVDEsGB1b60"
      },
      "source": [
        "#### 1. Exploratory Data Analysis (EDA)\n",
        "- Import Libraries, Load Dataset, Exploring Data\n",
        "\n",
        "    *i. Import Libraries*\n",
        "    \n",
        "    *ii. Ingest Data *\n",
        "    \n",
        "    *iii. Explore Data*\n",
        "    \n",
        "    *iv. Outlier Detection*\n",
        "    \n",
        "    *v.  Drop unnecessary features*\n",
        "\n",
        "#### 2. Data Preprocessing\n",
        "- Scale (if needed)\n",
        "- Separete the data frame for evaluation purposes\n",
        "\n",
        "#### 3. Multi-class Classification\n",
        "- Import libraries\n",
        "- Implement SVM Classifer\n",
        "- Implement Decision Tree Classifier\n",
        "- Implement Random Forest Classifer\n",
        "- Implement XGBoost Classifer\n",
        "- Compare The Models\n",
        "\n"
      ]
    },
    {
      "cell_type": "markdown",
      "metadata": {
        "heading_collapsed": true,
        "id": "Y5-Kay1Eqvdj"
      },
      "source": [
        "# EDA\n",
        "- Drop unnecessary colums\n",
        "- Drop DODRace class if value count below 500 (we assume that our data model can't learn if it is below 500)"
      ]
    },
    {
      "cell_type": "markdown",
      "metadata": {
        "heading_collapsed": true,
        "hidden": true,
        "id": "K7UZHtvu1b62"
      },
      "source": [
        "## Import Libraries\n",
        "Besides Numpy and Pandas, you need to import the necessary modules for data visualization, data preprocessing, Model building and tuning.\n",
        "\n",
        "*Note: Check out the course materials.*"
      ]
    },
    {
      "cell_type": "code",
      "execution_count": 1,
      "metadata": {
        "hidden": true,
        "id": "OqnRjwHB1b64"
      },
      "outputs": [],
      "source": [
        "import pandas as pd\n",
        "import numpy as np\n",
        "import matplotlib.pyplot as plt\n",
        "import seaborn as sns\n",
        "plt.rcParams[\"figure.figsize\"] = (10,6)\n",
        "import warnings\n",
        "warnings.filterwarnings(\"ignore\")\n",
        "warnings.warn(\"this will not show\")"
      ]
    },
    {
      "cell_type": "markdown",
      "metadata": {
        "heading_collapsed": true,
        "hidden": true,
        "id": "C5lJeTBu1b65"
      },
      "source": [
        "## Ingest Data from links below and make a dataframe\n",
        "- Soldiers Male : https://query.data.world/s/h3pbhckz5ck4rc7qmt2wlknlnn7esr\n",
        "- Soldiers Female : https://query.data.world/s/sq27zz4hawg32yfxksqwijxmpwmynq"
      ]
    },
    {
      "cell_type": "code",
      "execution_count": null,
      "metadata": {
        "colab": {
          "base_uri": "https://localhost:8080/",
          "height": 17
        },
        "hidden": true,
        "id": "tG5BsWraqX_y",
        "outputId": "a6e730fa-6848-4cfc-becb-284fc8cc99e5"
      },
      "outputs": [
        {
          "data": {
            "application/javascript": "\n        if (window._pyforest_update_imports_cell) { window._pyforest_update_imports_cell('import pandas as pd'); }\n    ",
            "text/plain": [
              "<IPython.core.display.Javascript object>"
            ]
          },
          "metadata": {},
          "output_type": "display_data"
        }
      ],
      "source": []
    },
    {
      "cell_type": "markdown",
      "metadata": {
        "heading_collapsed": true,
        "hidden": true,
        "id": "TMjCTEG51b67"
      },
      "source": [
        "## Explore Data"
      ]
    },
    {
      "cell_type": "code",
      "execution_count": 3,
      "metadata": {
        "colab": {
          "base_uri": "https://localhost:8080/",
          "height": 17
        },
        "hidden": true,
        "id": "SnlGRPWbrNAj",
        "outputId": "29ed8227-1450-4213-e9d1-a2953167d415"
      },
      "outputs": [
        {
          "data": {
            "text/html": [
              "<div>\n",
              "<style scoped>\n",
              "    .dataframe tbody tr th:only-of-type {\n",
              "        vertical-align: middle;\n",
              "    }\n",
              "\n",
              "    .dataframe tbody tr th {\n",
              "        vertical-align: top;\n",
              "    }\n",
              "\n",
              "    .dataframe thead th {\n",
              "        text-align: right;\n",
              "    }\n",
              "</style>\n",
              "<table border=\"1\" class=\"dataframe\">\n",
              "  <thead>\n",
              "    <tr style=\"text-align: right;\">\n",
              "      <th></th>\n",
              "      <th>SubjectId</th>\n",
              "      <th>abdominalextensiondepthsitting</th>\n",
              "      <th>acromialheight</th>\n",
              "      <th>acromionradialelength</th>\n",
              "      <th>anklecircumference</th>\n",
              "      <th>axillaheight</th>\n",
              "      <th>balloffootcircumference</th>\n",
              "      <th>balloffootlength</th>\n",
              "      <th>biacromialbreadth</th>\n",
              "      <th>bicepscircumferenceflexed</th>\n",
              "      <th>...</th>\n",
              "      <th>Branch</th>\n",
              "      <th>PrimaryMOS</th>\n",
              "      <th>SubjectsBirthLocation</th>\n",
              "      <th>SubjectNumericRace</th>\n",
              "      <th>Ethnicity</th>\n",
              "      <th>DODRace</th>\n",
              "      <th>Age</th>\n",
              "      <th>Heightin</th>\n",
              "      <th>Weightlbs</th>\n",
              "      <th>WritingPreference</th>\n",
              "    </tr>\n",
              "  </thead>\n",
              "  <tbody>\n",
              "    <tr>\n",
              "      <th>0</th>\n",
              "      <td>10037</td>\n",
              "      <td>231</td>\n",
              "      <td>1282</td>\n",
              "      <td>301</td>\n",
              "      <td>204</td>\n",
              "      <td>1180</td>\n",
              "      <td>222</td>\n",
              "      <td>177</td>\n",
              "      <td>373</td>\n",
              "      <td>315</td>\n",
              "      <td>...</td>\n",
              "      <td>Combat Support</td>\n",
              "      <td>92Y</td>\n",
              "      <td>Germany</td>\n",
              "      <td>2</td>\n",
              "      <td>NaN</td>\n",
              "      <td>2</td>\n",
              "      <td>26</td>\n",
              "      <td>61</td>\n",
              "      <td>142</td>\n",
              "      <td>Right hand</td>\n",
              "    </tr>\n",
              "    <tr>\n",
              "      <th>1</th>\n",
              "      <td>10038</td>\n",
              "      <td>194</td>\n",
              "      <td>1379</td>\n",
              "      <td>320</td>\n",
              "      <td>207</td>\n",
              "      <td>1292</td>\n",
              "      <td>225</td>\n",
              "      <td>178</td>\n",
              "      <td>372</td>\n",
              "      <td>272</td>\n",
              "      <td>...</td>\n",
              "      <td>Combat Service Support</td>\n",
              "      <td>25U</td>\n",
              "      <td>California</td>\n",
              "      <td>3</td>\n",
              "      <td>Mexican</td>\n",
              "      <td>3</td>\n",
              "      <td>21</td>\n",
              "      <td>64</td>\n",
              "      <td>120</td>\n",
              "      <td>Right hand</td>\n",
              "    </tr>\n",
              "    <tr>\n",
              "      <th>2</th>\n",
              "      <td>10042</td>\n",
              "      <td>183</td>\n",
              "      <td>1369</td>\n",
              "      <td>329</td>\n",
              "      <td>233</td>\n",
              "      <td>1271</td>\n",
              "      <td>237</td>\n",
              "      <td>196</td>\n",
              "      <td>397</td>\n",
              "      <td>300</td>\n",
              "      <td>...</td>\n",
              "      <td>Combat Service Support</td>\n",
              "      <td>35D</td>\n",
              "      <td>Texas</td>\n",
              "      <td>1</td>\n",
              "      <td>NaN</td>\n",
              "      <td>1</td>\n",
              "      <td>23</td>\n",
              "      <td>68</td>\n",
              "      <td>147</td>\n",
              "      <td>Right hand</td>\n",
              "    </tr>\n",
              "    <tr>\n",
              "      <th>3</th>\n",
              "      <td>10043</td>\n",
              "      <td>261</td>\n",
              "      <td>1356</td>\n",
              "      <td>306</td>\n",
              "      <td>214</td>\n",
              "      <td>1250</td>\n",
              "      <td>240</td>\n",
              "      <td>188</td>\n",
              "      <td>384</td>\n",
              "      <td>364</td>\n",
              "      <td>...</td>\n",
              "      <td>Combat Service Support</td>\n",
              "      <td>25U</td>\n",
              "      <td>District of Columbia</td>\n",
              "      <td>8</td>\n",
              "      <td>Caribbean Islander</td>\n",
              "      <td>2</td>\n",
              "      <td>22</td>\n",
              "      <td>66</td>\n",
              "      <td>175</td>\n",
              "      <td>Right hand</td>\n",
              "    </tr>\n",
              "    <tr>\n",
              "      <th>4</th>\n",
              "      <td>10051</td>\n",
              "      <td>309</td>\n",
              "      <td>1303</td>\n",
              "      <td>308</td>\n",
              "      <td>214</td>\n",
              "      <td>1210</td>\n",
              "      <td>217</td>\n",
              "      <td>182</td>\n",
              "      <td>378</td>\n",
              "      <td>320</td>\n",
              "      <td>...</td>\n",
              "      <td>Combat Arms</td>\n",
              "      <td>42A</td>\n",
              "      <td>Texas</td>\n",
              "      <td>1</td>\n",
              "      <td>NaN</td>\n",
              "      <td>1</td>\n",
              "      <td>45</td>\n",
              "      <td>63</td>\n",
              "      <td>195</td>\n",
              "      <td>Right hand</td>\n",
              "    </tr>\n",
              "  </tbody>\n",
              "</table>\n",
              "<p>5 rows × 108 columns</p>\n",
              "</div>"
            ],
            "text/plain": [
              "   SubjectId  abdominalextensiondepthsitting  acromialheight  \\\n",
              "0      10037                             231            1282   \n",
              "1      10038                             194            1379   \n",
              "2      10042                             183            1369   \n",
              "3      10043                             261            1356   \n",
              "4      10051                             309            1303   \n",
              "\n",
              "   acromionradialelength  anklecircumference  axillaheight  \\\n",
              "0                    301                 204          1180   \n",
              "1                    320                 207          1292   \n",
              "2                    329                 233          1271   \n",
              "3                    306                 214          1250   \n",
              "4                    308                 214          1210   \n",
              "\n",
              "   balloffootcircumference  balloffootlength  biacromialbreadth  \\\n",
              "0                      222               177                373   \n",
              "1                      225               178                372   \n",
              "2                      237               196                397   \n",
              "3                      240               188                384   \n",
              "4                      217               182                378   \n",
              "\n",
              "   bicepscircumferenceflexed  ...                  Branch  PrimaryMOS  \\\n",
              "0                        315  ...          Combat Support         92Y   \n",
              "1                        272  ...  Combat Service Support         25U   \n",
              "2                        300  ...  Combat Service Support         35D   \n",
              "3                        364  ...  Combat Service Support         25U   \n",
              "4                        320  ...             Combat Arms         42A   \n",
              "\n",
              "   SubjectsBirthLocation  SubjectNumericRace           Ethnicity  DODRace  \\\n",
              "0                Germany                   2                 NaN        2   \n",
              "1             California                   3             Mexican        3   \n",
              "2                  Texas                   1                 NaN        1   \n",
              "3   District of Columbia                   8  Caribbean Islander        2   \n",
              "4                  Texas                   1                 NaN        1   \n",
              "\n",
              "   Age  Heightin  Weightlbs  WritingPreference  \n",
              "0   26        61        142         Right hand  \n",
              "1   21        64        120         Right hand  \n",
              "2   23        68        147         Right hand  \n",
              "3   22        66        175         Right hand  \n",
              "4   45        63        195         Right hand  \n",
              "\n",
              "[5 rows x 108 columns]"
            ]
          },
          "execution_count": 3,
          "metadata": {},
          "output_type": "execute_result"
        }
      ],
      "source": [
        "df_F = pd.read_csv('ANSUR II FEMALE Public.csv')\n",
        "df_copy = df_F.copy()\n",
        "df_F.head()"
      ]
    },
    {
      "cell_type": "code",
      "execution_count": 9,
      "metadata": {},
      "outputs": [
        {
          "data": {
            "text/html": [
              "<div>\n",
              "<style scoped>\n",
              "    .dataframe tbody tr th:only-of-type {\n",
              "        vertical-align: middle;\n",
              "    }\n",
              "\n",
              "    .dataframe tbody tr th {\n",
              "        vertical-align: top;\n",
              "    }\n",
              "\n",
              "    .dataframe thead th {\n",
              "        text-align: right;\n",
              "    }\n",
              "</style>\n",
              "<table border=\"1\" class=\"dataframe\">\n",
              "  <thead>\n",
              "    <tr style=\"text-align: right;\">\n",
              "      <th></th>\n",
              "      <th>subjectid</th>\n",
              "      <th>abdominalextensiondepthsitting</th>\n",
              "      <th>acromialheight</th>\n",
              "      <th>acromionradialelength</th>\n",
              "      <th>anklecircumference</th>\n",
              "      <th>axillaheight</th>\n",
              "      <th>balloffootcircumference</th>\n",
              "      <th>balloffootlength</th>\n",
              "      <th>biacromialbreadth</th>\n",
              "      <th>bicepscircumferenceflexed</th>\n",
              "      <th>...</th>\n",
              "      <th>Branch</th>\n",
              "      <th>PrimaryMOS</th>\n",
              "      <th>SubjectsBirthLocation</th>\n",
              "      <th>SubjectNumericRace</th>\n",
              "      <th>Ethnicity</th>\n",
              "      <th>DODRace</th>\n",
              "      <th>Age</th>\n",
              "      <th>Heightin</th>\n",
              "      <th>Weightlbs</th>\n",
              "      <th>WritingPreference</th>\n",
              "    </tr>\n",
              "  </thead>\n",
              "  <tbody>\n",
              "    <tr>\n",
              "      <th>0</th>\n",
              "      <td>10027</td>\n",
              "      <td>266</td>\n",
              "      <td>1467</td>\n",
              "      <td>337</td>\n",
              "      <td>222</td>\n",
              "      <td>1347</td>\n",
              "      <td>253</td>\n",
              "      <td>202</td>\n",
              "      <td>401</td>\n",
              "      <td>369</td>\n",
              "      <td>...</td>\n",
              "      <td>Combat Arms</td>\n",
              "      <td>19D</td>\n",
              "      <td>North Dakota</td>\n",
              "      <td>1</td>\n",
              "      <td>NaN</td>\n",
              "      <td>1</td>\n",
              "      <td>41</td>\n",
              "      <td>71</td>\n",
              "      <td>180</td>\n",
              "      <td>Right hand</td>\n",
              "    </tr>\n",
              "    <tr>\n",
              "      <th>1</th>\n",
              "      <td>10032</td>\n",
              "      <td>233</td>\n",
              "      <td>1395</td>\n",
              "      <td>326</td>\n",
              "      <td>220</td>\n",
              "      <td>1293</td>\n",
              "      <td>245</td>\n",
              "      <td>193</td>\n",
              "      <td>394</td>\n",
              "      <td>338</td>\n",
              "      <td>...</td>\n",
              "      <td>Combat Support</td>\n",
              "      <td>68W</td>\n",
              "      <td>New York</td>\n",
              "      <td>1</td>\n",
              "      <td>NaN</td>\n",
              "      <td>1</td>\n",
              "      <td>35</td>\n",
              "      <td>68</td>\n",
              "      <td>160</td>\n",
              "      <td>Left hand</td>\n",
              "    </tr>\n",
              "    <tr>\n",
              "      <th>2</th>\n",
              "      <td>10033</td>\n",
              "      <td>287</td>\n",
              "      <td>1430</td>\n",
              "      <td>341</td>\n",
              "      <td>230</td>\n",
              "      <td>1327</td>\n",
              "      <td>256</td>\n",
              "      <td>196</td>\n",
              "      <td>427</td>\n",
              "      <td>408</td>\n",
              "      <td>...</td>\n",
              "      <td>Combat Support</td>\n",
              "      <td>68W</td>\n",
              "      <td>New York</td>\n",
              "      <td>2</td>\n",
              "      <td>NaN</td>\n",
              "      <td>2</td>\n",
              "      <td>42</td>\n",
              "      <td>68</td>\n",
              "      <td>205</td>\n",
              "      <td>Left hand</td>\n",
              "    </tr>\n",
              "    <tr>\n",
              "      <th>3</th>\n",
              "      <td>10092</td>\n",
              "      <td>234</td>\n",
              "      <td>1347</td>\n",
              "      <td>310</td>\n",
              "      <td>230</td>\n",
              "      <td>1239</td>\n",
              "      <td>262</td>\n",
              "      <td>199</td>\n",
              "      <td>401</td>\n",
              "      <td>359</td>\n",
              "      <td>...</td>\n",
              "      <td>Combat Service Support</td>\n",
              "      <td>88M</td>\n",
              "      <td>Wisconsin</td>\n",
              "      <td>1</td>\n",
              "      <td>NaN</td>\n",
              "      <td>1</td>\n",
              "      <td>31</td>\n",
              "      <td>66</td>\n",
              "      <td>175</td>\n",
              "      <td>Right hand</td>\n",
              "    </tr>\n",
              "    <tr>\n",
              "      <th>4</th>\n",
              "      <td>10093</td>\n",
              "      <td>250</td>\n",
              "      <td>1585</td>\n",
              "      <td>372</td>\n",
              "      <td>247</td>\n",
              "      <td>1478</td>\n",
              "      <td>267</td>\n",
              "      <td>224</td>\n",
              "      <td>435</td>\n",
              "      <td>356</td>\n",
              "      <td>...</td>\n",
              "      <td>Combat Service Support</td>\n",
              "      <td>92G</td>\n",
              "      <td>North Carolina</td>\n",
              "      <td>2</td>\n",
              "      <td>NaN</td>\n",
              "      <td>2</td>\n",
              "      <td>21</td>\n",
              "      <td>77</td>\n",
              "      <td>213</td>\n",
              "      <td>Right hand</td>\n",
              "    </tr>\n",
              "  </tbody>\n",
              "</table>\n",
              "<p>5 rows × 108 columns</p>\n",
              "</div>"
            ],
            "text/plain": [
              "   subjectid  abdominalextensiondepthsitting  acromialheight  \\\n",
              "0      10027                             266            1467   \n",
              "1      10032                             233            1395   \n",
              "2      10033                             287            1430   \n",
              "3      10092                             234            1347   \n",
              "4      10093                             250            1585   \n",
              "\n",
              "   acromionradialelength  anklecircumference  axillaheight  \\\n",
              "0                    337                 222          1347   \n",
              "1                    326                 220          1293   \n",
              "2                    341                 230          1327   \n",
              "3                    310                 230          1239   \n",
              "4                    372                 247          1478   \n",
              "\n",
              "   balloffootcircumference  balloffootlength  biacromialbreadth  \\\n",
              "0                      253               202                401   \n",
              "1                      245               193                394   \n",
              "2                      256               196                427   \n",
              "3                      262               199                401   \n",
              "4                      267               224                435   \n",
              "\n",
              "   bicepscircumferenceflexed  ...                  Branch  PrimaryMOS  \\\n",
              "0                        369  ...             Combat Arms         19D   \n",
              "1                        338  ...          Combat Support         68W   \n",
              "2                        408  ...          Combat Support         68W   \n",
              "3                        359  ...  Combat Service Support         88M   \n",
              "4                        356  ...  Combat Service Support         92G   \n",
              "\n",
              "   SubjectsBirthLocation  SubjectNumericRace  Ethnicity  DODRace  Age  \\\n",
              "0           North Dakota                   1        NaN        1   41   \n",
              "1               New York                   1        NaN        1   35   \n",
              "2               New York                   2        NaN        2   42   \n",
              "3              Wisconsin                   1        NaN        1   31   \n",
              "4         North Carolina                   2        NaN        2   21   \n",
              "\n",
              "   Heightin  Weightlbs  WritingPreference  \n",
              "0        71        180         Right hand  \n",
              "1        68        160          Left hand  \n",
              "2        68        205          Left hand  \n",
              "3        66        175         Right hand  \n",
              "4        77        213         Right hand  \n",
              "\n",
              "[5 rows x 108 columns]"
            ]
          },
          "execution_count": 9,
          "metadata": {},
          "output_type": "execute_result"
        }
      ],
      "source": [
        "df_M = pd.read_csv('ANSUR II MALE Public.csv',encoding='Latin')\n",
        "df_copy_M= df_M.copy()\n",
        "df_M.head()"
      ]
    },
    {
      "cell_type": "code",
      "execution_count": 10,
      "metadata": {},
      "outputs": [
        {
          "data": {
            "text/html": [
              "<div>\n",
              "<style scoped>\n",
              "    .dataframe tbody tr th:only-of-type {\n",
              "        vertical-align: middle;\n",
              "    }\n",
              "\n",
              "    .dataframe tbody tr th {\n",
              "        vertical-align: top;\n",
              "    }\n",
              "\n",
              "    .dataframe thead th {\n",
              "        text-align: right;\n",
              "    }\n",
              "</style>\n",
              "<table border=\"1\" class=\"dataframe\">\n",
              "  <thead>\n",
              "    <tr style=\"text-align: right;\">\n",
              "      <th></th>\n",
              "      <th>subjectid</th>\n",
              "      <th>abdominalextensiondepthsitting</th>\n",
              "      <th>acromialheight</th>\n",
              "      <th>acromionradialelength</th>\n",
              "      <th>anklecircumference</th>\n",
              "      <th>axillaheight</th>\n",
              "      <th>balloffootcircumference</th>\n",
              "      <th>balloffootlength</th>\n",
              "      <th>biacromialbreadth</th>\n",
              "      <th>bicepscircumferenceflexed</th>\n",
              "      <th>...</th>\n",
              "      <th>PrimaryMOS</th>\n",
              "      <th>SubjectsBirthLocation</th>\n",
              "      <th>SubjectNumericRace</th>\n",
              "      <th>Ethnicity</th>\n",
              "      <th>DODRace</th>\n",
              "      <th>Age</th>\n",
              "      <th>Heightin</th>\n",
              "      <th>Weightlbs</th>\n",
              "      <th>WritingPreference</th>\n",
              "      <th>SubjectId</th>\n",
              "    </tr>\n",
              "  </thead>\n",
              "  <tbody>\n",
              "    <tr>\n",
              "      <th>0</th>\n",
              "      <td>10027.0</td>\n",
              "      <td>266</td>\n",
              "      <td>1467</td>\n",
              "      <td>337</td>\n",
              "      <td>222</td>\n",
              "      <td>1347</td>\n",
              "      <td>253</td>\n",
              "      <td>202</td>\n",
              "      <td>401</td>\n",
              "      <td>369</td>\n",
              "      <td>...</td>\n",
              "      <td>19D</td>\n",
              "      <td>North Dakota</td>\n",
              "      <td>1</td>\n",
              "      <td>NaN</td>\n",
              "      <td>1</td>\n",
              "      <td>41</td>\n",
              "      <td>71</td>\n",
              "      <td>180</td>\n",
              "      <td>Right hand</td>\n",
              "      <td>NaN</td>\n",
              "    </tr>\n",
              "    <tr>\n",
              "      <th>1</th>\n",
              "      <td>10032.0</td>\n",
              "      <td>233</td>\n",
              "      <td>1395</td>\n",
              "      <td>326</td>\n",
              "      <td>220</td>\n",
              "      <td>1293</td>\n",
              "      <td>245</td>\n",
              "      <td>193</td>\n",
              "      <td>394</td>\n",
              "      <td>338</td>\n",
              "      <td>...</td>\n",
              "      <td>68W</td>\n",
              "      <td>New York</td>\n",
              "      <td>1</td>\n",
              "      <td>NaN</td>\n",
              "      <td>1</td>\n",
              "      <td>35</td>\n",
              "      <td>68</td>\n",
              "      <td>160</td>\n",
              "      <td>Left hand</td>\n",
              "      <td>NaN</td>\n",
              "    </tr>\n",
              "    <tr>\n",
              "      <th>2</th>\n",
              "      <td>10033.0</td>\n",
              "      <td>287</td>\n",
              "      <td>1430</td>\n",
              "      <td>341</td>\n",
              "      <td>230</td>\n",
              "      <td>1327</td>\n",
              "      <td>256</td>\n",
              "      <td>196</td>\n",
              "      <td>427</td>\n",
              "      <td>408</td>\n",
              "      <td>...</td>\n",
              "      <td>68W</td>\n",
              "      <td>New York</td>\n",
              "      <td>2</td>\n",
              "      <td>NaN</td>\n",
              "      <td>2</td>\n",
              "      <td>42</td>\n",
              "      <td>68</td>\n",
              "      <td>205</td>\n",
              "      <td>Left hand</td>\n",
              "      <td>NaN</td>\n",
              "    </tr>\n",
              "    <tr>\n",
              "      <th>3</th>\n",
              "      <td>10092.0</td>\n",
              "      <td>234</td>\n",
              "      <td>1347</td>\n",
              "      <td>310</td>\n",
              "      <td>230</td>\n",
              "      <td>1239</td>\n",
              "      <td>262</td>\n",
              "      <td>199</td>\n",
              "      <td>401</td>\n",
              "      <td>359</td>\n",
              "      <td>...</td>\n",
              "      <td>88M</td>\n",
              "      <td>Wisconsin</td>\n",
              "      <td>1</td>\n",
              "      <td>NaN</td>\n",
              "      <td>1</td>\n",
              "      <td>31</td>\n",
              "      <td>66</td>\n",
              "      <td>175</td>\n",
              "      <td>Right hand</td>\n",
              "      <td>NaN</td>\n",
              "    </tr>\n",
              "    <tr>\n",
              "      <th>4</th>\n",
              "      <td>10093.0</td>\n",
              "      <td>250</td>\n",
              "      <td>1585</td>\n",
              "      <td>372</td>\n",
              "      <td>247</td>\n",
              "      <td>1478</td>\n",
              "      <td>267</td>\n",
              "      <td>224</td>\n",
              "      <td>435</td>\n",
              "      <td>356</td>\n",
              "      <td>...</td>\n",
              "      <td>92G</td>\n",
              "      <td>North Carolina</td>\n",
              "      <td>2</td>\n",
              "      <td>NaN</td>\n",
              "      <td>2</td>\n",
              "      <td>21</td>\n",
              "      <td>77</td>\n",
              "      <td>213</td>\n",
              "      <td>Right hand</td>\n",
              "      <td>NaN</td>\n",
              "    </tr>\n",
              "  </tbody>\n",
              "</table>\n",
              "<p>5 rows × 109 columns</p>\n",
              "</div>"
            ],
            "text/plain": [
              "   subjectid  abdominalextensiondepthsitting  acromialheight  \\\n",
              "0    10027.0                             266            1467   \n",
              "1    10032.0                             233            1395   \n",
              "2    10033.0                             287            1430   \n",
              "3    10092.0                             234            1347   \n",
              "4    10093.0                             250            1585   \n",
              "\n",
              "   acromionradialelength  anklecircumference  axillaheight  \\\n",
              "0                    337                 222          1347   \n",
              "1                    326                 220          1293   \n",
              "2                    341                 230          1327   \n",
              "3                    310                 230          1239   \n",
              "4                    372                 247          1478   \n",
              "\n",
              "   balloffootcircumference  balloffootlength  biacromialbreadth  \\\n",
              "0                      253               202                401   \n",
              "1                      245               193                394   \n",
              "2                      256               196                427   \n",
              "3                      262               199                401   \n",
              "4                      267               224                435   \n",
              "\n",
              "   bicepscircumferenceflexed  ...  PrimaryMOS  SubjectsBirthLocation  \\\n",
              "0                        369  ...         19D           North Dakota   \n",
              "1                        338  ...         68W               New York   \n",
              "2                        408  ...         68W               New York   \n",
              "3                        359  ...         88M              Wisconsin   \n",
              "4                        356  ...         92G         North Carolina   \n",
              "\n",
              "   SubjectNumericRace  Ethnicity  DODRace  Age  Heightin  Weightlbs  \\\n",
              "0                   1        NaN        1   41        71        180   \n",
              "1                   1        NaN        1   35        68        160   \n",
              "2                   2        NaN        2   42        68        205   \n",
              "3                   1        NaN        1   31        66        175   \n",
              "4                   2        NaN        2   21        77        213   \n",
              "\n",
              "   WritingPreference  SubjectId  \n",
              "0         Right hand        NaN  \n",
              "1          Left hand        NaN  \n",
              "2          Left hand        NaN  \n",
              "3         Right hand        NaN  \n",
              "4         Right hand        NaN  \n",
              "\n",
              "[5 rows x 109 columns]"
            ]
          },
          "execution_count": 10,
          "metadata": {},
          "output_type": "execute_result"
        }
      ],
      "source": [
        "df = pd.concat([df_M,df_F], axis=0)\n",
        "df.head()"
      ]
    },
    {
      "cell_type": "code",
      "execution_count": 11,
      "metadata": {},
      "outputs": [
        {
          "data": {
            "text/html": [
              "<div>\n",
              "<style scoped>\n",
              "    .dataframe tbody tr th:only-of-type {\n",
              "        vertical-align: middle;\n",
              "    }\n",
              "\n",
              "    .dataframe tbody tr th {\n",
              "        vertical-align: top;\n",
              "    }\n",
              "\n",
              "    .dataframe thead th {\n",
              "        text-align: right;\n",
              "    }\n",
              "</style>\n",
              "<table border=\"1\" class=\"dataframe\">\n",
              "  <thead>\n",
              "    <tr style=\"text-align: right;\">\n",
              "      <th></th>\n",
              "      <th>count</th>\n",
              "      <th>mean</th>\n",
              "      <th>std</th>\n",
              "      <th>min</th>\n",
              "      <th>25%</th>\n",
              "      <th>50%</th>\n",
              "      <th>75%</th>\n",
              "      <th>max</th>\n",
              "    </tr>\n",
              "  </thead>\n",
              "  <tbody>\n",
              "    <tr>\n",
              "      <th>subjectid</th>\n",
              "      <td>4082.0</td>\n",
              "      <td>20003.370897</td>\n",
              "      <td>6568.435122</td>\n",
              "      <td>10027.0</td>\n",
              "      <td>14270.25</td>\n",
              "      <td>17236.5</td>\n",
              "      <td>27315.75</td>\n",
              "      <td>29452.0</td>\n",
              "    </tr>\n",
              "    <tr>\n",
              "      <th>abdominalextensiondepthsitting</th>\n",
              "      <td>6068.0</td>\n",
              "      <td>246.468688</td>\n",
              "      <td>37.400106</td>\n",
              "      <td>155.0</td>\n",
              "      <td>219.00</td>\n",
              "      <td>242.0</td>\n",
              "      <td>271.00</td>\n",
              "      <td>451.0</td>\n",
              "    </tr>\n",
              "    <tr>\n",
              "      <th>acromialheight</th>\n",
              "      <td>6068.0</td>\n",
              "      <td>1406.161338</td>\n",
              "      <td>79.091048</td>\n",
              "      <td>1115.0</td>\n",
              "      <td>1350.00</td>\n",
              "      <td>1410.0</td>\n",
              "      <td>1462.00</td>\n",
              "      <td>1683.0</td>\n",
              "    </tr>\n",
              "    <tr>\n",
              "      <th>acromionradialelength</th>\n",
              "      <td>6068.0</td>\n",
              "      <td>327.374423</td>\n",
              "      <td>20.720018</td>\n",
              "      <td>249.0</td>\n",
              "      <td>313.00</td>\n",
              "      <td>328.0</td>\n",
              "      <td>341.25</td>\n",
              "      <td>393.0</td>\n",
              "    </tr>\n",
              "    <tr>\n",
              "      <th>anklecircumference</th>\n",
              "      <td>6068.0</td>\n",
              "      <td>224.891397</td>\n",
              "      <td>16.051833</td>\n",
              "      <td>156.0</td>\n",
              "      <td>214.00</td>\n",
              "      <td>225.0</td>\n",
              "      <td>235.00</td>\n",
              "      <td>293.0</td>\n",
              "    </tr>\n",
              "    <tr>\n",
              "      <th>...</th>\n",
              "      <td>...</td>\n",
              "      <td>...</td>\n",
              "      <td>...</td>\n",
              "      <td>...</td>\n",
              "      <td>...</td>\n",
              "      <td>...</td>\n",
              "      <td>...</td>\n",
              "      <td>...</td>\n",
              "    </tr>\n",
              "    <tr>\n",
              "      <th>DODRace</th>\n",
              "      <td>6068.0</td>\n",
              "      <td>1.615030</td>\n",
              "      <td>0.979156</td>\n",
              "      <td>1.0</td>\n",
              "      <td>1.00</td>\n",
              "      <td>1.0</td>\n",
              "      <td>2.00</td>\n",
              "      <td>8.0</td>\n",
              "    </tr>\n",
              "    <tr>\n",
              "      <th>Age</th>\n",
              "      <td>6068.0</td>\n",
              "      <td>29.761206</td>\n",
              "      <td>8.674650</td>\n",
              "      <td>17.0</td>\n",
              "      <td>23.00</td>\n",
              "      <td>28.0</td>\n",
              "      <td>36.00</td>\n",
              "      <td>58.0</td>\n",
              "    </tr>\n",
              "    <tr>\n",
              "      <th>Heightin</th>\n",
              "      <td>6068.0</td>\n",
              "      <td>68.257251</td>\n",
              "      <td>3.861954</td>\n",
              "      <td>56.0</td>\n",
              "      <td>66.00</td>\n",
              "      <td>68.0</td>\n",
              "      <td>71.00</td>\n",
              "      <td>94.0</td>\n",
              "    </tr>\n",
              "    <tr>\n",
              "      <th>Weightlbs</th>\n",
              "      <td>6068.0</td>\n",
              "      <td>174.749670</td>\n",
              "      <td>33.691952</td>\n",
              "      <td>0.0</td>\n",
              "      <td>150.00</td>\n",
              "      <td>173.0</td>\n",
              "      <td>196.00</td>\n",
              "      <td>321.0</td>\n",
              "    </tr>\n",
              "    <tr>\n",
              "      <th>SubjectId</th>\n",
              "      <td>1986.0</td>\n",
              "      <td>22306.606244</td>\n",
              "      <td>20904.730297</td>\n",
              "      <td>10037.0</td>\n",
              "      <td>17667.00</td>\n",
              "      <td>22096.5</td>\n",
              "      <td>26089.75</td>\n",
              "      <td>920103.0</td>\n",
              "    </tr>\n",
              "  </tbody>\n",
              "</table>\n",
              "<p>100 rows × 8 columns</p>\n",
              "</div>"
            ],
            "text/plain": [
              "                                 count          mean           std      min  \\\n",
              "subjectid                       4082.0  20003.370897   6568.435122  10027.0   \n",
              "abdominalextensiondepthsitting  6068.0    246.468688     37.400106    155.0   \n",
              "acromialheight                  6068.0   1406.161338     79.091048   1115.0   \n",
              "acromionradialelength           6068.0    327.374423     20.720018    249.0   \n",
              "anklecircumference              6068.0    224.891397     16.051833    156.0   \n",
              "...                                ...           ...           ...      ...   \n",
              "DODRace                         6068.0      1.615030      0.979156      1.0   \n",
              "Age                             6068.0     29.761206      8.674650     17.0   \n",
              "Heightin                        6068.0     68.257251      3.861954     56.0   \n",
              "Weightlbs                       6068.0    174.749670     33.691952      0.0   \n",
              "SubjectId                       1986.0  22306.606244  20904.730297  10037.0   \n",
              "\n",
              "                                     25%      50%       75%       max  \n",
              "subjectid                       14270.25  17236.5  27315.75   29452.0  \n",
              "abdominalextensiondepthsitting    219.00    242.0    271.00     451.0  \n",
              "acromialheight                   1350.00   1410.0   1462.00    1683.0  \n",
              "acromionradialelength             313.00    328.0    341.25     393.0  \n",
              "anklecircumference                214.00    225.0    235.00     293.0  \n",
              "...                                  ...      ...       ...       ...  \n",
              "DODRace                             1.00      1.0      2.00       8.0  \n",
              "Age                                23.00     28.0     36.00      58.0  \n",
              "Heightin                           66.00     68.0     71.00      94.0  \n",
              "Weightlbs                         150.00    173.0    196.00     321.0  \n",
              "SubjectId                       17667.00  22096.5  26089.75  920103.0  \n",
              "\n",
              "[100 rows x 8 columns]"
            ]
          },
          "execution_count": 11,
          "metadata": {},
          "output_type": "execute_result"
        }
      ],
      "source": [
        "df.describe().T"
      ]
    },
    {
      "cell_type": "code",
      "execution_count": 12,
      "metadata": {},
      "outputs": [
        {
          "data": {
            "text/plain": [
              "subjectid                         1986\n",
              "abdominalextensiondepthsitting       0\n",
              "acromialheight                       0\n",
              "acromionradialelength                0\n",
              "anklecircumference                   0\n",
              "                                  ... \n",
              "Age                                  0\n",
              "Heightin                             0\n",
              "Weightlbs                            0\n",
              "WritingPreference                    0\n",
              "SubjectId                         4082\n",
              "Length: 109, dtype: int64"
            ]
          },
          "execution_count": 12,
          "metadata": {},
          "output_type": "execute_result"
        }
      ],
      "source": [
        "df.isnull().sum()"
      ]
    },
    {
      "cell_type": "code",
      "execution_count": 14,
      "metadata": {},
      "outputs": [
        {
          "name": "stdout",
          "output_type": "stream",
          "text": [
            "<class 'pandas.core.frame.DataFrame'>\n",
            "Int64Index: 6068 entries, 0 to 1985\n",
            "Data columns (total 109 columns):\n",
            " #    Column                          Dtype  \n",
            "---   ------                          -----  \n",
            " 0    subjectid                       float64\n",
            " 1    abdominalextensiondepthsitting  int64  \n",
            " 2    acromialheight                  int64  \n",
            " 3    acromionradialelength           int64  \n",
            " 4    anklecircumference              int64  \n",
            " 5    axillaheight                    int64  \n",
            " 6    balloffootcircumference         int64  \n",
            " 7    balloffootlength                int64  \n",
            " 8    biacromialbreadth               int64  \n",
            " 9    bicepscircumferenceflexed       int64  \n",
            " 10   bicristalbreadth                int64  \n",
            " 11   bideltoidbreadth                int64  \n",
            " 12   bimalleolarbreadth              int64  \n",
            " 13   bitragionchinarc                int64  \n",
            " 14   bitragionsubmandibulararc       int64  \n",
            " 15   bizygomaticbreadth              int64  \n",
            " 16   buttockcircumference            int64  \n",
            " 17   buttockdepth                    int64  \n",
            " 18   buttockheight                   int64  \n",
            " 19   buttockkneelength               int64  \n",
            " 20   buttockpopliteallength          int64  \n",
            " 21   calfcircumference               int64  \n",
            " 22   cervicaleheight                 int64  \n",
            " 23   chestbreadth                    int64  \n",
            " 24   chestcircumference              int64  \n",
            " 25   chestdepth                      int64  \n",
            " 26   chestheight                     int64  \n",
            " 27   crotchheight                    int64  \n",
            " 28   crotchlengthomphalion           int64  \n",
            " 29   crotchlengthposterioromphalion  int64  \n",
            " 30   earbreadth                      int64  \n",
            " 31   earlength                       int64  \n",
            " 32   earprotrusion                   int64  \n",
            " 33   elbowrestheight                 int64  \n",
            " 34   eyeheightsitting                int64  \n",
            " 35   footbreadthhorizontal           int64  \n",
            " 36   footlength                      int64  \n",
            " 37   forearmcenterofgriplength       int64  \n",
            " 38   forearmcircumferenceflexed      int64  \n",
            " 39   forearmforearmbreadth           int64  \n",
            " 40   forearmhandlength               int64  \n",
            " 41   functionalleglength             int64  \n",
            " 42   handbreadth                     int64  \n",
            " 43   handcircumference               int64  \n",
            " 44   handlength                      int64  \n",
            " 45   headbreadth                     int64  \n",
            " 46   headcircumference               int64  \n",
            " 47   headlength                      int64  \n",
            " 48   heelanklecircumference          int64  \n",
            " 49   heelbreadth                     int64  \n",
            " 50   hipbreadth                      int64  \n",
            " 51   hipbreadthsitting               int64  \n",
            " 52   iliocristaleheight              int64  \n",
            " 53   interpupillarybreadth           int64  \n",
            " 54   interscyei                      int64  \n",
            " 55   interscyeii                     int64  \n",
            " 56   kneeheightmidpatella            int64  \n",
            " 57   kneeheightsitting               int64  \n",
            " 58   lateralfemoralepicondyleheight  int64  \n",
            " 59   lateralmalleolusheight          int64  \n",
            " 60   lowerthighcircumference         int64  \n",
            " 61   mentonsellionlength             int64  \n",
            " 62   neckcircumference               int64  \n",
            " 63   neckcircumferencebase           int64  \n",
            " 64   overheadfingertipreachsitting   int64  \n",
            " 65   palmlength                      int64  \n",
            " 66   poplitealheight                 int64  \n",
            " 67   radialestylionlength            int64  \n",
            " 68   shouldercircumference           int64  \n",
            " 69   shoulderelbowlength             int64  \n",
            " 70   shoulderlength                  int64  \n",
            " 71   sittingheight                   int64  \n",
            " 72   sleevelengthspinewrist          int64  \n",
            " 73   sleeveoutseam                   int64  \n",
            " 74   span                            int64  \n",
            " 75   stature                         int64  \n",
            " 76   suprasternaleheight             int64  \n",
            " 77   tenthribheight                  int64  \n",
            " 78   thighcircumference              int64  \n",
            " 79   thighclearance                  int64  \n",
            " 80   thumbtipreach                   int64  \n",
            " 81   tibialheight                    int64  \n",
            " 82   tragiontopofhead                int64  \n",
            " 83   trochanterionheight             int64  \n",
            " 84   verticaltrunkcircumferenceusa   int64  \n",
            " 85   waistbacklength                 int64  \n",
            " 86   waistbreadth                    int64  \n",
            " 87   waistcircumference              int64  \n",
            " 88   waistdepth                      int64  \n",
            " 89   waistfrontlengthsitting         int64  \n",
            " 90   waistheightomphalion            int64  \n",
            " 91   weightkg                        int64  \n",
            " 92   wristcircumference              int64  \n",
            " 93   wristheight                     int64  \n",
            " 94   Gender                          object \n",
            " 95   Date                            object \n",
            " 96   Installation                    object \n",
            " 97   Component                       object \n",
            " 98   Branch                          object \n",
            " 99   PrimaryMOS                      object \n",
            " 100  SubjectsBirthLocation           object \n",
            " 101  SubjectNumericRace              int64  \n",
            " 102  Ethnicity                       object \n",
            " 103  DODRace                         int64  \n",
            " 104  Age                             int64  \n",
            " 105  Heightin                        int64  \n",
            " 106  Weightlbs                       int64  \n",
            " 107  WritingPreference               object \n",
            " 108  SubjectId                       float64\n",
            "dtypes: float64(2), int64(98), object(9)\n",
            "memory usage: 5.1+ MB\n"
          ]
        }
      ],
      "source": [
        "df.info(verbose=True)"
      ]
    },
    {
      "cell_type": "code",
      "execution_count": 16,
      "metadata": {},
      "outputs": [
        {
          "data": {
            "text/plain": [
              "(6068, 109)"
            ]
          },
          "execution_count": 16,
          "metadata": {},
          "output_type": "execute_result"
        }
      ],
      "source": [
        "df.shape"
      ]
    },
    {
      "cell_type": "code",
      "execution_count": 20,
      "metadata": {},
      "outputs": [
        {
          "data": {
            "text/plain": [
              "array([   0,    0,    0,    0,    0,    0,    0,    0,    0,    0,    0,\n",
              "          0,    0,    0,    0,    0,    0,    0,    0,    0,    0,    0,\n",
              "          0,    0,    0,    0,    0,    0,    0,    0,    0,    0,    0,\n",
              "          0,    0,    0,    0,    0,    0,    0,    0,    0,    0,    0,\n",
              "          0,    0,    0,    0,    0,    0,    0,    0,    0,    0,    0,\n",
              "          0,    0,    0,    0,    0,    0,    0,    0,    0,    0,    0,\n",
              "          0,    0,    0,    0,    0,    0,    0,    0,    0,    0,    0,\n",
              "          0,    0,    0,    0,    0,    0,    0,    0,    0,    0,    0,\n",
              "          0,    0,    0,    0,    0,    0,    0,    0,    0,    0,    0,\n",
              "          0,    0,    0,    0,    0,    0,    0, 1986, 4082, 4647],\n",
              "      dtype=int64)"
            ]
          },
          "execution_count": 20,
          "metadata": {},
          "output_type": "execute_result"
        }
      ],
      "source": [
        "np.sort(df.isnull().sum())"
      ]
    },
    {
      "cell_type": "markdown",
      "metadata": {
        "heading_collapsed": true,
        "id": "CS5-GZy0sl4s"
      },
      "source": [
        "# DATA Preprocessing\n",
        "- In this step we divide our data to X(Features) and y(Target) then ,\n",
        "- To train and evaluation purposes we create train and test sets,\n",
        "- Lastly, scale our data if features not in same scale. Why?"
      ]
    },
    {
      "cell_type": "code",
      "execution_count": null,
      "metadata": {
        "hidden": true,
        "id": "fr2wgpvk1b7B"
      },
      "outputs": [],
      "source": []
    },
    {
      "cell_type": "markdown",
      "metadata": {
        "heading_collapsed": true,
        "id": "zfi_NOw0s2fM"
      },
      "source": [
        "# Modelling\n",
        "- Fit the model with train dataset\n",
        "- Get predict from vanilla model on both train and test sets to examine if there is over/underfitting   \n",
        "- Apply GridseachCV for both hyperparemeter tuning and sanity test of our model.\n",
        "- Use hyperparameters that you find from gridsearch and make final prediction and evaluate the result according to chosen metric."
      ]
    },
    {
      "cell_type": "markdown",
      "metadata": {
        "heading_collapsed": true,
        "hidden": true,
        "id": "N1cviBuh1b7C"
      },
      "source": [
        "## 1. Logistic model"
      ]
    },
    {
      "cell_type": "markdown",
      "metadata": {
        "heading_collapsed": true,
        "hidden": true,
        "id": "0rSJ5hxp1b7C"
      },
      "source": [
        "### Vanilla Logistic Model"
      ]
    },
    {
      "cell_type": "code",
      "execution_count": null,
      "metadata": {
        "id": "rbKDDck012BS"
      },
      "outputs": [],
      "source": []
    },
    {
      "cell_type": "markdown",
      "metadata": {
        "heading_collapsed": true,
        "hidden": true,
        "id": "lPelWxsU1b7C"
      },
      "source": [
        "### Logistic Model GridsearchCV"
      ]
    },
    {
      "cell_type": "code",
      "execution_count": null,
      "metadata": {
        "id": "PNZyqeNY15nP"
      },
      "outputs": [],
      "source": []
    },
    {
      "cell_type": "markdown",
      "metadata": {
        "heading_collapsed": true,
        "hidden": true,
        "id": "GM0PL5eZ1b7E"
      },
      "source": [
        "## 2. SVC"
      ]
    },
    {
      "cell_type": "markdown",
      "metadata": {
        "heading_collapsed": true,
        "hidden": true,
        "id": "P3j_Xk1L1b7E"
      },
      "source": [
        "### Vanilla SVC model "
      ]
    },
    {
      "cell_type": "code",
      "execution_count": null,
      "metadata": {
        "id": "pro8T6CM19vX"
      },
      "outputs": [],
      "source": []
    },
    {
      "cell_type": "markdown",
      "metadata": {
        "heading_collapsed": true,
        "hidden": true,
        "id": "28y9nWxG1b7E"
      },
      "source": [
        "###  SVC Model GridsearchCV"
      ]
    },
    {
      "cell_type": "code",
      "execution_count": null,
      "metadata": {
        "id": "4dFocgCo1-0Z"
      },
      "outputs": [],
      "source": []
    },
    {
      "cell_type": "markdown",
      "metadata": {
        "heading_collapsed": true,
        "hidden": true,
        "id": "bDX_iLIls74C"
      },
      "source": [
        "## 3. RF"
      ]
    },
    {
      "cell_type": "markdown",
      "metadata": {
        "heading_collapsed": true,
        "hidden": true,
        "id": "qaTzrT6P1b7G"
      },
      "source": [
        "### Vanilla RF Model"
      ]
    },
    {
      "cell_type": "code",
      "execution_count": null,
      "metadata": {
        "id": "gvtqL0Qg2CKf"
      },
      "outputs": [],
      "source": []
    },
    {
      "cell_type": "markdown",
      "metadata": {
        "heading_collapsed": true,
        "hidden": true,
        "id": "MkLAZ_M41b7G"
      },
      "source": [
        "### RF Model GridsearchCV"
      ]
    },
    {
      "cell_type": "code",
      "execution_count": null,
      "metadata": {
        "id": "hpmPr3202EbD"
      },
      "outputs": [],
      "source": []
    },
    {
      "cell_type": "markdown",
      "metadata": {
        "heading_collapsed": true,
        "hidden": true,
        "id": "PvcPc4V81b7H"
      },
      "source": [
        "## 4. XGBoost"
      ]
    },
    {
      "cell_type": "markdown",
      "metadata": {
        "heading_collapsed": true,
        "hidden": true,
        "id": "MuxxUFoW1b7H"
      },
      "source": [
        "### Vanilla XGBoost Model"
      ]
    },
    {
      "cell_type": "code",
      "execution_count": null,
      "metadata": {
        "id": "Nfi1aa152HbR"
      },
      "outputs": [],
      "source": []
    },
    {
      "cell_type": "markdown",
      "metadata": {
        "heading_collapsed": true,
        "hidden": true,
        "id": "p3gH5QvE1b7I"
      },
      "source": [
        "### XGBoost Model GridsearchCV"
      ]
    },
    {
      "cell_type": "code",
      "execution_count": null,
      "metadata": {
        "id": "72E3Cmnm2KOE"
      },
      "outputs": [],
      "source": []
    },
    {
      "cell_type": "markdown",
      "metadata": {
        "hidden": true,
        "id": "DbXAmOPVDatl"
      },
      "source": [
        "---\n",
        "---"
      ]
    },
    {
      "cell_type": "markdown",
      "metadata": {
        "hidden": true,
        "id": "WvWpInu21b7L"
      },
      "source": [
        "---\n",
        "---"
      ]
    },
    {
      "cell_type": "markdown",
      "metadata": {
        "heading_collapsed": true,
        "id": "xg2k1ScZ1b7L"
      },
      "source": [
        "# SMOTE\n",
        "https://machinelearningmastery.com/smote-oversampling-for-imbalanced-classification/"
      ]
    },
    {
      "cell_type": "markdown",
      "metadata": {
        "hidden": true,
        "id": "9Rqk02x61b7L"
      },
      "source": [
        "##  Smote implement"
      ]
    },
    {
      "cell_type": "code",
      "execution_count": null,
      "metadata": {
        "hidden": true,
        "id": "XTN4iO7i1b7L"
      },
      "outputs": [],
      "source": [
        "!pip install imblearn"
      ]
    },
    {
      "cell_type": "code",
      "execution_count": null,
      "metadata": {
        "hidden": true,
        "id": "Cv5155AN1b7L"
      },
      "outputs": [],
      "source": [
        "from imblearn.over_sampling import SMOTE\n",
        "from imblearn.under_sampling import RandomUnderSampler\n",
        "from imblearn.pipeline import Pipeline"
      ]
    },
    {
      "cell_type": "markdown",
      "metadata": {
        "hidden": true,
        "id": "aoKU_HZR1b7M"
      },
      "source": [
        "## SVC Over/Under Sampling"
      ]
    },
    {
      "cell_type": "code",
      "execution_count": null,
      "metadata": {
        "id": "JkNSgnut2Z6N"
      },
      "outputs": [],
      "source": []
    },
    {
      "cell_type": "markdown",
      "metadata": {
        "hidden": true,
        "id": "1hBIqmFL1b7O"
      },
      "source": [
        "## Xgboost Over/ Under Sampling"
      ]
    },
    {
      "cell_type": "code",
      "execution_count": null,
      "metadata": {
        "id": "12AItu1M2ds0"
      },
      "outputs": [],
      "source": []
    },
    {
      "cell_type": "markdown",
      "metadata": {
        "hidden": true,
        "id": "T1pPLjpA1b7P"
      },
      "source": [
        "- Evaluation metrics \n",
        "https://towardsdatascience.com/comprehensive-guide-on-multiclass-classification-metrics-af94cfb83fbd"
      ]
    },
    {
      "cell_type": "code",
      "execution_count": null,
      "metadata": {
        "hidden": true,
        "id": "Me3OZtQF1b7P",
        "outputId": "6280fddb-b392-40c1-87d3-57d242ce2528"
      },
      "outputs": [
        {
          "data": {
            "text/plain": [
              "0.7380728719663084"
            ]
          },
          "execution_count": 138,
          "metadata": {},
          "output_type": "execute_result"
        }
      ],
      "source": [
        "from sklearn.metrics import matthews_corrcoef\n",
        "\n",
        "matthews_corrcoef(y_test, y_pred)"
      ]
    },
    {
      "cell_type": "code",
      "execution_count": null,
      "metadata": {
        "hidden": true,
        "id": "P74oLhzK1b7P",
        "outputId": "350b8e9d-dd72-4566-8b11-10526699cd94"
      },
      "outputs": [
        {
          "data": {
            "text/plain": [
              "0.7376215262514891"
            ]
          },
          "execution_count": 139,
          "metadata": {},
          "output_type": "execute_result"
        }
      ],
      "source": [
        "from sklearn.metrics import cohen_kappa_score\n",
        "\n",
        "cohen_kappa_score(y_test, y_pred)"
      ]
    },
    {
      "cell_type": "markdown",
      "metadata": {
        "heading_collapsed": true,
        "id": "AVnS0UKO1b7P"
      },
      "source": [
        "#  SHAP\n",
        "\n",
        "https://towardsdatascience.com/shap-explain-any-machine-learning-model-in-python-24207127cad7"
      ]
    },
    {
      "cell_type": "code",
      "execution_count": null,
      "metadata": {
        "hidden": true,
        "id": "-vB4oVMU1b7P",
        "outputId": "f9c79861-e5c2-4a60-a2f7-02e6c52a82f3",
        "scrolled": true
      },
      "outputs": [
        {
          "name": "stdout",
          "output_type": "stream",
          "text": [
            "Collecting shap\n",
            "  Downloading shap-0.40.0-cp38-cp38-win_amd64.whl (431 kB)\n",
            "Requirement already satisfied: tqdm>4.25.0 in c:\\users\\madcat\\anaconda3\\lib\\site-packages (from shap) (4.59.0)\n",
            "Requirement already satisfied: numba in c:\\users\\madcat\\anaconda3\\lib\\site-packages (from shap) (0.53.1)\n",
            "Collecting packaging>20.9\n",
            "  Downloading packaging-21.2-py3-none-any.whl (40 kB)\n",
            "Requirement already satisfied: scikit-learn in c:\\users\\madcat\\anaconda3\\lib\\site-packages (from shap) (0.24.1)\n",
            "Collecting slicer==0.0.7\n",
            "  Downloading slicer-0.0.7-py3-none-any.whl (14 kB)\n",
            "Requirement already satisfied: scipy in c:\\users\\madcat\\anaconda3\\lib\\site-packages (from shap) (1.6.2)\n",
            "Requirement already satisfied: cloudpickle in c:\\users\\madcat\\anaconda3\\lib\\site-packages (from shap) (1.6.0)\n",
            "Requirement already satisfied: pandas in c:\\users\\madcat\\anaconda3\\lib\\site-packages (from shap) (1.3.4)\n",
            "Requirement already satisfied: numpy in c:\\users\\madcat\\anaconda3\\lib\\site-packages (from shap) (1.20.1)\n",
            "Requirement already satisfied: pyparsing<3,>=2.0.2 in c:\\users\\madcat\\anaconda3\\lib\\site-packages (from packaging>20.9->shap) (2.4.7)\n",
            "Requirement already satisfied: llvmlite<0.37,>=0.36.0rc1 in c:\\users\\madcat\\anaconda3\\lib\\site-packages (from numba->shap) (0.36.0)\n",
            "Requirement already satisfied: setuptools in c:\\users\\madcat\\anaconda3\\lib\\site-packages (from numba->shap) (52.0.0.post20210125)\n",
            "Requirement already satisfied: pytz>=2017.3 in c:\\users\\madcat\\anaconda3\\lib\\site-packages (from pandas->shap) (2021.1)\n",
            "Requirement already satisfied: python-dateutil>=2.7.3 in c:\\users\\madcat\\anaconda3\\lib\\site-packages (from pandas->shap) (2.8.1)\n",
            "Requirement already satisfied: six>=1.5 in c:\\users\\madcat\\anaconda3\\lib\\site-packages (from python-dateutil>=2.7.3->pandas->shap) (1.15.0)\n",
            "Requirement already satisfied: joblib>=0.11 in c:\\users\\madcat\\anaconda3\\lib\\site-packages (from scikit-learn->shap) (1.0.1)\n",
            "Requirement already satisfied: threadpoolctl>=2.0.0 in c:\\users\\madcat\\anaconda3\\lib\\site-packages (from scikit-learn->shap) (2.1.0)\n",
            "Installing collected packages: slicer, packaging, shap\n",
            "  Attempting uninstall: packaging\n",
            "    Found existing installation: packaging 20.9\n",
            "    Uninstalling packaging-20.9:\n",
            "      Successfully uninstalled packaging-20.9\n",
            "Successfully installed packaging-21.2 shap-0.40.0 slicer-0.0.7\n"
          ]
        }
      ],
      "source": [
        "# !pip install shap"
      ]
    },
    {
      "cell_type": "code",
      "execution_count": null,
      "metadata": {
        "hidden": true,
        "id": "ryW4sFrT1b7P"
      },
      "outputs": [],
      "source": [
        "import shap\n",
        "explainer = shap.Explainer(log_model,X_train)\n",
        "start_index = 203\n",
        "end_index = 204\n",
        "shap_values = explainer.shap_values(X_test[start_index:end_index])"
      ]
    },
    {
      "cell_type": "code",
      "execution_count": null,
      "metadata": {
        "hidden": true,
        "id": "eTTPiHfB1b7Q",
        "scrolled": true
      },
      "outputs": [],
      "source": [
        "shap_values"
      ]
    },
    {
      "cell_type": "code",
      "execution_count": null,
      "metadata": {
        "hidden": true,
        "id": "IVG77ukO1b7Q",
        "outputId": "96901cda-3c6c-4fe4-a36b-eb43b08cc86e"
      },
      "outputs": [
        {
          "name": "stdout",
          "output_type": "stream",
          "text": [
            "(1, 232)\n"
          ]
        }
      ],
      "source": [
        "print(shap_values[0].shape)"
      ]
    },
    {
      "cell_type": "code",
      "execution_count": null,
      "metadata": {
        "hidden": true,
        "id": "Ea2YZzkQ1b7Q"
      },
      "outputs": [],
      "source": [
        "# %% >> Visualize local predictions\n",
        "shap.initjs()\n",
        "# Force plot\n",
        "prediction = log_model.predict(X_test[start_index:end_index])[0]\n",
        "print(f\"The log_model predicted: {prediction}\")\n",
        "shap.force_plot(explainer.expected_value[1],\n",
        "                shap_values[1],\n",
        "                X_test[start_index:end_index], # for values\n",
        "                feature_names= X.columns,) "
      ]
    },
    {
      "cell_type": "code",
      "execution_count": null,
      "metadata": {
        "hidden": true,
        "id": "DscXral61b7Q",
        "scrolled": true
      },
      "outputs": [],
      "source": [
        "shap.summary_plot(shap_values, X_train,max_display=300,feature_names = X.columns)"
      ]
    },
    {
      "cell_type": "markdown",
      "metadata": {
        "heading_collapsed": true,
        "id": "9hxUcvZG1b7J"
      },
      "source": [
        "# Before the Deployment \n",
        "- Choose the model that works best based on your chosen metric\n",
        "- For final step, fit the best model with whole dataset to get better performance.\n",
        "- And your model ready to deploy, dump your model and scaler."
      ]
    },
    {
      "cell_type": "code",
      "execution_count": null,
      "metadata": {
        "id": "4UOn_G0n2N2Z"
      },
      "outputs": [],
      "source": []
    },
    {
      "cell_type": "markdown",
      "metadata": {
        "hidden": true,
        "id": "g8_x-BiN1b7Q"
      },
      "source": [
        "___\n",
        "\n",
        "<p style=\"text-align: center;\"><img src=\"https://docs.google.com/uc?id=1lY0Uj5R04yMY3-ZppPWxqCr5pvBLYPnV\" class=\"img-fluid\" alt=\"CLRSWY\"></p>\n",
        "\n",
        "___"
      ]
    }
  ],
  "metadata": {
    "colab": {
      "collapsed_sections": [
        "K7UZHtvu1b62",
        "C5lJeTBu1b65",
        "TMjCTEG51b67",
        "CS5-GZy0sl4s",
        "zfi_NOw0s2fM",
        "p3gH5QvE1b7I",
        "9hxUcvZG1b7J",
        "9Rqk02x61b7L",
        "aoKU_HZR1b7M",
        "1hBIqmFL1b7O",
        "AVnS0UKO1b7P"
      ],
      "name": "soldier_race_project_students.ipynb",
      "provenance": []
    },
    "hide_input": false,
    "interpreter": {
      "hash": "e4e90950cb561445fc7289d5187c528b28750a487d008a70b474c773afaf79b7"
    },
    "kernelspec": {
      "display_name": "Python 3 (ipykernel)",
      "language": "python",
      "name": "python3"
    },
    "language_info": {
      "codemirror_mode": {
        "name": "ipython",
        "version": 3
      },
      "file_extension": ".py",
      "mimetype": "text/x-python",
      "name": "python",
      "nbconvert_exporter": "python",
      "pygments_lexer": "ipython3",
      "version": "3.9.10"
    },
    "toc": {
      "base_numbering": 1,
      "nav_menu": {},
      "number_sections": true,
      "sideBar": true,
      "skip_h1_title": false,
      "title_cell": "Table of Contents",
      "title_sidebar": "Contents",
      "toc_cell": false,
      "toc_position": {
        "height": "calc(100% - 180px)",
        "left": "10px",
        "top": "150px",
        "width": "338.797px"
      },
      "toc_section_display": true,
      "toc_window_display": false
    },
    "varInspector": {
      "cols": {
        "lenName": 16,
        "lenType": 16,
        "lenVar": 40
      },
      "kernels_config": {
        "python": {
          "delete_cmd_postfix": "",
          "delete_cmd_prefix": "del ",
          "library": "var_list.py",
          "varRefreshCmd": "print(var_dic_list())"
        },
        "r": {
          "delete_cmd_postfix": ") ",
          "delete_cmd_prefix": "rm(",
          "library": "var_list.r",
          "varRefreshCmd": "cat(var_dic_list()) "
        }
      },
      "oldHeight": 527,
      "position": {
        "height": "40px",
        "left": "1034px",
        "right": "20px",
        "top": "185px",
        "width": "661px"
      },
      "types_to_exclude": [
        "module",
        "function",
        "builtin_function_or_method",
        "instance",
        "_Feature"
      ],
      "varInspector_section_display": "none",
      "window_display": false
    }
  },
  "nbformat": 4,
  "nbformat_minor": 0
}
