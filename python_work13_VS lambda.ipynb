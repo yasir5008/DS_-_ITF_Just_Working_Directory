{
    "cells": [
        {
            "cell_type": "code",
            "execution_count": 2,
            "source": [
                "def who(first, last) :  # same structure as the previous one\r\n",
                "    print('Your first name is :', first)\r\n",
                "    print('Your last name is :', last)\r\n",
                "\r\n",
                "who(last='Guido', first='van Rossum')  # calling the function is different\r\n",
                "# we used kwargs to pass the values into the function"
            ],
            "outputs": [
                {
                    "output_type": "stream",
                    "name": "stdout",
                    "text": [
                        "Your first name is : van Rossum\n",
                        "Your last name is : Guido\n"
                    ]
                }
            ],
            "metadata": {}
        },
        {
            "cell_type": "code",
            "execution_count": 2,
            "source": [
                "def parrot(voltage, state='a stiff', action='voom', type='Norwegian Blue'):\r\n",
                "    print(\"-- This parrot wouldn't\", action, end=' ')\r\n",
                "    print(\"if you put\", voltage, \"volts through it.\")\r\n",
                "    print(\"-- Lovely plumage, the\", type)\r\n",
                "    print(\"-- It's\", state, \"!\")\r\n",
                "parrot('voltage=1000', action='dead')\r\n"
            ],
            "outputs": [
                {
                    "output_type": "stream",
                    "name": "stdout",
                    "text": [
                        "-- This parrot wouldn't dead if you put voltage=1000 volts through it.\n",
                        "-- Lovely plumage, the Norwegian Blue\n",
                        "-- It's a stiff !\n"
                    ]
                }
            ],
            "metadata": {}
        },
        {
            "cell_type": "code",
            "execution_count": 9,
            "source": [
                "car = {\r\n",
                "  \"brand\": \"Ford\",\r\n",
                "  \"model\": \"Mustang\",\r\n",
                "  \"year\": 1964\r\n",
                "}\r\n",
                "\r\n",
                "x = car.items()\r\n",
                "\r\n",
                "print(x)"
            ],
            "outputs": [
                {
                    "output_type": "stream",
                    "name": "stdout",
                    "text": [
                        "dict_items([('brand', 'Ford'), ('model', 'Mustang'), ('year', 1964)])\n"
                    ]
                }
            ],
            "metadata": {}
        },
        {
            "cell_type": "code",
            "execution_count": 3,
            "source": [
                "pass\r\n"
            ],
            "outputs": [],
            "metadata": {}
        },
        {
            "cell_type": "code",
            "execution_count": 4,
            "source": [
                "def fruiterer(*args) :\r\n",
                "    print('I want to get :')\r\n",
                "    for i in args :\r\n",
                "        print('-', i)\r\n",
                "        \r\n",
                "fruiterer('orange', 'banana', 'melon', 'ananas')"
            ],
            "outputs": [
                {
                    "output_type": "stream",
                    "name": "stdout",
                    "text": [
                        "I want to get :\n",
                        "- orange\n",
                        "- banana\n",
                        "- melon\n",
                        "- ananas\n"
                    ]
                }
            ],
            "metadata": {}
        },
        {
            "cell_type": "code",
            "execution_count": 5,
            "source": [
                "def animals(**kwargs):\r\n",
                "    for key, value in kwargs.items():\r\n",
                "        print(value, \"are\", key)\r\n",
                " \r\n",
                "animals(Carnivores=\"Lions\", Omnivores=\"Bears\", Herbivores=\"Deers\", Nomnivores=\"Human\")"
            ],
            "outputs": [
                {
                    "output_type": "stream",
                    "name": "stdout",
                    "text": [
                        "Lions are Carnivores\n",
                        "Bears are Omnivores\n",
                        "Deers are Herbivores\n",
                        "Human are Nomnivores\n"
                    ]
                }
            ],
            "metadata": {}
        },
        {
            "cell_type": "code",
            "execution_count": null,
            "source": [
                "x = 10\r\n",
                "  \r\n",
                "def my_function():  # fix me!\r\n",
                "    global x\r\n",
                "    x += 5 \r\n",
                "    print(x) \r\n",
                "my_function()"
            ],
            "outputs": [
                {
                    "output_type": "stream",
                    "name": "stdout",
                    "text": [
                        "15\n"
                    ]
                }
            ],
            "metadata": {}
        },
        {
            "cell_type": "code",
            "execution_count": 8,
            "source": [
                "x = 'My name is Richard'\r\n",
                "def my_function_1(): \r\n",
                "    x = 'My name is John'\r\n",
                "    \r\n",
                "print(x)"
            ],
            "outputs": [
                {
                    "output_type": "stream",
                    "name": "stdout",
                    "text": [
                        "My name is Richard\n"
                    ]
                }
            ],
            "metadata": {}
        },
        {
            "cell_type": "code",
            "execution_count": 10,
            "source": [
                "city = \"I love Paris!\"\r\n",
                "\r\n",
                "def my_function(): \r\n",
                "    global city\r\n",
                "    city = \"I love London!\"\r\n",
                "    print(city) \r\n",
                "my_function()"
            ],
            "outputs": [
                {
                    "output_type": "stream",
                    "name": "stdout",
                    "text": [
                        "I love London!\n"
                    ]
                }
            ],
            "metadata": {}
        },
        {
            "cell_type": "code",
            "execution_count": 12,
            "source": [
                "def outer():\r\n",
                "    x = \"previous\"\r\n",
                "    \r\n",
                "    def inner():\r\n",
                "        nonlocal x\r\n",
                "        x = \"later\"\r\n",
                "        print(\"inner:\", x)\r\n",
                "    \r\n",
                "    inner()\r\n",
                "    print(\"outer:\", x)\r\n",
                "outer()"
            ],
            "outputs": [
                {
                    "output_type": "stream",
                    "name": "stdout",
                    "text": [
                        "inner: later\n",
                        "outer: later\n"
                    ]
                }
            ],
            "metadata": {}
        },
        {
            "cell_type": "code",
            "execution_count": 17,
            "source": [
                "x, y =5, 3\r\n",
                "print(lambda x, y: (x+y)/2)"
            ],
            "outputs": [
                {
                    "output_type": "stream",
                    "name": "stdout",
                    "text": [
                        "<function <lambda> at 0x0000021E322E4670>\n"
                    ]
                }
            ],
            "metadata": {}
        },
        {
            "cell_type": "code",
            "execution_count": 18,
            "source": [
                "(lambda x: x**2)(2)  # squares '2'"
            ],
            "outputs": [
                {
                    "output_type": "execute_result",
                    "data": {
                        "text/plain": [
                            "4"
                        ]
                    },
                    "metadata": {},
                    "execution_count": 18
                }
            ],
            "metadata": {}
        },
        {
            "cell_type": "code",
            "execution_count": 23,
            "source": [
                "echo_word = lambda x,y : x*y\r\n",
                "print(echo_word('hello',3))"
            ],
            "outputs": [
                {
                    "output_type": "stream",
                    "name": "stdout",
                    "text": [
                        "hellohellohello\n"
                    ]
                }
            ],
            "metadata": {}
        },
        {
            "cell_type": "code",
            "execution_count": 24,
            "source": [
                "print((lambda x: x**3)(5))"
            ],
            "outputs": [
                {
                    "output_type": "stream",
                    "name": "stdout",
                    "text": [
                        "125\n"
                    ]
                }
            ],
            "metadata": {}
        },
        {
            "cell_type": "code",
            "execution_count": 25,
            "source": [
                "number_list = [1, 2, 3, 4, 5]\r\n",
                "\r\n",
                "result = list(map(lambda x: x*3, number_list))\r\n",
                "result"
            ],
            "outputs": [
                {
                    "output_type": "execute_result",
                    "data": {
                        "text/plain": [
                            "[3, 6, 9, 12, 15]"
                        ]
                    },
                    "metadata": {},
                    "execution_count": 25
                }
            ],
            "metadata": {}
        },
        {
            "cell_type": "code",
            "execution_count": 26,
            "source": [
                "number_list=[1, 2, 3, 4, 5, 6, 7, 8, 9, 10]\r\n",
                "result = list(filter(lambda x : x>=6, number_list))\r\n",
                "result"
            ],
            "outputs": [
                {
                    "output_type": "execute_result",
                    "data": {
                        "text/plain": [
                            "[6, 7, 8, 9, 10]"
                        ]
                    },
                    "metadata": {},
                    "execution_count": 26
                }
            ],
            "metadata": {}
        },
        {
            "cell_type": "code",
            "execution_count": 27,
            "source": [
                "def modular_function(n):\r\n",
                "    return lambda x: x ** n\r\n",
                "\r\n",
                "power_of_3 = modular_function(3)\r\n",
                "print(power_of_3(5))"
            ],
            "outputs": [
                {
                    "output_type": "stream",
                    "name": "stdout",
                    "text": [
                        "125\n"
                    ]
                }
            ],
            "metadata": {}
        },
        {
            "cell_type": "code",
            "execution_count": 29,
            "source": [
                "mean = lambda x, y: (x+y)/2\r\n",
                "print(mean(8, 10))"
            ],
            "outputs": [
                {
                    "output_type": "stream",
                    "name": "stdout",
                    "text": [
                        "9.0\n"
                    ]
                }
            ],
            "metadata": {}
        },
        {
            "cell_type": "code",
            "execution_count": 30,
            "source": [
                "multiply = lambda x: x * 4\r\n",
                "add = lambda x, y: x + y\r\n",
                "print(add(multiply(10), 5))\r\n"
            ],
            "outputs": [
                {
                    "output_type": "stream",
                    "name": "stdout",
                    "text": [
                        "45\n"
                    ]
                }
            ],
            "metadata": {}
        },
        {
            "cell_type": "code",
            "execution_count": 31,
            "source": [
                "number_list = [1, 2, 3, 4]\r\n",
                "result = map(lambda x:x**3, number_list)\r\n",
                "print(list(result)) "
            ],
            "outputs": [
                {
                    "output_type": "stream",
                    "name": "stdout",
                    "text": [
                        "[1, 8, 27, 64]\n"
                    ]
                }
            ],
            "metadata": {}
        },
        {
            "cell_type": "code",
            "execution_count": 34,
            "source": [
                "square = lambda x : x**2\r\n",
                "print(square(5))"
            ],
            "outputs": [
                {
                    "output_type": "stream",
                    "name": "stdout",
                    "text": [
                        "25\n"
                    ]
                }
            ],
            "metadata": {}
        },
        {
            "cell_type": "code",
            "execution_count": 37,
            "source": [
                "number_list=[1, 2, 3, 4, 5, 6, 7, 8, 9, 10]\r\n",
                "\r\n",
                "result= list(filter(lambda x: x%2 !=0, number_list))  \r\n",
                "result"
            ],
            "outputs": [
                {
                    "output_type": "execute_result",
                    "data": {
                        "text/plain": [
                            "[1, 3, 5, 7, 9]"
                        ]
                    },
                    "metadata": {},
                    "execution_count": 37
                }
            ],
            "metadata": {}
        }
    ],
    "metadata": {
        "orig_nbformat": 4,
        "language_info": {
            "name": "python",
            "version": "3.9.6",
            "mimetype": "text/x-python",
            "codemirror_mode": {
                "name": "ipython",
                "version": 3
            },
            "pygments_lexer": "ipython3",
            "nbconvert_exporter": "python",
            "file_extension": ".py"
        },
        "kernelspec": {
            "name": "python3",
            "display_name": "Python 3.9.6 64-bit (windows store)"
        },
        "interpreter": {
            "hash": "f54f548834cd5004815cf7c2a98e656c3454a16c8c6270de2968c01c213389d4"
        }
    },
    "nbformat": 4,
    "nbformat_minor": 2
}