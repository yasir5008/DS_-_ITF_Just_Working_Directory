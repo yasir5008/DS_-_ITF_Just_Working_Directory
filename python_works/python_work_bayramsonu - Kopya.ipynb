{
 "cells": [
  {
   "cell_type": "code",
   "execution_count": 9,
   "id": "4a55439f",
   "metadata": {},
   "outputs": [
    {
     "name": "stdout",
     "output_type": "stream",
     "text": [
      "Please enter a word for checking comfortable word :  ASr\n",
      "asr is not a comfortable word.\n"
     ]
    }
   ],
   "source": [
    "left = {'q', 'w' ,'e' ,'r' ,'t' ,'g' ,'f' ,'d' ,'s' ,'a' ,'z' ,'x' , 'c', 'v', 'b' }\n",
    "right = {'y','u','ı','o','p','h','j','k','l','n','m'}\n",
    "word = input('Please enter a word for checking comfortable word :  ').lower()\n",
    "\n",
    "if bool(set(word) - left) and bool(set(word) - right) :\n",
    "    print(word, 'is a comfortable word.')\n",
    "else:\n",
    "    print(word, 'is not a comfortable word.')"
   ]
  },
  {
   "cell_type": "code",
   "execution_count": 10,
   "id": "6d136c85",
   "metadata": {},
   "outputs": [
    {
     "name": "stdout",
     "output_type": "stream",
     "text": [
      "Let's play the guessing game!\n",
      "What number am I thinking of?  55\n",
      "Little lower\n",
      "What number am I thinking of?  4\n",
      "Little higher\n",
      "What number am I thinking of?  5\n",
      "Little higher\n",
      "What number am I thinking of?  63\n",
      "Little lower\n",
      "What number am I thinking of?  45\n",
      "Little lower\n",
      "What number am I thinking of?  44\n",
      "Are you a MINDREADER!!!\n"
     ]
    }
   ],
   "source": [
    "answer = 44\n",
    "\n",
    "question = 'What number am I thinking of?  '\n",
    "print (\"Let's play the guessing game!\")\n",
    "\n",
    "while True:\n",
    "    guess = int(input(question))\n",
    "\n",
    "    if guess < answer:\n",
    "        print('Little higher')\n",
    "    elif guess > answer:\n",
    "        print('Little lower')\n",
    "    else:  # guess == answer\n",
    "        print('Are you a MINDREADER!!!')\n",
    "        break"
   ]
  },
  {
   "cell_type": "code",
   "execution_count": null,
   "id": "9f50b997",
   "metadata": {},
   "outputs": [],
   "source": []
  },
  {
   "cell_type": "code",
   "execution_count": null,
   "id": "2fbc4790",
   "metadata": {},
   "outputs": [],
   "source": []
  },
  {
   "cell_type": "code",
   "execution_count": 11,
   "id": "e17b51ed",
   "metadata": {},
   "outputs": [
    {
     "name": "stdout",
     "output_type": "stream",
     "text": [
      "n1\n",
      "n2\n"
     ]
    }
   ],
   "source": [
    "for i in {'n1' : 'one', 'n2' : 'two'} : print(i)"
   ]
  },
  {
   "cell_type": "code",
   "execution_count": 37,
   "id": "6cdc97f4",
   "metadata": {},
   "outputs": [
    {
     "name": "stdout",
     "output_type": "stream",
     "text": [
      "1\n",
      "4\n",
      "9\n",
      "36\n"
     ]
    }
   ],
   "source": [
    "iterable = [1, 2, 3, 6]\n",
    "for power in iterable:\n",
    "    print(power**2)"
   ]
  },
  {
   "cell_type": "code",
   "execution_count": 16,
   "id": "e33bb16e",
   "metadata": {},
   "outputs": [
    {
     "name": "stdout",
     "output_type": "stream",
     "text": [
      "enter a number between 1-105\n",
      "5%1 =  0\n",
      "5%2 =  1\n",
      "5%3 =  2\n",
      "5%4 =  1\n",
      "5%5 =  0\n",
      "5%6 =  5\n",
      "5%7 =  5\n",
      "5%8 =  5\n",
      "5%9 =  5\n",
      "5%10 =  5\n"
     ]
    }
   ],
   "source": [
    "n = int(input('enter a number between 1-10'))\n",
    "\n",
    "for i in range(1,11):\n",
    "    print('{}%{} = '.format(n, i), n%i)\n",
    "    "
   ]
  },
  {
   "cell_type": "code",
   "execution_count": 19,
   "id": "9077e745",
   "metadata": {},
   "outputs": [
    {
     "name": "stdout",
     "output_type": "stream",
     "text": [
      "Please enter your saved amount: 666\n",
      "Yippee! You can buy your PS4\n"
     ]
    }
   ],
   "source": [
    "saved_amount = int(input('Please enter your saved amount: '))\n",
    "ps4_price = 558\n",
    "if saved_amount < ps4_price :\n",
    "    if saved_amount <= ps4_price/2 :\n",
    "        print(\"You must save more, keep saving!\")\n",
    "    else :\n",
    "        print(\"You saved more than half, keep saving!\")\n",
    "else :\n",
    "    print (\"Yippee! You can buy your PS4\")"
   ]
  },
  {
   "cell_type": "markdown",
   "id": "111b1bf5",
   "metadata": {},
   "source": [
    "math_mark = int(input('Please enter the mark: '))\n",
    " \n",
    "if math_mark >= 85 :\n",
    "    print(\"A\")\n",
    "elif math_mark>= 70 :\n",
    "    print(\"B\")\n",
    "elif math_mark >= 60 :\n",
    "    print(\"C\")\n",
    "elif math_mark>= 45 :\n",
    "    print(\"D\")\n",
    "else :\n",
    "    print(\"F\")"
   ]
  },
  {
   "cell_type": "code",
   "execution_count": 22,
   "id": "d7a66cd6",
   "metadata": {},
   "outputs": [
    {
     "name": "stdout",
     "output_type": "stream",
     "text": [
      "1996\n"
     ]
    }
   ],
   "source": [
    "a = 998\n",
    "\n",
    "if a >= 999 :\n",
    "    print(a ** 0)  \n",
    "\n",
    "else :\n",
    "    print(a * 2)"
   ]
  },
  {
   "cell_type": "code",
   "execution_count": 64,
   "id": "a1ff6707",
   "metadata": {},
   "outputs": [
    {
     "name": "stdout",
     "output_type": "stream",
     "text": [
      "Please enter a number: 5\n",
      "0\n",
      "1\n",
      "4\n",
      "9\n",
      "16\n"
     ]
    }
   ],
   "source": [
    "number = int(input('Please enter a number: '))\n",
    "numbers = range(number)\n",
    "for i in numbers :\n",
    "    print(i**2)"
   ]
  },
  {
   "cell_type": "code",
   "execution_count": 27,
   "id": "e2534c30",
   "metadata": {},
   "outputs": [
    {
     "name": "stdout",
     "output_type": "stream",
     "text": [
      "Please enter a number: 5\n",
      "0 1 2 3 4\n"
     ]
    }
   ],
   "source": [
    "number = int(input('Please enter a number: '))\n",
    "print(*range(number))"
   ]
  },
  {
   "cell_type": "raw",
   "id": "a357cc24",
   "metadata": {},
   "source": []
  },
  {
   "cell_type": "code",
   "execution_count": 43,
   "id": "eca23da4",
   "metadata": {
    "scrolled": true
   },
   "outputs": [
    {
     "ename": "SyntaxError",
     "evalue": "invalid syntax (<ipython-input-43-795d1ae4baca>, line 3)",
     "output_type": "error",
     "traceback": [
      "\u001b[1;36m  File \u001b[1;32m\"<ipython-input-43-795d1ae4baca>\"\u001b[1;36m, line \u001b[1;32m3\u001b[0m\n\u001b[1;33m    for kat in numbers\u001b[0m\n\u001b[1;37m                      ^\u001b[0m\n\u001b[1;31mSyntaxError\u001b[0m\u001b[1;31m:\u001b[0m invalid syntax\n"
     ]
    }
   ],
   "source": [
    "number = int(input('Please enter a number: '))\n",
    "numbers = list(range(number))\n",
    "for kat in numbers\n",
    "    print( kat**2)"
   ]
  },
  {
   "cell_type": "code",
   "execution_count": 42,
   "id": "0f99a245",
   "metadata": {},
   "outputs": [
    {
     "name": "stdout",
     "output_type": "stream",
     "text": [
      "Please enter a number: 5\n",
      "[0, 1, 2, 3, 4]\n"
     ]
    }
   ],
   "source": [
    "number = int(input('Please enter a number: '))\n",
    "numbers = list(range(number))\n",
    "print(numbers)"
   ]
  },
  {
   "cell_type": "code",
   "execution_count": 50,
   "id": "9d9ce9ee",
   "metadata": {},
   "outputs": [
    {
     "name": "stdout",
     "output_type": "stream",
     "text": [
      "Please give me a sentence without any punctuation :\n",
      "The length of the longest word is: 0\n"
     ]
    }
   ],
   "source": [
    "sentence = input(\"Please give me a sentence without any punctuation :\")\n",
    "words = sentence.split()\n",
    "i = 0\n",
    "longest = 0\n",
    "while i < len(words) :\n",
    "    if len(words[i]) > longest :\n",
    "        longest = len(words[i])\n",
    "    i+=1\n",
    "print(\"The length of the longest word is:\", longest)"
   ]
  },
  {
   "cell_type": "code",
   "execution_count": 62,
   "id": "6b149c74",
   "metadata": {},
   "outputs": [
    {
     "data": {
      "text/plain": [
       "range(0, 6)"
      ]
     },
     "execution_count": 62,
     "metadata": {},
     "output_type": "execute_result"
    }
   ],
   "source": [
    "for i in names"
   ]
  },
  {
   "cell_type": "code",
   "execution_count": 71,
   "id": "5d4eac71",
   "metadata": {},
   "outputs": [
    {
     "name": "stdout",
     "output_type": "stream",
     "text": [
      "[1, 2, 3, 4, 5]\n"
     ]
    }
   ],
   "source": [
    "xf= []\n",
    "for i in range(1,6):\n",
    "    xf.append(i)\n",
    "print(xf)"
   ]
  },
  {
   "cell_type": "code",
   "execution_count": 74,
   "id": "e04ba924",
   "metadata": {},
   "outputs": [
    {
     "name": "stdout",
     "output_type": "stream",
     "text": [
      "0 1 2 3 4 5\n"
     ]
    }
   ],
   "source": [
    "print(*range(6))"
   ]
  },
  {
   "cell_type": "code",
   "execution_count": 87,
   "id": "500a48b3",
   "metadata": {},
   "outputs": [
    {
     "name": "stdout",
     "output_type": "stream",
     "text": [
      "clarusway"
     ]
    }
   ],
   "source": [
    "\n",
    "for i in input:\n",
    "    print(i,end='')"
   ]
  },
  {
   "cell_type": "code",
   "execution_count": 78,
   "id": "c0705f2e",
   "metadata": {},
   "outputs": [
    {
     "name": "stdout",
     "output_type": "stream",
     "text": [
      "['welcome', 'to', 'the', 'jungle']\n"
     ]
    }
   ],
   "source": [
    "txt = \"welcome to the jungle\"\n",
    "\n",
    "x = txt.split()\n",
    "\n",
    "print(x)"
   ]
  },
  {
   "cell_type": "code",
   "execution_count": 88,
   "id": "9935a8f8",
   "metadata": {},
   "outputs": [
    {
     "ename": "NameError",
     "evalue": "name 'rstrip' is not defined",
     "output_type": "error",
     "traceback": [
      "\u001b[1;31m---------------------------------------------------------------------------\u001b[0m",
      "\u001b[1;31mNameError\u001b[0m                                 Traceback (most recent call last)",
      "\u001b[1;32m<ipython-input-88-b9ed5dfc3ff1>\u001b[0m in \u001b[0;36m<module>\u001b[1;34m\u001b[0m\n\u001b[1;32m----> 1\u001b[1;33m \u001b[0mrstrip\u001b[0m\u001b[1;33m\u001b[0m\u001b[1;33m\u001b[0m\u001b[0m\n\u001b[0m",
      "\u001b[1;31mNameError\u001b[0m: name 'rstrip' is not defined"
     ]
    }
   ],
   "source": [
    "rstrip"
   ]
  },
  {
   "cell_type": "code",
   "execution_count": 94,
   "id": "34ab10ad",
   "metadata": {},
   "outputs": [
    {
     "ename": "IndentationError",
     "evalue": "expected an indented block (<ipython-input-94-a5783a900199>, line 6)",
     "output_type": "error",
     "traceback": [
      "\u001b[1;36m  File \u001b[1;32m\"<ipython-input-94-a5783a900199>\"\u001b[1;36m, line \u001b[1;32m6\u001b[0m\n\u001b[1;33m    i = i + '-'\u001b[0m\n\u001b[1;37m    ^\u001b[0m\n\u001b[1;31mIndentationError\u001b[0m\u001b[1;31m:\u001b[0m expected an indented block\n"
     ]
    }
   ],
   "source": [
    "it = \"clarusway\"\n",
    "count= 0\n",
    "for i in input :\n",
    "    count+=1\n",
    "    if count < len(it):\n",
    "    i = i + '-'\n",
    "    print(i, end=\" \")"
   ]
  },
  {
   "cell_type": "code",
   "execution_count": 96,
   "id": "c143bf88",
   "metadata": {},
   "outputs": [
    {
     "ename": "IndentationError",
     "evalue": "expected an indented block (<ipython-input-96-dd8927208e0b>, line 6)",
     "output_type": "error",
     "traceback": [
      "\u001b[1;36m  File \u001b[1;32m\"<ipython-input-96-dd8927208e0b>\"\u001b[1;36m, line \u001b[1;32m6\u001b[0m\n\u001b[1;33m    i = i + '-'\u001b[0m\n\u001b[1;37m    ^\u001b[0m\n\u001b[1;31mIndentationError\u001b[0m\u001b[1;31m:\u001b[0m expected an indented block\n"
     ]
    }
   ],
   "source": [
    "it = \"clarusway\"\n",
    "count= 0\n",
    "for i in input :\n",
    "    count+=1\n",
    "    if count < len(it):\n",
    "    i = i + '-'\n",
    "    print(i, end=\"\")"
   ]
  },
  {
   "cell_type": "code",
   "execution_count": 102,
   "id": "8b23ce9a",
   "metadata": {},
   "outputs": [
    {
     "name": "stdout",
     "output_type": "stream",
     "text": [
      "[0, 2, 4, 6, 8] \b [1, 3, 5, 7, 9]\n"
     ]
    }
   ],
   "source": [
    "even = []\n",
    "odd= []\n",
    "\n",
    "for i in range(10):\n",
    "    if i%2 == 0:\n",
    "        even.append(i)\n",
    "    else :\n",
    "        odd.append(i)\n",
    "\n",
    "print(even,'\\b',odd)"
   ]
  }
 ],
 "metadata": {
  "kernelspec": {
   "display_name": "Python 3",
   "language": "python",
   "name": "python3"
  },
  "language_info": {
   "codemirror_mode": {
    "name": "ipython",
    "version": 3
   },
   "file_extension": ".py",
   "mimetype": "text/x-python",
   "name": "python",
   "nbconvert_exporter": "python",
   "pygments_lexer": "ipython3",
   "version": "3.8.8"
  }
 },
 "nbformat": 4,
 "nbformat_minor": 5
}
