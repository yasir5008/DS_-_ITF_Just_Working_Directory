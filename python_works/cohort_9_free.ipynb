{
 "cells": [
  {
   "cell_type": "code",
   "execution_count": 22,
   "source": [
    "my_list = []\r\n",
    "for n in range(1,101):\r\n",
    "    for i in range(2,n):\r\n",
    "        if (n % i) == 0:\r\n",
    "            break\r\n",
    "        else :\r\n",
    "            my_list.append(n)\r\n",
    "            break\r\n",
    "print(my_list)"
   ],
   "outputs": [
    {
     "output_type": "error",
     "ename": "ZeroDivisionError",
     "evalue": "integer division or modulo by zero",
     "traceback": [
      "\u001b[1;31m---------------------------------------------------------------------------\u001b[0m",
      "\u001b[1;31mZeroDivisionError\u001b[0m                         Traceback (most recent call last)",
      "\u001b[1;32m~\\AppData\\Local\\Temp/ipykernel_9880/573661860.py\u001b[0m in \u001b[0;36m<module>\u001b[1;34m\u001b[0m\n\u001b[0;32m      2\u001b[0m \u001b[1;32mfor\u001b[0m \u001b[0mn\u001b[0m \u001b[1;32min\u001b[0m \u001b[0mrange\u001b[0m\u001b[1;33m(\u001b[0m\u001b[1;36m1\u001b[0m\u001b[1;33m,\u001b[0m\u001b[1;36m101\u001b[0m\u001b[1;33m)\u001b[0m\u001b[1;33m:\u001b[0m\u001b[1;33m\u001b[0m\u001b[1;33m\u001b[0m\u001b[0m\n\u001b[0;32m      3\u001b[0m     \u001b[1;32mfor\u001b[0m \u001b[0mi\u001b[0m \u001b[1;32min\u001b[0m \u001b[0mrange\u001b[0m\u001b[1;33m(\u001b[0m\u001b[0mn\u001b[0m\u001b[1;33m)\u001b[0m\u001b[1;33m:\u001b[0m\u001b[1;33m\u001b[0m\u001b[1;33m\u001b[0m\u001b[0m\n\u001b[1;32m----> 4\u001b[1;33m         \u001b[1;32mif\u001b[0m \u001b[1;33m(\u001b[0m\u001b[0mn\u001b[0m \u001b[1;33m%\u001b[0m \u001b[0mi\u001b[0m\u001b[1;33m)\u001b[0m \u001b[1;33m==\u001b[0m \u001b[1;36m0\u001b[0m \u001b[1;32mor\u001b[0m \u001b[0mn\u001b[0m\u001b[1;33m==\u001b[0m\u001b[1;36m0\u001b[0m\u001b[1;33m:\u001b[0m\u001b[1;33m\u001b[0m\u001b[1;33m\u001b[0m\u001b[0m\n\u001b[0m\u001b[0;32m      5\u001b[0m             \u001b[1;32mbreak\u001b[0m\u001b[1;33m\u001b[0m\u001b[1;33m\u001b[0m\u001b[0m\n\u001b[0;32m      6\u001b[0m         \u001b[1;32melse\u001b[0m \u001b[1;33m:\u001b[0m\u001b[1;33m\u001b[0m\u001b[1;33m\u001b[0m\u001b[0m\n",
      "\u001b[1;31mZeroDivisionError\u001b[0m: integer division or modulo by zero"
     ]
    }
   ],
   "metadata": {}
  },
  {
   "cell_type": "code",
   "execution_count": 26,
   "source": [
    "perfecto =[]\r\n",
    "def perfect(number):\r\n",
    "    num_list = []\r\n",
    "    for i in range(1, number + 1):\r\n",
    "        if number % i == 0:\r\n",
    "            num_list.append(i)\r\n",
    "    total1 = sum(num_list) - num_list[-1]\r\n",
    "    total2 = sum(num_list)\r\n",
    "    if number == total1 and number == total2 / 2:\r\n",
    "        return '{} is a perfect number.'.format(number)\r\n",
    "    else:\r\n",
    "        return '{} is not a perfect number'.format(number)\r\n",
    "        \r\n",
    "perfect(27\r\n",
    ")"
   ],
   "outputs": [
    {
     "output_type": "execute_result",
     "data": {
      "text/plain": [
       "'28 is a perfect number.'"
      ]
     },
     "metadata": {},
     "execution_count": 26
    }
   ],
   "metadata": {}
  },
  {
   "cell_type": "code",
   "execution_count": 25,
   "source": [
    "def perfect(num):    \r\n",
    "    new_list = []\r\n",
    "    for k in range(2, num + 1):\r\n",
    "        num_list = []\r\n",
    "        for i in range(1, k):\r\n",
    "            if k % i == 0:\r\n",
    "                num_list.append(i)\r\n",
    "        total = sum(num_list)\r\n",
    "        if k == total:\r\n",
    "            new_list.append(k)\r\n",
    "    return new_list\r\n",
    "\r\n",
    "perfect(500)"
   ],
   "outputs": [
    {
     "output_type": "execute_result",
     "data": {
      "text/plain": [
       "[6, 28, 496]"
      ]
     },
     "metadata": {},
     "execution_count": 25
    }
   ],
   "metadata": {}
  },
  {
   "cell_type": "code",
   "execution_count": 1,
   "source": [
    "def is_heteromecic(n):\r\n",
    "\tfor i in range(int(n**0.5)+1):\r\n",
    "\t\tif i * (i+1) == n:\r\n",
    "\t\t\treturn True\r\n",
    "\treturn False"
   ],
   "outputs": [],
   "metadata": {}
  },
  {
   "cell_type": "code",
   "execution_count": 7,
   "source": [
    "def is_heteromecic(n):\r\n",
    "    return int(n**0.5) * int(n**0.5+1) == n\r\n",
    "is_heteromecic(0)"
   ],
   "outputs": [
    {
     "output_type": "execute_result",
     "data": {
      "text/plain": [
       "True"
      ]
     },
     "metadata": {},
     "execution_count": 7
    }
   ],
   "metadata": {}
  },
  {
   "cell_type": "code",
   "execution_count": null,
   "source": [
    "isinstance()"
   ],
   "outputs": [],
   "metadata": {}
  },
  {
   "cell_type": "code",
   "execution_count": 16,
   "source": [
    "abs(5.34324)"
   ],
   "outputs": [
    {
     "output_type": "execute_result",
     "data": {
      "text/plain": [
       "5.34324"
      ]
     },
     "metadata": {},
     "execution_count": 16
    }
   ],
   "metadata": {}
  },
  {
   "cell_type": "code",
   "execution_count": 15,
   "source": [
    "\r\n",
    "nums = num.strip('-')\r\n",
    "nums"
   ],
   "outputs": [
    {
     "output_type": "error",
     "ename": "AttributeError",
     "evalue": "'int' object has no attribute 'strip'",
     "traceback": [
      "\u001b[1;31m---------------------------------------------------------------------------\u001b[0m",
      "\u001b[1;31mAttributeError\u001b[0m                            Traceback (most recent call last)",
      "\u001b[1;32m~\\AppData\\Local\\Temp/ipykernel_15196/3385344488.py\u001b[0m in \u001b[0;36m<module>\u001b[1;34m\u001b[0m\n\u001b[0;32m      1\u001b[0m \u001b[0mnum\u001b[0m \u001b[1;33m=\u001b[0m \u001b[1;36m5\u001b[0m\u001b[1;33m\u001b[0m\u001b[1;33m\u001b[0m\u001b[0m\n\u001b[1;32m----> 2\u001b[1;33m \u001b[0mnums\u001b[0m \u001b[1;33m=\u001b[0m \u001b[0mnum\u001b[0m\u001b[1;33m.\u001b[0m\u001b[0mstrip\u001b[0m\u001b[1;33m(\u001b[0m\u001b[1;34m'-'\u001b[0m\u001b[1;33m)\u001b[0m\u001b[1;33m\u001b[0m\u001b[1;33m\u001b[0m\u001b[0m\n\u001b[0m\u001b[0;32m      3\u001b[0m \u001b[0mnums\u001b[0m\u001b[1;33m\u001b[0m\u001b[1;33m\u001b[0m\u001b[0m\n",
      "\u001b[1;31mAttributeError\u001b[0m: 'int' object has no attribute 'strip'"
     ]
    }
   ],
   "metadata": {}
  },
  {
   "cell_type": "code",
   "execution_count": 17,
   "source": [
    "num = input('Enter the size of the matrix > ')\r\n",
    "dolu = []\r\n",
    "nums = num.lstrip('-')\r\n",
    "if not nums.isdigit():\r\n",
    "    print('Error')\r\n",
    "else:\r\n",
    "    if int(nums) == 0:\r\n",
    "        print(dolu)\r\n",
    "    else:\r\n",
    "        for i in range(int(nums)):\r\n",
    "            bos = []\r\n",
    "            for j in range(int(nums)):\r\n",
    "                if j == i:\r\n",
    "                    bos.append(1)\r\n",
    "                else:\r\n",
    "                    bos.append(0)\r\n",
    "            dolu.append(bos)\r\n",
    "        if not num.startswith('-'):\r\n",
    "            for i in dolu:\r\n",
    "                print(i)\r\n",
    "        else:\r\n",
    "            tersi = []\r\n",
    "            for i in dolu:\r\n",
    "                i.reverse()\r\n",
    "                tersi.append(i)\r\n",
    "            for i in tersi:\r\n",
    "                print(i)"
   ],
   "outputs": [
    {
     "output_type": "stream",
     "name": "stdout",
     "text": [
      "[1, 0, 0, 0]\n",
      "[0, 1, 0, 0]\n",
      "[0, 0, 1, 0]\n",
      "[0, 0, 0, 1]\n"
     ]
    }
   ],
   "metadata": {}
  },
  {
   "cell_type": "code",
   "execution_count": 19,
   "source": [
    "def matrix(n):\r\n",
    "    if type(n) != int: return 'Error'\r\n",
    "    a = abs(n)\r\n",
    "    return [[1 if j == i else 0 for j in range(a)][::int(a/n)] for i in range(a)]\r\n",
    "matrix(5)"
   ],
   "outputs": [
    {
     "output_type": "execute_result",
     "data": {
      "text/plain": [
       "[[1, 0, 0, 0, 0],\n",
       " [0, 1, 0, 0, 0],\n",
       " [0, 0, 1, 0, 0],\n",
       " [0, 0, 0, 1, 0],\n",
       " [0, 0, 0, 0, 1]]"
      ]
     },
     "metadata": {},
     "execution_count": 19
    }
   ],
   "metadata": {}
  },
  {
   "cell_type": "code",
   "execution_count": 20,
   "source": [
    "def cubes(n):\r\n",
    "    return n**3\r\n"
   ],
   "outputs": [],
   "metadata": {}
  },
  {
   "cell_type": "code",
   "execution_count": 22,
   "source": [
    "cubes(10)"
   ],
   "outputs": [
    {
     "output_type": "execute_result",
     "data": {
      "text/plain": [
       "1000"
      ]
     },
     "metadata": {},
     "execution_count": 22
    }
   ],
   "metadata": {}
  },
  {
   "cell_type": "markdown",
   "source": [
    "A palindrome is a number that is the same when reversed, 2770772 for example. A palindrome can often be formed by adding a number to it's reverse: 641 + 146 = 787 (a palindrome). Using 78 as the seed, it takes 4 steps to produce a palindrome:\r\n",
    "78 + 87 = 165\r\n",
    "165 + 561 = 726\r\n",
    "726 + 627 = 1353\r\n",
    "1353 + 3531 = 4884 (a palindrome)\r\n",
    "About 97% of integers less than 10,000 produce palindromes in less than 25 steps. A few, like 196 and 879, may never form palindromes.\r\n",
    "Make a function that takes a palindrome as it's an argument and returns the smallest seed integer that will produce that palindrome, along with the number of steps required:\r\n",
    "pal_seq(palindrome) = (seed, steps)\r\n",
    "pal_seq(4884) ➞ (69, 4)\r\n",
    "pal_seq(1) ➞ (1, 0)\r\n",
    "pal_seq(11) ➞ (10, 1) --> 10 + 01 = 11\r\n",
    "pal_seq(3113) ➞ (199, 3)\r\n",
    "pal_seq(8836886388) ➞ (177, 15)\r\n",
    "Notes\r\n",
    "The sequence always terminates when the first palindrome is produced. If the seed is a palindrome, the sequence has 0 steps."
   ],
   "metadata": {}
  },
  {
   "cell_type": "code",
   "execution_count": null,
   "source": [
    "number = int(input('Enter a number > '))\r\n",
    "def to_infinity():\r\n",
    "    index = 10\r\n",
    "    while True:\r\n",
    "        yield index\r\n",
    "        index += 1\r\n",
    "\r\n",
    "if number <= 10:\r\n",
    "    if number < 10:\r\n",
    "        sayac = 0\r\n",
    "        sonuc = number\r\n",
    "        print([number, sayac])\r\n",
    "    else:\r\n",
    "        print('Palindrome bulunamadi.')\r\n",
    "else:\r\n",
    "    for i in to_infinity():\r\n",
    "        sayac = 0\r\n",
    "        liste = []\r\n",
    "        sonuc = i\r\n",
    "        if sonuc > number:\r\n",
    "            liste = 'Palindrome bulunamadi.'\r\n",
    "            break\r\n",
    "        else:\r\n",
    "            while sonuc <= number:\r\n",
    "                sonuc = sonuc + int(str(sonuc)[::-1])\r\n",
    "                sayac += 1\r\n",
    "                if sonuc == int(str(sonuc)[::-1]):\r\n",
    "                    if sonuc != number:\r\n",
    "                        sonuc = number + 1\r\n",
    "                    else:\r\n",
    "                        liste.append(i)\r\n",
    "                        liste.append(sayac)\r\n",
    "                        break\r\n",
    "            else:\r\n",
    "                continue\r\n",
    "            break\r\n",
    "    print(liste)"
   ],
   "outputs": [],
   "metadata": {}
  },
  {
   "cell_type": "code",
   "execution_count": null,
   "source": [
    "def pal_seq(n):\r\n",
    "    for i in range(10, 500):\r\n",
    "        if n < 10:\r\n",
    "            seed = n\r\n",
    "            steps = 0\r\n",
    "            break\r\n",
    "        num = 0\r\n",
    "        count = 1\r\n",
    "        num += i+int(str(i)[::-1])\r\n",
    "        while num != int(str(num)[::-1]):\r\n",
    "            num += int(str(num)[::-1])\r\n",
    "            count+=1\r\n",
    "            print(num)\r\n",
    "        if n == num:\r\n",
    "            seed = i\r\n",
    "            steps = count\r\n",
    "            break\r\n",
    "    return (seed, steps)"
   ],
   "outputs": [],
   "metadata": {}
  },
  {
   "cell_type": "code",
   "execution_count": null,
   "source": [
    "def pal_seq(number):\r\n",
    "  seq = []\r\n",
    "  count = 0\r\n",
    "\r\n",
    "  if number != int(str(number)[::-1]):\r\n",
    "    return \"it is not a palindrome number\"\r\n",
    "\r\n",
    "  for i in range(number):\r\n",
    "    if i == int(str(i)[::-1]):\r\n",
    "      continue;\r\n",
    "    while i < number:\r\n",
    "      count += 1\r\n",
    "      seq.append(i)\r\n",
    "      i += int(str(i)[::-1])\r\n",
    "      if i == int(str(i)[::-1]) and i != number or i > number:\r\n",
    "        count = 0\r\n",
    "        seq.clear()\r\n",
    "        break;\r\n",
    "      if i == number:\r\n",
    "        return (seq[0], count, seq)\r\n",
    "\r\n",
    "  if number < 10:\r\n",
    "    return(number, 0)\r\n",
    "\r\n",
    "pal_seq(4884)"
   ],
   "outputs": [],
   "metadata": {}
  }
 ],
 "metadata": {
  "orig_nbformat": 4,
  "language_info": {
   "name": "python",
   "version": "3.9.7",
   "mimetype": "text/x-python",
   "codemirror_mode": {
    "name": "ipython",
    "version": 3
   },
   "pygments_lexer": "ipython3",
   "nbconvert_exporter": "python",
   "file_extension": ".py"
  },
  "kernelspec": {
   "name": "python3",
   "display_name": "Python 3.9.7 64-bit (windows store)"
  },
  "interpreter": {
   "hash": "f54f548834cd5004815cf7c2a98e656c3454a16c8c6270de2968c01c213389d4"
  }
 },
 "nbformat": 4,
 "nbformat_minor": 2
}