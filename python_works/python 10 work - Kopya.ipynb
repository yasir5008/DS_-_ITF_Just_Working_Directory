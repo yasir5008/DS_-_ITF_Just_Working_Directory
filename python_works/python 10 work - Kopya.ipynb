{
 "cells": [
  {
   "cell_type": "code",
   "execution_count": 3,
   "id": "de45de35",
   "metadata": {
    "scrolled": true
   },
   "outputs": [
    {
     "name": "stdout",
     "output_type": "stream",
     "text": [
      "Enter a number: 55.098\n",
      "55.098 Positive number\n"
     ]
    }
   ],
   "source": [
    "num= float(input(\"Enter a number: \"))\n",
    "if num >= 0 :\n",
    "    print (\"{} Positive number\".format(num))\n",
    "    \n",
    "else :\n",
    "    print(\"{} Negative number\".format(num))"
   ]
  },
  {
   "cell_type": "code",
   "execution_count": 5,
   "id": "d20aa18d",
   "metadata": {},
   "outputs": [
    {
     "name": "stdout",
     "output_type": "stream",
     "text": [
      "Enter the first number please :1\n",
      "Enter the second number please :5\n",
      "The larger number is : 5.0\n"
     ]
    }
   ],
   "source": [
    "num1 = float(input(\"Enter the first number please :\"))\n",
    "num2 = float(input(\"Enter the second number please :\"))\n",
    "\n",
    "if num1 >num2 :\n",
    "    larger = num1\n",
    "else :\n",
    "    larger = num2\n",
    "    print(\"The larger number is :\" , larger)\n",
    "    "
   ]
  },
  {
   "cell_type": "code",
   "execution_count": 3,
   "id": "6d733afa",
   "metadata": {},
   "outputs": [
    {
     "name": "stdout",
     "output_type": "stream",
     "text": [
      "Enter your score :93\n",
      "Your degree is :  A\n"
     ]
    }
   ],
   "source": [
    "score = int(input(\"Enter your score :\"))\n",
    "\n",
    "if score>= 90 :\n",
    "    if score>= 95 :\n",
    "        score_degree = \"A+\"\n",
    "    else :\n",
    "        score_degree = \"A\"\n",
    "elif score>= 80 :\n",
    "    if  score >=85 :\n",
    "        score_degree= \"B+\"\n",
    "    else :\n",
    "        score_degree = \"B\"\n",
    "else :\n",
    "    score_degree = \"B-\"\n",
    "    \n",
    "print( \"Your degree is : \", score_degree)"
   ]
  },
  {
   "cell_type": "code",
   "execution_count": 5,
   "id": "ab1ed049",
   "metadata": {},
   "outputs": [],
   "source": [
    "items =(10, 20)"
   ]
  },
  {
   "cell_type": "code",
   "execution_count": 6,
   "id": "7ebfb0d5",
   "metadata": {},
   "outputs": [],
   "source": [
    "x, y =items"
   ]
  },
  {
   "cell_type": "code",
   "execution_count": 7,
   "id": "fc7074d0",
   "metadata": {},
   "outputs": [
    {
     "data": {
      "text/plain": [
       "10"
      ]
     },
     "execution_count": 7,
     "metadata": {},
     "output_type": "execute_result"
    }
   ],
   "source": [
    "x\n"
   ]
  },
  {
   "cell_type": "code",
   "execution_count": 8,
   "id": "79e3d56b",
   "metadata": {},
   "outputs": [
    {
     "data": {
      "text/plain": [
       "20"
      ]
     },
     "execution_count": 8,
     "metadata": {},
     "output_type": "execute_result"
    }
   ],
   "source": [
    "y"
   ]
  },
  {
   "cell_type": "code",
   "execution_count": 14,
   "id": "39a63964",
   "metadata": {},
   "outputs": [],
   "source": [
    "items2 = [range(12)]"
   ]
  },
  {
   "cell_type": "code",
   "execution_count": 15,
   "id": "3b5bfe44",
   "metadata": {},
   "outputs": [
    {
     "data": {
      "text/plain": [
       "[range(0, 12)]"
      ]
     },
     "execution_count": 15,
     "metadata": {},
     "output_type": "execute_result"
    }
   ],
   "source": [
    "items2"
   ]
  },
  {
   "cell_type": "code",
   "execution_count": 17,
   "id": "0c0e3ed1",
   "metadata": {},
   "outputs": [],
   "source": [
    "a, _ ,b, _ = (10, 20, 30,40)"
   ]
  },
  {
   "cell_type": "code",
   "execution_count": 18,
   "id": "be2cacb3",
   "metadata": {},
   "outputs": [
    {
     "name": "stdout",
     "output_type": "stream",
     "text": [
      "10 30 40\n"
     ]
    }
   ],
   "source": [
    "print(a,b,_)"
   ]
  },
  {
   "cell_type": "code",
   "execution_count": 20,
   "id": "b8591889",
   "metadata": {},
   "outputs": [],
   "source": [
    "x, y,*z = (11,22,33,44,55,66,77)"
   ]
  },
  {
   "cell_type": "code",
   "execution_count": 21,
   "id": "dd876f9f",
   "metadata": {},
   "outputs": [
    {
     "data": {
      "text/plain": [
       "[33, 44, 55, 66, 77]"
      ]
     },
     "execution_count": 21,
     "metadata": {},
     "output_type": "execute_result"
    }
   ],
   "source": [
    "z"
   ]
  },
  {
   "cell_type": "code",
   "execution_count": 22,
   "id": "cd67eee1",
   "metadata": {},
   "outputs": [],
   "source": [
    "x, y,*_ = (11,22,33,44,55,66,77)"
   ]
  },
  {
   "cell_type": "code",
   "execution_count": 23,
   "id": "a4d2e9fb",
   "metadata": {},
   "outputs": [
    {
     "data": {
      "text/plain": [
       "11"
      ]
     },
     "execution_count": 23,
     "metadata": {},
     "output_type": "execute_result"
    }
   ],
   "source": [
    "x\n"
   ]
  },
  {
   "cell_type": "code",
   "execution_count": 25,
   "id": "061b7947",
   "metadata": {},
   "outputs": [
    {
     "data": {
      "text/plain": [
       "(11, 22)"
      ]
     },
     "execution_count": 25,
     "metadata": {},
     "output_type": "execute_result"
    }
   ],
   "source": [
    "x,y"
   ]
  },
  {
   "cell_type": "code",
   "execution_count": 26,
   "id": "09a62758",
   "metadata": {},
   "outputs": [
    {
     "data": {
      "text/plain": [
       "[33, 44, 55, 66, 77]"
      ]
     },
     "execution_count": 26,
     "metadata": {},
     "output_type": "execute_result"
    }
   ],
   "source": [
    "_"
   ]
  },
  {
   "cell_type": "code",
   "execution_count": 32,
   "id": "fe570c6d",
   "metadata": {},
   "outputs": [],
   "source": [
    "x, y,*z ,t= (11,22,33,44,55,66,77)"
   ]
  },
  {
   "cell_type": "code",
   "execution_count": 29,
   "id": "aaae9f2f",
   "metadata": {},
   "outputs": [
    {
     "data": {
      "text/plain": [
       "77"
      ]
     },
     "execution_count": 29,
     "metadata": {},
     "output_type": "execute_result"
    }
   ],
   "source": [
    "t"
   ]
  },
  {
   "cell_type": "code",
   "execution_count": 33,
   "id": "05cc7919",
   "metadata": {},
   "outputs": [
    {
     "data": {
      "text/plain": [
       "[33, 44, 55, 66]"
      ]
     },
     "execution_count": 33,
     "metadata": {},
     "output_type": "execute_result"
    }
   ],
   "source": [
    "z"
   ]
  }
 ],
 "metadata": {
  "kernelspec": {
   "display_name": "Python 3",
   "language": "python",
   "name": "python3"
  },
  "language_info": {
   "codemirror_mode": {
    "name": "ipython",
    "version": 3
   },
   "file_extension": ".py",
   "mimetype": "text/x-python",
   "name": "python",
   "nbconvert_exporter": "python",
   "pygments_lexer": "ipython3",
   "version": "3.8.8"
  }
 },
 "nbformat": 4,
 "nbformat_minor": 5
}
