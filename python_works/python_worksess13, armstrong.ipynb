{
    "cells": [
        {
            "cell_type": "code",
            "execution_count": 15,
            "source": [
                "generate = (i **2 for i in range(6))"
            ],
            "outputs": [],
            "metadata": {}
        },
        {
            "cell_type": "code",
            "execution_count": 14,
            "source": [
                "generate"
            ],
            "outputs": [
                {
                    "output_type": "execute_result",
                    "data": {
                        "text/plain": [
                            "<generator object <genexpr> at 0x00000200C5E78350>"
                        ]
                    },
                    "metadata": {},
                    "execution_count": 14
                }
            ],
            "metadata": {}
        },
        {
            "cell_type": "code",
            "execution_count": 18,
            "source": [
                "print(next(generate))"
            ],
            "outputs": [
                {
                    "output_type": "stream",
                    "name": "stdout",
                    "text": [
                        "4\n"
                    ]
                }
            ],
            "metadata": {}
        },
        {
            "cell_type": "code",
            "execution_count": 19,
            "source": [
                "list(generate)"
            ],
            "outputs": [
                {
                    "output_type": "execute_result",
                    "data": {
                        "text/plain": [
                            "[9, 16, 25]"
                        ]
                    },
                    "metadata": {},
                    "execution_count": 19
                }
            ],
            "metadata": {}
        },
        {
            "cell_type": "code",
            "execution_count": 20,
            "source": [
                "print(*generate)"
            ],
            "outputs": [
                {
                    "output_type": "stream",
                    "name": "stdout",
                    "text": [
                        "\n"
                    ]
                }
            ],
            "metadata": {}
        },
        {
            "cell_type": "code",
            "execution_count": 2,
            "source": [
                "while True : \r\n",
                "    numbers = input('enter a positive number: ')\r\n",
                "    digits = len(numbers)\r\n",
                "    summ = 0\r\n",
                "    if not numbers.isdigit() :\r\n",
                "        print(numbers, ' is invalid entry, Enter valid input!')\r\n",
                "    elif int(numbers) >=0 :\r\n",
                "        for i in range(digits) :\r\n",
                "            summ = summ + int(numbers[i])**digits\r\n",
                "        if summ == int(numbers) :\r\n",
                "            print(numbers, 'is an Arms')\r\n",
                "            break\r\n",
                "        else :\r\n",
                "            print(numbers, 'is not arms')\r\n",
                "            break"
            ],
            "outputs": [
                {
                    "output_type": "stream",
                    "name": "stdout",
                    "text": [
                        "371 is an Arms\n"
                    ]
                }
            ],
            "metadata": {}
        },
        {
            "cell_type": "code",
            "execution_count": 19,
            "source": [
                "def calculate(x, y, o):\r\n",
                "    if o=='+':\r\n",
                "        return(x+y)\r\n",
                "    elif o=='-':\r\n",
                "        return(x-y)\r\n",
                "    elif o=='*':\r\n",
                "        return(x*y)\r\n",
                "    elif o=='/':\r\n",
                "        return(x/y)\r\n",
                "    else :\r\n",
                "        print('please enter a valid operator')\r\n",
                "\r\n",
                "calculate(2,4,'+')"
            ],
            "outputs": [
                {
                    "output_type": "execute_result",
                    "data": {
                        "text/plain": [
                            "6"
                        ]
                    },
                    "metadata": {},
                    "execution_count": 19
                }
            ],
            "metadata": {}
        },
        {
            "cell_type": "code",
            "execution_count": 24,
            "source": [
                "def absolute_value (num) :\r\n",
                "    ''' This function gives absolute value of entered number'''\r\n",
                "    if num >=0 :\r\n",
                "        return num\r\n",
                "    else :\r\n",
                "        return -num"
            ],
            "outputs": [],
            "metadata": {}
        },
        {
            "cell_type": "code",
            "execution_count": 26,
            "source": [
                "print(absolute_value.__doc__)"
            ],
            "outputs": [
                {
                    "output_type": "stream",
                    "name": "stdout",
                    "text": [
                        " This function gives absolute value of entered number\n"
                    ]
                }
            ],
            "metadata": {}
        },
        {
            "cell_type": "code",
            "execution_count": 27,
            "source": [
                "print(print.__doc__)"
            ],
            "outputs": [
                {
                    "output_type": "stream",
                    "name": "stdout",
                    "text": [
                        "print(value, ..., sep=' ', end='\\n', file=sys.stdout, flush=False)\n",
                        "\n",
                        "Prints the values to a stream, or to sys.stdout by default.\n",
                        "Optional keyword arguments:\n",
                        "file:  a file-like object (stream); defaults to the current sys.stdout.\n",
                        "sep:   string inserted between values, default a space.\n",
                        "end:   string appended after the last value, default a newline.\n",
                        "flush: whether to forcibly flush the stream.\n"
                    ]
                }
            ],
            "metadata": {}
        },
        {
            "cell_type": "code",
            "execution_count": 21,
            "source": [
                "``` python\r\n",
                "def absolute_value (num) :\r\n",
                "    ''' This function gives absolute value of entered number'''\r\n",
                "    if num >=0 :\r\n",
                "        return num\r\n",
                "    else :\r\n",
                "        return -num\r\n",
                "```"
            ],
            "outputs": [
                {
                    "output_type": "error",
                    "ename": "SyntaxError",
                    "evalue": "invalid syntax (Temp/ipykernel_7360/3338583538.py, line 1)",
                    "traceback": [
                        "\u001b[1;36m  File \u001b[1;32m\"C:\\Users\\yasir\\AppData\\Local\\Temp/ipykernel_7360/3338583538.py\"\u001b[1;36m, line \u001b[1;32m1\u001b[0m\n\u001b[1;33m    ``` python\u001b[0m\n\u001b[1;37m    ^\u001b[0m\n\u001b[1;31mSyntaxError\u001b[0m\u001b[1;31m:\u001b[0m invalid syntax\n"
                    ]
                }
            ],
            "metadata": {}
        },
        {
            "cell_type": "markdown",
            "source": [
                "``` python\r\n",
                "\r\n",
                "def absolute_value (num) :\r\n",
                "    ''' This function gives absolute value of entered number'''\r\n",
                "    if num >=0 :\r\n",
                "        return num\r\n",
                "    else :\r\n",
                "        return -num\r\n",
                "```\r\n"
            ],
            "metadata": {}
        },
        {
            "cell_type": "code",
            "execution_count": 34,
            "source": [
                "print(abs.__doc__)"
            ],
            "outputs": [
                {
                    "output_type": "stream",
                    "name": "stdout",
                    "text": [
                        "Return the absolute value of the argument.\n"
                    ]
                }
            ],
            "metadata": {}
        },
        {
            "cell_type": "code",
            "execution_count": null,
            "source": [
                "while True :\r\n",
                "    number + input('enter a positive number please:')\r\n",
                "    if number.isdigit( )"
            ],
            "outputs": [],
            "metadata": {}
        },
        {
            "cell_type": "code",
            "execution_count": 5,
            "source": [],
            "outputs": [
                {
                    "output_type": "error",
                    "ename": "NameError",
                    "evalue": "name 'isdigit' is not defined",
                    "traceback": [
                        "\u001b[1;31m---------------------------------------------------------------------------\u001b[0m",
                        "\u001b[1;31mNameError\u001b[0m                                 Traceback (most recent call last)",
                        "\u001b[1;32m~\\AppData\\Local\\Temp/ipykernel_18332/1729931841.py\u001b[0m in \u001b[0;36m<module>\u001b[1;34m\u001b[0m\n\u001b[1;32m----> 1\u001b[1;33m \u001b[0misdigit\u001b[0m\u001b[1;33m.\u001b[0m\u001b[0m__doc__\u001b[0m\u001b[1;33m\u001b[0m\u001b[1;33m\u001b[0m\u001b[0m\n\u001b[0m",
                        "\u001b[1;31mNameError\u001b[0m: name 'isdigit' is not defined"
                    ]
                }
            ],
            "metadata": {}
        },
        {
            "cell_type": "code",
            "execution_count": 12,
            "source": [
                "n = int(input(\"Enter a positive number to check if it is a Prime number:\"))\r\n",
                "count=0\r\n",
                "for i in range(1,n+1):\r\n",
                "    if n % i == 0 :\r\n",
                "        count+=1\r\n",
                "if (n==0) or (n==1) or (count >= 3) :\r\n",
                "    print(n,'is not a prime number.')\r\n",
                "else :\r\n",
                "    print(n, \"is a Prime number.\")"
            ],
            "outputs": [
                {
                    "output_type": "stream",
                    "name": "stdout",
                    "text": [
                        "45 is not a prime number.\n"
                    ]
                }
            ],
            "metadata": {}
        },
        {
            "cell_type": "code",
            "execution_count": 22,
            "source": [
                "n = range(0,101)\r\n",
                "n_list = []\r\n",
                "l_list= []\r\n",
                "count=0\r\n",
                "for l in n:    \r\n",
                "    for i in range(1,l+1):\r\n",
                "        if l % i == 0 :\r\n",
                "            count+=1\r\n",
                "    if (l==0) or (l==1) or (count >= 3) :\r\n",
                "        l_list.append(l)\r\n",
                "    else:\r\n",
                "        n_list.append(l)\r\n",
                "    \r\n",
                "print(n_list)   "
            ],
            "outputs": [
                {
                    "output_type": "stream",
                    "name": "stdout",
                    "text": [
                        "[]\n"
                    ]
                }
            ],
            "metadata": {}
        }
    ],
    "metadata": {
        "orig_nbformat": 4,
        "language_info": {
            "name": "python",
            "version": "3.9.6",
            "mimetype": "text/x-python",
            "codemirror_mode": {
                "name": "ipython",
                "version": 3
            },
            "pygments_lexer": "ipython3",
            "nbconvert_exporter": "python",
            "file_extension": ".py"
        },
        "kernelspec": {
            "name": "python3",
            "display_name": "Python 3.9.6 64-bit"
        },
        "interpreter": {
            "hash": "10fa5b18b6821efcf1a0ca8a7bbd5168ce7aee3a71c9cf3dc990838fd8f195d9"
        }
    },
    "nbformat": 4,
    "nbformat_minor": 2
}