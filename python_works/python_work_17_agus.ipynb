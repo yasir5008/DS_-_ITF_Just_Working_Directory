{
 "cells": [
  {
   "cell_type": "code",
   "execution_count": null,
   "source": [],
   "outputs": [],
   "metadata": {}
  }
 ],
 "metadata": {
  "orig_nbformat": 4,
  "language_info": {
   "name": "python",
   "version": "3.9.6"
  },
  "kernelspec": {
   "name": "python3",
   "display_name": "Python 3.9.6 64-bit (windows store)"
  },
  "interpreter": {
   "hash": "f54f548834cd5004815cf7c2a98e656c3454a16c8c6270de2968c01c213389d4"
  }
 },
 "nbformat": 4,
 "nbformat_minor": 2
}