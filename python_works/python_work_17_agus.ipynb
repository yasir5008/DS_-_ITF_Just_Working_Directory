{
 "cells": [
  {
   "cell_type": "code",
   "execution_count": 2,
   "source": [
    "average= lambda x,y : (x+y)/2\r\n",
    "print(average(3,5))"
   ],
   "outputs": [
    {
     "output_type": "stream",
     "name": "stdout",
     "text": [
      "4.0\n"
     ]
    }
   ],
   "metadata": {}
  },
  {
   "cell_type": "code",
   "execution_count": 4,
   "source": [
    "reverser = lambda x: x[::-1]\r\n",
    "reverser2 =lambda y: y[::-1]"
   ],
   "outputs": [],
   "metadata": {}
  },
  {
   "cell_type": "code",
   "execution_count": 5,
   "source": [
    "reverser(reverser2('ters'))"
   ],
   "outputs": [
    {
     "output_type": "execute_result",
     "data": {
      "text/plain": [
       "'ters'"
      ]
     },
     "metadata": {},
     "execution_count": 5
    }
   ],
   "metadata": {}
  },
  {
   "cell_type": "code",
   "execution_count": 6,
   "source": [
    "iterable = [1, 2, 3, 4, 5]\r\n",
    "map(lambda x:x**2, iterable)\r\n",
    "result = map(lambda x:x**2, iterable)\r\n",
    "print(type(result))  # it's a map type\r\n",
    "\r\n",
    "print(list(result))  # we've converted it to list type to print\r\n",
    "\r\n",
    "print(list(map(lambda x:x**2, iterable)))  # you can print directly"
   ],
   "outputs": [
    {
     "output_type": "stream",
     "name": "stdout",
     "text": [
      "<class 'map'>\n",
      "[1, 4, 9, 16, 25]\n",
      "[1, 4, 9, 16, 25]\n"
     ]
    }
   ],
   "metadata": {}
  },
  {
   "cell_type": "code",
   "execution_count": 14,
   "source": [
    "letter1 = ['o', 's', 't', 't']\r\n",
    "letter2 = ['n', 'i', 'e', 'w']\r\n",
    "letter3 = ['e', 'x', 'n', 'o']\r\n",
    "numbers = map(lambda x, y, z: x+y+z, letter1, letter2,letter3)\r\n",
    "\r\n",
    "print(list(numbers))"
   ],
   "outputs": [
    {
     "output_type": "stream",
     "name": "stdout",
     "text": [
      "['one', 'six', 'ten', 'two']\n"
     ]
    }
   ],
   "metadata": {}
  },
  {
   "cell_type": "code",
   "execution_count": 11,
   "source": [
    "def seq(x,) :\r\n",
    "    return x**2\r\n",
    "result= list(map(seq,iterable))"
   ],
   "outputs": [],
   "metadata": {}
  },
  {
   "cell_type": "code",
   "execution_count": 12,
   "source": [
    "print(*result)"
   ],
   "outputs": [
    {
     "output_type": "stream",
     "name": "stdout",
     "text": [
      "1 4 9 16 25\n"
     ]
    }
   ],
   "metadata": {}
  },
  {
   "cell_type": "code",
   "execution_count": 16,
   "source": [
    "nums1=[9,6,7,4]\r\n",
    "nums2=[3,6,5,8]\r\n",
    "print(list(map(lambda x,y: (x+y)/2, nums1,nums2)))"
   ],
   "outputs": [
    {
     "output_type": "stream",
     "name": "stdout",
     "text": [
      "[6.0, 6.0, 6.0, 6.0]\n"
     ]
    }
   ],
   "metadata": {}
  },
  {
   "cell_type": "code",
   "execution_count": 26,
   "source": [
    "kelimeler= ['ali veli deli','ahmetind armutu', 'elifin dedesi']\r\n",
    "print(list(map(lambda x: len(x),kelimeler)))"
   ],
   "outputs": [
    {
     "output_type": "stream",
     "name": "stdout",
     "text": [
      "[13, 15, 13]\n"
     ]
    }
   ],
   "metadata": {}
  },
  {
   "cell_type": "code",
   "execution_count": 33,
   "source": [
    "list(map(sorted,kelimeler))"
   ],
   "outputs": [
    {
     "output_type": "execute_result",
     "data": {
      "text/plain": [
       "[[' ', ' ', 'a', 'd', 'e', 'e', 'i', 'i', 'i', 'l', 'l', 'l', 'v'],\n",
       " [' ', 'a', 'a', 'd', 'e', 'h', 'i', 'm', 'm', 'n', 'r', 't', 't', 'u', 'u'],\n",
       " [' ', 'd', 'd', 'e', 'e', 'e', 'f', 'i', 'i', 'i', 'l', 'n', 's']]"
      ]
     },
     "metadata": {},
     "execution_count": 33
    }
   ],
   "metadata": {}
  },
  {
   "cell_type": "code",
   "execution_count": 38,
   "source": [
    "letter1 = ['o', 's', 't', 't']\r\n",
    "letter2 = ['n', 'i', 'e', 'w']\r\n",
    "letter3 = ['e', 'x', 'n', 'o']\r\n",
    "sentences= map(lambda x, y, z: x+ ''+y+''+z ,letter1,letter2,letter3)"
   ],
   "outputs": [],
   "metadata": {}
  },
  {
   "cell_type": "code",
   "execution_count": 42,
   "source": [
    "print(*sentences)"
   ],
   "outputs": [
    {
     "output_type": "stream",
     "name": "stdout",
     "text": [
      "\n"
     ]
    }
   ],
   "metadata": {}
  },
  {
   "cell_type": "code",
   "execution_count": 43,
   "source": [
    "for i in sentences:\r\n",
    "    print(i)\r\n"
   ],
   "outputs": [],
   "metadata": {}
  },
  {
   "cell_type": "code",
   "execution_count": 45,
   "source": [
    "first_ten = [0, 1, 2, 3, 4, 5, 6, 7, 8, 9] \r\n",
    "  \r\n",
    "even = filter(lambda x:x%2==0, first_ten) \r\n",
    "print(type(even))  # it's 'filter' type, \r\n",
    "                   # in order to print the result,\r\n",
    "                   # we'd better convert it into the list type\r\n",
    "\r\n",
    "print('Even numbers are :', list(even))\r\n"
   ],
   "outputs": [
    {
     "output_type": "stream",
     "name": "stdout",
     "text": [
      "<class 'filter'>\n",
      "Even numbers are : [0, 2, 4, 6, 8]\n",
      "<class 'filter'>\n"
     ]
    }
   ],
   "metadata": {}
  },
  {
   "cell_type": "code",
   "execution_count": 48,
   "source": [
    "words=['apple','swim','clock','me','kiwi','banana']\r\n",
    "f_l = filter(lambda x: len(x)<5 ,words)\r\n",
    "print(*f_l)"
   ],
   "outputs": [
    {
     "output_type": "stream",
     "name": "stdout",
     "text": [
      "swim me kiwi\n"
     ]
    }
   ],
   "metadata": {}
  },
  {
   "cell_type": "code",
   "execution_count": 49,
   "source": [
    "for i in filter(lambda x: len(x)<5 ,words):\r\n",
    "    print(i)"
   ],
   "outputs": [
    {
     "output_type": "stream",
     "name": "stdout",
     "text": [
      "swim\n",
      "me\n",
      "kiwi\n"
     ]
    }
   ],
   "metadata": {}
  },
  {
   "cell_type": "code",
   "execution_count": 51,
   "source": [
    "vowels = ['a','e','i','u','o']\r\n",
    "first_ten = ['a', 'b', 'c', 'd', 'e', 'f', 'g', 'h', 'i', 'j']\r\n",
    "f_vowels = filter(lambda x : x in vowels,first_ten)\r\n",
    "print(*f_vowels)"
   ],
   "outputs": [
    {
     "output_type": "stream",
     "name": "stdout",
     "text": [
      "a e i\n"
     ]
    }
   ],
   "metadata": {}
  },
  {
   "cell_type": "code",
   "execution_count": 58,
   "source": [
    "C = ['right 20','right 30','left 50','up 10','down 20']"
   ],
   "outputs": [],
   "metadata": {}
  },
  {
   "cell_type": "code",
   "execution_count": 62,
   "source": [
    "C = ['right 20','right 30','left 50','up 10','down 20']\r\n",
    "# [o,-10]\r\n",
    "x= y =0\r\n",
    "\r\n",
    "for i in range(len(C)):\r\n",
    "    if C[i].startswith('r'): x=x+int(C[i].split()[1])\r\n",
    "    elif C[i].startswith('l'): x=x-int(C[i].split()[1])\r\n",
    "    elif C[i].startswith('u'): y=y+int(C[i].split()[1])\r\n",
    "    elif C[i].startswith('d'): y=y-int(C[i].split()[1])\r\n",
    "[x,y]\r\n"
   ],
   "outputs": [
    {
     "output_type": "execute_result",
     "data": {
      "text/plain": [
       "[0, -10]"
      ]
     },
     "metadata": {},
     "execution_count": 62
    }
   ],
   "metadata": {}
  },
  {
   "cell_type": "code",
   "execution_count": 63,
   "source": [
    "pwd"
   ],
   "outputs": [
    {
     "output_type": "execute_result",
     "data": {
      "text/plain": [
       "'c:\\\\Users\\\\yasir\\\\Desktop\\\\clarusway GİTHUB\\\\python-project\\\\python_works'"
      ]
     },
     "metadata": {},
     "execution_count": 63
    }
   ],
   "metadata": {}
  },
  {
   "cell_type": "code",
   "execution_count": 60,
   "source": [
    "C[0].split()[1]"
   ],
   "outputs": [
    {
     "output_type": "execute_result",
     "data": {
      "text/plain": [
       "['right', '20']"
      ]
     },
     "metadata": {},
     "execution_count": 60
    }
   ],
   "metadata": {}
  }
 ],
 "metadata": {
  "orig_nbformat": 4,
  "language_info": {
   "name": "python",
   "version": "3.9.6",
   "mimetype": "text/x-python",
   "codemirror_mode": {
    "name": "ipython",
    "version": 3
   },
   "pygments_lexer": "ipython3",
   "nbconvert_exporter": "python",
   "file_extension": ".py"
  },
  "kernelspec": {
   "name": "python3",
   "display_name": "Python 3.9.6 64-bit (windows store)"
  },
  "interpreter": {
   "hash": "f54f548834cd5004815cf7c2a98e656c3454a16c8c6270de2968c01c213389d4"
  }
 },
 "nbformat": 4,
 "nbformat_minor": 2
}