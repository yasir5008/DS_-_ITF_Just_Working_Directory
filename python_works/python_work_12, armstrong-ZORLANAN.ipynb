{
 "cells": [
  {
   "cell_type": "code",
   "execution_count": 2,
   "id": "832aa9ce",
   "metadata": {},
   "outputs": [
    {
     "name": "stdout",
     "output_type": "stream",
     "text": [
      "Please enter a number: 3\n",
      "0\n",
      "1\n",
      "4\n"
     ]
    }
   ],
   "source": [
    "number = int(input('Please enter a number: '))\n",
    "c = 0\n",
    "\n",
    "while c < len(range(number)):\n",
    "    print(c**2)\n",
    "    c+=1"
   ]
  },
  {
   "cell_type": "code",
   "execution_count": 3,
   "id": "5f4311e0",
   "metadata": {
    "scrolled": true
   },
   "outputs": [
    {
     "name": "stdout",
     "output_type": "stream",
     "text": [
      "The type of {'section': 5, 'topic': 2} is <class 'dict'>\n",
      "The type of clarusway is <class 'str'>\n",
      "The type of [1, 4] is <class 'list'>\n",
      "The type of 2020 is <class 'int'>\n",
      "The type of 3.14 is <class 'float'>\n",
      "The type of (1+618j) is <class 'complex'>\n",
      "The type of False is <class 'bool'>\n",
      "The type of (10, 20) is <class 'tuple'>\n"
     ]
    }
   ],
   "source": [
    "sample_list = [{\"section\":5, \"topic\":2}, 'clarusway', [1, 4], 2020, 3.14,\\\n",
    "               1+618j, False, (10, 20)]\n",
    "for typer in sample_list :\n",
    "    print(\"The type of {} is\".format(typer), type(typer))"
   ]
  },
  {
   "cell_type": "code",
   "execution_count": null,
   "id": "785abad9",
   "metadata": {
    "scrolled": true
   },
   "outputs": [],
   "source": [
    "f_n = input(\"Please enter your first name :\")\n",
    "m_n = \"Yasir\"\n",
    "    \n",
    "while m_n != f_n.capitalize :\n",
    "    if m_n == f_n :\n",
    "        print (\"Hello {}! The Password is : Yaser\".format(f_n))\n",
    "    else :\n",
    "        print( \"Hello {}! See you later\")\n",
    "        break"
   ]
  },
  {
   "cell_type": "code",
   "execution_count": null,
   "id": "543fbff9",
   "metadata": {},
   "outputs": [],
   "source": []
  },
  {
   "cell_type": "code",
   "execution_count": 2,
   "id": "4c04fa00",
   "metadata": {
    "scrolled": true
   },
   "outputs": [
    {
     "name": "stdout",
     "output_type": "stream",
     "text": [
      "Please enter your first name :agf\n",
      "Hello agf! See you later\n"
     ]
    }
   ],
   "source": [
    "f_n = input(\"Please enter your first name :\")\n",
    "m_n = \"Yasir\"\n",
    "    \n",
    "while m_n != f_n :\n",
    "    if m_n == f_n.capitalize() :\n",
    "        print (\"Hello {}! The Password is : Yaser\".format(f_n))\n",
    "        break\n",
    "    else :\n",
    "        print( \"Hello {}! See you later\".format(f_n))\n",
    "        break"
   ]
  },
  {
   "cell_type": "code",
   "execution_count": 3,
   "id": "bae70198",
   "metadata": {},
   "outputs": [
    {
     "ename": "NameError",
     "evalue": "name 'yasir' is not defined",
     "output_type": "error",
     "traceback": [
      "\u001b[1;31m---------------------------------------------------------------------------\u001b[0m",
      "\u001b[1;31mNameError\u001b[0m                                 Traceback (most recent call last)",
      "\u001b[1;32m<ipython-input-3-c6d7fd9b0197>\u001b[0m in \u001b[0;36m<module>\u001b[1;34m\u001b[0m\n\u001b[1;32m----> 1\u001b[1;33m \u001b[0myasir\u001b[0m\u001b[1;33m\u001b[0m\u001b[1;33m\u001b[0m\u001b[0m\n\u001b[0m",
      "\u001b[1;31mNameError\u001b[0m: name 'yasir' is not defined"
     ]
    }
   ],
   "source": [
    "yasir"
   ]
  },
  {
   "cell_type": "code",
   "execution_count": 53,
   "id": "3b386300",
   "metadata": {},
   "outputs": [
    {
     "name": "stdout",
     "output_type": "stream",
     "text": [
      " Please enter a positive number for check the number as Prime or not:1\n",
      "1 is  a prime number\n"
     ]
    }
   ],
   "source": [
    "pr = int(input(\" Please enter a positive number for check the number as Prime or not:\"))\n",
    "\n",
    "for divider in range(2, pr) :\n",
    "    if pr % divider == 0:\n",
    "        print(pr,\"is not a prime number\")\n",
    "        break\n",
    "else :\n",
    "        print(pr,\"is  a prime number\")\n"
   ]
  },
  {
   "cell_type": "code",
   "execution_count": 54,
   "id": "9e8481fa",
   "metadata": {},
   "outputs": [
    {
     "name": "stdout",
     "output_type": "stream",
     "text": [
      "Enter temperature in celsius: 33\n",
      "33.0 Celsius is: 91.4 Fahrenheit\n"
     ]
    }
   ],
   "source": [
    "celsius = float(input(\"Enter temperature in celsius: \"))\n",
    "fahrenheit = (celsius * 9/5) + 32\n",
    "print('{} Celsius is: {} Fahrenheit'.format(celsius, fahrenheit))\n",
    "\n",
    "\n"
   ]
  },
  {
   "cell_type": "code",
   "execution_count": 56,
   "id": "47e90236",
   "metadata": {},
   "outputs": [
    {
     "name": "stdout",
     "output_type": "stream",
     "text": [
      "How many kilometers to convert miles?: 55\n",
      "55.0 kilometers is equal to 34.175405 miles\n"
     ]
    }
   ],
   "source": [
    "km = float(input('How many kilometers to convert miles?: '))  \n",
    "\n",
    "km_miles = 0.621371  \n",
    " \n",
    "miles = km * km_miles\n",
    "print('{} kilometers is equal to {} miles'.format(km,miles)) "
   ]
  },
  {
   "cell_type": "code",
   "execution_count": 61,
   "id": "74eb53b0",
   "metadata": {},
   "outputs": [
    {
     "data": {
      "text/plain": [
       "True"
      ]
     },
     "execution_count": 61,
     "metadata": {},
     "output_type": "execute_result"
    }
   ],
   "source": [
    "bool('no')"
   ]
  },
  {
   "cell_type": "code",
   "execution_count": 79,
   "id": "4764f388",
   "metadata": {},
   "outputs": [
    {
     "name": "stdout",
     "output_type": "stream",
     "text": [
      "smoke? yes or no?yes\n",
      "None\n"
     ]
    }
   ],
   "source": [
    "def risky():\n",
    "    age = input(\"smoke? yes or no?\")\n",
    "    if age.lower == \"yes\":\n",
    "        return True\n",
    "    if age.lower == \"no\":\n",
    "        return False\n",
    "\n",
    "\n",
    "print(risky())"
   ]
  },
  {
   "cell_type": "code",
   "execution_count": 83,
   "id": "50013fa0",
   "metadata": {},
   "outputs": [
    {
     "name": "stdout",
     "output_type": "stream",
     "text": [
      "Are you a cigarette addict older than 75 year old?Please Yes or No:no\n",
      "Do you have a severe chronic disease?Please Yes or Nono\n",
      "Is your immune system too weak? Please Yes or No no\n",
      "You are not in risky group\n"
     ]
    }
   ],
   "source": [
    "risky = []\n",
    "age = input(\"Are you a cigarette addict older than 75 year old?Please Yes or No:\").lower()\n",
    "\n",
    "if (age == 'yes'):\n",
    "    risky.append('yes')\n",
    "else:\n",
    "    risky.append('no')\n",
    "\n",
    "chronic = input('Do you have a severe chronic disease?Please Yes or No:').lower\n",
    "\n",
    "if (chronic == 'yes'):\n",
    "    risky.append('yes')\n",
    "else:\n",
    "    risky.append('no')\n",
    "    \n",
    "immune = input('Is your immune system too weak? Please Yes or No:').lower\n",
    "\n",
    "if (immune == 'yes'):\n",
    "    risky.append('yes')\n",
    "else:\n",
    "    risky.append('no')\n",
    "    \n",
    "if ('yes') in risky :\n",
    "    print('You are in risky group.')\n",
    "else:\n",
    "    print('Congratulations! You are not in risky group.')\n",
    "    "
   ]
  },
  {
   "cell_type": "code",
   "execution_count": 96,
   "id": "f1cc198b",
   "metadata": {},
   "outputs": [
    {
     "name": "stdout",
     "output_type": "stream",
     "text": [
      "Please enter a positive number for check as if the number is Armstrong number:21.1\n"
     ]
    },
    {
     "ename": "ValueError",
     "evalue": "invalid literal for int() with base 10: '21.1'",
     "output_type": "error",
     "traceback": [
      "\u001b[1;31m---------------------------------------------------------------------------\u001b[0m",
      "\u001b[1;31mValueError\u001b[0m                                Traceback (most recent call last)",
      "\u001b[1;32m<ipython-input-96-6953785130ce>\u001b[0m in \u001b[0;36m<module>\u001b[1;34m\u001b[0m\n\u001b[1;32m----> 1\u001b[1;33m num = int(input(\"Please enter a positive number for check \\\n\u001b[0m\u001b[0;32m      2\u001b[0m as if the number is Armstrong number:\"))\n\u001b[0;32m      3\u001b[0m \u001b[0mchk\u001b[0m \u001b[1;33m=\u001b[0m \u001b[1;36m0\u001b[0m\u001b[1;33m\u001b[0m\u001b[1;33m\u001b[0m\u001b[0m\n\u001b[0;32m      4\u001b[0m \u001b[0mnum_list\u001b[0m \u001b[1;33m=\u001b[0m \u001b[0mlist\u001b[0m\u001b[1;33m(\u001b[0m\u001b[0mmap\u001b[0m\u001b[1;33m(\u001b[0m\u001b[0mint\u001b[0m\u001b[1;33m,\u001b[0m\u001b[0mstr\u001b[0m\u001b[1;33m(\u001b[0m\u001b[0mnum\u001b[0m\u001b[1;33m)\u001b[0m\u001b[1;33m)\u001b[0m\u001b[1;33m)\u001b[0m\u001b[1;33m\u001b[0m\u001b[1;33m\u001b[0m\u001b[0m\n\u001b[0;32m      5\u001b[0m \u001b[1;32mif\u001b[0m \u001b[0mnum\u001b[0m \u001b[1;33m>\u001b[0m \u001b[1;36m0\u001b[0m \u001b[1;33m:\u001b[0m\u001b[1;33m\u001b[0m\u001b[1;33m\u001b[0m\u001b[0m\n",
      "\u001b[1;31mValueError\u001b[0m: invalid literal for int() with base 10: '21.1'"
     ]
    }
   ],
   "source": [
    "num = input(\"Please enter a positive number for check \\\n",
    "as if the number is Armstrong number:\")\n",
    "num_int = int(num)\n",
    "chk = 0\n",
    "num_list = list(map(int,str(num)))\n",
    "if num == num_int :\n",
    "    for i in (num_list) :\n",
    "        chk = chk + i**len(num_list)\n",
    "else:\n",
    "    print(\"{} not eligible positive number, \\\n",
    "    please enter a number for test the Armstrong number\".format(num))"
   ]
  },
  {
   "cell_type": "code",
   "execution_count": 92,
   "id": "9edcd233",
   "metadata": {},
   "outputs": [
    {
     "ename": "NameError",
     "evalue": "name 'num_list' is not defined",
     "output_type": "error",
     "traceback": [
      "\u001b[1;31m---------------------------------------------------------------------------\u001b[0m",
      "\u001b[1;31mNameError\u001b[0m                                 Traceback (most recent call last)",
      "\u001b[1;32m<ipython-input-92-206d2d312a80>\u001b[0m in \u001b[0;36m<module>\u001b[1;34m\u001b[0m\n\u001b[1;32m----> 1\u001b[1;33m \u001b[0mnum_list\u001b[0m\u001b[1;33m\u001b[0m\u001b[1;33m\u001b[0m\u001b[0m\n\u001b[0m",
      "\u001b[1;31mNameError\u001b[0m: name 'num_list' is not defined"
     ]
    }
   ],
   "source": [
    "num_list"
   ]
  },
  {
   "cell_type": "code",
   "execution_count": 104,
   "id": "5c214ec7",
   "metadata": {},
   "outputs": [
    {
     "name": "stdout",
     "output_type": "stream",
     "text": [
      "Please enter a positive number for check as if the number is Armstrong number:ad\n"
     ]
    },
    {
     "ename": "ValueError",
     "evalue": "invalid literal for int() with base 10: 'a'",
     "output_type": "error",
     "traceback": [
      "\u001b[1;31m---------------------------------------------------------------------------\u001b[0m",
      "\u001b[1;31mValueError\u001b[0m                                Traceback (most recent call last)",
      "\u001b[1;32m<ipython-input-104-577f7b1959ca>\u001b[0m in \u001b[0;36m<module>\u001b[1;34m\u001b[0m\n\u001b[0;32m      4\u001b[0m \u001b[1;33m\u001b[0m\u001b[0m\n\u001b[0;32m      5\u001b[0m \u001b[0mchk\u001b[0m \u001b[1;33m=\u001b[0m \u001b[1;36m0\u001b[0m\u001b[1;33m\u001b[0m\u001b[1;33m\u001b[0m\u001b[0m\n\u001b[1;32m----> 6\u001b[1;33m \u001b[0mnum_list\u001b[0m \u001b[1;33m=\u001b[0m \u001b[0mlist\u001b[0m\u001b[1;33m(\u001b[0m\u001b[0mmap\u001b[0m\u001b[1;33m(\u001b[0m\u001b[0mint\u001b[0m\u001b[1;33m,\u001b[0m\u001b[0mstr\u001b[0m\u001b[1;33m(\u001b[0m\u001b[0mnum\u001b[0m\u001b[1;33m)\u001b[0m\u001b[1;33m)\u001b[0m\u001b[1;33m)\u001b[0m\u001b[1;33m\u001b[0m\u001b[1;33m\u001b[0m\u001b[0m\n\u001b[0m\u001b[0;32m      7\u001b[0m \u001b[1;32mif\u001b[0m \u001b[1;32mnot\u001b[0m \u001b[0misinstance\u001b[0m\u001b[1;33m(\u001b[0m\u001b[0mnum\u001b[0m\u001b[1;33m,\u001b[0m\u001b[0mint\u001b[0m\u001b[1;33m)\u001b[0m \u001b[1;33m:\u001b[0m\u001b[1;33m\u001b[0m\u001b[1;33m\u001b[0m\u001b[0m\n\u001b[0;32m      8\u001b[0m     input(\"{} not eligible positive number,\\\n",
      "\u001b[1;31mValueError\u001b[0m: invalid literal for int() with base 10: 'a'"
     ]
    }
   ],
   "source": [
    "num = input(\"Please enter a positive number for check \\\n",
    "as if the number is Armstrong number:\")\n",
    "num_int = int(num)\n",
    "chk = 0\n",
    "num_list = list(map(int,str(num)))\n",
    "if not isinstance(num,int) :\n",
    "    input(\"{} not eligible positive number,\\\n",
    "    please enter a number for test the Armstrong number\".format(num))\n",
    "else:\n",
    "    for i in (num_list) :\n",
    "        chk = chk + i**len(num_list)\n",
    "    print(\"{} not eligible positive number, \\\n",
    "    please enter a number for test the Armstrong number\".format(num))"
   ]
  },
  {
   "cell_type": "code",
   "execution_count": 115,
   "id": "7c422d79",
   "metadata": {},
   "outputs": [],
   "source": [
    "asd=\"asd\"\n",
    "isinstance(asd,int)\n",
    "num_int = int(num)\n",
    "num_list = list(map(int,str(num)))"
   ]
  },
  {
   "cell_type": "code",
   "execution_count": 141,
   "id": "c4604ec1",
   "metadata": {},
   "outputs": [
    {
     "name": "stdout",
     "output_type": "stream",
     "text": [
      "Please enter a positive number to test for armstrong number:123\n",
      "123 not eligible positive number,    Please enter a positive number for test for Armstrong number\n"
     ]
    }
   ],
   "source": [
    "num = input(\"Please enter a positive number to test for armstrong number:\")\n",
    "\n",
    "\n",
    "if  isinstance(num, int)!=True :\n",
    "    \n",
    "    print(\"{} not eligible positive number,\\\n",
    "    Please enter a positive number for test for Armstrong number\".format(num))\n",
    "elif True:\n",
    "    num_int = int(num)\n",
    "    num_list = list(map(int,str(num)))\n",
    "    for i in (num_list) :\n",
    "        chk = 0\n",
    "        chk = chk + i**len(num_list)\n",
    "   "
   ]
  },
  {
   "cell_type": "code",
   "execution_count": 121,
   "id": "697027ee",
   "metadata": {},
   "outputs": [
    {
     "data": {
      "text/plain": [
       "8"
      ]
     },
     "execution_count": 121,
     "metadata": {},
     "output_type": "execute_result"
    }
   ],
   "source": [
    "num=222\n",
    "num_list = list(map(int,str(num)))\n",
    "i=2\n",
    "chk = 0\n",
    "chk = chk + i**len(num_list)\n",
    "chk"
   ]
  },
  {
   "cell_type": "code",
   "execution_count": 131,
   "id": "7ddec65c",
   "metadata": {},
   "outputs": [
    {
     "name": "stdout",
     "output_type": "stream",
     "text": [
      "Please enter a positive number to test for armstrong number:123\n",
      "123 not eligible positive number,    Please enter a positive number for test for Armstrong number\n"
     ]
    }
   ],
   "source": [
    "isinstance(num, int)\n",
    "\n",
    "if isinstance(num, int)== :\n",
    "     for i in (num_list) :\n",
    "        chk = 0\n",
    "        chk = chk + i**len(num_list)\n",
    "else:\n",
    "    print(\"{} not eligible positive number,\\\n",
    "    Please enter a positive number for test for Armstrong number\".format(num))\n",
    "  "
   ]
  },
  {
   "cell_type": "code",
   "execution_count": 135,
   "id": "0cea4f57",
   "metadata": {},
   "outputs": [
    {
     "name": "stdout",
     "output_type": "stream",
     "text": [
      "Please enter a positive number to test for armstrong number:123\n"
     ]
    }
   ],
   "source": [
    "num = input(\"Please enter a positive number to test for armstrong number:\")\n",
    "num_int = int(num)\n",
    "num_list = list(map(int,str(num)))\n",
    "if isinstance(num, int) :\n",
    "    print(num)"
   ]
  },
  {
   "cell_type": "code",
   "execution_count": 139,
   "id": "d2029c85",
   "metadata": {},
   "outputs": [
    {
     "data": {
      "text/plain": [
       "True"
      ]
     },
     "execution_count": 139,
     "metadata": {},
     "output_type": "execute_result"
    }
   ],
   "source": [
    "nu=4\n",
    "h=1\n",
    "isinstance(nu, int)"
   ]
  },
  {
   "cell_type": "code",
   "execution_count": 164,
   "id": "612cb7f1",
   "metadata": {},
   "outputs": [
    {
     "ename": "IndentationError",
     "evalue": "unexpected indent (<ipython-input-164-75ee3a60dc36>, line 8)",
     "output_type": "error",
     "traceback": [
      "\u001b[1;36m  File \u001b[1;32m\"<ipython-input-164-75ee3a60dc36>\"\u001b[1;36m, line \u001b[1;32m8\u001b[0m\n\u001b[1;33m    if chk==num :\u001b[0m\n\u001b[1;37m    ^\u001b[0m\n\u001b[1;31mIndentationError\u001b[0m\u001b[1;31m:\u001b[0m unexpected indent\n"
     ]
    }
   ],
   "source": [
    "num = input(\"Please enter a positive number to test for armstrong number:\")\n",
    "num_int = int(num)\n",
    "num_list = list(map(int,str(num)))\n",
    "chk = 0\n",
    "if not isinstance(num, int)  :\n",
    "    for i in (num_list) :\n",
    "        chk+= i**len(num_list)\n",
    "        if chk==num :\n",
    "            print(\"{} number is an Armstrong Number\".format(num))\n",
    "        else :\n",
    "            print(\"{} number is not an Armstrong Number\".format(num))\n",
    "        \n",
    "else :\n",
    "    print(\"{} not eligible positive number\\\n",
    "Please enter a positive number for test for Armstrong number\".format(num))\n",
    "\n"
   ]
  },
  {
   "cell_type": "code",
   "execution_count": 146,
   "id": "a0e996bf",
   "metadata": {},
   "outputs": [
    {
     "name": "stdout",
     "output_type": "stream",
     "text": [
      "Please enter a positive number to test for armstrong number:44.2\n"
     ]
    },
    {
     "ename": "ValueError",
     "evalue": "invalid literal for int() with base 10: '44.2'",
     "output_type": "error",
     "traceback": [
      "\u001b[1;31m---------------------------------------------------------------------------\u001b[0m",
      "\u001b[1;31mValueError\u001b[0m                                Traceback (most recent call last)",
      "\u001b[1;32m<ipython-input-146-22f91342eaf0>\u001b[0m in \u001b[0;36m<module>\u001b[1;34m\u001b[0m\n\u001b[0;32m      1\u001b[0m \u001b[0mnum\u001b[0m \u001b[1;33m=\u001b[0m \u001b[0minput\u001b[0m\u001b[1;33m(\u001b[0m\u001b[1;34m\"Please enter a positive number to test for armstrong number:\"\u001b[0m\u001b[1;33m)\u001b[0m\u001b[1;33m\u001b[0m\u001b[1;33m\u001b[0m\u001b[0m\n\u001b[1;32m----> 2\u001b[1;33m \u001b[0mnum_int\u001b[0m \u001b[1;33m=\u001b[0m \u001b[0mint\u001b[0m\u001b[1;33m(\u001b[0m\u001b[0mnum\u001b[0m\u001b[1;33m)\u001b[0m\u001b[1;33m\u001b[0m\u001b[1;33m\u001b[0m\u001b[0m\n\u001b[0m\u001b[0;32m      3\u001b[0m \u001b[0mnum_int\u001b[0m\u001b[1;33m\u001b[0m\u001b[1;33m\u001b[0m\u001b[0m\n",
      "\u001b[1;31mValueError\u001b[0m: invalid literal for int() with base 10: '44.2'"
     ]
    }
   ],
   "source": [
    "num = input(\"Please enter a positive number to test for armstrong number:\")\n",
    "num_int = int(num)\n",
    "num_int"
   ]
  },
  {
   "cell_type": "code",
   "execution_count": 178,
   "id": "2a6a8954",
   "metadata": {},
   "outputs": [
    {
     "name": "stdout",
     "output_type": "stream",
     "text": [
      "Please enter a positive number to test for armstrong number:371\n"
     ]
    }
   ],
   "source": [
    "num = input(\"Please enter a positive number to test for armstrong number:\")\n",
    "num_int = int(num)\n",
    "num_list = list(map(int,str(num)))\n",
    "chk = 0\n",
    "\n",
    "if not isinstance(num, int)  : \n",
    "    for i in (num_list) :\n",
    "        chk+= i**len(num_list)\n",
    "        if chk==num :\n",
    "            print(\"{} number is an Armstrong Number\".format(num))\n",
    "\n",
    "elif chk!=num:\n",
    "        print(\"{} number is not an Armstrong Number\".format(num))\n",
    "        \n",
    "else :\n",
    "    print(\"{} not eligible positive number\\\n",
    "Please enter a positive number for test for Armstrong number\".format(num))"
   ]
  },
  {
   "cell_type": "code",
   "execution_count": null,
   "id": "59d841e8",
   "metadata": {},
   "outputs": [],
   "source": []
  },
  {
   "cell_type": "code",
   "execution_count": null,
   "id": "893fe402",
   "metadata": {},
   "outputs": [],
   "source": []
  },
  {
   "cell_type": "code",
   "execution_count": null,
   "id": "54ac5491",
   "metadata": {},
   "outputs": [],
   "source": []
  },
  {
   "cell_type": "code",
   "execution_count": null,
   "id": "a8f38f39",
   "metadata": {},
   "outputs": [],
   "source": []
  },
  {
   "cell_type": "code",
   "execution_count": null,
   "id": "046eeb53",
   "metadata": {},
   "outputs": [],
   "source": []
  }
 ],
 "metadata": {
  "kernelspec": {
   "display_name": "Python 3",
   "language": "python",
   "name": "python3"
  },
  "language_info": {
   "codemirror_mode": {
    "name": "ipython",
    "version": 3
   },
   "file_extension": ".py",
   "mimetype": "text/x-python",
   "name": "python",
   "nbconvert_exporter": "python",
   "pygments_lexer": "ipython3",
   "version": "3.8.8"
  }
 },
 "nbformat": 4,
 "nbformat_minor": 5
}
