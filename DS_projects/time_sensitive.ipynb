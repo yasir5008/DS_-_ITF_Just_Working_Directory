{
 "cells": [
  {
   "cell_type": "code",
   "execution_count": 9,
   "metadata": {},
   "outputs": [],
   "source": [
    "import pandas as pd\n",
    "import numpy as np"
   ]
  },
  {
   "cell_type": "code",
   "execution_count": 10,
   "metadata": {},
   "outputs": [
    {
     "data": {
      "text/html": [
       "<div>\n",
       "<style scoped>\n",
       "    .dataframe tbody tr th:only-of-type {\n",
       "        vertical-align: middle;\n",
       "    }\n",
       "\n",
       "    .dataframe tbody tr th {\n",
       "        vertical-align: top;\n",
       "    }\n",
       "\n",
       "    .dataframe thead th {\n",
       "        text-align: right;\n",
       "    }\n",
       "</style>\n",
       "<table border=\"1\" class=\"dataframe\">\n",
       "  <thead>\n",
       "    <tr style=\"text-align: right;\">\n",
       "      <th></th>\n",
       "      <th>buyer_id</th>\n",
       "      <th>buyer_country</th>\n",
       "      <th>seller_id</th>\n",
       "      <th>seller_country</th>\n",
       "      <th>product_code</th>\n",
       "      <th>category</th>\n",
       "      <th>brand</th>\n",
       "      <th>currency</th>\n",
       "      <th>price</th>\n",
       "      <th>date</th>\n",
       "    </tr>\n",
       "  </thead>\n",
       "  <tbody>\n",
       "    <tr>\n",
       "      <th>0</th>\n",
       "      <td>qzpjsi9t0o</td>\n",
       "      <td>GB</td>\n",
       "      <td>6oufpaot</td>\n",
       "      <td>GB</td>\n",
       "      <td>ydecnydr6obf</td>\n",
       "      <td>Dresses</td>\n",
       "      <td>NaN</td>\n",
       "      <td>GBP</td>\n",
       "      <td>19.11</td>\n",
       "      <td>2020-08-03</td>\n",
       "    </tr>\n",
       "    <tr>\n",
       "      <th>1</th>\n",
       "      <td>o79pns1qwo</td>\n",
       "      <td>GB</td>\n",
       "      <td>50xki2yg</td>\n",
       "      <td>GB</td>\n",
       "      <td>38chj507o6h2</td>\n",
       "      <td>Outerwear</td>\n",
       "      <td>Adidas Originals</td>\n",
       "      <td>GBP</td>\n",
       "      <td>15.92</td>\n",
       "      <td>2020-08-09</td>\n",
       "    </tr>\n",
       "    <tr>\n",
       "      <th>2</th>\n",
       "      <td>sjgbjdkhqx</td>\n",
       "      <td>GB</td>\n",
       "      <td>50xki2yg</td>\n",
       "      <td>GB</td>\n",
       "      <td>i9ynyxj5tdp8</td>\n",
       "      <td>Tops - Mens</td>\n",
       "      <td>NaN</td>\n",
       "      <td>GBP</td>\n",
       "      <td>6.37</td>\n",
       "      <td>2020-08-07</td>\n",
       "    </tr>\n",
       "    <tr>\n",
       "      <th>3</th>\n",
       "      <td>o79pns1qwo</td>\n",
       "      <td>GB</td>\n",
       "      <td>s0p322hh</td>\n",
       "      <td>GB</td>\n",
       "      <td>t50xe7moye8v</td>\n",
       "      <td>Tops - Mens</td>\n",
       "      <td>Berghaus</td>\n",
       "      <td>GBP</td>\n",
       "      <td>25.27</td>\n",
       "      <td>2020-08-09</td>\n",
       "    </tr>\n",
       "    <tr>\n",
       "      <th>4</th>\n",
       "      <td>o79pns1qwo</td>\n",
       "      <td>GB</td>\n",
       "      <td>dpkx192v</td>\n",
       "      <td>GB</td>\n",
       "      <td>hp4r9bjq68af</td>\n",
       "      <td>Bottoms - Womens</td>\n",
       "      <td>NaN</td>\n",
       "      <td>GBP</td>\n",
       "      <td>8.90</td>\n",
       "      <td>2020-08-09</td>\n",
       "    </tr>\n",
       "  </tbody>\n",
       "</table>\n",
       "</div>"
      ],
      "text/plain": [
       "     buyer_id buyer_country seller_id seller_country  product_code  \\\n",
       "0  qzpjsi9t0o            GB  6oufpaot             GB  ydecnydr6obf   \n",
       "1  o79pns1qwo            GB  50xki2yg             GB  38chj507o6h2   \n",
       "2  sjgbjdkhqx            GB  50xki2yg             GB  i9ynyxj5tdp8   \n",
       "3  o79pns1qwo            GB  s0p322hh             GB  t50xe7moye8v   \n",
       "4  o79pns1qwo            GB  dpkx192v             GB  hp4r9bjq68af   \n",
       "\n",
       "           category             brand currency  price       date  \n",
       "0           Dresses               NaN      GBP  19.11 2020-08-03  \n",
       "1         Outerwear  Adidas Originals      GBP  15.92 2020-08-09  \n",
       "2       Tops - Mens               NaN      GBP   6.37 2020-08-07  \n",
       "3       Tops - Mens          Berghaus      GBP  25.27 2020-08-09  \n",
       "4  Bottoms - Womens               NaN      GBP   8.90 2020-08-09  "
      ]
     },
     "execution_count": 10,
     "metadata": {},
     "output_type": "execute_result"
    }
   ],
   "source": [
    "sales = pd.read_csv('sales_082020.csv', parse_dates=['date'])\n",
    "\n",
    "sales.head()"
   ]
  },
  {
   "cell_type": "code",
   "execution_count": 11,
   "metadata": {},
   "outputs": [
    {
     "name": "stdout",
     "output_type": "stream",
     "text": [
      "<class 'pandas.core.frame.DataFrame'>\n",
      "RangeIndex: 237671 entries, 0 to 237670\n",
      "Data columns (total 10 columns):\n",
      " #   Column          Non-Null Count   Dtype         \n",
      "---  ------          --------------   -----         \n",
      " 0   buyer_id        237671 non-null  object        \n",
      " 1   buyer_country   237671 non-null  object        \n",
      " 2   seller_id       237671 non-null  object        \n",
      " 3   seller_country  237671 non-null  object        \n",
      " 4   product_code    237671 non-null  object        \n",
      " 5   category        237655 non-null  object        \n",
      " 6   brand           119330 non-null  object        \n",
      " 7   currency        237671 non-null  object        \n",
      " 8   price           237671 non-null  float64       \n",
      " 9   date            237671 non-null  datetime64[ns]\n",
      "dtypes: datetime64[ns](1), float64(1), object(8)\n",
      "memory usage: 18.1+ MB\n"
     ]
    }
   ],
   "source": [
    "sales.info()"
   ]
  },
  {
   "cell_type": "code",
   "execution_count": 12,
   "metadata": {},
   "outputs": [
    {
     "name": "stdout",
     "output_type": "stream",
     "text": [
      "237671 rows & 10 columns in this dataset.\n"
     ]
    }
   ],
   "source": [
    "print(f\"{sales.shape[0]} rows & {sales.shape[1]} columns in this dataset.\")"
   ]
  },
  {
   "cell_type": "code",
   "execution_count": 5,
   "metadata": {},
   "outputs": [
    {
     "data": {
      "text/plain": [
       "array(['GBP', 'USD', 'AUD', 'EUR', 'CAD', 'NZD', 'HKD', 'CHF', 'SEK',\n",
       "       'DKK', 'ILS', 'PLN', 'THB', 'MXN', 'JPY', 'NOK', 'SGD', 'MYR',\n",
       "       'TWD', 'HUF', 'CZK', 'BRL'], dtype=object)"
      ]
     },
     "execution_count": 5,
     "metadata": {},
     "output_type": "execute_result"
    }
   ],
   "source": [
    "sales.currency.unique()"
   ]
  },
  {
   "cell_type": "code",
   "execution_count": 13,
   "metadata": {},
   "outputs": [
    {
     "name": "stdout",
     "output_type": "stream",
     "text": [
      "114227 sellers in dataset.\n"
     ]
    }
   ],
   "source": [
    "print(f\"{sales['seller_id'].nunique()} sellers in dataset.\")"
   ]
  },
  {
   "cell_type": "code",
   "execution_count": 14,
   "metadata": {},
   "outputs": [
    {
     "data": {
      "text/html": [
       "<div>\n",
       "<style scoped>\n",
       "    .dataframe tbody tr th:only-of-type {\n",
       "        vertical-align: middle;\n",
       "    }\n",
       "\n",
       "    .dataframe tbody tr th {\n",
       "        vertical-align: top;\n",
       "    }\n",
       "\n",
       "    .dataframe thead th {\n",
       "        text-align: right;\n",
       "    }\n",
       "</style>\n",
       "<table border=\"1\" class=\"dataframe\">\n",
       "  <thead>\n",
       "    <tr style=\"text-align: right;\">\n",
       "      <th></th>\n",
       "      <th>currency</th>\n",
       "      <th>date</th>\n",
       "      <th>rate</th>\n",
       "    </tr>\n",
       "  </thead>\n",
       "  <tbody>\n",
       "    <tr>\n",
       "      <th>0</th>\n",
       "      <td>EUR</td>\n",
       "      <td>2020-08-01</td>\n",
       "      <td>1.0</td>\n",
       "    </tr>\n",
       "    <tr>\n",
       "      <th>1</th>\n",
       "      <td>EUR</td>\n",
       "      <td>2020-08-02</td>\n",
       "      <td>1.0</td>\n",
       "    </tr>\n",
       "    <tr>\n",
       "      <th>2</th>\n",
       "      <td>EUR</td>\n",
       "      <td>2020-08-03</td>\n",
       "      <td>1.0</td>\n",
       "    </tr>\n",
       "    <tr>\n",
       "      <th>3</th>\n",
       "      <td>EUR</td>\n",
       "      <td>2020-08-04</td>\n",
       "      <td>1.0</td>\n",
       "    </tr>\n",
       "    <tr>\n",
       "      <th>4</th>\n",
       "      <td>EUR</td>\n",
       "      <td>2020-08-05</td>\n",
       "      <td>1.0</td>\n",
       "    </tr>\n",
       "  </tbody>\n",
       "</table>\n",
       "</div>"
      ],
      "text/plain": [
       "  currency       date  rate\n",
       "0      EUR 2020-08-01   1.0\n",
       "1      EUR 2020-08-02   1.0\n",
       "2      EUR 2020-08-03   1.0\n",
       "3      EUR 2020-08-04   1.0\n",
       "4      EUR 2020-08-05   1.0"
      ]
     },
     "execution_count": 14,
     "metadata": {},
     "output_type": "execute_result"
    }
   ],
   "source": [
    "currency_rates = pd.read_csv('currency_rates_082020_EUR.csv', parse_dates=['date'])\n",
    "\n",
    "currency_rates.head()"
   ]
  },
  {
   "cell_type": "code",
   "execution_count": 15,
   "metadata": {},
   "outputs": [
    {
     "name": "stdout",
     "output_type": "stream",
     "text": [
      "<class 'pandas.core.frame.DataFrame'>\n",
      "RangeIndex: 220 entries, 0 to 219\n",
      "Data columns (total 3 columns):\n",
      " #   Column    Non-Null Count  Dtype         \n",
      "---  ------    --------------  -----         \n",
      " 0   currency  220 non-null    object        \n",
      " 1   date      220 non-null    datetime64[ns]\n",
      " 2   rate      220 non-null    float64       \n",
      "dtypes: datetime64[ns](1), float64(1), object(1)\n",
      "memory usage: 5.3+ KB\n"
     ]
    }
   ],
   "source": [
    "currency_rates.info()"
   ]
  },
  {
   "cell_type": "code",
   "execution_count": 16,
   "metadata": {},
   "outputs": [
    {
     "data": {
      "text/plain": [
       "array(['EUR', 'GBP', 'USD', 'AUD', 'CAD', 'NZD', 'HKD', 'CHF', 'SEK',\n",
       "       'DKK', 'ILS', 'PLN', 'THB', 'MXN', 'JPY', 'NOK', 'SGD', 'MYR',\n",
       "       'TWD', 'HUF', 'CZK', 'BRL'], dtype=object)"
      ]
     },
     "execution_count": 16,
     "metadata": {},
     "output_type": "execute_result"
    }
   ],
   "source": [
    "currency_rates['currency'].unique()"
   ]
  },
  {
   "cell_type": "code",
   "execution_count": 17,
   "metadata": {},
   "outputs": [
    {
     "data": {
      "text/html": [
       "<div>\n",
       "<style scoped>\n",
       "    .dataframe tbody tr th:only-of-type {\n",
       "        vertical-align: middle;\n",
       "    }\n",
       "\n",
       "    .dataframe tbody tr th {\n",
       "        vertical-align: top;\n",
       "    }\n",
       "\n",
       "    .dataframe thead th {\n",
       "        text-align: right;\n",
       "    }\n",
       "</style>\n",
       "<table border=\"1\" class=\"dataframe\">\n",
       "  <thead>\n",
       "    <tr style=\"text-align: right;\">\n",
       "      <th></th>\n",
       "      <th>buyer_id</th>\n",
       "      <th>buyer_country</th>\n",
       "      <th>seller_id</th>\n",
       "      <th>seller_country</th>\n",
       "      <th>product_code</th>\n",
       "      <th>category</th>\n",
       "      <th>brand</th>\n",
       "      <th>currency</th>\n",
       "      <th>price</th>\n",
       "      <th>date</th>\n",
       "      <th>rate</th>\n",
       "    </tr>\n",
       "  </thead>\n",
       "  <tbody>\n",
       "    <tr>\n",
       "      <th>0</th>\n",
       "      <td>qzpjsi9t0o</td>\n",
       "      <td>GB</td>\n",
       "      <td>6oufpaot</td>\n",
       "      <td>GB</td>\n",
       "      <td>ydecnydr6obf</td>\n",
       "      <td>Dresses</td>\n",
       "      <td>NaN</td>\n",
       "      <td>GBP</td>\n",
       "      <td>19.11</td>\n",
       "      <td>2020-08-03</td>\n",
       "      <td>0.89935</td>\n",
       "    </tr>\n",
       "    <tr>\n",
       "      <th>1</th>\n",
       "      <td>o79pns1qwo</td>\n",
       "      <td>GB</td>\n",
       "      <td>50xki2yg</td>\n",
       "      <td>GB</td>\n",
       "      <td>38chj507o6h2</td>\n",
       "      <td>Outerwear</td>\n",
       "      <td>Adidas Originals</td>\n",
       "      <td>GBP</td>\n",
       "      <td>15.92</td>\n",
       "      <td>2020-08-09</td>\n",
       "      <td>0.90278</td>\n",
       "    </tr>\n",
       "    <tr>\n",
       "      <th>2</th>\n",
       "      <td>sjgbjdkhqx</td>\n",
       "      <td>GB</td>\n",
       "      <td>50xki2yg</td>\n",
       "      <td>GB</td>\n",
       "      <td>i9ynyxj5tdp8</td>\n",
       "      <td>Tops - Mens</td>\n",
       "      <td>NaN</td>\n",
       "      <td>GBP</td>\n",
       "      <td>6.37</td>\n",
       "      <td>2020-08-07</td>\n",
       "      <td>0.90286</td>\n",
       "    </tr>\n",
       "    <tr>\n",
       "      <th>3</th>\n",
       "      <td>o79pns1qwo</td>\n",
       "      <td>GB</td>\n",
       "      <td>s0p322hh</td>\n",
       "      <td>GB</td>\n",
       "      <td>t50xe7moye8v</td>\n",
       "      <td>Tops - Mens</td>\n",
       "      <td>Berghaus</td>\n",
       "      <td>GBP</td>\n",
       "      <td>25.27</td>\n",
       "      <td>2020-08-09</td>\n",
       "      <td>0.90278</td>\n",
       "    </tr>\n",
       "    <tr>\n",
       "      <th>4</th>\n",
       "      <td>o79pns1qwo</td>\n",
       "      <td>GB</td>\n",
       "      <td>dpkx192v</td>\n",
       "      <td>GB</td>\n",
       "      <td>hp4r9bjq68af</td>\n",
       "      <td>Bottoms - Womens</td>\n",
       "      <td>NaN</td>\n",
       "      <td>GBP</td>\n",
       "      <td>8.90</td>\n",
       "      <td>2020-08-09</td>\n",
       "      <td>0.90278</td>\n",
       "    </tr>\n",
       "  </tbody>\n",
       "</table>\n",
       "</div>"
      ],
      "text/plain": [
       "     buyer_id buyer_country seller_id seller_country  product_code  \\\n",
       "0  qzpjsi9t0o            GB  6oufpaot             GB  ydecnydr6obf   \n",
       "1  o79pns1qwo            GB  50xki2yg             GB  38chj507o6h2   \n",
       "2  sjgbjdkhqx            GB  50xki2yg             GB  i9ynyxj5tdp8   \n",
       "3  o79pns1qwo            GB  s0p322hh             GB  t50xe7moye8v   \n",
       "4  o79pns1qwo            GB  dpkx192v             GB  hp4r9bjq68af   \n",
       "\n",
       "           category             brand currency  price       date     rate  \n",
       "0           Dresses               NaN      GBP  19.11 2020-08-03  0.89935  \n",
       "1         Outerwear  Adidas Originals      GBP  15.92 2020-08-09  0.90278  \n",
       "2       Tops - Mens               NaN      GBP   6.37 2020-08-07  0.90286  \n",
       "3       Tops - Mens          Berghaus      GBP  25.27 2020-08-09  0.90278  \n",
       "4  Bottoms - Womens               NaN      GBP   8.90 2020-08-09  0.90278  "
      ]
     },
     "execution_count": 17,
     "metadata": {},
     "output_type": "execute_result"
    }
   ],
   "source": [
    "sales_and_currency = sales.merge(currency_rates, how='left', on=['currency', 'date'])\n",
    "sales_and_currency.head()\n"
   ]
  },
  {
   "cell_type": "code",
   "execution_count": 18,
   "metadata": {},
   "outputs": [
    {
     "data": {
      "text/plain": [
       "array(['GBP', 'USD', 'AUD', 'EUR', 'CAD', 'NZD', 'HKD', 'CHF', 'SEK',\n",
       "       'DKK', 'ILS', 'PLN', 'THB', 'MXN', 'JPY', 'NOK', 'SGD', 'MYR',\n",
       "       'TWD', 'HUF', 'CZK', 'BRL'], dtype=object)"
      ]
     },
     "execution_count": 18,
     "metadata": {},
     "output_type": "execute_result"
    }
   ],
   "source": [
    "sales['currency'].unique()"
   ]
  },
  {
   "cell_type": "code",
   "execution_count": 19,
   "metadata": {},
   "outputs": [],
   "source": [
    "sales_and_currency['price_€'] = (1 / sales_and_currency['rate']) * sales_and_currency['price']"
   ]
  },
  {
   "cell_type": "code",
   "execution_count": 20,
   "metadata": {},
   "outputs": [
    {
     "name": "stdout",
     "output_type": "stream",
     "text": [
      "Total sales are €6,471,511.\n"
     ]
    }
   ],
   "source": [
    "print(\"Total sales are €{:,.0f}.\".format(sales_and_currency['price_€'].sum()))"
   ]
  },
  {
   "cell_type": "code",
   "execution_count": 21,
   "metadata": {},
   "outputs": [
    {
     "data": {
      "text/html": [
       "<div>\n",
       "<style scoped>\n",
       "    .dataframe tbody tr th:only-of-type {\n",
       "        vertical-align: middle;\n",
       "    }\n",
       "\n",
       "    .dataframe tbody tr th {\n",
       "        vertical-align: top;\n",
       "    }\n",
       "\n",
       "    .dataframe thead th {\n",
       "        text-align: right;\n",
       "    }\n",
       "</style>\n",
       "<table border=\"1\" class=\"dataframe\">\n",
       "  <thead>\n",
       "    <tr style=\"text-align: right;\">\n",
       "      <th></th>\n",
       "      <th>price_€</th>\n",
       "    </tr>\n",
       "    <tr>\n",
       "      <th>brand</th>\n",
       "      <th></th>\n",
       "    </tr>\n",
       "  </thead>\n",
       "  <tbody>\n",
       "    <tr>\n",
       "      <th>Nike</th>\n",
       "      <td>385022.41</td>\n",
       "    </tr>\n",
       "    <tr>\n",
       "      <th>Adidas</th>\n",
       "      <td>114211.54</td>\n",
       "    </tr>\n",
       "    <tr>\n",
       "      <th>American Vintage</th>\n",
       "      <td>89939.91</td>\n",
       "    </tr>\n",
       "    <tr>\n",
       "      <th>Brandy Melville</th>\n",
       "      <td>87735.66</td>\n",
       "    </tr>\n",
       "    <tr>\n",
       "      <th>Dr. Martens</th>\n",
       "      <td>81491.62</td>\n",
       "    </tr>\n",
       "    <tr>\n",
       "      <th>...</th>\n",
       "      <td>...</td>\n",
       "    </tr>\n",
       "    <tr>\n",
       "      <th>butter LONDON</th>\n",
       "      <td>5.46</td>\n",
       "    </tr>\n",
       "    <tr>\n",
       "      <th>Ann Demeulemeester</th>\n",
       "      <td>5.26</td>\n",
       "    </tr>\n",
       "    <tr>\n",
       "      <th>Popular Sports</th>\n",
       "      <td>4.45</td>\n",
       "    </tr>\n",
       "    <tr>\n",
       "      <th>360 Cashmere</th>\n",
       "      <td>2.85</td>\n",
       "    </tr>\n",
       "    <tr>\n",
       "      <th>36572</th>\n",
       "      <td>0.95</td>\n",
       "    </tr>\n",
       "  </tbody>\n",
       "</table>\n",
       "<p>1134 rows × 1 columns</p>\n",
       "</div>"
      ],
      "text/plain": [
       "                      price_€\n",
       "brand                        \n",
       "Nike                385022.41\n",
       "Adidas              114211.54\n",
       "American Vintage     89939.91\n",
       "Brandy Melville      87735.66\n",
       "Dr. Martens          81491.62\n",
       "...                       ...\n",
       "butter LONDON            5.46\n",
       "Ann Demeulemeester       5.26\n",
       "Popular Sports           4.45\n",
       "360 Cashmere             2.85\n",
       "36572                    0.95\n",
       "\n",
       "[1134 rows x 1 columns]"
      ]
     },
     "execution_count": 21,
     "metadata": {},
     "output_type": "execute_result"
    }
   ],
   "source": [
    "(\n",
    "    sales_and_currency\n",
    "    .groupby('brand')\n",
    "    .agg({'price_€': 'sum'})\n",
    "    .sort_values(by='price_€', ascending=False)\n",
    "    .round(2)\n",
    ")"
   ]
  },
  {
   "cell_type": "code",
   "execution_count": 22,
   "metadata": {},
   "outputs": [
    {
     "data": {
      "text/plain": [
       "'Nike'"
      ]
     },
     "execution_count": 22,
     "metadata": {},
     "output_type": "execute_result"
    }
   ],
   "source": [
    "(\n",
    "    sales_and_currency\n",
    "    .groupby('brand')\n",
    "    .agg({'price_€': 'sum'})\n",
    "    .sort_values(by='price_€', ascending=False)\n",
    "    .index[0]\n",
    ")"
   ]
  },
  {
   "cell_type": "code",
   "execution_count": 23,
   "metadata": {},
   "outputs": [
    {
     "data": {
      "text/html": [
       "<div>\n",
       "<style scoped>\n",
       "    .dataframe tbody tr th:only-of-type {\n",
       "        vertical-align: middle;\n",
       "    }\n",
       "\n",
       "    .dataframe tbody tr th {\n",
       "        vertical-align: top;\n",
       "    }\n",
       "\n",
       "    .dataframe thead th {\n",
       "        text-align: right;\n",
       "    }\n",
       "</style>\n",
       "<table border=\"1\" class=\"dataframe\">\n",
       "  <thead>\n",
       "    <tr style=\"text-align: right;\">\n",
       "      <th></th>\n",
       "      <th>brand</th>\n",
       "    </tr>\n",
       "    <tr>\n",
       "      <th>category</th>\n",
       "      <th></th>\n",
       "    </tr>\n",
       "  </thead>\n",
       "  <tbody>\n",
       "    <tr>\n",
       "      <th>Tops - Womens</th>\n",
       "      <td>23844</td>\n",
       "    </tr>\n",
       "    <tr>\n",
       "      <th>Tops - Mens</th>\n",
       "      <td>20942</td>\n",
       "    </tr>\n",
       "    <tr>\n",
       "      <th>Bottoms - Womens</th>\n",
       "      <td>18252</td>\n",
       "    </tr>\n",
       "    <tr>\n",
       "      <th>Shoes</th>\n",
       "      <td>16532</td>\n",
       "    </tr>\n",
       "    <tr>\n",
       "      <th>Dresses</th>\n",
       "      <td>10604</td>\n",
       "    </tr>\n",
       "  </tbody>\n",
       "</table>\n",
       "</div>"
      ],
      "text/plain": [
       "                  brand\n",
       "category               \n",
       "Tops - Womens     23844\n",
       "Tops - Mens       20942\n",
       "Bottoms - Womens  18252\n",
       "Shoes             16532\n",
       "Dresses           10604"
      ]
     },
     "execution_count": 23,
     "metadata": {},
     "output_type": "execute_result"
    }
   ],
   "source": [
    "(\n",
    "    sales_and_currency\n",
    "    .groupby('category')\n",
    "    .agg({'brand': 'count'})\n",
    "    .sort_values(by='brand', ascending=False)\n",
    ")[:5]"
   ]
  },
  {
   "cell_type": "code",
   "execution_count": 24,
   "metadata": {},
   "outputs": [
    {
     "data": {
      "text/plain": [
       "226311"
      ]
     },
     "execution_count": 24,
     "metadata": {},
     "output_type": "execute_result"
    }
   ],
   "source": [
    "sales_and_currency['product_code'].nunique()"
   ]
  },
  {
   "cell_type": "code",
   "execution_count": 25,
   "metadata": {},
   "outputs": [
    {
     "data": {
      "text/html": [
       "<div>\n",
       "<style scoped>\n",
       "    .dataframe tbody tr th:only-of-type {\n",
       "        vertical-align: middle;\n",
       "    }\n",
       "\n",
       "    .dataframe tbody tr th {\n",
       "        vertical-align: top;\n",
       "    }\n",
       "\n",
       "    .dataframe thead th {\n",
       "        text-align: right;\n",
       "    }\n",
       "</style>\n",
       "<table border=\"1\" class=\"dataframe\">\n",
       "  <thead>\n",
       "    <tr style=\"text-align: right;\">\n",
       "      <th></th>\n",
       "      <th>buyer_id</th>\n",
       "      <th>buyer_country</th>\n",
       "      <th>seller_id</th>\n",
       "      <th>seller_country</th>\n",
       "      <th>product_code</th>\n",
       "      <th>category</th>\n",
       "      <th>brand</th>\n",
       "      <th>currency</th>\n",
       "      <th>price</th>\n",
       "      <th>date</th>\n",
       "      <th>rate</th>\n",
       "      <th>price_€</th>\n",
       "    </tr>\n",
       "  </thead>\n",
       "  <tbody>\n",
       "    <tr>\n",
       "      <th>23</th>\n",
       "      <td>94lh9gu3bu</td>\n",
       "      <td>US</td>\n",
       "      <td>dhsa2q6o</td>\n",
       "      <td>US</td>\n",
       "      <td>1m846u2l2dyl</td>\n",
       "      <td>Jewellery</td>\n",
       "      <td>NaN</td>\n",
       "      <td>USD</td>\n",
       "      <td>16.29</td>\n",
       "      <td>2020-08-03</td>\n",
       "      <td>1.176250</td>\n",
       "      <td>13.849097</td>\n",
       "    </tr>\n",
       "    <tr>\n",
       "      <th>48</th>\n",
       "      <td>u8da411658</td>\n",
       "      <td>AU</td>\n",
       "      <td>qn7p4cv2</td>\n",
       "      <td>AU</td>\n",
       "      <td>dd4d4p2h4us2</td>\n",
       "      <td>Jewellery</td>\n",
       "      <td>NaN</td>\n",
       "      <td>AUD</td>\n",
       "      <td>12.52</td>\n",
       "      <td>2020-08-07</td>\n",
       "      <td>1.646397</td>\n",
       "      <td>7.604484</td>\n",
       "    </tr>\n",
       "    <tr>\n",
       "      <th>49</th>\n",
       "      <td>9exo58j839</td>\n",
       "      <td>AU</td>\n",
       "      <td>qn7p4cv2</td>\n",
       "      <td>AU</td>\n",
       "      <td>6nogqtmgfjsn</td>\n",
       "      <td>Jewellery</td>\n",
       "      <td>NaN</td>\n",
       "      <td>AUD</td>\n",
       "      <td>8.48</td>\n",
       "      <td>2020-08-09</td>\n",
       "      <td>1.646306</td>\n",
       "      <td>5.150926</td>\n",
       "    </tr>\n",
       "    <tr>\n",
       "      <th>50</th>\n",
       "      <td>9exo58j839</td>\n",
       "      <td>AU</td>\n",
       "      <td>qn7p4cv2</td>\n",
       "      <td>AU</td>\n",
       "      <td>w5ixs8y20z3n</td>\n",
       "      <td>Jewellery</td>\n",
       "      <td>NaN</td>\n",
       "      <td>AUD</td>\n",
       "      <td>5.58</td>\n",
       "      <td>2020-08-09</td>\n",
       "      <td>1.646306</td>\n",
       "      <td>3.389406</td>\n",
       "    </tr>\n",
       "    <tr>\n",
       "      <th>51</th>\n",
       "      <td>9exo58j839</td>\n",
       "      <td>AU</td>\n",
       "      <td>qn7p4cv2</td>\n",
       "      <td>AU</td>\n",
       "      <td>g5usn39z8b7u</td>\n",
       "      <td>Jewellery</td>\n",
       "      <td>NaN</td>\n",
       "      <td>AUD</td>\n",
       "      <td>5.37</td>\n",
       "      <td>2020-08-09</td>\n",
       "      <td>1.646306</td>\n",
       "      <td>3.261848</td>\n",
       "    </tr>\n",
       "    <tr>\n",
       "      <th>...</th>\n",
       "      <td>...</td>\n",
       "      <td>...</td>\n",
       "      <td>...</td>\n",
       "      <td>...</td>\n",
       "      <td>...</td>\n",
       "      <td>...</td>\n",
       "      <td>...</td>\n",
       "      <td>...</td>\n",
       "      <td>...</td>\n",
       "      <td>...</td>\n",
       "      <td>...</td>\n",
       "      <td>...</td>\n",
       "    </tr>\n",
       "    <tr>\n",
       "      <th>237545</th>\n",
       "      <td>rabu7nz8gn</td>\n",
       "      <td>US</td>\n",
       "      <td>rv5nmiwq</td>\n",
       "      <td>US</td>\n",
       "      <td>ikfosml5pjas</td>\n",
       "      <td>Jewellery</td>\n",
       "      <td>NaN</td>\n",
       "      <td>USD</td>\n",
       "      <td>21.19</td>\n",
       "      <td>2020-08-05</td>\n",
       "      <td>1.187255</td>\n",
       "      <td>17.847893</td>\n",
       "    </tr>\n",
       "    <tr>\n",
       "      <th>237568</th>\n",
       "      <td>ytjobx2wzg</td>\n",
       "      <td>GB</td>\n",
       "      <td>qib5sh0l</td>\n",
       "      <td>GB</td>\n",
       "      <td>tn00dvezdp43</td>\n",
       "      <td>Jewellery</td>\n",
       "      <td>NaN</td>\n",
       "      <td>GBP</td>\n",
       "      <td>1.15</td>\n",
       "      <td>2020-08-05</td>\n",
       "      <td>0.904500</td>\n",
       "      <td>1.271421</td>\n",
       "    </tr>\n",
       "    <tr>\n",
       "      <th>237569</th>\n",
       "      <td>ytjobx2wzg</td>\n",
       "      <td>GB</td>\n",
       "      <td>qib5sh0l</td>\n",
       "      <td>GB</td>\n",
       "      <td>eykndnmcb4g6</td>\n",
       "      <td>Jewellery</td>\n",
       "      <td>NaN</td>\n",
       "      <td>GBP</td>\n",
       "      <td>1.15</td>\n",
       "      <td>2020-08-05</td>\n",
       "      <td>0.904500</td>\n",
       "      <td>1.271421</td>\n",
       "    </tr>\n",
       "    <tr>\n",
       "      <th>237616</th>\n",
       "      <td>p0jol2ieus</td>\n",
       "      <td>US</td>\n",
       "      <td>4pi8qok2</td>\n",
       "      <td>US</td>\n",
       "      <td>0ipj5zmes1cu</td>\n",
       "      <td>Jewellery</td>\n",
       "      <td>NaN</td>\n",
       "      <td>USD</td>\n",
       "      <td>18.67</td>\n",
       "      <td>2020-08-08</td>\n",
       "      <td>1.178700</td>\n",
       "      <td>15.839484</td>\n",
       "    </tr>\n",
       "    <tr>\n",
       "      <th>237643</th>\n",
       "      <td>q86525x69t</td>\n",
       "      <td>GB</td>\n",
       "      <td>33hffrhq</td>\n",
       "      <td>GB</td>\n",
       "      <td>426jwzj6b2uz</td>\n",
       "      <td>Jewellery</td>\n",
       "      <td>NaN</td>\n",
       "      <td>GBP</td>\n",
       "      <td>5.30</td>\n",
       "      <td>2020-08-05</td>\n",
       "      <td>0.904500</td>\n",
       "      <td>5.859591</td>\n",
       "    </tr>\n",
       "  </tbody>\n",
       "</table>\n",
       "<p>13525 rows × 12 columns</p>\n",
       "</div>"
      ],
      "text/plain": [
       "          buyer_id buyer_country seller_id seller_country  product_code  \\\n",
       "23      94lh9gu3bu            US  dhsa2q6o             US  1m846u2l2dyl   \n",
       "48      u8da411658            AU  qn7p4cv2             AU  dd4d4p2h4us2   \n",
       "49      9exo58j839            AU  qn7p4cv2             AU  6nogqtmgfjsn   \n",
       "50      9exo58j839            AU  qn7p4cv2             AU  w5ixs8y20z3n   \n",
       "51      9exo58j839            AU  qn7p4cv2             AU  g5usn39z8b7u   \n",
       "...            ...           ...       ...            ...           ...   \n",
       "237545  rabu7nz8gn            US  rv5nmiwq             US  ikfosml5pjas   \n",
       "237568  ytjobx2wzg            GB  qib5sh0l             GB  tn00dvezdp43   \n",
       "237569  ytjobx2wzg            GB  qib5sh0l             GB  eykndnmcb4g6   \n",
       "237616  p0jol2ieus            US  4pi8qok2             US  0ipj5zmes1cu   \n",
       "237643  q86525x69t            GB  33hffrhq             GB  426jwzj6b2uz   \n",
       "\n",
       "         category brand currency  price       date      rate    price_€  \n",
       "23      Jewellery   NaN      USD  16.29 2020-08-03  1.176250  13.849097  \n",
       "48      Jewellery   NaN      AUD  12.52 2020-08-07  1.646397   7.604484  \n",
       "49      Jewellery   NaN      AUD   8.48 2020-08-09  1.646306   5.150926  \n",
       "50      Jewellery   NaN      AUD   5.58 2020-08-09  1.646306   3.389406  \n",
       "51      Jewellery   NaN      AUD   5.37 2020-08-09  1.646306   3.261848  \n",
       "...           ...   ...      ...    ...        ...       ...        ...  \n",
       "237545  Jewellery   NaN      USD  21.19 2020-08-05  1.187255  17.847893  \n",
       "237568  Jewellery   NaN      GBP   1.15 2020-08-05  0.904500   1.271421  \n",
       "237569  Jewellery   NaN      GBP   1.15 2020-08-05  0.904500   1.271421  \n",
       "237616  Jewellery   NaN      USD  18.67 2020-08-08  1.178700  15.839484  \n",
       "237643  Jewellery   NaN      GBP   5.30 2020-08-05  0.904500   5.859591  \n",
       "\n",
       "[13525 rows x 12 columns]"
      ]
     },
     "execution_count": 25,
     "metadata": {},
     "output_type": "execute_result"
    }
   ],
   "source": [
    "sales_and_currency[(sales_and_currency['category'] == 'Jewellery')\\\n",
    "                    & (sales_and_currency['brand'].isnull())]"
   ]
  },
  {
   "cell_type": "code",
   "execution_count": 26,
   "metadata": {},
   "outputs": [
    {
     "data": {
      "text/plain": [
       "10931"
      ]
     },
     "execution_count": 26,
     "metadata": {},
     "output_type": "execute_result"
    }
   ],
   "source": [
    "sales_and_currency[(sales_and_currency['category'] == 'Jewellery')\\\n",
    "                    & (sales_and_currency['brand'].isnull())]\\\n",
    "                    ['product_code'].nunique()"
   ]
  },
  {
   "cell_type": "code",
   "execution_count": null,
   "metadata": {},
   "outputs": [],
   "source": []
  }
 ],
 "metadata": {
  "interpreter": {
   "hash": "40d3a090f54c6569ab1632332b64b2c03c39dcf918b08424e98f38b5ae0af88f"
  },
  "kernelspec": {
   "display_name": "Python 3.8.8 64-bit ('base': conda)",
   "name": "python3"
  },
  "language_info": {
   "codemirror_mode": {
    "name": "ipython",
    "version": 3
   },
   "file_extension": ".py",
   "mimetype": "text/x-python",
   "name": "python",
   "nbconvert_exporter": "python",
   "pygments_lexer": "ipython3",
   "version": "3.8.8"
  },
  "orig_nbformat": 4
 },
 "nbformat": 4,
 "nbformat_minor": 2
}
