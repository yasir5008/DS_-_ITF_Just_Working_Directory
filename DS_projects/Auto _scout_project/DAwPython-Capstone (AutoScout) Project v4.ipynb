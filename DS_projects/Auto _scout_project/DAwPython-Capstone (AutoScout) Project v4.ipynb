{
 "cells": [
  {
   "cell_type": "markdown",
   "metadata": {},
   "source": [
    "___\n",
    "\n",
    "<p style=\"text-align: center;\"><img src=\"https://docs.google.com/uc?id=1lY0Uj5R04yMY3-ZppPWxqCr5pvBLYPnV\" class=\"img-fluid\" alt=\"CLRSWY\"></p>\n",
    "\n",
    "___"
   ]
  },
  {
   "cell_type": "markdown",
   "metadata": {},
   "source": [
    "## Introduction\n",
    "Welcome to \"***AutoScout Data Analysis Project***\". This is the capstone project of ***Data Analysis*** Module. **Auto Scout** data which using for this project, scraped from the on-line car trading company in 2019, contains many features of 9 different car models. In this project, you will have the opportunity to apply many commonly used algorithms for Data Cleaning and Exploratory Data Analysis by using many Python libraries such as Numpy, Pandas, Matplotlib, Seaborn, Scipy you will analyze clean dataset.\n",
    "\n",
    "The project consists of 3 parts:\n",
    "* First part is related with 'data cleaning'. It deals with Incorrect Headers, Incorrect Format, Anomalies, Dropping useless columns.\n",
    "* Second part is related with 'filling data'. It deals with Missing Values. Categorical to numeric transformation is done.\n",
    "* Third part is related with 'handling outliers of data' via Visualisation libraries. Some insights are extracted.\n"
   ]
  },
  {
   "cell_type": "markdown",
   "metadata": {},
   "source": [
    "## Introduction\n",
    "\n",
    "The ultimate goal of this project is to create a model that predicts the value of a used auto. That's why we will clean and prepare the data accordingly. \n",
    "\n",
    "As part of domain knowledge research, we have gone through a few articles that focus on the factors that are important for the resale value of a used auto:\n",
    "\n",
    "   - ... In brief, the main factors affecting a used vehicle's price are mileage and condition. Options, location, and color also playing a role. Personalizing cars can hurt value.\n",
    "   - ... Mileage, wear and tear, both outside and in, and mechanical condition.\n",
    "   - ... Appearance, mileage, brand and model, age, ownership\n",
    "   - ... Economic factors, brand, class and body style, mileage, transmission type, exterior condition, interior condition, mechanical wear and tear and maintenance history, accident history, aftermarket parts and modifications, technology, color. https://www.moneycrashers.com/factors-affect-used-cars-resale-value/\n",
    "    \n",
    "These highlighted features and some others ideally need to be included in our data set so as to train a powerful predictive ML model at the end. We will import and analyse the data, keep and transform valuable features, and get rid of all others with no value.\n",
    "\n",
    "Ideally at this stage, we must discuss with the business users to understand how they plan to use the predictive model and what features they want to enter to make a prediction. If we drop a feature that was supposed to be used during prediction, we would have created a model not fit for the purpose. Communication is key to avoid such problems."
   ]
  },
  {
   "cell_type": "markdown",
   "metadata": {},
   "source": [
    "## Data Cleaning"
   ]
  },
  {
   "cell_type": "code",
   "execution_count": 2,
   "metadata": {},
   "outputs": [],
   "source": [
    "import pandas as pd\n",
    "import numpy as np\n",
    "\n",
    "import matplotlib.pyplot as plt\n",
    "import seaborn as sns\n",
    "%matplotlib inline\n",
    "\n",
    "import re\n",
    "\n",
    "pd.set_option('display.max_columns', 200)\n",
    "pd.set_option('display.max_rows', 200) "
   ]
  },
  {
   "cell_type": "markdown",
   "metadata": {},
   "source": [
    "We import the json formatted data and name it *raw_df*."
   ]
  },
  {
   "cell_type": "code",
   "execution_count": 3,
   "metadata": {},
   "outputs": [],
   "source": [
    "raw_df = pd.read_json (\"scout_car.json\", lines = True)"
   ]
  },
  {
   "cell_type": "markdown",
   "metadata": {},
   "source": [
    "Look at the shape, column names, and a few rows of the data."
   ]
  },
  {
   "cell_type": "code",
   "execution_count": 4,
   "metadata": {},
   "outputs": [
    {
     "data": {
      "text/plain": [
       "(15919, 54)"
      ]
     },
     "execution_count": 4,
     "metadata": {},
     "output_type": "execute_result"
    }
   ],
   "source": [
    "raw_df.shape"
   ]
  },
  {
   "cell_type": "code",
   "execution_count": 5,
   "metadata": {},
   "outputs": [
    {
     "data": {
      "text/plain": [
       "Index(['url', 'make_model', 'short_description', 'body_type', 'price', 'vat',\n",
       "       'km', 'registration', 'prev_owner', 'kW', 'hp', 'Type',\n",
       "       'Previous Owners', 'Next Inspection', 'Inspection new', 'Warranty',\n",
       "       'Full Service', 'Non-smoking Vehicle', 'null', 'Make', 'Model',\n",
       "       'Offer Number', 'First Registration', 'Body Color', 'Paint Type',\n",
       "       'Body Color Original', 'Upholstery', 'Body', 'Nr. of Doors',\n",
       "       'Nr. of Seats', 'Model Code', 'Gearing Type', 'Displacement',\n",
       "       'Cylinders', 'Weight', 'Drive chain', 'Fuel', 'Consumption',\n",
       "       'CO2 Emission', 'Emission Class', '\\nComfort & Convenience\\n',\n",
       "       '\\nEntertainment & Media\\n', '\\nExtras\\n', '\\nSafety & Security\\n',\n",
       "       'description', 'Emission Label', 'Gears', 'Country version',\n",
       "       'Electricity consumption', 'Last Service Date', 'Other Fuel Types',\n",
       "       'Availability', 'Last Timing Belt Service Date', 'Available from'],\n",
       "      dtype='object')"
      ]
     },
     "execution_count": 5,
     "metadata": {},
     "output_type": "execute_result"
    }
   ],
   "source": [
    "raw_df.columns"
   ]
  },
  {
   "cell_type": "code",
   "execution_count": 6,
   "metadata": {},
   "outputs": [],
   "source": [
    "# rename four columns for proper format\n",
    "raw_df.rename(columns={\"\\nComfort & Convenience\\n\": \"Comfort & Convenience\", \n",
    "                       \"\\nEntertainment & Media\\n\": \"Entertainment & Media\",\n",
    "                       \"\\nExtras\\n\": \"Extras\",\n",
    "                       \"\\nSafety & Security\\n\": \"Safety & Security\"}, inplace=True)"
   ]
  },
  {
   "cell_type": "code",
   "execution_count": 7,
   "metadata": {},
   "outputs": [
    {
     "data": {
      "text/html": [
       "<div>\n",
       "<style scoped>\n",
       "    .dataframe tbody tr th:only-of-type {\n",
       "        vertical-align: middle;\n",
       "    }\n",
       "\n",
       "    .dataframe tbody tr th {\n",
       "        vertical-align: top;\n",
       "    }\n",
       "\n",
       "    .dataframe thead th {\n",
       "        text-align: right;\n",
       "    }\n",
       "</style>\n",
       "<table border=\"1\" class=\"dataframe\">\n",
       "  <thead>\n",
       "    <tr style=\"text-align: right;\">\n",
       "      <th></th>\n",
       "      <th>url</th>\n",
       "      <th>make_model</th>\n",
       "      <th>short_description</th>\n",
       "      <th>body_type</th>\n",
       "      <th>price</th>\n",
       "      <th>vat</th>\n",
       "      <th>km</th>\n",
       "      <th>registration</th>\n",
       "      <th>prev_owner</th>\n",
       "      <th>kW</th>\n",
       "      <th>hp</th>\n",
       "      <th>Type</th>\n",
       "      <th>Previous Owners</th>\n",
       "      <th>Next Inspection</th>\n",
       "      <th>Inspection new</th>\n",
       "      <th>Warranty</th>\n",
       "      <th>Full Service</th>\n",
       "      <th>Non-smoking Vehicle</th>\n",
       "      <th>null</th>\n",
       "      <th>Make</th>\n",
       "      <th>Model</th>\n",
       "      <th>Offer Number</th>\n",
       "      <th>First Registration</th>\n",
       "      <th>Body Color</th>\n",
       "      <th>Paint Type</th>\n",
       "      <th>Body Color Original</th>\n",
       "      <th>Upholstery</th>\n",
       "      <th>Body</th>\n",
       "      <th>Nr. of Doors</th>\n",
       "      <th>Nr. of Seats</th>\n",
       "      <th>Model Code</th>\n",
       "      <th>Gearing Type</th>\n",
       "      <th>Displacement</th>\n",
       "      <th>Cylinders</th>\n",
       "      <th>Weight</th>\n",
       "      <th>Drive chain</th>\n",
       "      <th>Fuel</th>\n",
       "      <th>Consumption</th>\n",
       "      <th>CO2 Emission</th>\n",
       "      <th>Emission Class</th>\n",
       "      <th>Comfort &amp; Convenience</th>\n",
       "      <th>Entertainment &amp; Media</th>\n",
       "      <th>Extras</th>\n",
       "      <th>Safety &amp; Security</th>\n",
       "      <th>description</th>\n",
       "      <th>Emission Label</th>\n",
       "      <th>Gears</th>\n",
       "      <th>Country version</th>\n",
       "      <th>Electricity consumption</th>\n",
       "      <th>Last Service Date</th>\n",
       "      <th>Other Fuel Types</th>\n",
       "      <th>Availability</th>\n",
       "      <th>Last Timing Belt Service Date</th>\n",
       "      <th>Available from</th>\n",
       "    </tr>\n",
       "  </thead>\n",
       "  <tbody>\n",
       "    <tr>\n",
       "      <th>0</th>\n",
       "      <td>https://www.autoscout24.com//offers/audi-a1-sp...</td>\n",
       "      <td>Audi A1</td>\n",
       "      <td>Sportback 1.4 TDI S-tronic Xenon Navi Klima</td>\n",
       "      <td>Sedans</td>\n",
       "      <td>15770</td>\n",
       "      <td>VAT deductible</td>\n",
       "      <td>56,013 km</td>\n",
       "      <td>01/2016</td>\n",
       "      <td>2 previous owners</td>\n",
       "      <td>NaN</td>\n",
       "      <td>66 kW</td>\n",
       "      <td>[, Used, , Diesel (Particulate Filter)]</td>\n",
       "      <td>\\n2\\n</td>\n",
       "      <td>[\\n06/2021\\n, \\n99 g CO2/km (comb)\\n]</td>\n",
       "      <td>[\\nYes\\n, \\nEuro 6\\n]</td>\n",
       "      <td>[\\n, \\n, \\n4 (Green)\\n]</td>\n",
       "      <td>[\\n, \\n]</td>\n",
       "      <td>[\\n, \\n]</td>\n",
       "      <td>[]</td>\n",
       "      <td>\\nAudi\\n</td>\n",
       "      <td>[\\n, A1, \\n]</td>\n",
       "      <td>[\\nLR-062483\\n]</td>\n",
       "      <td>[\\n, 2016, \\n]</td>\n",
       "      <td>[\\n, Black, \\n]</td>\n",
       "      <td>[\\nMetallic\\n]</td>\n",
       "      <td>[\\nMythosschwarz\\n]</td>\n",
       "      <td>[\\nCloth, Black\\n]</td>\n",
       "      <td>[\\n, Sedans, \\n]</td>\n",
       "      <td>[\\n5\\n]</td>\n",
       "      <td>[\\n5\\n]</td>\n",
       "      <td>[\\n0588/BDF\\n]</td>\n",
       "      <td>[\\n, Automatic, \\n]</td>\n",
       "      <td>[\\n1,422 cc\\n]</td>\n",
       "      <td>[\\n3\\n]</td>\n",
       "      <td>[\\n1,220 kg\\n]</td>\n",
       "      <td>[\\nfront\\n]</td>\n",
       "      <td>[\\n, Diesel (Particulate Filter), \\n]</td>\n",
       "      <td>[[3.8 l/100 km (comb)], [4.3 l/100 km (city)],...</td>\n",
       "      <td>[\\n99 g CO2/km (comb)\\n]</td>\n",
       "      <td>[\\nEuro 6\\n]</td>\n",
       "      <td>[Air conditioning, Armrest, Automatic climate ...</td>\n",
       "      <td>[Bluetooth, Hands-free equipment, On-board com...</td>\n",
       "      <td>[Alloy wheels, Catalytic Converter, Voice Cont...</td>\n",
       "      <td>[ABS, Central door lock, Daytime running light...</td>\n",
       "      <td>[\\n, Sicherheit:,  , Deaktivierung für Beifahr...</td>\n",
       "      <td>NaN</td>\n",
       "      <td>NaN</td>\n",
       "      <td>NaN</td>\n",
       "      <td>NaN</td>\n",
       "      <td>NaN</td>\n",
       "      <td>NaN</td>\n",
       "      <td>NaN</td>\n",
       "      <td>NaN</td>\n",
       "      <td>NaN</td>\n",
       "    </tr>\n",
       "    <tr>\n",
       "      <th>1</th>\n",
       "      <td>https://www.autoscout24.com//offers/audi-a1-1-...</td>\n",
       "      <td>Audi A1</td>\n",
       "      <td>1.8 TFSI sport</td>\n",
       "      <td>Sedans</td>\n",
       "      <td>14500</td>\n",
       "      <td>Price negotiable</td>\n",
       "      <td>80,000 km</td>\n",
       "      <td>03/2017</td>\n",
       "      <td>None</td>\n",
       "      <td>NaN</td>\n",
       "      <td>141 kW</td>\n",
       "      <td>[, Used, , Gasoline]</td>\n",
       "      <td>NaN</td>\n",
       "      <td>NaN</td>\n",
       "      <td>NaN</td>\n",
       "      <td>NaN</td>\n",
       "      <td>NaN</td>\n",
       "      <td>NaN</td>\n",
       "      <td>[]</td>\n",
       "      <td>\\nAudi\\n</td>\n",
       "      <td>[\\n, A1, \\n]</td>\n",
       "      <td>NaN</td>\n",
       "      <td>[\\n, 2017, \\n]</td>\n",
       "      <td>[\\n, Red, \\n]</td>\n",
       "      <td>NaN</td>\n",
       "      <td>NaN</td>\n",
       "      <td>[\\nCloth, Grey\\n]</td>\n",
       "      <td>[\\n, Sedans, \\n]</td>\n",
       "      <td>[\\n3\\n]</td>\n",
       "      <td>[\\n4\\n]</td>\n",
       "      <td>[\\n0588/BCY\\n]</td>\n",
       "      <td>[\\n, Automatic, \\n]</td>\n",
       "      <td>[\\n1,798 cc\\n]</td>\n",
       "      <td>[\\n4\\n]</td>\n",
       "      <td>[\\n1,255 kg\\n]</td>\n",
       "      <td>[\\nfront\\n]</td>\n",
       "      <td>[\\n, Gasoline, \\n]</td>\n",
       "      <td>[[5.6 l/100 km (comb)], [7.1 l/100 km (city)],...</td>\n",
       "      <td>[\\n129 g CO2/km (comb)\\n]</td>\n",
       "      <td>[\\nEuro 6\\n]</td>\n",
       "      <td>[Air conditioning, Automatic climate control, ...</td>\n",
       "      <td>[Bluetooth, Hands-free equipment, On-board com...</td>\n",
       "      <td>[Alloy wheels, Sport seats, Sport suspension, ...</td>\n",
       "      <td>[ABS, Central door lock, Central door lock wit...</td>\n",
       "      <td>[\\nLangstreckenfahrzeug daher die hohe Kilomet...</td>\n",
       "      <td>[\\n4 (Green)\\n]</td>\n",
       "      <td>[\\n7\\n]</td>\n",
       "      <td>NaN</td>\n",
       "      <td>NaN</td>\n",
       "      <td>NaN</td>\n",
       "      <td>NaN</td>\n",
       "      <td>NaN</td>\n",
       "      <td>NaN</td>\n",
       "      <td>NaN</td>\n",
       "    </tr>\n",
       "    <tr>\n",
       "      <th>2</th>\n",
       "      <td>https://www.autoscout24.com//offers/audi-a1-sp...</td>\n",
       "      <td>Audi A1</td>\n",
       "      <td>Sportback 1.6 TDI S tronic Einparkhilfe plus+m...</td>\n",
       "      <td>Sedans</td>\n",
       "      <td>14640</td>\n",
       "      <td>VAT deductible</td>\n",
       "      <td>83,450 km</td>\n",
       "      <td>02/2016</td>\n",
       "      <td>1 previous owner</td>\n",
       "      <td>NaN</td>\n",
       "      <td>85 kW</td>\n",
       "      <td>[, Used, , Diesel (Particulate Filter)]</td>\n",
       "      <td>\\n1\\n</td>\n",
       "      <td>NaN</td>\n",
       "      <td>NaN</td>\n",
       "      <td>[\\n, \\n, \\n99 g CO2/km (comb)\\n]</td>\n",
       "      <td>NaN</td>\n",
       "      <td>NaN</td>\n",
       "      <td>[]</td>\n",
       "      <td>\\nAudi\\n</td>\n",
       "      <td>[\\n, A1, \\n]</td>\n",
       "      <td>[\\nAM-95365\\n]</td>\n",
       "      <td>[\\n, 2016, \\n]</td>\n",
       "      <td>[\\n, Black, \\n]</td>\n",
       "      <td>[\\nMetallic\\n]</td>\n",
       "      <td>[\\nmythosschwarz metallic\\n]</td>\n",
       "      <td>[\\nCloth, Black\\n]</td>\n",
       "      <td>[\\n, Sedans, \\n]</td>\n",
       "      <td>[\\n4\\n]</td>\n",
       "      <td>[\\n4\\n]</td>\n",
       "      <td>NaN</td>\n",
       "      <td>[\\n, Automatic, \\n]</td>\n",
       "      <td>[\\n1,598 cc\\n]</td>\n",
       "      <td>NaN</td>\n",
       "      <td>NaN</td>\n",
       "      <td>[\\nfront\\n]</td>\n",
       "      <td>[\\n, Diesel (Particulate Filter), \\n]</td>\n",
       "      <td>[[3.8 l/100 km (comb)], [4.4 l/100 km (city)],...</td>\n",
       "      <td>[\\n99 g CO2/km (comb)\\n]</td>\n",
       "      <td>[\\nEuro 6\\n]</td>\n",
       "      <td>[Air conditioning, Cruise control, Electrical ...</td>\n",
       "      <td>[MP3, On-board computer]</td>\n",
       "      <td>[Alloy wheels, Voice Control]</td>\n",
       "      <td>[ABS, Central door lock, Daytime running light...</td>\n",
       "      <td>[\\n, Fahrzeug-Nummer: AM-95365,  , Ehem. UPE 2...</td>\n",
       "      <td>[\\n4 (Green)\\n]</td>\n",
       "      <td>NaN</td>\n",
       "      <td>NaN</td>\n",
       "      <td>NaN</td>\n",
       "      <td>NaN</td>\n",
       "      <td>NaN</td>\n",
       "      <td>NaN</td>\n",
       "      <td>NaN</td>\n",
       "      <td>NaN</td>\n",
       "    </tr>\n",
       "    <tr>\n",
       "      <th>3</th>\n",
       "      <td>https://www.autoscout24.com//offers/audi-a1-1-...</td>\n",
       "      <td>Audi A1</td>\n",
       "      <td>1.4 TDi Design S tronic</td>\n",
       "      <td>Sedans</td>\n",
       "      <td>14500</td>\n",
       "      <td>None</td>\n",
       "      <td>73,000 km</td>\n",
       "      <td>08/2016</td>\n",
       "      <td>1 previous owner</td>\n",
       "      <td>NaN</td>\n",
       "      <td>66 kW</td>\n",
       "      <td>[, Used, , Diesel (Particulate Filter)]</td>\n",
       "      <td>\\n1\\n</td>\n",
       "      <td>NaN</td>\n",
       "      <td>NaN</td>\n",
       "      <td>NaN</td>\n",
       "      <td>[\\n, \\n, \\n99 g CO2/km (comb)\\n]</td>\n",
       "      <td>[\\n, \\n, \\nEuro 6\\n]</td>\n",
       "      <td>[]</td>\n",
       "      <td>\\nAudi\\n</td>\n",
       "      <td>[\\n, A1, \\n]</td>\n",
       "      <td>NaN</td>\n",
       "      <td>[\\n, 2016, \\n]</td>\n",
       "      <td>[\\n, Brown, \\n]</td>\n",
       "      <td>[\\nMetallic\\n]</td>\n",
       "      <td>NaN</td>\n",
       "      <td>NaN</td>\n",
       "      <td>[\\n, Sedans, \\n]</td>\n",
       "      <td>[\\n3\\n]</td>\n",
       "      <td>[\\n4\\n]</td>\n",
       "      <td>NaN</td>\n",
       "      <td>[\\n, Automatic, \\n]</td>\n",
       "      <td>[\\n1,422 cc\\n]</td>\n",
       "      <td>[\\n3\\n]</td>\n",
       "      <td>[\\n1,195 kg\\n]</td>\n",
       "      <td>NaN</td>\n",
       "      <td>[\\n, Diesel (Particulate Filter), \\n]</td>\n",
       "      <td>[[3.8 l/100 km (comb)], [4.3 l/100 km (city)],...</td>\n",
       "      <td>[\\n99 g CO2/km (comb)\\n]</td>\n",
       "      <td>[\\nEuro 6\\n]</td>\n",
       "      <td>[Air suspension, Armrest, Auxiliary heating, E...</td>\n",
       "      <td>[Bluetooth, CD player, Hands-free equipment, M...</td>\n",
       "      <td>[Alloy wheels, Sport seats, Voice Control]</td>\n",
       "      <td>[ABS, Alarm system, Central door lock with rem...</td>\n",
       "      <td>[\\nAudi A1: , - 1e eigenaar , - Perfecte staat...</td>\n",
       "      <td>NaN</td>\n",
       "      <td>[\\n6\\n]</td>\n",
       "      <td>NaN</td>\n",
       "      <td>NaN</td>\n",
       "      <td>NaN</td>\n",
       "      <td>NaN</td>\n",
       "      <td>NaN</td>\n",
       "      <td>NaN</td>\n",
       "      <td>NaN</td>\n",
       "    </tr>\n",
       "    <tr>\n",
       "      <th>4</th>\n",
       "      <td>https://www.autoscout24.com//offers/audi-a1-sp...</td>\n",
       "      <td>Audi A1</td>\n",
       "      <td>Sportback 1.4 TDI S-Tronic S-Line Ext. admired...</td>\n",
       "      <td>Sedans</td>\n",
       "      <td>16790</td>\n",
       "      <td>None</td>\n",
       "      <td>16,200 km</td>\n",
       "      <td>05/2016</td>\n",
       "      <td>1 previous owner</td>\n",
       "      <td>NaN</td>\n",
       "      <td>66 kW</td>\n",
       "      <td>[, Used, , Diesel (Particulate Filter)]</td>\n",
       "      <td>\\n1\\n</td>\n",
       "      <td>NaN</td>\n",
       "      <td>[\\nYes\\n, \\n109 g CO2/km (comb)\\n]</td>\n",
       "      <td>[\\n, \\n, \\nEuro 6\\n]</td>\n",
       "      <td>[\\n, \\n, \\n4 (Green)\\n]</td>\n",
       "      <td>[\\n, \\n]</td>\n",
       "      <td>[]</td>\n",
       "      <td>\\nAudi\\n</td>\n",
       "      <td>[\\n, A1, \\n]</td>\n",
       "      <td>[\\nC1626\\n]</td>\n",
       "      <td>[\\n, 2016, \\n]</td>\n",
       "      <td>[\\n, Black, \\n]</td>\n",
       "      <td>[\\nMetallic\\n]</td>\n",
       "      <td>[\\nMythosschwarz Metallic\\n]</td>\n",
       "      <td>[\\nCloth, Black\\n]</td>\n",
       "      <td>[\\n, Sedans, \\n]</td>\n",
       "      <td>[\\n5\\n]</td>\n",
       "      <td>[\\n5\\n]</td>\n",
       "      <td>[\\n0588/BDF\\n]</td>\n",
       "      <td>[\\n, Automatic, \\n]</td>\n",
       "      <td>[\\n1,422 cc\\n]</td>\n",
       "      <td>[\\n3\\n]</td>\n",
       "      <td>NaN</td>\n",
       "      <td>[\\nfront\\n]</td>\n",
       "      <td>[\\n, Diesel (Particulate Filter), \\n]</td>\n",
       "      <td>[[4.1 l/100 km (comb)], [4.6 l/100 km (city)],...</td>\n",
       "      <td>[\\n109 g CO2/km (comb)\\n]</td>\n",
       "      <td>[\\nEuro 6\\n]</td>\n",
       "      <td>[Air conditioning, Armrest, Automatic climate ...</td>\n",
       "      <td>[Bluetooth, CD player, Hands-free equipment, M...</td>\n",
       "      <td>[Alloy wheels, Sport package, Sport suspension...</td>\n",
       "      <td>[ABS, Central door lock, Driver-side airbag, E...</td>\n",
       "      <td>[\\n, Technik &amp; Sicherheit:, Xenon plus, Klimaa...</td>\n",
       "      <td>NaN</td>\n",
       "      <td>NaN</td>\n",
       "      <td>[\\nGermany\\n]</td>\n",
       "      <td>NaN</td>\n",
       "      <td>NaN</td>\n",
       "      <td>NaN</td>\n",
       "      <td>NaN</td>\n",
       "      <td>NaN</td>\n",
       "      <td>NaN</td>\n",
       "    </tr>\n",
       "  </tbody>\n",
       "</table>\n",
       "</div>"
      ],
      "text/plain": [
       "                                                 url make_model  \\\n",
       "0  https://www.autoscout24.com//offers/audi-a1-sp...    Audi A1   \n",
       "1  https://www.autoscout24.com//offers/audi-a1-1-...    Audi A1   \n",
       "2  https://www.autoscout24.com//offers/audi-a1-sp...    Audi A1   \n",
       "3  https://www.autoscout24.com//offers/audi-a1-1-...    Audi A1   \n",
       "4  https://www.autoscout24.com//offers/audi-a1-sp...    Audi A1   \n",
       "\n",
       "                                   short_description body_type  price  \\\n",
       "0        Sportback 1.4 TDI S-tronic Xenon Navi Klima    Sedans  15770   \n",
       "1                                     1.8 TFSI sport    Sedans  14500   \n",
       "2  Sportback 1.6 TDI S tronic Einparkhilfe plus+m...    Sedans  14640   \n",
       "3                            1.4 TDi Design S tronic    Sedans  14500   \n",
       "4  Sportback 1.4 TDI S-Tronic S-Line Ext. admired...    Sedans  16790   \n",
       "\n",
       "                vat         km registration         prev_owner  kW      hp  \\\n",
       "0    VAT deductible  56,013 km      01/2016  2 previous owners NaN   66 kW   \n",
       "1  Price negotiable  80,000 km      03/2017               None NaN  141 kW   \n",
       "2    VAT deductible  83,450 km      02/2016   1 previous owner NaN   85 kW   \n",
       "3              None  73,000 km      08/2016   1 previous owner NaN   66 kW   \n",
       "4              None  16,200 km      05/2016   1 previous owner NaN   66 kW   \n",
       "\n",
       "                                      Type Previous Owners  \\\n",
       "0  [, Used, , Diesel (Particulate Filter)]           \\n2\\n   \n",
       "1                     [, Used, , Gasoline]             NaN   \n",
       "2  [, Used, , Diesel (Particulate Filter)]           \\n1\\n   \n",
       "3  [, Used, , Diesel (Particulate Filter)]           \\n1\\n   \n",
       "4  [, Used, , Diesel (Particulate Filter)]           \\n1\\n   \n",
       "\n",
       "                         Next Inspection                      Inspection new  \\\n",
       "0  [\\n06/2021\\n, \\n99 g CO2/km (comb)\\n]               [\\nYes\\n, \\nEuro 6\\n]   \n",
       "1                                    NaN                                 NaN   \n",
       "2                                    NaN                                 NaN   \n",
       "3                                    NaN                                 NaN   \n",
       "4                                    NaN  [\\nYes\\n, \\n109 g CO2/km (comb)\\n]   \n",
       "\n",
       "                           Warranty                      Full Service  \\\n",
       "0           [\\n, \\n, \\n4 (Green)\\n]                          [\\n, \\n]   \n",
       "1                               NaN                               NaN   \n",
       "2  [\\n, \\n, \\n99 g CO2/km (comb)\\n]                               NaN   \n",
       "3                               NaN  [\\n, \\n, \\n99 g CO2/km (comb)\\n]   \n",
       "4              [\\n, \\n, \\nEuro 6\\n]           [\\n, \\n, \\n4 (Green)\\n]   \n",
       "\n",
       "    Non-smoking Vehicle null      Make         Model     Offer Number  \\\n",
       "0              [\\n, \\n]   []  \\nAudi\\n  [\\n, A1, \\n]  [\\nLR-062483\\n]   \n",
       "1                   NaN   []  \\nAudi\\n  [\\n, A1, \\n]              NaN   \n",
       "2                   NaN   []  \\nAudi\\n  [\\n, A1, \\n]   [\\nAM-95365\\n]   \n",
       "3  [\\n, \\n, \\nEuro 6\\n]   []  \\nAudi\\n  [\\n, A1, \\n]              NaN   \n",
       "4              [\\n, \\n]   []  \\nAudi\\n  [\\n, A1, \\n]      [\\nC1626\\n]   \n",
       "\n",
       "  First Registration       Body Color      Paint Type  \\\n",
       "0     [\\n, 2016, \\n]  [\\n, Black, \\n]  [\\nMetallic\\n]   \n",
       "1     [\\n, 2017, \\n]    [\\n, Red, \\n]             NaN   \n",
       "2     [\\n, 2016, \\n]  [\\n, Black, \\n]  [\\nMetallic\\n]   \n",
       "3     [\\n, 2016, \\n]  [\\n, Brown, \\n]  [\\nMetallic\\n]   \n",
       "4     [\\n, 2016, \\n]  [\\n, Black, \\n]  [\\nMetallic\\n]   \n",
       "\n",
       "            Body Color Original          Upholstery              Body  \\\n",
       "0           [\\nMythosschwarz\\n]  [\\nCloth, Black\\n]  [\\n, Sedans, \\n]   \n",
       "1                           NaN   [\\nCloth, Grey\\n]  [\\n, Sedans, \\n]   \n",
       "2  [\\nmythosschwarz metallic\\n]  [\\nCloth, Black\\n]  [\\n, Sedans, \\n]   \n",
       "3                           NaN                 NaN  [\\n, Sedans, \\n]   \n",
       "4  [\\nMythosschwarz Metallic\\n]  [\\nCloth, Black\\n]  [\\n, Sedans, \\n]   \n",
       "\n",
       "  Nr. of Doors Nr. of Seats      Model Code         Gearing Type  \\\n",
       "0      [\\n5\\n]      [\\n5\\n]  [\\n0588/BDF\\n]  [\\n, Automatic, \\n]   \n",
       "1      [\\n3\\n]      [\\n4\\n]  [\\n0588/BCY\\n]  [\\n, Automatic, \\n]   \n",
       "2      [\\n4\\n]      [\\n4\\n]             NaN  [\\n, Automatic, \\n]   \n",
       "3      [\\n3\\n]      [\\n4\\n]             NaN  [\\n, Automatic, \\n]   \n",
       "4      [\\n5\\n]      [\\n5\\n]  [\\n0588/BDF\\n]  [\\n, Automatic, \\n]   \n",
       "\n",
       "     Displacement Cylinders          Weight  Drive chain  \\\n",
       "0  [\\n1,422 cc\\n]   [\\n3\\n]  [\\n1,220 kg\\n]  [\\nfront\\n]   \n",
       "1  [\\n1,798 cc\\n]   [\\n4\\n]  [\\n1,255 kg\\n]  [\\nfront\\n]   \n",
       "2  [\\n1,598 cc\\n]       NaN             NaN  [\\nfront\\n]   \n",
       "3  [\\n1,422 cc\\n]   [\\n3\\n]  [\\n1,195 kg\\n]          NaN   \n",
       "4  [\\n1,422 cc\\n]   [\\n3\\n]             NaN  [\\nfront\\n]   \n",
       "\n",
       "                                    Fuel  \\\n",
       "0  [\\n, Diesel (Particulate Filter), \\n]   \n",
       "1                     [\\n, Gasoline, \\n]   \n",
       "2  [\\n, Diesel (Particulate Filter), \\n]   \n",
       "3  [\\n, Diesel (Particulate Filter), \\n]   \n",
       "4  [\\n, Diesel (Particulate Filter), \\n]   \n",
       "\n",
       "                                         Consumption  \\\n",
       "0  [[3.8 l/100 km (comb)], [4.3 l/100 km (city)],...   \n",
       "1  [[5.6 l/100 km (comb)], [7.1 l/100 km (city)],...   \n",
       "2  [[3.8 l/100 km (comb)], [4.4 l/100 km (city)],...   \n",
       "3  [[3.8 l/100 km (comb)], [4.3 l/100 km (city)],...   \n",
       "4  [[4.1 l/100 km (comb)], [4.6 l/100 km (city)],...   \n",
       "\n",
       "                CO2 Emission Emission Class  \\\n",
       "0   [\\n99 g CO2/km (comb)\\n]   [\\nEuro 6\\n]   \n",
       "1  [\\n129 g CO2/km (comb)\\n]   [\\nEuro 6\\n]   \n",
       "2   [\\n99 g CO2/km (comb)\\n]   [\\nEuro 6\\n]   \n",
       "3   [\\n99 g CO2/km (comb)\\n]   [\\nEuro 6\\n]   \n",
       "4  [\\n109 g CO2/km (comb)\\n]   [\\nEuro 6\\n]   \n",
       "\n",
       "                               Comfort & Convenience  \\\n",
       "0  [Air conditioning, Armrest, Automatic climate ...   \n",
       "1  [Air conditioning, Automatic climate control, ...   \n",
       "2  [Air conditioning, Cruise control, Electrical ...   \n",
       "3  [Air suspension, Armrest, Auxiliary heating, E...   \n",
       "4  [Air conditioning, Armrest, Automatic climate ...   \n",
       "\n",
       "                               Entertainment & Media  \\\n",
       "0  [Bluetooth, Hands-free equipment, On-board com...   \n",
       "1  [Bluetooth, Hands-free equipment, On-board com...   \n",
       "2                           [MP3, On-board computer]   \n",
       "3  [Bluetooth, CD player, Hands-free equipment, M...   \n",
       "4  [Bluetooth, CD player, Hands-free equipment, M...   \n",
       "\n",
       "                                              Extras  \\\n",
       "0  [Alloy wheels, Catalytic Converter, Voice Cont...   \n",
       "1  [Alloy wheels, Sport seats, Sport suspension, ...   \n",
       "2                      [Alloy wheels, Voice Control]   \n",
       "3         [Alloy wheels, Sport seats, Voice Control]   \n",
       "4  [Alloy wheels, Sport package, Sport suspension...   \n",
       "\n",
       "                                   Safety & Security  \\\n",
       "0  [ABS, Central door lock, Daytime running light...   \n",
       "1  [ABS, Central door lock, Central door lock wit...   \n",
       "2  [ABS, Central door lock, Daytime running light...   \n",
       "3  [ABS, Alarm system, Central door lock with rem...   \n",
       "4  [ABS, Central door lock, Driver-side airbag, E...   \n",
       "\n",
       "                                         description   Emission Label  \\\n",
       "0  [\\n, Sicherheit:,  , Deaktivierung für Beifahr...              NaN   \n",
       "1  [\\nLangstreckenfahrzeug daher die hohe Kilomet...  [\\n4 (Green)\\n]   \n",
       "2  [\\n, Fahrzeug-Nummer: AM-95365,  , Ehem. UPE 2...  [\\n4 (Green)\\n]   \n",
       "3  [\\nAudi A1: , - 1e eigenaar , - Perfecte staat...              NaN   \n",
       "4  [\\n, Technik & Sicherheit:, Xenon plus, Klimaa...              NaN   \n",
       "\n",
       "     Gears Country version Electricity consumption Last Service Date  \\\n",
       "0      NaN             NaN                     NaN               NaN   \n",
       "1  [\\n7\\n]             NaN                     NaN               NaN   \n",
       "2      NaN             NaN                     NaN               NaN   \n",
       "3  [\\n6\\n]             NaN                     NaN               NaN   \n",
       "4      NaN   [\\nGermany\\n]                     NaN               NaN   \n",
       "\n",
       "  Other Fuel Types Availability Last Timing Belt Service Date Available from  \n",
       "0              NaN          NaN                           NaN            NaN  \n",
       "1              NaN          NaN                           NaN            NaN  \n",
       "2              NaN          NaN                           NaN            NaN  \n",
       "3              NaN          NaN                           NaN            NaN  \n",
       "4              NaN          NaN                           NaN            NaN  "
      ]
     },
     "execution_count": 7,
     "metadata": {},
     "output_type": "execute_result"
    }
   ],
   "source": [
    "raw_df.head() "
   ]
  },
  {
   "cell_type": "markdown",
   "metadata": {},
   "source": [
    "As seen above, the data in many columns are messy, needs significant re-formatting, cleaning, transformation, and encoding.\n",
    "\n",
    "How much missing data (in percentage) do we have in each column?"
   ]
  },
  {
   "cell_type": "code",
   "execution_count": 8,
   "metadata": {},
   "outputs": [
    {
     "data": {
      "text/plain": [
       "kW                               100.00\n",
       "Last Timing Belt Service Date     99.90\n",
       "Electricity consumption           99.14\n",
       "Available from                    98.29\n",
       "Last Service Date                 96.44\n",
       "Availability                      96.01\n",
       "Other Fuel Types                  94.47\n",
       "Next Inspection                   77.79\n",
       "Inspection new                    75.30\n",
       "Emission Label                    74.97\n",
       "Model Code                        68.73\n",
       "Non-smoking Vehicle               54.92\n",
       "Country version                   52.35\n",
       "Full Service                      48.39\n",
       "Weight                            43.81\n",
       "Drive chain                       43.08\n",
       "prev_owner                        42.89\n",
       "Previous Owners                   41.71\n",
       "Paint Type                        36.26\n",
       "Cylinders                         35.68\n",
       "Warranty                          34.05\n",
       "Gears                             29.60\n",
       "vat                               28.35\n",
       "Body Color Original               23.61\n",
       "Upholstery                        23.37\n",
       "Offer Number                      19.94\n",
       "Emission Class                    18.98\n",
       "Extras                            18.61\n",
       "Consumption                       11.97\n",
       "CO2 Emission                      11.36\n",
       "First Registration                10.03\n",
       "Entertainment & Media              8.63\n",
       "Safety & Security                  6.17\n",
       "Nr. of Seats                       6.14\n",
       "Comfort & Convenience              5.78\n",
       "Body Color                         3.75\n",
       "Displacement                       3.12\n",
       "Nr. of Doors                       1.33\n",
       "Body                               0.38\n",
       "body_type                          0.38\n",
       "short_description                  0.29\n",
       "Type                               0.01\n",
       "Fuel                               0.00\n",
       "Gearing Type                       0.00\n",
       "make_model                         0.00\n",
       "Model                              0.00\n",
       "Make                               0.00\n",
       "description                        0.00\n",
       "null                               0.00\n",
       "hp                                 0.00\n",
       "registration                       0.00\n",
       "km                                 0.00\n",
       "price                              0.00\n",
       "url                                0.00\n",
       "dtype: float64"
      ]
     },
     "execution_count": 8,
     "metadata": {},
     "output_type": "execute_result"
    }
   ],
   "source": [
    "raw_df.isnull().mean().round(4).mul(100).sort_values(ascending=False)"
   ]
  },
  {
   "cell_type": "markdown",
   "metadata": {},
   "source": [
    "#### Create a new empty data frame"
   ]
  },
  {
   "cell_type": "code",
   "execution_count": 9,
   "metadata": {},
   "outputs": [],
   "source": [
    "data = pd.DataFrame()"
   ]
  },
  {
   "cell_type": "markdown",
   "metadata": {},
   "source": [
    "#### Handling the dependent variable *price*"
   ]
  },
  {
   "cell_type": "code",
   "execution_count": 10,
   "metadata": {},
   "outputs": [],
   "source": [
    "temp = raw_df[\"price\"].copy()"
   ]
  },
  {
   "cell_type": "code",
   "execution_count": 11,
   "metadata": {},
   "outputs": [
    {
     "data": {
      "text/plain": [
       "0    15770\n",
       "1    14500\n",
       "2    14640\n",
       "3    14500\n",
       "4    16790\n",
       "Name: price, dtype: int64"
      ]
     },
     "execution_count": 11,
     "metadata": {},
     "output_type": "execute_result"
    }
   ],
   "source": [
    "temp.head()"
   ]
  },
  {
   "cell_type": "code",
   "execution_count": 12,
   "metadata": {},
   "outputs": [
    {
     "data": {
      "text/plain": [
       "0"
      ]
     },
     "execution_count": 12,
     "metadata": {},
     "output_type": "execute_result"
    }
   ],
   "source": [
    "temp.isnull().sum()"
   ]
  },
  {
   "cell_type": "code",
   "execution_count": 13,
   "metadata": {},
   "outputs": [],
   "source": [
    "data[\"price\"] = temp"
   ]
  },
  {
   "cell_type": "code",
   "execution_count": 14,
   "metadata": {},
   "outputs": [
    {
     "data": {
      "text/html": [
       "<div>\n",
       "<style scoped>\n",
       "    .dataframe tbody tr th:only-of-type {\n",
       "        vertical-align: middle;\n",
       "    }\n",
       "\n",
       "    .dataframe tbody tr th {\n",
       "        vertical-align: top;\n",
       "    }\n",
       "\n",
       "    .dataframe thead th {\n",
       "        text-align: right;\n",
       "    }\n",
       "</style>\n",
       "<table border=\"1\" class=\"dataframe\">\n",
       "  <thead>\n",
       "    <tr style=\"text-align: right;\">\n",
       "      <th></th>\n",
       "      <th>price</th>\n",
       "    </tr>\n",
       "  </thead>\n",
       "  <tbody>\n",
       "    <tr>\n",
       "      <th>0</th>\n",
       "      <td>15770</td>\n",
       "    </tr>\n",
       "    <tr>\n",
       "      <th>1</th>\n",
       "      <td>14500</td>\n",
       "    </tr>\n",
       "    <tr>\n",
       "      <th>2</th>\n",
       "      <td>14640</td>\n",
       "    </tr>\n",
       "    <tr>\n",
       "      <th>3</th>\n",
       "      <td>14500</td>\n",
       "    </tr>\n",
       "    <tr>\n",
       "      <th>4</th>\n",
       "      <td>16790</td>\n",
       "    </tr>\n",
       "  </tbody>\n",
       "</table>\n",
       "</div>"
      ],
      "text/plain": [
       "   price\n",
       "0  15770\n",
       "1  14500\n",
       "2  14640\n",
       "3  14500\n",
       "4  16790"
      ]
     },
     "execution_count": 14,
     "metadata": {},
     "output_type": "execute_result"
    }
   ],
   "source": [
    "data.head()"
   ]
  },
  {
   "cell_type": "markdown",
   "metadata": {},
   "source": [
    "#### Handling the independent variables *make*"
   ]
  },
  {
   "cell_type": "code",
   "execution_count": 15,
   "metadata": {},
   "outputs": [],
   "source": [
    "temp = raw_df[\"Make\"].copy()"
   ]
  },
  {
   "cell_type": "code",
   "execution_count": 16,
   "metadata": {},
   "outputs": [
    {
     "data": {
      "text/plain": [
       "15914    \\nRenault\\n\n",
       "15915    \\nRenault\\n\n",
       "15916    \\nRenault\\n\n",
       "15917    \\nRenault\\n\n",
       "15918    \\nRenault\\n\n",
       "Name: Make, dtype: object"
      ]
     },
     "execution_count": 16,
     "metadata": {},
     "output_type": "execute_result"
    }
   ],
   "source": [
    "temp[-5:]"
   ]
  },
  {
   "cell_type": "code",
   "execution_count": 17,
   "metadata": {},
   "outputs": [],
   "source": [
    "data[\"make\"] = temp.apply(lambda row: row.replace(\"\\n\", \"\"))"
   ]
  },
  {
   "cell_type": "code",
   "execution_count": 18,
   "metadata": {},
   "outputs": [
    {
     "data": {
      "text/plain": [
       "Opel       7343\n",
       "Audi       5712\n",
       "Renault    2864\n",
       "Name: make, dtype: int64"
      ]
     },
     "execution_count": 18,
     "metadata": {},
     "output_type": "execute_result"
    }
   ],
   "source": [
    "data[\"make\"].value_counts()"
   ]
  },
  {
   "cell_type": "markdown",
   "metadata": {},
   "source": [
    "#### Handling the independent variables *model*"
   ]
  },
  {
   "cell_type": "code",
   "execution_count": 19,
   "metadata": {},
   "outputs": [],
   "source": [
    "temp = raw_df[\"Model\"].copy()"
   ]
  },
  {
   "cell_type": "code",
   "execution_count": 20,
   "metadata": {},
   "outputs": [
    {
     "data": {
      "text/plain": [
       "0"
      ]
     },
     "execution_count": 20,
     "metadata": {},
     "output_type": "execute_result"
    }
   ],
   "source": [
    "temp.isnull().sum()"
   ]
  },
  {
   "cell_type": "code",
   "execution_count": 21,
   "metadata": {},
   "outputs": [
    {
     "data": {
      "text/plain": [
       "15914    [\\n, Espace, \\n]\n",
       "15915    [\\n, Espace, \\n]\n",
       "15916    [\\n, Espace, \\n]\n",
       "15917    [\\n, Espace, \\n]\n",
       "15918    [\\n, Espace, \\n]\n",
       "Name: Model, dtype: object"
      ]
     },
     "execution_count": 21,
     "metadata": {},
     "output_type": "execute_result"
    }
   ],
   "source": [
    "temp[-5:]"
   ]
  },
  {
   "cell_type": "code",
   "execution_count": 22,
   "metadata": {},
   "outputs": [],
   "source": [
    "data[\"model\"] = temp.apply(lambda row: row[1])"
   ]
  },
  {
   "cell_type": "code",
   "execution_count": 23,
   "metadata": {},
   "outputs": [
    {
     "data": {
      "text/plain": [
       "A3          3097\n",
       "A1          2614\n",
       "Insignia    2598\n",
       "Astra       2526\n",
       "Corsa       2219\n",
       "Clio        1839\n",
       "Espace       991\n",
       "Duster        34\n",
       "A2             1\n",
       "Name: model, dtype: int64"
      ]
     },
     "execution_count": 23,
     "metadata": {},
     "output_type": "execute_result"
    }
   ],
   "source": [
    "data[\"model\"].value_counts()"
   ]
  },
  {
   "cell_type": "markdown",
   "metadata": {},
   "source": [
    "#### Handling the independent variable *make_model*"
   ]
  },
  {
   "cell_type": "code",
   "execution_count": 24,
   "metadata": {},
   "outputs": [
    {
     "data": {
      "text/plain": [
       "(15919, 53)"
      ]
     },
     "execution_count": 24,
     "metadata": {},
     "output_type": "execute_result"
    }
   ],
   "source": [
    "raw_df.drop(columns=\"make_model\", axis=1, inplace=True) # to be dropped because it is redundant\n",
    "raw_df.shape"
   ]
  },
  {
   "cell_type": "code",
   "execution_count": 25,
   "metadata": {},
   "outputs": [
    {
     "data": {
      "text/plain": [
       "make     model   \n",
       "Audi     A1          18864.688982\n",
       "         A2          28200.000000\n",
       "         A3          20996.693252\n",
       "Opel     Astra       15834.663895\n",
       "         Corsa       11047.095539\n",
       "         Insignia    21463.451886\n",
       "Renault  Clio        11940.320827\n",
       "         Duster      13230.176471\n",
       "         Espace      30080.211907\n",
       "Name: price, dtype: float64"
      ]
     },
     "execution_count": 25,
     "metadata": {},
     "output_type": "execute_result"
    }
   ],
   "source": [
    "data.groupby([\"make\", \"model\"])[\"price\"].mean()"
   ]
  },
  {
   "cell_type": "code",
   "execution_count": 26,
   "metadata": {},
   "outputs": [
    {
     "data": {
      "text/html": [
       "<div>\n",
       "<style scoped>\n",
       "    .dataframe tbody tr th:only-of-type {\n",
       "        vertical-align: middle;\n",
       "    }\n",
       "\n",
       "    .dataframe tbody tr th {\n",
       "        vertical-align: top;\n",
       "    }\n",
       "\n",
       "    .dataframe thead th {\n",
       "        text-align: right;\n",
       "    }\n",
       "</style>\n",
       "<table border=\"1\" class=\"dataframe\">\n",
       "  <thead>\n",
       "    <tr style=\"text-align: right;\">\n",
       "      <th></th>\n",
       "      <th>price</th>\n",
       "      <th>make</th>\n",
       "    </tr>\n",
       "    <tr>\n",
       "      <th>model</th>\n",
       "      <th></th>\n",
       "      <th></th>\n",
       "    </tr>\n",
       "  </thead>\n",
       "  <tbody>\n",
       "    <tr>\n",
       "      <th>A1</th>\n",
       "      <td>2614</td>\n",
       "      <td>2614</td>\n",
       "    </tr>\n",
       "    <tr>\n",
       "      <th>A2</th>\n",
       "      <td>1</td>\n",
       "      <td>1</td>\n",
       "    </tr>\n",
       "    <tr>\n",
       "      <th>A3</th>\n",
       "      <td>3097</td>\n",
       "      <td>3097</td>\n",
       "    </tr>\n",
       "    <tr>\n",
       "      <th>Astra</th>\n",
       "      <td>2526</td>\n",
       "      <td>2526</td>\n",
       "    </tr>\n",
       "    <tr>\n",
       "      <th>Clio</th>\n",
       "      <td>1839</td>\n",
       "      <td>1839</td>\n",
       "    </tr>\n",
       "    <tr>\n",
       "      <th>Corsa</th>\n",
       "      <td>2219</td>\n",
       "      <td>2219</td>\n",
       "    </tr>\n",
       "    <tr>\n",
       "      <th>Duster</th>\n",
       "      <td>34</td>\n",
       "      <td>34</td>\n",
       "    </tr>\n",
       "    <tr>\n",
       "      <th>Espace</th>\n",
       "      <td>991</td>\n",
       "      <td>991</td>\n",
       "    </tr>\n",
       "    <tr>\n",
       "      <th>Insignia</th>\n",
       "      <td>2598</td>\n",
       "      <td>2598</td>\n",
       "    </tr>\n",
       "  </tbody>\n",
       "</table>\n",
       "</div>"
      ],
      "text/plain": [
       "          price  make\n",
       "model                \n",
       "A1         2614  2614\n",
       "A2            1     1\n",
       "A3         3097  3097\n",
       "Astra      2526  2526\n",
       "Clio       1839  1839\n",
       "Corsa      2219  2219\n",
       "Duster       34    34\n",
       "Espace      991   991\n",
       "Insignia   2598  2598"
      ]
     },
     "execution_count": 26,
     "metadata": {},
     "output_type": "execute_result"
    }
   ],
   "source": [
    "data.groupby([\"model\"]).count()"
   ]
  },
  {
   "cell_type": "code",
   "execution_count": 27,
   "metadata": {},
   "outputs": [
    {
     "data": {
      "text/html": [
       "<div>\n",
       "<style scoped>\n",
       "    .dataframe tbody tr th:only-of-type {\n",
       "        vertical-align: middle;\n",
       "    }\n",
       "\n",
       "    .dataframe tbody tr th {\n",
       "        vertical-align: top;\n",
       "    }\n",
       "\n",
       "    .dataframe thead th {\n",
       "        text-align: right;\n",
       "    }\n",
       "</style>\n",
       "<table border=\"1\" class=\"dataframe\">\n",
       "  <thead>\n",
       "    <tr style=\"text-align: right;\">\n",
       "      <th></th>\n",
       "      <th>price</th>\n",
       "      <th>make</th>\n",
       "      <th>model</th>\n",
       "    </tr>\n",
       "  </thead>\n",
       "  <tbody>\n",
       "    <tr>\n",
       "      <th>2614</th>\n",
       "      <td>28200</td>\n",
       "      <td>Audi</td>\n",
       "      <td>A2</td>\n",
       "    </tr>\n",
       "  </tbody>\n",
       "</table>\n",
       "</div>"
      ],
      "text/plain": [
       "      price  make model\n",
       "2614  28200  Audi    A2"
      ]
     },
     "execution_count": 27,
     "metadata": {},
     "output_type": "execute_result"
    }
   ],
   "source": [
    "data[data.model == \"A2\"]"
   ]
  },
  {
   "cell_type": "code",
   "execution_count": 28,
   "metadata": {},
   "outputs": [
    {
     "data": {
      "text/plain": [
       "(15918, 3)"
      ]
     },
     "execution_count": 28,
     "metadata": {},
     "output_type": "execute_result"
    }
   ],
   "source": [
    "data = data[data.model != \"A2\"]\n",
    "data.shape"
   ]
  },
  {
   "cell_type": "code",
   "execution_count": 29,
   "metadata": {},
   "outputs": [
    {
     "data": {
      "text/plain": [
       "(15918, 53)"
      ]
     },
     "execution_count": 29,
     "metadata": {},
     "output_type": "execute_result"
    }
   ],
   "source": [
    "raw_df.drop(raw_df.index[2614], axis=0, inplace=True)\n",
    "raw_df.shape"
   ]
  },
  {
   "cell_type": "markdown",
   "metadata": {},
   "source": [
    "#### Handling the independent variable *km*"
   ]
  },
  {
   "cell_type": "code",
   "execution_count": 30,
   "metadata": {},
   "outputs": [],
   "source": [
    "temp = raw_df[\"km\"].copy()"
   ]
  },
  {
   "cell_type": "code",
   "execution_count": 31,
   "metadata": {},
   "outputs": [
    {
     "data": {
      "text/plain": [
       "'56,013 km'"
      ]
     },
     "execution_count": 31,
     "metadata": {},
     "output_type": "execute_result"
    }
   ],
   "source": [
    "temp[0]"
   ]
  },
  {
   "cell_type": "code",
   "execution_count": 32,
   "metadata": {},
   "outputs": [],
   "source": [
    "def get_mileage(km):\n",
    "    return ''.join(re.findall(\"[0-9]\", km))"
   ]
  },
  {
   "cell_type": "code",
   "execution_count": 33,
   "metadata": {},
   "outputs": [
    {
     "data": {
      "text/plain": [
       "['5', '6', '0', '1', '3']"
      ]
     },
     "execution_count": 33,
     "metadata": {},
     "output_type": "execute_result"
    }
   ],
   "source": [
    "re.findall(\"[0-9]\", '56,013 km')"
   ]
  },
  {
   "cell_type": "code",
   "execution_count": 34,
   "metadata": {},
   "outputs": [
    {
     "data": {
      "text/plain": [
       "'56013'"
      ]
     },
     "execution_count": 34,
     "metadata": {},
     "output_type": "execute_result"
    }
   ],
   "source": [
    "get_mileage('56,013 km')"
   ]
  },
  {
   "cell_type": "code",
   "execution_count": 35,
   "metadata": {},
   "outputs": [],
   "source": [
    "data[\"mileage\"] = temp.apply(lambda row: get_mileage(row))"
   ]
  },
  {
   "cell_type": "code",
   "execution_count": 36,
   "metadata": {},
   "outputs": [
    {
     "data": {
      "text/html": [
       "<div>\n",
       "<style scoped>\n",
       "    .dataframe tbody tr th:only-of-type {\n",
       "        vertical-align: middle;\n",
       "    }\n",
       "\n",
       "    .dataframe tbody tr th {\n",
       "        vertical-align: top;\n",
       "    }\n",
       "\n",
       "    .dataframe thead th {\n",
       "        text-align: right;\n",
       "    }\n",
       "</style>\n",
       "<table border=\"1\" class=\"dataframe\">\n",
       "  <thead>\n",
       "    <tr style=\"text-align: right;\">\n",
       "      <th></th>\n",
       "      <th>price</th>\n",
       "      <th>make</th>\n",
       "      <th>model</th>\n",
       "      <th>mileage</th>\n",
       "    </tr>\n",
       "  </thead>\n",
       "  <tbody>\n",
       "    <tr>\n",
       "      <th>0</th>\n",
       "      <td>15770</td>\n",
       "      <td>Audi</td>\n",
       "      <td>A1</td>\n",
       "      <td>56013</td>\n",
       "    </tr>\n",
       "    <tr>\n",
       "      <th>1</th>\n",
       "      <td>14500</td>\n",
       "      <td>Audi</td>\n",
       "      <td>A1</td>\n",
       "      <td>80000</td>\n",
       "    </tr>\n",
       "    <tr>\n",
       "      <th>2</th>\n",
       "      <td>14640</td>\n",
       "      <td>Audi</td>\n",
       "      <td>A1</td>\n",
       "      <td>83450</td>\n",
       "    </tr>\n",
       "    <tr>\n",
       "      <th>3</th>\n",
       "      <td>14500</td>\n",
       "      <td>Audi</td>\n",
       "      <td>A1</td>\n",
       "      <td>73000</td>\n",
       "    </tr>\n",
       "    <tr>\n",
       "      <th>4</th>\n",
       "      <td>16790</td>\n",
       "      <td>Audi</td>\n",
       "      <td>A1</td>\n",
       "      <td>16200</td>\n",
       "    </tr>\n",
       "  </tbody>\n",
       "</table>\n",
       "</div>"
      ],
      "text/plain": [
       "   price  make model mileage\n",
       "0  15770  Audi    A1   56013\n",
       "1  14500  Audi    A1   80000\n",
       "2  14640  Audi    A1   83450\n",
       "3  14500  Audi    A1   73000\n",
       "4  16790  Audi    A1   16200"
      ]
     },
     "execution_count": 36,
     "metadata": {},
     "output_type": "execute_result"
    }
   ],
   "source": [
    "data.head()"
   ]
  },
  {
   "cell_type": "code",
   "execution_count": 37,
   "metadata": {},
   "outputs": [
    {
     "data": {
      "text/plain": [
       "price      0\n",
       "make       0\n",
       "model      0\n",
       "mileage    0\n",
       "dtype: int64"
      ]
     },
     "execution_count": 37,
     "metadata": {},
     "output_type": "execute_result"
    }
   ],
   "source": [
    "data.isnull().sum()"
   ]
  },
  {
   "cell_type": "code",
   "execution_count": 38,
   "metadata": {},
   "outputs": [
    {
     "data": {
      "text/plain": [
       "0"
      ]
     },
     "execution_count": 38,
     "metadata": {},
     "output_type": "execute_result"
    }
   ],
   "source": [
    "data[\"mileage\"].isnull().sum()"
   ]
  },
  {
   "cell_type": "code",
   "execution_count": 39,
   "metadata": {},
   "outputs": [
    {
     "data": {
      "text/html": [
       "<div>\n",
       "<style scoped>\n",
       "    .dataframe tbody tr th:only-of-type {\n",
       "        vertical-align: middle;\n",
       "    }\n",
       "\n",
       "    .dataframe tbody tr th {\n",
       "        vertical-align: top;\n",
       "    }\n",
       "\n",
       "    .dataframe thead th {\n",
       "        text-align: right;\n",
       "    }\n",
       "</style>\n",
       "<table border=\"1\" class=\"dataframe\">\n",
       "  <thead>\n",
       "    <tr style=\"text-align: right;\">\n",
       "      <th></th>\n",
       "      <th>price</th>\n",
       "      <th>make</th>\n",
       "      <th>model</th>\n",
       "      <th>mileage</th>\n",
       "    </tr>\n",
       "  </thead>\n",
       "  <tbody>\n",
       "    <tr>\n",
       "      <th>743</th>\n",
       "      <td>25900</td>\n",
       "      <td>Audi</td>\n",
       "      <td>A1</td>\n",
       "      <td></td>\n",
       "    </tr>\n",
       "    <tr>\n",
       "      <th>869</th>\n",
       "      <td>21300</td>\n",
       "      <td>Audi</td>\n",
       "      <td>A1</td>\n",
       "      <td></td>\n",
       "    </tr>\n",
       "    <tr>\n",
       "      <th>946</th>\n",
       "      <td>21406</td>\n",
       "      <td>Audi</td>\n",
       "      <td>A1</td>\n",
       "      <td></td>\n",
       "    </tr>\n",
       "    <tr>\n",
       "      <th>977</th>\n",
       "      <td>21200</td>\n",
       "      <td>Audi</td>\n",
       "      <td>A1</td>\n",
       "      <td></td>\n",
       "    </tr>\n",
       "    <tr>\n",
       "      <th>980</th>\n",
       "      <td>21100</td>\n",
       "      <td>Audi</td>\n",
       "      <td>A1</td>\n",
       "      <td></td>\n",
       "    </tr>\n",
       "    <tr>\n",
       "      <th>...</th>\n",
       "      <td>...</td>\n",
       "      <td>...</td>\n",
       "      <td>...</td>\n",
       "      <td>...</td>\n",
       "    </tr>\n",
       "    <tr>\n",
       "      <th>15890</th>\n",
       "      <td>42490</td>\n",
       "      <td>Renault</td>\n",
       "      <td>Espace</td>\n",
       "      <td></td>\n",
       "    </tr>\n",
       "    <tr>\n",
       "      <th>15902</th>\n",
       "      <td>41043</td>\n",
       "      <td>Renault</td>\n",
       "      <td>Espace</td>\n",
       "      <td></td>\n",
       "    </tr>\n",
       "    <tr>\n",
       "      <th>15912</th>\n",
       "      <td>39950</td>\n",
       "      <td>Renault</td>\n",
       "      <td>Espace</td>\n",
       "      <td></td>\n",
       "    </tr>\n",
       "    <tr>\n",
       "      <th>15914</th>\n",
       "      <td>39950</td>\n",
       "      <td>Renault</td>\n",
       "      <td>Espace</td>\n",
       "      <td></td>\n",
       "    </tr>\n",
       "    <tr>\n",
       "      <th>15918</th>\n",
       "      <td>40999</td>\n",
       "      <td>Renault</td>\n",
       "      <td>Espace</td>\n",
       "      <td></td>\n",
       "    </tr>\n",
       "  </tbody>\n",
       "</table>\n",
       "<p>1024 rows × 4 columns</p>\n",
       "</div>"
      ],
      "text/plain": [
       "       price     make   model mileage\n",
       "743    25900     Audi      A1        \n",
       "869    21300     Audi      A1        \n",
       "946    21406     Audi      A1        \n",
       "977    21200     Audi      A1        \n",
       "980    21100     Audi      A1        \n",
       "...      ...      ...     ...     ...\n",
       "15890  42490  Renault  Espace        \n",
       "15902  41043  Renault  Espace        \n",
       "15912  39950  Renault  Espace        \n",
       "15914  39950  Renault  Espace        \n",
       "15918  40999  Renault  Espace        \n",
       "\n",
       "[1024 rows x 4 columns]"
      ]
     },
     "execution_count": 39,
     "metadata": {},
     "output_type": "execute_result"
    }
   ],
   "source": [
    "data[data.mileage == '']"
   ]
  },
  {
   "cell_type": "code",
   "execution_count": 40,
   "metadata": {},
   "outputs": [
    {
     "data": {
      "text/plain": [
       "make     model   \n",
       "Audi     A1          23872.329167\n",
       "         A3          24524.433121\n",
       "Opel     Astra       20010.666667\n",
       "         Corsa       13262.138889\n",
       "         Insignia    29265.736402\n",
       "Renault  Clio        12014.301075\n",
       "         Duster      13129.888889\n",
       "         Espace      37609.959184\n",
       "Name: price, dtype: float64"
      ]
     },
     "execution_count": 40,
     "metadata": {},
     "output_type": "execute_result"
    }
   ],
   "source": [
    "data[data.mileage == ''].groupby([\"make\", \"model\"])[\"price\"].mean()"
   ]
  },
  {
   "cell_type": "code",
   "execution_count": 41,
   "metadata": {},
   "outputs": [
    {
     "data": {
      "text/plain": [
       "make     model   \n",
       "Audi     A1          18864.688982\n",
       "         A3          20996.693252\n",
       "Opel     Astra       15834.663895\n",
       "         Corsa       11047.095539\n",
       "         Insignia    21463.451886\n",
       "Renault  Clio        11940.320827\n",
       "         Duster      13230.176471\n",
       "         Espace      30080.211907\n",
       "Name: price, dtype: float64"
      ]
     },
     "execution_count": 41,
     "metadata": {},
     "output_type": "execute_result"
    }
   ],
   "source": [
    "data.groupby([\"make\", \"model\"])[\"price\"].mean()"
   ]
  },
  {
   "cell_type": "code",
   "execution_count": 42,
   "metadata": {},
   "outputs": [
    {
     "data": {
      "image/png": "[encoded data removed]",
      "text/plain": [
       "<Figure size 432x288 with 1 Axes>"
      ]
     },
     "metadata": {
      "needs_background": "light"
     },
     "output_type": "display_data"
    }
   ],
   "source": [
    "data.groupby([\"make\", \"model\"])[\"price\"].mean().plot(kind=\"bar\");"
   ]
  },
  {
   "cell_type": "markdown",
   "metadata": {},
   "source": [
    "It is clear that the average price for those autos with no km information are much higher than those make/model autos on average. That means these are possibly newer autos with 0 km, maybe unused? For the time being we will impute missing values with 0. What else can be done? We may look at their first_registration date. If their first_registration date is 2019 or NaN, we may safely assume 0 km. Or, we can impute them based on average km per age?"
   ]
  },
  {
   "cell_type": "code",
   "execution_count": 43,
   "metadata": {},
   "outputs": [],
   "source": [
    "#data.loc[data[\"mileage\"] == '', \"mileage\"] = 0\n",
    "data[\"mileage\"] = data[\"mileage\"].apply(lambda row: 0 if row == \"\" else row)"
   ]
  },
  {
   "cell_type": "code",
   "execution_count": 44,
   "metadata": {},
   "outputs": [
    {
     "data": {
      "text/html": [
       "<div>\n",
       "<style scoped>\n",
       "    .dataframe tbody tr th:only-of-type {\n",
       "        vertical-align: middle;\n",
       "    }\n",
       "\n",
       "    .dataframe tbody tr th {\n",
       "        vertical-align: top;\n",
       "    }\n",
       "\n",
       "    .dataframe thead th {\n",
       "        text-align: right;\n",
       "    }\n",
       "</style>\n",
       "<table border=\"1\" class=\"dataframe\">\n",
       "  <thead>\n",
       "    <tr style=\"text-align: right;\">\n",
       "      <th></th>\n",
       "      <th>price</th>\n",
       "      <th>make</th>\n",
       "      <th>model</th>\n",
       "      <th>mileage</th>\n",
       "    </tr>\n",
       "  </thead>\n",
       "  <tbody>\n",
       "  </tbody>\n",
       "</table>\n",
       "</div>"
      ],
      "text/plain": [
       "Empty DataFrame\n",
       "Columns: [price, make, model, mileage]\n",
       "Index: []"
      ]
     },
     "execution_count": 44,
     "metadata": {},
     "output_type": "execute_result"
    }
   ],
   "source": [
    "data[data.mileage == '']"
   ]
  },
  {
   "cell_type": "code",
   "execution_count": 45,
   "metadata": {},
   "outputs": [],
   "source": [
    "data[\"mileage\"] = data[\"mileage\"].astype(int)"
   ]
  },
  {
   "cell_type": "code",
   "execution_count": 46,
   "metadata": {},
   "outputs": [
    {
     "name": "stdout",
     "output_type": "stream",
     "text": [
      "<class 'pandas.core.frame.DataFrame'>\n",
      "Int64Index: 15918 entries, 0 to 15918\n",
      "Data columns (total 4 columns):\n",
      " #   Column   Non-Null Count  Dtype \n",
      "---  ------   --------------  ----- \n",
      " 0   price    15918 non-null  int64 \n",
      " 1   make     15918 non-null  object\n",
      " 2   model    15918 non-null  object\n",
      " 3   mileage  15918 non-null  int64 \n",
      "dtypes: int64(2), object(2)\n",
      "memory usage: 621.8+ KB\n"
     ]
    }
   ],
   "source": [
    "data.info()"
   ]
  },
  {
   "cell_type": "code",
   "execution_count": 47,
   "metadata": {},
   "outputs": [
    {
     "data": {
      "text/html": [
       "<div>\n",
       "<style scoped>\n",
       "    .dataframe tbody tr th:only-of-type {\n",
       "        vertical-align: middle;\n",
       "    }\n",
       "\n",
       "    .dataframe tbody tr th {\n",
       "        vertical-align: top;\n",
       "    }\n",
       "\n",
       "    .dataframe thead th {\n",
       "        text-align: right;\n",
       "    }\n",
       "</style>\n",
       "<table border=\"1\" class=\"dataframe\">\n",
       "  <thead>\n",
       "    <tr style=\"text-align: right;\">\n",
       "      <th></th>\n",
       "      <th>price</th>\n",
       "      <th>make</th>\n",
       "      <th>model</th>\n",
       "      <th>mileage</th>\n",
       "    </tr>\n",
       "  </thead>\n",
       "  <tbody>\n",
       "    <tr>\n",
       "      <th>0</th>\n",
       "      <td>15770</td>\n",
       "      <td>Audi</td>\n",
       "      <td>A1</td>\n",
       "      <td>56013</td>\n",
       "    </tr>\n",
       "    <tr>\n",
       "      <th>1</th>\n",
       "      <td>14500</td>\n",
       "      <td>Audi</td>\n",
       "      <td>A1</td>\n",
       "      <td>80000</td>\n",
       "    </tr>\n",
       "    <tr>\n",
       "      <th>2</th>\n",
       "      <td>14640</td>\n",
       "      <td>Audi</td>\n",
       "      <td>A1</td>\n",
       "      <td>83450</td>\n",
       "    </tr>\n",
       "    <tr>\n",
       "      <th>3</th>\n",
       "      <td>14500</td>\n",
       "      <td>Audi</td>\n",
       "      <td>A1</td>\n",
       "      <td>73000</td>\n",
       "    </tr>\n",
       "    <tr>\n",
       "      <th>4</th>\n",
       "      <td>16790</td>\n",
       "      <td>Audi</td>\n",
       "      <td>A1</td>\n",
       "      <td>16200</td>\n",
       "    </tr>\n",
       "  </tbody>\n",
       "</table>\n",
       "</div>"
      ],
      "text/plain": [
       "   price  make model  mileage\n",
       "0  15770  Audi    A1    56013\n",
       "1  14500  Audi    A1    80000\n",
       "2  14640  Audi    A1    83450\n",
       "3  14500  Audi    A1    73000\n",
       "4  16790  Audi    A1    16200"
      ]
     },
     "execution_count": 47,
     "metadata": {},
     "output_type": "execute_result"
    }
   ],
   "source": [
    "data.head()"
   ]
  },
  {
   "cell_type": "code",
   "execution_count": 48,
   "metadata": {},
   "outputs": [
    {
     "data": {
      "text/html": [
       "<div>\n",
       "<style scoped>\n",
       "    .dataframe tbody tr th:only-of-type {\n",
       "        vertical-align: middle;\n",
       "    }\n",
       "\n",
       "    .dataframe tbody tr th {\n",
       "        vertical-align: top;\n",
       "    }\n",
       "\n",
       "    .dataframe thead th {\n",
       "        text-align: right;\n",
       "    }\n",
       "</style>\n",
       "<table border=\"1\" class=\"dataframe\">\n",
       "  <thead>\n",
       "    <tr style=\"text-align: right;\">\n",
       "      <th></th>\n",
       "      <th>price</th>\n",
       "      <th>mileage</th>\n",
       "    </tr>\n",
       "  </thead>\n",
       "  <tbody>\n",
       "    <tr>\n",
       "      <th>count</th>\n",
       "      <td>15918.000000</td>\n",
       "      <td>15918.000000</td>\n",
       "    </tr>\n",
       "    <tr>\n",
       "      <th>mean</th>\n",
       "      <td>18019.257193</td>\n",
       "      <td>31935.047619</td>\n",
       "    </tr>\n",
       "    <tr>\n",
       "      <th>std</th>\n",
       "      <td>7385.960648</td>\n",
       "      <td>37090.278586</td>\n",
       "    </tr>\n",
       "    <tr>\n",
       "      <th>min</th>\n",
       "      <td>13.000000</td>\n",
       "      <td>0.000000</td>\n",
       "    </tr>\n",
       "    <tr>\n",
       "      <th>25%</th>\n",
       "      <td>12850.000000</td>\n",
       "      <td>1553.750000</td>\n",
       "    </tr>\n",
       "    <tr>\n",
       "      <th>50%</th>\n",
       "      <td>16900.000000</td>\n",
       "      <td>20397.000000</td>\n",
       "    </tr>\n",
       "    <tr>\n",
       "      <th>75%</th>\n",
       "      <td>21900.000000</td>\n",
       "      <td>46899.250000</td>\n",
       "    </tr>\n",
       "    <tr>\n",
       "      <th>max</th>\n",
       "      <td>74600.000000</td>\n",
       "      <td>317000.000000</td>\n",
       "    </tr>\n",
       "  </tbody>\n",
       "</table>\n",
       "</div>"
      ],
      "text/plain": [
       "              price        mileage\n",
       "count  15918.000000   15918.000000\n",
       "mean   18019.257193   31935.047619\n",
       "std     7385.960648   37090.278586\n",
       "min       13.000000       0.000000\n",
       "25%    12850.000000    1553.750000\n",
       "50%    16900.000000   20397.000000\n",
       "75%    21900.000000   46899.250000\n",
       "max    74600.000000  317000.000000"
      ]
     },
     "execution_count": 48,
     "metadata": {},
     "output_type": "execute_result"
    }
   ],
   "source": [
    "data.describe()"
   ]
  },
  {
   "cell_type": "code",
   "execution_count": 49,
   "metadata": {},
   "outputs": [
    {
     "data": {
      "image/png": "[encoded data removed]",
      "text/plain": [
       "<Figure size 432x288 with 1 Axes>"
      ]
     },
     "metadata": {
      "needs_background": "light"
     },
     "output_type": "display_data"
    }
   ],
   "source": [
    "data_new = data[(data.make == \"Audi\") & (data.model == \"A1\")]\n",
    "sns.scatterplot(x=\"mileage\", y=\"price\", data=data_new);"
   ]
  },
  {
   "cell_type": "code",
   "execution_count": null,
   "metadata": {},
   "outputs": [],
   "source": []
  },
  {
   "cell_type": "markdown",
   "metadata": {},
   "source": [
    "#### Handling the independent variable *registration*"
   ]
  },
  {
   "cell_type": "code",
   "execution_count": 50,
   "metadata": {},
   "outputs": [],
   "source": [
    "temp = raw_df[\"registration\"].copy()"
   ]
  },
  {
   "cell_type": "code",
   "execution_count": 51,
   "metadata": {},
   "outputs": [
    {
     "data": {
      "text/plain": [
       "-/-        1597\n",
       "03/2018     695\n",
       "02/2019     585\n",
       "05/2018     572\n",
       "03/2019     543\n",
       "01/2019     541\n",
       "04/2018     541\n",
       "02/2018     539\n",
       "03/2016     536\n",
       "04/2016     532\n",
       "06/2018     532\n",
       "01/2018     511\n",
       "04/2019     506\n",
       "02/2016     472\n",
       "03/2017     471\n",
       "05/2016     459\n",
       "06/2016     452\n",
       "05/2019     440\n",
       "06/2017     409\n",
       "05/2017     404\n",
       "07/2018     396\n",
       "04/2017     380\n",
       "01/2016     376\n",
       "02/2017     368\n",
       "01/2017     306\n",
       "08/2018     285\n",
       "06/2019     224\n",
       "07/2017     215\n",
       "11/2017     180\n",
       "07/2016     176\n",
       "10/2016     160\n",
       "10/2017     154\n",
       "09/2017     149\n",
       "11/2016     142\n",
       "09/2018     141\n",
       "09/2016     141\n",
       "12/2016     134\n",
       "12/2017     123\n",
       "08/2017     114\n",
       "11/2018     110\n",
       "12/2018     103\n",
       "10/2018      96\n",
       "08/2016      94\n",
       "07/2019       6\n",
       "09/2019       5\n",
       "08/2019       1\n",
       "11/2019       1\n",
       "12/2019       1\n",
       "Name: registration, dtype: int64"
      ]
     },
     "execution_count": 51,
     "metadata": {},
     "output_type": "execute_result"
    }
   ],
   "source": [
    "temp.value_counts(dropna=False)"
   ]
  },
  {
   "cell_type": "code",
   "execution_count": 52,
   "metadata": {},
   "outputs": [
    {
     "data": {
      "text/plain": [
       "'01/2016'"
      ]
     },
     "execution_count": 52,
     "metadata": {},
     "output_type": "execute_result"
    }
   ],
   "source": [
    "temp[0]"
   ]
  },
  {
   "cell_type": "code",
   "execution_count": 53,
   "metadata": {},
   "outputs": [
    {
     "data": {
      "text/plain": [
       "0"
      ]
     },
     "execution_count": 53,
     "metadata": {},
     "output_type": "execute_result"
    }
   ],
   "source": [
    "temp.isnull().sum()"
   ]
  },
  {
   "cell_type": "code",
   "execution_count": 54,
   "metadata": {},
   "outputs": [],
   "source": [
    "data[\"first_registration\"] = temp.str[-4:]"
   ]
  },
  {
   "cell_type": "code",
   "execution_count": 55,
   "metadata": {},
   "outputs": [
    {
     "data": {
      "text/html": [
       "<div>\n",
       "<style scoped>\n",
       "    .dataframe tbody tr th:only-of-type {\n",
       "        vertical-align: middle;\n",
       "    }\n",
       "\n",
       "    .dataframe tbody tr th {\n",
       "        vertical-align: top;\n",
       "    }\n",
       "\n",
       "    .dataframe thead th {\n",
       "        text-align: right;\n",
       "    }\n",
       "</style>\n",
       "<table border=\"1\" class=\"dataframe\">\n",
       "  <thead>\n",
       "    <tr style=\"text-align: right;\">\n",
       "      <th></th>\n",
       "      <th>price</th>\n",
       "      <th>make</th>\n",
       "      <th>model</th>\n",
       "      <th>mileage</th>\n",
       "      <th>first_registration</th>\n",
       "    </tr>\n",
       "  </thead>\n",
       "  <tbody>\n",
       "    <tr>\n",
       "      <th>0</th>\n",
       "      <td>15770</td>\n",
       "      <td>Audi</td>\n",
       "      <td>A1</td>\n",
       "      <td>56013</td>\n",
       "      <td>2016</td>\n",
       "    </tr>\n",
       "    <tr>\n",
       "      <th>1</th>\n",
       "      <td>14500</td>\n",
       "      <td>Audi</td>\n",
       "      <td>A1</td>\n",
       "      <td>80000</td>\n",
       "      <td>2017</td>\n",
       "    </tr>\n",
       "    <tr>\n",
       "      <th>2</th>\n",
       "      <td>14640</td>\n",
       "      <td>Audi</td>\n",
       "      <td>A1</td>\n",
       "      <td>83450</td>\n",
       "      <td>2016</td>\n",
       "    </tr>\n",
       "    <tr>\n",
       "      <th>3</th>\n",
       "      <td>14500</td>\n",
       "      <td>Audi</td>\n",
       "      <td>A1</td>\n",
       "      <td>73000</td>\n",
       "      <td>2016</td>\n",
       "    </tr>\n",
       "    <tr>\n",
       "      <th>4</th>\n",
       "      <td>16790</td>\n",
       "      <td>Audi</td>\n",
       "      <td>A1</td>\n",
       "      <td>16200</td>\n",
       "      <td>2016</td>\n",
       "    </tr>\n",
       "  </tbody>\n",
       "</table>\n",
       "</div>"
      ],
      "text/plain": [
       "   price  make model  mileage first_registration\n",
       "0  15770  Audi    A1    56013               2016\n",
       "1  14500  Audi    A1    80000               2017\n",
       "2  14640  Audi    A1    83450               2016\n",
       "3  14500  Audi    A1    73000               2016\n",
       "4  16790  Audi    A1    16200               2016"
      ]
     },
     "execution_count": 55,
     "metadata": {},
     "output_type": "execute_result"
    }
   ],
   "source": [
    "data.head()"
   ]
  },
  {
   "cell_type": "code",
   "execution_count": 56,
   "metadata": {},
   "outputs": [
    {
     "data": {
      "text/plain": [
       "first_registration\n",
       "-/-       444.134627\n",
       "2016    77442.520958\n",
       "2017    41742.183318\n",
       "2018    17881.850476\n",
       "2019     1977.907816\n",
       "Name: mileage, dtype: float64"
      ]
     },
     "execution_count": 56,
     "metadata": {},
     "output_type": "execute_result"
    }
   ],
   "source": [
    "data.groupby(\"first_registration\")[\"mileage\"].mean()"
   ]
  },
  {
   "cell_type": "code",
   "execution_count": 57,
   "metadata": {},
   "outputs": [
    {
     "data": {
      "text/plain": [
       "price                 0\n",
       "make                  0\n",
       "model                 0\n",
       "mileage               0\n",
       "first_registration    0\n",
       "dtype: int64"
      ]
     },
     "execution_count": 57,
     "metadata": {},
     "output_type": "execute_result"
    }
   ],
   "source": [
    "data.isnull().sum()"
   ]
  },
  {
   "cell_type": "code",
   "execution_count": 58,
   "metadata": {},
   "outputs": [
    {
     "data": {
      "text/html": [
       "<div>\n",
       "<style scoped>\n",
       "    .dataframe tbody tr th:only-of-type {\n",
       "        vertical-align: middle;\n",
       "    }\n",
       "\n",
       "    .dataframe tbody tr th {\n",
       "        vertical-align: top;\n",
       "    }\n",
       "\n",
       "    .dataframe thead th {\n",
       "        text-align: right;\n",
       "    }\n",
       "</style>\n",
       "<table border=\"1\" class=\"dataframe\">\n",
       "  <thead>\n",
       "    <tr style=\"text-align: right;\">\n",
       "      <th></th>\n",
       "      <th>price</th>\n",
       "      <th>make</th>\n",
       "      <th>model</th>\n",
       "      <th>mileage</th>\n",
       "      <th>first_registration</th>\n",
       "    </tr>\n",
       "  </thead>\n",
       "  <tbody>\n",
       "    <tr>\n",
       "      <th>734</th>\n",
       "      <td>30000</td>\n",
       "      <td>Audi</td>\n",
       "      <td>A1</td>\n",
       "      <td>0</td>\n",
       "      <td>-/-</td>\n",
       "    </tr>\n",
       "    <tr>\n",
       "      <th>743</th>\n",
       "      <td>25900</td>\n",
       "      <td>Audi</td>\n",
       "      <td>A1</td>\n",
       "      <td>0</td>\n",
       "      <td>-/-</td>\n",
       "    </tr>\n",
       "    <tr>\n",
       "      <th>869</th>\n",
       "      <td>21300</td>\n",
       "      <td>Audi</td>\n",
       "      <td>A1</td>\n",
       "      <td>0</td>\n",
       "      <td>-/-</td>\n",
       "    </tr>\n",
       "    <tr>\n",
       "      <th>946</th>\n",
       "      <td>21406</td>\n",
       "      <td>Audi</td>\n",
       "      <td>A1</td>\n",
       "      <td>0</td>\n",
       "      <td>-/-</td>\n",
       "    </tr>\n",
       "    <tr>\n",
       "      <th>977</th>\n",
       "      <td>21200</td>\n",
       "      <td>Audi</td>\n",
       "      <td>A1</td>\n",
       "      <td>0</td>\n",
       "      <td>-/-</td>\n",
       "    </tr>\n",
       "    <tr>\n",
       "      <th>...</th>\n",
       "      <td>...</td>\n",
       "      <td>...</td>\n",
       "      <td>...</td>\n",
       "      <td>...</td>\n",
       "      <td>...</td>\n",
       "    </tr>\n",
       "    <tr>\n",
       "      <th>15890</th>\n",
       "      <td>42490</td>\n",
       "      <td>Renault</td>\n",
       "      <td>Espace</td>\n",
       "      <td>0</td>\n",
       "      <td>-/-</td>\n",
       "    </tr>\n",
       "    <tr>\n",
       "      <th>15902</th>\n",
       "      <td>41043</td>\n",
       "      <td>Renault</td>\n",
       "      <td>Espace</td>\n",
       "      <td>0</td>\n",
       "      <td>-/-</td>\n",
       "    </tr>\n",
       "    <tr>\n",
       "      <th>15912</th>\n",
       "      <td>39950</td>\n",
       "      <td>Renault</td>\n",
       "      <td>Espace</td>\n",
       "      <td>0</td>\n",
       "      <td>-/-</td>\n",
       "    </tr>\n",
       "    <tr>\n",
       "      <th>15914</th>\n",
       "      <td>39950</td>\n",
       "      <td>Renault</td>\n",
       "      <td>Espace</td>\n",
       "      <td>0</td>\n",
       "      <td>-/-</td>\n",
       "    </tr>\n",
       "    <tr>\n",
       "      <th>15918</th>\n",
       "      <td>40999</td>\n",
       "      <td>Renault</td>\n",
       "      <td>Espace</td>\n",
       "      <td>0</td>\n",
       "      <td>2019</td>\n",
       "    </tr>\n",
       "  </tbody>\n",
       "</table>\n",
       "<p>1043 rows × 5 columns</p>\n",
       "</div>"
      ],
      "text/plain": [
       "       price     make   model  mileage first_registration\n",
       "734    30000     Audi      A1        0                -/-\n",
       "743    25900     Audi      A1        0                -/-\n",
       "869    21300     Audi      A1        0                -/-\n",
       "946    21406     Audi      A1        0                -/-\n",
       "977    21200     Audi      A1        0                -/-\n",
       "...      ...      ...     ...      ...                ...\n",
       "15890  42490  Renault  Espace        0                -/-\n",
       "15902  41043  Renault  Espace        0                -/-\n",
       "15912  39950  Renault  Espace        0                -/-\n",
       "15914  39950  Renault  Espace        0                -/-\n",
       "15918  40999  Renault  Espace        0               2019\n",
       "\n",
       "[1043 rows x 5 columns]"
      ]
     },
     "execution_count": 58,
     "metadata": {},
     "output_type": "execute_result"
    }
   ],
   "source": [
    "data[data.mileage == 0]"
   ]
  },
  {
   "cell_type": "code",
   "execution_count": 59,
   "metadata": {},
   "outputs": [
    {
     "data": {
      "text/plain": [
       "444.1346274264246"
      ]
     },
     "execution_count": 59,
     "metadata": {},
     "output_type": "execute_result"
    }
   ],
   "source": [
    "data[data[\"first_registration\"] == \"-/-\"][\"mileage\"].mean() "
   ]
  },
  {
   "cell_type": "code",
   "execution_count": 60,
   "metadata": {},
   "outputs": [
    {
     "data": {
      "text/plain": [
       "price                 857\n",
       "make                  857\n",
       "model                 857\n",
       "mileage               857\n",
       "first_registration    857\n",
       "dtype: int64"
      ]
     },
     "execution_count": 60,
     "metadata": {},
     "output_type": "execute_result"
    }
   ],
   "source": [
    "data[(data[\"first_registration\"] == \"-/-\") & (data[\"mileage\"] == 0) ].count()"
   ]
  },
  {
   "cell_type": "code",
   "execution_count": 61,
   "metadata": {},
   "outputs": [],
   "source": [
    "data.loc[data[\"first_registration\"] == \"-/-\", \"first_registration\"] = (2019 - data[\"mileage\"] // 25000).astype(\"str\")"
   ]
  },
  {
   "cell_type": "code",
   "execution_count": 62,
   "metadata": {},
   "outputs": [
    {
     "data": {
      "text/plain": [
       "2018    4525\n",
       "2019    4441\n",
       "2016    3678\n",
       "2017    3274\n",
       "Name: first_registration, dtype: int64"
      ]
     },
     "execution_count": 62,
     "metadata": {},
     "output_type": "execute_result"
    }
   ],
   "source": [
    "data.first_registration.value_counts()"
   ]
  },
  {
   "cell_type": "code",
   "execution_count": 63,
   "metadata": {},
   "outputs": [],
   "source": [
    "data[\"first_registration\"] = data[\"first_registration\"].astype(int)"
   ]
  },
  {
   "cell_type": "code",
   "execution_count": 64,
   "metadata": {},
   "outputs": [],
   "source": [
    "data[\"age\"] = data[\"first_registration\"].apply(lambda x: 2019 - x)"
   ]
  },
  {
   "cell_type": "code",
   "execution_count": null,
   "metadata": {},
   "outputs": [],
   "source": []
  },
  {
   "cell_type": "code",
   "execution_count": 65,
   "metadata": {},
   "outputs": [
    {
     "data": {
      "text/html": [
       "<div>\n",
       "<style scoped>\n",
       "    .dataframe tbody tr th:only-of-type {\n",
       "        vertical-align: middle;\n",
       "    }\n",
       "\n",
       "    .dataframe tbody tr th {\n",
       "        vertical-align: top;\n",
       "    }\n",
       "\n",
       "    .dataframe thead th {\n",
       "        text-align: right;\n",
       "    }\n",
       "</style>\n",
       "<table border=\"1\" class=\"dataframe\">\n",
       "  <thead>\n",
       "    <tr style=\"text-align: right;\">\n",
       "      <th></th>\n",
       "      <th>price</th>\n",
       "      <th>make</th>\n",
       "      <th>model</th>\n",
       "      <th>mileage</th>\n",
       "      <th>first_registration</th>\n",
       "      <th>age</th>\n",
       "    </tr>\n",
       "  </thead>\n",
       "  <tbody>\n",
       "    <tr>\n",
       "      <th>0</th>\n",
       "      <td>15770</td>\n",
       "      <td>Audi</td>\n",
       "      <td>A1</td>\n",
       "      <td>56013</td>\n",
       "      <td>2016</td>\n",
       "      <td>3</td>\n",
       "    </tr>\n",
       "    <tr>\n",
       "      <th>1</th>\n",
       "      <td>14500</td>\n",
       "      <td>Audi</td>\n",
       "      <td>A1</td>\n",
       "      <td>80000</td>\n",
       "      <td>2017</td>\n",
       "      <td>2</td>\n",
       "    </tr>\n",
       "    <tr>\n",
       "      <th>2</th>\n",
       "      <td>14640</td>\n",
       "      <td>Audi</td>\n",
       "      <td>A1</td>\n",
       "      <td>83450</td>\n",
       "      <td>2016</td>\n",
       "      <td>3</td>\n",
       "    </tr>\n",
       "    <tr>\n",
       "      <th>3</th>\n",
       "      <td>14500</td>\n",
       "      <td>Audi</td>\n",
       "      <td>A1</td>\n",
       "      <td>73000</td>\n",
       "      <td>2016</td>\n",
       "      <td>3</td>\n",
       "    </tr>\n",
       "    <tr>\n",
       "      <th>4</th>\n",
       "      <td>16790</td>\n",
       "      <td>Audi</td>\n",
       "      <td>A1</td>\n",
       "      <td>16200</td>\n",
       "      <td>2016</td>\n",
       "      <td>3</td>\n",
       "    </tr>\n",
       "  </tbody>\n",
       "</table>\n",
       "</div>"
      ],
      "text/plain": [
       "   price  make model  mileage  first_registration  age\n",
       "0  15770  Audi    A1    56013                2016    3\n",
       "1  14500  Audi    A1    80000                2017    2\n",
       "2  14640  Audi    A1    83450                2016    3\n",
       "3  14500  Audi    A1    73000                2016    3\n",
       "4  16790  Audi    A1    16200                2016    3"
      ]
     },
     "execution_count": 65,
     "metadata": {},
     "output_type": "execute_result"
    }
   ],
   "source": [
    "data.head()"
   ]
  },
  {
   "cell_type": "code",
   "execution_count": 66,
   "metadata": {},
   "outputs": [
    {
     "name": "stdout",
     "output_type": "stream",
     "text": [
      "<class 'pandas.core.frame.DataFrame'>\n",
      "Int64Index: 15918 entries, 0 to 15918\n",
      "Data columns (total 6 columns):\n",
      " #   Column              Non-Null Count  Dtype \n",
      "---  ------              --------------  ----- \n",
      " 0   price               15918 non-null  int64 \n",
      " 1   make                15918 non-null  object\n",
      " 2   model               15918 non-null  object\n",
      " 3   mileage             15918 non-null  int64 \n",
      " 4   first_registration  15918 non-null  int64 \n",
      " 5   age                 15918 non-null  int64 \n",
      "dtypes: int64(4), object(2)\n",
      "memory usage: 1.4+ MB\n"
     ]
    }
   ],
   "source": [
    "data.info()"
   ]
  },
  {
   "cell_type": "code",
   "execution_count": 67,
   "metadata": {},
   "outputs": [
    {
     "data": {
      "text/html": [
       "<div>\n",
       "<style scoped>\n",
       "    .dataframe tbody tr th:only-of-type {\n",
       "        vertical-align: middle;\n",
       "    }\n",
       "\n",
       "    .dataframe tbody tr th {\n",
       "        vertical-align: top;\n",
       "    }\n",
       "\n",
       "    .dataframe thead th {\n",
       "        text-align: right;\n",
       "    }\n",
       "</style>\n",
       "<table border=\"1\" class=\"dataframe\">\n",
       "  <thead>\n",
       "    <tr style=\"text-align: right;\">\n",
       "      <th></th>\n",
       "      <th>price</th>\n",
       "      <th>mileage</th>\n",
       "      <th>first_registration</th>\n",
       "      <th>age</th>\n",
       "    </tr>\n",
       "  </thead>\n",
       "  <tbody>\n",
       "    <tr>\n",
       "      <th>count</th>\n",
       "      <td>15918.000000</td>\n",
       "      <td>15918.000000</td>\n",
       "      <td>15918.000000</td>\n",
       "      <td>15918.000000</td>\n",
       "    </tr>\n",
       "    <tr>\n",
       "      <th>mean</th>\n",
       "      <td>18019.257193</td>\n",
       "      <td>31935.047619</td>\n",
       "      <td>2017.611195</td>\n",
       "      <td>1.388805</td>\n",
       "    </tr>\n",
       "    <tr>\n",
       "      <th>std</th>\n",
       "      <td>7385.960648</td>\n",
       "      <td>37090.278586</td>\n",
       "      <td>1.121525</td>\n",
       "      <td>1.121525</td>\n",
       "    </tr>\n",
       "    <tr>\n",
       "      <th>min</th>\n",
       "      <td>13.000000</td>\n",
       "      <td>0.000000</td>\n",
       "      <td>2016.000000</td>\n",
       "      <td>0.000000</td>\n",
       "    </tr>\n",
       "    <tr>\n",
       "      <th>25%</th>\n",
       "      <td>12850.000000</td>\n",
       "      <td>1553.750000</td>\n",
       "      <td>2017.000000</td>\n",
       "      <td>0.000000</td>\n",
       "    </tr>\n",
       "    <tr>\n",
       "      <th>50%</th>\n",
       "      <td>16900.000000</td>\n",
       "      <td>20397.000000</td>\n",
       "      <td>2018.000000</td>\n",
       "      <td>1.000000</td>\n",
       "    </tr>\n",
       "    <tr>\n",
       "      <th>75%</th>\n",
       "      <td>21900.000000</td>\n",
       "      <td>46899.250000</td>\n",
       "      <td>2019.000000</td>\n",
       "      <td>2.000000</td>\n",
       "    </tr>\n",
       "    <tr>\n",
       "      <th>max</th>\n",
       "      <td>74600.000000</td>\n",
       "      <td>317000.000000</td>\n",
       "      <td>2019.000000</td>\n",
       "      <td>3.000000</td>\n",
       "    </tr>\n",
       "  </tbody>\n",
       "</table>\n",
       "</div>"
      ],
      "text/plain": [
       "              price        mileage  first_registration           age\n",
       "count  15918.000000   15918.000000        15918.000000  15918.000000\n",
       "mean   18019.257193   31935.047619         2017.611195      1.388805\n",
       "std     7385.960648   37090.278586            1.121525      1.121525\n",
       "min       13.000000       0.000000         2016.000000      0.000000\n",
       "25%    12850.000000    1553.750000         2017.000000      0.000000\n",
       "50%    16900.000000   20397.000000         2018.000000      1.000000\n",
       "75%    21900.000000   46899.250000         2019.000000      2.000000\n",
       "max    74600.000000  317000.000000         2019.000000      3.000000"
      ]
     },
     "execution_count": 67,
     "metadata": {},
     "output_type": "execute_result"
    }
   ],
   "source": [
    "data.describe()"
   ]
  },
  {
   "cell_type": "code",
   "execution_count": 68,
   "metadata": {},
   "outputs": [
    {
     "data": {
      "image/png": "[encoded data removed]",
      "text/plain": [
       "<Figure size 432x288 with 1 Axes>"
      ]
     },
     "metadata": {
      "needs_background": "light"
     },
     "output_type": "display_data"
    }
   ],
   "source": [
    "sns.barplot(x=\"first_registration\", y=\"price\", data=data);"
   ]
  },
  {
   "cell_type": "code",
   "execution_count": 69,
   "metadata": {},
   "outputs": [
    {
     "data": {
      "image/png": "[encoded data removed]",
      "text/plain": [
       "<Figure size 432x288 with 1 Axes>"
      ]
     },
     "metadata": {
      "needs_background": "light"
     },
     "output_type": "display_data"
    }
   ],
   "source": [
    "sns.barplot(x=\"first_registration\", y=\"mileage\", data=data);"
   ]
  },
  {
   "cell_type": "markdown",
   "metadata": {},
   "source": [
    "#### Handling the independent variables *hp* and *kW*"
   ]
  },
  {
   "cell_type": "code",
   "execution_count": 70,
   "metadata": {},
   "outputs": [
    {
     "data": {
      "text/html": [
       "<div>\n",
       "<style scoped>\n",
       "    .dataframe tbody tr th:only-of-type {\n",
       "        vertical-align: middle;\n",
       "    }\n",
       "\n",
       "    .dataframe tbody tr th {\n",
       "        vertical-align: top;\n",
       "    }\n",
       "\n",
       "    .dataframe thead th {\n",
       "        text-align: right;\n",
       "    }\n",
       "</style>\n",
       "<table border=\"1\" class=\"dataframe\">\n",
       "  <thead>\n",
       "    <tr style=\"text-align: right;\">\n",
       "      <th></th>\n",
       "      <th>hp</th>\n",
       "      <th>kW</th>\n",
       "    </tr>\n",
       "  </thead>\n",
       "  <tbody>\n",
       "    <tr>\n",
       "      <th>0</th>\n",
       "      <td>66 kW</td>\n",
       "      <td>NaN</td>\n",
       "    </tr>\n",
       "    <tr>\n",
       "      <th>1</th>\n",
       "      <td>141 kW</td>\n",
       "      <td>NaN</td>\n",
       "    </tr>\n",
       "    <tr>\n",
       "      <th>2</th>\n",
       "      <td>85 kW</td>\n",
       "      <td>NaN</td>\n",
       "    </tr>\n",
       "    <tr>\n",
       "      <th>3</th>\n",
       "      <td>66 kW</td>\n",
       "      <td>NaN</td>\n",
       "    </tr>\n",
       "    <tr>\n",
       "      <th>4</th>\n",
       "      <td>66 kW</td>\n",
       "      <td>NaN</td>\n",
       "    </tr>\n",
       "  </tbody>\n",
       "</table>\n",
       "</div>"
      ],
      "text/plain": [
       "       hp  kW\n",
       "0   66 kW NaN\n",
       "1  141 kW NaN\n",
       "2   85 kW NaN\n",
       "3   66 kW NaN\n",
       "4   66 kW NaN"
      ]
     },
     "execution_count": 70,
     "metadata": {},
     "output_type": "execute_result"
    }
   ],
   "source": [
    "raw_df[[\"hp\", \"kW\"]].head()"
   ]
  },
  {
   "cell_type": "code",
   "execution_count": 71,
   "metadata": {},
   "outputs": [
    {
     "data": {
      "text/plain": [
       "hp        0\n",
       "kW    15918\n",
       "dtype: int64"
      ]
     },
     "execution_count": 71,
     "metadata": {},
     "output_type": "execute_result"
    }
   ],
   "source": [
    "raw_df[[\"hp\", \"kW\"]].isnull().sum()"
   ]
  },
  {
   "cell_type": "code",
   "execution_count": 72,
   "metadata": {},
   "outputs": [],
   "source": [
    "temp = raw_df[\"hp\"].copy()"
   ]
  },
  {
   "cell_type": "code",
   "execution_count": 73,
   "metadata": {},
   "outputs": [],
   "source": [
    "temp = temp.apply(lambda row: row.strip(\" kW\"))"
   ]
  },
  {
   "cell_type": "code",
   "execution_count": 74,
   "metadata": {},
   "outputs": [
    {
     "data": {
      "text/plain": [
       "0     66\n",
       "1    141\n",
       "2     85\n",
       "3     66\n",
       "4     66\n",
       "Name: hp, dtype: object"
      ]
     },
     "execution_count": 74,
     "metadata": {},
     "output_type": "execute_result"
    }
   ],
   "source": [
    "temp.head()"
   ]
  },
  {
   "cell_type": "code",
   "execution_count": 75,
   "metadata": {},
   "outputs": [],
   "source": [
    "#temp = temp.apply(lambda x: int(x) if x.isdigit() else np.NaN)"
   ]
  },
  {
   "cell_type": "code",
   "execution_count": 76,
   "metadata": {},
   "outputs": [],
   "source": [
    "temp = temp.apply(lambda x: pd.to_numeric(x, errors ='coerce'))"
   ]
  },
  {
   "cell_type": "code",
   "execution_count": 77,
   "metadata": {},
   "outputs": [
    {
     "data": {
      "text/plain": [
       "25"
      ]
     },
     "execution_count": 77,
     "metadata": {},
     "output_type": "execute_result"
    }
   ],
   "source": [
    "temp[temp < 50].count()"
   ]
  },
  {
   "cell_type": "code",
   "execution_count": 78,
   "metadata": {},
   "outputs": [],
   "source": [
    "temp[temp < 50] = np.NaN"
   ]
  },
  {
   "cell_type": "code",
   "execution_count": 79,
   "metadata": {},
   "outputs": [
    {
     "data": {
      "text/plain": [
       "113"
      ]
     },
     "execution_count": 79,
     "metadata": {},
     "output_type": "execute_result"
    }
   ],
   "source": [
    "temp.isnull().sum()"
   ]
  },
  {
   "cell_type": "code",
   "execution_count": 80,
   "metadata": {},
   "outputs": [
    {
     "data": {
      "text/plain": [
       "(15918,)"
      ]
     },
     "execution_count": 80,
     "metadata": {},
     "output_type": "execute_result"
    }
   ],
   "source": [
    "temp.shape"
   ]
  },
  {
   "cell_type": "code",
   "execution_count": 81,
   "metadata": {},
   "outputs": [],
   "source": [
    "data[\"power\"] = temp\n",
    "#data[\"power\"] = pd.to_numeric(data[\"power\"], errors ='coerce')"
   ]
  },
  {
   "cell_type": "code",
   "execution_count": 82,
   "metadata": {
    "scrolled": true
   },
   "outputs": [
    {
     "data": {
      "text/html": [
       "<div>\n",
       "<style scoped>\n",
       "    .dataframe tbody tr th:only-of-type {\n",
       "        vertical-align: middle;\n",
       "    }\n",
       "\n",
       "    .dataframe tbody tr th {\n",
       "        vertical-align: top;\n",
       "    }\n",
       "\n",
       "    .dataframe thead th {\n",
       "        text-align: right;\n",
       "    }\n",
       "</style>\n",
       "<table border=\"1\" class=\"dataframe\">\n",
       "  <thead>\n",
       "    <tr style=\"text-align: right;\">\n",
       "      <th></th>\n",
       "      <th>price</th>\n",
       "      <th>make</th>\n",
       "      <th>model</th>\n",
       "      <th>mileage</th>\n",
       "      <th>first_registration</th>\n",
       "      <th>age</th>\n",
       "      <th>power</th>\n",
       "    </tr>\n",
       "  </thead>\n",
       "  <tbody>\n",
       "    <tr>\n",
       "      <th>1269</th>\n",
       "      <td>15500</td>\n",
       "      <td>Audi</td>\n",
       "      <td>A1</td>\n",
       "      <td>11284</td>\n",
       "      <td>2018</td>\n",
       "      <td>1</td>\n",
       "      <td>NaN</td>\n",
       "    </tr>\n",
       "    <tr>\n",
       "      <th>2500</th>\n",
       "      <td>22750</td>\n",
       "      <td>Audi</td>\n",
       "      <td>A1</td>\n",
       "      <td>10</td>\n",
       "      <td>2019</td>\n",
       "      <td>0</td>\n",
       "      <td>NaN</td>\n",
       "    </tr>\n",
       "    <tr>\n",
       "      <th>3913</th>\n",
       "      <td>20440</td>\n",
       "      <td>Audi</td>\n",
       "      <td>A3</td>\n",
       "      <td>24000</td>\n",
       "      <td>2017</td>\n",
       "      <td>2</td>\n",
       "      <td>NaN</td>\n",
       "    </tr>\n",
       "    <tr>\n",
       "      <th>4259</th>\n",
       "      <td>18700</td>\n",
       "      <td>Audi</td>\n",
       "      <td>A3</td>\n",
       "      <td>16316</td>\n",
       "      <td>2018</td>\n",
       "      <td>1</td>\n",
       "      <td>NaN</td>\n",
       "    </tr>\n",
       "    <tr>\n",
       "      <th>6005</th>\n",
       "      <td>11600</td>\n",
       "      <td>Opel</td>\n",
       "      <td>Astra</td>\n",
       "      <td>73860</td>\n",
       "      <td>2017</td>\n",
       "      <td>2</td>\n",
       "      <td>NaN</td>\n",
       "    </tr>\n",
       "    <tr>\n",
       "      <th>6034</th>\n",
       "      <td>11600</td>\n",
       "      <td>Opel</td>\n",
       "      <td>Astra</td>\n",
       "      <td>76010</td>\n",
       "      <td>2017</td>\n",
       "      <td>2</td>\n",
       "      <td>NaN</td>\n",
       "    </tr>\n",
       "    <tr>\n",
       "      <th>6946</th>\n",
       "      <td>11900</td>\n",
       "      <td>Opel</td>\n",
       "      <td>Astra</td>\n",
       "      <td>70090</td>\n",
       "      <td>2017</td>\n",
       "      <td>2</td>\n",
       "      <td>NaN</td>\n",
       "    </tr>\n",
       "    <tr>\n",
       "      <th>7014</th>\n",
       "      <td>11700</td>\n",
       "      <td>Opel</td>\n",
       "      <td>Astra</td>\n",
       "      <td>79993</td>\n",
       "      <td>2017</td>\n",
       "      <td>2</td>\n",
       "      <td>NaN</td>\n",
       "    </tr>\n",
       "    <tr>\n",
       "      <th>7016</th>\n",
       "      <td>11700</td>\n",
       "      <td>Opel</td>\n",
       "      <td>Astra</td>\n",
       "      <td>62384</td>\n",
       "      <td>2017</td>\n",
       "      <td>2</td>\n",
       "      <td>NaN</td>\n",
       "    </tr>\n",
       "    <tr>\n",
       "      <th>7018</th>\n",
       "      <td>11700</td>\n",
       "      <td>Opel</td>\n",
       "      <td>Astra</td>\n",
       "      <td>77272</td>\n",
       "      <td>2017</td>\n",
       "      <td>2</td>\n",
       "      <td>NaN</td>\n",
       "    </tr>\n",
       "    <tr>\n",
       "      <th>7019</th>\n",
       "      <td>11700</td>\n",
       "      <td>Opel</td>\n",
       "      <td>Astra</td>\n",
       "      <td>69035</td>\n",
       "      <td>2017</td>\n",
       "      <td>2</td>\n",
       "      <td>NaN</td>\n",
       "    </tr>\n",
       "    <tr>\n",
       "      <th>7177</th>\n",
       "      <td>18200</td>\n",
       "      <td>Opel</td>\n",
       "      <td>Astra</td>\n",
       "      <td>3260</td>\n",
       "      <td>2019</td>\n",
       "      <td>0</td>\n",
       "      <td>NaN</td>\n",
       "    </tr>\n",
       "    <tr>\n",
       "      <th>7670</th>\n",
       "      <td>31246</td>\n",
       "      <td>Opel</td>\n",
       "      <td>Astra</td>\n",
       "      <td>10</td>\n",
       "      <td>2019</td>\n",
       "      <td>0</td>\n",
       "      <td>NaN</td>\n",
       "    </tr>\n",
       "    <tr>\n",
       "      <th>8269</th>\n",
       "      <td>13400</td>\n",
       "      <td>Opel</td>\n",
       "      <td>Corsa</td>\n",
       "      <td>6109</td>\n",
       "      <td>2018</td>\n",
       "      <td>1</td>\n",
       "      <td>NaN</td>\n",
       "    </tr>\n",
       "    <tr>\n",
       "      <th>8408</th>\n",
       "      <td>12435</td>\n",
       "      <td>Opel</td>\n",
       "      <td>Corsa</td>\n",
       "      <td>21050</td>\n",
       "      <td>2018</td>\n",
       "      <td>1</td>\n",
       "      <td>NaN</td>\n",
       "    </tr>\n",
       "    <tr>\n",
       "      <th>8857</th>\n",
       "      <td>7650</td>\n",
       "      <td>Opel</td>\n",
       "      <td>Corsa</td>\n",
       "      <td>142</td>\n",
       "      <td>2019</td>\n",
       "      <td>0</td>\n",
       "      <td>NaN</td>\n",
       "    </tr>\n",
       "    <tr>\n",
       "      <th>9285</th>\n",
       "      <td>8300</td>\n",
       "      <td>Opel</td>\n",
       "      <td>Corsa</td>\n",
       "      <td>58912</td>\n",
       "      <td>2017</td>\n",
       "      <td>2</td>\n",
       "      <td>NaN</td>\n",
       "    </tr>\n",
       "    <tr>\n",
       "      <th>9287</th>\n",
       "      <td>8300</td>\n",
       "      <td>Opel</td>\n",
       "      <td>Corsa</td>\n",
       "      <td>53522</td>\n",
       "      <td>2017</td>\n",
       "      <td>2</td>\n",
       "      <td>NaN</td>\n",
       "    </tr>\n",
       "    <tr>\n",
       "      <th>9288</th>\n",
       "      <td>8300</td>\n",
       "      <td>Opel</td>\n",
       "      <td>Corsa</td>\n",
       "      <td>60386</td>\n",
       "      <td>2017</td>\n",
       "      <td>2</td>\n",
       "      <td>NaN</td>\n",
       "    </tr>\n",
       "    <tr>\n",
       "      <th>9289</th>\n",
       "      <td>8300</td>\n",
       "      <td>Opel</td>\n",
       "      <td>Corsa</td>\n",
       "      <td>59217</td>\n",
       "      <td>2017</td>\n",
       "      <td>2</td>\n",
       "      <td>NaN</td>\n",
       "    </tr>\n",
       "    <tr>\n",
       "      <th>9290</th>\n",
       "      <td>8300</td>\n",
       "      <td>Opel</td>\n",
       "      <td>Corsa</td>\n",
       "      <td>51318</td>\n",
       "      <td>2017</td>\n",
       "      <td>2</td>\n",
       "      <td>NaN</td>\n",
       "    </tr>\n",
       "    <tr>\n",
       "      <th>9292</th>\n",
       "      <td>8300</td>\n",
       "      <td>Opel</td>\n",
       "      <td>Corsa</td>\n",
       "      <td>53390</td>\n",
       "      <td>2017</td>\n",
       "      <td>2</td>\n",
       "      <td>NaN</td>\n",
       "    </tr>\n",
       "    <tr>\n",
       "      <th>9299</th>\n",
       "      <td>8300</td>\n",
       "      <td>Opel</td>\n",
       "      <td>Corsa</td>\n",
       "      <td>47140</td>\n",
       "      <td>2017</td>\n",
       "      <td>2</td>\n",
       "      <td>NaN</td>\n",
       "    </tr>\n",
       "    <tr>\n",
       "      <th>10167</th>\n",
       "      <td>10350</td>\n",
       "      <td>Opel</td>\n",
       "      <td>Corsa</td>\n",
       "      <td>0</td>\n",
       "      <td>2019</td>\n",
       "      <td>0</td>\n",
       "      <td>NaN</td>\n",
       "    </tr>\n",
       "    <tr>\n",
       "      <th>10468</th>\n",
       "      <td>15300</td>\n",
       "      <td>Opel</td>\n",
       "      <td>Insignia</td>\n",
       "      <td>77125</td>\n",
       "      <td>2017</td>\n",
       "      <td>2</td>\n",
       "      <td>NaN</td>\n",
       "    </tr>\n",
       "    <tr>\n",
       "      <th>10579</th>\n",
       "      <td>16400</td>\n",
       "      <td>Opel</td>\n",
       "      <td>Insignia</td>\n",
       "      <td>78762</td>\n",
       "      <td>2017</td>\n",
       "      <td>2</td>\n",
       "      <td>NaN</td>\n",
       "    </tr>\n",
       "    <tr>\n",
       "      <th>10580</th>\n",
       "      <td>16400</td>\n",
       "      <td>Opel</td>\n",
       "      <td>Insignia</td>\n",
       "      <td>68525</td>\n",
       "      <td>2017</td>\n",
       "      <td>2</td>\n",
       "      <td>NaN</td>\n",
       "    </tr>\n",
       "    <tr>\n",
       "      <th>10586</th>\n",
       "      <td>15990</td>\n",
       "      <td>Opel</td>\n",
       "      <td>Insignia</td>\n",
       "      <td>81920</td>\n",
       "      <td>2017</td>\n",
       "      <td>2</td>\n",
       "      <td>NaN</td>\n",
       "    </tr>\n",
       "    <tr>\n",
       "      <th>10610</th>\n",
       "      <td>15300</td>\n",
       "      <td>Opel</td>\n",
       "      <td>Insignia</td>\n",
       "      <td>62800</td>\n",
       "      <td>2017</td>\n",
       "      <td>2</td>\n",
       "      <td>NaN</td>\n",
       "    </tr>\n",
       "    <tr>\n",
       "      <th>10909</th>\n",
       "      <td>14490</td>\n",
       "      <td>Opel</td>\n",
       "      <td>Insignia</td>\n",
       "      <td>96124</td>\n",
       "      <td>2016</td>\n",
       "      <td>3</td>\n",
       "      <td>NaN</td>\n",
       "    </tr>\n",
       "    <tr>\n",
       "      <th>10910</th>\n",
       "      <td>14490</td>\n",
       "      <td>Opel</td>\n",
       "      <td>Insignia</td>\n",
       "      <td>96124</td>\n",
       "      <td>2016</td>\n",
       "      <td>3</td>\n",
       "      <td>NaN</td>\n",
       "    </tr>\n",
       "    <tr>\n",
       "      <th>11012</th>\n",
       "      <td>13490</td>\n",
       "      <td>Opel</td>\n",
       "      <td>Insignia</td>\n",
       "      <td>73295</td>\n",
       "      <td>2016</td>\n",
       "      <td>3</td>\n",
       "      <td>NaN</td>\n",
       "    </tr>\n",
       "    <tr>\n",
       "      <th>11013</th>\n",
       "      <td>13490</td>\n",
       "      <td>Opel</td>\n",
       "      <td>Insignia</td>\n",
       "      <td>73295</td>\n",
       "      <td>2016</td>\n",
       "      <td>3</td>\n",
       "      <td>NaN</td>\n",
       "    </tr>\n",
       "    <tr>\n",
       "      <th>11163</th>\n",
       "      <td>10600</td>\n",
       "      <td>Opel</td>\n",
       "      <td>Insignia</td>\n",
       "      <td>107000</td>\n",
       "      <td>2017</td>\n",
       "      <td>2</td>\n",
       "      <td>NaN</td>\n",
       "    </tr>\n",
       "    <tr>\n",
       "      <th>11183</th>\n",
       "      <td>14990</td>\n",
       "      <td>Opel</td>\n",
       "      <td>Insignia</td>\n",
       "      <td>72728</td>\n",
       "      <td>2017</td>\n",
       "      <td>2</td>\n",
       "      <td>NaN</td>\n",
       "    </tr>\n",
       "    <tr>\n",
       "      <th>11237</th>\n",
       "      <td>14990</td>\n",
       "      <td>Opel</td>\n",
       "      <td>Insignia</td>\n",
       "      <td>72728</td>\n",
       "      <td>2017</td>\n",
       "      <td>2</td>\n",
       "      <td>NaN</td>\n",
       "    </tr>\n",
       "    <tr>\n",
       "      <th>12450</th>\n",
       "      <td>38900</td>\n",
       "      <td>Opel</td>\n",
       "      <td>Insignia</td>\n",
       "      <td>11000</td>\n",
       "      <td>2019</td>\n",
       "      <td>0</td>\n",
       "      <td>NaN</td>\n",
       "    </tr>\n",
       "    <tr>\n",
       "      <th>12767</th>\n",
       "      <td>39450</td>\n",
       "      <td>Opel</td>\n",
       "      <td>Insignia</td>\n",
       "      <td>10</td>\n",
       "      <td>2019</td>\n",
       "      <td>0</td>\n",
       "      <td>NaN</td>\n",
       "    </tr>\n",
       "    <tr>\n",
       "      <th>13144</th>\n",
       "      <td>14990</td>\n",
       "      <td>Renault</td>\n",
       "      <td>Clio</td>\n",
       "      <td>20261</td>\n",
       "      <td>2016</td>\n",
       "      <td>3</td>\n",
       "      <td>NaN</td>\n",
       "    </tr>\n",
       "    <tr>\n",
       "      <th>13158</th>\n",
       "      <td>14950</td>\n",
       "      <td>Renault</td>\n",
       "      <td>Clio</td>\n",
       "      <td>42999</td>\n",
       "      <td>2016</td>\n",
       "      <td>3</td>\n",
       "      <td>NaN</td>\n",
       "    </tr>\n",
       "    <tr>\n",
       "      <th>13198</th>\n",
       "      <td>15290</td>\n",
       "      <td>Renault</td>\n",
       "      <td>Clio</td>\n",
       "      <td>13520</td>\n",
       "      <td>2017</td>\n",
       "      <td>2</td>\n",
       "      <td>NaN</td>\n",
       "    </tr>\n",
       "    <tr>\n",
       "      <th>13271</th>\n",
       "      <td>14290</td>\n",
       "      <td>Renault</td>\n",
       "      <td>Clio</td>\n",
       "      <td>37065</td>\n",
       "      <td>2016</td>\n",
       "      <td>3</td>\n",
       "      <td>NaN</td>\n",
       "    </tr>\n",
       "    <tr>\n",
       "      <th>13397</th>\n",
       "      <td>8490</td>\n",
       "      <td>Renault</td>\n",
       "      <td>Clio</td>\n",
       "      <td>23863</td>\n",
       "      <td>2016</td>\n",
       "      <td>3</td>\n",
       "      <td>NaN</td>\n",
       "    </tr>\n",
       "    <tr>\n",
       "      <th>13422</th>\n",
       "      <td>7490</td>\n",
       "      <td>Renault</td>\n",
       "      <td>Clio</td>\n",
       "      <td>56485</td>\n",
       "      <td>2017</td>\n",
       "      <td>2</td>\n",
       "      <td>NaN</td>\n",
       "    </tr>\n",
       "    <tr>\n",
       "      <th>13471</th>\n",
       "      <td>8490</td>\n",
       "      <td>Renault</td>\n",
       "      <td>Clio</td>\n",
       "      <td>41820</td>\n",
       "      <td>2017</td>\n",
       "      <td>2</td>\n",
       "      <td>NaN</td>\n",
       "    </tr>\n",
       "    <tr>\n",
       "      <th>13474</th>\n",
       "      <td>8490</td>\n",
       "      <td>Renault</td>\n",
       "      <td>Clio</td>\n",
       "      <td>38733</td>\n",
       "      <td>2017</td>\n",
       "      <td>2</td>\n",
       "      <td>NaN</td>\n",
       "    </tr>\n",
       "    <tr>\n",
       "      <th>13476</th>\n",
       "      <td>8490</td>\n",
       "      <td>Renault</td>\n",
       "      <td>Clio</td>\n",
       "      <td>23110</td>\n",
       "      <td>2017</td>\n",
       "      <td>2</td>\n",
       "      <td>NaN</td>\n",
       "    </tr>\n",
       "    <tr>\n",
       "      <th>13481</th>\n",
       "      <td>8490</td>\n",
       "      <td>Renault</td>\n",
       "      <td>Clio</td>\n",
       "      <td>69315</td>\n",
       "      <td>2017</td>\n",
       "      <td>2</td>\n",
       "      <td>NaN</td>\n",
       "    </tr>\n",
       "    <tr>\n",
       "      <th>13488</th>\n",
       "      <td>8490</td>\n",
       "      <td>Renault</td>\n",
       "      <td>Clio</td>\n",
       "      <td>56118</td>\n",
       "      <td>2017</td>\n",
       "      <td>2</td>\n",
       "      <td>NaN</td>\n",
       "    </tr>\n",
       "    <tr>\n",
       "      <th>13566</th>\n",
       "      <td>7990</td>\n",
       "      <td>Renault</td>\n",
       "      <td>Clio</td>\n",
       "      <td>58356</td>\n",
       "      <td>2016</td>\n",
       "      <td>3</td>\n",
       "      <td>NaN</td>\n",
       "    </tr>\n",
       "    <tr>\n",
       "      <th>13570</th>\n",
       "      <td>7990</td>\n",
       "      <td>Renault</td>\n",
       "      <td>Clio</td>\n",
       "      <td>38329</td>\n",
       "      <td>2016</td>\n",
       "      <td>3</td>\n",
       "      <td>NaN</td>\n",
       "    </tr>\n",
       "    <tr>\n",
       "      <th>13572</th>\n",
       "      <td>7990</td>\n",
       "      <td>Renault</td>\n",
       "      <td>Clio</td>\n",
       "      <td>60632</td>\n",
       "      <td>2017</td>\n",
       "      <td>2</td>\n",
       "      <td>NaN</td>\n",
       "    </tr>\n",
       "    <tr>\n",
       "      <th>13633</th>\n",
       "      <td>7900</td>\n",
       "      <td>Renault</td>\n",
       "      <td>Clio</td>\n",
       "      <td>29671</td>\n",
       "      <td>2016</td>\n",
       "      <td>3</td>\n",
       "      <td>NaN</td>\n",
       "    </tr>\n",
       "    <tr>\n",
       "      <th>13646</th>\n",
       "      <td>6990</td>\n",
       "      <td>Renault</td>\n",
       "      <td>Clio</td>\n",
       "      <td>89263</td>\n",
       "      <td>2016</td>\n",
       "      <td>3</td>\n",
       "      <td>NaN</td>\n",
       "    </tr>\n",
       "    <tr>\n",
       "      <th>13647</th>\n",
       "      <td>6990</td>\n",
       "      <td>Renault</td>\n",
       "      <td>Clio</td>\n",
       "      <td>87816</td>\n",
       "      <td>2016</td>\n",
       "      <td>3</td>\n",
       "      <td>NaN</td>\n",
       "    </tr>\n",
       "    <tr>\n",
       "      <th>13648</th>\n",
       "      <td>6990</td>\n",
       "      <td>Renault</td>\n",
       "      <td>Clio</td>\n",
       "      <td>75954</td>\n",
       "      <td>2016</td>\n",
       "      <td>3</td>\n",
       "      <td>NaN</td>\n",
       "    </tr>\n",
       "    <tr>\n",
       "      <th>13649</th>\n",
       "      <td>6990</td>\n",
       "      <td>Renault</td>\n",
       "      <td>Clio</td>\n",
       "      <td>92130</td>\n",
       "      <td>2016</td>\n",
       "      <td>3</td>\n",
       "      <td>NaN</td>\n",
       "    </tr>\n",
       "    <tr>\n",
       "      <th>13726</th>\n",
       "      <td>7490</td>\n",
       "      <td>Renault</td>\n",
       "      <td>Clio</td>\n",
       "      <td>59535</td>\n",
       "      <td>2016</td>\n",
       "      <td>3</td>\n",
       "      <td>NaN</td>\n",
       "    </tr>\n",
       "    <tr>\n",
       "      <th>13729</th>\n",
       "      <td>7490</td>\n",
       "      <td>Renault</td>\n",
       "      <td>Clio</td>\n",
       "      <td>46398</td>\n",
       "      <td>2016</td>\n",
       "      <td>3</td>\n",
       "      <td>NaN</td>\n",
       "    </tr>\n",
       "    <tr>\n",
       "      <th>13733</th>\n",
       "      <td>7490</td>\n",
       "      <td>Renault</td>\n",
       "      <td>Clio</td>\n",
       "      <td>48404</td>\n",
       "      <td>2016</td>\n",
       "      <td>3</td>\n",
       "      <td>NaN</td>\n",
       "    </tr>\n",
       "    <tr>\n",
       "      <th>13742</th>\n",
       "      <td>6900</td>\n",
       "      <td>Renault</td>\n",
       "      <td>Clio</td>\n",
       "      <td>82494</td>\n",
       "      <td>2016</td>\n",
       "      <td>3</td>\n",
       "      <td>NaN</td>\n",
       "    </tr>\n",
       "    <tr>\n",
       "      <th>13759</th>\n",
       "      <td>5890</td>\n",
       "      <td>Renault</td>\n",
       "      <td>Clio</td>\n",
       "      <td>134500</td>\n",
       "      <td>2016</td>\n",
       "      <td>3</td>\n",
       "      <td>NaN</td>\n",
       "    </tr>\n",
       "    <tr>\n",
       "      <th>13864</th>\n",
       "      <td>16990</td>\n",
       "      <td>Renault</td>\n",
       "      <td>Clio</td>\n",
       "      <td>10</td>\n",
       "      <td>2019</td>\n",
       "      <td>0</td>\n",
       "      <td>NaN</td>\n",
       "    </tr>\n",
       "    <tr>\n",
       "      <th>13885</th>\n",
       "      <td>8990</td>\n",
       "      <td>Renault</td>\n",
       "      <td>Clio</td>\n",
       "      <td>9751</td>\n",
       "      <td>2017</td>\n",
       "      <td>2</td>\n",
       "      <td>NaN</td>\n",
       "    </tr>\n",
       "    <tr>\n",
       "      <th>13951</th>\n",
       "      <td>8990</td>\n",
       "      <td>Renault</td>\n",
       "      <td>Clio</td>\n",
       "      <td>28101</td>\n",
       "      <td>2017</td>\n",
       "      <td>2</td>\n",
       "      <td>NaN</td>\n",
       "    </tr>\n",
       "    <tr>\n",
       "      <th>14048</th>\n",
       "      <td>16390</td>\n",
       "      <td>Renault</td>\n",
       "      <td>Clio</td>\n",
       "      <td>10</td>\n",
       "      <td>2019</td>\n",
       "      <td>0</td>\n",
       "      <td>NaN</td>\n",
       "    </tr>\n",
       "    <tr>\n",
       "      <th>14050</th>\n",
       "      <td>16490</td>\n",
       "      <td>Renault</td>\n",
       "      <td>Clio</td>\n",
       "      <td>10</td>\n",
       "      <td>2019</td>\n",
       "      <td>0</td>\n",
       "      <td>NaN</td>\n",
       "    </tr>\n",
       "    <tr>\n",
       "      <th>14057</th>\n",
       "      <td>16990</td>\n",
       "      <td>Renault</td>\n",
       "      <td>Clio</td>\n",
       "      <td>22750</td>\n",
       "      <td>2017</td>\n",
       "      <td>2</td>\n",
       "      <td>NaN</td>\n",
       "    </tr>\n",
       "    <tr>\n",
       "      <th>14059</th>\n",
       "      <td>16990</td>\n",
       "      <td>Renault</td>\n",
       "      <td>Clio</td>\n",
       "      <td>10</td>\n",
       "      <td>2019</td>\n",
       "      <td>0</td>\n",
       "      <td>NaN</td>\n",
       "    </tr>\n",
       "    <tr>\n",
       "      <th>14894</th>\n",
       "      <td>13250</td>\n",
       "      <td>Renault</td>\n",
       "      <td>Duster</td>\n",
       "      <td>0</td>\n",
       "      <td>2019</td>\n",
       "      <td>0</td>\n",
       "      <td>NaN</td>\n",
       "    </tr>\n",
       "    <tr>\n",
       "      <th>14895</th>\n",
       "      <td>16033</td>\n",
       "      <td>Renault</td>\n",
       "      <td>Duster</td>\n",
       "      <td>0</td>\n",
       "      <td>2019</td>\n",
       "      <td>0</td>\n",
       "      <td>NaN</td>\n",
       "    </tr>\n",
       "    <tr>\n",
       "      <th>14896</th>\n",
       "      <td>16033</td>\n",
       "      <td>Renault</td>\n",
       "      <td>Duster</td>\n",
       "      <td>101</td>\n",
       "      <td>2019</td>\n",
       "      <td>0</td>\n",
       "      <td>NaN</td>\n",
       "    </tr>\n",
       "    <tr>\n",
       "      <th>14897</th>\n",
       "      <td>16033</td>\n",
       "      <td>Renault</td>\n",
       "      <td>Duster</td>\n",
       "      <td>0</td>\n",
       "      <td>2019</td>\n",
       "      <td>0</td>\n",
       "      <td>NaN</td>\n",
       "    </tr>\n",
       "    <tr>\n",
       "      <th>14898</th>\n",
       "      <td>16033</td>\n",
       "      <td>Renault</td>\n",
       "      <td>Duster</td>\n",
       "      <td>101</td>\n",
       "      <td>2019</td>\n",
       "      <td>0</td>\n",
       "      <td>NaN</td>\n",
       "    </tr>\n",
       "    <tr>\n",
       "      <th>14899</th>\n",
       "      <td>13250</td>\n",
       "      <td>Renault</td>\n",
       "      <td>Duster</td>\n",
       "      <td>101</td>\n",
       "      <td>2019</td>\n",
       "      <td>0</td>\n",
       "      <td>NaN</td>\n",
       "    </tr>\n",
       "    <tr>\n",
       "      <th>14900</th>\n",
       "      <td>13250</td>\n",
       "      <td>Renault</td>\n",
       "      <td>Duster</td>\n",
       "      <td>0</td>\n",
       "      <td>2019</td>\n",
       "      <td>0</td>\n",
       "      <td>NaN</td>\n",
       "    </tr>\n",
       "    <tr>\n",
       "      <th>14901</th>\n",
       "      <td>13250</td>\n",
       "      <td>Renault</td>\n",
       "      <td>Duster</td>\n",
       "      <td>101</td>\n",
       "      <td>2019</td>\n",
       "      <td>0</td>\n",
       "      <td>NaN</td>\n",
       "    </tr>\n",
       "    <tr>\n",
       "      <th>14942</th>\n",
       "      <td>24590</td>\n",
       "      <td>Renault</td>\n",
       "      <td>Espace</td>\n",
       "      <td>16163</td>\n",
       "      <td>2017</td>\n",
       "      <td>2</td>\n",
       "      <td>NaN</td>\n",
       "    </tr>\n",
       "    <tr>\n",
       "      <th>14960</th>\n",
       "      <td>25990</td>\n",
       "      <td>Renault</td>\n",
       "      <td>Espace</td>\n",
       "      <td>15888</td>\n",
       "      <td>2017</td>\n",
       "      <td>2</td>\n",
       "      <td>NaN</td>\n",
       "    </tr>\n",
       "    <tr>\n",
       "      <th>14963</th>\n",
       "      <td>25990</td>\n",
       "      <td>Renault</td>\n",
       "      <td>Espace</td>\n",
       "      <td>16613</td>\n",
       "      <td>2017</td>\n",
       "      <td>2</td>\n",
       "      <td>NaN</td>\n",
       "    </tr>\n",
       "    <tr>\n",
       "      <th>15009</th>\n",
       "      <td>26990</td>\n",
       "      <td>Renault</td>\n",
       "      <td>Espace</td>\n",
       "      <td>4068</td>\n",
       "      <td>2018</td>\n",
       "      <td>1</td>\n",
       "      <td>NaN</td>\n",
       "    </tr>\n",
       "    <tr>\n",
       "      <th>15044</th>\n",
       "      <td>24840</td>\n",
       "      <td>Renault</td>\n",
       "      <td>Espace</td>\n",
       "      <td>12182</td>\n",
       "      <td>2017</td>\n",
       "      <td>2</td>\n",
       "      <td>NaN</td>\n",
       "    </tr>\n",
       "    <tr>\n",
       "      <th>15047</th>\n",
       "      <td>24790</td>\n",
       "      <td>Renault</td>\n",
       "      <td>Espace</td>\n",
       "      <td>15328</td>\n",
       "      <td>2017</td>\n",
       "      <td>2</td>\n",
       "      <td>NaN</td>\n",
       "    </tr>\n",
       "    <tr>\n",
       "      <th>15056</th>\n",
       "      <td>24990</td>\n",
       "      <td>Renault</td>\n",
       "      <td>Espace</td>\n",
       "      <td>38002</td>\n",
       "      <td>2016</td>\n",
       "      <td>3</td>\n",
       "      <td>NaN</td>\n",
       "    </tr>\n",
       "    <tr>\n",
       "      <th>15097</th>\n",
       "      <td>23290</td>\n",
       "      <td>Renault</td>\n",
       "      <td>Espace</td>\n",
       "      <td>38000</td>\n",
       "      <td>2016</td>\n",
       "      <td>3</td>\n",
       "      <td>NaN</td>\n",
       "    </tr>\n",
       "    <tr>\n",
       "      <th>15112</th>\n",
       "      <td>22990</td>\n",
       "      <td>Renault</td>\n",
       "      <td>Espace</td>\n",
       "      <td>43426</td>\n",
       "      <td>2016</td>\n",
       "      <td>3</td>\n",
       "      <td>NaN</td>\n",
       "    </tr>\n",
       "    <tr>\n",
       "      <th>15115</th>\n",
       "      <td>22990</td>\n",
       "      <td>Renault</td>\n",
       "      <td>Espace</td>\n",
       "      <td>22595</td>\n",
       "      <td>2017</td>\n",
       "      <td>2</td>\n",
       "      <td>NaN</td>\n",
       "    </tr>\n",
       "    <tr>\n",
       "      <th>15126</th>\n",
       "      <td>24490</td>\n",
       "      <td>Renault</td>\n",
       "      <td>Espace</td>\n",
       "      <td>43747</td>\n",
       "      <td>2016</td>\n",
       "      <td>3</td>\n",
       "      <td>NaN</td>\n",
       "    </tr>\n",
       "    <tr>\n",
       "      <th>15128</th>\n",
       "      <td>24490</td>\n",
       "      <td>Renault</td>\n",
       "      <td>Espace</td>\n",
       "      <td>19939</td>\n",
       "      <td>2017</td>\n",
       "      <td>2</td>\n",
       "      <td>NaN</td>\n",
       "    </tr>\n",
       "    <tr>\n",
       "      <th>15129</th>\n",
       "      <td>24490</td>\n",
       "      <td>Renault</td>\n",
       "      <td>Espace</td>\n",
       "      <td>18268</td>\n",
       "      <td>2017</td>\n",
       "      <td>2</td>\n",
       "      <td>NaN</td>\n",
       "    </tr>\n",
       "    <tr>\n",
       "      <th>15140</th>\n",
       "      <td>23990</td>\n",
       "      <td>Renault</td>\n",
       "      <td>Espace</td>\n",
       "      <td>47823</td>\n",
       "      <td>2016</td>\n",
       "      <td>3</td>\n",
       "      <td>NaN</td>\n",
       "    </tr>\n",
       "    <tr>\n",
       "      <th>15142</th>\n",
       "      <td>23990</td>\n",
       "      <td>Renault</td>\n",
       "      <td>Espace</td>\n",
       "      <td>27377</td>\n",
       "      <td>2016</td>\n",
       "      <td>3</td>\n",
       "      <td>NaN</td>\n",
       "    </tr>\n",
       "    <tr>\n",
       "      <th>15155</th>\n",
       "      <td>23800</td>\n",
       "      <td>Renault</td>\n",
       "      <td>Espace</td>\n",
       "      <td>56340</td>\n",
       "      <td>2017</td>\n",
       "      <td>2</td>\n",
       "      <td>NaN</td>\n",
       "    </tr>\n",
       "    <tr>\n",
       "      <th>15156</th>\n",
       "      <td>23800</td>\n",
       "      <td>Renault</td>\n",
       "      <td>Espace</td>\n",
       "      <td>69600</td>\n",
       "      <td>2017</td>\n",
       "      <td>2</td>\n",
       "      <td>NaN</td>\n",
       "    </tr>\n",
       "    <tr>\n",
       "      <th>15261</th>\n",
       "      <td>17990</td>\n",
       "      <td>Renault</td>\n",
       "      <td>Espace</td>\n",
       "      <td>83425</td>\n",
       "      <td>2016</td>\n",
       "      <td>3</td>\n",
       "      <td>NaN</td>\n",
       "    </tr>\n",
       "    <tr>\n",
       "      <th>15303</th>\n",
       "      <td>32900</td>\n",
       "      <td>Renault</td>\n",
       "      <td>Espace</td>\n",
       "      <td>19600</td>\n",
       "      <td>2016</td>\n",
       "      <td>3</td>\n",
       "      <td>NaN</td>\n",
       "    </tr>\n",
       "    <tr>\n",
       "      <th>15347</th>\n",
       "      <td>27900</td>\n",
       "      <td>Renault</td>\n",
       "      <td>Espace</td>\n",
       "      <td>13002</td>\n",
       "      <td>2017</td>\n",
       "      <td>2</td>\n",
       "      <td>NaN</td>\n",
       "    </tr>\n",
       "    <tr>\n",
       "      <th>15435</th>\n",
       "      <td>29990</td>\n",
       "      <td>Renault</td>\n",
       "      <td>Espace</td>\n",
       "      <td>17025</td>\n",
       "      <td>2017</td>\n",
       "      <td>2</td>\n",
       "      <td>NaN</td>\n",
       "    </tr>\n",
       "    <tr>\n",
       "      <th>15438</th>\n",
       "      <td>32990</td>\n",
       "      <td>Renault</td>\n",
       "      <td>Espace</td>\n",
       "      <td>13495</td>\n",
       "      <td>2018</td>\n",
       "      <td>1</td>\n",
       "      <td>NaN</td>\n",
       "    </tr>\n",
       "    <tr>\n",
       "      <th>15439</th>\n",
       "      <td>32990</td>\n",
       "      <td>Renault</td>\n",
       "      <td>Espace</td>\n",
       "      <td>16571</td>\n",
       "      <td>2018</td>\n",
       "      <td>1</td>\n",
       "      <td>NaN</td>\n",
       "    </tr>\n",
       "    <tr>\n",
       "      <th>15461</th>\n",
       "      <td>32990</td>\n",
       "      <td>Renault</td>\n",
       "      <td>Espace</td>\n",
       "      <td>19000</td>\n",
       "      <td>2018</td>\n",
       "      <td>1</td>\n",
       "      <td>NaN</td>\n",
       "    </tr>\n",
       "    <tr>\n",
       "      <th>15462</th>\n",
       "      <td>32990</td>\n",
       "      <td>Renault</td>\n",
       "      <td>Espace</td>\n",
       "      <td>25102</td>\n",
       "      <td>2017</td>\n",
       "      <td>2</td>\n",
       "      <td>NaN</td>\n",
       "    </tr>\n",
       "    <tr>\n",
       "      <th>15468</th>\n",
       "      <td>32900</td>\n",
       "      <td>Renault</td>\n",
       "      <td>Espace</td>\n",
       "      <td>15824</td>\n",
       "      <td>2018</td>\n",
       "      <td>1</td>\n",
       "      <td>NaN</td>\n",
       "    </tr>\n",
       "    <tr>\n",
       "      <th>15472</th>\n",
       "      <td>32935</td>\n",
       "      <td>Renault</td>\n",
       "      <td>Espace</td>\n",
       "      <td>9350</td>\n",
       "      <td>2018</td>\n",
       "      <td>1</td>\n",
       "      <td>NaN</td>\n",
       "    </tr>\n",
       "    <tr>\n",
       "      <th>15496</th>\n",
       "      <td>32310</td>\n",
       "      <td>Renault</td>\n",
       "      <td>Espace</td>\n",
       "      <td>16660</td>\n",
       "      <td>2018</td>\n",
       "      <td>1</td>\n",
       "      <td>NaN</td>\n",
       "    </tr>\n",
       "    <tr>\n",
       "      <th>15546</th>\n",
       "      <td>30900</td>\n",
       "      <td>Renault</td>\n",
       "      <td>Espace</td>\n",
       "      <td>850</td>\n",
       "      <td>2018</td>\n",
       "      <td>1</td>\n",
       "      <td>NaN</td>\n",
       "    </tr>\n",
       "    <tr>\n",
       "      <th>15562</th>\n",
       "      <td>29990</td>\n",
       "      <td>Renault</td>\n",
       "      <td>Espace</td>\n",
       "      <td>21709</td>\n",
       "      <td>2017</td>\n",
       "      <td>2</td>\n",
       "      <td>NaN</td>\n",
       "    </tr>\n",
       "    <tr>\n",
       "      <th>15623</th>\n",
       "      <td>28500</td>\n",
       "      <td>Renault</td>\n",
       "      <td>Espace</td>\n",
       "      <td>22801</td>\n",
       "      <td>2017</td>\n",
       "      <td>2</td>\n",
       "      <td>NaN</td>\n",
       "    </tr>\n",
       "    <tr>\n",
       "      <th>15641</th>\n",
       "      <td>29300</td>\n",
       "      <td>Renault</td>\n",
       "      <td>Espace</td>\n",
       "      <td>56585</td>\n",
       "      <td>2017</td>\n",
       "      <td>2</td>\n",
       "      <td>NaN</td>\n",
       "    </tr>\n",
       "    <tr>\n",
       "      <th>15647</th>\n",
       "      <td>28490</td>\n",
       "      <td>Renault</td>\n",
       "      <td>Espace</td>\n",
       "      <td>51776</td>\n",
       "      <td>2017</td>\n",
       "      <td>2</td>\n",
       "      <td>NaN</td>\n",
       "    </tr>\n",
       "    <tr>\n",
       "      <th>15684</th>\n",
       "      <td>38900</td>\n",
       "      <td>Renault</td>\n",
       "      <td>Espace</td>\n",
       "      <td>3000</td>\n",
       "      <td>2019</td>\n",
       "      <td>0</td>\n",
       "      <td>NaN</td>\n",
       "    </tr>\n",
       "    <tr>\n",
       "      <th>15791</th>\n",
       "      <td>33990</td>\n",
       "      <td>Renault</td>\n",
       "      <td>Espace</td>\n",
       "      <td>10803</td>\n",
       "      <td>2018</td>\n",
       "      <td>1</td>\n",
       "      <td>NaN</td>\n",
       "    </tr>\n",
       "    <tr>\n",
       "      <th>15906</th>\n",
       "      <td>39990</td>\n",
       "      <td>Renault</td>\n",
       "      <td>Espace</td>\n",
       "      <td>10</td>\n",
       "      <td>2019</td>\n",
       "      <td>0</td>\n",
       "      <td>NaN</td>\n",
       "    </tr>\n",
       "  </tbody>\n",
       "</table>\n",
       "</div>"
      ],
      "text/plain": [
       "       price     make     model  mileage  first_registration  age  power\n",
       "1269   15500     Audi        A1    11284                2018    1    NaN\n",
       "2500   22750     Audi        A1       10                2019    0    NaN\n",
       "3913   20440     Audi        A3    24000                2017    2    NaN\n",
       "4259   18700     Audi        A3    16316                2018    1    NaN\n",
       "6005   11600     Opel     Astra    73860                2017    2    NaN\n",
       "6034   11600     Opel     Astra    76010                2017    2    NaN\n",
       "6946   11900     Opel     Astra    70090                2017    2    NaN\n",
       "7014   11700     Opel     Astra    79993                2017    2    NaN\n",
       "7016   11700     Opel     Astra    62384                2017    2    NaN\n",
       "7018   11700     Opel     Astra    77272                2017    2    NaN\n",
       "7019   11700     Opel     Astra    69035                2017    2    NaN\n",
       "7177   18200     Opel     Astra     3260                2019    0    NaN\n",
       "7670   31246     Opel     Astra       10                2019    0    NaN\n",
       "8269   13400     Opel     Corsa     6109                2018    1    NaN\n",
       "8408   12435     Opel     Corsa    21050                2018    1    NaN\n",
       "8857    7650     Opel     Corsa      142                2019    0    NaN\n",
       "9285    8300     Opel     Corsa    58912                2017    2    NaN\n",
       "9287    8300     Opel     Corsa    53522                2017    2    NaN\n",
       "9288    8300     Opel     Corsa    60386                2017    2    NaN\n",
       "9289    8300     Opel     Corsa    59217                2017    2    NaN\n",
       "9290    8300     Opel     Corsa    51318                2017    2    NaN\n",
       "9292    8300     Opel     Corsa    53390                2017    2    NaN\n",
       "9299    8300     Opel     Corsa    47140                2017    2    NaN\n",
       "10167  10350     Opel     Corsa        0                2019    0    NaN\n",
       "10468  15300     Opel  Insignia    77125                2017    2    NaN\n",
       "10579  16400     Opel  Insignia    78762                2017    2    NaN\n",
       "10580  16400     Opel  Insignia    68525                2017    2    NaN\n",
       "10586  15990     Opel  Insignia    81920                2017    2    NaN\n",
       "10610  15300     Opel  Insignia    62800                2017    2    NaN\n",
       "10909  14490     Opel  Insignia    96124                2016    3    NaN\n",
       "10910  14490     Opel  Insignia    96124                2016    3    NaN\n",
       "11012  13490     Opel  Insignia    73295                2016    3    NaN\n",
       "11013  13490     Opel  Insignia    73295                2016    3    NaN\n",
       "11163  10600     Opel  Insignia   107000                2017    2    NaN\n",
       "11183  14990     Opel  Insignia    72728                2017    2    NaN\n",
       "11237  14990     Opel  Insignia    72728                2017    2    NaN\n",
       "12450  38900     Opel  Insignia    11000                2019    0    NaN\n",
       "12767  39450     Opel  Insignia       10                2019    0    NaN\n",
       "13144  14990  Renault      Clio    20261                2016    3    NaN\n",
       "13158  14950  Renault      Clio    42999                2016    3    NaN\n",
       "13198  15290  Renault      Clio    13520                2017    2    NaN\n",
       "13271  14290  Renault      Clio    37065                2016    3    NaN\n",
       "13397   8490  Renault      Clio    23863                2016    3    NaN\n",
       "13422   7490  Renault      Clio    56485                2017    2    NaN\n",
       "13471   8490  Renault      Clio    41820                2017    2    NaN\n",
       "13474   8490  Renault      Clio    38733                2017    2    NaN\n",
       "13476   8490  Renault      Clio    23110                2017    2    NaN\n",
       "13481   8490  Renault      Clio    69315                2017    2    NaN\n",
       "13488   8490  Renault      Clio    56118                2017    2    NaN\n",
       "13566   7990  Renault      Clio    58356                2016    3    NaN\n",
       "13570   7990  Renault      Clio    38329                2016    3    NaN\n",
       "13572   7990  Renault      Clio    60632                2017    2    NaN\n",
       "13633   7900  Renault      Clio    29671                2016    3    NaN\n",
       "13646   6990  Renault      Clio    89263                2016    3    NaN\n",
       "13647   6990  Renault      Clio    87816                2016    3    NaN\n",
       "13648   6990  Renault      Clio    75954                2016    3    NaN\n",
       "13649   6990  Renault      Clio    92130                2016    3    NaN\n",
       "13726   7490  Renault      Clio    59535                2016    3    NaN\n",
       "13729   7490  Renault      Clio    46398                2016    3    NaN\n",
       "13733   7490  Renault      Clio    48404                2016    3    NaN\n",
       "13742   6900  Renault      Clio    82494                2016    3    NaN\n",
       "13759   5890  Renault      Clio   134500                2016    3    NaN\n",
       "13864  16990  Renault      Clio       10                2019    0    NaN\n",
       "13885   8990  Renault      Clio     9751                2017    2    NaN\n",
       "13951   8990  Renault      Clio    28101                2017    2    NaN\n",
       "14048  16390  Renault      Clio       10                2019    0    NaN\n",
       "14050  16490  Renault      Clio       10                2019    0    NaN\n",
       "14057  16990  Renault      Clio    22750                2017    2    NaN\n",
       "14059  16990  Renault      Clio       10                2019    0    NaN\n",
       "14894  13250  Renault    Duster        0                2019    0    NaN\n",
       "14895  16033  Renault    Duster        0                2019    0    NaN\n",
       "14896  16033  Renault    Duster      101                2019    0    NaN\n",
       "14897  16033  Renault    Duster        0                2019    0    NaN\n",
       "14898  16033  Renault    Duster      101                2019    0    NaN\n",
       "14899  13250  Renault    Duster      101                2019    0    NaN\n",
       "14900  13250  Renault    Duster        0                2019    0    NaN\n",
       "14901  13250  Renault    Duster      101                2019    0    NaN\n",
       "14942  24590  Renault    Espace    16163                2017    2    NaN\n",
       "14960  25990  Renault    Espace    15888                2017    2    NaN\n",
       "14963  25990  Renault    Espace    16613                2017    2    NaN\n",
       "15009  26990  Renault    Espace     4068                2018    1    NaN\n",
       "15044  24840  Renault    Espace    12182                2017    2    NaN\n",
       "15047  24790  Renault    Espace    15328                2017    2    NaN\n",
       "15056  24990  Renault    Espace    38002                2016    3    NaN\n",
       "15097  23290  Renault    Espace    38000                2016    3    NaN\n",
       "15112  22990  Renault    Espace    43426                2016    3    NaN\n",
       "15115  22990  Renault    Espace    22595                2017    2    NaN\n",
       "15126  24490  Renault    Espace    43747                2016    3    NaN\n",
       "15128  24490  Renault    Espace    19939                2017    2    NaN\n",
       "15129  24490  Renault    Espace    18268                2017    2    NaN\n",
       "15140  23990  Renault    Espace    47823                2016    3    NaN\n",
       "15142  23990  Renault    Espace    27377                2016    3    NaN\n",
       "15155  23800  Renault    Espace    56340                2017    2    NaN\n",
       "15156  23800  Renault    Espace    69600                2017    2    NaN\n",
       "15261  17990  Renault    Espace    83425                2016    3    NaN\n",
       "15303  32900  Renault    Espace    19600                2016    3    NaN\n",
       "15347  27900  Renault    Espace    13002                2017    2    NaN\n",
       "15435  29990  Renault    Espace    17025                2017    2    NaN\n",
       "15438  32990  Renault    Espace    13495                2018    1    NaN\n",
       "15439  32990  Renault    Espace    16571                2018    1    NaN\n",
       "15461  32990  Renault    Espace    19000                2018    1    NaN\n",
       "15462  32990  Renault    Espace    25102                2017    2    NaN\n",
       "15468  32900  Renault    Espace    15824                2018    1    NaN\n",
       "15472  32935  Renault    Espace     9350                2018    1    NaN\n",
       "15496  32310  Renault    Espace    16660                2018    1    NaN\n",
       "15546  30900  Renault    Espace      850                2018    1    NaN\n",
       "15562  29990  Renault    Espace    21709                2017    2    NaN\n",
       "15623  28500  Renault    Espace    22801                2017    2    NaN\n",
       "15641  29300  Renault    Espace    56585                2017    2    NaN\n",
       "15647  28490  Renault    Espace    51776                2017    2    NaN\n",
       "15684  38900  Renault    Espace     3000                2019    0    NaN\n",
       "15791  33990  Renault    Espace    10803                2018    1    NaN\n",
       "15906  39990  Renault    Espace       10                2019    0    NaN"
      ]
     },
     "execution_count": 82,
     "metadata": {},
     "output_type": "execute_result"
    }
   ],
   "source": [
    "cond = -(data[\"power\"] > 50)\n",
    "data[cond].sort_values(by=\"power\")"
   ]
  },
  {
   "cell_type": "code",
   "execution_count": 83,
   "metadata": {},
   "outputs": [],
   "source": [
    "data['power'] = data['power'].fillna(data.groupby('model')['power'].transform('mean'))"
   ]
  },
  {
   "cell_type": "code",
   "execution_count": 84,
   "metadata": {},
   "outputs": [],
   "source": [
    "data[\"power\"] = data[\"power\"].astype(int)"
   ]
  },
  {
   "cell_type": "code",
   "execution_count": 85,
   "metadata": {},
   "outputs": [
    {
     "data": {
      "text/plain": [
       "0"
      ]
     },
     "execution_count": 85,
     "metadata": {},
     "output_type": "execute_result"
    }
   ],
   "source": [
    "data[\"power\"].isnull().sum()"
   ]
  },
  {
   "cell_type": "markdown",
   "metadata": {},
   "source": [
    "In [50]: def f(x):    \n",
    "   ....:  return x[0] + x[1] \n",
    "\n",
    "df['col_3'] = df.apply(lambda x: f(x.col_1, x.col_2), axis=1)\n",
    "\n"
   ]
  },
  {
   "cell_type": "code",
   "execution_count": 86,
   "metadata": {},
   "outputs": [
    {
     "data": {
      "text/html": [
       "<div>\n",
       "<style scoped>\n",
       "    .dataframe tbody tr th:only-of-type {\n",
       "        vertical-align: middle;\n",
       "    }\n",
       "\n",
       "    .dataframe tbody tr th {\n",
       "        vertical-align: top;\n",
       "    }\n",
       "\n",
       "    .dataframe thead th {\n",
       "        text-align: right;\n",
       "    }\n",
       "</style>\n",
       "<table border=\"1\" class=\"dataframe\">\n",
       "  <thead>\n",
       "    <tr style=\"text-align: right;\">\n",
       "      <th></th>\n",
       "      <th>price</th>\n",
       "      <th>make</th>\n",
       "      <th>model</th>\n",
       "      <th>mileage</th>\n",
       "      <th>first_registration</th>\n",
       "      <th>age</th>\n",
       "      <th>power</th>\n",
       "    </tr>\n",
       "  </thead>\n",
       "  <tbody>\n",
       "    <tr>\n",
       "      <th>0</th>\n",
       "      <td>15770</td>\n",
       "      <td>Audi</td>\n",
       "      <td>A1</td>\n",
       "      <td>56013</td>\n",
       "      <td>2016</td>\n",
       "      <td>3</td>\n",
       "      <td>66</td>\n",
       "    </tr>\n",
       "    <tr>\n",
       "      <th>1</th>\n",
       "      <td>14500</td>\n",
       "      <td>Audi</td>\n",
       "      <td>A1</td>\n",
       "      <td>80000</td>\n",
       "      <td>2017</td>\n",
       "      <td>2</td>\n",
       "      <td>141</td>\n",
       "    </tr>\n",
       "    <tr>\n",
       "      <th>2</th>\n",
       "      <td>14640</td>\n",
       "      <td>Audi</td>\n",
       "      <td>A1</td>\n",
       "      <td>83450</td>\n",
       "      <td>2016</td>\n",
       "      <td>3</td>\n",
       "      <td>85</td>\n",
       "    </tr>\n",
       "    <tr>\n",
       "      <th>3</th>\n",
       "      <td>14500</td>\n",
       "      <td>Audi</td>\n",
       "      <td>A1</td>\n",
       "      <td>73000</td>\n",
       "      <td>2016</td>\n",
       "      <td>3</td>\n",
       "      <td>66</td>\n",
       "    </tr>\n",
       "    <tr>\n",
       "      <th>4</th>\n",
       "      <td>16790</td>\n",
       "      <td>Audi</td>\n",
       "      <td>A1</td>\n",
       "      <td>16200</td>\n",
       "      <td>2016</td>\n",
       "      <td>3</td>\n",
       "      <td>66</td>\n",
       "    </tr>\n",
       "  </tbody>\n",
       "</table>\n",
       "</div>"
      ],
      "text/plain": [
       "   price  make model  mileage  first_registration  age  power\n",
       "0  15770  Audi    A1    56013                2016    3     66\n",
       "1  14500  Audi    A1    80000                2017    2    141\n",
       "2  14640  Audi    A1    83450                2016    3     85\n",
       "3  14500  Audi    A1    73000                2016    3     66\n",
       "4  16790  Audi    A1    16200                2016    3     66"
      ]
     },
     "execution_count": 86,
     "metadata": {},
     "output_type": "execute_result"
    }
   ],
   "source": [
    "data.head()"
   ]
  },
  {
   "cell_type": "code",
   "execution_count": 87,
   "metadata": {},
   "outputs": [
    {
     "data": {
      "text/html": [
       "<div>\n",
       "<style scoped>\n",
       "    .dataframe tbody tr th:only-of-type {\n",
       "        vertical-align: middle;\n",
       "    }\n",
       "\n",
       "    .dataframe tbody tr th {\n",
       "        vertical-align: top;\n",
       "    }\n",
       "\n",
       "    .dataframe thead th {\n",
       "        text-align: right;\n",
       "    }\n",
       "</style>\n",
       "<table border=\"1\" class=\"dataframe\">\n",
       "  <thead>\n",
       "    <tr style=\"text-align: right;\">\n",
       "      <th></th>\n",
       "      <th>price</th>\n",
       "      <th>mileage</th>\n",
       "      <th>first_registration</th>\n",
       "      <th>age</th>\n",
       "      <th>power</th>\n",
       "    </tr>\n",
       "  </thead>\n",
       "  <tbody>\n",
       "    <tr>\n",
       "      <th>count</th>\n",
       "      <td>15918.000000</td>\n",
       "      <td>15918.000000</td>\n",
       "      <td>15918.000000</td>\n",
       "      <td>15918.000000</td>\n",
       "      <td>15918.000000</td>\n",
       "    </tr>\n",
       "    <tr>\n",
       "      <th>mean</th>\n",
       "      <td>18019.257193</td>\n",
       "      <td>31935.047619</td>\n",
       "      <td>2017.611195</td>\n",
       "      <td>1.388805</td>\n",
       "      <td>88.555095</td>\n",
       "    </tr>\n",
       "    <tr>\n",
       "      <th>std</th>\n",
       "      <td>7385.960648</td>\n",
       "      <td>37090.278586</td>\n",
       "      <td>1.121525</td>\n",
       "      <td>1.121525</td>\n",
       "      <td>26.665229</td>\n",
       "    </tr>\n",
       "    <tr>\n",
       "      <th>min</th>\n",
       "      <td>13.000000</td>\n",
       "      <td>0.000000</td>\n",
       "      <td>2016.000000</td>\n",
       "      <td>0.000000</td>\n",
       "      <td>51.000000</td>\n",
       "    </tr>\n",
       "    <tr>\n",
       "      <th>25%</th>\n",
       "      <td>12850.000000</td>\n",
       "      <td>1553.750000</td>\n",
       "      <td>2017.000000</td>\n",
       "      <td>0.000000</td>\n",
       "      <td>66.000000</td>\n",
       "    </tr>\n",
       "    <tr>\n",
       "      <th>50%</th>\n",
       "      <td>16900.000000</td>\n",
       "      <td>20397.000000</td>\n",
       "      <td>2018.000000</td>\n",
       "      <td>1.000000</td>\n",
       "      <td>85.000000</td>\n",
       "    </tr>\n",
       "    <tr>\n",
       "      <th>75%</th>\n",
       "      <td>21900.000000</td>\n",
       "      <td>46899.250000</td>\n",
       "      <td>2019.000000</td>\n",
       "      <td>2.000000</td>\n",
       "      <td>103.000000</td>\n",
       "    </tr>\n",
       "    <tr>\n",
       "      <th>max</th>\n",
       "      <td>74600.000000</td>\n",
       "      <td>317000.000000</td>\n",
       "      <td>2019.000000</td>\n",
       "      <td>3.000000</td>\n",
       "      <td>294.000000</td>\n",
       "    </tr>\n",
       "  </tbody>\n",
       "</table>\n",
       "</div>"
      ],
      "text/plain": [
       "              price        mileage  first_registration           age  \\\n",
       "count  15918.000000   15918.000000        15918.000000  15918.000000   \n",
       "mean   18019.257193   31935.047619         2017.611195      1.388805   \n",
       "std     7385.960648   37090.278586            1.121525      1.121525   \n",
       "min       13.000000       0.000000         2016.000000      0.000000   \n",
       "25%    12850.000000    1553.750000         2017.000000      0.000000   \n",
       "50%    16900.000000   20397.000000         2018.000000      1.000000   \n",
       "75%    21900.000000   46899.250000         2019.000000      2.000000   \n",
       "max    74600.000000  317000.000000         2019.000000      3.000000   \n",
       "\n",
       "              power  \n",
       "count  15918.000000  \n",
       "mean      88.555095  \n",
       "std       26.665229  \n",
       "min       51.000000  \n",
       "25%       66.000000  \n",
       "50%       85.000000  \n",
       "75%      103.000000  \n",
       "max      294.000000  "
      ]
     },
     "execution_count": 87,
     "metadata": {},
     "output_type": "execute_result"
    }
   ],
   "source": [
    "data.describe()"
   ]
  },
  {
   "cell_type": "code",
   "execution_count": 88,
   "metadata": {},
   "outputs": [
    {
     "data": {
      "image/png": "[encoded data removed]",
      "text/plain": [
       "<Figure size 432x288 with 1 Axes>"
      ]
     },
     "metadata": {
      "needs_background": "light"
     },
     "output_type": "display_data"
    }
   ],
   "source": [
    "sns.scatterplot(x=\"power\", y=\"price\", data=data);"
   ]
  },
  {
   "cell_type": "markdown",
   "metadata": {},
   "source": [
    "#### Handling the independent variables *prev_owner* and *Previous Owners*"
   ]
  },
  {
   "cell_type": "code",
   "execution_count": 89,
   "metadata": {},
   "outputs": [],
   "source": [
    "temp = raw_df[\"Previous Owners\"].copy()"
   ]
  },
  {
   "cell_type": "code",
   "execution_count": 90,
   "metadata": {},
   "outputs": [
    {
     "data": {
      "text/plain": [
       "15914                                                  NaN\n",
       "15915    [\\n1\\n, \\n, 7.4 l/100 km (comb), \\n, 9.2 l/100...\n",
       "15916                     [\\n1\\n, \\n139 g CO2/km (comb)\\n]\n",
       "15917                                                  NaN\n",
       "15918                                                \\n1\\n\n",
       "Name: Previous Owners, dtype: object"
      ]
     },
     "execution_count": 90,
     "metadata": {},
     "output_type": "execute_result"
    }
   ],
   "source": [
    "temp.tail()"
   ]
  },
  {
   "cell_type": "code",
   "execution_count": 91,
   "metadata": {},
   "outputs": [
    {
     "data": {
      "text/plain": [
       "6640"
      ]
     },
     "execution_count": 91,
     "metadata": {},
     "output_type": "execute_result"
    }
   ],
   "source": [
    "temp.isnull().sum()"
   ]
  },
  {
   "cell_type": "code",
   "execution_count": 92,
   "metadata": {},
   "outputs": [],
   "source": [
    "temp = [item[0] if type(item) == list else item for item in temp]"
   ]
  },
  {
   "cell_type": "code",
   "execution_count": 93,
   "metadata": {},
   "outputs": [
    {
     "data": {
      "text/plain": [
       "['\\n2\\n', nan, '\\n1\\n', '\\n1\\n', '\\n1\\n']"
      ]
     },
     "execution_count": 93,
     "metadata": {},
     "output_type": "execute_result"
    }
   ],
   "source": [
    "temp[0:5]"
   ]
  },
  {
   "cell_type": "code",
   "execution_count": 94,
   "metadata": {},
   "outputs": [
    {
     "data": {
      "text/plain": [
       "[nan, '\\n1\\n', '\\n1\\n', nan, '\\n1\\n']"
      ]
     },
     "execution_count": 94,
     "metadata": {},
     "output_type": "execute_result"
    }
   ],
   "source": [
    "temp[-5:]"
   ]
  },
  {
   "cell_type": "code",
   "execution_count": 95,
   "metadata": {},
   "outputs": [],
   "source": [
    "temp = [int(item.strip(\"\\n\")) if isinstance(item, str) else item for item in temp]"
   ]
  },
  {
   "cell_type": "code",
   "execution_count": 96,
   "metadata": {},
   "outputs": [],
   "source": [
    "#temp = [item[0] if type(item) == list else item for item in temp]"
   ]
  },
  {
   "cell_type": "code",
   "execution_count": 97,
   "metadata": {},
   "outputs": [
    {
     "data": {
      "text/plain": [
       "[2, nan, 1, 1, 1, 1, 1, 1, 1, nan]"
      ]
     },
     "execution_count": 97,
     "metadata": {},
     "output_type": "execute_result"
    }
   ],
   "source": [
    "temp[0:10]"
   ]
  },
  {
   "cell_type": "code",
   "execution_count": 98,
   "metadata": {},
   "outputs": [
    {
     "data": {
      "text/plain": [
       "[nan, 1, 1, nan, nan, nan, 1, 1, nan, 1]"
      ]
     },
     "execution_count": 98,
     "metadata": {},
     "output_type": "execute_result"
    }
   ],
   "source": [
    "temp[-10:]"
   ]
  },
  {
   "cell_type": "code",
   "execution_count": 99,
   "metadata": {},
   "outputs": [],
   "source": [
    "data[\"prev_owner\"] = temp"
   ]
  },
  {
   "cell_type": "code",
   "execution_count": 100,
   "metadata": {},
   "outputs": [
    {
     "data": {
      "text/plain": [
       "first_registration\n",
       "2016    1.167621\n",
       "2017    1.151905\n",
       "2018    1.021974\n",
       "2019    0.912599\n",
       "Name: prev_owner, dtype: float64"
      ]
     },
     "execution_count": 100,
     "metadata": {},
     "output_type": "execute_result"
    }
   ],
   "source": [
    "data[~data[\"prev_owner\"].isnull()].groupby(\"first_registration\")[\"prev_owner\"].mean()"
   ]
  },
  {
   "cell_type": "code",
   "execution_count": 101,
   "metadata": {},
   "outputs": [],
   "source": [
    "data.loc[(data[\"prev_owner\"].isnull()) & (data[\"first_registration\"] == 2019), \"prev_owner\"] = 0\n",
    "data.loc[(data[\"prev_owner\"].isnull()) & (data[\"first_registration\"] < 2019), \"prev_owner\"] = 1"
   ]
  },
  {
   "cell_type": "code",
   "execution_count": 102,
   "metadata": {},
   "outputs": [],
   "source": [
    "data[\"prev_owner\"] = data[\"prev_owner\"].astype(int)"
   ]
  },
  {
   "cell_type": "code",
   "execution_count": 103,
   "metadata": {},
   "outputs": [
    {
     "data": {
      "text/plain": [
       "(15918, 8)"
      ]
     },
     "execution_count": 103,
     "metadata": {},
     "output_type": "execute_result"
    }
   ],
   "source": [
    "data.shape"
   ]
  },
  {
   "cell_type": "code",
   "execution_count": 104,
   "metadata": {},
   "outputs": [
    {
     "data": {
      "text/html": [
       "<div>\n",
       "<style scoped>\n",
       "    .dataframe tbody tr th:only-of-type {\n",
       "        vertical-align: middle;\n",
       "    }\n",
       "\n",
       "    .dataframe tbody tr th {\n",
       "        vertical-align: top;\n",
       "    }\n",
       "\n",
       "    .dataframe thead th {\n",
       "        text-align: right;\n",
       "    }\n",
       "</style>\n",
       "<table border=\"1\" class=\"dataframe\">\n",
       "  <thead>\n",
       "    <tr style=\"text-align: right;\">\n",
       "      <th></th>\n",
       "      <th>price</th>\n",
       "      <th>mileage</th>\n",
       "      <th>first_registration</th>\n",
       "      <th>age</th>\n",
       "      <th>power</th>\n",
       "      <th>prev_owner</th>\n",
       "    </tr>\n",
       "  </thead>\n",
       "  <tbody>\n",
       "    <tr>\n",
       "      <th>count</th>\n",
       "      <td>15918.000000</td>\n",
       "      <td>15918.000000</td>\n",
       "      <td>15918.000000</td>\n",
       "      <td>15918.000000</td>\n",
       "      <td>15918.000000</td>\n",
       "      <td>15918.000000</td>\n",
       "    </tr>\n",
       "    <tr>\n",
       "      <th>mean</th>\n",
       "      <td>18019.257193</td>\n",
       "      <td>31935.047619</td>\n",
       "      <td>2017.611195</td>\n",
       "      <td>1.388805</td>\n",
       "      <td>88.555095</td>\n",
       "      <td>0.871278</td>\n",
       "    </tr>\n",
       "    <tr>\n",
       "      <th>std</th>\n",
       "      <td>7385.960648</td>\n",
       "      <td>37090.278586</td>\n",
       "      <td>1.121525</td>\n",
       "      <td>1.121525</td>\n",
       "      <td>26.665229</td>\n",
       "      <td>0.466726</td>\n",
       "    </tr>\n",
       "    <tr>\n",
       "      <th>min</th>\n",
       "      <td>13.000000</td>\n",
       "      <td>0.000000</td>\n",
       "      <td>2016.000000</td>\n",
       "      <td>0.000000</td>\n",
       "      <td>51.000000</td>\n",
       "      <td>0.000000</td>\n",
       "    </tr>\n",
       "    <tr>\n",
       "      <th>25%</th>\n",
       "      <td>12850.000000</td>\n",
       "      <td>1553.750000</td>\n",
       "      <td>2017.000000</td>\n",
       "      <td>0.000000</td>\n",
       "      <td>66.000000</td>\n",
       "      <td>1.000000</td>\n",
       "    </tr>\n",
       "    <tr>\n",
       "      <th>50%</th>\n",
       "      <td>16900.000000</td>\n",
       "      <td>20397.000000</td>\n",
       "      <td>2018.000000</td>\n",
       "      <td>1.000000</td>\n",
       "      <td>85.000000</td>\n",
       "      <td>1.000000</td>\n",
       "    </tr>\n",
       "    <tr>\n",
       "      <th>75%</th>\n",
       "      <td>21900.000000</td>\n",
       "      <td>46899.250000</td>\n",
       "      <td>2019.000000</td>\n",
       "      <td>2.000000</td>\n",
       "      <td>103.000000</td>\n",
       "      <td>1.000000</td>\n",
       "    </tr>\n",
       "    <tr>\n",
       "      <th>max</th>\n",
       "      <td>74600.000000</td>\n",
       "      <td>317000.000000</td>\n",
       "      <td>2019.000000</td>\n",
       "      <td>3.000000</td>\n",
       "      <td>294.000000</td>\n",
       "      <td>4.000000</td>\n",
       "    </tr>\n",
       "  </tbody>\n",
       "</table>\n",
       "</div>"
      ],
      "text/plain": [
       "              price        mileage  first_registration           age  \\\n",
       "count  15918.000000   15918.000000        15918.000000  15918.000000   \n",
       "mean   18019.257193   31935.047619         2017.611195      1.388805   \n",
       "std     7385.960648   37090.278586            1.121525      1.121525   \n",
       "min       13.000000       0.000000         2016.000000      0.000000   \n",
       "25%    12850.000000    1553.750000         2017.000000      0.000000   \n",
       "50%    16900.000000   20397.000000         2018.000000      1.000000   \n",
       "75%    21900.000000   46899.250000         2019.000000      2.000000   \n",
       "max    74600.000000  317000.000000         2019.000000      3.000000   \n",
       "\n",
       "              power    prev_owner  \n",
       "count  15918.000000  15918.000000  \n",
       "mean      88.555095      0.871278  \n",
       "std       26.665229      0.466726  \n",
       "min       51.000000      0.000000  \n",
       "25%       66.000000      1.000000  \n",
       "50%       85.000000      1.000000  \n",
       "75%      103.000000      1.000000  \n",
       "max      294.000000      4.000000  "
      ]
     },
     "execution_count": 104,
     "metadata": {},
     "output_type": "execute_result"
    }
   ],
   "source": [
    "data.describe()"
   ]
  },
  {
   "cell_type": "code",
   "execution_count": 105,
   "metadata": {},
   "outputs": [
    {
     "data": {
      "image/png": "[encoded data removed]",
      "text/plain": [
       "<Figure size 432x288 with 1 Axes>"
      ]
     },
     "metadata": {
      "needs_background": "light"
     },
     "output_type": "display_data"
    }
   ],
   "source": [
    "sns.barplot(x=\"prev_owner\", y=\"price\", data=data);"
   ]
  },
  {
   "cell_type": "markdown",
   "metadata": {},
   "source": [
    "With non NaN values of previous owner, we created a predictive model and compared with the model without previous owner feature. We have seen that the previous owner feature is not contributing to the model performance so there is no reason to try imputing more than 6000 missing values. Infact, imputing it and using in the predictive model resulted no better model where the feature importance of previous owner is lower than the case without impute. We should not forget that we are usually making up values by imputing unless there is a clear direction for such an imputation."
   ]
  },
  {
   "cell_type": "markdown",
   "metadata": {},
   "source": [
    "#### Handling the independent variables *vat*"
   ]
  },
  {
   "cell_type": "code",
   "execution_count": 106,
   "metadata": {},
   "outputs": [],
   "source": [
    "temp = raw_df[\"vat\"].copy()"
   ]
  },
  {
   "cell_type": "code",
   "execution_count": 107,
   "metadata": {},
   "outputs": [
    {
     "data": {
      "text/plain": [
       "VAT deductible      10979\n",
       "Price negotiable      426\n",
       "Name: vat, dtype: int64"
      ]
     },
     "execution_count": 107,
     "metadata": {},
     "output_type": "execute_result"
    }
   ],
   "source": [
    "temp.value_counts()"
   ]
  },
  {
   "cell_type": "code",
   "execution_count": 108,
   "metadata": {},
   "outputs": [
    {
     "data": {
      "text/plain": [
       "4513"
      ]
     },
     "execution_count": 108,
     "metadata": {},
     "output_type": "execute_result"
    }
   ],
   "source": [
    "temp.isnull().sum()"
   ]
  },
  {
   "cell_type": "code",
   "execution_count": 109,
   "metadata": {},
   "outputs": [],
   "source": [
    "data[\"vat\"] = temp"
   ]
  },
  {
   "cell_type": "code",
   "execution_count": 110,
   "metadata": {},
   "outputs": [
    {
     "data": {
      "text/plain": [
       "vat               model   \n",
       "Price negotiable  A1          16276.432099\n",
       "                  A3          20653.069307\n",
       "                  Astra       12610.644444\n",
       "                  Clio        11857.810811\n",
       "                  Corsa        9351.853659\n",
       "                  Espace      24959.647059\n",
       "                  Insignia    15520.500000\n",
       "VAT deductible    A1          19630.430101\n",
       "                  A3          21218.886827\n",
       "                  Astra       16515.375821\n",
       "                  Clio        12199.228659\n",
       "                  Corsa       11699.166148\n",
       "                  Duster      14611.000000\n",
       "                  Espace      32070.388985\n",
       "                  Insignia    22137.912626\n",
       "Name: price, dtype: float64"
      ]
     },
     "execution_count": 110,
     "metadata": {},
     "output_type": "execute_result"
    }
   ],
   "source": [
    "data.groupby([\"vat\", \"model\"])[\"price\"].mean()"
   ]
  },
  {
   "cell_type": "code",
   "execution_count": 111,
   "metadata": {},
   "outputs": [
    {
     "data": {
      "text/plain": [
       "model\n",
       "A1          17351.150198\n",
       "A3          20417.125794\n",
       "Astra       14151.263400\n",
       "Clio        11621.934699\n",
       "Corsa        9333.658494\n",
       "Duster      12002.777778\n",
       "Espace      27467.994681\n",
       "Insignia    19635.485915\n",
       "Name: price, dtype: float64"
      ]
     },
     "execution_count": 111,
     "metadata": {},
     "output_type": "execute_result"
    }
   ],
   "source": [
    "data[data.vat.isnull()].groupby([\"model\"])[\"price\"].mean()"
   ]
  },
  {
   "cell_type": "markdown",
   "metadata": {},
   "source": [
    "We decided to use a simple fillna operation with mode of the variable because the variable is not important in predicting the price hence with no critical impact."
   ]
  },
  {
   "cell_type": "code",
   "execution_count": 112,
   "metadata": {},
   "outputs": [],
   "source": [
    "data[\"vat\"].fillna(data[\"vat\"].mode()[0], inplace=True) # it will not affect the final model too much"
   ]
  },
  {
   "cell_type": "code",
   "execution_count": 113,
   "metadata": {},
   "outputs": [
    {
     "data": {
      "text/plain": [
       "VAT deductible      15492\n",
       "Price negotiable      426\n",
       "Name: vat, dtype: int64"
      ]
     },
     "execution_count": 113,
     "metadata": {},
     "output_type": "execute_result"
    }
   ],
   "source": [
    "data[\"vat\"].value_counts()"
   ]
  },
  {
   "cell_type": "code",
   "execution_count": 114,
   "metadata": {},
   "outputs": [
    {
     "data": {
      "image/png": "[encoded data removed]",
      "text/plain": [
       "<Figure size 432x288 with 1 Axes>"
      ]
     },
     "metadata": {
      "needs_background": "light"
     },
     "output_type": "display_data"
    }
   ],
   "source": [
    "sns.barplot(x=\"vat\", y=\"price\", data=data);"
   ]
  },
  {
   "cell_type": "markdown",
   "metadata": {},
   "source": [
    "#### Handling the independent variables *body_type*"
   ]
  },
  {
   "cell_type": "code",
   "execution_count": 115,
   "metadata": {},
   "outputs": [],
   "source": [
    "temp = raw_df[\"body_type\"].copy()"
   ]
  },
  {
   "cell_type": "code",
   "execution_count": 116,
   "metadata": {},
   "outputs": [
    {
     "data": {
      "text/plain": [
       "0    Sedans\n",
       "1    Sedans\n",
       "2    Sedans\n",
       "3    Sedans\n",
       "4    Sedans\n",
       "Name: body_type, dtype: object"
      ]
     },
     "execution_count": 116,
     "metadata": {},
     "output_type": "execute_result"
    }
   ],
   "source": [
    "temp.head()"
   ]
  },
  {
   "cell_type": "code",
   "execution_count": 117,
   "metadata": {},
   "outputs": [
    {
     "data": {
      "text/plain": [
       "Sedans           7903\n",
       "Station wagon    3553\n",
       "Compact          3153\n",
       "Van               783\n",
       "Other             290\n",
       "Transporter        88\n",
       "Off-Road           55\n",
       "Coupe              25\n",
       "Convertible         8\n",
       "Name: body_type, dtype: int64"
      ]
     },
     "execution_count": 117,
     "metadata": {},
     "output_type": "execute_result"
    }
   ],
   "source": [
    "temp.value_counts()"
   ]
  },
  {
   "cell_type": "code",
   "execution_count": 118,
   "metadata": {},
   "outputs": [
    {
     "data": {
      "text/plain": [
       "60"
      ]
     },
     "execution_count": 118,
     "metadata": {},
     "output_type": "execute_result"
    }
   ],
   "source": [
    "temp.isnull().sum()"
   ]
  },
  {
   "cell_type": "code",
   "execution_count": 119,
   "metadata": {},
   "outputs": [],
   "source": [
    "data[\"body_type\"] = temp"
   ]
  },
  {
   "cell_type": "code",
   "execution_count": 120,
   "metadata": {},
   "outputs": [],
   "source": [
    "data[\"body_type\"] = data['body_type'].fillna(data.groupby('model')['body_type'].transform(lambda x: x.mode().iloc[0]))"
   ]
  },
  {
   "cell_type": "code",
   "execution_count": 121,
   "metadata": {},
   "outputs": [
    {
     "data": {
      "text/plain": [
       "model\n",
       "A1                 Sedans\n",
       "A3                 Sedans\n",
       "Astra       Station wagon\n",
       "Clio               Sedans\n",
       "Corsa             Compact\n",
       "Duster           Off-Road\n",
       "Espace                Van\n",
       "Insignia    Station wagon\n",
       "Name: body_type, dtype: object"
      ]
     },
     "execution_count": 121,
     "metadata": {},
     "output_type": "execute_result"
    }
   ],
   "source": [
    "data.groupby('model')['body_type'].apply(lambda x: x.mode().iloc[0])"
   ]
  },
  {
   "cell_type": "code",
   "execution_count": 122,
   "metadata": {},
   "outputs": [
    {
     "data": {
      "text/plain": [
       "Sedans           7925\n",
       "Station wagon    3563\n",
       "Compact          3155\n",
       "Van               809\n",
       "Other             290\n",
       "Transporter        88\n",
       "Off-Road           55\n",
       "Coupe              25\n",
       "Convertible         8\n",
       "Name: body_type, dtype: int64"
      ]
     },
     "execution_count": 122,
     "metadata": {},
     "output_type": "execute_result"
    }
   ],
   "source": [
    "data[\"body_type\"].value_counts()"
   ]
  },
  {
   "cell_type": "code",
   "execution_count": 123,
   "metadata": {},
   "outputs": [
    {
     "data": {
      "text/plain": [
       "0"
      ]
     },
     "execution_count": 123,
     "metadata": {},
     "output_type": "execute_result"
    }
   ],
   "source": [
    "data[\"body_type\"].isnull().sum()"
   ]
  },
  {
   "cell_type": "code",
   "execution_count": 124,
   "metadata": {},
   "outputs": [
    {
     "data": {
      "image/png": "[encoded data removed]",
      "text/plain": [
       "<Figure size 432x288 with 1 Axes>"
      ]
     },
     "metadata": {
      "needs_background": "light"
     },
     "output_type": "display_data"
    }
   ],
   "source": [
    "sns.barplot(x=\"body_type\", y=\"price\", data=data);"
   ]
  },
  {
   "cell_type": "markdown",
   "metadata": {},
   "source": [
    "#### Handling the independent variables *Gearing type*"
   ]
  },
  {
   "cell_type": "code",
   "execution_count": 125,
   "metadata": {},
   "outputs": [],
   "source": [
    "temp = raw_df[\"Gearing Type\"].copy()"
   ]
  },
  {
   "cell_type": "code",
   "execution_count": 126,
   "metadata": {},
   "outputs": [
    {
     "data": {
      "text/plain": [
       "0    [\\n, Automatic, \\n]\n",
       "1    [\\n, Automatic, \\n]\n",
       "2    [\\n, Automatic, \\n]\n",
       "3    [\\n, Automatic, \\n]\n",
       "4    [\\n, Automatic, \\n]\n",
       "Name: Gearing Type, dtype: object"
      ]
     },
     "execution_count": 126,
     "metadata": {},
     "output_type": "execute_result"
    }
   ],
   "source": [
    "temp.head()"
   ]
  },
  {
   "cell_type": "code",
   "execution_count": 127,
   "metadata": {},
   "outputs": [
    {
     "data": {
      "text/plain": [
       "['\\n', 'Automatic', '\\n']"
      ]
     },
     "execution_count": 127,
     "metadata": {},
     "output_type": "execute_result"
    }
   ],
   "source": [
    "temp[0]"
   ]
  },
  {
   "cell_type": "code",
   "execution_count": 128,
   "metadata": {},
   "outputs": [
    {
     "data": {
      "text/plain": [
       "0"
      ]
     },
     "execution_count": 128,
     "metadata": {},
     "output_type": "execute_result"
    }
   ],
   "source": [
    "temp.isnull().sum()"
   ]
  },
  {
   "cell_type": "code",
   "execution_count": 129,
   "metadata": {},
   "outputs": [],
   "source": [
    "temp = temp.apply(lambda x: x[1])"
   ]
  },
  {
   "cell_type": "code",
   "execution_count": 130,
   "metadata": {},
   "outputs": [
    {
     "data": {
      "text/plain": [
       "Manual            8152\n",
       "Automatic         7297\n",
       "Semi-automatic     469\n",
       "Name: Gearing Type, dtype: int64"
      ]
     },
     "execution_count": 130,
     "metadata": {},
     "output_type": "execute_result"
    }
   ],
   "source": [
    "temp.value_counts()"
   ]
  },
  {
   "cell_type": "code",
   "execution_count": 131,
   "metadata": {},
   "outputs": [],
   "source": [
    "data[\"gear\"] = temp"
   ]
  },
  {
   "cell_type": "code",
   "execution_count": 132,
   "metadata": {},
   "outputs": [
    {
     "data": {
      "image/png": "[encoded data removed]",
      "text/plain": [
       "<Figure size 432x288 with 1 Axes>"
      ]
     },
     "metadata": {
      "needs_background": "light"
     },
     "output_type": "display_data"
    }
   ],
   "source": [
    "sns.barplot(x=\"gear\", y=\"price\", data=data);"
   ]
  },
  {
   "cell_type": "markdown",
   "metadata": {},
   "source": [
    "#### Handling the independent variables *Nr. of Doors*"
   ]
  },
  {
   "cell_type": "code",
   "execution_count": 133,
   "metadata": {},
   "outputs": [],
   "source": [
    "temp = raw_df[\"Nr. of Doors\"].copy()"
   ]
  },
  {
   "cell_type": "code",
   "execution_count": 134,
   "metadata": {},
   "outputs": [
    {
     "data": {
      "text/plain": [
       "0    [\\n5\\n]\n",
       "1    [\\n3\\n]\n",
       "2    [\\n4\\n]\n",
       "3    [\\n3\\n]\n",
       "4    [\\n5\\n]\n",
       "Name: Nr. of Doors, dtype: object"
      ]
     },
     "execution_count": 134,
     "metadata": {},
     "output_type": "execute_result"
    }
   ],
   "source": [
    "temp.head()"
   ]
  },
  {
   "cell_type": "code",
   "execution_count": 135,
   "metadata": {},
   "outputs": [
    {
     "data": {
      "text/plain": [
       "212"
      ]
     },
     "execution_count": 135,
     "metadata": {},
     "output_type": "execute_result"
    }
   ],
   "source": [
    "temp.isnull().sum()"
   ]
  },
  {
   "cell_type": "code",
   "execution_count": 136,
   "metadata": {},
   "outputs": [],
   "source": [
    "temp = [int(item[0].strip(\"\\n\")) if isinstance(item, list) else item for item in temp]"
   ]
  },
  {
   "cell_type": "code",
   "execution_count": 137,
   "metadata": {},
   "outputs": [],
   "source": [
    "data[\"nr_of_doors\"] = temp.copy()"
   ]
  },
  {
   "cell_type": "code",
   "execution_count": 138,
   "metadata": {},
   "outputs": [
    {
     "data": {
      "text/html": [
       "<div>\n",
       "<style scoped>\n",
       "    .dataframe tbody tr th:only-of-type {\n",
       "        vertical-align: middle;\n",
       "    }\n",
       "\n",
       "    .dataframe tbody tr th {\n",
       "        vertical-align: top;\n",
       "    }\n",
       "\n",
       "    .dataframe thead th {\n",
       "        text-align: right;\n",
       "    }\n",
       "</style>\n",
       "<table border=\"1\" class=\"dataframe\">\n",
       "  <thead>\n",
       "    <tr style=\"text-align: right;\">\n",
       "      <th></th>\n",
       "      <th>price</th>\n",
       "      <th>make</th>\n",
       "      <th>model</th>\n",
       "      <th>mileage</th>\n",
       "      <th>first_registration</th>\n",
       "      <th>age</th>\n",
       "      <th>power</th>\n",
       "      <th>prev_owner</th>\n",
       "      <th>vat</th>\n",
       "      <th>body_type</th>\n",
       "      <th>gear</th>\n",
       "      <th>nr_of_doors</th>\n",
       "    </tr>\n",
       "  </thead>\n",
       "  <tbody>\n",
       "    <tr>\n",
       "      <th>0</th>\n",
       "      <td>15770</td>\n",
       "      <td>Audi</td>\n",
       "      <td>A1</td>\n",
       "      <td>56013</td>\n",
       "      <td>2016</td>\n",
       "      <td>3</td>\n",
       "      <td>66</td>\n",
       "      <td>2</td>\n",
       "      <td>VAT deductible</td>\n",
       "      <td>Sedans</td>\n",
       "      <td>Automatic</td>\n",
       "      <td>5.0</td>\n",
       "    </tr>\n",
       "    <tr>\n",
       "      <th>1</th>\n",
       "      <td>14500</td>\n",
       "      <td>Audi</td>\n",
       "      <td>A1</td>\n",
       "      <td>80000</td>\n",
       "      <td>2017</td>\n",
       "      <td>2</td>\n",
       "      <td>141</td>\n",
       "      <td>1</td>\n",
       "      <td>Price negotiable</td>\n",
       "      <td>Sedans</td>\n",
       "      <td>Automatic</td>\n",
       "      <td>3.0</td>\n",
       "    </tr>\n",
       "    <tr>\n",
       "      <th>2</th>\n",
       "      <td>14640</td>\n",
       "      <td>Audi</td>\n",
       "      <td>A1</td>\n",
       "      <td>83450</td>\n",
       "      <td>2016</td>\n",
       "      <td>3</td>\n",
       "      <td>85</td>\n",
       "      <td>1</td>\n",
       "      <td>VAT deductible</td>\n",
       "      <td>Sedans</td>\n",
       "      <td>Automatic</td>\n",
       "      <td>4.0</td>\n",
       "    </tr>\n",
       "    <tr>\n",
       "      <th>3</th>\n",
       "      <td>14500</td>\n",
       "      <td>Audi</td>\n",
       "      <td>A1</td>\n",
       "      <td>73000</td>\n",
       "      <td>2016</td>\n",
       "      <td>3</td>\n",
       "      <td>66</td>\n",
       "      <td>1</td>\n",
       "      <td>VAT deductible</td>\n",
       "      <td>Sedans</td>\n",
       "      <td>Automatic</td>\n",
       "      <td>3.0</td>\n",
       "    </tr>\n",
       "    <tr>\n",
       "      <th>4</th>\n",
       "      <td>16790</td>\n",
       "      <td>Audi</td>\n",
       "      <td>A1</td>\n",
       "      <td>16200</td>\n",
       "      <td>2016</td>\n",
       "      <td>3</td>\n",
       "      <td>66</td>\n",
       "      <td>1</td>\n",
       "      <td>VAT deductible</td>\n",
       "      <td>Sedans</td>\n",
       "      <td>Automatic</td>\n",
       "      <td>5.0</td>\n",
       "    </tr>\n",
       "  </tbody>\n",
       "</table>\n",
       "</div>"
      ],
      "text/plain": [
       "   price  make model  mileage  first_registration  age  power  prev_owner  \\\n",
       "0  15770  Audi    A1    56013                2016    3     66           2   \n",
       "1  14500  Audi    A1    80000                2017    2    141           1   \n",
       "2  14640  Audi    A1    83450                2016    3     85           1   \n",
       "3  14500  Audi    A1    73000                2016    3     66           1   \n",
       "4  16790  Audi    A1    16200                2016    3     66           1   \n",
       "\n",
       "                vat body_type       gear  nr_of_doors  \n",
       "0    VAT deductible    Sedans  Automatic          5.0  \n",
       "1  Price negotiable    Sedans  Automatic          3.0  \n",
       "2    VAT deductible    Sedans  Automatic          4.0  \n",
       "3    VAT deductible    Sedans  Automatic          3.0  \n",
       "4    VAT deductible    Sedans  Automatic          5.0  "
      ]
     },
     "execution_count": 138,
     "metadata": {},
     "output_type": "execute_result"
    }
   ],
   "source": [
    "data.head()"
   ]
  },
  {
   "cell_type": "code",
   "execution_count": 139,
   "metadata": {},
   "outputs": [],
   "source": [
    "f = lambda x: x.mode().iloc[0]\n",
    "data[\"nr_of_doors\"] = data[\"nr_of_doors\"].fillna(data.groupby('model')[\"nr_of_doors\"].transform(f))\n",
    "#data[\"nr_of_doors\"] = data[\"nr_of_doors\"].fillna(data.groupby(['model', 'body_type'])[\"nr_of_doors\"].transform('mean'))"
   ]
  },
  {
   "cell_type": "code",
   "execution_count": 140,
   "metadata": {},
   "outputs": [
    {
     "data": {
      "text/plain": [
       "5.0    11786\n",
       "4.0     3079\n",
       "3.0      832\n",
       "2.0      219\n",
       "1.0        1\n",
       "7.0        1\n",
       "Name: nr_of_doors, dtype: int64"
      ]
     },
     "execution_count": 140,
     "metadata": {},
     "output_type": "execute_result"
    }
   ],
   "source": [
    "data[\"nr_of_doors\"].apply(np.round).value_counts()"
   ]
  },
  {
   "cell_type": "code",
   "execution_count": 141,
   "metadata": {},
   "outputs": [],
   "source": [
    "data.loc[data[\"nr_of_doors\"] == 1, \"nr_of_doors\"] = 2\n",
    "data.loc[data[\"nr_of_doors\"] == 7, \"nr_of_doors\"] = 5"
   ]
  },
  {
   "cell_type": "code",
   "execution_count": 142,
   "metadata": {},
   "outputs": [
    {
     "data": {
      "text/plain": [
       "5.0    11787\n",
       "4.0     3079\n",
       "3.0      832\n",
       "2.0      220\n",
       "Name: nr_of_doors, dtype: int64"
      ]
     },
     "execution_count": 142,
     "metadata": {},
     "output_type": "execute_result"
    }
   ],
   "source": [
    "data[\"nr_of_doors\"].value_counts()"
   ]
  },
  {
   "cell_type": "code",
   "execution_count": 143,
   "metadata": {},
   "outputs": [],
   "source": [
    "data[\"nr_of_doors\"] = data[\"nr_of_doors\"].astype(int)"
   ]
  },
  {
   "cell_type": "code",
   "execution_count": 144,
   "metadata": {},
   "outputs": [
    {
     "data": {
      "image/png": "[encoded data removed]",
      "text/plain": [
       "<Figure size 432x288 with 1 Axes>"
      ]
     },
     "metadata": {
      "needs_background": "light"
     },
     "output_type": "display_data"
    }
   ],
   "source": [
    "sns.barplot(x=\"nr_of_doors\", y=\"price\", data=data);"
   ]
  },
  {
   "cell_type": "markdown",
   "metadata": {},
   "source": [
    "#### Handling the independent variables Nr. of Seats¶"
   ]
  },
  {
   "cell_type": "code",
   "execution_count": 145,
   "metadata": {},
   "outputs": [],
   "source": [
    "temp = raw_df[\"Nr. of Seats\"].copy()"
   ]
  },
  {
   "cell_type": "code",
   "execution_count": 146,
   "metadata": {},
   "outputs": [
    {
     "data": {
      "text/plain": [
       "0    [\\n5\\n]\n",
       "1    [\\n4\\n]\n",
       "2    [\\n4\\n]\n",
       "3    [\\n4\\n]\n",
       "4    [\\n5\\n]\n",
       "Name: Nr. of Seats, dtype: object"
      ]
     },
     "execution_count": 146,
     "metadata": {},
     "output_type": "execute_result"
    }
   ],
   "source": [
    "temp.head()"
   ]
  },
  {
   "cell_type": "code",
   "execution_count": 147,
   "metadata": {},
   "outputs": [
    {
     "data": {
      "text/plain": [
       "977"
      ]
     },
     "execution_count": 147,
     "metadata": {},
     "output_type": "execute_result"
    }
   ],
   "source": [
    "temp.isnull().sum()"
   ]
  },
  {
   "cell_type": "code",
   "execution_count": 148,
   "metadata": {},
   "outputs": [],
   "source": [
    "temp = [int(item[0].strip(\"\\n\")) if isinstance(item, list) else item for item in temp]"
   ]
  },
  {
   "cell_type": "code",
   "execution_count": 149,
   "metadata": {},
   "outputs": [],
   "source": [
    "data[\"nr_of_seats\"] = temp.copy()"
   ]
  },
  {
   "cell_type": "code",
   "execution_count": 150,
   "metadata": {},
   "outputs": [
    {
     "data": {
      "text/plain": [
       "5.0    13335\n",
       "4.0     1125\n",
       "7.0      362\n",
       "2.0      116\n",
       "6.0        2\n",
       "3.0        1\n",
       "Name: nr_of_seats, dtype: int64"
      ]
     },
     "execution_count": 150,
     "metadata": {},
     "output_type": "execute_result"
    }
   ],
   "source": [
    "data[\"nr_of_seats\"].value_counts()"
   ]
  },
  {
   "cell_type": "code",
   "execution_count": 151,
   "metadata": {},
   "outputs": [],
   "source": [
    "data[\"nr_of_seats\"] = data[\"nr_of_seats\"].fillna(data.groupby('model')[\"nr_of_seats\"].transform(lambda x: x.mode().iloc[0]))"
   ]
  },
  {
   "cell_type": "code",
   "execution_count": 152,
   "metadata": {},
   "outputs": [
    {
     "data": {
      "text/plain": [
       "5.0    14312\n",
       "4.0     1125\n",
       "7.0      362\n",
       "2.0      116\n",
       "6.0        2\n",
       "3.0        1\n",
       "Name: nr_of_seats, dtype: int64"
      ]
     },
     "execution_count": 152,
     "metadata": {},
     "output_type": "execute_result"
    }
   ],
   "source": [
    "data[\"nr_of_seats\"].value_counts()"
   ]
  },
  {
   "cell_type": "code",
   "execution_count": 153,
   "metadata": {},
   "outputs": [],
   "source": [
    "data.loc[data[\"nr_of_seats\"] == 3, \"nr_of_seats\"] = 2\n",
    "data.loc[data[\"nr_of_seats\"] == 6, \"nr_of_seats\"] = 7"
   ]
  },
  {
   "cell_type": "code",
   "execution_count": 154,
   "metadata": {},
   "outputs": [
    {
     "data": {
      "text/plain": [
       "5.0    14312\n",
       "4.0     1125\n",
       "7.0      364\n",
       "2.0      117\n",
       "Name: nr_of_seats, dtype: int64"
      ]
     },
     "execution_count": 154,
     "metadata": {},
     "output_type": "execute_result"
    }
   ],
   "source": [
    "data[\"nr_of_seats\"].value_counts()"
   ]
  },
  {
   "cell_type": "code",
   "execution_count": 155,
   "metadata": {},
   "outputs": [],
   "source": [
    "data[\"nr_of_seats\"] = data[\"nr_of_seats\"].astype(int)"
   ]
  },
  {
   "cell_type": "code",
   "execution_count": 156,
   "metadata": {},
   "outputs": [
    {
     "data": {
      "image/png": "[encoded data removed]",
      "text/plain": [
       "<Figure size 432x288 with 1 Axes>"
      ]
     },
     "metadata": {
      "needs_background": "light"
     },
     "output_type": "display_data"
    }
   ],
   "source": [
    "sns.barplot(x=\"nr_of_seats\", y=\"price\", data=data);"
   ]
  },
  {
   "cell_type": "markdown",
   "metadata": {},
   "source": [
    "#### Handling the independent variables 'Cylinders'"
   ]
  },
  {
   "cell_type": "code",
   "execution_count": 157,
   "metadata": {},
   "outputs": [],
   "source": [
    "temp = raw_df[\"Cylinders\"].copy()"
   ]
  },
  {
   "cell_type": "code",
   "execution_count": 158,
   "metadata": {},
   "outputs": [
    {
     "data": {
      "text/plain": [
       "0    [\\n3\\n]\n",
       "1    [\\n4\\n]\n",
       "2        NaN\n",
       "3    [\\n3\\n]\n",
       "4    [\\n3\\n]\n",
       "Name: Cylinders, dtype: object"
      ]
     },
     "execution_count": 158,
     "metadata": {},
     "output_type": "execute_result"
    }
   ],
   "source": [
    "temp.head()"
   ]
  },
  {
   "cell_type": "code",
   "execution_count": 159,
   "metadata": {},
   "outputs": [
    {
     "data": {
      "text/plain": [
       "5679"
      ]
     },
     "execution_count": 159,
     "metadata": {},
     "output_type": "execute_result"
    }
   ],
   "source": [
    "temp.isnull().sum()"
   ]
  },
  {
   "cell_type": "code",
   "execution_count": 160,
   "metadata": {},
   "outputs": [],
   "source": [
    "temp = [int(item[0].strip(\"\\n\")) if isinstance(item, list) else item for item in temp]"
   ]
  },
  {
   "cell_type": "code",
   "execution_count": 161,
   "metadata": {},
   "outputs": [],
   "source": [
    "data[\"cylinders\"] = temp.copy()"
   ]
  },
  {
   "cell_type": "code",
   "execution_count": 162,
   "metadata": {},
   "outputs": [
    {
     "data": {
      "text/plain": [
       "4.0    8105\n",
       "NaN    5679\n",
       "3.0    2104\n",
       "5.0      22\n",
       "6.0       3\n",
       "8.0       2\n",
       "2.0       2\n",
       "1.0       1\n",
       "Name: cylinders, dtype: int64"
      ]
     },
     "execution_count": 162,
     "metadata": {},
     "output_type": "execute_result"
    }
   ],
   "source": [
    "data[\"cylinders\"].value_counts(dropna=False)"
   ]
  },
  {
   "cell_type": "code",
   "execution_count": 163,
   "metadata": {},
   "outputs": [
    {
     "data": {
      "text/html": [
       "<div>\n",
       "<style scoped>\n",
       "    .dataframe tbody tr th:only-of-type {\n",
       "        vertical-align: middle;\n",
       "    }\n",
       "\n",
       "    .dataframe tbody tr th {\n",
       "        vertical-align: top;\n",
       "    }\n",
       "\n",
       "    .dataframe thead th {\n",
       "        text-align: right;\n",
       "    }\n",
       "</style>\n",
       "<table border=\"1\" class=\"dataframe\">\n",
       "  <thead>\n",
       "    <tr style=\"text-align: right;\">\n",
       "      <th></th>\n",
       "      <th>price</th>\n",
       "      <th>make</th>\n",
       "      <th>model</th>\n",
       "      <th>mileage</th>\n",
       "      <th>first_registration</th>\n",
       "      <th>age</th>\n",
       "      <th>power</th>\n",
       "      <th>prev_owner</th>\n",
       "      <th>vat</th>\n",
       "      <th>body_type</th>\n",
       "      <th>gear</th>\n",
       "      <th>nr_of_doors</th>\n",
       "      <th>nr_of_seats</th>\n",
       "      <th>cylinders</th>\n",
       "    </tr>\n",
       "  </thead>\n",
       "  <tbody>\n",
       "    <tr>\n",
       "      <th>3587</th>\n",
       "      <td>64900</td>\n",
       "      <td>Audi</td>\n",
       "      <td>A3</td>\n",
       "      <td>35000</td>\n",
       "      <td>2018</td>\n",
       "      <td>1</td>\n",
       "      <td>294</td>\n",
       "      <td>1</td>\n",
       "      <td>VAT deductible</td>\n",
       "      <td>Sedans</td>\n",
       "      <td>Semi-automatic</td>\n",
       "      <td>5</td>\n",
       "      <td>5</td>\n",
       "      <td>5.0</td>\n",
       "    </tr>\n",
       "    <tr>\n",
       "      <th>3590</th>\n",
       "      <td>62900</td>\n",
       "      <td>Audi</td>\n",
       "      <td>A3</td>\n",
       "      <td>700</td>\n",
       "      <td>2019</td>\n",
       "      <td>0</td>\n",
       "      <td>294</td>\n",
       "      <td>0</td>\n",
       "      <td>VAT deductible</td>\n",
       "      <td>Sedans</td>\n",
       "      <td>Semi-automatic</td>\n",
       "      <td>5</td>\n",
       "      <td>5</td>\n",
       "      <td>5.0</td>\n",
       "    </tr>\n",
       "    <tr>\n",
       "      <th>3592</th>\n",
       "      <td>56900</td>\n",
       "      <td>Audi</td>\n",
       "      <td>A3</td>\n",
       "      <td>5200</td>\n",
       "      <td>2018</td>\n",
       "      <td>1</td>\n",
       "      <td>294</td>\n",
       "      <td>1</td>\n",
       "      <td>VAT deductible</td>\n",
       "      <td>Sedans</td>\n",
       "      <td>Semi-automatic</td>\n",
       "      <td>5</td>\n",
       "      <td>5</td>\n",
       "      <td>5.0</td>\n",
       "    </tr>\n",
       "    <tr>\n",
       "      <th>3593</th>\n",
       "      <td>58500</td>\n",
       "      <td>Audi</td>\n",
       "      <td>A3</td>\n",
       "      <td>10000</td>\n",
       "      <td>2018</td>\n",
       "      <td>1</td>\n",
       "      <td>294</td>\n",
       "      <td>1</td>\n",
       "      <td>VAT deductible</td>\n",
       "      <td>Sedans</td>\n",
       "      <td>Semi-automatic</td>\n",
       "      <td>5</td>\n",
       "      <td>5</td>\n",
       "      <td>5.0</td>\n",
       "    </tr>\n",
       "    <tr>\n",
       "      <th>3595</th>\n",
       "      <td>63900</td>\n",
       "      <td>Audi</td>\n",
       "      <td>A3</td>\n",
       "      <td>10</td>\n",
       "      <td>2019</td>\n",
       "      <td>0</td>\n",
       "      <td>294</td>\n",
       "      <td>1</td>\n",
       "      <td>VAT deductible</td>\n",
       "      <td>Station wagon</td>\n",
       "      <td>Semi-automatic</td>\n",
       "      <td>5</td>\n",
       "      <td>5</td>\n",
       "      <td>5.0</td>\n",
       "    </tr>\n",
       "  </tbody>\n",
       "</table>\n",
       "</div>"
      ],
      "text/plain": [
       "      price  make model  mileage  first_registration  age  power  prev_owner  \\\n",
       "3587  64900  Audi    A3    35000                2018    1    294           1   \n",
       "3590  62900  Audi    A3      700                2019    0    294           0   \n",
       "3592  56900  Audi    A3     5200                2018    1    294           1   \n",
       "3593  58500  Audi    A3    10000                2018    1    294           1   \n",
       "3595  63900  Audi    A3       10                2019    0    294           1   \n",
       "\n",
       "                 vat      body_type            gear  nr_of_doors  nr_of_seats  \\\n",
       "3587  VAT deductible         Sedans  Semi-automatic            5            5   \n",
       "3590  VAT deductible         Sedans  Semi-automatic            5            5   \n",
       "3592  VAT deductible         Sedans  Semi-automatic            5            5   \n",
       "3593  VAT deductible         Sedans  Semi-automatic            5            5   \n",
       "3595  VAT deductible  Station wagon  Semi-automatic            5            5   \n",
       "\n",
       "      cylinders  \n",
       "3587        5.0  \n",
       "3590        5.0  \n",
       "3592        5.0  \n",
       "3593        5.0  \n",
       "3595        5.0  "
      ]
     },
     "execution_count": 163,
     "metadata": {},
     "output_type": "execute_result"
    }
   ],
   "source": [
    "data[data.cylinders == 5].head()"
   ]
  },
  {
   "cell_type": "code",
   "execution_count": 164,
   "metadata": {},
   "outputs": [],
   "source": [
    "data.loc[data.cylinders < 3 , \"cylinders\"] = 3\n",
    "data.loc[data.cylinders > 5, \"cylinders\"] = 5"
   ]
  },
  {
   "cell_type": "code",
   "execution_count": 165,
   "metadata": {},
   "outputs": [
    {
     "data": {
      "text/plain": [
       "4.0    8105\n",
       "NaN    5679\n",
       "3.0    2107\n",
       "5.0      27\n",
       "Name: cylinders, dtype: int64"
      ]
     },
     "execution_count": 165,
     "metadata": {},
     "output_type": "execute_result"
    }
   ],
   "source": [
    "data[\"cylinders\"].value_counts(dropna=False)"
   ]
  },
  {
   "cell_type": "code",
   "execution_count": 166,
   "metadata": {},
   "outputs": [
    {
     "data": {
      "text/plain": [
       "price                    0\n",
       "make                     0\n",
       "model                    0\n",
       "mileage                  0\n",
       "first_registration       0\n",
       "age                      0\n",
       "power                    0\n",
       "prev_owner               0\n",
       "vat                      0\n",
       "body_type                0\n",
       "gear                     0\n",
       "nr_of_doors              0\n",
       "nr_of_seats              0\n",
       "cylinders             5679\n",
       "dtype: int64"
      ]
     },
     "execution_count": 166,
     "metadata": {},
     "output_type": "execute_result"
    }
   ],
   "source": [
    "data.isnull().sum()"
   ]
  },
  {
   "cell_type": "code",
   "execution_count": 167,
   "metadata": {},
   "outputs": [],
   "source": [
    "#f = lambda x: round(x.mean(), 0)\n",
    "\n",
    "data[\"cylinders\"] = data[\"cylinders\"].fillna(data.groupby(\"model\")[\"cylinders\"].transform(lambda x: x.mode().iloc[0]))"
   ]
  },
  {
   "cell_type": "code",
   "execution_count": 168,
   "metadata": {},
   "outputs": [
    {
     "data": {
      "text/plain": [
       "4.0    12925\n",
       "3.0     2966\n",
       "5.0       27\n",
       "Name: cylinders, dtype: int64"
      ]
     },
     "execution_count": 168,
     "metadata": {},
     "output_type": "execute_result"
    }
   ],
   "source": [
    "data[\"cylinders\"].value_counts(dropna=False)"
   ]
  },
  {
   "cell_type": "code",
   "execution_count": 169,
   "metadata": {},
   "outputs": [
    {
     "data": {
      "text/html": [
       "<div>\n",
       "<style scoped>\n",
       "    .dataframe tbody tr th:only-of-type {\n",
       "        vertical-align: middle;\n",
       "    }\n",
       "\n",
       "    .dataframe tbody tr th {\n",
       "        vertical-align: top;\n",
       "    }\n",
       "\n",
       "    .dataframe thead th {\n",
       "        text-align: right;\n",
       "    }\n",
       "</style>\n",
       "<table border=\"1\" class=\"dataframe\">\n",
       "  <thead>\n",
       "    <tr style=\"text-align: right;\">\n",
       "      <th></th>\n",
       "      <th>price</th>\n",
       "      <th>make</th>\n",
       "      <th>model</th>\n",
       "      <th>mileage</th>\n",
       "      <th>first_registration</th>\n",
       "      <th>age</th>\n",
       "      <th>power</th>\n",
       "      <th>prev_owner</th>\n",
       "      <th>vat</th>\n",
       "      <th>body_type</th>\n",
       "      <th>gear</th>\n",
       "      <th>nr_of_doors</th>\n",
       "      <th>nr_of_seats</th>\n",
       "      <th>cylinders</th>\n",
       "    </tr>\n",
       "  </thead>\n",
       "  <tbody>\n",
       "  </tbody>\n",
       "</table>\n",
       "</div>"
      ],
      "text/plain": [
       "Empty DataFrame\n",
       "Columns: [price, make, model, mileage, first_registration, age, power, prev_owner, vat, body_type, gear, nr_of_doors, nr_of_seats, cylinders]\n",
       "Index: []"
      ]
     },
     "execution_count": 169,
     "metadata": {},
     "output_type": "execute_result"
    }
   ],
   "source": [
    "data[data.cylinders.isnull()]"
   ]
  },
  {
   "cell_type": "code",
   "execution_count": null,
   "metadata": {},
   "outputs": [],
   "source": []
  },
  {
   "cell_type": "code",
   "execution_count": null,
   "metadata": {},
   "outputs": [],
   "source": []
  },
  {
   "cell_type": "markdown",
   "metadata": {},
   "source": [
    "#### Handling the independent variables 'Next Inspection', 'Inspection new'"
   ]
  },
  {
   "cell_type": "code",
   "execution_count": 170,
   "metadata": {},
   "outputs": [
    {
     "data": {
      "text/html": [
       "<div>\n",
       "<style scoped>\n",
       "    .dataframe tbody tr th:only-of-type {\n",
       "        vertical-align: middle;\n",
       "    }\n",
       "\n",
       "    .dataframe tbody tr th {\n",
       "        vertical-align: top;\n",
       "    }\n",
       "\n",
       "    .dataframe thead th {\n",
       "        text-align: right;\n",
       "    }\n",
       "</style>\n",
       "<table border=\"1\" class=\"dataframe\">\n",
       "  <thead>\n",
       "    <tr style=\"text-align: right;\">\n",
       "      <th></th>\n",
       "      <th>Next Inspection</th>\n",
       "      <th>Inspection new</th>\n",
       "    </tr>\n",
       "  </thead>\n",
       "  <tbody>\n",
       "    <tr>\n",
       "      <th>0</th>\n",
       "      <td>[\\n06/2021\\n, \\n99 g CO2/km (comb)\\n]</td>\n",
       "      <td>[\\nYes\\n, \\nEuro 6\\n]</td>\n",
       "    </tr>\n",
       "    <tr>\n",
       "      <th>1</th>\n",
       "      <td>NaN</td>\n",
       "      <td>NaN</td>\n",
       "    </tr>\n",
       "    <tr>\n",
       "      <th>2</th>\n",
       "      <td>NaN</td>\n",
       "      <td>NaN</td>\n",
       "    </tr>\n",
       "    <tr>\n",
       "      <th>3</th>\n",
       "      <td>NaN</td>\n",
       "      <td>NaN</td>\n",
       "    </tr>\n",
       "    <tr>\n",
       "      <th>4</th>\n",
       "      <td>NaN</td>\n",
       "      <td>[\\nYes\\n, \\n109 g CO2/km (comb)\\n]</td>\n",
       "    </tr>\n",
       "  </tbody>\n",
       "</table>\n",
       "</div>"
      ],
      "text/plain": [
       "                         Next Inspection                      Inspection new\n",
       "0  [\\n06/2021\\n, \\n99 g CO2/km (comb)\\n]               [\\nYes\\n, \\nEuro 6\\n]\n",
       "1                                    NaN                                 NaN\n",
       "2                                    NaN                                 NaN\n",
       "3                                    NaN                                 NaN\n",
       "4                                    NaN  [\\nYes\\n, \\n109 g CO2/km (comb)\\n]"
      ]
     },
     "execution_count": 170,
     "metadata": {},
     "output_type": "execute_result"
    }
   ],
   "source": [
    "raw_df[['Next Inspection', 'Inspection new']].head()"
   ]
  },
  {
   "cell_type": "code",
   "execution_count": 171,
   "metadata": {},
   "outputs": [
    {
     "data": {
      "text/plain": [
       "Next Inspection    12384\n",
       "Inspection new     11986\n",
       "dtype: int64"
      ]
     },
     "execution_count": 171,
     "metadata": {},
     "output_type": "execute_result"
    }
   ],
   "source": [
    "raw_df[['Next Inspection', 'Inspection new']].isnull().sum()"
   ]
  },
  {
   "cell_type": "code",
   "execution_count": 172,
   "metadata": {},
   "outputs": [],
   "source": [
    "temp = raw_df[\"Inspection new\"]"
   ]
  },
  {
   "cell_type": "code",
   "execution_count": 173,
   "metadata": {},
   "outputs": [
    {
     "data": {
      "text/plain": [
       "15914                                   NaN\n",
       "15915                                   NaN\n",
       "15916           [\\nYes\\n, \\nEuro 6d-TEMP\\n]\n",
       "15917                                   NaN\n",
       "15918    [\\nYes\\n, \\n153 g CO2/km (comb)\\n]\n",
       "Name: Inspection new, dtype: object"
      ]
     },
     "execution_count": 173,
     "metadata": {},
     "output_type": "execute_result"
    }
   ],
   "source": [
    "temp.tail()"
   ]
  },
  {
   "cell_type": "code",
   "execution_count": 174,
   "metadata": {},
   "outputs": [
    {
     "data": {
      "text/plain": [
       "11986"
      ]
     },
     "execution_count": 174,
     "metadata": {},
     "output_type": "execute_result"
    }
   ],
   "source": [
    "temp.isnull().sum()"
   ]
  },
  {
   "cell_type": "code",
   "execution_count": 175,
   "metadata": {},
   "outputs": [],
   "source": [
    "temp = [item[0].strip(\"\\n\") if isinstance(item, list) else item for item in temp]\n",
    "temp = [item.strip(\"\\n\") if isinstance(item, str) else item for item in temp]"
   ]
  },
  {
   "cell_type": "code",
   "execution_count": 176,
   "metadata": {},
   "outputs": [],
   "source": [
    "data[\"inspection_new\"] = temp.copy()"
   ]
  },
  {
   "cell_type": "code",
   "execution_count": 177,
   "metadata": {},
   "outputs": [
    {
     "data": {
      "text/plain": [
       "NaN    11986\n",
       "Yes     3932\n",
       "Name: inspection_new, dtype: int64"
      ]
     },
     "execution_count": 177,
     "metadata": {},
     "output_type": "execute_result"
    }
   ],
   "source": [
    "data[\"inspection_new\"].value_counts(dropna=False)"
   ]
  },
  {
   "cell_type": "code",
   "execution_count": 178,
   "metadata": {},
   "outputs": [],
   "source": [
    "data[\"inspection_new\"].fillna(\"-\", inplace=True)"
   ]
  },
  {
   "cell_type": "code",
   "execution_count": 179,
   "metadata": {},
   "outputs": [
    {
     "data": {
      "text/html": [
       "<div>\n",
       "<style scoped>\n",
       "    .dataframe tbody tr th:only-of-type {\n",
       "        vertical-align: middle;\n",
       "    }\n",
       "\n",
       "    .dataframe tbody tr th {\n",
       "        vertical-align: top;\n",
       "    }\n",
       "\n",
       "    .dataframe thead th {\n",
       "        text-align: right;\n",
       "    }\n",
       "</style>\n",
       "<table border=\"1\" class=\"dataframe\">\n",
       "  <thead>\n",
       "    <tr style=\"text-align: right;\">\n",
       "      <th></th>\n",
       "      <th></th>\n",
       "      <th></th>\n",
       "      <th></th>\n",
       "      <th>count</th>\n",
       "      <th>mean</th>\n",
       "      <th>std</th>\n",
       "      <th>min</th>\n",
       "      <th>25%</th>\n",
       "      <th>50%</th>\n",
       "      <th>75%</th>\n",
       "      <th>max</th>\n",
       "    </tr>\n",
       "    <tr>\n",
       "      <th>model</th>\n",
       "      <th>body_type</th>\n",
       "      <th>first_registration</th>\n",
       "      <th>inspection_new</th>\n",
       "      <th></th>\n",
       "      <th></th>\n",
       "      <th></th>\n",
       "      <th></th>\n",
       "      <th></th>\n",
       "      <th></th>\n",
       "      <th></th>\n",
       "      <th></th>\n",
       "    </tr>\n",
       "  </thead>\n",
       "  <tbody>\n",
       "    <tr>\n",
       "      <th rowspan=\"5\" valign=\"top\">A1</th>\n",
       "      <th rowspan=\"5\" valign=\"top\">Compact</th>\n",
       "      <th rowspan=\"2\" valign=\"top\">2016</th>\n",
       "      <th>-</th>\n",
       "      <td>128.0</td>\n",
       "      <td>14745.820312</td>\n",
       "      <td>1877.292750</td>\n",
       "      <td>10900.0</td>\n",
       "      <td>13500.00</td>\n",
       "      <td>14940.0</td>\n",
       "      <td>15492.50</td>\n",
       "      <td>18900.0</td>\n",
       "    </tr>\n",
       "    <tr>\n",
       "      <th>Yes</th>\n",
       "      <td>106.0</td>\n",
       "      <td>14275.811321</td>\n",
       "      <td>1923.911230</td>\n",
       "      <td>9950.0</td>\n",
       "      <td>12922.50</td>\n",
       "      <td>13925.0</td>\n",
       "      <td>15443.75</td>\n",
       "      <td>18880.0</td>\n",
       "    </tr>\n",
       "    <tr>\n",
       "      <th rowspan=\"2\" valign=\"top\">2017</th>\n",
       "      <th>-</th>\n",
       "      <td>115.0</td>\n",
       "      <td>16425.669565</td>\n",
       "      <td>1985.790164</td>\n",
       "      <td>10999.0</td>\n",
       "      <td>15450.00</td>\n",
       "      <td>15850.0</td>\n",
       "      <td>16890.00</td>\n",
       "      <td>22150.0</td>\n",
       "    </tr>\n",
       "    <tr>\n",
       "      <th>Yes</th>\n",
       "      <td>46.0</td>\n",
       "      <td>17045.652174</td>\n",
       "      <td>2278.592043</td>\n",
       "      <td>12490.0</td>\n",
       "      <td>15610.00</td>\n",
       "      <td>15980.0</td>\n",
       "      <td>18367.00</td>\n",
       "      <td>21490.0</td>\n",
       "    </tr>\n",
       "    <tr>\n",
       "      <th>2018</th>\n",
       "      <th>-</th>\n",
       "      <td>150.0</td>\n",
       "      <td>19065.306667</td>\n",
       "      <td>2836.071257</td>\n",
       "      <td>14500.0</td>\n",
       "      <td>16490.00</td>\n",
       "      <td>18800.0</td>\n",
       "      <td>21949.75</td>\n",
       "      <td>23777.0</td>\n",
       "    </tr>\n",
       "    <tr>\n",
       "      <th>...</th>\n",
       "      <th>...</th>\n",
       "      <th>...</th>\n",
       "      <th>...</th>\n",
       "      <td>...</td>\n",
       "      <td>...</td>\n",
       "      <td>...</td>\n",
       "      <td>...</td>\n",
       "      <td>...</td>\n",
       "      <td>...</td>\n",
       "      <td>...</td>\n",
       "      <td>...</td>\n",
       "    </tr>\n",
       "    <tr>\n",
       "      <th rowspan=\"5\" valign=\"top\">Insignia</th>\n",
       "      <th rowspan=\"4\" valign=\"top\">Station wagon</th>\n",
       "      <th rowspan=\"2\" valign=\"top\">2018</th>\n",
       "      <th>-</th>\n",
       "      <td>268.0</td>\n",
       "      <td>21615.932836</td>\n",
       "      <td>1608.680333</td>\n",
       "      <td>17500.0</td>\n",
       "      <td>20270.00</td>\n",
       "      <td>21495.0</td>\n",
       "      <td>22900.00</td>\n",
       "      <td>24590.0</td>\n",
       "    </tr>\n",
       "    <tr>\n",
       "      <th>Yes</th>\n",
       "      <td>212.0</td>\n",
       "      <td>22425.792453</td>\n",
       "      <td>1604.598556</td>\n",
       "      <td>18480.0</td>\n",
       "      <td>20980.00</td>\n",
       "      <td>22885.0</td>\n",
       "      <td>23890.00</td>\n",
       "      <td>24700.0</td>\n",
       "    </tr>\n",
       "    <tr>\n",
       "      <th rowspan=\"2\" valign=\"top\">2019</th>\n",
       "      <th>-</th>\n",
       "      <td>300.0</td>\n",
       "      <td>32646.903333</td>\n",
       "      <td>5014.880375</td>\n",
       "      <td>19900.0</td>\n",
       "      <td>28990.00</td>\n",
       "      <td>32995.0</td>\n",
       "      <td>36590.00</td>\n",
       "      <td>44970.0</td>\n",
       "    </tr>\n",
       "    <tr>\n",
       "      <th>Yes</th>\n",
       "      <td>92.0</td>\n",
       "      <td>33554.010870</td>\n",
       "      <td>4974.443483</td>\n",
       "      <td>24845.0</td>\n",
       "      <td>29834.75</td>\n",
       "      <td>33990.0</td>\n",
       "      <td>36990.00</td>\n",
       "      <td>52120.0</td>\n",
       "    </tr>\n",
       "    <tr>\n",
       "      <th>Van</th>\n",
       "      <th>2018</th>\n",
       "      <th>-</th>\n",
       "      <td>1.0</td>\n",
       "      <td>20980.000000</td>\n",
       "      <td>NaN</td>\n",
       "      <td>20980.0</td>\n",
       "      <td>20980.00</td>\n",
       "      <td>20980.0</td>\n",
       "      <td>20980.00</td>\n",
       "      <td>20980.0</td>\n",
       "    </tr>\n",
       "  </tbody>\n",
       "</table>\n",
       "<p>238 rows × 8 columns</p>\n",
       "</div>"
      ],
      "text/plain": [
       "                                                          count          mean  \\\n",
       "model    body_type     first_registration inspection_new                        \n",
       "A1       Compact       2016               -               128.0  14745.820312   \n",
       "                                          Yes             106.0  14275.811321   \n",
       "                       2017               -               115.0  16425.669565   \n",
       "                                          Yes              46.0  17045.652174   \n",
       "                       2018               -               150.0  19065.306667   \n",
       "...                                                         ...           ...   \n",
       "Insignia Station wagon 2018               -               268.0  21615.932836   \n",
       "                                          Yes             212.0  22425.792453   \n",
       "                       2019               -               300.0  32646.903333   \n",
       "                                          Yes              92.0  33554.010870   \n",
       "         Van           2018               -                 1.0  20980.000000   \n",
       "\n",
       "                                                                  std  \\\n",
       "model    body_type     first_registration inspection_new                \n",
       "A1       Compact       2016               -               1877.292750   \n",
       "                                          Yes             1923.911230   \n",
       "                       2017               -               1985.790164   \n",
       "                                          Yes             2278.592043   \n",
       "                       2018               -               2836.071257   \n",
       "...                                                               ...   \n",
       "Insignia Station wagon 2018               -               1608.680333   \n",
       "                                          Yes             1604.598556   \n",
       "                       2019               -               5014.880375   \n",
       "                                          Yes             4974.443483   \n",
       "         Van           2018               -                       NaN   \n",
       "\n",
       "                                                              min       25%  \\\n",
       "model    body_type     first_registration inspection_new                      \n",
       "A1       Compact       2016               -               10900.0  13500.00   \n",
       "                                          Yes              9950.0  12922.50   \n",
       "                       2017               -               10999.0  15450.00   \n",
       "                                          Yes             12490.0  15610.00   \n",
       "                       2018               -               14500.0  16490.00   \n",
       "...                                                           ...       ...   \n",
       "Insignia Station wagon 2018               -               17500.0  20270.00   \n",
       "                                          Yes             18480.0  20980.00   \n",
       "                       2019               -               19900.0  28990.00   \n",
       "                                          Yes             24845.0  29834.75   \n",
       "         Van           2018               -               20980.0  20980.00   \n",
       "\n",
       "                                                              50%       75%  \\\n",
       "model    body_type     first_registration inspection_new                      \n",
       "A1       Compact       2016               -               14940.0  15492.50   \n",
       "                                          Yes             13925.0  15443.75   \n",
       "                       2017               -               15850.0  16890.00   \n",
       "                                          Yes             15980.0  18367.00   \n",
       "                       2018               -               18800.0  21949.75   \n",
       "...                                                           ...       ...   \n",
       "Insignia Station wagon 2018               -               21495.0  22900.00   \n",
       "                                          Yes             22885.0  23890.00   \n",
       "                       2019               -               32995.0  36590.00   \n",
       "                                          Yes             33990.0  36990.00   \n",
       "         Van           2018               -               20980.0  20980.00   \n",
       "\n",
       "                                                              max  \n",
       "model    body_type     first_registration inspection_new           \n",
       "A1       Compact       2016               -               18900.0  \n",
       "                                          Yes             18880.0  \n",
       "                       2017               -               22150.0  \n",
       "                                          Yes             21490.0  \n",
       "                       2018               -               23777.0  \n",
       "...                                                           ...  \n",
       "Insignia Station wagon 2018               -               24590.0  \n",
       "                                          Yes             24700.0  \n",
       "                       2019               -               44970.0  \n",
       "                                          Yes             52120.0  \n",
       "         Van           2018               -               20980.0  \n",
       "\n",
       "[238 rows x 8 columns]"
      ]
     },
     "execution_count": 179,
     "metadata": {},
     "output_type": "execute_result"
    }
   ],
   "source": [
    "data.groupby([\"model\", \"body_type\", \"first_registration\", \"inspection_new\"]).price.describe()"
   ]
  },
  {
   "cell_type": "code",
   "execution_count": 180,
   "metadata": {},
   "outputs": [],
   "source": [
    "data.loc[data[\"inspection_new\"] == \"-\", \"inspection_new\"] = \"No\""
   ]
  },
  {
   "cell_type": "code",
   "execution_count": 181,
   "metadata": {},
   "outputs": [
    {
     "data": {
      "text/plain": [
       "No     11986\n",
       "Yes     3932\n",
       "Name: inspection_new, dtype: int64"
      ]
     },
     "execution_count": 181,
     "metadata": {},
     "output_type": "execute_result"
    }
   ],
   "source": [
    "data[\"inspection_new\"].value_counts()"
   ]
  },
  {
   "cell_type": "code",
   "execution_count": null,
   "metadata": {},
   "outputs": [],
   "source": []
  },
  {
   "cell_type": "code",
   "execution_count": null,
   "metadata": {},
   "outputs": [],
   "source": []
  },
  {
   "cell_type": "code",
   "execution_count": null,
   "metadata": {},
   "outputs": [],
   "source": []
  },
  {
   "cell_type": "markdown",
   "metadata": {},
   "source": [
    "Too much data is missing. We will not impute or include these features in our data set."
   ]
  },
  {
   "cell_type": "markdown",
   "metadata": {},
   "source": [
    "#### Handling the independent variables 'Warranty'"
   ]
  },
  {
   "cell_type": "code",
   "execution_count": 182,
   "metadata": {},
   "outputs": [],
   "source": [
    "temp = raw_df[\"Warranty\"].copy()"
   ]
  },
  {
   "cell_type": "code",
   "execution_count": 183,
   "metadata": {},
   "outputs": [
    {
     "data": {
      "text/plain": [
       "15914              \\n24 months\\n\n",
       "15915       [\\n, \\n, \\nEuro 6\\n]\n",
       "15916    [\\n, \\n, \\n4 (Green)\\n]\n",
       "15917                         \\n\n",
       "15918                        NaN\n",
       "Name: Warranty, dtype: object"
      ]
     },
     "execution_count": 183,
     "metadata": {},
     "output_type": "execute_result"
    }
   ],
   "source": [
    "temp.tail()"
   ]
  },
  {
   "cell_type": "markdown",
   "metadata": {},
   "source": [
    "Usually, the warranty and the registration dates must be highly corralated so it does not need to be included (redundancy). Also, significant number of NaN and empty entries exist that prohibits meaningful imputation. "
   ]
  },
  {
   "cell_type": "markdown",
   "metadata": {},
   "source": [
    "#### Handling the independent variables *Non-smoking Vehicle*"
   ]
  },
  {
   "cell_type": "code",
   "execution_count": 184,
   "metadata": {},
   "outputs": [],
   "source": [
    "temp = raw_df[\"Non-smoking Vehicle\"].copy()"
   ]
  },
  {
   "cell_type": "code",
   "execution_count": 185,
   "metadata": {},
   "outputs": [
    {
     "data": {
      "text/plain": [
       "0                [\\n, \\n]\n",
       "1                     NaN\n",
       "2                     NaN\n",
       "3    [\\n, \\n, \\nEuro 6\\n]\n",
       "4                [\\n, \\n]\n",
       "Name: Non-smoking Vehicle, dtype: object"
      ]
     },
     "execution_count": 185,
     "metadata": {},
     "output_type": "execute_result"
    }
   ],
   "source": [
    "temp.head()"
   ]
  },
  {
   "cell_type": "markdown",
   "metadata": {},
   "source": [
    "No valuable data exist under this feature. To be removed."
   ]
  },
  {
   "cell_type": "markdown",
   "metadata": {},
   "source": [
    "#### Handling the independent variables *Body Color*"
   ]
  },
  {
   "cell_type": "code",
   "execution_count": 186,
   "metadata": {},
   "outputs": [],
   "source": [
    "temp = raw_df[\"Body Color\"].copy()"
   ]
  },
  {
   "cell_type": "code",
   "execution_count": 187,
   "metadata": {},
   "outputs": [
    {
     "data": {
      "text/plain": [
       "0    [\\n, Black, \\n]\n",
       "1      [\\n, Red, \\n]\n",
       "2    [\\n, Black, \\n]\n",
       "3    [\\n, Brown, \\n]\n",
       "4    [\\n, Black, \\n]\n",
       "Name: Body Color, dtype: object"
      ]
     },
     "execution_count": 187,
     "metadata": {},
     "output_type": "execute_result"
    }
   ],
   "source": [
    "temp.head()"
   ]
  },
  {
   "cell_type": "code",
   "execution_count": 188,
   "metadata": {},
   "outputs": [],
   "source": [
    "temp = temp.apply(lambda x: x[1] if isinstance(x, list) else x)"
   ]
  },
  {
   "cell_type": "code",
   "execution_count": 189,
   "metadata": {},
   "outputs": [
    {
     "data": {
      "text/plain": [
       "Black     3745\n",
       "Grey      3504\n",
       "White     3406\n",
       "Silver    1647\n",
       "Blue      1431\n",
       "Red        957\n",
       "Brown      289\n",
       "Green      154\n",
       "Beige      108\n",
       "Yellow      51\n",
       "Violet      18\n",
       "Bronze       6\n",
       "Orange       3\n",
       "Gold         2\n",
       "Name: Body Color, dtype: int64"
      ]
     },
     "execution_count": 189,
     "metadata": {},
     "output_type": "execute_result"
    }
   ],
   "source": [
    "temp.value_counts()"
   ]
  },
  {
   "cell_type": "code",
   "execution_count": 190,
   "metadata": {},
   "outputs": [
    {
     "data": {
      "text/plain": [
       "597"
      ]
     },
     "execution_count": 190,
     "metadata": {},
     "output_type": "execute_result"
    }
   ],
   "source": [
    "temp.isnull().sum()"
   ]
  },
  {
   "cell_type": "code",
   "execution_count": 191,
   "metadata": {},
   "outputs": [],
   "source": [
    "data[\"body_color\"] = temp.copy()"
   ]
  },
  {
   "cell_type": "code",
   "execution_count": 192,
   "metadata": {},
   "outputs": [],
   "source": [
    "f = lambda x: x.mode().iloc[0]\n",
    "data[\"body_color\"] = data[\"body_color\"].fillna(data.groupby('model')[\"body_color\"].transform(f))"
   ]
  },
  {
   "cell_type": "code",
   "execution_count": 193,
   "metadata": {},
   "outputs": [
    {
     "data": {
      "text/plain": [
       "0"
      ]
     },
     "execution_count": 193,
     "metadata": {},
     "output_type": "execute_result"
    }
   ],
   "source": [
    "data[\"body_color\"].isnull().sum()"
   ]
  },
  {
   "cell_type": "code",
   "execution_count": 194,
   "metadata": {},
   "outputs": [
    {
     "data": {
      "text/plain": [
       "Black     3957\n",
       "Grey      3770\n",
       "White     3525\n",
       "Silver    1647\n",
       "Blue      1431\n",
       "Red        957\n",
       "Brown      289\n",
       "Green      154\n",
       "Beige      108\n",
       "Yellow      51\n",
       "Violet      18\n",
       "Bronze       6\n",
       "Orange       3\n",
       "Gold         2\n",
       "Name: body_color, dtype: int64"
      ]
     },
     "execution_count": 194,
     "metadata": {},
     "output_type": "execute_result"
    }
   ],
   "source": [
    "data[\"body_color\"].value_counts()"
   ]
  },
  {
   "cell_type": "code",
   "execution_count": 195,
   "metadata": {},
   "outputs": [],
   "source": [
    "data[\"body_color\"] = data[\"body_color\"].apply(lambda x: 'other' \n",
    "                                              if x in [\"Brown\", \"Green\", \"Beige\", \"Yellow\", \"Violet\", \"Bronze\", \"Orange\", \"Gold\"]\n",
    "                                              else x)"
   ]
  },
  {
   "cell_type": "code",
   "execution_count": 196,
   "metadata": {},
   "outputs": [
    {
     "data": {
      "text/plain": [
       "Black     3957\n",
       "Grey      3770\n",
       "White     3525\n",
       "Silver    1647\n",
       "Blue      1431\n",
       "Red        957\n",
       "other      631\n",
       "Name: body_color, dtype: int64"
      ]
     },
     "execution_count": 196,
     "metadata": {},
     "output_type": "execute_result"
    }
   ],
   "source": [
    "data[\"body_color\"].value_counts()"
   ]
  },
  {
   "cell_type": "code",
   "execution_count": 197,
   "metadata": {},
   "outputs": [
    {
     "data": {
      "image/png": "[encoded data removed]",
      "text/plain": [
       "<Figure size 432x288 with 1 Axes>"
      ]
     },
     "metadata": {
      "needs_background": "light"
     },
     "output_type": "display_data"
    }
   ],
   "source": [
    "sns.barplot(x=\"body_color\", y=\"price\", data=data);"
   ]
  },
  {
   "cell_type": "markdown",
   "metadata": {},
   "source": [
    "#### Handling the independent variables *Body Color Original*"
   ]
  },
  {
   "cell_type": "code",
   "execution_count": 198,
   "metadata": {},
   "outputs": [],
   "source": [
    "temp = raw_df[\"Body Color Original\"].copy()"
   ]
  },
  {
   "cell_type": "code",
   "execution_count": 199,
   "metadata": {},
   "outputs": [
    {
     "data": {
      "text/plain": [
       "0             [\\nMythosschwarz\\n]\n",
       "1                             NaN\n",
       "2    [\\nmythosschwarz metallic\\n]\n",
       "3                             NaN\n",
       "4    [\\nMythosschwarz Metallic\\n]\n",
       "Name: Body Color Original, dtype: object"
      ]
     },
     "execution_count": 199,
     "metadata": {},
     "output_type": "execute_result"
    }
   ],
   "source": [
    "temp.head()"
   ]
  },
  {
   "cell_type": "markdown",
   "metadata": {},
   "source": [
    "There are close to 2000 different original color name without opportunity to generalize or relate to price. Not to be included in the data set."
   ]
  },
  {
   "cell_type": "markdown",
   "metadata": {},
   "source": [
    "#### Handling the independent variables *Paint Type*"
   ]
  },
  {
   "cell_type": "code",
   "execution_count": 200,
   "metadata": {},
   "outputs": [],
   "source": [
    "temp = raw_df[\"Paint Type\"].copy()"
   ]
  },
  {
   "cell_type": "code",
   "execution_count": 201,
   "metadata": {},
   "outputs": [
    {
     "data": {
      "text/plain": [
       "0    [\\nMetallic\\n]\n",
       "1               NaN\n",
       "2    [\\nMetallic\\n]\n",
       "3    [\\nMetallic\\n]\n",
       "4    [\\nMetallic\\n]\n",
       "5    [\\nMetallic\\n]\n",
       "6    [\\nMetallic\\n]\n",
       "7    [\\nMetallic\\n]\n",
       "8    [\\nMetallic\\n]\n",
       "9               NaN\n",
       "Name: Paint Type, dtype: object"
      ]
     },
     "execution_count": 201,
     "metadata": {},
     "output_type": "execute_result"
    }
   ],
   "source": [
    "temp.head(10)"
   ]
  },
  {
   "cell_type": "code",
   "execution_count": 202,
   "metadata": {},
   "outputs": [],
   "source": [
    "temp = [item[0].strip(\"\\n\") if isinstance(item, list) else item for item in temp]"
   ]
  },
  {
   "cell_type": "code",
   "execution_count": 203,
   "metadata": {},
   "outputs": [],
   "source": [
    "data[\"paint_type\"] = temp.copy()"
   ]
  },
  {
   "cell_type": "code",
   "execution_count": 204,
   "metadata": {},
   "outputs": [
    {
     "data": {
      "text/plain": [
       "Metallic       9793\n",
       "Uni/basic       347\n",
       "Perl effect       6\n",
       "Name: paint_type, dtype: int64"
      ]
     },
     "execution_count": 204,
     "metadata": {},
     "output_type": "execute_result"
    }
   ],
   "source": [
    "data[\"paint_type\"].value_counts()"
   ]
  },
  {
   "cell_type": "code",
   "execution_count": 205,
   "metadata": {},
   "outputs": [
    {
     "data": {
      "text/plain": [
       "(15918, 17)"
      ]
     },
     "execution_count": 205,
     "metadata": {},
     "output_type": "execute_result"
    }
   ],
   "source": [
    "data.shape"
   ]
  },
  {
   "cell_type": "code",
   "execution_count": 206,
   "metadata": {},
   "outputs": [
    {
     "data": {
      "image/png": "[encoded data removed]",
      "text/plain": [
       "<Figure size 432x288 with 1 Axes>"
      ]
     },
     "metadata": {
      "needs_background": "light"
     },
     "output_type": "display_data"
    }
   ],
   "source": [
    "sns.barplot(x=\"paint_type\", y=\"price\", data=data);"
   ]
  },
  {
   "cell_type": "code",
   "execution_count": 207,
   "metadata": {},
   "outputs": [
    {
     "data": {
      "image/png": "[encoded data removed]",
      "text/plain": [
       "<Figure size 432x288 with 1 Axes>"
      ]
     },
     "metadata": {
      "needs_background": "light"
     },
     "output_type": "display_data"
    }
   ],
   "source": [
    "sns.boxplot(x=\"paint_type\", y=\"price\", data=data);"
   ]
  },
  {
   "cell_type": "code",
   "execution_count": 208,
   "metadata": {},
   "outputs": [],
   "source": [
    "data.loc[data[\"price\"] > 40000, \"paint_type\"] = \"Metallic\"\n",
    "#data.loc[data[\"paint_type\"] == \"Perl effect\", \"paint_type\"] = \"Metallic\"\n",
    "\n",
    "f = lambda x: x.mode().iloc[0]\n",
    "data[\"paint_type\"] = data[\"paint_type\"].fillna(data.groupby('model')[\"paint_type\"].transform(f))"
   ]
  },
  {
   "cell_type": "code",
   "execution_count": 209,
   "metadata": {},
   "outputs": [
    {
     "data": {
      "text/plain": [
       "Metallic       15548\n",
       "Uni/basic        364\n",
       "Perl effect        6\n",
       "Name: paint_type, dtype: int64"
      ]
     },
     "execution_count": 209,
     "metadata": {},
     "output_type": "execute_result"
    }
   ],
   "source": [
    "data[\"paint_type\"].value_counts()"
   ]
  },
  {
   "cell_type": "code",
   "execution_count": 210,
   "metadata": {},
   "outputs": [
    {
     "data": {
      "text/plain": [
       "price                 0\n",
       "make                  0\n",
       "model                 0\n",
       "mileage               0\n",
       "first_registration    0\n",
       "age                   0\n",
       "power                 0\n",
       "prev_owner            0\n",
       "vat                   0\n",
       "body_type             0\n",
       "gear                  0\n",
       "nr_of_doors           0\n",
       "nr_of_seats           0\n",
       "cylinders             0\n",
       "inspection_new        0\n",
       "body_color            0\n",
       "paint_type            0\n",
       "dtype: int64"
      ]
     },
     "execution_count": 210,
     "metadata": {},
     "output_type": "execute_result"
    }
   ],
   "source": [
    "data.isnull().sum()"
   ]
  },
  {
   "cell_type": "code",
   "execution_count": 211,
   "metadata": {},
   "outputs": [
    {
     "data": {
      "text/plain": [
       "0    [, Used, , Diesel (Particulate Filter)]\n",
       "1                       [, Used, , Gasoline]\n",
       "2    [, Used, , Diesel (Particulate Filter)]\n",
       "3    [, Used, , Diesel (Particulate Filter)]\n",
       "4    [, Used, , Diesel (Particulate Filter)]\n",
       "Name: Type, dtype: object"
      ]
     },
     "execution_count": 211,
     "metadata": {},
     "output_type": "execute_result"
    }
   ],
   "source": [
    "raw_df.Type.head()"
   ]
  },
  {
   "cell_type": "markdown",
   "metadata": {},
   "source": [
    "#### Handling the independent variables *Fuel*"
   ]
  },
  {
   "cell_type": "code",
   "execution_count": 212,
   "metadata": {},
   "outputs": [],
   "source": [
    "temp = raw_df[\"Fuel\"].copy()"
   ]
  },
  {
   "cell_type": "code",
   "execution_count": 213,
   "metadata": {},
   "outputs": [
    {
     "data": {
      "text/plain": [
       "0    [\\n, Diesel (Particulate Filter), \\n]\n",
       "1                       [\\n, Gasoline, \\n]\n",
       "2    [\\n, Diesel (Particulate Filter), \\n]\n",
       "3    [\\n, Diesel (Particulate Filter), \\n]\n",
       "4    [\\n, Diesel (Particulate Filter), \\n]\n",
       "Name: Fuel, dtype: object"
      ]
     },
     "execution_count": 213,
     "metadata": {},
     "output_type": "execute_result"
    }
   ],
   "source": [
    "temp.head()"
   ]
  },
  {
   "cell_type": "code",
   "execution_count": 214,
   "metadata": {},
   "outputs": [],
   "source": [
    "temp = [item[1] if isinstance(item, list) else item for item in temp]"
   ]
  },
  {
   "cell_type": "code",
   "execution_count": 215,
   "metadata": {},
   "outputs": [],
   "source": [
    "data[\"fuel\"] = temp.copy()"
   ]
  },
  {
   "cell_type": "code",
   "execution_count": 216,
   "metadata": {},
   "outputs": [
    {
     "data": {
      "text/plain": [
       "Diesel (Particulate Filter)                                                                                                       4314\n",
       "Super 95                                                                                                                          3338\n",
       "Gasoline                                                                                                                          3175\n",
       "Diesel                                                                                                                            2984\n",
       "Super 95 / Regular/Benzine 91                                                                                                      424\n",
       "Regular/Benzine 91                                                                                                                 354\n",
       "Super E10 95                                                                                                                       331\n",
       "Super 95 (Particulate Filter)                                                                                                      268\n",
       "Super 95 / Super E10 95                                                                                                            131\n",
       "Regular/Benzine 91 (Particulate Filter)                                                                                            100\n",
       "Super 95 / Super Plus 98                                                                                                            85\n",
       "Gasoline (Particulate Filter)                                                                                                       77\n",
       "Super 95 / Super Plus 98 / Super E10 95 / Super Plus E10 98                                                                         40\n",
       "Super E10 95 / Super 95                                                                                                             38\n",
       "CNG                                                                                                                                 33\n",
       "Super 95 / Super E10 95 (Particulate Filter)                                                                                        25\n",
       "Super E10 95 / Super 95 / Super Plus 98 / Super Plus E10 98                                                                         19\n",
       "LPG                                                                                                                                 16\n",
       "Super 95 / Super Plus 98 (Particulate Filter)                                                                                       14\n",
       "Regular/Benzine 91 / Super 95 / Super Plus 98 / Regular/Benzine E10 91 / Super E10 95 / Super Plus E10 98                           13\n",
       "Regular/Benzine E10 91                                                                                                              11\n",
       "Liquid petroleum gas (LPG)                                                                                                          10\n",
       "Super 95 / Super Plus 98 / Super E10 95                                                                                              8\n",
       "Regular/Benzine 91 / Regular/Benzine E10 91                                                                                          7\n",
       "Super 95 / Regular/Benzine 91 / Super Plus 98 / Regular/Benzine E10 91 / Super E10 95 / Super Plus E10 98                            7\n",
       "Super Plus 98                                                                                                                        7\n",
       "Super E10 95 (Particulate Filter)                                                                                                    7\n",
       "Super 95 / Super Plus 98 / Super Plus E10 98 / Super E10 95                                                                          5\n",
       "Others                                                                                                                               5\n",
       "Super E10 95 / Super Plus E10 98                                                                                                     4\n",
       "Electric/Gasoline                                                                                                                    4\n",
       "Super 95 / Super Plus 98 / Super E10 95 / Super Plus E10 98 (Particulate Filter)                                                     4\n",
       "Super 95 / Super E10 95 / Super Plus E10 98 / Super Plus 98                                                                          4\n",
       "Regular/Benzine 91 / Super 95 / Super Plus 98 / Regular/Benzine E10 91 / Super Plus E10 98 / Super E10 95                            4\n",
       "CNG (Particulate Filter)                                                                                                             3\n",
       "Super E10 95 / Super 95 / Super Plus 98 / Super Plus E10 98 (Particulate Filter)                                                     3\n",
       "Super E10 95 / Super 95 / Super Plus 98                                                                                              3\n",
       "Super E10 95 / Regular/Benzine 91                                                                                                    2\n",
       "Super 95 / Regular/Benzine 91 / Super Plus 98                                                                                        2\n",
       "Regular/Benzine 91 / Super 95 / Super Plus 98 / Super Plus E10 98 / Super E10 95 / Regular/Benzine E10 91                            2\n",
       "Regular/Benzine 91 / Super 95 / Super E10 95                                                                                         1\n",
       "Electric                                                                                                                             1\n",
       "Regular/Benzine 91 / Super 95 / Super E10 95 / Super Plus E10 98 / Super Plus 98 / Regular/Benzine E10 91                            1\n",
       "Super 95 / Super E10 95 / Super Plus E10 98                                                                                          1\n",
       "Super 95 / Super E10 95 / Super Plus 98                                                                                              1\n",
       "Regular/Benzine 91 / Super 95 / Super Plus E10 98 / Super E10 95 / Regular/Benzine E10 91 / Super Plus 98                            1\n",
       "Super 95 / Super Plus 98 / Regular/Benzine E10 91 / Super Plus E10 98 / Super E10 95 / Regular/Benzine 91                            1\n",
       "Super 95 / Regular/Benzine E10 91                                                                                                    1\n",
       "Super E10 95 / Regular/Benzine 91 / Regular/Benzine E10 91 / Super 95                                                                1\n",
       "Super Plus 98 / Regular/Benzine 91                                                                                                   1\n",
       "Super 95 / Regular/Benzine 91 / Super E10 95 / Super Plus 98 / Super Plus E10 98 / Regular/Benzine E10 91                            1\n",
       "Super 95 / Super Plus 98 / Super Plus E10 98                                                                                         1\n",
       "Super 95 / Regular/Benzine 91 (Particulate Filter)                                                                                   1\n",
       "Super 95 / Super E10 95 / Regular/Benzine 91                                                                                         1\n",
       "Regular/Benzine 91 / Super 95 / Super E10 95 / Regular/Benzine E10 91                                                                1\n",
       "Super 95 / Regular/Benzine E10 91 / Super E10 95                                                                                     1\n",
       "Super 95 / Regular/Benzine 91 / Super Plus 98 / Regular/Benzine E10 91 / Super Plus E10 98 / Super E10 95                            1\n",
       "Regular/Benzine E10 91 / Super E10 95 / Super Plus E10 98 / Super Plus 98 / Super 95 / Regular/Benzine 91                            1\n",
       "Super 95 / Regular/Benzine 91 / Super E10 95 / Super Plus E10 98 / Super Plus 98                                                     1\n",
       "Others (Particulate Filter)                                                                                                          1\n",
       "Biogas                                                                                                                               1\n",
       "Super 95 / Biodiesel                                                                                                                 1\n",
       "Regular/Benzine 91 / Super 95 / Super Plus 98 / Super Plus E10 98 / Super E10 95 / Regular/Benzine E10 91 (Particulate Filter)       1\n",
       "Regular/Benzine 91 / Super 95 / Super Plus 98                                                                                        1\n",
       "Regular/Benzine 91 / Super 95                                                                                                        1\n",
       "Regular/Benzine E10 91 / Regular/Benzine 91 / Super 95 / Super Plus 98 / Super E10 95 / Super Plus E10 98                            1\n",
       "Domestic gas H                                                                                                                       1\n",
       "Super E10 95 / Regular/Benzine 91 / Super 95 / Super Plus 98 / Regular/Benzine E10 91 / Super Plus E10 98                            1\n",
       "Super Plus E10 98 / Super 95 / Super Plus 98 / Super E10 95                                                                          1\n",
       "Super 95 / Regular/Benzine 91 / Super E10 95 / Super Plus E10 98 / Super Plus 98 / Regular/Benzine E10 91                            1\n",
       "Super Plus 98 / Super 95 / Super E10 95                                                                                              1\n",
       "Super Plus E10 98                                                                                                                    1\n",
       "Regular/Benzine 91 / Super 95 / Regular/Benzine E10 91                                                                               1\n",
       "Super Plus 98 / Super E10 95                                                                                                         1\n",
       "Regular/Benzine 91 / Super 95 / Regular/Benzine E10 91 / Super E10 95 / Super Plus 98 / Super Plus E10 98                            1\n",
       "Regular/Benzine 91 / Super Plus 98 / Regular/Benzine E10 91 / Super 95 / Super E10 95 / Super Plus E10 98                            1\n",
       "Super Plus 98 / Super 95 / Super Plus E10 98                                                                                         1\n",
       "Name: fuel, dtype: int64"
      ]
     },
     "execution_count": 216,
     "metadata": {},
     "output_type": "execute_result"
    }
   ],
   "source": [
    "data[\"fuel\"].value_counts()"
   ]
  },
  {
   "cell_type": "code",
   "execution_count": 217,
   "metadata": {},
   "outputs": [
    {
     "data": {
      "text/plain": [
       "0"
      ]
     },
     "execution_count": 217,
     "metadata": {},
     "output_type": "execute_result"
    }
   ],
   "source": [
    "data[\"fuel\"].isnull().sum()"
   ]
  },
  {
   "cell_type": "code",
   "execution_count": 218,
   "metadata": {},
   "outputs": [],
   "source": [
    "benzine = [\"Gasoline\", \"Super 95\", \"Regular\", \"Super E10 95\", \"Super Plus 98\", \"Super Plus E10 98\", \"Others\"]\n",
    "lpg = [\"LPG\", \"Liquid petroleum gas\", \"CNG\", \"Biogas\", \"Domestic gas H\"]\n",
    "diesel = [\"Diesel\", \"Diesel (Particulate Filter)\"]\n",
    "def get_fuel(x):\n",
    "    if x in benzine:\n",
    "        return \"Benzine\"\n",
    "    elif x in lpg:\n",
    "        return\"LPG\"\n",
    "    elif x in diesel:\n",
    "        return \"Diesel\"\n",
    "    else:\n",
    "        return x\n",
    "    \n",
    "data[\"fuel\"] = data.fuel.apply(get_fuel)\n",
    "data[\"fuel\"] = data[\"fuel\"].apply(lambda x: \"Benzine\" if x not in [\"Benzine\", \"Diesel\", \"LPG\"] else x)"
   ]
  },
  {
   "cell_type": "code",
   "execution_count": 219,
   "metadata": {},
   "outputs": [
    {
     "data": {
      "text/plain": [
       "Benzine    8569\n",
       "Diesel     7298\n",
       "LPG          51\n",
       "Name: fuel, dtype: int64"
      ]
     },
     "execution_count": 219,
     "metadata": {},
     "output_type": "execute_result"
    }
   ],
   "source": [
    "data[\"fuel\"].value_counts()"
   ]
  },
  {
   "cell_type": "code",
   "execution_count": 220,
   "metadata": {},
   "outputs": [
    {
     "data": {
      "image/png": "[encoded data removed]",
      "text/plain": [
       "<Figure size 432x288 with 1 Axes>"
      ]
     },
     "metadata": {
      "needs_background": "light"
     },
     "output_type": "display_data"
    }
   ],
   "source": [
    "sns.barplot(x=\"fuel\", y=\"price\", data=data);"
   ]
  },
  {
   "cell_type": "code",
   "execution_count": 221,
   "metadata": {},
   "outputs": [
    {
     "data": {
      "image/png": "[encoded data removed]",
      "text/plain": [
       "<Figure size 432x288 with 1 Axes>"
      ]
     },
     "metadata": {
      "needs_background": "light"
     },
     "output_type": "display_data"
    }
   ],
   "source": [
    "sns.boxplot(x=\"fuel\", y=\"price\", data=data);"
   ]
  },
  {
   "cell_type": "markdown",
   "metadata": {},
   "source": [
    "#### Handling the independent variables *Type*"
   ]
  },
  {
   "cell_type": "code",
   "execution_count": 222,
   "metadata": {},
   "outputs": [],
   "source": [
    "temp = raw_df[\"Type\"].copy()"
   ]
  },
  {
   "cell_type": "code",
   "execution_count": 223,
   "metadata": {},
   "outputs": [
    {
     "data": {
      "text/plain": [
       "0    [, Used, , Diesel (Particulate Filter)]\n",
       "1                       [, Used, , Gasoline]\n",
       "2    [, Used, , Diesel (Particulate Filter)]\n",
       "3    [, Used, , Diesel (Particulate Filter)]\n",
       "4    [, Used, , Diesel (Particulate Filter)]\n",
       "5    [, Used, , Diesel (Particulate Filter)]\n",
       "6    [, Used, , Diesel (Particulate Filter)]\n",
       "7    [, Used, , Diesel (Particulate Filter)]\n",
       "8    [, Used, , Diesel (Particulate Filter)]\n",
       "9                       [, Used, , Gasoline]\n",
       "Name: Type, dtype: object"
      ]
     },
     "execution_count": 223,
     "metadata": {},
     "output_type": "execute_result"
    }
   ],
   "source": [
    "temp.head(10)"
   ]
  },
  {
   "cell_type": "code",
   "execution_count": 224,
   "metadata": {},
   "outputs": [],
   "source": [
    "temp = [item[1] if isinstance(item, list) else item for item in temp]"
   ]
  },
  {
   "cell_type": "code",
   "execution_count": 225,
   "metadata": {},
   "outputs": [],
   "source": [
    "data[\"type\"] = temp.copy()"
   ]
  },
  {
   "cell_type": "code",
   "execution_count": 226,
   "metadata": {},
   "outputs": [
    {
     "data": {
      "text/plain": [
       "2"
      ]
     },
     "execution_count": 226,
     "metadata": {},
     "output_type": "execute_result"
    }
   ],
   "source": [
    "data[\"type\"].isnull().sum()"
   ]
  },
  {
   "cell_type": "code",
   "execution_count": 227,
   "metadata": {},
   "outputs": [],
   "source": [
    "data[\"type\"] = data[\"type\"].fillna(data.groupby('model')[\"type\"].transform(lambda x: x.mode().iloc[0]))\n"
   ]
  },
  {
   "cell_type": "code",
   "execution_count": 228,
   "metadata": {},
   "outputs": [
    {
     "data": {
      "text/plain": [
       "Used              11098\n",
       "New                1650\n",
       "Pre-registered     1364\n",
       "Employee's car     1010\n",
       "Demonstration       796\n",
       "Name: type, dtype: int64"
      ]
     },
     "execution_count": 228,
     "metadata": {},
     "output_type": "execute_result"
    }
   ],
   "source": [
    "data[\"type\"].value_counts()"
   ]
  },
  {
   "cell_type": "code",
   "execution_count": 229,
   "metadata": {},
   "outputs": [
    {
     "data": {
      "image/png": "[encoded data removed]",
      "text/plain": [
       "<Figure size 432x288 with 1 Axes>"
      ]
     },
     "metadata": {
      "needs_background": "light"
     },
     "output_type": "display_data"
    }
   ],
   "source": [
    "sns.boxplot(x=\"type\", y=\"price\", data=data);"
   ]
  },
  {
   "cell_type": "markdown",
   "metadata": {},
   "source": [
    "#### Handling the independent variables *Emission Class*"
   ]
  },
  {
   "cell_type": "code",
   "execution_count": 230,
   "metadata": {},
   "outputs": [],
   "source": [
    "temp = raw_df[\"Emission Class\"].copy()"
   ]
  },
  {
   "cell_type": "code",
   "execution_count": 231,
   "metadata": {},
   "outputs": [
    {
     "data": {
      "text/plain": [
       "0    [\\nEuro 6\\n]\n",
       "1    [\\nEuro 6\\n]\n",
       "2    [\\nEuro 6\\n]\n",
       "3    [\\nEuro 6\\n]\n",
       "4    [\\nEuro 6\\n]\n",
       "Name: Emission Class, dtype: object"
      ]
     },
     "execution_count": 231,
     "metadata": {},
     "output_type": "execute_result"
    }
   ],
   "source": [
    "temp.head()"
   ]
  },
  {
   "cell_type": "code",
   "execution_count": 232,
   "metadata": {},
   "outputs": [],
   "source": [
    "temp = [str(item[0]).strip(\"\\n\") if isinstance(item, list) else item for item in temp]"
   ]
  },
  {
   "cell_type": "code",
   "execution_count": 233,
   "metadata": {},
   "outputs": [],
   "source": [
    "data[\"emission_class\"] = temp.copy()"
   ]
  },
  {
   "cell_type": "code",
   "execution_count": 234,
   "metadata": {},
   "outputs": [
    {
     "data": {
      "text/plain": [
       "Euro 6          10138\n",
       "Euro 6d-TEMP     1845\n",
       "[]                607\n",
       "Euro 6c           127\n",
       "Euro 5             78\n",
       "Euro 6d            62\n",
       "Euro 4             40\n",
       "Name: emission_class, dtype: int64"
      ]
     },
     "execution_count": 234,
     "metadata": {},
     "output_type": "execute_result"
    }
   ],
   "source": [
    "data[\"emission_class\"].value_counts()"
   ]
  },
  {
   "cell_type": "code",
   "execution_count": 235,
   "metadata": {},
   "outputs": [
    {
     "data": {
      "text/plain": [
       "emission_class\n",
       "Euro 4          13655.825000\n",
       "Euro 5          12472.500000\n",
       "Euro 6          17121.427500\n",
       "Euro 6c         16225.842520\n",
       "Euro 6d         18487.870968\n",
       "Euro 6d-TEMP    22185.037940\n",
       "[]              15256.907743\n",
       "Name: price, dtype: float64"
      ]
     },
     "execution_count": 235,
     "metadata": {},
     "output_type": "execute_result"
    }
   ],
   "source": [
    "data.groupby(\"emission_class\")[\"price\"].mean()"
   ]
  },
  {
   "cell_type": "code",
   "execution_count": 236,
   "metadata": {},
   "outputs": [],
   "source": [
    "# group 4 and 5 as <6, transform [] as NaN, fillna with mode..."
   ]
  },
  {
   "cell_type": "code",
   "execution_count": 237,
   "metadata": {},
   "outputs": [],
   "source": [
    "data.loc[data[\"emission_class\"] == \"[]\", \"emission_class\"] = np.NaN"
   ]
  },
  {
   "cell_type": "code",
   "execution_count": 238,
   "metadata": {},
   "outputs": [
    {
     "data": {
      "text/plain": [
       "Euro 6          10138\n",
       "Euro 6d-TEMP     1845\n",
       "Euro 6c           127\n",
       "Euro 5             78\n",
       "Euro 6d            62\n",
       "Euro 4             40\n",
       "Name: emission_class, dtype: int64"
      ]
     },
     "execution_count": 238,
     "metadata": {},
     "output_type": "execute_result"
    }
   ],
   "source": [
    "data[\"emission_class\"].value_counts()"
   ]
  },
  {
   "cell_type": "code",
   "execution_count": 239,
   "metadata": {},
   "outputs": [
    {
     "data": {
      "text/plain": [
       "3628"
      ]
     },
     "execution_count": 239,
     "metadata": {},
     "output_type": "execute_result"
    }
   ],
   "source": [
    "data[\"emission_class\"].isnull().sum()"
   ]
  },
  {
   "cell_type": "code",
   "execution_count": 240,
   "metadata": {},
   "outputs": [
    {
     "data": {
      "text/plain": [
       "model     first_registration   \n",
       "A1        2016                0          Euro 6\n",
       "          2017                0          Euro 6\n",
       "          2018                0          Euro 6\n",
       "          2019                0          Euro 6\n",
       "A3        2016                0          Euro 6\n",
       "          2017                0          Euro 6\n",
       "          2018                0          Euro 6\n",
       "          2019                0    Euro 6d-TEMP\n",
       "Astra     2016                0          Euro 6\n",
       "          2017                0          Euro 6\n",
       "          2018                0          Euro 6\n",
       "          2019                0    Euro 6d-TEMP\n",
       "Clio      2016                0          Euro 6\n",
       "          2017                0          Euro 6\n",
       "          2018                0          Euro 6\n",
       "          2019                0          Euro 6\n",
       "Corsa     2016                0          Euro 6\n",
       "          2017                0          Euro 6\n",
       "          2018                0          Euro 6\n",
       "          2019                0    Euro 6d-TEMP\n",
       "Duster    2019                0          Euro 4\n",
       "Espace    2016                0          Euro 6\n",
       "          2017                0          Euro 6\n",
       "          2018                0          Euro 6\n",
       "          2019                0          Euro 6\n",
       "Insignia  2016                0          Euro 6\n",
       "          2017                0          Euro 6\n",
       "          2018                0          Euro 6\n",
       "          2019                0    Euro 6d-TEMP\n",
       "Name: emission_class, dtype: object"
      ]
     },
     "execution_count": 240,
     "metadata": {},
     "output_type": "execute_result"
    }
   ],
   "source": [
    "data.groupby(['model', 'first_registration'])[\"emission_class\"].apply(lambda x: x.mode())"
   ]
  },
  {
   "cell_type": "code",
   "execution_count": 241,
   "metadata": {},
   "outputs": [
    {
     "data": {
      "text/plain": [
       "model     first_registration  emission_class\n",
       "A1        2016                Euro 6            526\n",
       "                              Euro 5              4\n",
       "                              Euro 6d-TEMP        3\n",
       "                              Euro 6c             2\n",
       "                              Euro 4              1\n",
       "          2017                Euro 6            345\n",
       "                              Euro 5              1\n",
       "          2018                Euro 6            617\n",
       "                              Euro 6d-TEMP       11\n",
       "                              Euro 5              4\n",
       "          2019                Euro 6            271\n",
       "                              Euro 6d-TEMP      264\n",
       "                              Euro 6d             5\n",
       "A3        2016                Euro 6            695\n",
       "                              Euro 5              6\n",
       "                              Euro 6c             2\n",
       "          2017                Euro 6            592\n",
       "                              Euro 6d             1\n",
       "          2018                Euro 6            693\n",
       "                              Euro 6d-TEMP       18\n",
       "                              Euro 5              1\n",
       "                              Euro 6d             1\n",
       "          2019                Euro 6d-TEMP      312\n",
       "                              Euro 6            292\n",
       "                              Euro 6d             2\n",
       "                              Euro 6c             1\n",
       "Astra     2016                Euro 6            381\n",
       "                              Euro 6d-TEMP       15\n",
       "                              Euro 5              5\n",
       "                              Euro 6c             1\n",
       "          2017                Euro 6            481\n",
       "                              Euro 6d-TEMP       14\n",
       "                              Euro 5              6\n",
       "          2018                Euro 6            522\n",
       "                              Euro 6d-TEMP       25\n",
       "                              Euro 6c            10\n",
       "                              Euro 5              2\n",
       "                              Euro 6d             1\n",
       "          2019                Euro 6d-TEMP      259\n",
       "                              Euro 6            153\n",
       "                              Euro 6d             6\n",
       "                              Euro 6c             2\n",
       "                              Euro 5              1\n",
       "Clio      2016                Euro 6            285\n",
       "                              Euro 5             23\n",
       "                              Euro 6c             1\n",
       "                              Euro 6d             1\n",
       "                              Euro 6d-TEMP        1\n",
       "          2017                Euro 6            313\n",
       "                              Euro 6d-TEMP        4\n",
       "                              Euro 5              2\n",
       "                              Euro 4              1\n",
       "          2018                Euro 6            416\n",
       "                              Euro 6c            13\n",
       "                              Euro 6d-TEMP        3\n",
       "                              Euro 4              2\n",
       "                              Euro 6d             1\n",
       "          2019                Euro 6            210\n",
       "                              Euro 6c            56\n",
       "                              Euro 6d-TEMP       16\n",
       "                              Euro 6d             3\n",
       "Corsa     2016                Euro 6            271\n",
       "                              Euro 6d-TEMP       24\n",
       "                              Euro 5              3\n",
       "                              Euro 6c             1\n",
       "          2017                Euro 6            283\n",
       "                              Euro 6d-TEMP       18\n",
       "                              Euro 5              4\n",
       "                              Euro 6c             1\n",
       "          2018                Euro 6            485\n",
       "                              Euro 6d-TEMP       77\n",
       "                              Euro 6c             8\n",
       "                              Euro 6d             2\n",
       "                              Euro 5              1\n",
       "          2019                Euro 6d-TEMP      359\n",
       "                              Euro 6            176\n",
       "                              Euro 6d            25\n",
       "                              Euro 4              1\n",
       "Duster    2019                Euro 4             32\n",
       "Espace    2016                Euro 6            226\n",
       "                              Euro 6d-TEMP        3\n",
       "                              Euro 5              1\n",
       "                              Euro 6c             1\n",
       "                              Euro 6d             1\n",
       "          2017                Euro 6            110\n",
       "                              Euro 5              1\n",
       "                              Euro 6c             1\n",
       "          2018                Euro 6            152\n",
       "                              Euro 6c             4\n",
       "                              Euro 6d-TEMP        3\n",
       "                              Euro 6d             2\n",
       "                              Euro 4              1\n",
       "          2019                Euro 6            110\n",
       "                              Euro 6d-TEMP       66\n",
       "                              Euro 6c             3\n",
       "                              Euro 6d             2\n",
       "Insignia  2016                Euro 6            439\n",
       "                              Euro 5             11\n",
       "                              Euro 4              2\n",
       "                              Euro 6d             1\n",
       "          2017                Euro 6            432\n",
       "                              Euro 6d-TEMP       15\n",
       "                              Euro 5              2\n",
       "                              Euro 6c             2\n",
       "          2018                Euro 6            505\n",
       "                              Euro 6d-TEMP       55\n",
       "                              Euro 6c            13\n",
       "                              Euro 6d             1\n",
       "          2019                Euro 6d-TEMP      280\n",
       "                              Euro 6            157\n",
       "                              Euro 6d             7\n",
       "                              Euro 6c             5\n",
       "Name: emission_class, dtype: int64"
      ]
     },
     "execution_count": 241,
     "metadata": {},
     "output_type": "execute_result"
    }
   ],
   "source": [
    "data.groupby(['model', 'first_registration'])[\"emission_class\"].value_counts()"
   ]
  },
  {
   "cell_type": "code",
   "execution_count": 242,
   "metadata": {},
   "outputs": [],
   "source": [
    "data[\"emission_class\"] = data[\"emission_class\"].fillna(data.groupby(['model', 'first_registration'])[\"emission_class\"].transform(lambda x: x.mode().iloc[0]))"
   ]
  },
  {
   "cell_type": "code",
   "execution_count": 243,
   "metadata": {},
   "outputs": [
    {
     "data": {
      "text/plain": [
       "Euro 6          12890\n",
       "Euro 6d-TEMP     2719\n",
       "Euro 6c           127\n",
       "Euro 5             78\n",
       "Euro 6d            62\n",
       "Euro 4             42\n",
       "Name: emission_class, dtype: int64"
      ]
     },
     "execution_count": 243,
     "metadata": {},
     "output_type": "execute_result"
    }
   ],
   "source": [
    "data[\"emission_class\"].value_counts()"
   ]
  },
  {
   "cell_type": "markdown",
   "metadata": {},
   "source": [
    "#### Handling the independent variables *Displacement*"
   ]
  },
  {
   "cell_type": "code",
   "execution_count": 244,
   "metadata": {},
   "outputs": [
    {
     "data": {
      "text/plain": [
       "15914    [\\n1,997 cc\\n]\n",
       "15915    [\\n1,798 cc\\n]\n",
       "15916    [\\n1,997 cc\\n]\n",
       "15917    [\\n1,997 cc\\n]\n",
       "15918    [\\n1,798 cc\\n]\n",
       "Name: Displacement, dtype: object"
      ]
     },
     "execution_count": 244,
     "metadata": {},
     "output_type": "execute_result"
    }
   ],
   "source": [
    "temp = raw_df[\"Displacement\"].copy()\n",
    "temp.tail()"
   ]
  },
  {
   "cell_type": "code",
   "execution_count": 245,
   "metadata": {},
   "outputs": [
    {
     "data": {
      "text/plain": [
       "496"
      ]
     },
     "execution_count": 245,
     "metadata": {},
     "output_type": "execute_result"
    }
   ],
   "source": [
    "temp.isnull().sum()"
   ]
  },
  {
   "cell_type": "code",
   "execution_count": 246,
   "metadata": {},
   "outputs": [],
   "source": [
    "temp = temp.apply(lambda x: ''.join(re.findall(\"[0-9]\", str(x))) if isinstance(x, list) else x)"
   ]
  },
  {
   "cell_type": "code",
   "execution_count": 247,
   "metadata": {},
   "outputs": [
    {
     "data": {
      "text/plain": [
       "496"
      ]
     },
     "execution_count": 247,
     "metadata": {},
     "output_type": "execute_result"
    }
   ],
   "source": [
    "temp.isnull().sum()"
   ]
  },
  {
   "cell_type": "code",
   "execution_count": 248,
   "metadata": {},
   "outputs": [
    {
     "data": {
      "text/plain": [
       "1598     4760\n",
       "999      2438\n",
       "1398     1314\n",
       "1399      749\n",
       "1229      677\n",
       "1956      670\n",
       "1461      595\n",
       "1490      559\n",
       "NaN       496\n",
       "1422      467\n",
       "1197      353\n",
       "898       351\n",
       "1395      320\n",
       "1968      301\n",
       "1149      288\n",
       "1618      212\n",
       "1798      210\n",
       "1498      196\n",
       "1600      130\n",
       "1248      110\n",
       "1997      103\n",
       "1364      102\n",
       "1400       90\n",
       "998        72\n",
       "1500       50\n",
       "2000       46\n",
       "1000       40\n",
       "1          36\n",
       "1998       25\n",
       "2480       20\n",
       "1200       18\n",
       "1984       18\n",
       "1397       11\n",
       "899        11\n",
       "160         6\n",
       "929         5\n",
       "1499        5\n",
       "997         4\n",
       "1596        4\n",
       "139         4\n",
       "900         4\n",
       "1599        3\n",
       "1199        3\n",
       "1396        3\n",
       "1495        2\n",
       "1589        2\n",
       "1300        2\n",
       "2           2\n",
       "995         2\n",
       "1496        1\n",
       "890         1\n",
       "1580        1\n",
       "1995        1\n",
       "1333        1\n",
       "54          1\n",
       "1533        1\n",
       "1100        1\n",
       "1350        1\n",
       "16000       1\n",
       "1856        1\n",
       "1568        1\n",
       "1896        1\n",
       "1584        1\n",
       "996         1\n",
       "1696        1\n",
       "1686        1\n",
       "15898       1\n",
       "1368        1\n",
       "140         1\n",
       "973         1\n",
       "1239        1\n",
       "1369        1\n",
       "1390        1\n",
       "122         1\n",
       "1198        1\n",
       "1195        1\n",
       "2967        1\n",
       "1800        1\n",
       "Name: Displacement, dtype: int64"
      ]
     },
     "execution_count": 248,
     "metadata": {},
     "output_type": "execute_result"
    }
   ],
   "source": [
    "temp.value_counts(dropna=False)"
   ]
  },
  {
   "cell_type": "code",
   "execution_count": 249,
   "metadata": {},
   "outputs": [],
   "source": [
    "data[\"displacement\"] = temp.copy()"
   ]
  },
  {
   "cell_type": "code",
   "execution_count": 250,
   "metadata": {},
   "outputs": [],
   "source": [
    "data[\"displacement\"] = data[\"displacement\"].fillna(data.groupby('model')[\"displacement\"].transform(lambda x: x.mode().iloc[0]))\n",
    "\n"
   ]
  },
  {
   "cell_type": "code",
   "execution_count": 251,
   "metadata": {},
   "outputs": [
    {
     "data": {
      "text/plain": [
       "1598     5062\n",
       "999      2467\n",
       "1398     1388\n",
       "1399      749\n",
       "1461      686\n",
       "1229      677\n",
       "1956      670\n",
       "1490      559\n",
       "1422      467\n",
       "1197      353\n",
       "898       351\n",
       "1395      320\n",
       "1968      301\n",
       "1149      288\n",
       "1618      212\n",
       "1798      210\n",
       "1498      196\n",
       "1600      130\n",
       "1248      110\n",
       "1997      103\n",
       "1364      102\n",
       "1400       90\n",
       "998        72\n",
       "1500       50\n",
       "2000       46\n",
       "1000       40\n",
       "1          36\n",
       "1998       25\n",
       "2480       20\n",
       "1200       18\n",
       "1984       18\n",
       "1397       11\n",
       "899        11\n",
       "160         6\n",
       "929         5\n",
       "1499        5\n",
       "997         4\n",
       "1596        4\n",
       "139         4\n",
       "900         4\n",
       "1599        3\n",
       "1199        3\n",
       "1396        3\n",
       "1495        2\n",
       "1589        2\n",
       "1300        2\n",
       "2           2\n",
       "995         2\n",
       "1496        1\n",
       "890         1\n",
       "1580        1\n",
       "1995        1\n",
       "1333        1\n",
       "54          1\n",
       "1533        1\n",
       "1100        1\n",
       "1350        1\n",
       "16000       1\n",
       "1856        1\n",
       "1568        1\n",
       "1896        1\n",
       "1584        1\n",
       "996         1\n",
       "1696        1\n",
       "1686        1\n",
       "15898       1\n",
       "1368        1\n",
       "140         1\n",
       "973         1\n",
       "1239        1\n",
       "1369        1\n",
       "1390        1\n",
       "122         1\n",
       "1198        1\n",
       "1195        1\n",
       "2967        1\n",
       "1800        1\n",
       "Name: displacement, dtype: int64"
      ]
     },
     "execution_count": 251,
     "metadata": {},
     "output_type": "execute_result"
    }
   ],
   "source": [
    "data[\"displacement\"].value_counts()"
   ]
  },
  {
   "cell_type": "code",
   "execution_count": 252,
   "metadata": {},
   "outputs": [],
   "source": [
    "data[\"displacement\"] = data[\"displacement\"].astype(int)"
   ]
  },
  {
   "cell_type": "code",
   "execution_count": 253,
   "metadata": {},
   "outputs": [
    {
     "data": {
      "image/png": "[encoded data removed]",
      "text/plain": [
       "<Figure size 432x288 with 1 Axes>"
      ]
     },
     "metadata": {
      "needs_background": "light"
     },
     "output_type": "display_data"
    }
   ],
   "source": [
    "data[\"displacement\"].plot();"
   ]
  },
  {
   "cell_type": "code",
   "execution_count": 254,
   "metadata": {},
   "outputs": [
    {
     "data": {
      "text/html": [
       "<div>\n",
       "<style scoped>\n",
       "    .dataframe tbody tr th:only-of-type {\n",
       "        vertical-align: middle;\n",
       "    }\n",
       "\n",
       "    .dataframe tbody tr th {\n",
       "        vertical-align: top;\n",
       "    }\n",
       "\n",
       "    .dataframe thead th {\n",
       "        text-align: right;\n",
       "    }\n",
       "</style>\n",
       "<table border=\"1\" class=\"dataframe\">\n",
       "  <thead>\n",
       "    <tr style=\"text-align: right;\">\n",
       "      <th></th>\n",
       "      <th>price</th>\n",
       "      <th>make</th>\n",
       "      <th>model</th>\n",
       "      <th>mileage</th>\n",
       "      <th>first_registration</th>\n",
       "      <th>age</th>\n",
       "      <th>power</th>\n",
       "      <th>prev_owner</th>\n",
       "      <th>vat</th>\n",
       "      <th>body_type</th>\n",
       "      <th>gear</th>\n",
       "      <th>nr_of_doors</th>\n",
       "      <th>nr_of_seats</th>\n",
       "      <th>cylinders</th>\n",
       "      <th>inspection_new</th>\n",
       "      <th>body_color</th>\n",
       "      <th>paint_type</th>\n",
       "      <th>fuel</th>\n",
       "      <th>type</th>\n",
       "      <th>emission_class</th>\n",
       "      <th>displacement</th>\n",
       "    </tr>\n",
       "  </thead>\n",
       "  <tbody>\n",
       "    <tr>\n",
       "      <th>7169</th>\n",
       "      <td>18490</td>\n",
       "      <td>Opel</td>\n",
       "      <td>Astra</td>\n",
       "      <td>22327</td>\n",
       "      <td>2018</td>\n",
       "      <td>1</td>\n",
       "      <td>100</td>\n",
       "      <td>1</td>\n",
       "      <td>VAT deductible</td>\n",
       "      <td>Station wagon</td>\n",
       "      <td>Automatic</td>\n",
       "      <td>5</td>\n",
       "      <td>5</td>\n",
       "      <td>4.0</td>\n",
       "      <td>Yes</td>\n",
       "      <td>other</td>\n",
       "      <td>Metallic</td>\n",
       "      <td>Benzine</td>\n",
       "      <td>Employee's car</td>\n",
       "      <td>Euro 6</td>\n",
       "      <td>15898</td>\n",
       "    </tr>\n",
       "    <tr>\n",
       "      <th>7809</th>\n",
       "      <td>23940</td>\n",
       "      <td>Opel</td>\n",
       "      <td>Astra</td>\n",
       "      <td>12</td>\n",
       "      <td>2019</td>\n",
       "      <td>0</td>\n",
       "      <td>110</td>\n",
       "      <td>0</td>\n",
       "      <td>VAT deductible</td>\n",
       "      <td>Sedans</td>\n",
       "      <td>Automatic</td>\n",
       "      <td>5</td>\n",
       "      <td>5</td>\n",
       "      <td>4.0</td>\n",
       "      <td>Yes</td>\n",
       "      <td>Black</td>\n",
       "      <td>Metallic</td>\n",
       "      <td>Benzine</td>\n",
       "      <td>Pre-registered</td>\n",
       "      <td>Euro 6d-TEMP</td>\n",
       "      <td>139</td>\n",
       "    </tr>\n",
       "    <tr>\n",
       "      <th>7810</th>\n",
       "      <td>23940</td>\n",
       "      <td>Opel</td>\n",
       "      <td>Astra</td>\n",
       "      <td>12</td>\n",
       "      <td>2019</td>\n",
       "      <td>0</td>\n",
       "      <td>110</td>\n",
       "      <td>0</td>\n",
       "      <td>VAT deductible</td>\n",
       "      <td>Sedans</td>\n",
       "      <td>Automatic</td>\n",
       "      <td>5</td>\n",
       "      <td>5</td>\n",
       "      <td>4.0</td>\n",
       "      <td>Yes</td>\n",
       "      <td>Silver</td>\n",
       "      <td>Metallic</td>\n",
       "      <td>Benzine</td>\n",
       "      <td>Pre-registered</td>\n",
       "      <td>Euro 6d-TEMP</td>\n",
       "      <td>139</td>\n",
       "    </tr>\n",
       "    <tr>\n",
       "      <th>7811</th>\n",
       "      <td>23940</td>\n",
       "      <td>Opel</td>\n",
       "      <td>Astra</td>\n",
       "      <td>12</td>\n",
       "      <td>2019</td>\n",
       "      <td>0</td>\n",
       "      <td>110</td>\n",
       "      <td>0</td>\n",
       "      <td>VAT deductible</td>\n",
       "      <td>Sedans</td>\n",
       "      <td>Automatic</td>\n",
       "      <td>5</td>\n",
       "      <td>5</td>\n",
       "      <td>4.0</td>\n",
       "      <td>Yes</td>\n",
       "      <td>Grey</td>\n",
       "      <td>Metallic</td>\n",
       "      <td>Benzine</td>\n",
       "      <td>Pre-registered</td>\n",
       "      <td>Euro 6d-TEMP</td>\n",
       "      <td>139</td>\n",
       "    </tr>\n",
       "    <tr>\n",
       "      <th>7812</th>\n",
       "      <td>23940</td>\n",
       "      <td>Opel</td>\n",
       "      <td>Astra</td>\n",
       "      <td>12</td>\n",
       "      <td>2019</td>\n",
       "      <td>0</td>\n",
       "      <td>110</td>\n",
       "      <td>0</td>\n",
       "      <td>VAT deductible</td>\n",
       "      <td>Sedans</td>\n",
       "      <td>Automatic</td>\n",
       "      <td>5</td>\n",
       "      <td>5</td>\n",
       "      <td>4.0</td>\n",
       "      <td>Yes</td>\n",
       "      <td>Blue</td>\n",
       "      <td>Metallic</td>\n",
       "      <td>Benzine</td>\n",
       "      <td>Pre-registered</td>\n",
       "      <td>Euro 6d-TEMP</td>\n",
       "      <td>139</td>\n",
       "    </tr>\n",
       "  </tbody>\n",
       "</table>\n",
       "</div>"
      ],
      "text/plain": [
       "      price  make  model  mileage  first_registration  age  power  prev_owner  \\\n",
       "7169  18490  Opel  Astra    22327                2018    1    100           1   \n",
       "7809  23940  Opel  Astra       12                2019    0    110           0   \n",
       "7810  23940  Opel  Astra       12                2019    0    110           0   \n",
       "7811  23940  Opel  Astra       12                2019    0    110           0   \n",
       "7812  23940  Opel  Astra       12                2019    0    110           0   \n",
       "\n",
       "                 vat      body_type       gear  nr_of_doors  nr_of_seats  \\\n",
       "7169  VAT deductible  Station wagon  Automatic            5            5   \n",
       "7809  VAT deductible         Sedans  Automatic            5            5   \n",
       "7810  VAT deductible         Sedans  Automatic            5            5   \n",
       "7811  VAT deductible         Sedans  Automatic            5            5   \n",
       "7812  VAT deductible         Sedans  Automatic            5            5   \n",
       "\n",
       "      cylinders inspection_new body_color paint_type     fuel            type  \\\n",
       "7169        4.0            Yes      other   Metallic  Benzine  Employee's car   \n",
       "7809        4.0            Yes      Black   Metallic  Benzine  Pre-registered   \n",
       "7810        4.0            Yes     Silver   Metallic  Benzine  Pre-registered   \n",
       "7811        4.0            Yes       Grey   Metallic  Benzine  Pre-registered   \n",
       "7812        4.0            Yes       Blue   Metallic  Benzine  Pre-registered   \n",
       "\n",
       "     emission_class  displacement  \n",
       "7169         Euro 6         15898  \n",
       "7809   Euro 6d-TEMP           139  \n",
       "7810   Euro 6d-TEMP           139  \n",
       "7811   Euro 6d-TEMP           139  \n",
       "7812   Euro 6d-TEMP           139  "
      ]
     },
     "execution_count": 254,
     "metadata": {},
     "output_type": "execute_result"
    }
   ],
   "source": [
    "data[(data.displacement > 2500) | (data.displacement < 800)].head()"
   ]
  },
  {
   "cell_type": "code",
   "execution_count": 255,
   "metadata": {},
   "outputs": [],
   "source": [
    "data.loc[(data.displacement > 2500) | (data.displacement < 800), \"displacement\"] = np.NaN"
   ]
  },
  {
   "cell_type": "code",
   "execution_count": 256,
   "metadata": {},
   "outputs": [
    {
     "data": {
      "text/plain": [
       "54"
      ]
     },
     "execution_count": 256,
     "metadata": {},
     "output_type": "execute_result"
    }
   ],
   "source": [
    "data.displacement.isnull().sum()"
   ]
  },
  {
   "cell_type": "code",
   "execution_count": 257,
   "metadata": {},
   "outputs": [],
   "source": [
    "data[\"displacement\"] = data[\"displacement\"].fillna(data.groupby('model')[\"displacement\"].transform(lambda x: x.mode().iloc[0]))\n"
   ]
  },
  {
   "cell_type": "code",
   "execution_count": 258,
   "metadata": {},
   "outputs": [
    {
     "data": {
      "image/png": "[encoded data removed]",
      "text/plain": [
       "<Figure size 432x288 with 1 Axes>"
      ]
     },
     "metadata": {
      "needs_background": "light"
     },
     "output_type": "display_data"
    }
   ],
   "source": [
    "data[\"displacement\"].plot();"
   ]
  },
  {
   "cell_type": "code",
   "execution_count": 259,
   "metadata": {},
   "outputs": [
    {
     "data": {
      "image/png": "[encoded data removed]",
      "text/plain": [
       "<Figure size 432x288 with 1 Axes>"
      ]
     },
     "metadata": {
      "needs_background": "light"
     },
     "output_type": "display_data"
    }
   ],
   "source": [
    "sns.boxplot(y=data.displacement);"
   ]
  },
  {
   "cell_type": "markdown",
   "metadata": {},
   "source": [
    "#### Handling the independent variables *Consumption*"
   ]
  },
  {
   "cell_type": "code",
   "execution_count": 260,
   "metadata": {},
   "outputs": [],
   "source": [
    "temp = raw_df[\"Consumption\"].copy()"
   ]
  },
  {
   "cell_type": "code",
   "execution_count": 261,
   "metadata": {},
   "outputs": [
    {
     "data": {
      "text/plain": [
       "15914    [[5.3 l/100 km (comb)], [6.2 l/100 km (city)],...\n",
       "15915    [\\n, 7.4 l/100 km (comb), \\n, 9.2 l/100 km (ci...\n",
       "15916    [[5.3 l/100 km (comb)], [6.2 l/100 km (city)],...\n",
       "15917    [[5.3 l/100 km (comb)], [6.2 l/100 km (city)],...\n",
       "15918    [[6.8 l/100 km (comb)], [8.7 l/100 km (city)],...\n",
       "Name: Consumption, dtype: object"
      ]
     },
     "execution_count": 261,
     "metadata": {},
     "output_type": "execute_result"
    }
   ],
   "source": [
    "temp.tail()"
   ]
  },
  {
   "cell_type": "code",
   "execution_count": 262,
   "metadata": {},
   "outputs": [
    {
     "data": {
      "text/plain": [
       "1906"
      ]
     },
     "execution_count": 262,
     "metadata": {},
     "output_type": "execute_result"
    }
   ],
   "source": [
    "temp.isnull().sum()"
   ]
  },
  {
   "cell_type": "code",
   "execution_count": 263,
   "metadata": {},
   "outputs": [],
   "source": [
    "temp = temp.apply(pd.Series)"
   ]
  },
  {
   "cell_type": "code",
   "execution_count": 264,
   "metadata": {},
   "outputs": [
    {
     "data": {
      "text/html": [
       "<div>\n",
       "<style scoped>\n",
       "    .dataframe tbody tr th:only-of-type {\n",
       "        vertical-align: middle;\n",
       "    }\n",
       "\n",
       "    .dataframe tbody tr th {\n",
       "        vertical-align: top;\n",
       "    }\n",
       "\n",
       "    .dataframe thead th {\n",
       "        text-align: right;\n",
       "    }\n",
       "</style>\n",
       "<table border=\"1\" class=\"dataframe\">\n",
       "  <thead>\n",
       "    <tr style=\"text-align: right;\">\n",
       "      <th></th>\n",
       "      <th>0</th>\n",
       "      <th>1</th>\n",
       "      <th>2</th>\n",
       "      <th>3</th>\n",
       "      <th>4</th>\n",
       "      <th>5</th>\n",
       "      <th>6</th>\n",
       "    </tr>\n",
       "  </thead>\n",
       "  <tbody>\n",
       "    <tr>\n",
       "      <th>0</th>\n",
       "      <td>[3.8 l/100 km (comb)]</td>\n",
       "      <td>[4.3 l/100 km (city)]</td>\n",
       "      <td>[3.5 l/100 km (country)]</td>\n",
       "      <td>NaN</td>\n",
       "      <td>NaN</td>\n",
       "      <td>NaN</td>\n",
       "      <td>NaN</td>\n",
       "    </tr>\n",
       "    <tr>\n",
       "      <th>1</th>\n",
       "      <td>[5.6 l/100 km (comb)]</td>\n",
       "      <td>[7.1 l/100 km (city)]</td>\n",
       "      <td>[4.7 l/100 km (country)]</td>\n",
       "      <td>NaN</td>\n",
       "      <td>NaN</td>\n",
       "      <td>NaN</td>\n",
       "      <td>NaN</td>\n",
       "    </tr>\n",
       "    <tr>\n",
       "      <th>2</th>\n",
       "      <td>[3.8 l/100 km (comb)]</td>\n",
       "      <td>[4.4 l/100 km (city)]</td>\n",
       "      <td>[3.4 l/100 km (country)]</td>\n",
       "      <td>NaN</td>\n",
       "      <td>NaN</td>\n",
       "      <td>NaN</td>\n",
       "      <td>NaN</td>\n",
       "    </tr>\n",
       "    <tr>\n",
       "      <th>3</th>\n",
       "      <td>[3.8 l/100 km (comb)]</td>\n",
       "      <td>[4.3 l/100 km (city)]</td>\n",
       "      <td>[3.5 l/100 km (country)]</td>\n",
       "      <td>NaN</td>\n",
       "      <td>NaN</td>\n",
       "      <td>NaN</td>\n",
       "      <td>NaN</td>\n",
       "    </tr>\n",
       "    <tr>\n",
       "      <th>4</th>\n",
       "      <td>[4.1 l/100 km (comb)]</td>\n",
       "      <td>[4.6 l/100 km (city)]</td>\n",
       "      <td>[3.8 l/100 km (country)]</td>\n",
       "      <td>NaN</td>\n",
       "      <td>NaN</td>\n",
       "      <td>NaN</td>\n",
       "      <td>NaN</td>\n",
       "    </tr>\n",
       "  </tbody>\n",
       "</table>\n",
       "</div>"
      ],
      "text/plain": [
       "                       0                      1                         2  \\\n",
       "0  [3.8 l/100 km (comb)]  [4.3 l/100 km (city)]  [3.5 l/100 km (country)]   \n",
       "1  [5.6 l/100 km (comb)]  [7.1 l/100 km (city)]  [4.7 l/100 km (country)]   \n",
       "2  [3.8 l/100 km (comb)]  [4.4 l/100 km (city)]  [3.4 l/100 km (country)]   \n",
       "3  [3.8 l/100 km (comb)]  [4.3 l/100 km (city)]  [3.5 l/100 km (country)]   \n",
       "4  [4.1 l/100 km (comb)]  [4.6 l/100 km (city)]  [3.8 l/100 km (country)]   \n",
       "\n",
       "     3    4    5    6  \n",
       "0  NaN  NaN  NaN  NaN  \n",
       "1  NaN  NaN  NaN  NaN  \n",
       "2  NaN  NaN  NaN  NaN  \n",
       "3  NaN  NaN  NaN  NaN  \n",
       "4  NaN  NaN  NaN  NaN  "
      ]
     },
     "execution_count": 264,
     "metadata": {},
     "output_type": "execute_result"
    }
   ],
   "source": [
    "temp.head()"
   ]
  },
  {
   "cell_type": "code",
   "execution_count": 265,
   "metadata": {},
   "outputs": [],
   "source": [
    "temp.columns = ['combined', 'city', 'col3', 'col4', 'col5', 'col6', 'col7']"
   ]
  },
  {
   "cell_type": "code",
   "execution_count": 266,
   "metadata": {},
   "outputs": [
    {
     "data": {
      "text/plain": [
       "Index(['combined', 'city', 'col3', 'col4', 'col5', 'col6', 'col7'], dtype='object')"
      ]
     },
     "execution_count": 266,
     "metadata": {},
     "output_type": "execute_result"
    }
   ],
   "source": [
    "temp.columns"
   ]
  },
  {
   "cell_type": "code",
   "execution_count": 267,
   "metadata": {},
   "outputs": [
    {
     "data": {
      "text/html": [
       "<div>\n",
       "<style scoped>\n",
       "    .dataframe tbody tr th:only-of-type {\n",
       "        vertical-align: middle;\n",
       "    }\n",
       "\n",
       "    .dataframe tbody tr th {\n",
       "        vertical-align: top;\n",
       "    }\n",
       "\n",
       "    .dataframe thead th {\n",
       "        text-align: right;\n",
       "    }\n",
       "</style>\n",
       "<table border=\"1\" class=\"dataframe\">\n",
       "  <thead>\n",
       "    <tr style=\"text-align: right;\">\n",
       "      <th></th>\n",
       "      <th>combined</th>\n",
       "      <th>city</th>\n",
       "      <th>col3</th>\n",
       "      <th>col4</th>\n",
       "      <th>col5</th>\n",
       "      <th>col6</th>\n",
       "      <th>col7</th>\n",
       "    </tr>\n",
       "  </thead>\n",
       "  <tbody>\n",
       "    <tr>\n",
       "      <th>15914</th>\n",
       "      <td>[5.3 l/100 km (comb)]</td>\n",
       "      <td>[6.2 l/100 km (city)]</td>\n",
       "      <td>[4.7 l/100 km (country)]</td>\n",
       "      <td>NaN</td>\n",
       "      <td>NaN</td>\n",
       "      <td>NaN</td>\n",
       "      <td>NaN</td>\n",
       "    </tr>\n",
       "    <tr>\n",
       "      <th>15915</th>\n",
       "      <td>\\n</td>\n",
       "      <td>7.4 l/100 km (comb)</td>\n",
       "      <td>\\n</td>\n",
       "      <td>9.2 l/100 km (city)</td>\n",
       "      <td>\\n</td>\n",
       "      <td>6.3 l/100 km (country)</td>\n",
       "      <td>\\n</td>\n",
       "    </tr>\n",
       "    <tr>\n",
       "      <th>15916</th>\n",
       "      <td>[5.3 l/100 km (comb)]</td>\n",
       "      <td>[6.2 l/100 km (city)]</td>\n",
       "      <td>[4.7 l/100 km (country)]</td>\n",
       "      <td>NaN</td>\n",
       "      <td>NaN</td>\n",
       "      <td>NaN</td>\n",
       "      <td>NaN</td>\n",
       "    </tr>\n",
       "    <tr>\n",
       "      <th>15917</th>\n",
       "      <td>[5.3 l/100 km (comb)]</td>\n",
       "      <td>[6.2 l/100 km (city)]</td>\n",
       "      <td>[4.7 l/100 km (country)]</td>\n",
       "      <td>NaN</td>\n",
       "      <td>NaN</td>\n",
       "      <td>NaN</td>\n",
       "      <td>NaN</td>\n",
       "    </tr>\n",
       "    <tr>\n",
       "      <th>15918</th>\n",
       "      <td>[6.8 l/100 km (comb)]</td>\n",
       "      <td>[8.7 l/100 km (city)]</td>\n",
       "      <td>[5.7 l/100 km (country)]</td>\n",
       "      <td>NaN</td>\n",
       "      <td>NaN</td>\n",
       "      <td>NaN</td>\n",
       "      <td>NaN</td>\n",
       "    </tr>\n",
       "  </tbody>\n",
       "</table>\n",
       "</div>"
      ],
      "text/plain": [
       "                    combined                   city                      col3  \\\n",
       "15914  [5.3 l/100 km (comb)]  [6.2 l/100 km (city)]  [4.7 l/100 km (country)]   \n",
       "15915                     \\n    7.4 l/100 km (comb)                        \\n   \n",
       "15916  [5.3 l/100 km (comb)]  [6.2 l/100 km (city)]  [4.7 l/100 km (country)]   \n",
       "15917  [5.3 l/100 km (comb)]  [6.2 l/100 km (city)]  [4.7 l/100 km (country)]   \n",
       "15918  [6.8 l/100 km (comb)]  [8.7 l/100 km (city)]  [5.7 l/100 km (country)]   \n",
       "\n",
       "                      col4 col5                    col6 col7  \n",
       "15914                  NaN  NaN                     NaN  NaN  \n",
       "15915  9.2 l/100 km (city)   \\n  6.3 l/100 km (country)   \\n  \n",
       "15916                  NaN  NaN                     NaN  NaN  \n",
       "15917                  NaN  NaN                     NaN  NaN  \n",
       "15918                  NaN  NaN                     NaN  NaN  "
      ]
     },
     "execution_count": 267,
     "metadata": {},
     "output_type": "execute_result"
    }
   ],
   "source": [
    "temp.tail()"
   ]
  },
  {
   "cell_type": "code",
   "execution_count": 268,
   "metadata": {},
   "outputs": [],
   "source": [
    "temp.loc[temp.combined == \"\\n\", 'combined'] = temp.city"
   ]
  },
  {
   "cell_type": "code",
   "execution_count": 269,
   "metadata": {},
   "outputs": [
    {
     "data": {
      "text/html": [
       "<div>\n",
       "<style scoped>\n",
       "    .dataframe tbody tr th:only-of-type {\n",
       "        vertical-align: middle;\n",
       "    }\n",
       "\n",
       "    .dataframe tbody tr th {\n",
       "        vertical-align: top;\n",
       "    }\n",
       "\n",
       "    .dataframe thead th {\n",
       "        text-align: right;\n",
       "    }\n",
       "</style>\n",
       "<table border=\"1\" class=\"dataframe\">\n",
       "  <thead>\n",
       "    <tr style=\"text-align: right;\">\n",
       "      <th></th>\n",
       "      <th>combined</th>\n",
       "      <th>city</th>\n",
       "      <th>col3</th>\n",
       "      <th>col4</th>\n",
       "      <th>col5</th>\n",
       "      <th>col6</th>\n",
       "      <th>col7</th>\n",
       "    </tr>\n",
       "  </thead>\n",
       "  <tbody>\n",
       "    <tr>\n",
       "      <th>15914</th>\n",
       "      <td>[5.3 l/100 km (comb)]</td>\n",
       "      <td>[6.2 l/100 km (city)]</td>\n",
       "      <td>[4.7 l/100 km (country)]</td>\n",
       "      <td>NaN</td>\n",
       "      <td>NaN</td>\n",
       "      <td>NaN</td>\n",
       "      <td>NaN</td>\n",
       "    </tr>\n",
       "    <tr>\n",
       "      <th>15915</th>\n",
       "      <td>7.4 l/100 km (comb)</td>\n",
       "      <td>7.4 l/100 km (comb)</td>\n",
       "      <td>\\n</td>\n",
       "      <td>9.2 l/100 km (city)</td>\n",
       "      <td>\\n</td>\n",
       "      <td>6.3 l/100 km (country)</td>\n",
       "      <td>\\n</td>\n",
       "    </tr>\n",
       "    <tr>\n",
       "      <th>15916</th>\n",
       "      <td>[5.3 l/100 km (comb)]</td>\n",
       "      <td>[6.2 l/100 km (city)]</td>\n",
       "      <td>[4.7 l/100 km (country)]</td>\n",
       "      <td>NaN</td>\n",
       "      <td>NaN</td>\n",
       "      <td>NaN</td>\n",
       "      <td>NaN</td>\n",
       "    </tr>\n",
       "    <tr>\n",
       "      <th>15917</th>\n",
       "      <td>[5.3 l/100 km (comb)]</td>\n",
       "      <td>[6.2 l/100 km (city)]</td>\n",
       "      <td>[4.7 l/100 km (country)]</td>\n",
       "      <td>NaN</td>\n",
       "      <td>NaN</td>\n",
       "      <td>NaN</td>\n",
       "      <td>NaN</td>\n",
       "    </tr>\n",
       "    <tr>\n",
       "      <th>15918</th>\n",
       "      <td>[6.8 l/100 km (comb)]</td>\n",
       "      <td>[8.7 l/100 km (city)]</td>\n",
       "      <td>[5.7 l/100 km (country)]</td>\n",
       "      <td>NaN</td>\n",
       "      <td>NaN</td>\n",
       "      <td>NaN</td>\n",
       "      <td>NaN</td>\n",
       "    </tr>\n",
       "  </tbody>\n",
       "</table>\n",
       "</div>"
      ],
      "text/plain": [
       "                    combined                   city                      col3  \\\n",
       "15914  [5.3 l/100 km (comb)]  [6.2 l/100 km (city)]  [4.7 l/100 km (country)]   \n",
       "15915    7.4 l/100 km (comb)    7.4 l/100 km (comb)                        \\n   \n",
       "15916  [5.3 l/100 km (comb)]  [6.2 l/100 km (city)]  [4.7 l/100 km (country)]   \n",
       "15917  [5.3 l/100 km (comb)]  [6.2 l/100 km (city)]  [4.7 l/100 km (country)]   \n",
       "15918  [6.8 l/100 km (comb)]  [8.7 l/100 km (city)]  [5.7 l/100 km (country)]   \n",
       "\n",
       "                      col4 col5                    col6 col7  \n",
       "15914                  NaN  NaN                     NaN  NaN  \n",
       "15915  9.2 l/100 km (city)   \\n  6.3 l/100 km (country)   \\n  \n",
       "15916                  NaN  NaN                     NaN  NaN  \n",
       "15917                  NaN  NaN                     NaN  NaN  \n",
       "15918                  NaN  NaN                     NaN  NaN  "
      ]
     },
     "execution_count": 269,
     "metadata": {},
     "output_type": "execute_result"
    }
   ],
   "source": [
    "temp.tail()"
   ]
  },
  {
   "cell_type": "code",
   "execution_count": 270,
   "metadata": {},
   "outputs": [
    {
     "data": {
      "text/plain": [
       "0    [3.8 l/100 km (comb)]\n",
       "1    [5.6 l/100 km (comb)]\n",
       "2    [3.8 l/100 km (comb)]\n",
       "3    [3.8 l/100 km (comb)]\n",
       "4    [4.1 l/100 km (comb)]\n",
       "Name: combined, dtype: object"
      ]
     },
     "execution_count": 270,
     "metadata": {},
     "output_type": "execute_result"
    }
   ],
   "source": [
    "temp = temp.combined\n",
    "temp.head()"
   ]
  },
  {
   "cell_type": "code",
   "execution_count": 271,
   "metadata": {},
   "outputs": [],
   "source": [
    "temp = temp.apply(pd.Series)"
   ]
  },
  {
   "cell_type": "code",
   "execution_count": 272,
   "metadata": {},
   "outputs": [
    {
     "data": {
      "text/html": [
       "<div>\n",
       "<style scoped>\n",
       "    .dataframe tbody tr th:only-of-type {\n",
       "        vertical-align: middle;\n",
       "    }\n",
       "\n",
       "    .dataframe tbody tr th {\n",
       "        vertical-align: top;\n",
       "    }\n",
       "\n",
       "    .dataframe thead th {\n",
       "        text-align: right;\n",
       "    }\n",
       "</style>\n",
       "<table border=\"1\" class=\"dataframe\">\n",
       "  <thead>\n",
       "    <tr style=\"text-align: right;\">\n",
       "      <th></th>\n",
       "      <th>0</th>\n",
       "    </tr>\n",
       "  </thead>\n",
       "  <tbody>\n",
       "    <tr>\n",
       "      <th>15914</th>\n",
       "      <td>5.3 l/100 km (comb)</td>\n",
       "    </tr>\n",
       "    <tr>\n",
       "      <th>15915</th>\n",
       "      <td>7.4 l/100 km (comb)</td>\n",
       "    </tr>\n",
       "    <tr>\n",
       "      <th>15916</th>\n",
       "      <td>5.3 l/100 km (comb)</td>\n",
       "    </tr>\n",
       "    <tr>\n",
       "      <th>15917</th>\n",
       "      <td>5.3 l/100 km (comb)</td>\n",
       "    </tr>\n",
       "    <tr>\n",
       "      <th>15918</th>\n",
       "      <td>6.8 l/100 km (comb)</td>\n",
       "    </tr>\n",
       "  </tbody>\n",
       "</table>\n",
       "</div>"
      ],
      "text/plain": [
       "                         0\n",
       "15914  5.3 l/100 km (comb)\n",
       "15915  7.4 l/100 km (comb)\n",
       "15916  5.3 l/100 km (comb)\n",
       "15917  5.3 l/100 km (comb)\n",
       "15918  6.8 l/100 km (comb)"
      ]
     },
     "execution_count": 272,
     "metadata": {},
     "output_type": "execute_result"
    }
   ],
   "source": [
    "temp.tail()"
   ]
  },
  {
   "cell_type": "code",
   "execution_count": 273,
   "metadata": {},
   "outputs": [],
   "source": [
    "data[\"consumption\"] = temp.copy()"
   ]
  },
  {
   "cell_type": "code",
   "execution_count": 274,
   "metadata": {},
   "outputs": [
    {
     "data": {
      "text/html": [
       "<div>\n",
       "<style scoped>\n",
       "    .dataframe tbody tr th:only-of-type {\n",
       "        vertical-align: middle;\n",
       "    }\n",
       "\n",
       "    .dataframe tbody tr th {\n",
       "        vertical-align: top;\n",
       "    }\n",
       "\n",
       "    .dataframe thead th {\n",
       "        text-align: right;\n",
       "    }\n",
       "</style>\n",
       "<table border=\"1\" class=\"dataframe\">\n",
       "  <thead>\n",
       "    <tr style=\"text-align: right;\">\n",
       "      <th></th>\n",
       "      <th>price</th>\n",
       "      <th>make</th>\n",
       "      <th>model</th>\n",
       "      <th>mileage</th>\n",
       "      <th>first_registration</th>\n",
       "      <th>age</th>\n",
       "      <th>power</th>\n",
       "      <th>prev_owner</th>\n",
       "      <th>vat</th>\n",
       "      <th>body_type</th>\n",
       "      <th>gear</th>\n",
       "      <th>nr_of_doors</th>\n",
       "      <th>nr_of_seats</th>\n",
       "      <th>cylinders</th>\n",
       "      <th>inspection_new</th>\n",
       "      <th>body_color</th>\n",
       "      <th>paint_type</th>\n",
       "      <th>fuel</th>\n",
       "      <th>type</th>\n",
       "      <th>emission_class</th>\n",
       "      <th>displacement</th>\n",
       "      <th>consumption</th>\n",
       "    </tr>\n",
       "  </thead>\n",
       "  <tbody>\n",
       "    <tr>\n",
       "      <th>15914</th>\n",
       "      <td>39950</td>\n",
       "      <td>Renault</td>\n",
       "      <td>Espace</td>\n",
       "      <td>0</td>\n",
       "      <td>2019</td>\n",
       "      <td>0</td>\n",
       "      <td>147</td>\n",
       "      <td>0</td>\n",
       "      <td>VAT deductible</td>\n",
       "      <td>Van</td>\n",
       "      <td>Automatic</td>\n",
       "      <td>5</td>\n",
       "      <td>5</td>\n",
       "      <td>4.0</td>\n",
       "      <td>No</td>\n",
       "      <td>Grey</td>\n",
       "      <td>Metallic</td>\n",
       "      <td>Diesel</td>\n",
       "      <td>New</td>\n",
       "      <td>Euro 6</td>\n",
       "      <td>1997.0</td>\n",
       "      <td>5.3 l/100 km (comb)</td>\n",
       "    </tr>\n",
       "    <tr>\n",
       "      <th>15915</th>\n",
       "      <td>39885</td>\n",
       "      <td>Renault</td>\n",
       "      <td>Espace</td>\n",
       "      <td>9900</td>\n",
       "      <td>2019</td>\n",
       "      <td>0</td>\n",
       "      <td>165</td>\n",
       "      <td>1</td>\n",
       "      <td>VAT deductible</td>\n",
       "      <td>Van</td>\n",
       "      <td>Automatic</td>\n",
       "      <td>5</td>\n",
       "      <td>5</td>\n",
       "      <td>4.0</td>\n",
       "      <td>No</td>\n",
       "      <td>Grey</td>\n",
       "      <td>Metallic</td>\n",
       "      <td>Benzine</td>\n",
       "      <td>Used</td>\n",
       "      <td>Euro 6</td>\n",
       "      <td>1798.0</td>\n",
       "      <td>7.4 l/100 km (comb)</td>\n",
       "    </tr>\n",
       "    <tr>\n",
       "      <th>15916</th>\n",
       "      <td>39875</td>\n",
       "      <td>Renault</td>\n",
       "      <td>Espace</td>\n",
       "      <td>15</td>\n",
       "      <td>2019</td>\n",
       "      <td>0</td>\n",
       "      <td>146</td>\n",
       "      <td>1</td>\n",
       "      <td>VAT deductible</td>\n",
       "      <td>Van</td>\n",
       "      <td>Automatic</td>\n",
       "      <td>5</td>\n",
       "      <td>7</td>\n",
       "      <td>4.0</td>\n",
       "      <td>Yes</td>\n",
       "      <td>White</td>\n",
       "      <td>Metallic</td>\n",
       "      <td>Diesel</td>\n",
       "      <td>Pre-registered</td>\n",
       "      <td>Euro 6d-TEMP</td>\n",
       "      <td>1997.0</td>\n",
       "      <td>5.3 l/100 km (comb)</td>\n",
       "    </tr>\n",
       "    <tr>\n",
       "      <th>15917</th>\n",
       "      <td>39700</td>\n",
       "      <td>Renault</td>\n",
       "      <td>Espace</td>\n",
       "      <td>10</td>\n",
       "      <td>2019</td>\n",
       "      <td>0</td>\n",
       "      <td>147</td>\n",
       "      <td>0</td>\n",
       "      <td>VAT deductible</td>\n",
       "      <td>Van</td>\n",
       "      <td>Automatic</td>\n",
       "      <td>5</td>\n",
       "      <td>7</td>\n",
       "      <td>4.0</td>\n",
       "      <td>No</td>\n",
       "      <td>Grey</td>\n",
       "      <td>Metallic</td>\n",
       "      <td>Diesel</td>\n",
       "      <td>Pre-registered</td>\n",
       "      <td>Euro 6</td>\n",
       "      <td>1997.0</td>\n",
       "      <td>5.3 l/100 km (comb)</td>\n",
       "    </tr>\n",
       "    <tr>\n",
       "      <th>15918</th>\n",
       "      <td>40999</td>\n",
       "      <td>Renault</td>\n",
       "      <td>Espace</td>\n",
       "      <td>0</td>\n",
       "      <td>2019</td>\n",
       "      <td>0</td>\n",
       "      <td>165</td>\n",
       "      <td>1</td>\n",
       "      <td>VAT deductible</td>\n",
       "      <td>Van</td>\n",
       "      <td>Automatic</td>\n",
       "      <td>5</td>\n",
       "      <td>5</td>\n",
       "      <td>4.0</td>\n",
       "      <td>Yes</td>\n",
       "      <td>Grey</td>\n",
       "      <td>Metallic</td>\n",
       "      <td>Benzine</td>\n",
       "      <td>Demonstration</td>\n",
       "      <td>Euro 6</td>\n",
       "      <td>1798.0</td>\n",
       "      <td>6.8 l/100 km (comb)</td>\n",
       "    </tr>\n",
       "  </tbody>\n",
       "</table>\n",
       "</div>"
      ],
      "text/plain": [
       "       price     make   model  mileage  first_registration  age  power  \\\n",
       "15914  39950  Renault  Espace        0                2019    0    147   \n",
       "15915  39885  Renault  Espace     9900                2019    0    165   \n",
       "15916  39875  Renault  Espace       15                2019    0    146   \n",
       "15917  39700  Renault  Espace       10                2019    0    147   \n",
       "15918  40999  Renault  Espace        0                2019    0    165   \n",
       "\n",
       "       prev_owner             vat body_type       gear  nr_of_doors  \\\n",
       "15914           0  VAT deductible       Van  Automatic            5   \n",
       "15915           1  VAT deductible       Van  Automatic            5   \n",
       "15916           1  VAT deductible       Van  Automatic            5   \n",
       "15917           0  VAT deductible       Van  Automatic            5   \n",
       "15918           1  VAT deductible       Van  Automatic            5   \n",
       "\n",
       "       nr_of_seats  cylinders inspection_new body_color paint_type     fuel  \\\n",
       "15914            5        4.0             No       Grey   Metallic   Diesel   \n",
       "15915            5        4.0             No       Grey   Metallic  Benzine   \n",
       "15916            7        4.0            Yes      White   Metallic   Diesel   \n",
       "15917            7        4.0             No       Grey   Metallic   Diesel   \n",
       "15918            5        4.0            Yes       Grey   Metallic  Benzine   \n",
       "\n",
       "                 type emission_class  displacement          consumption  \n",
       "15914             New         Euro 6        1997.0  5.3 l/100 km (comb)  \n",
       "15915            Used         Euro 6        1798.0  7.4 l/100 km (comb)  \n",
       "15916  Pre-registered   Euro 6d-TEMP        1997.0  5.3 l/100 km (comb)  \n",
       "15917  Pre-registered         Euro 6        1997.0  5.3 l/100 km (comb)  \n",
       "15918   Demonstration         Euro 6        1798.0  6.8 l/100 km (comb)  "
      ]
     },
     "execution_count": 274,
     "metadata": {},
     "output_type": "execute_result"
    }
   ],
   "source": [
    "data.tail()"
   ]
  },
  {
   "cell_type": "code",
   "execution_count": 275,
   "metadata": {},
   "outputs": [],
   "source": [
    "data.loc[~data[\"consumption\"].isnull(), \"consumption\"]= data.consumption.apply(lambda x: float(str(x).split()[0]))"
   ]
  },
  {
   "cell_type": "code",
   "execution_count": 276,
   "metadata": {},
   "outputs": [
    {
     "data": {
      "text/plain": [
       "NaN     2033\n",
       "5.4      770\n",
       "3.9      733\n",
       "4.0      713\n",
       "5.1      657\n",
       "4.4      623\n",
       "5.6      618\n",
       "4.7      602\n",
       "3.8      585\n",
       "4.8      546\n",
       "5.0      545\n",
       "4.5      523\n",
       "5.2      454\n",
       "4.2      435\n",
       "4.6      426\n",
       "4.9      392\n",
       "5.5      380\n",
       "5.3      380\n",
       "3.7      369\n",
       "5.9      369\n",
       "4.1      342\n",
       "5.7      342\n",
       "6.0      331\n",
       "4.3      307\n",
       "3.3      307\n",
       "3.5      288\n",
       "6.2      216\n",
       "3.6      194\n",
       "6.3      181\n",
       "6.1      175\n",
       "5.8      164\n",
       "6.6      148\n",
       "6.8      136\n",
       "3.4      106\n",
       "6.4       75\n",
       "3.0       69\n",
       "7.4       66\n",
       "6.5       43\n",
       "6.7       43\n",
       "7.1       38\n",
       "10.0      34\n",
       "6.9       27\n",
       "3.2       25\n",
       "8.3       20\n",
       "7.6       14\n",
       "7.0       10\n",
       "3.1        7\n",
       "7.2        6\n",
       "7.8        6\n",
       "8.0        5\n",
       "51.0       4\n",
       "8.6        4\n",
       "7.9        3\n",
       "8.7        3\n",
       "1.6        3\n",
       "7.3        2\n",
       "8.1        2\n",
       "40.0       2\n",
       "38.0       2\n",
       "0.0        2\n",
       "9.1        1\n",
       "43.0       1\n",
       "7.5        1\n",
       "13.8       1\n",
       "55.0       1\n",
       "54.0       1\n",
       "1.2        1\n",
       "32.0       1\n",
       "33.0       1\n",
       "50.0       1\n",
       "1.0        1\n",
       "46.0       1\n",
       "11.0       1\n",
       "Name: consumption, dtype: int64"
      ]
     },
     "execution_count": 276,
     "metadata": {},
     "output_type": "execute_result"
    }
   ],
   "source": [
    "data.consumption.value_counts(dropna=False)"
   ]
  },
  {
   "cell_type": "code",
   "execution_count": 277,
   "metadata": {},
   "outputs": [
    {
     "data": {
      "image/png": "[encoded data removed]",
      "text/plain": [
       "<Figure size 432x288 with 1 Axes>"
      ]
     },
     "metadata": {
      "needs_background": "light"
     },
     "output_type": "display_data"
    }
   ],
   "source": [
    "sns.boxplot(y=data.consumption);"
   ]
  },
  {
   "cell_type": "code",
   "execution_count": 278,
   "metadata": {},
   "outputs": [
    {
     "data": {
      "text/html": [
       "<div>\n",
       "<style scoped>\n",
       "    .dataframe tbody tr th:only-of-type {\n",
       "        vertical-align: middle;\n",
       "    }\n",
       "\n",
       "    .dataframe tbody tr th {\n",
       "        vertical-align: top;\n",
       "    }\n",
       "\n",
       "    .dataframe thead th {\n",
       "        text-align: right;\n",
       "    }\n",
       "</style>\n",
       "<table border=\"1\" class=\"dataframe\">\n",
       "  <thead>\n",
       "    <tr style=\"text-align: right;\">\n",
       "      <th></th>\n",
       "      <th>price</th>\n",
       "      <th>make</th>\n",
       "      <th>model</th>\n",
       "      <th>mileage</th>\n",
       "      <th>first_registration</th>\n",
       "      <th>age</th>\n",
       "      <th>power</th>\n",
       "      <th>prev_owner</th>\n",
       "      <th>vat</th>\n",
       "      <th>body_type</th>\n",
       "      <th>gear</th>\n",
       "      <th>nr_of_doors</th>\n",
       "      <th>nr_of_seats</th>\n",
       "      <th>cylinders</th>\n",
       "      <th>inspection_new</th>\n",
       "      <th>body_color</th>\n",
       "      <th>paint_type</th>\n",
       "      <th>fuel</th>\n",
       "      <th>type</th>\n",
       "      <th>emission_class</th>\n",
       "      <th>displacement</th>\n",
       "      <th>consumption</th>\n",
       "    </tr>\n",
       "  </thead>\n",
       "  <tbody>\n",
       "    <tr>\n",
       "      <th>14131</th>\n",
       "      <td>9990</td>\n",
       "      <td>Renault</td>\n",
       "      <td>Clio</td>\n",
       "      <td>68652</td>\n",
       "      <td>2017</td>\n",
       "      <td>2</td>\n",
       "      <td>66</td>\n",
       "      <td>1</td>\n",
       "      <td>VAT deductible</td>\n",
       "      <td>Sedans</td>\n",
       "      <td>Manual</td>\n",
       "      <td>5</td>\n",
       "      <td>5</td>\n",
       "      <td>4.0</td>\n",
       "      <td>No</td>\n",
       "      <td>Grey</td>\n",
       "      <td>Metallic</td>\n",
       "      <td>Diesel</td>\n",
       "      <td>Used</td>\n",
       "      <td>Euro 6</td>\n",
       "      <td>1461.0</td>\n",
       "      <td>32.0</td>\n",
       "    </tr>\n",
       "  </tbody>\n",
       "</table>\n",
       "</div>"
      ],
      "text/plain": [
       "       price     make model  mileage  first_registration  age  power  \\\n",
       "14131   9990  Renault  Clio    68652                2017    2     66   \n",
       "\n",
       "       prev_owner             vat body_type    gear  nr_of_doors  nr_of_seats  \\\n",
       "14131           1  VAT deductible    Sedans  Manual            5            5   \n",
       "\n",
       "       cylinders inspection_new body_color paint_type    fuel  type  \\\n",
       "14131        4.0             No       Grey   Metallic  Diesel  Used   \n",
       "\n",
       "      emission_class  displacement consumption  \n",
       "14131         Euro 6        1461.0        32.0  "
      ]
     },
     "execution_count": 278,
     "metadata": {},
     "output_type": "execute_result"
    }
   ],
   "source": [
    "data[data.consumption == 32]"
   ]
  },
  {
   "cell_type": "code",
   "execution_count": 279,
   "metadata": {},
   "outputs": [
    {
     "data": {
      "text/html": [
       "<div>\n",
       "<style scoped>\n",
       "    .dataframe tbody tr th:only-of-type {\n",
       "        vertical-align: middle;\n",
       "    }\n",
       "\n",
       "    .dataframe tbody tr th {\n",
       "        vertical-align: top;\n",
       "    }\n",
       "\n",
       "    .dataframe thead th {\n",
       "        text-align: right;\n",
       "    }\n",
       "</style>\n",
       "<table border=\"1\" class=\"dataframe\">\n",
       "  <thead>\n",
       "    <tr style=\"text-align: right;\">\n",
       "      <th></th>\n",
       "      <th>price</th>\n",
       "      <th>make</th>\n",
       "      <th>model</th>\n",
       "      <th>mileage</th>\n",
       "      <th>first_registration</th>\n",
       "      <th>age</th>\n",
       "      <th>power</th>\n",
       "      <th>prev_owner</th>\n",
       "      <th>vat</th>\n",
       "      <th>body_type</th>\n",
       "      <th>gear</th>\n",
       "      <th>nr_of_doors</th>\n",
       "      <th>nr_of_seats</th>\n",
       "      <th>cylinders</th>\n",
       "      <th>inspection_new</th>\n",
       "      <th>body_color</th>\n",
       "      <th>paint_type</th>\n",
       "      <th>fuel</th>\n",
       "      <th>type</th>\n",
       "      <th>emission_class</th>\n",
       "      <th>displacement</th>\n",
       "      <th>consumption</th>\n",
       "    </tr>\n",
       "  </thead>\n",
       "  <tbody>\n",
       "    <tr>\n",
       "      <th>10513</th>\n",
       "      <td>17990</td>\n",
       "      <td>Opel</td>\n",
       "      <td>Insignia</td>\n",
       "      <td>145000</td>\n",
       "      <td>2016</td>\n",
       "      <td>3</td>\n",
       "      <td>239</td>\n",
       "      <td>1</td>\n",
       "      <td>VAT deductible</td>\n",
       "      <td>Station wagon</td>\n",
       "      <td>Automatic</td>\n",
       "      <td>4</td>\n",
       "      <td>5</td>\n",
       "      <td>4.0</td>\n",
       "      <td>No</td>\n",
       "      <td>Red</td>\n",
       "      <td>Metallic</td>\n",
       "      <td>Benzine</td>\n",
       "      <td>Used</td>\n",
       "      <td>Euro 6</td>\n",
       "      <td>1598.0</td>\n",
       "      <td>11.0</td>\n",
       "    </tr>\n",
       "  </tbody>\n",
       "</table>\n",
       "</div>"
      ],
      "text/plain": [
       "       price  make     model  mileage  first_registration  age  power  \\\n",
       "10513  17990  Opel  Insignia   145000                2016    3    239   \n",
       "\n",
       "       prev_owner             vat      body_type       gear  nr_of_doors  \\\n",
       "10513           1  VAT deductible  Station wagon  Automatic            4   \n",
       "\n",
       "       nr_of_seats  cylinders inspection_new body_color paint_type     fuel  \\\n",
       "10513            5        4.0             No        Red   Metallic  Benzine   \n",
       "\n",
       "       type emission_class  displacement consumption  \n",
       "10513  Used         Euro 6        1598.0        11.0  "
      ]
     },
     "execution_count": 279,
     "metadata": {},
     "output_type": "execute_result"
    }
   ],
   "source": [
    "data[data.consumption == 11]"
   ]
  },
  {
   "cell_type": "code",
   "execution_count": 280,
   "metadata": {},
   "outputs": [
    {
     "data": {
      "text/plain": [
       "model     first_registration\n",
       "A1        2016                  4.196068\n",
       "          2017                  4.242037\n",
       "          2018                  4.213833\n",
       "          2019                  5.013690\n",
       "A3        2016                  4.170283\n",
       "          2017                  4.183687\n",
       "          2018                  4.419152\n",
       "          2019                  4.729237\n",
       "Astra     2016                  4.247045\n",
       "          2017                  4.221512\n",
       "          2018                  4.820063\n",
       "          2019                  5.356460\n",
       "Clio      2016                  4.233431\n",
       "          2017                  4.664873\n",
       "          2018                  5.165936\n",
       "          2019                  5.086704\n",
       "Corsa     2016                  5.017877\n",
       "          2017                  5.222289\n",
       "          2018                  5.467940\n",
       "          2019                  5.920441\n",
       "Duster    2019                  9.727273\n",
       "Espace    2016                  4.795349\n",
       "          2017                  5.499270\n",
       "          2018                  5.499457\n",
       "          2019                  6.137339\n",
       "Insignia  2016                  4.918047\n",
       "          2017                  5.011349\n",
       "          2018                  5.639545\n",
       "          2019                  5.850594\n",
       "Name: consumption, dtype: float64"
      ]
     },
     "execution_count": 280,
     "metadata": {},
     "output_type": "execute_result"
    }
   ],
   "source": [
    "data.groupby([\"model\", \"first_registration\"])[\"consumption\"].mean()"
   ]
  },
  {
   "cell_type": "code",
   "execution_count": 281,
   "metadata": {},
   "outputs": [],
   "source": [
    "data.loc[(data.consumption > 10) | (data.consumption < 4), \"consumption\" ] = np.NaN"
   ]
  },
  {
   "cell_type": "code",
   "execution_count": 282,
   "metadata": {},
   "outputs": [],
   "source": [
    "data[\"consumption\"] = data[\"consumption\"].fillna(data.groupby([\"model\", \"first_registration\"])[\"consumption\"].transform(lambda x: x.mode().iloc[0]))"
   ]
  },
  {
   "cell_type": "code",
   "execution_count": 283,
   "metadata": {},
   "outputs": [
    {
     "data": {
      "text/plain": [
       "5.4     2124\n",
       "4.0     1698\n",
       "5.1     1043\n",
       "4.7      885\n",
       "4.4      871\n",
       "4.2      870\n",
       "4.5      834\n",
       "5.6      618\n",
       "5.0      615\n",
       "4.8      598\n",
       "5.2      540\n",
       "4.3      494\n",
       "5.7      450\n",
       "5.3      446\n",
       "4.6      426\n",
       "4.9      392\n",
       "5.5      380\n",
       "5.9      369\n",
       "4.1      342\n",
       "6.0      331\n",
       "6.1      261\n",
       "6.3      224\n",
       "6.2      216\n",
       "5.8      164\n",
       "6.6      148\n",
       "6.8      136\n",
       "7.4      104\n",
       "6.4       75\n",
       "6.5       43\n",
       "6.7       43\n",
       "7.1       38\n",
       "10.0      36\n",
       "6.9       27\n",
       "8.3       20\n",
       "7.6       14\n",
       "7.0       10\n",
       "7.8        6\n",
       "7.2        6\n",
       "8.0        5\n",
       "8.6        4\n",
       "8.7        3\n",
       "7.9        3\n",
       "7.3        2\n",
       "8.1        2\n",
       "7.5        1\n",
       "9.1        1\n",
       "Name: consumption, dtype: int64"
      ]
     },
     "execution_count": 283,
     "metadata": {},
     "output_type": "execute_result"
    }
   ],
   "source": [
    "data[\"consumption\"].value_counts(dropna=False)"
   ]
  },
  {
   "cell_type": "code",
   "execution_count": 284,
   "metadata": {},
   "outputs": [
    {
     "data": {
      "image/png": "[encoded data removed]",
      "text/plain": [
       "<Figure size 432x288 with 1 Axes>"
      ]
     },
     "metadata": {
      "needs_background": "light"
     },
     "output_type": "display_data"
    }
   ],
   "source": [
    "sns.boxplot(y=data.consumption);"
   ]
  },
  {
   "cell_type": "code",
   "execution_count": 285,
   "metadata": {},
   "outputs": [
    {
     "data": {
      "text/plain": [
       "<bound method DataFrame.info of        price     make   model  mileage  first_registration  age  power  \\\n",
       "0      15770     Audi      A1    56013                2016    3     66   \n",
       "1      14500     Audi      A1    80000                2017    2    141   \n",
       "2      14640     Audi      A1    83450                2016    3     85   \n",
       "3      14500     Audi      A1    73000                2016    3     66   \n",
       "4      16790     Audi      A1    16200                2016    3     66   \n",
       "...      ...      ...     ...      ...                 ...  ...    ...   \n",
       "15914  39950  Renault  Espace        0                2019    0    147   \n",
       "15915  39885  Renault  Espace     9900                2019    0    165   \n",
       "15916  39875  Renault  Espace       15                2019    0    146   \n",
       "15917  39700  Renault  Espace       10                2019    0    147   \n",
       "15918  40999  Renault  Espace        0                2019    0    165   \n",
       "\n",
       "       prev_owner               vat body_type       gear  nr_of_doors  \\\n",
       "0               2    VAT deductible    Sedans  Automatic            5   \n",
       "1               1  Price negotiable    Sedans  Automatic            3   \n",
       "2               1    VAT deductible    Sedans  Automatic            4   \n",
       "3               1    VAT deductible    Sedans  Automatic            3   \n",
       "4               1    VAT deductible    Sedans  Automatic            5   \n",
       "...           ...               ...       ...        ...          ...   \n",
       "15914           0    VAT deductible       Van  Automatic            5   \n",
       "15915           1    VAT deductible       Van  Automatic            5   \n",
       "15916           1    VAT deductible       Van  Automatic            5   \n",
       "15917           0    VAT deductible       Van  Automatic            5   \n",
       "15918           1    VAT deductible       Van  Automatic            5   \n",
       "\n",
       "       nr_of_seats  cylinders inspection_new body_color paint_type     fuel  \\\n",
       "0                5        3.0            Yes      Black   Metallic   Diesel   \n",
       "1                4        4.0             No        Red   Metallic  Benzine   \n",
       "2                4        3.0             No      Black   Metallic   Diesel   \n",
       "3                4        3.0             No      other   Metallic   Diesel   \n",
       "4                5        3.0            Yes      Black   Metallic   Diesel   \n",
       "...            ...        ...            ...        ...        ...      ...   \n",
       "15914            5        4.0             No       Grey   Metallic   Diesel   \n",
       "15915            5        4.0             No       Grey   Metallic  Benzine   \n",
       "15916            7        4.0            Yes      White   Metallic   Diesel   \n",
       "15917            7        4.0             No       Grey   Metallic   Diesel   \n",
       "15918            5        4.0            Yes       Grey   Metallic  Benzine   \n",
       "\n",
       "                 type emission_class  displacement  consumption  \n",
       "0                Used         Euro 6        1422.0          4.2  \n",
       "1                Used         Euro 6        1798.0          5.6  \n",
       "2                Used         Euro 6        1598.0          4.2  \n",
       "3                Used         Euro 6        1422.0          4.2  \n",
       "4                Used         Euro 6        1422.0          4.1  \n",
       "...               ...            ...           ...          ...  \n",
       "15914             New         Euro 6        1997.0          5.3  \n",
       "15915            Used         Euro 6        1798.0          7.4  \n",
       "15916  Pre-registered   Euro 6d-TEMP        1997.0          5.3  \n",
       "15917  Pre-registered         Euro 6        1997.0          5.3  \n",
       "15918   Demonstration         Euro 6        1798.0          6.8  \n",
       "\n",
       "[15918 rows x 22 columns]>"
      ]
     },
     "execution_count": 285,
     "metadata": {},
     "output_type": "execute_result"
    }
   ],
   "source": [
    "data.info"
   ]
  },
  {
   "cell_type": "code",
   "execution_count": null,
   "metadata": {},
   "outputs": [],
   "source": []
  },
  {
   "cell_type": "markdown",
   "metadata": {},
   "source": [
    "#### Handling the independent variables *CO2 emission*"
   ]
  },
  {
   "cell_type": "code",
   "execution_count": 286,
   "metadata": {},
   "outputs": [
    {
     "data": {
      "text/plain": [
       "1807"
      ]
     },
     "execution_count": 286,
     "metadata": {},
     "output_type": "execute_result"
    }
   ],
   "source": [
    "temp = raw_df[\"CO2 Emission\"].copy()\n",
    "temp.isnull().sum()"
   ]
  },
  {
   "cell_type": "code",
   "execution_count": 287,
   "metadata": {
    "scrolled": true
   },
   "outputs": [
    {
     "data": {
      "text/plain": [
       "'\\n153 g CO2/km (comb)\\n'"
      ]
     },
     "execution_count": 287,
     "metadata": {},
     "output_type": "execute_result"
    }
   ],
   "source": [
    "temp.iloc[15909][0]#.split()[0].replace(\",\", \"\")"
   ]
  },
  {
   "cell_type": "code",
   "execution_count": 288,
   "metadata": {},
   "outputs": [
    {
     "data": {
      "text/plain": [
       "'153'"
      ]
     },
     "execution_count": 288,
     "metadata": {},
     "output_type": "execute_result"
    }
   ],
   "source": [
    "'\\n153 g CO2/km (comb)\\n'.split()[0].replace(\",\", \"\")"
   ]
  },
  {
   "cell_type": "code",
   "execution_count": 289,
   "metadata": {},
   "outputs": [],
   "source": [
    "temp = temp.apply(lambda x: str(x[0]).split()[0].replace(\",\", \"\") if type(x) == list else x)"
   ]
  },
  {
   "cell_type": "code",
   "execution_count": 290,
   "metadata": {},
   "outputs": [
    {
     "data": {
      "text/plain": [
       "15909     []\n",
       "15910    153\n",
       "15911    123\n",
       "15912    139\n",
       "15913    153\n",
       "15914    139\n",
       "15915    168\n",
       "15916    139\n",
       "15917    139\n",
       "15918    153\n",
       "Name: CO2 Emission, dtype: object"
      ]
     },
     "execution_count": 290,
     "metadata": {},
     "output_type": "execute_result"
    }
   ],
   "source": [
    "temp.tail(10)"
   ]
  },
  {
   "cell_type": "code",
   "execution_count": 291,
   "metadata": {},
   "outputs": [],
   "source": [
    "#temp.replace(\"[]\", np.nan, inplace=True)"
   ]
  },
  {
   "cell_type": "code",
   "execution_count": 292,
   "metadata": {},
   "outputs": [
    {
     "data": {
      "text/plain": [
       "NaN      1807\n",
       "120       740\n",
       "[]        628\n",
       "99        545\n",
       "97        537\n",
       "104       501\n",
       "102       477\n",
       "103       445\n",
       "114       382\n",
       "124       372\n",
       "107       362\n",
       "108       362\n",
       "119       361\n",
       "106       349\n",
       "128       329\n",
       "126       282\n",
       "85        275\n",
       "118       270\n",
       "110       266\n",
       "127       257\n",
       "117       254\n",
       "111       237\n",
       "113       235\n",
       "109       234\n",
       "139       224\n",
       "140       218\n",
       "129       213\n",
       "105       202\n",
       "135       202\n",
       "92        198\n",
       "130       180\n",
       "123       178\n",
       "150       174\n",
       "112       171\n",
       "143       171\n",
       "95        161\n",
       "116       157\n",
       "141       156\n",
       "98        151\n",
       "133       145\n",
       "136       145\n",
       "137       133\n",
       "125       132\n",
       "134       130\n",
       "145       126\n",
       "149       117\n",
       "153       113\n",
       "147       109\n",
       "101       105\n",
       "132       100\n",
       "115        86\n",
       "122        83\n",
       "121        82\n",
       "138        75\n",
       "93         66\n",
       "168        58\n",
       "142        58\n",
       "148        48\n",
       "131        48\n",
       "154        40\n",
       "144        40\n",
       "94         37\n",
       "146        36\n",
       "100        36\n",
       "90         35\n",
       "151        34\n",
       "91         31\n",
       "186        30\n",
       "152        28\n",
       "187        26\n",
       "172        25\n",
       "82         25\n",
       "96         22\n",
       "189        19\n",
       "89         19\n",
       "157        18\n",
       "158        17\n",
       "88         15\n",
       "169        15\n",
       "156        14\n",
       "164        13\n",
       "161        10\n",
       "170        10\n",
       "166         8\n",
       "175         8\n",
       "155         8\n",
       "188         7\n",
       "159         7\n",
       "174         6\n",
       "87          6\n",
       "197         4\n",
       "194         3\n",
       "5           3\n",
       "36          3\n",
       "12087       3\n",
       "84          2\n",
       "191         2\n",
       "167         2\n",
       "0           2\n",
       "199         2\n",
       "162         2\n",
       "177         1\n",
       "181         1\n",
       "331         1\n",
       "45          1\n",
       "180         1\n",
       "171         1\n",
       "183         1\n",
       "1           1\n",
       "13983       1\n",
       "184         1\n",
       "14457       1\n",
       "12324       1\n",
       "239         1\n",
       "160         1\n",
       "190         1\n",
       "80          1\n",
       "990         1\n",
       "253         1\n",
       "14          1\n",
       "1060        1\n",
       "51          1\n",
       "165         1\n",
       "193         1\n",
       "Name: CO2 Emission, dtype: int64"
      ]
     },
     "execution_count": 292,
     "metadata": {},
     "output_type": "execute_result"
    }
   ],
   "source": [
    "temp.value_counts(dropna=False)"
   ]
  },
  {
   "cell_type": "code",
   "execution_count": 293,
   "metadata": {},
   "outputs": [],
   "source": [
    "temp = pd.to_numeric(temp, errors='coerce')"
   ]
  },
  {
   "cell_type": "code",
   "execution_count": 294,
   "metadata": {},
   "outputs": [
    {
     "data": {
      "text/plain": [
       "0     99.0\n",
       "1    129.0\n",
       "2     99.0\n",
       "3     99.0\n",
       "4    109.0\n",
       "Name: CO2 Emission, dtype: float64"
      ]
     },
     "execution_count": 294,
     "metadata": {},
     "output_type": "execute_result"
    }
   ],
   "source": [
    "temp.head()"
   ]
  },
  {
   "cell_type": "code",
   "execution_count": 295,
   "metadata": {},
   "outputs": [
    {
     "data": {
      "text/plain": [
       "NaN        2435\n",
       "120.0       740\n",
       "99.0        545\n",
       "97.0        537\n",
       "104.0       501\n",
       "102.0       477\n",
       "103.0       445\n",
       "114.0       382\n",
       "124.0       372\n",
       "107.0       362\n",
       "108.0       362\n",
       "119.0       361\n",
       "106.0       349\n",
       "128.0       329\n",
       "126.0       282\n",
       "85.0        275\n",
       "118.0       270\n",
       "110.0       266\n",
       "127.0       257\n",
       "117.0       254\n",
       "111.0       237\n",
       "113.0       235\n",
       "109.0       234\n",
       "139.0       224\n",
       "140.0       218\n",
       "129.0       213\n",
       "105.0       202\n",
       "135.0       202\n",
       "92.0        198\n",
       "130.0       180\n",
       "123.0       178\n",
       "150.0       174\n",
       "112.0       171\n",
       "143.0       171\n",
       "95.0        161\n",
       "116.0       157\n",
       "141.0       156\n",
       "98.0        151\n",
       "133.0       145\n",
       "136.0       145\n",
       "137.0       133\n",
       "125.0       132\n",
       "134.0       130\n",
       "145.0       126\n",
       "149.0       117\n",
       "153.0       113\n",
       "147.0       109\n",
       "101.0       105\n",
       "132.0       100\n",
       "115.0        86\n",
       "122.0        83\n",
       "121.0        82\n",
       "138.0        75\n",
       "93.0         66\n",
       "168.0        58\n",
       "142.0        58\n",
       "148.0        48\n",
       "131.0        48\n",
       "154.0        40\n",
       "144.0        40\n",
       "94.0         37\n",
       "146.0        36\n",
       "100.0        36\n",
       "90.0         35\n",
       "151.0        34\n",
       "91.0         31\n",
       "186.0        30\n",
       "152.0        28\n",
       "187.0        26\n",
       "172.0        25\n",
       "82.0         25\n",
       "96.0         22\n",
       "189.0        19\n",
       "89.0         19\n",
       "157.0        18\n",
       "158.0        17\n",
       "88.0         15\n",
       "169.0        15\n",
       "156.0        14\n",
       "164.0        13\n",
       "161.0        10\n",
       "170.0        10\n",
       "166.0         8\n",
       "175.0         8\n",
       "155.0         8\n",
       "188.0         7\n",
       "159.0         7\n",
       "174.0         6\n",
       "87.0          6\n",
       "197.0         4\n",
       "194.0         3\n",
       "5.0           3\n",
       "36.0          3\n",
       "12087.0       3\n",
       "84.0          2\n",
       "191.0         2\n",
       "167.0         2\n",
       "0.0           2\n",
       "199.0         2\n",
       "162.0         2\n",
       "177.0         1\n",
       "181.0         1\n",
       "331.0         1\n",
       "45.0          1\n",
       "180.0         1\n",
       "171.0         1\n",
       "183.0         1\n",
       "1.0           1\n",
       "13983.0       1\n",
       "184.0         1\n",
       "14457.0       1\n",
       "12324.0       1\n",
       "239.0         1\n",
       "160.0         1\n",
       "190.0         1\n",
       "80.0          1\n",
       "990.0         1\n",
       "253.0         1\n",
       "14.0          1\n",
       "1060.0        1\n",
       "51.0          1\n",
       "165.0         1\n",
       "193.0         1\n",
       "Name: CO2 Emission, dtype: int64"
      ]
     },
     "execution_count": 295,
     "metadata": {},
     "output_type": "execute_result"
    }
   ],
   "source": [
    "temp.value_counts(dropna=False)"
   ]
  },
  {
   "cell_type": "code",
   "execution_count": 296,
   "metadata": {},
   "outputs": [],
   "source": [
    "data[\"co2\"] = temp.copy()"
   ]
  },
  {
   "cell_type": "code",
   "execution_count": 297,
   "metadata": {},
   "outputs": [],
   "source": [
    "data[\"co2\"] = data[\"co2\"].fillna(data.groupby([\"model\", \"first_registration\"])[\"co2\"].transform('mean'))"
   ]
  },
  {
   "cell_type": "code",
   "execution_count": 298,
   "metadata": {},
   "outputs": [
    {
     "data": {
      "text/plain": [
       "120.000000      740\n",
       "99.000000       545\n",
       "97.000000       537\n",
       "104.000000      501\n",
       "102.000000      477\n",
       "103.000000      445\n",
       "114.000000      382\n",
       "124.000000      372\n",
       "107.000000      362\n",
       "108.000000      362\n",
       "119.000000      361\n",
       "106.000000      349\n",
       "128.000000      329\n",
       "126.000000      282\n",
       "85.000000       275\n",
       "118.000000      270\n",
       "110.000000      266\n",
       "127.000000      257\n",
       "117.000000      254\n",
       "111.000000      237\n",
       "113.000000      235\n",
       "109.000000      234\n",
       "139.000000      224\n",
       "140.000000      218\n",
       "129.000000      213\n",
       "135.000000      202\n",
       "105.000000      202\n",
       "92.000000       198\n",
       "130.000000      180\n",
       "123.000000      178\n",
       "150.000000      174\n",
       "112.000000      171\n",
       "143.000000      171\n",
       "145.013699      163\n",
       "95.000000       161\n",
       "116.000000      157\n",
       "141.000000      156\n",
       "126.223464      154\n",
       "98.000000       151\n",
       "133.000000      145\n",
       "136.000000      145\n",
       "106.026510      139\n",
       "137.000000      133\n",
       "125.000000      132\n",
       "134.000000      130\n",
       "145.000000      126\n",
       "109.297376      123\n",
       "130.363830      119\n",
       "149.000000      117\n",
       "153.000000      113\n",
       "179.292237      110\n",
       "147.000000      109\n",
       "138.841849      109\n",
       "127.893709      107\n",
       "101.000000      105\n",
       "106.245509      104\n",
       "132.000000      100\n",
       "154.752381       97\n",
       "103.813665       91\n",
       "115.000000       86\n",
       "126.903494       86\n",
       "155.074928       83\n",
       "122.000000       83\n",
       "121.000000       82\n",
       "107.009823       79\n",
       "138.000000       75\n",
       "113.513298       75\n",
       "106.838602       74\n",
       "118.730000       73\n",
       "134.101695       73\n",
       "93.000000        66\n",
       "102.686303       65\n",
       "103.182065       64\n",
       "110.736034       61\n",
       "114.895775       60\n",
       "149.995283       59\n",
       "101.357268       58\n",
       "168.000000       58\n",
       "142.000000       58\n",
       "122.680000       57\n",
       "122.757202       57\n",
       "130.310924       51\n",
       "131.000000       48\n",
       "148.000000       48\n",
       "136.621861       43\n",
       "144.000000       40\n",
       "154.000000       40\n",
       "94.000000        37\n",
       "100.000000       36\n",
       "146.000000       36\n",
       "90.000000        35\n",
       "151.000000       34\n",
       "91.000000        31\n",
       "186.000000       30\n",
       "152.000000       28\n",
       "187.000000       26\n",
       "82.000000        25\n",
       "172.000000       25\n",
       "96.000000        22\n",
       "89.000000        19\n",
       "189.000000       19\n",
       "157.000000       18\n",
       "158.000000       17\n",
       "88.000000        15\n",
       "169.000000       15\n",
       "156.000000       14\n",
       "164.000000       13\n",
       "161.000000       10\n",
       "170.000000       10\n",
       "166.000000        8\n",
       "175.000000        8\n",
       "155.000000        8\n",
       "159.000000        7\n",
       "188.000000        7\n",
       "174.000000        6\n",
       "87.000000         6\n",
       "197.000000        4\n",
       "194.000000        3\n",
       "5.000000          3\n",
       "36.000000         3\n",
       "12087.000000      3\n",
       "162.000000        2\n",
       "191.000000        2\n",
       "167.000000        2\n",
       "84.000000         2\n",
       "0.000000          2\n",
       "199.000000        2\n",
       "1.000000          1\n",
       "990.000000        1\n",
       "14.000000         1\n",
       "331.000000        1\n",
       "171.666667        1\n",
       "171.000000        1\n",
       "80.000000         1\n",
       "160.000000        1\n",
       "183.000000        1\n",
       "253.000000        1\n",
       "45.000000         1\n",
       "190.000000        1\n",
       "180.000000        1\n",
       "177.000000        1\n",
       "1060.000000       1\n",
       "181.000000        1\n",
       "12324.000000      1\n",
       "13983.000000      1\n",
       "14457.000000      1\n",
       "184.000000        1\n",
       "165.000000        1\n",
       "51.000000         1\n",
       "239.000000        1\n",
       "193.000000        1\n",
       "Name: co2, dtype: int64"
      ]
     },
     "execution_count": 298,
     "metadata": {},
     "output_type": "execute_result"
    }
   ],
   "source": [
    "data[\"co2\"].value_counts(dropna=False)"
   ]
  },
  {
   "cell_type": "code",
   "execution_count": 299,
   "metadata": {},
   "outputs": [
    {
     "data": {
      "text/plain": [
       "count    15918.000000\n",
       "mean       124.051564\n",
       "std        248.569674\n",
       "min          0.000000\n",
       "25%        104.250000\n",
       "50%        117.000000\n",
       "75%        130.000000\n",
       "max      14457.000000\n",
       "Name: co2, dtype: float64"
      ]
     },
     "execution_count": 299,
     "metadata": {},
     "output_type": "execute_result"
    }
   ],
   "source": [
    "data[\"co2\"].describe()"
   ]
  },
  {
   "cell_type": "code",
   "execution_count": 300,
   "metadata": {},
   "outputs": [
    {
     "data": {
      "image/png": "[encoded data removed]",
      "text/plain": [
       "<Figure size 432x288 with 1 Axes>"
      ]
     },
     "metadata": {
      "needs_background": "light"
     },
     "output_type": "display_data"
    }
   ],
   "source": [
    "sns.boxplot(y=\"co2\", data=data);"
   ]
  },
  {
   "cell_type": "code",
   "execution_count": 301,
   "metadata": {},
   "outputs": [
    {
     "data": {
      "text/plain": [
       "model     first_registration\n",
       "A1        2016                  101.357268\n",
       "          2017                  103.182065\n",
       "          2018                  102.686303\n",
       "          2019                  109.297376\n",
       "A3        2016                  106.026510\n",
       "          2017                  106.838602\n",
       "          2018                  110.736034\n",
       "          2019                  113.513298\n",
       "Astra     2016                  138.841849\n",
       "          2017                  107.009823\n",
       "          2018                  154.752381\n",
       "          2019                  126.223464\n",
       "Clio      2016                  103.813665\n",
       "          2017                  106.245509\n",
       "          2018                  118.730000\n",
       "          2019                  114.895775\n",
       "Corsa     2016                  155.074928\n",
       "          2017                  122.680000\n",
       "          2018                  126.903494\n",
       "          2019                  136.621861\n",
       "Duster    2019                  171.666667\n",
       "Espace    2016                  122.757202\n",
       "          2017                  130.310924\n",
       "          2018                  134.101695\n",
       "          2019                  149.995283\n",
       "Insignia  2016                  127.893709\n",
       "          2017                  130.363830\n",
       "          2018                  179.292237\n",
       "          2019                  145.013699\n",
       "Name: co2, dtype: float64"
      ]
     },
     "execution_count": 301,
     "metadata": {},
     "output_type": "execute_result"
    }
   ],
   "source": [
    "data.groupby([\"model\", \"first_registration\"])[\"co2\"].mean()"
   ]
  },
  {
   "cell_type": "code",
   "execution_count": 302,
   "metadata": {},
   "outputs": [],
   "source": [
    "data.loc[(data.co2 > 200) | (data.co2 < 80), \"co2\"] = np.NaN"
   ]
  },
  {
   "cell_type": "code",
   "execution_count": 303,
   "metadata": {},
   "outputs": [
    {
     "data": {
      "text/plain": [
       "23"
      ]
     },
     "execution_count": 303,
     "metadata": {},
     "output_type": "execute_result"
    }
   ],
   "source": [
    "data.co2.isnull().sum()"
   ]
  },
  {
   "cell_type": "code",
   "execution_count": 304,
   "metadata": {},
   "outputs": [],
   "source": [
    "data[\"co2\"] = data[\"co2\"].fillna(data.groupby([\"model\", \"first_registration\"])[\"co2\"].transform('mean'))"
   ]
  },
  {
   "cell_type": "code",
   "execution_count": 305,
   "metadata": {},
   "outputs": [
    {
     "data": {
      "image/png": "[encoded data removed]",
      "text/plain": [
       "<Figure size 432x288 with 1 Axes>"
      ]
     },
     "metadata": {
      "needs_background": "light"
     },
     "output_type": "display_data"
    }
   ],
   "source": [
    "sns.boxplot(y=\"co2\", data=data);"
   ]
  },
  {
   "cell_type": "markdown",
   "metadata": {},
   "source": [
    "#### Handling the independent variables *Gears*"
   ]
  },
  {
   "cell_type": "code",
   "execution_count": 306,
   "metadata": {},
   "outputs": [
    {
     "data": {
      "text/plain": [
       "0         NaN\n",
       "1     [\\n7\\n]\n",
       "2         NaN\n",
       "3     [\\n6\\n]\n",
       "4         NaN\n",
       "5         NaN\n",
       "6         NaN\n",
       "7     [\\n7\\n]\n",
       "8     [\\n7\\n]\n",
       "9     [\\n7\\n]\n",
       "10    [\\n7\\n]\n",
       "11        NaN\n",
       "12        NaN\n",
       "13        NaN\n",
       "14    [\\n7\\n]\n",
       "15    [\\n7\\n]\n",
       "16    [\\n5\\n]\n",
       "17    [\\n7\\n]\n",
       "18    [\\n7\\n]\n",
       "19    [\\n7\\n]\n",
       "Name: Gears, dtype: object"
      ]
     },
     "execution_count": 306,
     "metadata": {},
     "output_type": "execute_result"
    }
   ],
   "source": [
    "temp = raw_df[\"Gears\"].copy()\n",
    "temp.head(20)"
   ]
  },
  {
   "cell_type": "code",
   "execution_count": 307,
   "metadata": {},
   "outputs": [
    {
     "data": {
      "text/plain": [
       "4711"
      ]
     },
     "execution_count": 307,
     "metadata": {},
     "output_type": "execute_result"
    }
   ],
   "source": [
    "temp.isnull().sum()"
   ]
  },
  {
   "cell_type": "code",
   "execution_count": 308,
   "metadata": {},
   "outputs": [],
   "source": [
    "temp = temp.apply(lambda x: int(x[0].split(\"\\n\")[1]) if isinstance(x, list) else x)"
   ]
  },
  {
   "cell_type": "code",
   "execution_count": 309,
   "metadata": {},
   "outputs": [
    {
     "data": {
      "text/plain": [
       "0     NaN\n",
       "1     7.0\n",
       "2     NaN\n",
       "3     6.0\n",
       "4     NaN\n",
       "5     NaN\n",
       "6     NaN\n",
       "7     7.0\n",
       "8     7.0\n",
       "9     7.0\n",
       "10    7.0\n",
       "11    NaN\n",
       "12    NaN\n",
       "13    NaN\n",
       "14    7.0\n",
       "15    7.0\n",
       "16    5.0\n",
       "17    7.0\n",
       "18    7.0\n",
       "19    7.0\n",
       "Name: Gears, dtype: float64"
      ]
     },
     "execution_count": 309,
     "metadata": {},
     "output_type": "execute_result"
    }
   ],
   "source": [
    "temp.head(20)"
   ]
  },
  {
   "cell_type": "code",
   "execution_count": 310,
   "metadata": {},
   "outputs": [
    {
     "data": {
      "text/plain": [
       "6.0     5822\n",
       "NaN     4711\n",
       "5.0     3239\n",
       "7.0     1908\n",
       "8.0      224\n",
       "9.0        6\n",
       "1.0        2\n",
       "3.0        2\n",
       "4.0        2\n",
       "2.0        1\n",
       "50.0       1\n",
       "Name: Gears, dtype: int64"
      ]
     },
     "execution_count": 310,
     "metadata": {},
     "output_type": "execute_result"
    }
   ],
   "source": [
    "temp.value_counts(dropna=False)"
   ]
  },
  {
   "cell_type": "code",
   "execution_count": 311,
   "metadata": {},
   "outputs": [],
   "source": [
    "data[\"gears\"] = temp.copy()"
   ]
  },
  {
   "cell_type": "code",
   "execution_count": 312,
   "metadata": {},
   "outputs": [],
   "source": [
    "data.loc[((data[\"gears\"] == 8) & (data[\"model\"] != \"Insignia\")) | (data[\"gears\"] < 5) | (data[\"gears\"] > 8), \"gears\"] = np.NaN"
   ]
  },
  {
   "cell_type": "code",
   "execution_count": 313,
   "metadata": {},
   "outputs": [
    {
     "data": {
      "text/plain": [
       "4728"
      ]
     },
     "execution_count": 313,
     "metadata": {},
     "output_type": "execute_result"
    }
   ],
   "source": [
    "data[\"gears\"].isnull().sum()"
   ]
  },
  {
   "cell_type": "code",
   "execution_count": 314,
   "metadata": {},
   "outputs": [],
   "source": [
    "#data[\"gears\"] = data[\"gears\"].fillna(data.groupby([\"model\", \"body_type\"])[\"gears\"].transform(lambda x: x.mode().iloc[0]))\n",
    "\n",
    "#f = lambda x: round(x.mean(), 0)\n",
    "\n",
    "data[\"gears\"] = data[\"gears\"].fillna(data.groupby(\"model\")[\"gears\"].transform(lambda x: x.mode().iloc[0]))\n",
    "\n"
   ]
  },
  {
   "cell_type": "code",
   "execution_count": 315,
   "metadata": {},
   "outputs": [
    {
     "data": {
      "text/plain": [
       "0"
      ]
     },
     "execution_count": 315,
     "metadata": {},
     "output_type": "execute_result"
    }
   ],
   "source": [
    "data[\"gears\"].isnull().sum()"
   ]
  },
  {
   "cell_type": "code",
   "execution_count": 316,
   "metadata": {},
   "outputs": [
    {
     "data": {
      "text/plain": [
       "6.0    8419\n",
       "5.0    5370\n",
       "7.0    1908\n",
       "8.0     221\n",
       "Name: gears, dtype: int64"
      ]
     },
     "execution_count": 316,
     "metadata": {},
     "output_type": "execute_result"
    }
   ],
   "source": [
    "data[\"gears\"].value_counts()"
   ]
  },
  {
   "cell_type": "code",
   "execution_count": 317,
   "metadata": {},
   "outputs": [],
   "source": [
    "dt = data[\"gears\"].value_counts()"
   ]
  },
  {
   "cell_type": "code",
   "execution_count": 318,
   "metadata": {},
   "outputs": [],
   "source": [
    "dt = pd.DataFrame(dt)"
   ]
  },
  {
   "cell_type": "code",
   "execution_count": 319,
   "metadata": {},
   "outputs": [
    {
     "data": {
      "image/png": "[encoded data removed]",
      "text/plain": [
       "<Figure size 432x288 with 1 Axes>"
      ]
     },
     "metadata": {
      "needs_background": "light"
     },
     "output_type": "display_data"
    }
   ],
   "source": [
    "data.groupby([\"make\", \"gears\"])[\"price\"].mean().plot(kind=\"bar\");"
   ]
  },
  {
   "cell_type": "markdown",
   "metadata": {},
   "source": [
    "#### Handling the independent variables *Comfort & Convenience*"
   ]
  },
  {
   "cell_type": "code",
   "execution_count": 320,
   "metadata": {},
   "outputs": [
    {
     "data": {
      "text/plain": [
       "0    [Air conditioning, Armrest, Automatic climate ...\n",
       "1    [Air conditioning, Automatic climate control, ...\n",
       "2    [Air conditioning, Cruise control, Electrical ...\n",
       "3    [Air suspension, Armrest, Auxiliary heating, E...\n",
       "4    [Air conditioning, Armrest, Automatic climate ...\n",
       "Name: Comfort & Convenience, dtype: object"
      ]
     },
     "execution_count": 320,
     "metadata": {},
     "output_type": "execute_result"
    }
   ],
   "source": [
    "temp = raw_df[\"Comfort & Convenience\"].copy()\n",
    "temp.head()"
   ]
  },
  {
   "cell_type": "code",
   "execution_count": 321,
   "metadata": {},
   "outputs": [
    {
     "data": {
      "text/plain": [
       "0    [Air conditioning, Armrest, Automatic climate ...\n",
       "Name: Comfort & Convenience, dtype: object"
      ]
     },
     "execution_count": 321,
     "metadata": {},
     "output_type": "execute_result"
    }
   ],
   "source": [
    "temp[0:1]"
   ]
  },
  {
   "cell_type": "code",
   "execution_count": 322,
   "metadata": {},
   "outputs": [],
   "source": [
    "temp = [\",\".join(item) if type(item) == list else item for item in temp]"
   ]
  },
  {
   "cell_type": "code",
   "execution_count": 323,
   "metadata": {},
   "outputs": [
    {
     "data": {
      "text/html": [
       "<div>\n",
       "<style scoped>\n",
       "    .dataframe tbody tr th:only-of-type {\n",
       "        vertical-align: middle;\n",
       "    }\n",
       "\n",
       "    .dataframe tbody tr th {\n",
       "        vertical-align: top;\n",
       "    }\n",
       "\n",
       "    .dataframe thead th {\n",
       "        text-align: right;\n",
       "    }\n",
       "</style>\n",
       "<table border=\"1\" class=\"dataframe\">\n",
       "  <thead>\n",
       "    <tr style=\"text-align: right;\">\n",
       "      <th></th>\n",
       "      <th>cc Air conditioning</th>\n",
       "      <th>cc Air suspension</th>\n",
       "      <th>cc Armrest</th>\n",
       "      <th>cc Automatic climate control</th>\n",
       "      <th>cc Auxiliary heating</th>\n",
       "      <th>cc Cruise control</th>\n",
       "      <th>cc Electric Starter</th>\n",
       "      <th>cc Electric tailgate</th>\n",
       "      <th>cc Electrical side mirrors</th>\n",
       "      <th>cc Electrically adjustable seats</th>\n",
       "      <th>cc Electrically heated windshield</th>\n",
       "      <th>cc Heads-up display</th>\n",
       "      <th>cc Heated steering wheel</th>\n",
       "      <th>cc Hill Holder</th>\n",
       "      <th>cc Keyless central door lock</th>\n",
       "      <th>cc Leather seats</th>\n",
       "      <th>cc Leather steering wheel</th>\n",
       "      <th>cc Light sensor</th>\n",
       "      <th>cc Lumbar support</th>\n",
       "      <th>cc Massage seats</th>\n",
       "      <th>cc Multi-function steering wheel</th>\n",
       "      <th>cc Navigation system</th>\n",
       "      <th>cc Panorama roof</th>\n",
       "      <th>cc Park Distance Control</th>\n",
       "      <th>cc Parking assist system camera</th>\n",
       "      <th>cc Parking assist system self-steering</th>\n",
       "      <th>cc Parking assist system sensors front</th>\n",
       "      <th>cc Parking assist system sensors rear</th>\n",
       "      <th>cc Power windows</th>\n",
       "      <th>cc Rain sensor</th>\n",
       "      <th>cc Seat heating</th>\n",
       "      <th>cc Seat ventilation</th>\n",
       "      <th>cc Split rear seats</th>\n",
       "      <th>cc Start-stop system</th>\n",
       "      <th>cc Sunroof</th>\n",
       "      <th>cc Tinted windows</th>\n",
       "      <th>cc Wind deflector</th>\n",
       "      <th>cc Windshield</th>\n",
       "    </tr>\n",
       "  </thead>\n",
       "  <tbody>\n",
       "    <tr>\n",
       "      <th>0</th>\n",
       "      <td>1</td>\n",
       "      <td>0</td>\n",
       "      <td>1</td>\n",
       "      <td>1</td>\n",
       "      <td>0</td>\n",
       "      <td>1</td>\n",
       "      <td>0</td>\n",
       "      <td>0</td>\n",
       "      <td>1</td>\n",
       "      <td>0</td>\n",
       "      <td>0</td>\n",
       "      <td>0</td>\n",
       "      <td>0</td>\n",
       "      <td>1</td>\n",
       "      <td>0</td>\n",
       "      <td>0</td>\n",
       "      <td>1</td>\n",
       "      <td>1</td>\n",
       "      <td>0</td>\n",
       "      <td>0</td>\n",
       "      <td>1</td>\n",
       "      <td>1</td>\n",
       "      <td>0</td>\n",
       "      <td>1</td>\n",
       "      <td>0</td>\n",
       "      <td>0</td>\n",
       "      <td>0</td>\n",
       "      <td>1</td>\n",
       "      <td>1</td>\n",
       "      <td>1</td>\n",
       "      <td>1</td>\n",
       "      <td>0</td>\n",
       "      <td>0</td>\n",
       "      <td>1</td>\n",
       "      <td>0</td>\n",
       "      <td>0</td>\n",
       "      <td>0</td>\n",
       "      <td>0</td>\n",
       "    </tr>\n",
       "    <tr>\n",
       "      <th>1</th>\n",
       "      <td>1</td>\n",
       "      <td>0</td>\n",
       "      <td>0</td>\n",
       "      <td>1</td>\n",
       "      <td>0</td>\n",
       "      <td>0</td>\n",
       "      <td>0</td>\n",
       "      <td>0</td>\n",
       "      <td>0</td>\n",
       "      <td>0</td>\n",
       "      <td>0</td>\n",
       "      <td>0</td>\n",
       "      <td>0</td>\n",
       "      <td>1</td>\n",
       "      <td>0</td>\n",
       "      <td>0</td>\n",
       "      <td>1</td>\n",
       "      <td>0</td>\n",
       "      <td>1</td>\n",
       "      <td>0</td>\n",
       "      <td>0</td>\n",
       "      <td>0</td>\n",
       "      <td>0</td>\n",
       "      <td>0</td>\n",
       "      <td>0</td>\n",
       "      <td>0</td>\n",
       "      <td>0</td>\n",
       "      <td>1</td>\n",
       "      <td>1</td>\n",
       "      <td>0</td>\n",
       "      <td>0</td>\n",
       "      <td>0</td>\n",
       "      <td>0</td>\n",
       "      <td>1</td>\n",
       "      <td>0</td>\n",
       "      <td>1</td>\n",
       "      <td>0</td>\n",
       "      <td>0</td>\n",
       "    </tr>\n",
       "    <tr>\n",
       "      <th>2</th>\n",
       "      <td>1</td>\n",
       "      <td>0</td>\n",
       "      <td>0</td>\n",
       "      <td>0</td>\n",
       "      <td>0</td>\n",
       "      <td>1</td>\n",
       "      <td>0</td>\n",
       "      <td>0</td>\n",
       "      <td>1</td>\n",
       "      <td>0</td>\n",
       "      <td>0</td>\n",
       "      <td>0</td>\n",
       "      <td>0</td>\n",
       "      <td>1</td>\n",
       "      <td>0</td>\n",
       "      <td>0</td>\n",
       "      <td>1</td>\n",
       "      <td>0</td>\n",
       "      <td>0</td>\n",
       "      <td>0</td>\n",
       "      <td>1</td>\n",
       "      <td>1</td>\n",
       "      <td>0</td>\n",
       "      <td>1</td>\n",
       "      <td>0</td>\n",
       "      <td>0</td>\n",
       "      <td>1</td>\n",
       "      <td>1</td>\n",
       "      <td>1</td>\n",
       "      <td>0</td>\n",
       "      <td>1</td>\n",
       "      <td>0</td>\n",
       "      <td>0</td>\n",
       "      <td>1</td>\n",
       "      <td>0</td>\n",
       "      <td>0</td>\n",
       "      <td>0</td>\n",
       "      <td>0</td>\n",
       "    </tr>\n",
       "    <tr>\n",
       "      <th>3</th>\n",
       "      <td>0</td>\n",
       "      <td>1</td>\n",
       "      <td>1</td>\n",
       "      <td>0</td>\n",
       "      <td>1</td>\n",
       "      <td>0</td>\n",
       "      <td>0</td>\n",
       "      <td>0</td>\n",
       "      <td>1</td>\n",
       "      <td>0</td>\n",
       "      <td>0</td>\n",
       "      <td>1</td>\n",
       "      <td>0</td>\n",
       "      <td>1</td>\n",
       "      <td>0</td>\n",
       "      <td>0</td>\n",
       "      <td>1</td>\n",
       "      <td>1</td>\n",
       "      <td>1</td>\n",
       "      <td>0</td>\n",
       "      <td>1</td>\n",
       "      <td>1</td>\n",
       "      <td>0</td>\n",
       "      <td>0</td>\n",
       "      <td>0</td>\n",
       "      <td>0</td>\n",
       "      <td>0</td>\n",
       "      <td>0</td>\n",
       "      <td>1</td>\n",
       "      <td>1</td>\n",
       "      <td>1</td>\n",
       "      <td>0</td>\n",
       "      <td>1</td>\n",
       "      <td>1</td>\n",
       "      <td>0</td>\n",
       "      <td>0</td>\n",
       "      <td>0</td>\n",
       "      <td>0</td>\n",
       "    </tr>\n",
       "    <tr>\n",
       "      <th>4</th>\n",
       "      <td>1</td>\n",
       "      <td>0</td>\n",
       "      <td>1</td>\n",
       "      <td>1</td>\n",
       "      <td>0</td>\n",
       "      <td>0</td>\n",
       "      <td>0</td>\n",
       "      <td>0</td>\n",
       "      <td>1</td>\n",
       "      <td>0</td>\n",
       "      <td>0</td>\n",
       "      <td>0</td>\n",
       "      <td>0</td>\n",
       "      <td>1</td>\n",
       "      <td>0</td>\n",
       "      <td>0</td>\n",
       "      <td>1</td>\n",
       "      <td>1</td>\n",
       "      <td>0</td>\n",
       "      <td>0</td>\n",
       "      <td>1</td>\n",
       "      <td>0</td>\n",
       "      <td>0</td>\n",
       "      <td>1</td>\n",
       "      <td>0</td>\n",
       "      <td>0</td>\n",
       "      <td>0</td>\n",
       "      <td>1</td>\n",
       "      <td>1</td>\n",
       "      <td>1</td>\n",
       "      <td>0</td>\n",
       "      <td>0</td>\n",
       "      <td>0</td>\n",
       "      <td>1</td>\n",
       "      <td>0</td>\n",
       "      <td>0</td>\n",
       "      <td>0</td>\n",
       "      <td>0</td>\n",
       "    </tr>\n",
       "    <tr>\n",
       "      <th>...</th>\n",
       "      <td>...</td>\n",
       "      <td>...</td>\n",
       "      <td>...</td>\n",
       "      <td>...</td>\n",
       "      <td>...</td>\n",
       "      <td>...</td>\n",
       "      <td>...</td>\n",
       "      <td>...</td>\n",
       "      <td>...</td>\n",
       "      <td>...</td>\n",
       "      <td>...</td>\n",
       "      <td>...</td>\n",
       "      <td>...</td>\n",
       "      <td>...</td>\n",
       "      <td>...</td>\n",
       "      <td>...</td>\n",
       "      <td>...</td>\n",
       "      <td>...</td>\n",
       "      <td>...</td>\n",
       "      <td>...</td>\n",
       "      <td>...</td>\n",
       "      <td>...</td>\n",
       "      <td>...</td>\n",
       "      <td>...</td>\n",
       "      <td>...</td>\n",
       "      <td>...</td>\n",
       "      <td>...</td>\n",
       "      <td>...</td>\n",
       "      <td>...</td>\n",
       "      <td>...</td>\n",
       "      <td>...</td>\n",
       "      <td>...</td>\n",
       "      <td>...</td>\n",
       "      <td>...</td>\n",
       "      <td>...</td>\n",
       "      <td>...</td>\n",
       "      <td>...</td>\n",
       "      <td>...</td>\n",
       "    </tr>\n",
       "    <tr>\n",
       "      <th>15914</th>\n",
       "      <td>1</td>\n",
       "      <td>0</td>\n",
       "      <td>0</td>\n",
       "      <td>1</td>\n",
       "      <td>0</td>\n",
       "      <td>1</td>\n",
       "      <td>0</td>\n",
       "      <td>0</td>\n",
       "      <td>1</td>\n",
       "      <td>1</td>\n",
       "      <td>0</td>\n",
       "      <td>0</td>\n",
       "      <td>0</td>\n",
       "      <td>1</td>\n",
       "      <td>1</td>\n",
       "      <td>0</td>\n",
       "      <td>1</td>\n",
       "      <td>1</td>\n",
       "      <td>0</td>\n",
       "      <td>1</td>\n",
       "      <td>1</td>\n",
       "      <td>1</td>\n",
       "      <td>0</td>\n",
       "      <td>1</td>\n",
       "      <td>0</td>\n",
       "      <td>0</td>\n",
       "      <td>1</td>\n",
       "      <td>1</td>\n",
       "      <td>1</td>\n",
       "      <td>1</td>\n",
       "      <td>0</td>\n",
       "      <td>0</td>\n",
       "      <td>1</td>\n",
       "      <td>1</td>\n",
       "      <td>0</td>\n",
       "      <td>1</td>\n",
       "      <td>0</td>\n",
       "      <td>0</td>\n",
       "    </tr>\n",
       "    <tr>\n",
       "      <th>15915</th>\n",
       "      <td>1</td>\n",
       "      <td>0</td>\n",
       "      <td>0</td>\n",
       "      <td>1</td>\n",
       "      <td>0</td>\n",
       "      <td>1</td>\n",
       "      <td>0</td>\n",
       "      <td>1</td>\n",
       "      <td>1</td>\n",
       "      <td>0</td>\n",
       "      <td>1</td>\n",
       "      <td>1</td>\n",
       "      <td>1</td>\n",
       "      <td>1</td>\n",
       "      <td>1</td>\n",
       "      <td>0</td>\n",
       "      <td>1</td>\n",
       "      <td>1</td>\n",
       "      <td>1</td>\n",
       "      <td>0</td>\n",
       "      <td>0</td>\n",
       "      <td>1</td>\n",
       "      <td>0</td>\n",
       "      <td>1</td>\n",
       "      <td>1</td>\n",
       "      <td>1</td>\n",
       "      <td>1</td>\n",
       "      <td>1</td>\n",
       "      <td>1</td>\n",
       "      <td>1</td>\n",
       "      <td>1</td>\n",
       "      <td>0</td>\n",
       "      <td>0</td>\n",
       "      <td>0</td>\n",
       "      <td>1</td>\n",
       "      <td>0</td>\n",
       "      <td>0</td>\n",
       "      <td>0</td>\n",
       "    </tr>\n",
       "    <tr>\n",
       "      <th>15916</th>\n",
       "      <td>1</td>\n",
       "      <td>0</td>\n",
       "      <td>1</td>\n",
       "      <td>1</td>\n",
       "      <td>0</td>\n",
       "      <td>1</td>\n",
       "      <td>0</td>\n",
       "      <td>1</td>\n",
       "      <td>1</td>\n",
       "      <td>0</td>\n",
       "      <td>1</td>\n",
       "      <td>1</td>\n",
       "      <td>1</td>\n",
       "      <td>0</td>\n",
       "      <td>0</td>\n",
       "      <td>0</td>\n",
       "      <td>1</td>\n",
       "      <td>1</td>\n",
       "      <td>0</td>\n",
       "      <td>1</td>\n",
       "      <td>1</td>\n",
       "      <td>1</td>\n",
       "      <td>1</td>\n",
       "      <td>1</td>\n",
       "      <td>1</td>\n",
       "      <td>0</td>\n",
       "      <td>1</td>\n",
       "      <td>1</td>\n",
       "      <td>1</td>\n",
       "      <td>1</td>\n",
       "      <td>1</td>\n",
       "      <td>1</td>\n",
       "      <td>0</td>\n",
       "      <td>0</td>\n",
       "      <td>1</td>\n",
       "      <td>0</td>\n",
       "      <td>0</td>\n",
       "      <td>0</td>\n",
       "    </tr>\n",
       "    <tr>\n",
       "      <th>15917</th>\n",
       "      <td>1</td>\n",
       "      <td>0</td>\n",
       "      <td>0</td>\n",
       "      <td>1</td>\n",
       "      <td>0</td>\n",
       "      <td>1</td>\n",
       "      <td>0</td>\n",
       "      <td>0</td>\n",
       "      <td>1</td>\n",
       "      <td>1</td>\n",
       "      <td>0</td>\n",
       "      <td>0</td>\n",
       "      <td>0</td>\n",
       "      <td>0</td>\n",
       "      <td>0</td>\n",
       "      <td>0</td>\n",
       "      <td>1</td>\n",
       "      <td>1</td>\n",
       "      <td>0</td>\n",
       "      <td>0</td>\n",
       "      <td>0</td>\n",
       "      <td>0</td>\n",
       "      <td>0</td>\n",
       "      <td>1</td>\n",
       "      <td>0</td>\n",
       "      <td>0</td>\n",
       "      <td>0</td>\n",
       "      <td>0</td>\n",
       "      <td>1</td>\n",
       "      <td>0</td>\n",
       "      <td>0</td>\n",
       "      <td>0</td>\n",
       "      <td>0</td>\n",
       "      <td>1</td>\n",
       "      <td>0</td>\n",
       "      <td>0</td>\n",
       "      <td>0</td>\n",
       "      <td>0</td>\n",
       "    </tr>\n",
       "    <tr>\n",
       "      <th>15918</th>\n",
       "      <td>1</td>\n",
       "      <td>0</td>\n",
       "      <td>0</td>\n",
       "      <td>1</td>\n",
       "      <td>0</td>\n",
       "      <td>1</td>\n",
       "      <td>0</td>\n",
       "      <td>1</td>\n",
       "      <td>1</td>\n",
       "      <td>1</td>\n",
       "      <td>0</td>\n",
       "      <td>0</td>\n",
       "      <td>0</td>\n",
       "      <td>1</td>\n",
       "      <td>0</td>\n",
       "      <td>0</td>\n",
       "      <td>1</td>\n",
       "      <td>0</td>\n",
       "      <td>0</td>\n",
       "      <td>0</td>\n",
       "      <td>0</td>\n",
       "      <td>1</td>\n",
       "      <td>0</td>\n",
       "      <td>0</td>\n",
       "      <td>0</td>\n",
       "      <td>0</td>\n",
       "      <td>0</td>\n",
       "      <td>0</td>\n",
       "      <td>1</td>\n",
       "      <td>0</td>\n",
       "      <td>1</td>\n",
       "      <td>0</td>\n",
       "      <td>0</td>\n",
       "      <td>0</td>\n",
       "      <td>0</td>\n",
       "      <td>0</td>\n",
       "      <td>0</td>\n",
       "      <td>0</td>\n",
       "    </tr>\n",
       "  </tbody>\n",
       "</table>\n",
       "<p>15918 rows × 38 columns</p>\n",
       "</div>"
      ],
      "text/plain": [
       "       cc Air conditioning  cc Air suspension  cc Armrest  \\\n",
       "0                        1                  0           1   \n",
       "1                        1                  0           0   \n",
       "2                        1                  0           0   \n",
       "3                        0                  1           1   \n",
       "4                        1                  0           1   \n",
       "...                    ...                ...         ...   \n",
       "15914                    1                  0           0   \n",
       "15915                    1                  0           0   \n",
       "15916                    1                  0           1   \n",
       "15917                    1                  0           0   \n",
       "15918                    1                  0           0   \n",
       "\n",
       "       cc Automatic climate control  cc Auxiliary heating  cc Cruise control  \\\n",
       "0                                 1                     0                  1   \n",
       "1                                 1                     0                  0   \n",
       "2                                 0                     0                  1   \n",
       "3                                 0                     1                  0   \n",
       "4                                 1                     0                  0   \n",
       "...                             ...                   ...                ...   \n",
       "15914                             1                     0                  1   \n",
       "15915                             1                     0                  1   \n",
       "15916                             1                     0                  1   \n",
       "15917                             1                     0                  1   \n",
       "15918                             1                     0                  1   \n",
       "\n",
       "       cc Electric Starter  cc Electric tailgate  cc Electrical side mirrors  \\\n",
       "0                        0                     0                           1   \n",
       "1                        0                     0                           0   \n",
       "2                        0                     0                           1   \n",
       "3                        0                     0                           1   \n",
       "4                        0                     0                           1   \n",
       "...                    ...                   ...                         ...   \n",
       "15914                    0                     0                           1   \n",
       "15915                    0                     1                           1   \n",
       "15916                    0                     1                           1   \n",
       "15917                    0                     0                           1   \n",
       "15918                    0                     1                           1   \n",
       "\n",
       "       cc Electrically adjustable seats  cc Electrically heated windshield  \\\n",
       "0                                     0                                  0   \n",
       "1                                     0                                  0   \n",
       "2                                     0                                  0   \n",
       "3                                     0                                  0   \n",
       "4                                     0                                  0   \n",
       "...                                 ...                                ...   \n",
       "15914                                 1                                  0   \n",
       "15915                                 0                                  1   \n",
       "15916                                 0                                  1   \n",
       "15917                                 1                                  0   \n",
       "15918                                 1                                  0   \n",
       "\n",
       "       cc Heads-up display  cc Heated steering wheel  cc Hill Holder  \\\n",
       "0                        0                         0               1   \n",
       "1                        0                         0               1   \n",
       "2                        0                         0               1   \n",
       "3                        1                         0               1   \n",
       "4                        0                         0               1   \n",
       "...                    ...                       ...             ...   \n",
       "15914                    0                         0               1   \n",
       "15915                    1                         1               1   \n",
       "15916                    1                         1               0   \n",
       "15917                    0                         0               0   \n",
       "15918                    0                         0               1   \n",
       "\n",
       "       cc Keyless central door lock  cc Leather seats  \\\n",
       "0                                 0                 0   \n",
       "1                                 0                 0   \n",
       "2                                 0                 0   \n",
       "3                                 0                 0   \n",
       "4                                 0                 0   \n",
       "...                             ...               ...   \n",
       "15914                             1                 0   \n",
       "15915                             1                 0   \n",
       "15916                             0                 0   \n",
       "15917                             0                 0   \n",
       "15918                             0                 0   \n",
       "\n",
       "       cc Leather steering wheel  cc Light sensor  cc Lumbar support  \\\n",
       "0                              1                1                  0   \n",
       "1                              1                0                  1   \n",
       "2                              1                0                  0   \n",
       "3                              1                1                  1   \n",
       "4                              1                1                  0   \n",
       "...                          ...              ...                ...   \n",
       "15914                          1                1                  0   \n",
       "15915                          1                1                  1   \n",
       "15916                          1                1                  0   \n",
       "15917                          1                1                  0   \n",
       "15918                          1                0                  0   \n",
       "\n",
       "       cc Massage seats  cc Multi-function steering wheel  \\\n",
       "0                     0                                 1   \n",
       "1                     0                                 0   \n",
       "2                     0                                 1   \n",
       "3                     0                                 1   \n",
       "4                     0                                 1   \n",
       "...                 ...                               ...   \n",
       "15914                 1                                 1   \n",
       "15915                 0                                 0   \n",
       "15916                 1                                 1   \n",
       "15917                 0                                 0   \n",
       "15918                 0                                 0   \n",
       "\n",
       "       cc Navigation system  cc Panorama roof  cc Park Distance Control  \\\n",
       "0                         1                 0                         1   \n",
       "1                         0                 0                         0   \n",
       "2                         1                 0                         1   \n",
       "3                         1                 0                         0   \n",
       "4                         0                 0                         1   \n",
       "...                     ...               ...                       ...   \n",
       "15914                     1                 0                         1   \n",
       "15915                     1                 0                         1   \n",
       "15916                     1                 1                         1   \n",
       "15917                     0                 0                         1   \n",
       "15918                     1                 0                         0   \n",
       "\n",
       "       cc Parking assist system camera  \\\n",
       "0                                    0   \n",
       "1                                    0   \n",
       "2                                    0   \n",
       "3                                    0   \n",
       "4                                    0   \n",
       "...                                ...   \n",
       "15914                                0   \n",
       "15915                                1   \n",
       "15916                                1   \n",
       "15917                                0   \n",
       "15918                                0   \n",
       "\n",
       "       cc Parking assist system self-steering  \\\n",
       "0                                           0   \n",
       "1                                           0   \n",
       "2                                           0   \n",
       "3                                           0   \n",
       "4                                           0   \n",
       "...                                       ...   \n",
       "15914                                       0   \n",
       "15915                                       1   \n",
       "15916                                       0   \n",
       "15917                                       0   \n",
       "15918                                       0   \n",
       "\n",
       "       cc Parking assist system sensors front  \\\n",
       "0                                           0   \n",
       "1                                           0   \n",
       "2                                           1   \n",
       "3                                           0   \n",
       "4                                           0   \n",
       "...                                       ...   \n",
       "15914                                       1   \n",
       "15915                                       1   \n",
       "15916                                       1   \n",
       "15917                                       0   \n",
       "15918                                       0   \n",
       "\n",
       "       cc Parking assist system sensors rear  cc Power windows  \\\n",
       "0                                          1                 1   \n",
       "1                                          1                 1   \n",
       "2                                          1                 1   \n",
       "3                                          0                 1   \n",
       "4                                          1                 1   \n",
       "...                                      ...               ...   \n",
       "15914                                      1                 1   \n",
       "15915                                      1                 1   \n",
       "15916                                      1                 1   \n",
       "15917                                      0                 1   \n",
       "15918                                      0                 1   \n",
       "\n",
       "       cc Rain sensor  cc Seat heating  cc Seat ventilation  \\\n",
       "0                   1                1                    0   \n",
       "1                   0                0                    0   \n",
       "2                   0                1                    0   \n",
       "3                   1                1                    0   \n",
       "4                   1                0                    0   \n",
       "...               ...              ...                  ...   \n",
       "15914               1                0                    0   \n",
       "15915               1                1                    0   \n",
       "15916               1                1                    1   \n",
       "15917               0                0                    0   \n",
       "15918               0                1                    0   \n",
       "\n",
       "       cc Split rear seats  cc Start-stop system  cc Sunroof  \\\n",
       "0                        0                     1           0   \n",
       "1                        0                     1           0   \n",
       "2                        0                     1           0   \n",
       "3                        1                     1           0   \n",
       "4                        0                     1           0   \n",
       "...                    ...                   ...         ...   \n",
       "15914                    1                     1           0   \n",
       "15915                    0                     0           1   \n",
       "15916                    0                     0           1   \n",
       "15917                    0                     1           0   \n",
       "15918                    0                     0           0   \n",
       "\n",
       "       cc Tinted windows  cc Wind deflector  cc Windshield  \n",
       "0                      0                  0              0  \n",
       "1                      1                  0              0  \n",
       "2                      0                  0              0  \n",
       "3                      0                  0              0  \n",
       "4                      0                  0              0  \n",
       "...                  ...                ...            ...  \n",
       "15914                  1                  0              0  \n",
       "15915                  0                  0              0  \n",
       "15916                  0                  0              0  \n",
       "15917                  0                  0              0  \n",
       "15918                  0                  0              0  \n",
       "\n",
       "[15918 rows x 38 columns]"
      ]
     },
     "execution_count": 323,
     "metadata": {},
     "output_type": "execute_result"
    }
   ],
   "source": [
    "data[\"comfort\"] = temp.copy()\n",
    "\n",
    "data[\"comfort\"].str.get_dummies(sep=\",\").add_prefix('cc ')"
   ]
  },
  {
   "cell_type": "code",
   "execution_count": 324,
   "metadata": {},
   "outputs": [
    {
     "data": {
      "text/plain": [
       "(15918, 25)"
      ]
     },
     "execution_count": 324,
     "metadata": {},
     "output_type": "execute_result"
    }
   ],
   "source": [
    "data.shape"
   ]
  },
  {
   "cell_type": "code",
   "execution_count": 325,
   "metadata": {},
   "outputs": [],
   "source": [
    "data = data.join(data[\"comfort\"].str.get_dummies(sep=\",\").add_prefix('cc '))\n",
    "data.drop([\"comfort\"], axis=1, inplace=True)"
   ]
  },
  {
   "cell_type": "code",
   "execution_count": 326,
   "metadata": {},
   "outputs": [
    {
     "data": {
      "text/plain": [
       "(15918, 62)"
      ]
     },
     "execution_count": 326,
     "metadata": {},
     "output_type": "execute_result"
    }
   ],
   "source": [
    "data.shape"
   ]
  },
  {
   "cell_type": "code",
   "execution_count": 327,
   "metadata": {},
   "outputs": [
    {
     "data": {
      "text/plain": [
       "price                                     0\n",
       "make                                      0\n",
       "model                                     0\n",
       "mileage                                   0\n",
       "first_registration                        0\n",
       "age                                       0\n",
       "power                                     0\n",
       "prev_owner                                0\n",
       "vat                                       0\n",
       "body_type                                 0\n",
       "gear                                      0\n",
       "nr_of_doors                               0\n",
       "nr_of_seats                               0\n",
       "cylinders                                 0\n",
       "inspection_new                            0\n",
       "body_color                                0\n",
       "paint_type                                0\n",
       "fuel                                      0\n",
       "type                                      0\n",
       "emission_class                            0\n",
       "displacement                              0\n",
       "consumption                               0\n",
       "co2                                       0\n",
       "gears                                     0\n",
       "cc Air conditioning                       0\n",
       "cc Air suspension                         0\n",
       "cc Armrest                                0\n",
       "cc Automatic climate control              0\n",
       "cc Auxiliary heating                      0\n",
       "cc Cruise control                         0\n",
       "cc Electric Starter                       0\n",
       "cc Electric tailgate                      0\n",
       "cc Electrical side mirrors                0\n",
       "cc Electrically adjustable seats          0\n",
       "cc Electrically heated windshield         0\n",
       "cc Heads-up display                       0\n",
       "cc Heated steering wheel                  0\n",
       "cc Hill Holder                            0\n",
       "cc Keyless central door lock              0\n",
       "cc Leather seats                          0\n",
       "cc Leather steering wheel                 0\n",
       "cc Light sensor                           0\n",
       "cc Lumbar support                         0\n",
       "cc Massage seats                          0\n",
       "cc Multi-function steering wheel          0\n",
       "cc Navigation system                      0\n",
       "cc Panorama roof                          0\n",
       "cc Park Distance Control                  0\n",
       "cc Parking assist system camera           0\n",
       "cc Parking assist system self-steering    0\n",
       "cc Parking assist system sensors front    0\n",
       "cc Parking assist system sensors rear     0\n",
       "cc Power windows                          0\n",
       "cc Rain sensor                            0\n",
       "cc Seat heating                           0\n",
       "cc Seat ventilation                       0\n",
       "cc Split rear seats                       0\n",
       "cc Start-stop system                      0\n",
       "cc Sunroof                                0\n",
       "cc Tinted windows                         0\n",
       "cc Wind deflector                         0\n",
       "cc Windshield                             0\n",
       "dtype: int64"
      ]
     },
     "execution_count": 327,
     "metadata": {},
     "output_type": "execute_result"
    }
   ],
   "source": [
    "data.isnull().sum()"
   ]
  },
  {
   "cell_type": "markdown",
   "metadata": {},
   "source": [
    "#### Handling the independent variables *Entertainment & Media*"
   ]
  },
  {
   "cell_type": "code",
   "execution_count": 328,
   "metadata": {},
   "outputs": [
    {
     "data": {
      "text/plain": [
       "0    [Bluetooth, Hands-free equipment, On-board com...\n",
       "1    [Bluetooth, Hands-free equipment, On-board com...\n",
       "2                             [MP3, On-board computer]\n",
       "3    [Bluetooth, CD player, Hands-free equipment, M...\n",
       "4    [Bluetooth, CD player, Hands-free equipment, M...\n",
       "Name: Entertainment & Media, dtype: object"
      ]
     },
     "execution_count": 328,
     "metadata": {},
     "output_type": "execute_result"
    }
   ],
   "source": [
    "temp = raw_df[\"Entertainment & Media\"].copy()\n",
    "temp.head()"
   ]
  },
  {
   "cell_type": "code",
   "execution_count": 329,
   "metadata": {},
   "outputs": [],
   "source": [
    "temp = [\",\".join(item) if type(item) == list else item for item in temp]"
   ]
  },
  {
   "cell_type": "code",
   "execution_count": 330,
   "metadata": {},
   "outputs": [
    {
     "data": {
      "text/html": [
       "<div>\n",
       "<style scoped>\n",
       "    .dataframe tbody tr th:only-of-type {\n",
       "        vertical-align: middle;\n",
       "    }\n",
       "\n",
       "    .dataframe tbody tr th {\n",
       "        vertical-align: top;\n",
       "    }\n",
       "\n",
       "    .dataframe thead th {\n",
       "        text-align: right;\n",
       "    }\n",
       "</style>\n",
       "<table border=\"1\" class=\"dataframe\">\n",
       "  <thead>\n",
       "    <tr style=\"text-align: right;\">\n",
       "      <th></th>\n",
       "      <th>em Bluetooth</th>\n",
       "      <th>em CD player</th>\n",
       "      <th>em Digital radio</th>\n",
       "      <th>em Hands-free equipment</th>\n",
       "      <th>em MP3</th>\n",
       "      <th>em On-board computer</th>\n",
       "      <th>em Radio</th>\n",
       "      <th>em Sound system</th>\n",
       "      <th>em Television</th>\n",
       "      <th>em USB</th>\n",
       "    </tr>\n",
       "  </thead>\n",
       "  <tbody>\n",
       "    <tr>\n",
       "      <th>0</th>\n",
       "      <td>1</td>\n",
       "      <td>0</td>\n",
       "      <td>0</td>\n",
       "      <td>1</td>\n",
       "      <td>0</td>\n",
       "      <td>1</td>\n",
       "      <td>1</td>\n",
       "      <td>0</td>\n",
       "      <td>0</td>\n",
       "      <td>0</td>\n",
       "    </tr>\n",
       "    <tr>\n",
       "      <th>1</th>\n",
       "      <td>1</td>\n",
       "      <td>0</td>\n",
       "      <td>0</td>\n",
       "      <td>1</td>\n",
       "      <td>0</td>\n",
       "      <td>1</td>\n",
       "      <td>1</td>\n",
       "      <td>1</td>\n",
       "      <td>0</td>\n",
       "      <td>0</td>\n",
       "    </tr>\n",
       "    <tr>\n",
       "      <th>2</th>\n",
       "      <td>0</td>\n",
       "      <td>0</td>\n",
       "      <td>0</td>\n",
       "      <td>0</td>\n",
       "      <td>1</td>\n",
       "      <td>1</td>\n",
       "      <td>0</td>\n",
       "      <td>0</td>\n",
       "      <td>0</td>\n",
       "      <td>0</td>\n",
       "    </tr>\n",
       "    <tr>\n",
       "      <th>3</th>\n",
       "      <td>1</td>\n",
       "      <td>1</td>\n",
       "      <td>0</td>\n",
       "      <td>1</td>\n",
       "      <td>1</td>\n",
       "      <td>1</td>\n",
       "      <td>1</td>\n",
       "      <td>1</td>\n",
       "      <td>0</td>\n",
       "      <td>1</td>\n",
       "    </tr>\n",
       "    <tr>\n",
       "      <th>4</th>\n",
       "      <td>1</td>\n",
       "      <td>1</td>\n",
       "      <td>0</td>\n",
       "      <td>1</td>\n",
       "      <td>1</td>\n",
       "      <td>1</td>\n",
       "      <td>1</td>\n",
       "      <td>0</td>\n",
       "      <td>0</td>\n",
       "      <td>1</td>\n",
       "    </tr>\n",
       "    <tr>\n",
       "      <th>...</th>\n",
       "      <td>...</td>\n",
       "      <td>...</td>\n",
       "      <td>...</td>\n",
       "      <td>...</td>\n",
       "      <td>...</td>\n",
       "      <td>...</td>\n",
       "      <td>...</td>\n",
       "      <td>...</td>\n",
       "      <td>...</td>\n",
       "      <td>...</td>\n",
       "    </tr>\n",
       "    <tr>\n",
       "      <th>15914</th>\n",
       "      <td>1</td>\n",
       "      <td>0</td>\n",
       "      <td>1</td>\n",
       "      <td>1</td>\n",
       "      <td>0</td>\n",
       "      <td>1</td>\n",
       "      <td>1</td>\n",
       "      <td>0</td>\n",
       "      <td>0</td>\n",
       "      <td>1</td>\n",
       "    </tr>\n",
       "    <tr>\n",
       "      <th>15915</th>\n",
       "      <td>1</td>\n",
       "      <td>0</td>\n",
       "      <td>1</td>\n",
       "      <td>1</td>\n",
       "      <td>0</td>\n",
       "      <td>0</td>\n",
       "      <td>1</td>\n",
       "      <td>0</td>\n",
       "      <td>0</td>\n",
       "      <td>1</td>\n",
       "    </tr>\n",
       "    <tr>\n",
       "      <th>15916</th>\n",
       "      <td>1</td>\n",
       "      <td>0</td>\n",
       "      <td>0</td>\n",
       "      <td>1</td>\n",
       "      <td>0</td>\n",
       "      <td>1</td>\n",
       "      <td>1</td>\n",
       "      <td>0</td>\n",
       "      <td>0</td>\n",
       "      <td>0</td>\n",
       "    </tr>\n",
       "    <tr>\n",
       "      <th>15917</th>\n",
       "      <td>1</td>\n",
       "      <td>0</td>\n",
       "      <td>1</td>\n",
       "      <td>0</td>\n",
       "      <td>0</td>\n",
       "      <td>0</td>\n",
       "      <td>1</td>\n",
       "      <td>0</td>\n",
       "      <td>0</td>\n",
       "      <td>1</td>\n",
       "    </tr>\n",
       "    <tr>\n",
       "      <th>15918</th>\n",
       "      <td>0</td>\n",
       "      <td>0</td>\n",
       "      <td>0</td>\n",
       "      <td>0</td>\n",
       "      <td>0</td>\n",
       "      <td>0</td>\n",
       "      <td>0</td>\n",
       "      <td>0</td>\n",
       "      <td>0</td>\n",
       "      <td>1</td>\n",
       "    </tr>\n",
       "  </tbody>\n",
       "</table>\n",
       "<p>15918 rows × 10 columns</p>\n",
       "</div>"
      ],
      "text/plain": [
       "       em Bluetooth  em CD player  em Digital radio  em Hands-free equipment  \\\n",
       "0                 1             0                 0                        1   \n",
       "1                 1             0                 0                        1   \n",
       "2                 0             0                 0                        0   \n",
       "3                 1             1                 0                        1   \n",
       "4                 1             1                 0                        1   \n",
       "...             ...           ...               ...                      ...   \n",
       "15914             1             0                 1                        1   \n",
       "15915             1             0                 1                        1   \n",
       "15916             1             0                 0                        1   \n",
       "15917             1             0                 1                        0   \n",
       "15918             0             0                 0                        0   \n",
       "\n",
       "       em MP3  em On-board computer  em Radio  em Sound system  em Television  \\\n",
       "0           0                     1         1                0              0   \n",
       "1           0                     1         1                1              0   \n",
       "2           1                     1         0                0              0   \n",
       "3           1                     1         1                1              0   \n",
       "4           1                     1         1                0              0   \n",
       "...       ...                   ...       ...              ...            ...   \n",
       "15914       0                     1         1                0              0   \n",
       "15915       0                     0         1                0              0   \n",
       "15916       0                     1         1                0              0   \n",
       "15917       0                     0         1                0              0   \n",
       "15918       0                     0         0                0              0   \n",
       "\n",
       "       em USB  \n",
       "0           0  \n",
       "1           0  \n",
       "2           0  \n",
       "3           1  \n",
       "4           1  \n",
       "...       ...  \n",
       "15914       1  \n",
       "15915       1  \n",
       "15916       0  \n",
       "15917       1  \n",
       "15918       1  \n",
       "\n",
       "[15918 rows x 10 columns]"
      ]
     },
     "execution_count": 330,
     "metadata": {},
     "output_type": "execute_result"
    }
   ],
   "source": [
    "data[\"entertainment\"] = temp.copy()\n",
    "\n",
    "data[\"entertainment\"].str.get_dummies(sep=\",\").add_prefix('em ')"
   ]
  },
  {
   "cell_type": "code",
   "execution_count": 331,
   "metadata": {},
   "outputs": [
    {
     "data": {
      "text/plain": [
       "(15918, 63)"
      ]
     },
     "execution_count": 331,
     "metadata": {},
     "output_type": "execute_result"
    }
   ],
   "source": [
    "data.shape"
   ]
  },
  {
   "cell_type": "code",
   "execution_count": 332,
   "metadata": {},
   "outputs": [],
   "source": [
    "data = data.join(data[\"entertainment\"].str.get_dummies(sep=\",\").add_prefix('em '))\n",
    "data.drop([\"entertainment\"], axis=1, inplace=True)"
   ]
  },
  {
   "cell_type": "code",
   "execution_count": 333,
   "metadata": {},
   "outputs": [
    {
     "data": {
      "text/plain": [
       "(15918, 72)"
      ]
     },
     "execution_count": 333,
     "metadata": {},
     "output_type": "execute_result"
    }
   ],
   "source": [
    "data.shape"
   ]
  },
  {
   "cell_type": "code",
   "execution_count": null,
   "metadata": {},
   "outputs": [],
   "source": []
  },
  {
   "cell_type": "markdown",
   "metadata": {},
   "source": [
    "#### Handling the independent variables *Extras*"
   ]
  },
  {
   "cell_type": "code",
   "execution_count": 334,
   "metadata": {},
   "outputs": [
    {
     "data": {
      "text/plain": [
       "0    [Alloy wheels, Catalytic Converter, Voice Cont...\n",
       "1    [Alloy wheels, Sport seats, Sport suspension, ...\n",
       "2                        [Alloy wheels, Voice Control]\n",
       "3           [Alloy wheels, Sport seats, Voice Control]\n",
       "4    [Alloy wheels, Sport package, Sport suspension...\n",
       "Name: Extras, dtype: object"
      ]
     },
     "execution_count": 334,
     "metadata": {},
     "output_type": "execute_result"
    }
   ],
   "source": [
    "temp = raw_df[\"Extras\"].copy()\n",
    "temp.head()"
   ]
  },
  {
   "cell_type": "code",
   "execution_count": 335,
   "metadata": {},
   "outputs": [],
   "source": [
    "temp = [\",\".join(item) if type(item) == list else item for item in temp]"
   ]
  },
  {
   "cell_type": "code",
   "execution_count": 336,
   "metadata": {},
   "outputs": [
    {
     "data": {
      "text/html": [
       "<div>\n",
       "<style scoped>\n",
       "    .dataframe tbody tr th:only-of-type {\n",
       "        vertical-align: middle;\n",
       "    }\n",
       "\n",
       "    .dataframe tbody tr th {\n",
       "        vertical-align: top;\n",
       "    }\n",
       "\n",
       "    .dataframe thead th {\n",
       "        text-align: right;\n",
       "    }\n",
       "</style>\n",
       "<table border=\"1\" class=\"dataframe\">\n",
       "  <thead>\n",
       "    <tr style=\"text-align: right;\">\n",
       "      <th></th>\n",
       "      <th>ex Alloy wheels</th>\n",
       "      <th>ex Cab or rented Car</th>\n",
       "      <th>ex Catalytic Converter</th>\n",
       "      <th>ex Handicapped enabled</th>\n",
       "      <th>ex Right hand drive</th>\n",
       "      <th>ex Roof rack</th>\n",
       "      <th>ex Shift paddles</th>\n",
       "      <th>ex Ski bag</th>\n",
       "      <th>ex Sliding door</th>\n",
       "      <th>ex Sport package</th>\n",
       "      <th>ex Sport seats</th>\n",
       "      <th>ex Sport suspension</th>\n",
       "      <th>ex Touch screen</th>\n",
       "      <th>ex Trailer hitch</th>\n",
       "      <th>ex Tuned car</th>\n",
       "      <th>ex Voice Control</th>\n",
       "      <th>ex Winter tyres</th>\n",
       "    </tr>\n",
       "  </thead>\n",
       "  <tbody>\n",
       "    <tr>\n",
       "      <th>0</th>\n",
       "      <td>1</td>\n",
       "      <td>0</td>\n",
       "      <td>1</td>\n",
       "      <td>0</td>\n",
       "      <td>0</td>\n",
       "      <td>0</td>\n",
       "      <td>0</td>\n",
       "      <td>0</td>\n",
       "      <td>0</td>\n",
       "      <td>0</td>\n",
       "      <td>0</td>\n",
       "      <td>0</td>\n",
       "      <td>0</td>\n",
       "      <td>0</td>\n",
       "      <td>0</td>\n",
       "      <td>1</td>\n",
       "      <td>0</td>\n",
       "    </tr>\n",
       "    <tr>\n",
       "      <th>1</th>\n",
       "      <td>1</td>\n",
       "      <td>0</td>\n",
       "      <td>0</td>\n",
       "      <td>0</td>\n",
       "      <td>0</td>\n",
       "      <td>0</td>\n",
       "      <td>0</td>\n",
       "      <td>0</td>\n",
       "      <td>0</td>\n",
       "      <td>0</td>\n",
       "      <td>1</td>\n",
       "      <td>1</td>\n",
       "      <td>0</td>\n",
       "      <td>0</td>\n",
       "      <td>0</td>\n",
       "      <td>1</td>\n",
       "      <td>0</td>\n",
       "    </tr>\n",
       "    <tr>\n",
       "      <th>2</th>\n",
       "      <td>1</td>\n",
       "      <td>0</td>\n",
       "      <td>0</td>\n",
       "      <td>0</td>\n",
       "      <td>0</td>\n",
       "      <td>0</td>\n",
       "      <td>0</td>\n",
       "      <td>0</td>\n",
       "      <td>0</td>\n",
       "      <td>0</td>\n",
       "      <td>0</td>\n",
       "      <td>0</td>\n",
       "      <td>0</td>\n",
       "      <td>0</td>\n",
       "      <td>0</td>\n",
       "      <td>1</td>\n",
       "      <td>0</td>\n",
       "    </tr>\n",
       "    <tr>\n",
       "      <th>3</th>\n",
       "      <td>1</td>\n",
       "      <td>0</td>\n",
       "      <td>0</td>\n",
       "      <td>0</td>\n",
       "      <td>0</td>\n",
       "      <td>0</td>\n",
       "      <td>0</td>\n",
       "      <td>0</td>\n",
       "      <td>0</td>\n",
       "      <td>0</td>\n",
       "      <td>1</td>\n",
       "      <td>0</td>\n",
       "      <td>0</td>\n",
       "      <td>0</td>\n",
       "      <td>0</td>\n",
       "      <td>1</td>\n",
       "      <td>0</td>\n",
       "    </tr>\n",
       "    <tr>\n",
       "      <th>4</th>\n",
       "      <td>1</td>\n",
       "      <td>0</td>\n",
       "      <td>0</td>\n",
       "      <td>0</td>\n",
       "      <td>0</td>\n",
       "      <td>0</td>\n",
       "      <td>0</td>\n",
       "      <td>0</td>\n",
       "      <td>0</td>\n",
       "      <td>1</td>\n",
       "      <td>0</td>\n",
       "      <td>1</td>\n",
       "      <td>0</td>\n",
       "      <td>0</td>\n",
       "      <td>0</td>\n",
       "      <td>1</td>\n",
       "      <td>0</td>\n",
       "    </tr>\n",
       "    <tr>\n",
       "      <th>...</th>\n",
       "      <td>...</td>\n",
       "      <td>...</td>\n",
       "      <td>...</td>\n",
       "      <td>...</td>\n",
       "      <td>...</td>\n",
       "      <td>...</td>\n",
       "      <td>...</td>\n",
       "      <td>...</td>\n",
       "      <td>...</td>\n",
       "      <td>...</td>\n",
       "      <td>...</td>\n",
       "      <td>...</td>\n",
       "      <td>...</td>\n",
       "      <td>...</td>\n",
       "      <td>...</td>\n",
       "      <td>...</td>\n",
       "      <td>...</td>\n",
       "    </tr>\n",
       "    <tr>\n",
       "      <th>15914</th>\n",
       "      <td>1</td>\n",
       "      <td>0</td>\n",
       "      <td>0</td>\n",
       "      <td>0</td>\n",
       "      <td>0</td>\n",
       "      <td>0</td>\n",
       "      <td>0</td>\n",
       "      <td>0</td>\n",
       "      <td>0</td>\n",
       "      <td>0</td>\n",
       "      <td>0</td>\n",
       "      <td>0</td>\n",
       "      <td>1</td>\n",
       "      <td>0</td>\n",
       "      <td>0</td>\n",
       "      <td>0</td>\n",
       "      <td>0</td>\n",
       "    </tr>\n",
       "    <tr>\n",
       "      <th>15915</th>\n",
       "      <td>1</td>\n",
       "      <td>0</td>\n",
       "      <td>0</td>\n",
       "      <td>0</td>\n",
       "      <td>0</td>\n",
       "      <td>0</td>\n",
       "      <td>0</td>\n",
       "      <td>0</td>\n",
       "      <td>0</td>\n",
       "      <td>0</td>\n",
       "      <td>0</td>\n",
       "      <td>0</td>\n",
       "      <td>1</td>\n",
       "      <td>0</td>\n",
       "      <td>0</td>\n",
       "      <td>1</td>\n",
       "      <td>0</td>\n",
       "    </tr>\n",
       "    <tr>\n",
       "      <th>15916</th>\n",
       "      <td>1</td>\n",
       "      <td>0</td>\n",
       "      <td>0</td>\n",
       "      <td>0</td>\n",
       "      <td>0</td>\n",
       "      <td>0</td>\n",
       "      <td>0</td>\n",
       "      <td>0</td>\n",
       "      <td>0</td>\n",
       "      <td>0</td>\n",
       "      <td>0</td>\n",
       "      <td>0</td>\n",
       "      <td>0</td>\n",
       "      <td>0</td>\n",
       "      <td>0</td>\n",
       "      <td>0</td>\n",
       "      <td>0</td>\n",
       "    </tr>\n",
       "    <tr>\n",
       "      <th>15917</th>\n",
       "      <td>1</td>\n",
       "      <td>0</td>\n",
       "      <td>0</td>\n",
       "      <td>0</td>\n",
       "      <td>0</td>\n",
       "      <td>0</td>\n",
       "      <td>0</td>\n",
       "      <td>0</td>\n",
       "      <td>0</td>\n",
       "      <td>0</td>\n",
       "      <td>0</td>\n",
       "      <td>0</td>\n",
       "      <td>1</td>\n",
       "      <td>0</td>\n",
       "      <td>0</td>\n",
       "      <td>0</td>\n",
       "      <td>0</td>\n",
       "    </tr>\n",
       "    <tr>\n",
       "      <th>15918</th>\n",
       "      <td>1</td>\n",
       "      <td>0</td>\n",
       "      <td>0</td>\n",
       "      <td>0</td>\n",
       "      <td>0</td>\n",
       "      <td>0</td>\n",
       "      <td>0</td>\n",
       "      <td>0</td>\n",
       "      <td>0</td>\n",
       "      <td>0</td>\n",
       "      <td>0</td>\n",
       "      <td>0</td>\n",
       "      <td>1</td>\n",
       "      <td>0</td>\n",
       "      <td>0</td>\n",
       "      <td>0</td>\n",
       "      <td>0</td>\n",
       "    </tr>\n",
       "  </tbody>\n",
       "</table>\n",
       "<p>15918 rows × 17 columns</p>\n",
       "</div>"
      ],
      "text/plain": [
       "       ex Alloy wheels  ex Cab or rented Car  ex Catalytic Converter  \\\n",
       "0                    1                     0                       1   \n",
       "1                    1                     0                       0   \n",
       "2                    1                     0                       0   \n",
       "3                    1                     0                       0   \n",
       "4                    1                     0                       0   \n",
       "...                ...                   ...                     ...   \n",
       "15914                1                     0                       0   \n",
       "15915                1                     0                       0   \n",
       "15916                1                     0                       0   \n",
       "15917                1                     0                       0   \n",
       "15918                1                     0                       0   \n",
       "\n",
       "       ex Handicapped enabled  ex Right hand drive  ex Roof rack  \\\n",
       "0                           0                    0             0   \n",
       "1                           0                    0             0   \n",
       "2                           0                    0             0   \n",
       "3                           0                    0             0   \n",
       "4                           0                    0             0   \n",
       "...                       ...                  ...           ...   \n",
       "15914                       0                    0             0   \n",
       "15915                       0                    0             0   \n",
       "15916                       0                    0             0   \n",
       "15917                       0                    0             0   \n",
       "15918                       0                    0             0   \n",
       "\n",
       "       ex Shift paddles  ex Ski bag  ex Sliding door  ex Sport package  \\\n",
       "0                     0           0                0                 0   \n",
       "1                     0           0                0                 0   \n",
       "2                     0           0                0                 0   \n",
       "3                     0           0                0                 0   \n",
       "4                     0           0                0                 1   \n",
       "...                 ...         ...              ...               ...   \n",
       "15914                 0           0                0                 0   \n",
       "15915                 0           0                0                 0   \n",
       "15916                 0           0                0                 0   \n",
       "15917                 0           0                0                 0   \n",
       "15918                 0           0                0                 0   \n",
       "\n",
       "       ex Sport seats  ex Sport suspension  ex Touch screen  ex Trailer hitch  \\\n",
       "0                   0                    0                0                 0   \n",
       "1                   1                    1                0                 0   \n",
       "2                   0                    0                0                 0   \n",
       "3                   1                    0                0                 0   \n",
       "4                   0                    1                0                 0   \n",
       "...               ...                  ...              ...               ...   \n",
       "15914               0                    0                1                 0   \n",
       "15915               0                    0                1                 0   \n",
       "15916               0                    0                0                 0   \n",
       "15917               0                    0                1                 0   \n",
       "15918               0                    0                1                 0   \n",
       "\n",
       "       ex Tuned car  ex Voice Control  ex Winter tyres  \n",
       "0                 0                 1                0  \n",
       "1                 0                 1                0  \n",
       "2                 0                 1                0  \n",
       "3                 0                 1                0  \n",
       "4                 0                 1                0  \n",
       "...             ...               ...              ...  \n",
       "15914             0                 0                0  \n",
       "15915             0                 1                0  \n",
       "15916             0                 0                0  \n",
       "15917             0                 0                0  \n",
       "15918             0                 0                0  \n",
       "\n",
       "[15918 rows x 17 columns]"
      ]
     },
     "execution_count": 336,
     "metadata": {},
     "output_type": "execute_result"
    }
   ],
   "source": [
    "data[\"extras\"] = temp.copy()\n",
    "\n",
    "data[\"extras\"].str.get_dummies(sep=\",\").add_prefix('ex ')"
   ]
  },
  {
   "cell_type": "code",
   "execution_count": 337,
   "metadata": {},
   "outputs": [
    {
     "data": {
      "text/plain": [
       "(15918, 73)"
      ]
     },
     "execution_count": 337,
     "metadata": {},
     "output_type": "execute_result"
    }
   ],
   "source": [
    "data.shape"
   ]
  },
  {
   "cell_type": "code",
   "execution_count": 338,
   "metadata": {},
   "outputs": [],
   "source": [
    "data = data.join(data[\"extras\"].str.get_dummies(sep=\",\").add_prefix('ex '))\n",
    "data.drop([\"extras\"], axis=1, inplace=True)"
   ]
  },
  {
   "cell_type": "code",
   "execution_count": 339,
   "metadata": {},
   "outputs": [
    {
     "data": {
      "text/plain": [
       "(15918, 89)"
      ]
     },
     "execution_count": 339,
     "metadata": {},
     "output_type": "execute_result"
    }
   ],
   "source": [
    "data.shape"
   ]
  },
  {
   "cell_type": "markdown",
   "metadata": {},
   "source": [
    "#### Handling the independent variables *Safety & Security*"
   ]
  },
  {
   "cell_type": "code",
   "execution_count": 340,
   "metadata": {},
   "outputs": [
    {
     "data": {
      "text/plain": [
       "0    [ABS, Central door lock, Daytime running light...\n",
       "1    [ABS, Central door lock, Central door lock wit...\n",
       "2    [ABS, Central door lock, Daytime running light...\n",
       "3    [ABS, Alarm system, Central door lock with rem...\n",
       "4    [ABS, Central door lock, Driver-side airbag, E...\n",
       "Name: Safety & Security, dtype: object"
      ]
     },
     "execution_count": 340,
     "metadata": {},
     "output_type": "execute_result"
    }
   ],
   "source": [
    "temp = raw_df[\"Safety & Security\"].copy()\n",
    "temp.head()"
   ]
  },
  {
   "cell_type": "code",
   "execution_count": 341,
   "metadata": {},
   "outputs": [
    {
     "data": {
      "text/plain": [
       "['ABS',\n",
       " 'Central door lock',\n",
       " 'Daytime running lights',\n",
       " 'Driver-side airbag',\n",
       " 'Electronic stability control',\n",
       " 'Fog lights',\n",
       " 'Immobilizer',\n",
       " 'Isofix',\n",
       " 'Passenger-side airbag',\n",
       " 'Power steering',\n",
       " 'Side airbag',\n",
       " 'Tire pressure monitoring system',\n",
       " 'Traction control',\n",
       " 'Xenon headlights']"
      ]
     },
     "execution_count": 341,
     "metadata": {},
     "output_type": "execute_result"
    }
   ],
   "source": [
    "temp[0:1][0]"
   ]
  },
  {
   "cell_type": "code",
   "execution_count": 342,
   "metadata": {},
   "outputs": [],
   "source": [
    "temp = [\",\".join(item) if type(item) == list else item for item in temp]"
   ]
  },
  {
   "cell_type": "code",
   "execution_count": 343,
   "metadata": {},
   "outputs": [
    {
     "data": {
      "text/plain": [
       "['ABS,Central door lock,Daytime running lights,Driver-side airbag,Electronic stability control,Fog lights,Immobilizer,Isofix,Passenger-side airbag,Power steering,Side airbag,Tire pressure monitoring system,Traction control,Xenon headlights']"
      ]
     },
     "execution_count": 343,
     "metadata": {},
     "output_type": "execute_result"
    }
   ],
   "source": [
    "temp[0:1]"
   ]
  },
  {
   "cell_type": "code",
   "execution_count": 344,
   "metadata": {},
   "outputs": [
    {
     "data": {
      "text/html": [
       "<div>\n",
       "<style scoped>\n",
       "    .dataframe tbody tr th:only-of-type {\n",
       "        vertical-align: middle;\n",
       "    }\n",
       "\n",
       "    .dataframe tbody tr th {\n",
       "        vertical-align: top;\n",
       "    }\n",
       "\n",
       "    .dataframe thead th {\n",
       "        text-align: right;\n",
       "    }\n",
       "</style>\n",
       "<table border=\"1\" class=\"dataframe\">\n",
       "  <thead>\n",
       "    <tr style=\"text-align: right;\">\n",
       "      <th></th>\n",
       "      <th>ss ABS</th>\n",
       "      <th>ss Adaptive Cruise Control</th>\n",
       "      <th>ss Adaptive headlights</th>\n",
       "      <th>ss Alarm system</th>\n",
       "      <th>ss Blind spot monitor</th>\n",
       "      <th>ss Central door lock</th>\n",
       "      <th>ss Central door lock with remote control</th>\n",
       "      <th>ss Daytime running lights</th>\n",
       "      <th>ss Driver drowsiness detection</th>\n",
       "      <th>ss Driver-side airbag</th>\n",
       "      <th>ss Electronic stability control</th>\n",
       "      <th>ss Emergency brake assistant</th>\n",
       "      <th>ss Emergency system</th>\n",
       "      <th>ss Fog lights</th>\n",
       "      <th>ss Head airbag</th>\n",
       "      <th>ss Immobilizer</th>\n",
       "      <th>ss Isofix</th>\n",
       "      <th>ss LED Daytime Running Lights</th>\n",
       "      <th>ss LED Headlights</th>\n",
       "      <th>ss Lane departure warning system</th>\n",
       "      <th>ss Night view assist</th>\n",
       "      <th>ss Passenger-side airbag</th>\n",
       "      <th>ss Power steering</th>\n",
       "      <th>ss Rear airbag</th>\n",
       "      <th>ss Side airbag</th>\n",
       "      <th>ss Tire pressure monitoring system</th>\n",
       "      <th>ss Traction control</th>\n",
       "      <th>ss Traffic sign recognition</th>\n",
       "      <th>ss Xenon headlights</th>\n",
       "    </tr>\n",
       "  </thead>\n",
       "  <tbody>\n",
       "    <tr>\n",
       "      <th>0</th>\n",
       "      <td>1</td>\n",
       "      <td>0</td>\n",
       "      <td>0</td>\n",
       "      <td>0</td>\n",
       "      <td>0</td>\n",
       "      <td>1</td>\n",
       "      <td>0</td>\n",
       "      <td>1</td>\n",
       "      <td>0</td>\n",
       "      <td>1</td>\n",
       "      <td>1</td>\n",
       "      <td>0</td>\n",
       "      <td>0</td>\n",
       "      <td>1</td>\n",
       "      <td>0</td>\n",
       "      <td>1</td>\n",
       "      <td>1</td>\n",
       "      <td>0</td>\n",
       "      <td>0</td>\n",
       "      <td>0</td>\n",
       "      <td>0</td>\n",
       "      <td>1</td>\n",
       "      <td>1</td>\n",
       "      <td>0</td>\n",
       "      <td>1</td>\n",
       "      <td>1</td>\n",
       "      <td>1</td>\n",
       "      <td>0</td>\n",
       "      <td>1</td>\n",
       "    </tr>\n",
       "    <tr>\n",
       "      <th>1</th>\n",
       "      <td>1</td>\n",
       "      <td>0</td>\n",
       "      <td>0</td>\n",
       "      <td>0</td>\n",
       "      <td>0</td>\n",
       "      <td>1</td>\n",
       "      <td>1</td>\n",
       "      <td>1</td>\n",
       "      <td>0</td>\n",
       "      <td>1</td>\n",
       "      <td>1</td>\n",
       "      <td>0</td>\n",
       "      <td>0</td>\n",
       "      <td>0</td>\n",
       "      <td>1</td>\n",
       "      <td>1</td>\n",
       "      <td>1</td>\n",
       "      <td>0</td>\n",
       "      <td>0</td>\n",
       "      <td>0</td>\n",
       "      <td>0</td>\n",
       "      <td>1</td>\n",
       "      <td>1</td>\n",
       "      <td>0</td>\n",
       "      <td>1</td>\n",
       "      <td>1</td>\n",
       "      <td>1</td>\n",
       "      <td>0</td>\n",
       "      <td>1</td>\n",
       "    </tr>\n",
       "    <tr>\n",
       "      <th>2</th>\n",
       "      <td>1</td>\n",
       "      <td>0</td>\n",
       "      <td>0</td>\n",
       "      <td>0</td>\n",
       "      <td>0</td>\n",
       "      <td>1</td>\n",
       "      <td>0</td>\n",
       "      <td>1</td>\n",
       "      <td>0</td>\n",
       "      <td>1</td>\n",
       "      <td>1</td>\n",
       "      <td>0</td>\n",
       "      <td>0</td>\n",
       "      <td>0</td>\n",
       "      <td>0</td>\n",
       "      <td>1</td>\n",
       "      <td>1</td>\n",
       "      <td>0</td>\n",
       "      <td>0</td>\n",
       "      <td>0</td>\n",
       "      <td>0</td>\n",
       "      <td>1</td>\n",
       "      <td>1</td>\n",
       "      <td>0</td>\n",
       "      <td>1</td>\n",
       "      <td>1</td>\n",
       "      <td>1</td>\n",
       "      <td>0</td>\n",
       "      <td>0</td>\n",
       "    </tr>\n",
       "    <tr>\n",
       "      <th>3</th>\n",
       "      <td>1</td>\n",
       "      <td>0</td>\n",
       "      <td>0</td>\n",
       "      <td>1</td>\n",
       "      <td>0</td>\n",
       "      <td>0</td>\n",
       "      <td>1</td>\n",
       "      <td>0</td>\n",
       "      <td>1</td>\n",
       "      <td>1</td>\n",
       "      <td>1</td>\n",
       "      <td>0</td>\n",
       "      <td>1</td>\n",
       "      <td>0</td>\n",
       "      <td>1</td>\n",
       "      <td>1</td>\n",
       "      <td>1</td>\n",
       "      <td>0</td>\n",
       "      <td>0</td>\n",
       "      <td>0</td>\n",
       "      <td>0</td>\n",
       "      <td>1</td>\n",
       "      <td>1</td>\n",
       "      <td>0</td>\n",
       "      <td>1</td>\n",
       "      <td>1</td>\n",
       "      <td>0</td>\n",
       "      <td>0</td>\n",
       "      <td>0</td>\n",
       "    </tr>\n",
       "    <tr>\n",
       "      <th>4</th>\n",
       "      <td>1</td>\n",
       "      <td>0</td>\n",
       "      <td>0</td>\n",
       "      <td>0</td>\n",
       "      <td>0</td>\n",
       "      <td>1</td>\n",
       "      <td>0</td>\n",
       "      <td>0</td>\n",
       "      <td>0</td>\n",
       "      <td>1</td>\n",
       "      <td>1</td>\n",
       "      <td>0</td>\n",
       "      <td>0</td>\n",
       "      <td>1</td>\n",
       "      <td>0</td>\n",
       "      <td>1</td>\n",
       "      <td>1</td>\n",
       "      <td>0</td>\n",
       "      <td>0</td>\n",
       "      <td>0</td>\n",
       "      <td>0</td>\n",
       "      <td>1</td>\n",
       "      <td>1</td>\n",
       "      <td>0</td>\n",
       "      <td>1</td>\n",
       "      <td>1</td>\n",
       "      <td>1</td>\n",
       "      <td>0</td>\n",
       "      <td>1</td>\n",
       "    </tr>\n",
       "    <tr>\n",
       "      <th>...</th>\n",
       "      <td>...</td>\n",
       "      <td>...</td>\n",
       "      <td>...</td>\n",
       "      <td>...</td>\n",
       "      <td>...</td>\n",
       "      <td>...</td>\n",
       "      <td>...</td>\n",
       "      <td>...</td>\n",
       "      <td>...</td>\n",
       "      <td>...</td>\n",
       "      <td>...</td>\n",
       "      <td>...</td>\n",
       "      <td>...</td>\n",
       "      <td>...</td>\n",
       "      <td>...</td>\n",
       "      <td>...</td>\n",
       "      <td>...</td>\n",
       "      <td>...</td>\n",
       "      <td>...</td>\n",
       "      <td>...</td>\n",
       "      <td>...</td>\n",
       "      <td>...</td>\n",
       "      <td>...</td>\n",
       "      <td>...</td>\n",
       "      <td>...</td>\n",
       "      <td>...</td>\n",
       "      <td>...</td>\n",
       "      <td>...</td>\n",
       "      <td>...</td>\n",
       "    </tr>\n",
       "    <tr>\n",
       "      <th>15914</th>\n",
       "      <td>1</td>\n",
       "      <td>0</td>\n",
       "      <td>0</td>\n",
       "      <td>0</td>\n",
       "      <td>0</td>\n",
       "      <td>1</td>\n",
       "      <td>1</td>\n",
       "      <td>0</td>\n",
       "      <td>0</td>\n",
       "      <td>1</td>\n",
       "      <td>1</td>\n",
       "      <td>1</td>\n",
       "      <td>0</td>\n",
       "      <td>0</td>\n",
       "      <td>1</td>\n",
       "      <td>1</td>\n",
       "      <td>1</td>\n",
       "      <td>1</td>\n",
       "      <td>1</td>\n",
       "      <td>1</td>\n",
       "      <td>0</td>\n",
       "      <td>1</td>\n",
       "      <td>1</td>\n",
       "      <td>1</td>\n",
       "      <td>1</td>\n",
       "      <td>1</td>\n",
       "      <td>1</td>\n",
       "      <td>1</td>\n",
       "      <td>0</td>\n",
       "    </tr>\n",
       "    <tr>\n",
       "      <th>15915</th>\n",
       "      <td>1</td>\n",
       "      <td>1</td>\n",
       "      <td>0</td>\n",
       "      <td>0</td>\n",
       "      <td>1</td>\n",
       "      <td>1</td>\n",
       "      <td>0</td>\n",
       "      <td>1</td>\n",
       "      <td>0</td>\n",
       "      <td>1</td>\n",
       "      <td>1</td>\n",
       "      <td>1</td>\n",
       "      <td>0</td>\n",
       "      <td>0</td>\n",
       "      <td>0</td>\n",
       "      <td>1</td>\n",
       "      <td>1</td>\n",
       "      <td>1</td>\n",
       "      <td>1</td>\n",
       "      <td>1</td>\n",
       "      <td>0</td>\n",
       "      <td>1</td>\n",
       "      <td>1</td>\n",
       "      <td>0</td>\n",
       "      <td>1</td>\n",
       "      <td>1</td>\n",
       "      <td>1</td>\n",
       "      <td>1</td>\n",
       "      <td>0</td>\n",
       "    </tr>\n",
       "    <tr>\n",
       "      <th>15916</th>\n",
       "      <td>1</td>\n",
       "      <td>1</td>\n",
       "      <td>0</td>\n",
       "      <td>0</td>\n",
       "      <td>1</td>\n",
       "      <td>1</td>\n",
       "      <td>0</td>\n",
       "      <td>1</td>\n",
       "      <td>0</td>\n",
       "      <td>1</td>\n",
       "      <td>1</td>\n",
       "      <td>1</td>\n",
       "      <td>0</td>\n",
       "      <td>0</td>\n",
       "      <td>0</td>\n",
       "      <td>1</td>\n",
       "      <td>1</td>\n",
       "      <td>1</td>\n",
       "      <td>1</td>\n",
       "      <td>1</td>\n",
       "      <td>0</td>\n",
       "      <td>1</td>\n",
       "      <td>1</td>\n",
       "      <td>0</td>\n",
       "      <td>1</td>\n",
       "      <td>0</td>\n",
       "      <td>1</td>\n",
       "      <td>1</td>\n",
       "      <td>0</td>\n",
       "    </tr>\n",
       "    <tr>\n",
       "      <th>15917</th>\n",
       "      <td>1</td>\n",
       "      <td>0</td>\n",
       "      <td>0</td>\n",
       "      <td>0</td>\n",
       "      <td>1</td>\n",
       "      <td>0</td>\n",
       "      <td>0</td>\n",
       "      <td>0</td>\n",
       "      <td>0</td>\n",
       "      <td>1</td>\n",
       "      <td>1</td>\n",
       "      <td>1</td>\n",
       "      <td>0</td>\n",
       "      <td>0</td>\n",
       "      <td>0</td>\n",
       "      <td>0</td>\n",
       "      <td>1</td>\n",
       "      <td>0</td>\n",
       "      <td>1</td>\n",
       "      <td>0</td>\n",
       "      <td>0</td>\n",
       "      <td>1</td>\n",
       "      <td>1</td>\n",
       "      <td>0</td>\n",
       "      <td>1</td>\n",
       "      <td>1</td>\n",
       "      <td>0</td>\n",
       "      <td>1</td>\n",
       "      <td>0</td>\n",
       "    </tr>\n",
       "    <tr>\n",
       "      <th>15918</th>\n",
       "      <td>1</td>\n",
       "      <td>0</td>\n",
       "      <td>0</td>\n",
       "      <td>0</td>\n",
       "      <td>1</td>\n",
       "      <td>0</td>\n",
       "      <td>0</td>\n",
       "      <td>1</td>\n",
       "      <td>0</td>\n",
       "      <td>1</td>\n",
       "      <td>1</td>\n",
       "      <td>1</td>\n",
       "      <td>0</td>\n",
       "      <td>0</td>\n",
       "      <td>0</td>\n",
       "      <td>1</td>\n",
       "      <td>1</td>\n",
       "      <td>1</td>\n",
       "      <td>0</td>\n",
       "      <td>0</td>\n",
       "      <td>0</td>\n",
       "      <td>1</td>\n",
       "      <td>1</td>\n",
       "      <td>0</td>\n",
       "      <td>1</td>\n",
       "      <td>1</td>\n",
       "      <td>0</td>\n",
       "      <td>1</td>\n",
       "      <td>0</td>\n",
       "    </tr>\n",
       "  </tbody>\n",
       "</table>\n",
       "<p>15918 rows × 29 columns</p>\n",
       "</div>"
      ],
      "text/plain": [
       "       ss ABS  ss Adaptive Cruise Control  ss Adaptive headlights  \\\n",
       "0           1                           0                       0   \n",
       "1           1                           0                       0   \n",
       "2           1                           0                       0   \n",
       "3           1                           0                       0   \n",
       "4           1                           0                       0   \n",
       "...       ...                         ...                     ...   \n",
       "15914       1                           0                       0   \n",
       "15915       1                           1                       0   \n",
       "15916       1                           1                       0   \n",
       "15917       1                           0                       0   \n",
       "15918       1                           0                       0   \n",
       "\n",
       "       ss Alarm system  ss Blind spot monitor  ss Central door lock  \\\n",
       "0                    0                      0                     1   \n",
       "1                    0                      0                     1   \n",
       "2                    0                      0                     1   \n",
       "3                    1                      0                     0   \n",
       "4                    0                      0                     1   \n",
       "...                ...                    ...                   ...   \n",
       "15914                0                      0                     1   \n",
       "15915                0                      1                     1   \n",
       "15916                0                      1                     1   \n",
       "15917                0                      1                     0   \n",
       "15918                0                      1                     0   \n",
       "\n",
       "       ss Central door lock with remote control  ss Daytime running lights  \\\n",
       "0                                             0                          1   \n",
       "1                                             1                          1   \n",
       "2                                             0                          1   \n",
       "3                                             1                          0   \n",
       "4                                             0                          0   \n",
       "...                                         ...                        ...   \n",
       "15914                                         1                          0   \n",
       "15915                                         0                          1   \n",
       "15916                                         0                          1   \n",
       "15917                                         0                          0   \n",
       "15918                                         0                          1   \n",
       "\n",
       "       ss Driver drowsiness detection  ss Driver-side airbag  \\\n",
       "0                                   0                      1   \n",
       "1                                   0                      1   \n",
       "2                                   0                      1   \n",
       "3                                   1                      1   \n",
       "4                                   0                      1   \n",
       "...                               ...                    ...   \n",
       "15914                               0                      1   \n",
       "15915                               0                      1   \n",
       "15916                               0                      1   \n",
       "15917                               0                      1   \n",
       "15918                               0                      1   \n",
       "\n",
       "       ss Electronic stability control  ss Emergency brake assistant  \\\n",
       "0                                    1                             0   \n",
       "1                                    1                             0   \n",
       "2                                    1                             0   \n",
       "3                                    1                             0   \n",
       "4                                    1                             0   \n",
       "...                                ...                           ...   \n",
       "15914                                1                             1   \n",
       "15915                                1                             1   \n",
       "15916                                1                             1   \n",
       "15917                                1                             1   \n",
       "15918                                1                             1   \n",
       "\n",
       "       ss Emergency system  ss Fog lights  ss Head airbag  ss Immobilizer  \\\n",
       "0                        0              1               0               1   \n",
       "1                        0              0               1               1   \n",
       "2                        0              0               0               1   \n",
       "3                        1              0               1               1   \n",
       "4                        0              1               0               1   \n",
       "...                    ...            ...             ...             ...   \n",
       "15914                    0              0               1               1   \n",
       "15915                    0              0               0               1   \n",
       "15916                    0              0               0               1   \n",
       "15917                    0              0               0               0   \n",
       "15918                    0              0               0               1   \n",
       "\n",
       "       ss Isofix  ss LED Daytime Running Lights  ss LED Headlights  \\\n",
       "0              1                              0                  0   \n",
       "1              1                              0                  0   \n",
       "2              1                              0                  0   \n",
       "3              1                              0                  0   \n",
       "4              1                              0                  0   \n",
       "...          ...                            ...                ...   \n",
       "15914          1                              1                  1   \n",
       "15915          1                              1                  1   \n",
       "15916          1                              1                  1   \n",
       "15917          1                              0                  1   \n",
       "15918          1                              1                  0   \n",
       "\n",
       "       ss Lane departure warning system  ss Night view assist  \\\n",
       "0                                     0                     0   \n",
       "1                                     0                     0   \n",
       "2                                     0                     0   \n",
       "3                                     0                     0   \n",
       "4                                     0                     0   \n",
       "...                                 ...                   ...   \n",
       "15914                                 1                     0   \n",
       "15915                                 1                     0   \n",
       "15916                                 1                     0   \n",
       "15917                                 0                     0   \n",
       "15918                                 0                     0   \n",
       "\n",
       "       ss Passenger-side airbag  ss Power steering  ss Rear airbag  \\\n",
       "0                             1                  1               0   \n",
       "1                             1                  1               0   \n",
       "2                             1                  1               0   \n",
       "3                             1                  1               0   \n",
       "4                             1                  1               0   \n",
       "...                         ...                ...             ...   \n",
       "15914                         1                  1               1   \n",
       "15915                         1                  1               0   \n",
       "15916                         1                  1               0   \n",
       "15917                         1                  1               0   \n",
       "15918                         1                  1               0   \n",
       "\n",
       "       ss Side airbag  ss Tire pressure monitoring system  \\\n",
       "0                   1                                   1   \n",
       "1                   1                                   1   \n",
       "2                   1                                   1   \n",
       "3                   1                                   1   \n",
       "4                   1                                   1   \n",
       "...               ...                                 ...   \n",
       "15914               1                                   1   \n",
       "15915               1                                   1   \n",
       "15916               1                                   0   \n",
       "15917               1                                   1   \n",
       "15918               1                                   1   \n",
       "\n",
       "       ss Traction control  ss Traffic sign recognition  ss Xenon headlights  \n",
       "0                        1                            0                    1  \n",
       "1                        1                            0                    1  \n",
       "2                        1                            0                    0  \n",
       "3                        0                            0                    0  \n",
       "4                        1                            0                    1  \n",
       "...                    ...                          ...                  ...  \n",
       "15914                    1                            1                    0  \n",
       "15915                    1                            1                    0  \n",
       "15916                    1                            1                    0  \n",
       "15917                    0                            1                    0  \n",
       "15918                    0                            1                    0  \n",
       "\n",
       "[15918 rows x 29 columns]"
      ]
     },
     "execution_count": 344,
     "metadata": {},
     "output_type": "execute_result"
    }
   ],
   "source": [
    "data[\"safety_security\"] = temp.copy()\n",
    "\n",
    "data[\"safety_security\"].str.get_dummies(sep=\",\").add_prefix('ss ')"
   ]
  },
  {
   "cell_type": "code",
   "execution_count": 345,
   "metadata": {},
   "outputs": [
    {
     "data": {
      "text/plain": [
       "(15918, 90)"
      ]
     },
     "execution_count": 345,
     "metadata": {},
     "output_type": "execute_result"
    }
   ],
   "source": [
    "data.shape"
   ]
  },
  {
   "cell_type": "code",
   "execution_count": 346,
   "metadata": {},
   "outputs": [],
   "source": [
    "data = data.join(data[\"safety_security\"].str.get_dummies(sep=\",\").add_prefix('ss '))\n",
    "data.drop([\"safety_security\"], axis=1, inplace=True)"
   ]
  },
  {
   "cell_type": "code",
   "execution_count": 347,
   "metadata": {},
   "outputs": [
    {
     "data": {
      "text/plain": [
       "(15918, 118)"
      ]
     },
     "execution_count": 347,
     "metadata": {},
     "output_type": "execute_result"
    }
   ],
   "source": [
    "data.shape"
   ]
  },
  {
   "cell_type": "markdown",
   "metadata": {},
   "source": [
    "#### Handling the independent variables *description*"
   ]
  },
  {
   "cell_type": "code",
   "execution_count": 348,
   "metadata": {},
   "outputs": [
    {
     "data": {
      "text/plain": [
       "0    [\\n, Sicherheit:,  , Deaktivierung für Beifahr...\n",
       "1    [\\nLangstreckenfahrzeug daher die hohe Kilomet...\n",
       "2    [\\n, Fahrzeug-Nummer: AM-95365,  , Ehem. UPE 2...\n",
       "3    [\\nAudi A1: , - 1e eigenaar , - Perfecte staat...\n",
       "4    [\\n, Technik & Sicherheit:, Xenon plus, Klimaa...\n",
       "Name: description, dtype: object"
      ]
     },
     "execution_count": 348,
     "metadata": {},
     "output_type": "execute_result"
    }
   ],
   "source": [
    "temp = raw_df[\"description\"].copy()\n",
    "temp.head()"
   ]
  },
  {
   "cell_type": "code",
   "execution_count": null,
   "metadata": {},
   "outputs": [],
   "source": []
  },
  {
   "cell_type": "markdown",
   "metadata": {},
   "source": [
    "#### Handling the independent variables *short_description*"
   ]
  },
  {
   "cell_type": "code",
   "execution_count": 349,
   "metadata": {},
   "outputs": [
    {
     "data": {
      "text/plain": [
       "0          Sportback 1.4 TDI S-tronic Xenon Navi Klima\n",
       "1                                       1.8 TFSI sport\n",
       "2    Sportback 1.6 TDI S tronic Einparkhilfe plus+m...\n",
       "3                              1.4 TDi Design S tronic\n",
       "4    Sportback 1.4 TDI S-Tronic S-Line Ext. admired...\n",
       "Name: short_description, dtype: object"
      ]
     },
     "execution_count": 349,
     "metadata": {},
     "output_type": "execute_result"
    }
   ],
   "source": [
    "temp = raw_df[\"short_description\"].copy()\n",
    "temp.head()"
   ]
  },
  {
   "cell_type": "markdown",
   "metadata": {},
   "source": [
    "#### Handling the independent variables *Weight*"
   ]
  },
  {
   "cell_type": "code",
   "execution_count": 350,
   "metadata": {},
   "outputs": [
    {
     "data": {
      "text/plain": [
       "0    [\\n1,220 kg\\n]\n",
       "1    [\\n1,255 kg\\n]\n",
       "2               NaN\n",
       "3    [\\n1,195 kg\\n]\n",
       "4               NaN\n",
       "Name: Weight, dtype: object"
      ]
     },
     "execution_count": 350,
     "metadata": {},
     "output_type": "execute_result"
    }
   ],
   "source": [
    "temp = raw_df[\"Weight\"]\n",
    "temp.head()"
   ]
  },
  {
   "cell_type": "code",
   "execution_count": 351,
   "metadata": {},
   "outputs": [
    {
     "data": {
      "text/plain": [
       "6973"
      ]
     },
     "execution_count": 351,
     "metadata": {},
     "output_type": "execute_result"
    }
   ],
   "source": [
    "temp.isnull().sum()"
   ]
  },
  {
   "cell_type": "code",
   "execution_count": 352,
   "metadata": {},
   "outputs": [],
   "source": [
    "temp = temp.apply(lambda x: int(str(x[0].strip(\"\\n\").replace(\",\", \"\").strip(\" kg\"))) if isinstance(x, list) else x)"
   ]
  },
  {
   "cell_type": "code",
   "execution_count": 353,
   "metadata": {},
   "outputs": [
    {
     "data": {
      "text/plain": [
       "0    1220.0\n",
       "1    1255.0\n",
       "2       NaN\n",
       "3    1195.0\n",
       "4       NaN\n",
       "Name: Weight, dtype: float64"
      ]
     },
     "execution_count": 353,
     "metadata": {},
     "output_type": "execute_result"
    }
   ],
   "source": [
    "temp.head()"
   ]
  },
  {
   "cell_type": "code",
   "execution_count": 354,
   "metadata": {},
   "outputs": [],
   "source": [
    "data[\"weight\"] = temp.copy()"
   ]
  },
  {
   "cell_type": "code",
   "execution_count": 355,
   "metadata": {},
   "outputs": [],
   "source": [
    "#data.weight = data.weight.fillna(data.groupby([\"model\", \"body_type\"])[\"weight\"].transform('mean'))\n",
    "data.weight = data.weight.fillna(data.groupby(\"model\")[\"weight\"].transform('mean'))\n",
    "#data[\"gears\"] = data[\"gears\"].fillna(data.groupby(\"model\")[\"gears\"].transform(lambda x: x.mode().iloc[0]))"
   ]
  },
  {
   "cell_type": "code",
   "execution_count": 356,
   "metadata": {},
   "outputs": [
    {
     "data": {
      "text/plain": [
       "15820    1840.000000\n",
       "15821    1840.000000\n",
       "15822    1647.000000\n",
       "15823    1647.000000\n",
       "15824    1608.000000\n",
       "15825    1647.000000\n",
       "15826    1729.388401\n",
       "15827    1608.000000\n",
       "15828    1647.000000\n",
       "15829    1840.000000\n",
       "15830    1624.000000\n",
       "15831    1647.000000\n",
       "15832    1729.388401\n",
       "15833    1621.000000\n",
       "15834    1647.000000\n",
       "15835    1840.000000\n",
       "15836    1975.000000\n",
       "15837    1734.000000\n",
       "15838    1840.000000\n",
       "15839    1708.000000\n",
       "15840    1840.000000\n",
       "15841    1729.388401\n",
       "15842    1729.388401\n",
       "15843    1729.388401\n",
       "15844    1840.000000\n",
       "15845    1733.000000\n",
       "15846    1729.388401\n",
       "15847    1875.000000\n",
       "15848    1765.000000\n",
       "15849    1765.000000\n",
       "15850    1765.000000\n",
       "15851    1729.388401\n",
       "15852    1729.388401\n",
       "15853    1840.000000\n",
       "15854    1659.000000\n",
       "15855    1729.388401\n",
       "15856    1729.388401\n",
       "15857    1765.000000\n",
       "15858    1840.000000\n",
       "15859    1685.000000\n",
       "15860    1729.388401\n",
       "15861    1624.000000\n",
       "15862    1708.000000\n",
       "15863    1729.388401\n",
       "15864    1609.000000\n",
       "15865    1840.000000\n",
       "15866    1729.388401\n",
       "15867    1585.000000\n",
       "15868    1729.388401\n",
       "15869    1740.000000\n",
       "15870    1685.000000\n",
       "15871    1729.388401\n",
       "15872    1633.000000\n",
       "15873    1585.000000\n",
       "15874    1729.388401\n",
       "15875    1729.388401\n",
       "15876    1608.000000\n",
       "15877    1729.388401\n",
       "15878    1729.388401\n",
       "15879    1685.000000\n",
       "15880    1729.388401\n",
       "15881    1685.000000\n",
       "15882    1708.000000\n",
       "15883    1847.000000\n",
       "15884    1729.388401\n",
       "15885    2037.000000\n",
       "15886    1880.000000\n",
       "15887    1685.000000\n",
       "15888    1685.000000\n",
       "15889    1708.000000\n",
       "15890    1840.000000\n",
       "15891    1758.000000\n",
       "15892    1659.000000\n",
       "15893    1758.000000\n",
       "15894    1734.000000\n",
       "15895    1840.000000\n",
       "15896    1729.388401\n",
       "15897    1685.000000\n",
       "15898    1758.000000\n",
       "15899    1840.000000\n",
       "15900    1843.000000\n",
       "15901    1758.000000\n",
       "15902    1729.388401\n",
       "15903    1729.388401\n",
       "15904    1833.000000\n",
       "15905    1760.000000\n",
       "15906    1729.388401\n",
       "15907    1708.000000\n",
       "15908    1729.388401\n",
       "15909    1779.000000\n",
       "15910    1729.388401\n",
       "15911    1734.000000\n",
       "15912    1758.000000\n",
       "15913    1729.388401\n",
       "15914    1758.000000\n",
       "15915    1708.000000\n",
       "15916    1729.388401\n",
       "15917    1758.000000\n",
       "15918    1685.000000\n",
       "Name: weight, dtype: float64"
      ]
     },
     "execution_count": 356,
     "metadata": {},
     "output_type": "execute_result"
    }
   ],
   "source": [
    "data.weight.tail(99)"
   ]
  },
  {
   "cell_type": "code",
   "execution_count": 357,
   "metadata": {},
   "outputs": [
    {
     "data": {
      "text/plain": [
       "34"
      ]
     },
     "execution_count": 357,
     "metadata": {},
     "output_type": "execute_result"
    }
   ],
   "source": [
    "data.weight.isnull().sum()"
   ]
  },
  {
   "cell_type": "code",
   "execution_count": 358,
   "metadata": {},
   "outputs": [
    {
     "data": {
      "text/html": [
       "<div>\n",
       "<style scoped>\n",
       "    .dataframe tbody tr th:only-of-type {\n",
       "        vertical-align: middle;\n",
       "    }\n",
       "\n",
       "    .dataframe tbody tr th {\n",
       "        vertical-align: top;\n",
       "    }\n",
       "\n",
       "    .dataframe thead th {\n",
       "        text-align: right;\n",
       "    }\n",
       "</style>\n",
       "<table border=\"1\" class=\"dataframe\">\n",
       "  <thead>\n",
       "    <tr style=\"text-align: right;\">\n",
       "      <th></th>\n",
       "      <th>price</th>\n",
       "      <th>make</th>\n",
       "      <th>model</th>\n",
       "      <th>mileage</th>\n",
       "      <th>first_registration</th>\n",
       "      <th>age</th>\n",
       "      <th>power</th>\n",
       "      <th>prev_owner</th>\n",
       "      <th>vat</th>\n",
       "      <th>body_type</th>\n",
       "      <th>gear</th>\n",
       "      <th>nr_of_doors</th>\n",
       "      <th>nr_of_seats</th>\n",
       "      <th>cylinders</th>\n",
       "      <th>inspection_new</th>\n",
       "      <th>body_color</th>\n",
       "      <th>paint_type</th>\n",
       "      <th>fuel</th>\n",
       "      <th>type</th>\n",
       "      <th>emission_class</th>\n",
       "      <th>displacement</th>\n",
       "      <th>consumption</th>\n",
       "      <th>co2</th>\n",
       "      <th>gears</th>\n",
       "      <th>cc Air conditioning</th>\n",
       "      <th>cc Air suspension</th>\n",
       "      <th>cc Armrest</th>\n",
       "      <th>cc Automatic climate control</th>\n",
       "      <th>cc Auxiliary heating</th>\n",
       "      <th>cc Cruise control</th>\n",
       "      <th>cc Electric Starter</th>\n",
       "      <th>cc Electric tailgate</th>\n",
       "      <th>cc Electrical side mirrors</th>\n",
       "      <th>cc Electrically adjustable seats</th>\n",
       "      <th>cc Electrically heated windshield</th>\n",
       "      <th>cc Heads-up display</th>\n",
       "      <th>cc Heated steering wheel</th>\n",
       "      <th>cc Hill Holder</th>\n",
       "      <th>cc Keyless central door lock</th>\n",
       "      <th>cc Leather seats</th>\n",
       "      <th>cc Leather steering wheel</th>\n",
       "      <th>cc Light sensor</th>\n",
       "      <th>cc Lumbar support</th>\n",
       "      <th>cc Massage seats</th>\n",
       "      <th>cc Multi-function steering wheel</th>\n",
       "      <th>cc Navigation system</th>\n",
       "      <th>cc Panorama roof</th>\n",
       "      <th>cc Park Distance Control</th>\n",
       "      <th>cc Parking assist system camera</th>\n",
       "      <th>cc Parking assist system self-steering</th>\n",
       "      <th>cc Parking assist system sensors front</th>\n",
       "      <th>cc Parking assist system sensors rear</th>\n",
       "      <th>cc Power windows</th>\n",
       "      <th>cc Rain sensor</th>\n",
       "      <th>cc Seat heating</th>\n",
       "      <th>cc Seat ventilation</th>\n",
       "      <th>cc Split rear seats</th>\n",
       "      <th>cc Start-stop system</th>\n",
       "      <th>cc Sunroof</th>\n",
       "      <th>cc Tinted windows</th>\n",
       "      <th>cc Wind deflector</th>\n",
       "      <th>cc Windshield</th>\n",
       "      <th>em Bluetooth</th>\n",
       "      <th>em CD player</th>\n",
       "      <th>em Digital radio</th>\n",
       "      <th>em Hands-free equipment</th>\n",
       "      <th>em MP3</th>\n",
       "      <th>em On-board computer</th>\n",
       "      <th>em Radio</th>\n",
       "      <th>em Sound system</th>\n",
       "      <th>em Television</th>\n",
       "      <th>em USB</th>\n",
       "      <th>ex Alloy wheels</th>\n",
       "      <th>ex Cab or rented Car</th>\n",
       "      <th>ex Catalytic Converter</th>\n",
       "      <th>ex Handicapped enabled</th>\n",
       "      <th>ex Right hand drive</th>\n",
       "      <th>ex Roof rack</th>\n",
       "      <th>ex Shift paddles</th>\n",
       "      <th>ex Ski bag</th>\n",
       "      <th>ex Sliding door</th>\n",
       "      <th>ex Sport package</th>\n",
       "      <th>ex Sport seats</th>\n",
       "      <th>ex Sport suspension</th>\n",
       "      <th>ex Touch screen</th>\n",
       "      <th>ex Trailer hitch</th>\n",
       "      <th>ex Tuned car</th>\n",
       "      <th>ex Voice Control</th>\n",
       "      <th>ex Winter tyres</th>\n",
       "      <th>ss ABS</th>\n",
       "      <th>ss Adaptive Cruise Control</th>\n",
       "      <th>ss Adaptive headlights</th>\n",
       "      <th>ss Alarm system</th>\n",
       "      <th>ss Blind spot monitor</th>\n",
       "      <th>ss Central door lock</th>\n",
       "      <th>ss Central door lock with remote control</th>\n",
       "      <th>ss Daytime running lights</th>\n",
       "      <th>ss Driver drowsiness detection</th>\n",
       "      <th>ss Driver-side airbag</th>\n",
       "      <th>ss Electronic stability control</th>\n",
       "      <th>ss Emergency brake assistant</th>\n",
       "      <th>ss Emergency system</th>\n",
       "      <th>ss Fog lights</th>\n",
       "      <th>ss Head airbag</th>\n",
       "      <th>ss Immobilizer</th>\n",
       "      <th>ss Isofix</th>\n",
       "      <th>ss LED Daytime Running Lights</th>\n",
       "      <th>ss LED Headlights</th>\n",
       "      <th>ss Lane departure warning system</th>\n",
       "      <th>ss Night view assist</th>\n",
       "      <th>ss Passenger-side airbag</th>\n",
       "      <th>ss Power steering</th>\n",
       "      <th>ss Rear airbag</th>\n",
       "      <th>ss Side airbag</th>\n",
       "      <th>ss Tire pressure monitoring system</th>\n",
       "      <th>ss Traction control</th>\n",
       "      <th>ss Traffic sign recognition</th>\n",
       "      <th>ss Xenon headlights</th>\n",
       "      <th>weight</th>\n",
       "    </tr>\n",
       "  </thead>\n",
       "  <tbody>\n",
       "    <tr>\n",
       "      <th>14894</th>\n",
       "      <td>13250</td>\n",
       "      <td>Renault</td>\n",
       "      <td>Duster</td>\n",
       "      <td>0</td>\n",
       "      <td>2019</td>\n",
       "      <td>0</td>\n",
       "      <td>77</td>\n",
       "      <td>0</td>\n",
       "      <td>VAT deductible</td>\n",
       "      <td>Off-Road</td>\n",
       "      <td>Automatic</td>\n",
       "      <td>5</td>\n",
       "      <td>5</td>\n",
       "      <td>4.0</td>\n",
       "      <td>No</td>\n",
       "      <td>Black</td>\n",
       "      <td>Uni/basic</td>\n",
       "      <td>Benzine</td>\n",
       "      <td>New</td>\n",
       "      <td>Euro 4</td>\n",
       "      <td>1998.0</td>\n",
       "      <td>10.0</td>\n",
       "      <td>150.0</td>\n",
       "      <td>6.0</td>\n",
       "      <td>1</td>\n",
       "      <td>0</td>\n",
       "      <td>0</td>\n",
       "      <td>1</td>\n",
       "      <td>0</td>\n",
       "      <td>0</td>\n",
       "      <td>0</td>\n",
       "      <td>0</td>\n",
       "      <td>0</td>\n",
       "      <td>0</td>\n",
       "      <td>0</td>\n",
       "      <td>0</td>\n",
       "      <td>0</td>\n",
       "      <td>0</td>\n",
       "      <td>0</td>\n",
       "      <td>0</td>\n",
       "      <td>0</td>\n",
       "      <td>0</td>\n",
       "      <td>0</td>\n",
       "      <td>0</td>\n",
       "      <td>0</td>\n",
       "      <td>0</td>\n",
       "      <td>0</td>\n",
       "      <td>0</td>\n",
       "      <td>0</td>\n",
       "      <td>0</td>\n",
       "      <td>0</td>\n",
       "      <td>0</td>\n",
       "      <td>0</td>\n",
       "      <td>0</td>\n",
       "      <td>0</td>\n",
       "      <td>0</td>\n",
       "      <td>0</td>\n",
       "      <td>0</td>\n",
       "      <td>0</td>\n",
       "      <td>0</td>\n",
       "      <td>0</td>\n",
       "      <td>0</td>\n",
       "      <td>1</td>\n",
       "      <td>1</td>\n",
       "      <td>0</td>\n",
       "      <td>0</td>\n",
       "      <td>0</td>\n",
       "      <td>0</td>\n",
       "      <td>1</td>\n",
       "      <td>0</td>\n",
       "      <td>0</td>\n",
       "      <td>1</td>\n",
       "      <td>0</td>\n",
       "      <td>0</td>\n",
       "      <td>0</td>\n",
       "      <td>0</td>\n",
       "      <td>0</td>\n",
       "      <td>0</td>\n",
       "      <td>0</td>\n",
       "      <td>0</td>\n",
       "      <td>0</td>\n",
       "      <td>0</td>\n",
       "      <td>0</td>\n",
       "      <td>0</td>\n",
       "      <td>0</td>\n",
       "      <td>0</td>\n",
       "      <td>0</td>\n",
       "      <td>0</td>\n",
       "      <td>0</td>\n",
       "      <td>1</td>\n",
       "      <td>0</td>\n",
       "      <td>0</td>\n",
       "      <td>0</td>\n",
       "      <td>0</td>\n",
       "      <td>0</td>\n",
       "      <td>0</td>\n",
       "      <td>0</td>\n",
       "      <td>0</td>\n",
       "      <td>1</td>\n",
       "      <td>0</td>\n",
       "      <td>0</td>\n",
       "      <td>0</td>\n",
       "      <td>0</td>\n",
       "      <td>0</td>\n",
       "      <td>0</td>\n",
       "      <td>0</td>\n",
       "      <td>0</td>\n",
       "      <td>0</td>\n",
       "      <td>0</td>\n",
       "      <td>0</td>\n",
       "      <td>0</td>\n",
       "      <td>1</td>\n",
       "      <td>0</td>\n",
       "      <td>0</td>\n",
       "      <td>0</td>\n",
       "      <td>0</td>\n",
       "      <td>0</td>\n",
       "      <td>0</td>\n",
       "      <td>NaN</td>\n",
       "    </tr>\n",
       "    <tr>\n",
       "      <th>14895</th>\n",
       "      <td>16033</td>\n",
       "      <td>Renault</td>\n",
       "      <td>Duster</td>\n",
       "      <td>0</td>\n",
       "      <td>2019</td>\n",
       "      <td>0</td>\n",
       "      <td>77</td>\n",
       "      <td>0</td>\n",
       "      <td>VAT deductible</td>\n",
       "      <td>Off-Road</td>\n",
       "      <td>Automatic</td>\n",
       "      <td>5</td>\n",
       "      <td>5</td>\n",
       "      <td>4.0</td>\n",
       "      <td>No</td>\n",
       "      <td>Black</td>\n",
       "      <td>Uni/basic</td>\n",
       "      <td>Benzine</td>\n",
       "      <td>New</td>\n",
       "      <td>Euro 4</td>\n",
       "      <td>1998.0</td>\n",
       "      <td>10.0</td>\n",
       "      <td>150.0</td>\n",
       "      <td>6.0</td>\n",
       "      <td>1</td>\n",
       "      <td>0</td>\n",
       "      <td>0</td>\n",
       "      <td>1</td>\n",
       "      <td>0</td>\n",
       "      <td>0</td>\n",
       "      <td>0</td>\n",
       "      <td>0</td>\n",
       "      <td>0</td>\n",
       "      <td>0</td>\n",
       "      <td>0</td>\n",
       "      <td>0</td>\n",
       "      <td>0</td>\n",
       "      <td>0</td>\n",
       "      <td>0</td>\n",
       "      <td>0</td>\n",
       "      <td>0</td>\n",
       "      <td>0</td>\n",
       "      <td>0</td>\n",
       "      <td>0</td>\n",
       "      <td>0</td>\n",
       "      <td>0</td>\n",
       "      <td>0</td>\n",
       "      <td>0</td>\n",
       "      <td>0</td>\n",
       "      <td>0</td>\n",
       "      <td>0</td>\n",
       "      <td>0</td>\n",
       "      <td>0</td>\n",
       "      <td>0</td>\n",
       "      <td>0</td>\n",
       "      <td>0</td>\n",
       "      <td>0</td>\n",
       "      <td>0</td>\n",
       "      <td>0</td>\n",
       "      <td>0</td>\n",
       "      <td>0</td>\n",
       "      <td>0</td>\n",
       "      <td>1</td>\n",
       "      <td>1</td>\n",
       "      <td>0</td>\n",
       "      <td>0</td>\n",
       "      <td>0</td>\n",
       "      <td>0</td>\n",
       "      <td>1</td>\n",
       "      <td>0</td>\n",
       "      <td>0</td>\n",
       "      <td>1</td>\n",
       "      <td>0</td>\n",
       "      <td>0</td>\n",
       "      <td>0</td>\n",
       "      <td>0</td>\n",
       "      <td>0</td>\n",
       "      <td>0</td>\n",
       "      <td>0</td>\n",
       "      <td>0</td>\n",
       "      <td>0</td>\n",
       "      <td>0</td>\n",
       "      <td>0</td>\n",
       "      <td>0</td>\n",
       "      <td>0</td>\n",
       "      <td>0</td>\n",
       "      <td>0</td>\n",
       "      <td>0</td>\n",
       "      <td>0</td>\n",
       "      <td>1</td>\n",
       "      <td>0</td>\n",
       "      <td>0</td>\n",
       "      <td>0</td>\n",
       "      <td>0</td>\n",
       "      <td>0</td>\n",
       "      <td>0</td>\n",
       "      <td>0</td>\n",
       "      <td>0</td>\n",
       "      <td>1</td>\n",
       "      <td>0</td>\n",
       "      <td>0</td>\n",
       "      <td>0</td>\n",
       "      <td>0</td>\n",
       "      <td>0</td>\n",
       "      <td>0</td>\n",
       "      <td>0</td>\n",
       "      <td>0</td>\n",
       "      <td>0</td>\n",
       "      <td>0</td>\n",
       "      <td>0</td>\n",
       "      <td>0</td>\n",
       "      <td>1</td>\n",
       "      <td>0</td>\n",
       "      <td>0</td>\n",
       "      <td>0</td>\n",
       "      <td>0</td>\n",
       "      <td>0</td>\n",
       "      <td>0</td>\n",
       "      <td>NaN</td>\n",
       "    </tr>\n",
       "    <tr>\n",
       "      <th>14896</th>\n",
       "      <td>16033</td>\n",
       "      <td>Renault</td>\n",
       "      <td>Duster</td>\n",
       "      <td>101</td>\n",
       "      <td>2019</td>\n",
       "      <td>0</td>\n",
       "      <td>77</td>\n",
       "      <td>0</td>\n",
       "      <td>VAT deductible</td>\n",
       "      <td>Off-Road</td>\n",
       "      <td>Automatic</td>\n",
       "      <td>5</td>\n",
       "      <td>5</td>\n",
       "      <td>4.0</td>\n",
       "      <td>No</td>\n",
       "      <td>Black</td>\n",
       "      <td>Uni/basic</td>\n",
       "      <td>Benzine</td>\n",
       "      <td>Used</td>\n",
       "      <td>Euro 4</td>\n",
       "      <td>1998.0</td>\n",
       "      <td>10.0</td>\n",
       "      <td>150.0</td>\n",
       "      <td>6.0</td>\n",
       "      <td>1</td>\n",
       "      <td>0</td>\n",
       "      <td>0</td>\n",
       "      <td>1</td>\n",
       "      <td>0</td>\n",
       "      <td>0</td>\n",
       "      <td>0</td>\n",
       "      <td>0</td>\n",
       "      <td>0</td>\n",
       "      <td>0</td>\n",
       "      <td>0</td>\n",
       "      <td>0</td>\n",
       "      <td>0</td>\n",
       "      <td>0</td>\n",
       "      <td>0</td>\n",
       "      <td>0</td>\n",
       "      <td>0</td>\n",
       "      <td>0</td>\n",
       "      <td>0</td>\n",
       "      <td>0</td>\n",
       "      <td>0</td>\n",
       "      <td>0</td>\n",
       "      <td>0</td>\n",
       "      <td>0</td>\n",
       "      <td>0</td>\n",
       "      <td>0</td>\n",
       "      <td>0</td>\n",
       "      <td>0</td>\n",
       "      <td>0</td>\n",
       "      <td>0</td>\n",
       "      <td>0</td>\n",
       "      <td>0</td>\n",
       "      <td>0</td>\n",
       "      <td>0</td>\n",
       "      <td>0</td>\n",
       "      <td>0</td>\n",
       "      <td>0</td>\n",
       "      <td>0</td>\n",
       "      <td>1</td>\n",
       "      <td>1</td>\n",
       "      <td>0</td>\n",
       "      <td>0</td>\n",
       "      <td>0</td>\n",
       "      <td>0</td>\n",
       "      <td>1</td>\n",
       "      <td>0</td>\n",
       "      <td>0</td>\n",
       "      <td>1</td>\n",
       "      <td>0</td>\n",
       "      <td>0</td>\n",
       "      <td>0</td>\n",
       "      <td>0</td>\n",
       "      <td>0</td>\n",
       "      <td>0</td>\n",
       "      <td>0</td>\n",
       "      <td>0</td>\n",
       "      <td>0</td>\n",
       "      <td>0</td>\n",
       "      <td>0</td>\n",
       "      <td>0</td>\n",
       "      <td>0</td>\n",
       "      <td>0</td>\n",
       "      <td>0</td>\n",
       "      <td>0</td>\n",
       "      <td>0</td>\n",
       "      <td>1</td>\n",
       "      <td>0</td>\n",
       "      <td>0</td>\n",
       "      <td>0</td>\n",
       "      <td>0</td>\n",
       "      <td>0</td>\n",
       "      <td>0</td>\n",
       "      <td>0</td>\n",
       "      <td>0</td>\n",
       "      <td>1</td>\n",
       "      <td>0</td>\n",
       "      <td>0</td>\n",
       "      <td>0</td>\n",
       "      <td>0</td>\n",
       "      <td>0</td>\n",
       "      <td>0</td>\n",
       "      <td>0</td>\n",
       "      <td>0</td>\n",
       "      <td>0</td>\n",
       "      <td>0</td>\n",
       "      <td>0</td>\n",
       "      <td>0</td>\n",
       "      <td>1</td>\n",
       "      <td>0</td>\n",
       "      <td>0</td>\n",
       "      <td>0</td>\n",
       "      <td>0</td>\n",
       "      <td>0</td>\n",
       "      <td>0</td>\n",
       "      <td>NaN</td>\n",
       "    </tr>\n",
       "    <tr>\n",
       "      <th>14897</th>\n",
       "      <td>16033</td>\n",
       "      <td>Renault</td>\n",
       "      <td>Duster</td>\n",
       "      <td>0</td>\n",
       "      <td>2019</td>\n",
       "      <td>0</td>\n",
       "      <td>77</td>\n",
       "      <td>0</td>\n",
       "      <td>VAT deductible</td>\n",
       "      <td>Off-Road</td>\n",
       "      <td>Automatic</td>\n",
       "      <td>5</td>\n",
       "      <td>5</td>\n",
       "      <td>4.0</td>\n",
       "      <td>No</td>\n",
       "      <td>Black</td>\n",
       "      <td>Uni/basic</td>\n",
       "      <td>Benzine</td>\n",
       "      <td>New</td>\n",
       "      <td>Euro 4</td>\n",
       "      <td>1998.0</td>\n",
       "      <td>10.0</td>\n",
       "      <td>150.0</td>\n",
       "      <td>6.0</td>\n",
       "      <td>1</td>\n",
       "      <td>0</td>\n",
       "      <td>0</td>\n",
       "      <td>1</td>\n",
       "      <td>0</td>\n",
       "      <td>0</td>\n",
       "      <td>0</td>\n",
       "      <td>0</td>\n",
       "      <td>0</td>\n",
       "      <td>0</td>\n",
       "      <td>0</td>\n",
       "      <td>0</td>\n",
       "      <td>0</td>\n",
       "      <td>0</td>\n",
       "      <td>0</td>\n",
       "      <td>0</td>\n",
       "      <td>0</td>\n",
       "      <td>0</td>\n",
       "      <td>0</td>\n",
       "      <td>0</td>\n",
       "      <td>0</td>\n",
       "      <td>0</td>\n",
       "      <td>0</td>\n",
       "      <td>0</td>\n",
       "      <td>0</td>\n",
       "      <td>0</td>\n",
       "      <td>0</td>\n",
       "      <td>0</td>\n",
       "      <td>0</td>\n",
       "      <td>0</td>\n",
       "      <td>0</td>\n",
       "      <td>0</td>\n",
       "      <td>0</td>\n",
       "      <td>0</td>\n",
       "      <td>0</td>\n",
       "      <td>0</td>\n",
       "      <td>0</td>\n",
       "      <td>0</td>\n",
       "      <td>1</td>\n",
       "      <td>1</td>\n",
       "      <td>0</td>\n",
       "      <td>0</td>\n",
       "      <td>0</td>\n",
       "      <td>0</td>\n",
       "      <td>1</td>\n",
       "      <td>0</td>\n",
       "      <td>0</td>\n",
       "      <td>1</td>\n",
       "      <td>0</td>\n",
       "      <td>0</td>\n",
       "      <td>0</td>\n",
       "      <td>0</td>\n",
       "      <td>0</td>\n",
       "      <td>0</td>\n",
       "      <td>0</td>\n",
       "      <td>0</td>\n",
       "      <td>0</td>\n",
       "      <td>0</td>\n",
       "      <td>0</td>\n",
       "      <td>0</td>\n",
       "      <td>0</td>\n",
       "      <td>0</td>\n",
       "      <td>0</td>\n",
       "      <td>0</td>\n",
       "      <td>0</td>\n",
       "      <td>1</td>\n",
       "      <td>0</td>\n",
       "      <td>0</td>\n",
       "      <td>0</td>\n",
       "      <td>0</td>\n",
       "      <td>0</td>\n",
       "      <td>0</td>\n",
       "      <td>0</td>\n",
       "      <td>0</td>\n",
       "      <td>1</td>\n",
       "      <td>0</td>\n",
       "      <td>0</td>\n",
       "      <td>0</td>\n",
       "      <td>0</td>\n",
       "      <td>0</td>\n",
       "      <td>0</td>\n",
       "      <td>0</td>\n",
       "      <td>0</td>\n",
       "      <td>0</td>\n",
       "      <td>0</td>\n",
       "      <td>0</td>\n",
       "      <td>0</td>\n",
       "      <td>1</td>\n",
       "      <td>0</td>\n",
       "      <td>0</td>\n",
       "      <td>0</td>\n",
       "      <td>0</td>\n",
       "      <td>0</td>\n",
       "      <td>0</td>\n",
       "      <td>NaN</td>\n",
       "    </tr>\n",
       "    <tr>\n",
       "      <th>14898</th>\n",
       "      <td>16033</td>\n",
       "      <td>Renault</td>\n",
       "      <td>Duster</td>\n",
       "      <td>101</td>\n",
       "      <td>2019</td>\n",
       "      <td>0</td>\n",
       "      <td>77</td>\n",
       "      <td>0</td>\n",
       "      <td>VAT deductible</td>\n",
       "      <td>Off-Road</td>\n",
       "      <td>Automatic</td>\n",
       "      <td>5</td>\n",
       "      <td>5</td>\n",
       "      <td>4.0</td>\n",
       "      <td>No</td>\n",
       "      <td>Black</td>\n",
       "      <td>Uni/basic</td>\n",
       "      <td>Benzine</td>\n",
       "      <td>Used</td>\n",
       "      <td>Euro 4</td>\n",
       "      <td>1998.0</td>\n",
       "      <td>10.0</td>\n",
       "      <td>150.0</td>\n",
       "      <td>6.0</td>\n",
       "      <td>1</td>\n",
       "      <td>0</td>\n",
       "      <td>0</td>\n",
       "      <td>1</td>\n",
       "      <td>0</td>\n",
       "      <td>0</td>\n",
       "      <td>0</td>\n",
       "      <td>0</td>\n",
       "      <td>0</td>\n",
       "      <td>0</td>\n",
       "      <td>0</td>\n",
       "      <td>0</td>\n",
       "      <td>0</td>\n",
       "      <td>0</td>\n",
       "      <td>0</td>\n",
       "      <td>0</td>\n",
       "      <td>0</td>\n",
       "      <td>0</td>\n",
       "      <td>0</td>\n",
       "      <td>0</td>\n",
       "      <td>0</td>\n",
       "      <td>0</td>\n",
       "      <td>0</td>\n",
       "      <td>0</td>\n",
       "      <td>0</td>\n",
       "      <td>0</td>\n",
       "      <td>0</td>\n",
       "      <td>0</td>\n",
       "      <td>0</td>\n",
       "      <td>0</td>\n",
       "      <td>0</td>\n",
       "      <td>0</td>\n",
       "      <td>0</td>\n",
       "      <td>0</td>\n",
       "      <td>0</td>\n",
       "      <td>0</td>\n",
       "      <td>0</td>\n",
       "      <td>0</td>\n",
       "      <td>1</td>\n",
       "      <td>1</td>\n",
       "      <td>0</td>\n",
       "      <td>0</td>\n",
       "      <td>0</td>\n",
       "      <td>0</td>\n",
       "      <td>1</td>\n",
       "      <td>0</td>\n",
       "      <td>0</td>\n",
       "      <td>1</td>\n",
       "      <td>0</td>\n",
       "      <td>0</td>\n",
       "      <td>0</td>\n",
       "      <td>0</td>\n",
       "      <td>0</td>\n",
       "      <td>0</td>\n",
       "      <td>0</td>\n",
       "      <td>0</td>\n",
       "      <td>0</td>\n",
       "      <td>0</td>\n",
       "      <td>0</td>\n",
       "      <td>0</td>\n",
       "      <td>0</td>\n",
       "      <td>0</td>\n",
       "      <td>0</td>\n",
       "      <td>0</td>\n",
       "      <td>0</td>\n",
       "      <td>1</td>\n",
       "      <td>0</td>\n",
       "      <td>0</td>\n",
       "      <td>0</td>\n",
       "      <td>0</td>\n",
       "      <td>0</td>\n",
       "      <td>0</td>\n",
       "      <td>0</td>\n",
       "      <td>0</td>\n",
       "      <td>1</td>\n",
       "      <td>0</td>\n",
       "      <td>0</td>\n",
       "      <td>0</td>\n",
       "      <td>0</td>\n",
       "      <td>0</td>\n",
       "      <td>0</td>\n",
       "      <td>0</td>\n",
       "      <td>0</td>\n",
       "      <td>0</td>\n",
       "      <td>0</td>\n",
       "      <td>0</td>\n",
       "      <td>0</td>\n",
       "      <td>1</td>\n",
       "      <td>0</td>\n",
       "      <td>0</td>\n",
       "      <td>0</td>\n",
       "      <td>0</td>\n",
       "      <td>0</td>\n",
       "      <td>0</td>\n",
       "      <td>NaN</td>\n",
       "    </tr>\n",
       "  </tbody>\n",
       "</table>\n",
       "</div>"
      ],
      "text/plain": [
       "       price     make   model  mileage  first_registration  age  power  \\\n",
       "14894  13250  Renault  Duster        0                2019    0     77   \n",
       "14895  16033  Renault  Duster        0                2019    0     77   \n",
       "14896  16033  Renault  Duster      101                2019    0     77   \n",
       "14897  16033  Renault  Duster        0                2019    0     77   \n",
       "14898  16033  Renault  Duster      101                2019    0     77   \n",
       "\n",
       "       prev_owner             vat body_type       gear  nr_of_doors  \\\n",
       "14894           0  VAT deductible  Off-Road  Automatic            5   \n",
       "14895           0  VAT deductible  Off-Road  Automatic            5   \n",
       "14896           0  VAT deductible  Off-Road  Automatic            5   \n",
       "14897           0  VAT deductible  Off-Road  Automatic            5   \n",
       "14898           0  VAT deductible  Off-Road  Automatic            5   \n",
       "\n",
       "       nr_of_seats  cylinders inspection_new body_color paint_type     fuel  \\\n",
       "14894            5        4.0             No      Black  Uni/basic  Benzine   \n",
       "14895            5        4.0             No      Black  Uni/basic  Benzine   \n",
       "14896            5        4.0             No      Black  Uni/basic  Benzine   \n",
       "14897            5        4.0             No      Black  Uni/basic  Benzine   \n",
       "14898            5        4.0             No      Black  Uni/basic  Benzine   \n",
       "\n",
       "       type emission_class  displacement  consumption    co2  gears  \\\n",
       "14894   New         Euro 4        1998.0         10.0  150.0    6.0   \n",
       "14895   New         Euro 4        1998.0         10.0  150.0    6.0   \n",
       "14896  Used         Euro 4        1998.0         10.0  150.0    6.0   \n",
       "14897   New         Euro 4        1998.0         10.0  150.0    6.0   \n",
       "14898  Used         Euro 4        1998.0         10.0  150.0    6.0   \n",
       "\n",
       "       cc Air conditioning  cc Air suspension  cc Armrest  \\\n",
       "14894                    1                  0           0   \n",
       "14895                    1                  0           0   \n",
       "14896                    1                  0           0   \n",
       "14897                    1                  0           0   \n",
       "14898                    1                  0           0   \n",
       "\n",
       "       cc Automatic climate control  cc Auxiliary heating  cc Cruise control  \\\n",
       "14894                             1                     0                  0   \n",
       "14895                             1                     0                  0   \n",
       "14896                             1                     0                  0   \n",
       "14897                             1                     0                  0   \n",
       "14898                             1                     0                  0   \n",
       "\n",
       "       cc Electric Starter  cc Electric tailgate  cc Electrical side mirrors  \\\n",
       "14894                    0                     0                           0   \n",
       "14895                    0                     0                           0   \n",
       "14896                    0                     0                           0   \n",
       "14897                    0                     0                           0   \n",
       "14898                    0                     0                           0   \n",
       "\n",
       "       cc Electrically adjustable seats  cc Electrically heated windshield  \\\n",
       "14894                                 0                                  0   \n",
       "14895                                 0                                  0   \n",
       "14896                                 0                                  0   \n",
       "14897                                 0                                  0   \n",
       "14898                                 0                                  0   \n",
       "\n",
       "       cc Heads-up display  cc Heated steering wheel  cc Hill Holder  \\\n",
       "14894                    0                         0               0   \n",
       "14895                    0                         0               0   \n",
       "14896                    0                         0               0   \n",
       "14897                    0                         0               0   \n",
       "14898                    0                         0               0   \n",
       "\n",
       "       cc Keyless central door lock  cc Leather seats  \\\n",
       "14894                             0                 0   \n",
       "14895                             0                 0   \n",
       "14896                             0                 0   \n",
       "14897                             0                 0   \n",
       "14898                             0                 0   \n",
       "\n",
       "       cc Leather steering wheel  cc Light sensor  cc Lumbar support  \\\n",
       "14894                          0                0                  0   \n",
       "14895                          0                0                  0   \n",
       "14896                          0                0                  0   \n",
       "14897                          0                0                  0   \n",
       "14898                          0                0                  0   \n",
       "\n",
       "       cc Massage seats  cc Multi-function steering wheel  \\\n",
       "14894                 0                                 0   \n",
       "14895                 0                                 0   \n",
       "14896                 0                                 0   \n",
       "14897                 0                                 0   \n",
       "14898                 0                                 0   \n",
       "\n",
       "       cc Navigation system  cc Panorama roof  cc Park Distance Control  \\\n",
       "14894                     0                 0                         0   \n",
       "14895                     0                 0                         0   \n",
       "14896                     0                 0                         0   \n",
       "14897                     0                 0                         0   \n",
       "14898                     0                 0                         0   \n",
       "\n",
       "       cc Parking assist system camera  \\\n",
       "14894                                0   \n",
       "14895                                0   \n",
       "14896                                0   \n",
       "14897                                0   \n",
       "14898                                0   \n",
       "\n",
       "       cc Parking assist system self-steering  \\\n",
       "14894                                       0   \n",
       "14895                                       0   \n",
       "14896                                       0   \n",
       "14897                                       0   \n",
       "14898                                       0   \n",
       "\n",
       "       cc Parking assist system sensors front  \\\n",
       "14894                                       0   \n",
       "14895                                       0   \n",
       "14896                                       0   \n",
       "14897                                       0   \n",
       "14898                                       0   \n",
       "\n",
       "       cc Parking assist system sensors rear  cc Power windows  \\\n",
       "14894                                      0                 0   \n",
       "14895                                      0                 0   \n",
       "14896                                      0                 0   \n",
       "14897                                      0                 0   \n",
       "14898                                      0                 0   \n",
       "\n",
       "       cc Rain sensor  cc Seat heating  cc Seat ventilation  \\\n",
       "14894               0                0                    0   \n",
       "14895               0                0                    0   \n",
       "14896               0                0                    0   \n",
       "14897               0                0                    0   \n",
       "14898               0                0                    0   \n",
       "\n",
       "       cc Split rear seats  cc Start-stop system  cc Sunroof  \\\n",
       "14894                    0                     0           0   \n",
       "14895                    0                     0           0   \n",
       "14896                    0                     0           0   \n",
       "14897                    0                     0           0   \n",
       "14898                    0                     0           0   \n",
       "\n",
       "       cc Tinted windows  cc Wind deflector  cc Windshield  em Bluetooth  \\\n",
       "14894                  0                  0              0             1   \n",
       "14895                  0                  0              0             1   \n",
       "14896                  0                  0              0             1   \n",
       "14897                  0                  0              0             1   \n",
       "14898                  0                  0              0             1   \n",
       "\n",
       "       em CD player  em Digital radio  em Hands-free equipment  em MP3  \\\n",
       "14894             1                 0                        0       0   \n",
       "14895             1                 0                        0       0   \n",
       "14896             1                 0                        0       0   \n",
       "14897             1                 0                        0       0   \n",
       "14898             1                 0                        0       0   \n",
       "\n",
       "       em On-board computer  em Radio  em Sound system  em Television  em USB  \\\n",
       "14894                     0         1                0              0       1   \n",
       "14895                     0         1                0              0       1   \n",
       "14896                     0         1                0              0       1   \n",
       "14897                     0         1                0              0       1   \n",
       "14898                     0         1                0              0       1   \n",
       "\n",
       "       ex Alloy wheels  ex Cab or rented Car  ex Catalytic Converter  \\\n",
       "14894                0                     0                       0   \n",
       "14895                0                     0                       0   \n",
       "14896                0                     0                       0   \n",
       "14897                0                     0                       0   \n",
       "14898                0                     0                       0   \n",
       "\n",
       "       ex Handicapped enabled  ex Right hand drive  ex Roof rack  \\\n",
       "14894                       0                    0             0   \n",
       "14895                       0                    0             0   \n",
       "14896                       0                    0             0   \n",
       "14897                       0                    0             0   \n",
       "14898                       0                    0             0   \n",
       "\n",
       "       ex Shift paddles  ex Ski bag  ex Sliding door  ex Sport package  \\\n",
       "14894                 0           0                0                 0   \n",
       "14895                 0           0                0                 0   \n",
       "14896                 0           0                0                 0   \n",
       "14897                 0           0                0                 0   \n",
       "14898                 0           0                0                 0   \n",
       "\n",
       "       ex Sport seats  ex Sport suspension  ex Touch screen  ex Trailer hitch  \\\n",
       "14894               0                    0                0                 0   \n",
       "14895               0                    0                0                 0   \n",
       "14896               0                    0                0                 0   \n",
       "14897               0                    0                0                 0   \n",
       "14898               0                    0                0                 0   \n",
       "\n",
       "       ex Tuned car  ex Voice Control  ex Winter tyres  ss ABS  \\\n",
       "14894             0                 0                0       1   \n",
       "14895             0                 0                0       1   \n",
       "14896             0                 0                0       1   \n",
       "14897             0                 0                0       1   \n",
       "14898             0                 0                0       1   \n",
       "\n",
       "       ss Adaptive Cruise Control  ss Adaptive headlights  ss Alarm system  \\\n",
       "14894                           0                       0                0   \n",
       "14895                           0                       0                0   \n",
       "14896                           0                       0                0   \n",
       "14897                           0                       0                0   \n",
       "14898                           0                       0                0   \n",
       "\n",
       "       ss Blind spot monitor  ss Central door lock  \\\n",
       "14894                      0                     0   \n",
       "14895                      0                     0   \n",
       "14896                      0                     0   \n",
       "14897                      0                     0   \n",
       "14898                      0                     0   \n",
       "\n",
       "       ss Central door lock with remote control  ss Daytime running lights  \\\n",
       "14894                                         0                          0   \n",
       "14895                                         0                          0   \n",
       "14896                                         0                          0   \n",
       "14897                                         0                          0   \n",
       "14898                                         0                          0   \n",
       "\n",
       "       ss Driver drowsiness detection  ss Driver-side airbag  \\\n",
       "14894                               0                      1   \n",
       "14895                               0                      1   \n",
       "14896                               0                      1   \n",
       "14897                               0                      1   \n",
       "14898                               0                      1   \n",
       "\n",
       "       ss Electronic stability control  ss Emergency brake assistant  \\\n",
       "14894                                0                             0   \n",
       "14895                                0                             0   \n",
       "14896                                0                             0   \n",
       "14897                                0                             0   \n",
       "14898                                0                             0   \n",
       "\n",
       "       ss Emergency system  ss Fog lights  ss Head airbag  ss Immobilizer  \\\n",
       "14894                    0              0               0               0   \n",
       "14895                    0              0               0               0   \n",
       "14896                    0              0               0               0   \n",
       "14897                    0              0               0               0   \n",
       "14898                    0              0               0               0   \n",
       "\n",
       "       ss Isofix  ss LED Daytime Running Lights  ss LED Headlights  \\\n",
       "14894          0                              0                  0   \n",
       "14895          0                              0                  0   \n",
       "14896          0                              0                  0   \n",
       "14897          0                              0                  0   \n",
       "14898          0                              0                  0   \n",
       "\n",
       "       ss Lane departure warning system  ss Night view assist  \\\n",
       "14894                                 0                     0   \n",
       "14895                                 0                     0   \n",
       "14896                                 0                     0   \n",
       "14897                                 0                     0   \n",
       "14898                                 0                     0   \n",
       "\n",
       "       ss Passenger-side airbag  ss Power steering  ss Rear airbag  \\\n",
       "14894                         0                  1               0   \n",
       "14895                         0                  1               0   \n",
       "14896                         0                  1               0   \n",
       "14897                         0                  1               0   \n",
       "14898                         0                  1               0   \n",
       "\n",
       "       ss Side airbag  ss Tire pressure monitoring system  \\\n",
       "14894               0                                   0   \n",
       "14895               0                                   0   \n",
       "14896               0                                   0   \n",
       "14897               0                                   0   \n",
       "14898               0                                   0   \n",
       "\n",
       "       ss Traction control  ss Traffic sign recognition  ss Xenon headlights  \\\n",
       "14894                    0                            0                    0   \n",
       "14895                    0                            0                    0   \n",
       "14896                    0                            0                    0   \n",
       "14897                    0                            0                    0   \n",
       "14898                    0                            0                    0   \n",
       "\n",
       "       weight  \n",
       "14894     NaN  \n",
       "14895     NaN  \n",
       "14896     NaN  \n",
       "14897     NaN  \n",
       "14898     NaN  "
      ]
     },
     "execution_count": 358,
     "metadata": {},
     "output_type": "execute_result"
    }
   ],
   "source": [
    "data[data.weight.isnull()].head() # There is no weight data on Renault Duster. Hence no mode calculation during fillna."
   ]
  },
  {
   "cell_type": "code",
   "execution_count": 359,
   "metadata": {},
   "outputs": [],
   "source": [
    "data.loc[data.weight.isnull(), \"weight\"] = 1264"
   ]
  },
  {
   "cell_type": "code",
   "execution_count": 360,
   "metadata": {},
   "outputs": [],
   "source": [
    "data.weight = data.weight.apply(lambda x: int(round(x, 0)))"
   ]
  },
  {
   "cell_type": "code",
   "execution_count": 361,
   "metadata": {},
   "outputs": [
    {
     "data": {
      "text/plain": [
       "0    1220\n",
       "1    1255\n",
       "2    1229\n",
       "3    1195\n",
       "4    1229\n",
       "Name: weight, dtype: int64"
      ]
     },
     "execution_count": 361,
     "metadata": {},
     "output_type": "execute_result"
    }
   ],
   "source": [
    "data.weight.head()"
   ]
  },
  {
   "cell_type": "markdown",
   "metadata": {},
   "source": [
    "#### Handling the independent variables *Drive chain*"
   ]
  },
  {
   "cell_type": "code",
   "execution_count": 362,
   "metadata": {},
   "outputs": [
    {
     "data": {
      "text/plain": [
       "0    [\\nfront\\n]\n",
       "1    [\\nfront\\n]\n",
       "2    [\\nfront\\n]\n",
       "3            NaN\n",
       "4    [\\nfront\\n]\n",
       "Name: Drive chain, dtype: object"
      ]
     },
     "execution_count": 362,
     "metadata": {},
     "output_type": "execute_result"
    }
   ],
   "source": [
    "temp = raw_df[\"Drive chain\"]\n",
    "temp.head()"
   ]
  },
  {
   "cell_type": "code",
   "execution_count": 363,
   "metadata": {},
   "outputs": [
    {
     "data": {
      "text/plain": [
       "6858"
      ]
     },
     "execution_count": 363,
     "metadata": {},
     "output_type": "execute_result"
    }
   ],
   "source": [
    "temp.isnull().sum()"
   ]
  },
  {
   "cell_type": "code",
   "execution_count": 364,
   "metadata": {},
   "outputs": [],
   "source": [
    "temp = temp.apply(lambda x: x[0].strip(\"\\n\") if isinstance(x, list) else x)"
   ]
  },
  {
   "cell_type": "code",
   "execution_count": 365,
   "metadata": {},
   "outputs": [
    {
     "data": {
      "text/plain": [
       "15914    front\n",
       "15915    front\n",
       "15916    front\n",
       "15917    front\n",
       "15918      4WD\n",
       "Name: Drive chain, dtype: object"
      ]
     },
     "execution_count": 365,
     "metadata": {},
     "output_type": "execute_result"
    }
   ],
   "source": [
    "temp.tail()"
   ]
  },
  {
   "cell_type": "code",
   "execution_count": 366,
   "metadata": {},
   "outputs": [],
   "source": [
    "data[\"drive_chain\"] = temp.copy()"
   ]
  },
  {
   "cell_type": "code",
   "execution_count": 367,
   "metadata": {},
   "outputs": [],
   "source": [
    "data.drive_chain = data.drive_chain.fillna(data.groupby(\"model\")[\"drive_chain\"].transform(lambda x: x.mode().iloc[0]))"
   ]
  },
  {
   "cell_type": "code",
   "execution_count": 368,
   "metadata": {},
   "outputs": [
    {
     "data": {
      "text/plain": [
       "front    15711\n",
       "4WD        203\n",
       "rear         4\n",
       "Name: drive_chain, dtype: int64"
      ]
     },
     "execution_count": 368,
     "metadata": {},
     "output_type": "execute_result"
    }
   ],
   "source": [
    "data.drive_chain.value_counts(dropna=False)"
   ]
  },
  {
   "cell_type": "code",
   "execution_count": 369,
   "metadata": {},
   "outputs": [
    {
     "data": {
      "text/html": [
       "<div>\n",
       "<style scoped>\n",
       "    .dataframe tbody tr th:only-of-type {\n",
       "        vertical-align: middle;\n",
       "    }\n",
       "\n",
       "    .dataframe tbody tr th {\n",
       "        vertical-align: top;\n",
       "    }\n",
       "\n",
       "    .dataframe thead th {\n",
       "        text-align: right;\n",
       "    }\n",
       "</style>\n",
       "<table border=\"1\" class=\"dataframe\">\n",
       "  <thead>\n",
       "    <tr style=\"text-align: right;\">\n",
       "      <th></th>\n",
       "      <th>price</th>\n",
       "      <th>make</th>\n",
       "      <th>model</th>\n",
       "      <th>mileage</th>\n",
       "      <th>first_registration</th>\n",
       "      <th>age</th>\n",
       "      <th>power</th>\n",
       "      <th>prev_owner</th>\n",
       "      <th>vat</th>\n",
       "      <th>body_type</th>\n",
       "      <th>gear</th>\n",
       "      <th>nr_of_doors</th>\n",
       "      <th>nr_of_seats</th>\n",
       "      <th>cylinders</th>\n",
       "      <th>inspection_new</th>\n",
       "      <th>body_color</th>\n",
       "      <th>paint_type</th>\n",
       "      <th>fuel</th>\n",
       "      <th>type</th>\n",
       "      <th>emission_class</th>\n",
       "      <th>displacement</th>\n",
       "      <th>consumption</th>\n",
       "      <th>co2</th>\n",
       "      <th>gears</th>\n",
       "      <th>cc Air conditioning</th>\n",
       "      <th>cc Air suspension</th>\n",
       "      <th>cc Armrest</th>\n",
       "      <th>cc Automatic climate control</th>\n",
       "      <th>cc Auxiliary heating</th>\n",
       "      <th>cc Cruise control</th>\n",
       "      <th>cc Electric Starter</th>\n",
       "      <th>cc Electric tailgate</th>\n",
       "      <th>cc Electrical side mirrors</th>\n",
       "      <th>cc Electrically adjustable seats</th>\n",
       "      <th>cc Electrically heated windshield</th>\n",
       "      <th>cc Heads-up display</th>\n",
       "      <th>cc Heated steering wheel</th>\n",
       "      <th>cc Hill Holder</th>\n",
       "      <th>cc Keyless central door lock</th>\n",
       "      <th>cc Leather seats</th>\n",
       "      <th>cc Leather steering wheel</th>\n",
       "      <th>cc Light sensor</th>\n",
       "      <th>cc Lumbar support</th>\n",
       "      <th>cc Massage seats</th>\n",
       "      <th>cc Multi-function steering wheel</th>\n",
       "      <th>cc Navigation system</th>\n",
       "      <th>cc Panorama roof</th>\n",
       "      <th>cc Park Distance Control</th>\n",
       "      <th>cc Parking assist system camera</th>\n",
       "      <th>cc Parking assist system self-steering</th>\n",
       "      <th>cc Parking assist system sensors front</th>\n",
       "      <th>cc Parking assist system sensors rear</th>\n",
       "      <th>cc Power windows</th>\n",
       "      <th>cc Rain sensor</th>\n",
       "      <th>cc Seat heating</th>\n",
       "      <th>cc Seat ventilation</th>\n",
       "      <th>cc Split rear seats</th>\n",
       "      <th>cc Start-stop system</th>\n",
       "      <th>cc Sunroof</th>\n",
       "      <th>cc Tinted windows</th>\n",
       "      <th>cc Wind deflector</th>\n",
       "      <th>cc Windshield</th>\n",
       "      <th>em Bluetooth</th>\n",
       "      <th>em CD player</th>\n",
       "      <th>em Digital radio</th>\n",
       "      <th>em Hands-free equipment</th>\n",
       "      <th>em MP3</th>\n",
       "      <th>em On-board computer</th>\n",
       "      <th>em Radio</th>\n",
       "      <th>em Sound system</th>\n",
       "      <th>em Television</th>\n",
       "      <th>em USB</th>\n",
       "      <th>ex Alloy wheels</th>\n",
       "      <th>ex Cab or rented Car</th>\n",
       "      <th>ex Catalytic Converter</th>\n",
       "      <th>ex Handicapped enabled</th>\n",
       "      <th>ex Right hand drive</th>\n",
       "      <th>ex Roof rack</th>\n",
       "      <th>ex Shift paddles</th>\n",
       "      <th>ex Ski bag</th>\n",
       "      <th>ex Sliding door</th>\n",
       "      <th>ex Sport package</th>\n",
       "      <th>ex Sport seats</th>\n",
       "      <th>ex Sport suspension</th>\n",
       "      <th>ex Touch screen</th>\n",
       "      <th>ex Trailer hitch</th>\n",
       "      <th>ex Tuned car</th>\n",
       "      <th>ex Voice Control</th>\n",
       "      <th>ex Winter tyres</th>\n",
       "      <th>ss ABS</th>\n",
       "      <th>ss Adaptive Cruise Control</th>\n",
       "      <th>ss Adaptive headlights</th>\n",
       "      <th>ss Alarm system</th>\n",
       "      <th>ss Blind spot monitor</th>\n",
       "      <th>ss Central door lock</th>\n",
       "      <th>ss Central door lock with remote control</th>\n",
       "      <th>ss Daytime running lights</th>\n",
       "      <th>ss Driver drowsiness detection</th>\n",
       "      <th>ss Driver-side airbag</th>\n",
       "      <th>ss Electronic stability control</th>\n",
       "      <th>ss Emergency brake assistant</th>\n",
       "      <th>ss Emergency system</th>\n",
       "      <th>ss Fog lights</th>\n",
       "      <th>ss Head airbag</th>\n",
       "      <th>ss Immobilizer</th>\n",
       "      <th>ss Isofix</th>\n",
       "      <th>ss LED Daytime Running Lights</th>\n",
       "      <th>ss LED Headlights</th>\n",
       "      <th>ss Lane departure warning system</th>\n",
       "      <th>ss Night view assist</th>\n",
       "      <th>ss Passenger-side airbag</th>\n",
       "      <th>ss Power steering</th>\n",
       "      <th>ss Rear airbag</th>\n",
       "      <th>ss Side airbag</th>\n",
       "      <th>ss Tire pressure monitoring system</th>\n",
       "      <th>ss Traction control</th>\n",
       "      <th>ss Traffic sign recognition</th>\n",
       "      <th>ss Xenon headlights</th>\n",
       "      <th>weight</th>\n",
       "      <th>drive_chain</th>\n",
       "    </tr>\n",
       "  </thead>\n",
       "  <tbody>\n",
       "    <tr>\n",
       "      <th>11031</th>\n",
       "      <td>12900</td>\n",
       "      <td>Opel</td>\n",
       "      <td>Insignia</td>\n",
       "      <td>76000</td>\n",
       "      <td>2016</td>\n",
       "      <td>3</td>\n",
       "      <td>100</td>\n",
       "      <td>1</td>\n",
       "      <td>VAT deductible</td>\n",
       "      <td>Station wagon</td>\n",
       "      <td>Manual</td>\n",
       "      <td>5</td>\n",
       "      <td>5</td>\n",
       "      <td>4.0</td>\n",
       "      <td>No</td>\n",
       "      <td>White</td>\n",
       "      <td>Metallic</td>\n",
       "      <td>Diesel</td>\n",
       "      <td>Used</td>\n",
       "      <td>Euro 6</td>\n",
       "      <td>1598.0</td>\n",
       "      <td>4.1</td>\n",
       "      <td>109.0</td>\n",
       "      <td>6.0</td>\n",
       "      <td>1</td>\n",
       "      <td>0</td>\n",
       "      <td>1</td>\n",
       "      <td>1</td>\n",
       "      <td>0</td>\n",
       "      <td>1</td>\n",
       "      <td>0</td>\n",
       "      <td>1</td>\n",
       "      <td>1</td>\n",
       "      <td>0</td>\n",
       "      <td>0</td>\n",
       "      <td>0</td>\n",
       "      <td>0</td>\n",
       "      <td>1</td>\n",
       "      <td>0</td>\n",
       "      <td>0</td>\n",
       "      <td>1</td>\n",
       "      <td>1</td>\n",
       "      <td>0</td>\n",
       "      <td>0</td>\n",
       "      <td>1</td>\n",
       "      <td>1</td>\n",
       "      <td>0</td>\n",
       "      <td>1</td>\n",
       "      <td>0</td>\n",
       "      <td>0</td>\n",
       "      <td>1</td>\n",
       "      <td>1</td>\n",
       "      <td>1</td>\n",
       "      <td>0</td>\n",
       "      <td>0</td>\n",
       "      <td>0</td>\n",
       "      <td>1</td>\n",
       "      <td>0</td>\n",
       "      <td>0</td>\n",
       "      <td>0</td>\n",
       "      <td>0</td>\n",
       "      <td>0</td>\n",
       "      <td>1</td>\n",
       "      <td>1</td>\n",
       "      <td>1</td>\n",
       "      <td>1</td>\n",
       "      <td>1</td>\n",
       "      <td>1</td>\n",
       "      <td>1</td>\n",
       "      <td>0</td>\n",
       "      <td>0</td>\n",
       "      <td>1</td>\n",
       "      <td>1</td>\n",
       "      <td>0</td>\n",
       "      <td>0</td>\n",
       "      <td>0</td>\n",
       "      <td>0</td>\n",
       "      <td>0</td>\n",
       "      <td>0</td>\n",
       "      <td>0</td>\n",
       "      <td>0</td>\n",
       "      <td>0</td>\n",
       "      <td>0</td>\n",
       "      <td>0</td>\n",
       "      <td>1</td>\n",
       "      <td>0</td>\n",
       "      <td>0</td>\n",
       "      <td>1</td>\n",
       "      <td>0</td>\n",
       "      <td>1</td>\n",
       "      <td>0</td>\n",
       "      <td>0</td>\n",
       "      <td>0</td>\n",
       "      <td>0</td>\n",
       "      <td>1</td>\n",
       "      <td>1</td>\n",
       "      <td>1</td>\n",
       "      <td>0</td>\n",
       "      <td>1</td>\n",
       "      <td>1</td>\n",
       "      <td>0</td>\n",
       "      <td>1</td>\n",
       "      <td>1</td>\n",
       "      <td>0</td>\n",
       "      <td>1</td>\n",
       "      <td>1</td>\n",
       "      <td>1</td>\n",
       "      <td>0</td>\n",
       "      <td>0</td>\n",
       "      <td>0</td>\n",
       "      <td>1</td>\n",
       "      <td>1</td>\n",
       "      <td>1</td>\n",
       "      <td>1</td>\n",
       "      <td>1</td>\n",
       "      <td>1</td>\n",
       "      <td>0</td>\n",
       "      <td>0</td>\n",
       "      <td>1664</td>\n",
       "      <td>rear</td>\n",
       "    </tr>\n",
       "    <tr>\n",
       "      <th>11456</th>\n",
       "      <td>18990</td>\n",
       "      <td>Opel</td>\n",
       "      <td>Insignia</td>\n",
       "      <td>17887</td>\n",
       "      <td>2017</td>\n",
       "      <td>2</td>\n",
       "      <td>125</td>\n",
       "      <td>1</td>\n",
       "      <td>VAT deductible</td>\n",
       "      <td>Sedans</td>\n",
       "      <td>Automatic</td>\n",
       "      <td>5</td>\n",
       "      <td>5</td>\n",
       "      <td>4.0</td>\n",
       "      <td>No</td>\n",
       "      <td>Red</td>\n",
       "      <td>Metallic</td>\n",
       "      <td>Benzine</td>\n",
       "      <td>Used</td>\n",
       "      <td>Euro 6</td>\n",
       "      <td>1598.0</td>\n",
       "      <td>6.7</td>\n",
       "      <td>159.0</td>\n",
       "      <td>6.0</td>\n",
       "      <td>1</td>\n",
       "      <td>0</td>\n",
       "      <td>1</td>\n",
       "      <td>1</td>\n",
       "      <td>0</td>\n",
       "      <td>1</td>\n",
       "      <td>0</td>\n",
       "      <td>0</td>\n",
       "      <td>1</td>\n",
       "      <td>1</td>\n",
       "      <td>0</td>\n",
       "      <td>0</td>\n",
       "      <td>1</td>\n",
       "      <td>1</td>\n",
       "      <td>0</td>\n",
       "      <td>0</td>\n",
       "      <td>1</td>\n",
       "      <td>1</td>\n",
       "      <td>1</td>\n",
       "      <td>0</td>\n",
       "      <td>1</td>\n",
       "      <td>1</td>\n",
       "      <td>0</td>\n",
       "      <td>1</td>\n",
       "      <td>0</td>\n",
       "      <td>0</td>\n",
       "      <td>1</td>\n",
       "      <td>1</td>\n",
       "      <td>1</td>\n",
       "      <td>1</td>\n",
       "      <td>1</td>\n",
       "      <td>1</td>\n",
       "      <td>0</td>\n",
       "      <td>0</td>\n",
       "      <td>0</td>\n",
       "      <td>0</td>\n",
       "      <td>0</td>\n",
       "      <td>0</td>\n",
       "      <td>1</td>\n",
       "      <td>1</td>\n",
       "      <td>0</td>\n",
       "      <td>1</td>\n",
       "      <td>0</td>\n",
       "      <td>1</td>\n",
       "      <td>1</td>\n",
       "      <td>0</td>\n",
       "      <td>0</td>\n",
       "      <td>1</td>\n",
       "      <td>1</td>\n",
       "      <td>0</td>\n",
       "      <td>0</td>\n",
       "      <td>0</td>\n",
       "      <td>0</td>\n",
       "      <td>0</td>\n",
       "      <td>0</td>\n",
       "      <td>0</td>\n",
       "      <td>0</td>\n",
       "      <td>1</td>\n",
       "      <td>0</td>\n",
       "      <td>0</td>\n",
       "      <td>1</td>\n",
       "      <td>0</td>\n",
       "      <td>0</td>\n",
       "      <td>1</td>\n",
       "      <td>0</td>\n",
       "      <td>0</td>\n",
       "      <td>0</td>\n",
       "      <td>1</td>\n",
       "      <td>0</td>\n",
       "      <td>0</td>\n",
       "      <td>1</td>\n",
       "      <td>0</td>\n",
       "      <td>1</td>\n",
       "      <td>0</td>\n",
       "      <td>1</td>\n",
       "      <td>1</td>\n",
       "      <td>0</td>\n",
       "      <td>1</td>\n",
       "      <td>0</td>\n",
       "      <td>0</td>\n",
       "      <td>0</td>\n",
       "      <td>1</td>\n",
       "      <td>1</td>\n",
       "      <td>0</td>\n",
       "      <td>0</td>\n",
       "      <td>0</td>\n",
       "      <td>1</td>\n",
       "      <td>0</td>\n",
       "      <td>0</td>\n",
       "      <td>1</td>\n",
       "      <td>1</td>\n",
       "      <td>1</td>\n",
       "      <td>0</td>\n",
       "      <td>1</td>\n",
       "      <td>1613</td>\n",
       "      <td>rear</td>\n",
       "    </tr>\n",
       "    <tr>\n",
       "      <th>12089</th>\n",
       "      <td>18950</td>\n",
       "      <td>Opel</td>\n",
       "      <td>Insignia</td>\n",
       "      <td>24987</td>\n",
       "      <td>2018</td>\n",
       "      <td>1</td>\n",
       "      <td>125</td>\n",
       "      <td>1</td>\n",
       "      <td>VAT deductible</td>\n",
       "      <td>Station wagon</td>\n",
       "      <td>Manual</td>\n",
       "      <td>5</td>\n",
       "      <td>5</td>\n",
       "      <td>4.0</td>\n",
       "      <td>Yes</td>\n",
       "      <td>Grey</td>\n",
       "      <td>Metallic</td>\n",
       "      <td>Diesel</td>\n",
       "      <td>Used</td>\n",
       "      <td>Euro 6</td>\n",
       "      <td>1956.0</td>\n",
       "      <td>5.8</td>\n",
       "      <td>152.0</td>\n",
       "      <td>6.0</td>\n",
       "      <td>1</td>\n",
       "      <td>0</td>\n",
       "      <td>1</td>\n",
       "      <td>1</td>\n",
       "      <td>0</td>\n",
       "      <td>1</td>\n",
       "      <td>0</td>\n",
       "      <td>1</td>\n",
       "      <td>1</td>\n",
       "      <td>1</td>\n",
       "      <td>0</td>\n",
       "      <td>0</td>\n",
       "      <td>0</td>\n",
       "      <td>1</td>\n",
       "      <td>0</td>\n",
       "      <td>0</td>\n",
       "      <td>1</td>\n",
       "      <td>1</td>\n",
       "      <td>0</td>\n",
       "      <td>0</td>\n",
       "      <td>1</td>\n",
       "      <td>1</td>\n",
       "      <td>0</td>\n",
       "      <td>1</td>\n",
       "      <td>1</td>\n",
       "      <td>0</td>\n",
       "      <td>1</td>\n",
       "      <td>1</td>\n",
       "      <td>1</td>\n",
       "      <td>1</td>\n",
       "      <td>1</td>\n",
       "      <td>0</td>\n",
       "      <td>0</td>\n",
       "      <td>1</td>\n",
       "      <td>0</td>\n",
       "      <td>0</td>\n",
       "      <td>0</td>\n",
       "      <td>0</td>\n",
       "      <td>1</td>\n",
       "      <td>0</td>\n",
       "      <td>0</td>\n",
       "      <td>1</td>\n",
       "      <td>1</td>\n",
       "      <td>1</td>\n",
       "      <td>1</td>\n",
       "      <td>0</td>\n",
       "      <td>0</td>\n",
       "      <td>1</td>\n",
       "      <td>1</td>\n",
       "      <td>0</td>\n",
       "      <td>0</td>\n",
       "      <td>0</td>\n",
       "      <td>0</td>\n",
       "      <td>0</td>\n",
       "      <td>0</td>\n",
       "      <td>0</td>\n",
       "      <td>0</td>\n",
       "      <td>0</td>\n",
       "      <td>1</td>\n",
       "      <td>0</td>\n",
       "      <td>0</td>\n",
       "      <td>0</td>\n",
       "      <td>0</td>\n",
       "      <td>0</td>\n",
       "      <td>0</td>\n",
       "      <td>1</td>\n",
       "      <td>0</td>\n",
       "      <td>0</td>\n",
       "      <td>0</td>\n",
       "      <td>0</td>\n",
       "      <td>1</td>\n",
       "      <td>0</td>\n",
       "      <td>1</td>\n",
       "      <td>0</td>\n",
       "      <td>1</td>\n",
       "      <td>0</td>\n",
       "      <td>0</td>\n",
       "      <td>0</td>\n",
       "      <td>1</td>\n",
       "      <td>0</td>\n",
       "      <td>1</td>\n",
       "      <td>1</td>\n",
       "      <td>0</td>\n",
       "      <td>1</td>\n",
       "      <td>0</td>\n",
       "      <td>0</td>\n",
       "      <td>1</td>\n",
       "      <td>1</td>\n",
       "      <td>0</td>\n",
       "      <td>1</td>\n",
       "      <td>1</td>\n",
       "      <td>1</td>\n",
       "      <td>0</td>\n",
       "      <td>0</td>\n",
       "      <td>1589</td>\n",
       "      <td>rear</td>\n",
       "    </tr>\n",
       "    <tr>\n",
       "      <th>14611</th>\n",
       "      <td>10490</td>\n",
       "      <td>Renault</td>\n",
       "      <td>Clio</td>\n",
       "      <td>27700</td>\n",
       "      <td>2018</td>\n",
       "      <td>1</td>\n",
       "      <td>55</td>\n",
       "      <td>1</td>\n",
       "      <td>VAT deductible</td>\n",
       "      <td>Sedans</td>\n",
       "      <td>Manual</td>\n",
       "      <td>5</td>\n",
       "      <td>5</td>\n",
       "      <td>4.0</td>\n",
       "      <td>No</td>\n",
       "      <td>Grey</td>\n",
       "      <td>Metallic</td>\n",
       "      <td>Diesel</td>\n",
       "      <td>Used</td>\n",
       "      <td>Euro 6</td>\n",
       "      <td>1461.0</td>\n",
       "      <td>4.0</td>\n",
       "      <td>104.0</td>\n",
       "      <td>5.0</td>\n",
       "      <td>1</td>\n",
       "      <td>0</td>\n",
       "      <td>0</td>\n",
       "      <td>0</td>\n",
       "      <td>0</td>\n",
       "      <td>1</td>\n",
       "      <td>0</td>\n",
       "      <td>0</td>\n",
       "      <td>0</td>\n",
       "      <td>0</td>\n",
       "      <td>0</td>\n",
       "      <td>0</td>\n",
       "      <td>0</td>\n",
       "      <td>0</td>\n",
       "      <td>0</td>\n",
       "      <td>0</td>\n",
       "      <td>0</td>\n",
       "      <td>0</td>\n",
       "      <td>0</td>\n",
       "      <td>0</td>\n",
       "      <td>0</td>\n",
       "      <td>1</td>\n",
       "      <td>0</td>\n",
       "      <td>1</td>\n",
       "      <td>0</td>\n",
       "      <td>0</td>\n",
       "      <td>0</td>\n",
       "      <td>1</td>\n",
       "      <td>1</td>\n",
       "      <td>0</td>\n",
       "      <td>0</td>\n",
       "      <td>0</td>\n",
       "      <td>0</td>\n",
       "      <td>0</td>\n",
       "      <td>0</td>\n",
       "      <td>0</td>\n",
       "      <td>0</td>\n",
       "      <td>0</td>\n",
       "      <td>1</td>\n",
       "      <td>1</td>\n",
       "      <td>0</td>\n",
       "      <td>1</td>\n",
       "      <td>0</td>\n",
       "      <td>0</td>\n",
       "      <td>1</td>\n",
       "      <td>0</td>\n",
       "      <td>0</td>\n",
       "      <td>1</td>\n",
       "      <td>0</td>\n",
       "      <td>0</td>\n",
       "      <td>0</td>\n",
       "      <td>0</td>\n",
       "      <td>0</td>\n",
       "      <td>0</td>\n",
       "      <td>0</td>\n",
       "      <td>0</td>\n",
       "      <td>0</td>\n",
       "      <td>0</td>\n",
       "      <td>0</td>\n",
       "      <td>0</td>\n",
       "      <td>1</td>\n",
       "      <td>0</td>\n",
       "      <td>0</td>\n",
       "      <td>0</td>\n",
       "      <td>0</td>\n",
       "      <td>1</td>\n",
       "      <td>0</td>\n",
       "      <td>0</td>\n",
       "      <td>0</td>\n",
       "      <td>0</td>\n",
       "      <td>1</td>\n",
       "      <td>1</td>\n",
       "      <td>0</td>\n",
       "      <td>0</td>\n",
       "      <td>1</td>\n",
       "      <td>0</td>\n",
       "      <td>0</td>\n",
       "      <td>0</td>\n",
       "      <td>0</td>\n",
       "      <td>0</td>\n",
       "      <td>0</td>\n",
       "      <td>0</td>\n",
       "      <td>1</td>\n",
       "      <td>0</td>\n",
       "      <td>0</td>\n",
       "      <td>0</td>\n",
       "      <td>1</td>\n",
       "      <td>1</td>\n",
       "      <td>0</td>\n",
       "      <td>1</td>\n",
       "      <td>0</td>\n",
       "      <td>0</td>\n",
       "      <td>0</td>\n",
       "      <td>0</td>\n",
       "      <td>1162</td>\n",
       "      <td>rear</td>\n",
       "    </tr>\n",
       "  </tbody>\n",
       "</table>\n",
       "</div>"
      ],
      "text/plain": [
       "       price     make     model  mileage  first_registration  age  power  \\\n",
       "11031  12900     Opel  Insignia    76000                2016    3    100   \n",
       "11456  18990     Opel  Insignia    17887                2017    2    125   \n",
       "12089  18950     Opel  Insignia    24987                2018    1    125   \n",
       "14611  10490  Renault      Clio    27700                2018    1     55   \n",
       "\n",
       "       prev_owner             vat      body_type       gear  nr_of_doors  \\\n",
       "11031           1  VAT deductible  Station wagon     Manual            5   \n",
       "11456           1  VAT deductible         Sedans  Automatic            5   \n",
       "12089           1  VAT deductible  Station wagon     Manual            5   \n",
       "14611           1  VAT deductible         Sedans     Manual            5   \n",
       "\n",
       "       nr_of_seats  cylinders inspection_new body_color paint_type     fuel  \\\n",
       "11031            5        4.0             No      White   Metallic   Diesel   \n",
       "11456            5        4.0             No        Red   Metallic  Benzine   \n",
       "12089            5        4.0            Yes       Grey   Metallic   Diesel   \n",
       "14611            5        4.0             No       Grey   Metallic   Diesel   \n",
       "\n",
       "       type emission_class  displacement  consumption    co2  gears  \\\n",
       "11031  Used         Euro 6        1598.0          4.1  109.0    6.0   \n",
       "11456  Used         Euro 6        1598.0          6.7  159.0    6.0   \n",
       "12089  Used         Euro 6        1956.0          5.8  152.0    6.0   \n",
       "14611  Used         Euro 6        1461.0          4.0  104.0    5.0   \n",
       "\n",
       "       cc Air conditioning  cc Air suspension  cc Armrest  \\\n",
       "11031                    1                  0           1   \n",
       "11456                    1                  0           1   \n",
       "12089                    1                  0           1   \n",
       "14611                    1                  0           0   \n",
       "\n",
       "       cc Automatic climate control  cc Auxiliary heating  cc Cruise control  \\\n",
       "11031                             1                     0                  1   \n",
       "11456                             1                     0                  1   \n",
       "12089                             1                     0                  1   \n",
       "14611                             0                     0                  1   \n",
       "\n",
       "       cc Electric Starter  cc Electric tailgate  cc Electrical side mirrors  \\\n",
       "11031                    0                     1                           1   \n",
       "11456                    0                     0                           1   \n",
       "12089                    0                     1                           1   \n",
       "14611                    0                     0                           0   \n",
       "\n",
       "       cc Electrically adjustable seats  cc Electrically heated windshield  \\\n",
       "11031                                 0                                  0   \n",
       "11456                                 1                                  0   \n",
       "12089                                 1                                  0   \n",
       "14611                                 0                                  0   \n",
       "\n",
       "       cc Heads-up display  cc Heated steering wheel  cc Hill Holder  \\\n",
       "11031                    0                         0               1   \n",
       "11456                    0                         1               1   \n",
       "12089                    0                         0               1   \n",
       "14611                    0                         0               0   \n",
       "\n",
       "       cc Keyless central door lock  cc Leather seats  \\\n",
       "11031                             0                 0   \n",
       "11456                             0                 0   \n",
       "12089                             0                 0   \n",
       "14611                             0                 0   \n",
       "\n",
       "       cc Leather steering wheel  cc Light sensor  cc Lumbar support  \\\n",
       "11031                          1                1                  0   \n",
       "11456                          1                1                  1   \n",
       "12089                          1                1                  0   \n",
       "14611                          0                0                  0   \n",
       "\n",
       "       cc Massage seats  cc Multi-function steering wheel  \\\n",
       "11031                 0                                 1   \n",
       "11456                 0                                 1   \n",
       "12089                 0                                 1   \n",
       "14611                 0                                 0   \n",
       "\n",
       "       cc Navigation system  cc Panorama roof  cc Park Distance Control  \\\n",
       "11031                     1                 0                         1   \n",
       "11456                     1                 0                         1   \n",
       "12089                     1                 0                         1   \n",
       "14611                     1                 0                         1   \n",
       "\n",
       "       cc Parking assist system camera  \\\n",
       "11031                                0   \n",
       "11456                                0   \n",
       "12089                                1   \n",
       "14611                                0   \n",
       "\n",
       "       cc Parking assist system self-steering  \\\n",
       "11031                                       0   \n",
       "11456                                       0   \n",
       "12089                                       0   \n",
       "14611                                       0   \n",
       "\n",
       "       cc Parking assist system sensors front  \\\n",
       "11031                                       1   \n",
       "11456                                       1   \n",
       "12089                                       1   \n",
       "14611                                       0   \n",
       "\n",
       "       cc Parking assist system sensors rear  cc Power windows  \\\n",
       "11031                                      1                 1   \n",
       "11456                                      1                 1   \n",
       "12089                                      1                 1   \n",
       "14611                                      1                 1   \n",
       "\n",
       "       cc Rain sensor  cc Seat heating  cc Seat ventilation  \\\n",
       "11031               0                0                    0   \n",
       "11456               1                1                    1   \n",
       "12089               1                1                    0   \n",
       "14611               0                0                    0   \n",
       "\n",
       "       cc Split rear seats  cc Start-stop system  cc Sunroof  \\\n",
       "11031                    1                     0           0   \n",
       "11456                    0                     0           0   \n",
       "12089                    0                     1           0   \n",
       "14611                    0                     0           0   \n",
       "\n",
       "       cc Tinted windows  cc Wind deflector  cc Windshield  em Bluetooth  \\\n",
       "11031                  0                  0              0             1   \n",
       "11456                  0                  0              0             1   \n",
       "12089                  0                  0              0             1   \n",
       "14611                  0                  0              0             1   \n",
       "\n",
       "       em CD player  em Digital radio  em Hands-free equipment  em MP3  \\\n",
       "11031             1                 1                        1       1   \n",
       "11456             1                 0                        1       0   \n",
       "12089             0                 0                        1       1   \n",
       "14611             1                 0                        1       0   \n",
       "\n",
       "       em On-board computer  em Radio  em Sound system  em Television  em USB  \\\n",
       "11031                     1         1                0              0       1   \n",
       "11456                     1         1                0              0       1   \n",
       "12089                     1         1                0              0       1   \n",
       "14611                     0         1                0              0       1   \n",
       "\n",
       "       ex Alloy wheels  ex Cab or rented Car  ex Catalytic Converter  \\\n",
       "11031                1                     0                       0   \n",
       "11456                1                     0                       0   \n",
       "12089                1                     0                       0   \n",
       "14611                0                     0                       0   \n",
       "\n",
       "       ex Handicapped enabled  ex Right hand drive  ex Roof rack  \\\n",
       "11031                       0                    0             0   \n",
       "11456                       0                    0             0   \n",
       "12089                       0                    0             0   \n",
       "14611                       0                    0             0   \n",
       "\n",
       "       ex Shift paddles  ex Ski bag  ex Sliding door  ex Sport package  \\\n",
       "11031                 0           0                0                 0   \n",
       "11456                 0           0                0                 1   \n",
       "12089                 0           0                0                 0   \n",
       "14611                 0           0                0                 0   \n",
       "\n",
       "       ex Sport seats  ex Sport suspension  ex Touch screen  ex Trailer hitch  \\\n",
       "11031               0                    0                1                 0   \n",
       "11456               0                    0                1                 0   \n",
       "12089               1                    0                0                 0   \n",
       "14611               0                    0                1                 0   \n",
       "\n",
       "       ex Tuned car  ex Voice Control  ex Winter tyres  ss ABS  \\\n",
       "11031             0                 1                0       1   \n",
       "11456             0                 1                0       0   \n",
       "12089             0                 0                0       1   \n",
       "14611             0                 0                0       1   \n",
       "\n",
       "       ss Adaptive Cruise Control  ss Adaptive headlights  ss Alarm system  \\\n",
       "11031                           0                       0                0   \n",
       "11456                           0                       1                0   \n",
       "12089                           0                       0                0   \n",
       "14611                           0                       0                0   \n",
       "\n",
       "       ss Blind spot monitor  ss Central door lock  \\\n",
       "11031                      0                     1   \n",
       "11456                      0                     1   \n",
       "12089                      0                     1   \n",
       "14611                      0                     1   \n",
       "\n",
       "       ss Central door lock with remote control  ss Daytime running lights  \\\n",
       "11031                                         1                          1   \n",
       "11456                                         0                          1   \n",
       "12089                                         0                          1   \n",
       "14611                                         1                          0   \n",
       "\n",
       "       ss Driver drowsiness detection  ss Driver-side airbag  \\\n",
       "11031                               0                      1   \n",
       "11456                               0                      1   \n",
       "12089                               0                      1   \n",
       "14611                               0                      1   \n",
       "\n",
       "       ss Electronic stability control  ss Emergency brake assistant  \\\n",
       "11031                                1                             0   \n",
       "11456                                1                             0   \n",
       "12089                                0                             0   \n",
       "14611                                0                             0   \n",
       "\n",
       "       ss Emergency system  ss Fog lights  ss Head airbag  ss Immobilizer  \\\n",
       "11031                    1              1               0               1   \n",
       "11456                    1              0               0               0   \n",
       "12089                    0              1               0               1   \n",
       "14611                    0              0               0               0   \n",
       "\n",
       "       ss Isofix  ss LED Daytime Running Lights  ss LED Headlights  \\\n",
       "11031          1                              1                  0   \n",
       "11456          1                              1                  0   \n",
       "12089          1                              0                  1   \n",
       "14611          0                              1                  0   \n",
       "\n",
       "       ss Lane departure warning system  ss Night view assist  \\\n",
       "11031                                 0                     0   \n",
       "11456                                 0                     0   \n",
       "12089                                 0                     0   \n",
       "14611                                 0                     0   \n",
       "\n",
       "       ss Passenger-side airbag  ss Power steering  ss Rear airbag  \\\n",
       "11031                         1                  1               1   \n",
       "11456                         1                  0               0   \n",
       "12089                         1                  1               0   \n",
       "14611                         1                  1               0   \n",
       "\n",
       "       ss Side airbag  ss Tire pressure monitoring system  \\\n",
       "11031               1                                   1   \n",
       "11456               1                                   1   \n",
       "12089               1                                   1   \n",
       "14611               1                                   0   \n",
       "\n",
       "       ss Traction control  ss Traffic sign recognition  ss Xenon headlights  \\\n",
       "11031                    1                            0                    0   \n",
       "11456                    1                            0                    1   \n",
       "12089                    1                            0                    0   \n",
       "14611                    0                            0                    0   \n",
       "\n",
       "       weight drive_chain  \n",
       "11031    1664        rear  \n",
       "11456    1613        rear  \n",
       "12089    1589        rear  \n",
       "14611    1162        rear  "
      ]
     },
     "execution_count": 369,
     "metadata": {},
     "output_type": "execute_result"
    }
   ],
   "source": [
    "data[data.drive_chain == \"rear\"]"
   ]
  },
  {
   "cell_type": "code",
   "execution_count": 370,
   "metadata": {},
   "outputs": [],
   "source": [
    "data.loc[data.drive_chain == \"rear\", \"drive_chain\"] = \"front\""
   ]
  },
  {
   "cell_type": "code",
   "execution_count": 371,
   "metadata": {},
   "outputs": [
    {
     "data": {
      "text/plain": [
       "front    15715\n",
       "4WD        203\n",
       "Name: drive_chain, dtype: int64"
      ]
     },
     "execution_count": 371,
     "metadata": {},
     "output_type": "execute_result"
    }
   ],
   "source": [
    "data.drive_chain.value_counts(dropna=False)"
   ]
  },
  {
   "cell_type": "code",
   "execution_count": 372,
   "metadata": {},
   "outputs": [
    {
     "data": {
      "image/png": "[encoded data removed]",
      "text/plain": [
       "<Figure size 432x288 with 1 Axes>"
      ]
     },
     "metadata": {
      "needs_background": "light"
     },
     "output_type": "display_data"
    }
   ],
   "source": [
    "data.groupby([\"make\", \"drive_chain\"])[\"price\"].mean().plot(kind=\"bar\");"
   ]
  },
  {
   "cell_type": "markdown",
   "metadata": {},
   "source": [
    "#### Handling the independent variables *Upholstery*"
   ]
  },
  {
   "cell_type": "code",
   "execution_count": 373,
   "metadata": {},
   "outputs": [
    {
     "data": {
      "text/plain": [
       "15914                          NaN\n",
       "15915                  [\\nCloth\\n]\n",
       "15916    [\\nFull leather, Black\\n]\n",
       "15917           [\\nPart leather\\n]\n",
       "15918    [\\nFull leather, Brown\\n]\n",
       "Name: Upholstery, dtype: object"
      ]
     },
     "execution_count": 373,
     "metadata": {},
     "output_type": "execute_result"
    }
   ],
   "source": [
    "temp = raw_df[\"Upholstery\"].copy()\n",
    "temp.tail()"
   ]
  },
  {
   "cell_type": "code",
   "execution_count": 374,
   "metadata": {},
   "outputs": [
    {
     "data": {
      "text/plain": [
       "3720"
      ]
     },
     "execution_count": 374,
     "metadata": {},
     "output_type": "execute_result"
    }
   ],
   "source": [
    "temp.isnull().sum()"
   ]
  },
  {
   "cell_type": "code",
   "execution_count": 375,
   "metadata": {},
   "outputs": [],
   "source": [
    "temp = temp.apply(lambda x: x[0].strip(\"\\n\") if isinstance(x, list) else x)"
   ]
  },
  {
   "cell_type": "code",
   "execution_count": 376,
   "metadata": {},
   "outputs": [
    {
     "data": {
      "text/plain": [
       "3720"
      ]
     },
     "execution_count": 376,
     "metadata": {},
     "output_type": "execute_result"
    }
   ],
   "source": [
    "temp.isnull().sum()"
   ]
  },
  {
   "cell_type": "code",
   "execution_count": 377,
   "metadata": {},
   "outputs": [
    {
     "data": {
      "text/plain": [
       "15914                    NaN\n",
       "15915                  Cloth\n",
       "15916    Full leather, Black\n",
       "15917           Part leather\n",
       "15918    Full leather, Brown\n",
       "Name: Upholstery, dtype: object"
      ]
     },
     "execution_count": 377,
     "metadata": {},
     "output_type": "execute_result"
    }
   ],
   "source": [
    "temp.tail()"
   ]
  },
  {
   "cell_type": "code",
   "execution_count": 378,
   "metadata": {},
   "outputs": [
    {
     "data": {
      "text/plain": [
       "Cloth, Black           5820\n",
       "Part leather, Black    1121\n",
       "Cloth                  1005\n",
       "Cloth, Grey             891\n",
       "Cloth, Other            639\n",
       "Full leather, Black     575\n",
       "Black                   491\n",
       "Grey                    273\n",
       "Other, Other            182\n",
       "Part leather            140\n",
       "Full leather            139\n",
       "Part leather, Grey      116\n",
       "Full leather, Brown     116\n",
       "Other, Black            110\n",
       "Full leather, Other      72\n",
       "Full leather, Grey       67\n",
       "Part leather, Other      65\n",
       "Other                    56\n",
       "Part leather, Brown      50\n",
       "alcantara, Black         47\n",
       "Full leather, Beige      36\n",
       "Velour, Black            36\n",
       "Cloth, Brown             28\n",
       "Velour                   16\n",
       "Other, Grey              15\n",
       "Cloth, Beige             13\n",
       "Brown                    12\n",
       "Cloth, Blue              12\n",
       "Cloth, White              8\n",
       "Velour, Grey              8\n",
       "alcantara, Grey           6\n",
       "Cloth, Red                5\n",
       "Other, Yellow             4\n",
       "Beige                     3\n",
       "Part leather, Red         3\n",
       "alcantara                 2\n",
       "Part leather, White       2\n",
       "Blue                      2\n",
       "White                     2\n",
       "Part leather, Beige       2\n",
       "alcantara, Other          2\n",
       "Full leather, Blue        2\n",
       "Other, Brown              1\n",
       "Cloth, Orange             1\n",
       "Full leather, Red         1\n",
       "Full leather, White       1\n",
       "Name: Upholstery, dtype: int64"
      ]
     },
     "execution_count": 378,
     "metadata": {},
     "output_type": "execute_result"
    }
   ],
   "source": [
    "temp.value_counts()"
   ]
  },
  {
   "cell_type": "code",
   "execution_count": 379,
   "metadata": {},
   "outputs": [
    {
     "data": {
      "text/plain": [
       "'Brown'"
      ]
     },
     "execution_count": 379,
     "metadata": {},
     "output_type": "execute_result"
    }
   ],
   "source": [
    "str(\"Full leather, Brown\".split(\",\")[1]).strip(\" \")"
   ]
  },
  {
   "cell_type": "code",
   "execution_count": 380,
   "metadata": {},
   "outputs": [
    {
     "data": {
      "text/plain": [
       "str"
      ]
     },
     "execution_count": 380,
     "metadata": {},
     "output_type": "execute_result"
    }
   ],
   "source": [
    "type(temp.iloc[0])"
   ]
  },
  {
   "cell_type": "code",
   "execution_count": 381,
   "metadata": {},
   "outputs": [],
   "source": [
    "def get_up_type(x):\n",
    "    if type(x) == str:\n",
    "        if \",\" in x:\n",
    "            up_type = x.split(\",\")[0]\n",
    "            if up_type in [\"Full leather\", \"Part leather\", \"Cloth\", \"Velour\", \"Alcantra\", \"Other\"]:\n",
    "                return up_type\n",
    "            else:\n",
    "                return np.NaN\n",
    "        else:\n",
    "            if x in [\"Full leather\", \"Part leather\", \"Cloth\", \"Velour\", \"Alcantra\", \"Other\"]:\n",
    "                return x\n",
    "            else:\n",
    "                return np.NaN\n",
    "    else:\n",
    "        return x"
   ]
  },
  {
   "cell_type": "code",
   "execution_count": 382,
   "metadata": {},
   "outputs": [],
   "source": [
    "def get_up_color(x):\n",
    "    if type(x) == str:\n",
    "        if \",\" in x:\n",
    "            up_color = str(x.split(\",\")[1]).strip(\" \")\n",
    "            if up_color in [\"Black\", \"Grey\", \"Beige\", \"Brown\", \"Other\"]:\n",
    "                return up_color\n",
    "            else:\n",
    "                return np.NaN\n",
    "        else:\n",
    "            if x in [\"Black\", \"Grey\", \"Beige\", \"Brown\", \"Other\"]:\n",
    "                return x\n",
    "            else:\n",
    "                return np.NaN\n",
    "    else:\n",
    "        return x"
   ]
  },
  {
   "cell_type": "code",
   "execution_count": 383,
   "metadata": {},
   "outputs": [],
   "source": [
    "temp_up_type = temp.apply(lambda x: get_up_type(x))"
   ]
  },
  {
   "cell_type": "code",
   "execution_count": 384,
   "metadata": {},
   "outputs": [],
   "source": [
    "temp_up_color = temp.apply(lambda x: get_up_color(x))"
   ]
  },
  {
   "cell_type": "code",
   "execution_count": 385,
   "metadata": {},
   "outputs": [
    {
     "data": {
      "text/plain": [
       "15914             NaN\n",
       "15915           Cloth\n",
       "15916    Full leather\n",
       "15917    Part leather\n",
       "15918    Full leather\n",
       "Name: Upholstery, dtype: object"
      ]
     },
     "execution_count": 385,
     "metadata": {},
     "output_type": "execute_result"
    }
   ],
   "source": [
    "temp_up_type.tail()"
   ]
  },
  {
   "cell_type": "code",
   "execution_count": 386,
   "metadata": {},
   "outputs": [
    {
     "data": {
      "text/plain": [
       "15914      NaN\n",
       "15915      NaN\n",
       "15916    Black\n",
       "15917      NaN\n",
       "15918    Brown\n",
       "Name: Upholstery, dtype: object"
      ]
     },
     "execution_count": 386,
     "metadata": {},
     "output_type": "execute_result"
    }
   ],
   "source": [
    "temp_up_color.tail()"
   ]
  },
  {
   "cell_type": "code",
   "execution_count": 387,
   "metadata": {},
   "outputs": [],
   "source": [
    "data[\"upholstery_type\"] = temp_up_type.copy()\n",
    "data[\"upholstery_color\"] = temp_up_color.copy()"
   ]
  },
  {
   "cell_type": "code",
   "execution_count": 388,
   "metadata": {},
   "outputs": [
    {
     "data": {
      "text/plain": [
       "Cloth           8422\n",
       "NaN             4560\n",
       "Part leather    1499\n",
       "Full leather    1009\n",
       "Other            368\n",
       "Velour            60\n",
       "Name: upholstery_type, dtype: int64"
      ]
     },
     "execution_count": 388,
     "metadata": {},
     "output_type": "execute_result"
    }
   ],
   "source": [
    "data[\"upholstery_type\"].value_counts(dropna=False)"
   ]
  },
  {
   "cell_type": "code",
   "execution_count": 389,
   "metadata": {},
   "outputs": [
    {
     "data": {
      "text/plain": [
       "Black    8200\n",
       "NaN      5065\n",
       "Grey     1376\n",
       "Other    1016\n",
       "Brown     207\n",
       "Beige      54\n",
       "Name: upholstery_color, dtype: int64"
      ]
     },
     "execution_count": 389,
     "metadata": {},
     "output_type": "execute_result"
    }
   ],
   "source": [
    "data[\"upholstery_color\"].value_counts(dropna=False)"
   ]
  },
  {
   "cell_type": "code",
   "execution_count": 390,
   "metadata": {},
   "outputs": [],
   "source": [
    "data.upholstery_type = data.upholstery_type.fillna(data.groupby(\"model\")[\"upholstery_type\"].transform(lambda x: x.mode().iloc[0]))\n",
    "data.upholstery_color = data.upholstery_color.fillna(data.groupby(\"model\")[\"upholstery_color\"].transform(lambda x: x.mode().iloc[0]))"
   ]
  },
  {
   "cell_type": "code",
   "execution_count": 391,
   "metadata": {},
   "outputs": [
    {
     "data": {
      "text/plain": [
       "Cloth           12605\n",
       "Part leather     1499\n",
       "Full leather     1386\n",
       "Other             368\n",
       "Velour             60\n",
       "Name: upholstery_type, dtype: int64"
      ]
     },
     "execution_count": 391,
     "metadata": {},
     "output_type": "execute_result"
    }
   ],
   "source": [
    "data[\"upholstery_type\"].value_counts(dropna=False)"
   ]
  },
  {
   "cell_type": "code",
   "execution_count": 392,
   "metadata": {},
   "outputs": [
    {
     "data": {
      "text/plain": [
       "Black    13249\n",
       "Grey      1392\n",
       "Other     1016\n",
       "Brown      207\n",
       "Beige       54\n",
       "Name: upholstery_color, dtype: int64"
      ]
     },
     "execution_count": 392,
     "metadata": {},
     "output_type": "execute_result"
    }
   ],
   "source": [
    "data[\"upholstery_color\"].value_counts(dropna=False)"
   ]
  },
  {
   "cell_type": "code",
   "execution_count": 394,
   "metadata": {},
   "outputs": [
    {
     "data": {
      "text/plain": [
       "(15918, 122)"
      ]
     },
     "execution_count": 394,
     "metadata": {},
     "output_type": "execute_result"
    }
   ],
   "source": [
    "data.shape"
   ]
  },
  {
   "cell_type": "code",
   "execution_count": 395,
   "metadata": {},
   "outputs": [
    {
     "data": {
      "text/html": [
       "<div>\n",
       "<style scoped>\n",
       "    .dataframe tbody tr th:only-of-type {\n",
       "        vertical-align: middle;\n",
       "    }\n",
       "\n",
       "    .dataframe tbody tr th {\n",
       "        vertical-align: top;\n",
       "    }\n",
       "\n",
       "    .dataframe thead th {\n",
       "        text-align: right;\n",
       "    }\n",
       "</style>\n",
       "<table border=\"1\" class=\"dataframe\">\n",
       "  <thead>\n",
       "    <tr style=\"text-align: right;\">\n",
       "      <th></th>\n",
       "      <th>price</th>\n",
       "      <th>make</th>\n",
       "      <th>model</th>\n",
       "      <th>mileage</th>\n",
       "      <th>first_registration</th>\n",
       "      <th>age</th>\n",
       "      <th>power</th>\n",
       "      <th>prev_owner</th>\n",
       "      <th>vat</th>\n",
       "      <th>body_type</th>\n",
       "      <th>gear</th>\n",
       "      <th>nr_of_doors</th>\n",
       "      <th>nr_of_seats</th>\n",
       "      <th>cylinders</th>\n",
       "      <th>inspection_new</th>\n",
       "      <th>body_color</th>\n",
       "      <th>paint_type</th>\n",
       "      <th>fuel</th>\n",
       "      <th>type</th>\n",
       "      <th>emission_class</th>\n",
       "      <th>displacement</th>\n",
       "      <th>consumption</th>\n",
       "      <th>co2</th>\n",
       "      <th>gears</th>\n",
       "      <th>cc Air conditioning</th>\n",
       "      <th>cc Air suspension</th>\n",
       "      <th>cc Armrest</th>\n",
       "      <th>cc Automatic climate control</th>\n",
       "      <th>cc Auxiliary heating</th>\n",
       "      <th>cc Cruise control</th>\n",
       "      <th>cc Electric Starter</th>\n",
       "      <th>cc Electric tailgate</th>\n",
       "      <th>cc Electrical side mirrors</th>\n",
       "      <th>cc Electrically adjustable seats</th>\n",
       "      <th>cc Electrically heated windshield</th>\n",
       "      <th>cc Heads-up display</th>\n",
       "      <th>cc Heated steering wheel</th>\n",
       "      <th>cc Hill Holder</th>\n",
       "      <th>cc Keyless central door lock</th>\n",
       "      <th>cc Leather seats</th>\n",
       "      <th>cc Leather steering wheel</th>\n",
       "      <th>cc Light sensor</th>\n",
       "      <th>cc Lumbar support</th>\n",
       "      <th>cc Massage seats</th>\n",
       "      <th>cc Multi-function steering wheel</th>\n",
       "      <th>cc Navigation system</th>\n",
       "      <th>cc Panorama roof</th>\n",
       "      <th>cc Park Distance Control</th>\n",
       "      <th>cc Parking assist system camera</th>\n",
       "      <th>cc Parking assist system self-steering</th>\n",
       "      <th>cc Parking assist system sensors front</th>\n",
       "      <th>cc Parking assist system sensors rear</th>\n",
       "      <th>cc Power windows</th>\n",
       "      <th>cc Rain sensor</th>\n",
       "      <th>cc Seat heating</th>\n",
       "      <th>cc Seat ventilation</th>\n",
       "      <th>cc Split rear seats</th>\n",
       "      <th>cc Start-stop system</th>\n",
       "      <th>cc Sunroof</th>\n",
       "      <th>cc Tinted windows</th>\n",
       "      <th>cc Wind deflector</th>\n",
       "      <th>cc Windshield</th>\n",
       "      <th>em Bluetooth</th>\n",
       "      <th>em CD player</th>\n",
       "      <th>em Digital radio</th>\n",
       "      <th>em Hands-free equipment</th>\n",
       "      <th>em MP3</th>\n",
       "      <th>em On-board computer</th>\n",
       "      <th>em Radio</th>\n",
       "      <th>em Sound system</th>\n",
       "      <th>em Television</th>\n",
       "      <th>em USB</th>\n",
       "      <th>ex Alloy wheels</th>\n",
       "      <th>ex Cab or rented Car</th>\n",
       "      <th>ex Catalytic Converter</th>\n",
       "      <th>ex Handicapped enabled</th>\n",
       "      <th>ex Right hand drive</th>\n",
       "      <th>ex Roof rack</th>\n",
       "      <th>ex Shift paddles</th>\n",
       "      <th>ex Ski bag</th>\n",
       "      <th>ex Sliding door</th>\n",
       "      <th>ex Sport package</th>\n",
       "      <th>ex Sport seats</th>\n",
       "      <th>ex Sport suspension</th>\n",
       "      <th>ex Touch screen</th>\n",
       "      <th>ex Trailer hitch</th>\n",
       "      <th>ex Tuned car</th>\n",
       "      <th>ex Voice Control</th>\n",
       "      <th>ex Winter tyres</th>\n",
       "      <th>ss ABS</th>\n",
       "      <th>ss Adaptive Cruise Control</th>\n",
       "      <th>ss Adaptive headlights</th>\n",
       "      <th>ss Alarm system</th>\n",
       "      <th>ss Blind spot monitor</th>\n",
       "      <th>ss Central door lock</th>\n",
       "      <th>ss Central door lock with remote control</th>\n",
       "      <th>ss Daytime running lights</th>\n",
       "      <th>ss Driver drowsiness detection</th>\n",
       "      <th>ss Driver-side airbag</th>\n",
       "      <th>ss Electronic stability control</th>\n",
       "      <th>ss Emergency brake assistant</th>\n",
       "      <th>ss Emergency system</th>\n",
       "      <th>ss Fog lights</th>\n",
       "      <th>ss Head airbag</th>\n",
       "      <th>ss Immobilizer</th>\n",
       "      <th>ss Isofix</th>\n",
       "      <th>ss LED Daytime Running Lights</th>\n",
       "      <th>ss LED Headlights</th>\n",
       "      <th>ss Lane departure warning system</th>\n",
       "      <th>ss Night view assist</th>\n",
       "      <th>ss Passenger-side airbag</th>\n",
       "      <th>ss Power steering</th>\n",
       "      <th>ss Rear airbag</th>\n",
       "      <th>ss Side airbag</th>\n",
       "      <th>ss Tire pressure monitoring system</th>\n",
       "      <th>ss Traction control</th>\n",
       "      <th>ss Traffic sign recognition</th>\n",
       "      <th>ss Xenon headlights</th>\n",
       "      <th>weight</th>\n",
       "      <th>drive_chain</th>\n",
       "      <th>upholstery_type</th>\n",
       "      <th>upholstery_color</th>\n",
       "    </tr>\n",
       "  </thead>\n",
       "  <tbody>\n",
       "    <tr>\n",
       "      <th>0</th>\n",
       "      <td>15770</td>\n",
       "      <td>Audi</td>\n",
       "      <td>A1</td>\n",
       "      <td>56013</td>\n",
       "      <td>2016</td>\n",
       "      <td>3</td>\n",
       "      <td>66</td>\n",
       "      <td>2</td>\n",
       "      <td>VAT deductible</td>\n",
       "      <td>Sedans</td>\n",
       "      <td>Automatic</td>\n",
       "      <td>5</td>\n",
       "      <td>5</td>\n",
       "      <td>3.0</td>\n",
       "      <td>Yes</td>\n",
       "      <td>Black</td>\n",
       "      <td>Metallic</td>\n",
       "      <td>Diesel</td>\n",
       "      <td>Used</td>\n",
       "      <td>Euro 6</td>\n",
       "      <td>1422.0</td>\n",
       "      <td>4.2</td>\n",
       "      <td>99.0</td>\n",
       "      <td>5.0</td>\n",
       "      <td>1</td>\n",
       "      <td>0</td>\n",
       "      <td>1</td>\n",
       "      <td>1</td>\n",
       "      <td>0</td>\n",
       "      <td>1</td>\n",
       "      <td>0</td>\n",
       "      <td>0</td>\n",
       "      <td>1</td>\n",
       "      <td>0</td>\n",
       "      <td>0</td>\n",
       "      <td>0</td>\n",
       "      <td>0</td>\n",
       "      <td>1</td>\n",
       "      <td>0</td>\n",
       "      <td>0</td>\n",
       "      <td>1</td>\n",
       "      <td>1</td>\n",
       "      <td>0</td>\n",
       "      <td>0</td>\n",
       "      <td>1</td>\n",
       "      <td>1</td>\n",
       "      <td>0</td>\n",
       "      <td>1</td>\n",
       "      <td>0</td>\n",
       "      <td>0</td>\n",
       "      <td>0</td>\n",
       "      <td>1</td>\n",
       "      <td>1</td>\n",
       "      <td>1</td>\n",
       "      <td>1</td>\n",
       "      <td>0</td>\n",
       "      <td>0</td>\n",
       "      <td>1</td>\n",
       "      <td>0</td>\n",
       "      <td>0</td>\n",
       "      <td>0</td>\n",
       "      <td>0</td>\n",
       "      <td>1</td>\n",
       "      <td>0</td>\n",
       "      <td>0</td>\n",
       "      <td>1</td>\n",
       "      <td>0</td>\n",
       "      <td>1</td>\n",
       "      <td>1</td>\n",
       "      <td>0</td>\n",
       "      <td>0</td>\n",
       "      <td>0</td>\n",
       "      <td>1</td>\n",
       "      <td>0</td>\n",
       "      <td>1</td>\n",
       "      <td>0</td>\n",
       "      <td>0</td>\n",
       "      <td>0</td>\n",
       "      <td>0</td>\n",
       "      <td>0</td>\n",
       "      <td>0</td>\n",
       "      <td>0</td>\n",
       "      <td>0</td>\n",
       "      <td>0</td>\n",
       "      <td>0</td>\n",
       "      <td>0</td>\n",
       "      <td>0</td>\n",
       "      <td>1</td>\n",
       "      <td>0</td>\n",
       "      <td>1</td>\n",
       "      <td>0</td>\n",
       "      <td>0</td>\n",
       "      <td>0</td>\n",
       "      <td>0</td>\n",
       "      <td>1</td>\n",
       "      <td>0</td>\n",
       "      <td>1</td>\n",
       "      <td>0</td>\n",
       "      <td>1</td>\n",
       "      <td>1</td>\n",
       "      <td>0</td>\n",
       "      <td>0</td>\n",
       "      <td>1</td>\n",
       "      <td>0</td>\n",
       "      <td>1</td>\n",
       "      <td>1</td>\n",
       "      <td>0</td>\n",
       "      <td>0</td>\n",
       "      <td>0</td>\n",
       "      <td>0</td>\n",
       "      <td>1</td>\n",
       "      <td>1</td>\n",
       "      <td>0</td>\n",
       "      <td>1</td>\n",
       "      <td>1</td>\n",
       "      <td>1</td>\n",
       "      <td>0</td>\n",
       "      <td>1</td>\n",
       "      <td>1220</td>\n",
       "      <td>front</td>\n",
       "      <td>Cloth</td>\n",
       "      <td>Black</td>\n",
       "    </tr>\n",
       "    <tr>\n",
       "      <th>1</th>\n",
       "      <td>14500</td>\n",
       "      <td>Audi</td>\n",
       "      <td>A1</td>\n",
       "      <td>80000</td>\n",
       "      <td>2017</td>\n",
       "      <td>2</td>\n",
       "      <td>141</td>\n",
       "      <td>1</td>\n",
       "      <td>Price negotiable</td>\n",
       "      <td>Sedans</td>\n",
       "      <td>Automatic</td>\n",
       "      <td>3</td>\n",
       "      <td>4</td>\n",
       "      <td>4.0</td>\n",
       "      <td>No</td>\n",
       "      <td>Red</td>\n",
       "      <td>Metallic</td>\n",
       "      <td>Benzine</td>\n",
       "      <td>Used</td>\n",
       "      <td>Euro 6</td>\n",
       "      <td>1798.0</td>\n",
       "      <td>5.6</td>\n",
       "      <td>129.0</td>\n",
       "      <td>7.0</td>\n",
       "      <td>1</td>\n",
       "      <td>0</td>\n",
       "      <td>0</td>\n",
       "      <td>1</td>\n",
       "      <td>0</td>\n",
       "      <td>0</td>\n",
       "      <td>0</td>\n",
       "      <td>0</td>\n",
       "      <td>0</td>\n",
       "      <td>0</td>\n",
       "      <td>0</td>\n",
       "      <td>0</td>\n",
       "      <td>0</td>\n",
       "      <td>1</td>\n",
       "      <td>0</td>\n",
       "      <td>0</td>\n",
       "      <td>1</td>\n",
       "      <td>0</td>\n",
       "      <td>1</td>\n",
       "      <td>0</td>\n",
       "      <td>0</td>\n",
       "      <td>0</td>\n",
       "      <td>0</td>\n",
       "      <td>0</td>\n",
       "      <td>0</td>\n",
       "      <td>0</td>\n",
       "      <td>0</td>\n",
       "      <td>1</td>\n",
       "      <td>1</td>\n",
       "      <td>0</td>\n",
       "      <td>0</td>\n",
       "      <td>0</td>\n",
       "      <td>0</td>\n",
       "      <td>1</td>\n",
       "      <td>0</td>\n",
       "      <td>1</td>\n",
       "      <td>0</td>\n",
       "      <td>0</td>\n",
       "      <td>1</td>\n",
       "      <td>0</td>\n",
       "      <td>0</td>\n",
       "      <td>1</td>\n",
       "      <td>0</td>\n",
       "      <td>1</td>\n",
       "      <td>1</td>\n",
       "      <td>1</td>\n",
       "      <td>0</td>\n",
       "      <td>0</td>\n",
       "      <td>1</td>\n",
       "      <td>0</td>\n",
       "      <td>0</td>\n",
       "      <td>0</td>\n",
       "      <td>0</td>\n",
       "      <td>0</td>\n",
       "      <td>0</td>\n",
       "      <td>0</td>\n",
       "      <td>0</td>\n",
       "      <td>0</td>\n",
       "      <td>1</td>\n",
       "      <td>1</td>\n",
       "      <td>0</td>\n",
       "      <td>0</td>\n",
       "      <td>0</td>\n",
       "      <td>1</td>\n",
       "      <td>0</td>\n",
       "      <td>1</td>\n",
       "      <td>0</td>\n",
       "      <td>0</td>\n",
       "      <td>0</td>\n",
       "      <td>0</td>\n",
       "      <td>1</td>\n",
       "      <td>1</td>\n",
       "      <td>1</td>\n",
       "      <td>0</td>\n",
       "      <td>1</td>\n",
       "      <td>1</td>\n",
       "      <td>0</td>\n",
       "      <td>0</td>\n",
       "      <td>0</td>\n",
       "      <td>1</td>\n",
       "      <td>1</td>\n",
       "      <td>1</td>\n",
       "      <td>0</td>\n",
       "      <td>0</td>\n",
       "      <td>0</td>\n",
       "      <td>0</td>\n",
       "      <td>1</td>\n",
       "      <td>1</td>\n",
       "      <td>0</td>\n",
       "      <td>1</td>\n",
       "      <td>1</td>\n",
       "      <td>1</td>\n",
       "      <td>0</td>\n",
       "      <td>1</td>\n",
       "      <td>1255</td>\n",
       "      <td>front</td>\n",
       "      <td>Cloth</td>\n",
       "      <td>Grey</td>\n",
       "    </tr>\n",
       "    <tr>\n",
       "      <th>2</th>\n",
       "      <td>14640</td>\n",
       "      <td>Audi</td>\n",
       "      <td>A1</td>\n",
       "      <td>83450</td>\n",
       "      <td>2016</td>\n",
       "      <td>3</td>\n",
       "      <td>85</td>\n",
       "      <td>1</td>\n",
       "      <td>VAT deductible</td>\n",
       "      <td>Sedans</td>\n",
       "      <td>Automatic</td>\n",
       "      <td>4</td>\n",
       "      <td>4</td>\n",
       "      <td>3.0</td>\n",
       "      <td>No</td>\n",
       "      <td>Black</td>\n",
       "      <td>Metallic</td>\n",
       "      <td>Diesel</td>\n",
       "      <td>Used</td>\n",
       "      <td>Euro 6</td>\n",
       "      <td>1598.0</td>\n",
       "      <td>4.2</td>\n",
       "      <td>99.0</td>\n",
       "      <td>5.0</td>\n",
       "      <td>1</td>\n",
       "      <td>0</td>\n",
       "      <td>0</td>\n",
       "      <td>0</td>\n",
       "      <td>0</td>\n",
       "      <td>1</td>\n",
       "      <td>0</td>\n",
       "      <td>0</td>\n",
       "      <td>1</td>\n",
       "      <td>0</td>\n",
       "      <td>0</td>\n",
       "      <td>0</td>\n",
       "      <td>0</td>\n",
       "      <td>1</td>\n",
       "      <td>0</td>\n",
       "      <td>0</td>\n",
       "      <td>1</td>\n",
       "      <td>0</td>\n",
       "      <td>0</td>\n",
       "      <td>0</td>\n",
       "      <td>1</td>\n",
       "      <td>1</td>\n",
       "      <td>0</td>\n",
       "      <td>1</td>\n",
       "      <td>0</td>\n",
       "      <td>0</td>\n",
       "      <td>1</td>\n",
       "      <td>1</td>\n",
       "      <td>1</td>\n",
       "      <td>0</td>\n",
       "      <td>1</td>\n",
       "      <td>0</td>\n",
       "      <td>0</td>\n",
       "      <td>1</td>\n",
       "      <td>0</td>\n",
       "      <td>0</td>\n",
       "      <td>0</td>\n",
       "      <td>0</td>\n",
       "      <td>0</td>\n",
       "      <td>0</td>\n",
       "      <td>0</td>\n",
       "      <td>0</td>\n",
       "      <td>1</td>\n",
       "      <td>1</td>\n",
       "      <td>0</td>\n",
       "      <td>0</td>\n",
       "      <td>0</td>\n",
       "      <td>0</td>\n",
       "      <td>1</td>\n",
       "      <td>0</td>\n",
       "      <td>0</td>\n",
       "      <td>0</td>\n",
       "      <td>0</td>\n",
       "      <td>0</td>\n",
       "      <td>0</td>\n",
       "      <td>0</td>\n",
       "      <td>0</td>\n",
       "      <td>0</td>\n",
       "      <td>0</td>\n",
       "      <td>0</td>\n",
       "      <td>0</td>\n",
       "      <td>0</td>\n",
       "      <td>0</td>\n",
       "      <td>1</td>\n",
       "      <td>0</td>\n",
       "      <td>1</td>\n",
       "      <td>0</td>\n",
       "      <td>0</td>\n",
       "      <td>0</td>\n",
       "      <td>0</td>\n",
       "      <td>1</td>\n",
       "      <td>0</td>\n",
       "      <td>1</td>\n",
       "      <td>0</td>\n",
       "      <td>1</td>\n",
       "      <td>1</td>\n",
       "      <td>0</td>\n",
       "      <td>0</td>\n",
       "      <td>0</td>\n",
       "      <td>0</td>\n",
       "      <td>1</td>\n",
       "      <td>1</td>\n",
       "      <td>0</td>\n",
       "      <td>0</td>\n",
       "      <td>0</td>\n",
       "      <td>0</td>\n",
       "      <td>1</td>\n",
       "      <td>1</td>\n",
       "      <td>0</td>\n",
       "      <td>1</td>\n",
       "      <td>1</td>\n",
       "      <td>1</td>\n",
       "      <td>0</td>\n",
       "      <td>0</td>\n",
       "      <td>1229</td>\n",
       "      <td>front</td>\n",
       "      <td>Cloth</td>\n",
       "      <td>Black</td>\n",
       "    </tr>\n",
       "    <tr>\n",
       "      <th>3</th>\n",
       "      <td>14500</td>\n",
       "      <td>Audi</td>\n",
       "      <td>A1</td>\n",
       "      <td>73000</td>\n",
       "      <td>2016</td>\n",
       "      <td>3</td>\n",
       "      <td>66</td>\n",
       "      <td>1</td>\n",
       "      <td>VAT deductible</td>\n",
       "      <td>Sedans</td>\n",
       "      <td>Automatic</td>\n",
       "      <td>3</td>\n",
       "      <td>4</td>\n",
       "      <td>3.0</td>\n",
       "      <td>No</td>\n",
       "      <td>other</td>\n",
       "      <td>Metallic</td>\n",
       "      <td>Diesel</td>\n",
       "      <td>Used</td>\n",
       "      <td>Euro 6</td>\n",
       "      <td>1422.0</td>\n",
       "      <td>4.2</td>\n",
       "      <td>99.0</td>\n",
       "      <td>6.0</td>\n",
       "      <td>0</td>\n",
       "      <td>1</td>\n",
       "      <td>1</td>\n",
       "      <td>0</td>\n",
       "      <td>1</td>\n",
       "      <td>0</td>\n",
       "      <td>0</td>\n",
       "      <td>0</td>\n",
       "      <td>1</td>\n",
       "      <td>0</td>\n",
       "      <td>0</td>\n",
       "      <td>1</td>\n",
       "      <td>0</td>\n",
       "      <td>1</td>\n",
       "      <td>0</td>\n",
       "      <td>0</td>\n",
       "      <td>1</td>\n",
       "      <td>1</td>\n",
       "      <td>1</td>\n",
       "      <td>0</td>\n",
       "      <td>1</td>\n",
       "      <td>1</td>\n",
       "      <td>0</td>\n",
       "      <td>0</td>\n",
       "      <td>0</td>\n",
       "      <td>0</td>\n",
       "      <td>0</td>\n",
       "      <td>0</td>\n",
       "      <td>1</td>\n",
       "      <td>1</td>\n",
       "      <td>1</td>\n",
       "      <td>0</td>\n",
       "      <td>1</td>\n",
       "      <td>1</td>\n",
       "      <td>0</td>\n",
       "      <td>0</td>\n",
       "      <td>0</td>\n",
       "      <td>0</td>\n",
       "      <td>1</td>\n",
       "      <td>1</td>\n",
       "      <td>0</td>\n",
       "      <td>1</td>\n",
       "      <td>1</td>\n",
       "      <td>1</td>\n",
       "      <td>1</td>\n",
       "      <td>1</td>\n",
       "      <td>0</td>\n",
       "      <td>1</td>\n",
       "      <td>1</td>\n",
       "      <td>0</td>\n",
       "      <td>0</td>\n",
       "      <td>0</td>\n",
       "      <td>0</td>\n",
       "      <td>0</td>\n",
       "      <td>0</td>\n",
       "      <td>0</td>\n",
       "      <td>0</td>\n",
       "      <td>0</td>\n",
       "      <td>1</td>\n",
       "      <td>0</td>\n",
       "      <td>0</td>\n",
       "      <td>0</td>\n",
       "      <td>0</td>\n",
       "      <td>1</td>\n",
       "      <td>0</td>\n",
       "      <td>1</td>\n",
       "      <td>0</td>\n",
       "      <td>0</td>\n",
       "      <td>1</td>\n",
       "      <td>0</td>\n",
       "      <td>0</td>\n",
       "      <td>1</td>\n",
       "      <td>0</td>\n",
       "      <td>1</td>\n",
       "      <td>1</td>\n",
       "      <td>1</td>\n",
       "      <td>0</td>\n",
       "      <td>1</td>\n",
       "      <td>0</td>\n",
       "      <td>1</td>\n",
       "      <td>1</td>\n",
       "      <td>1</td>\n",
       "      <td>0</td>\n",
       "      <td>0</td>\n",
       "      <td>0</td>\n",
       "      <td>0</td>\n",
       "      <td>1</td>\n",
       "      <td>1</td>\n",
       "      <td>0</td>\n",
       "      <td>1</td>\n",
       "      <td>1</td>\n",
       "      <td>0</td>\n",
       "      <td>0</td>\n",
       "      <td>0</td>\n",
       "      <td>1195</td>\n",
       "      <td>front</td>\n",
       "      <td>Cloth</td>\n",
       "      <td>Black</td>\n",
       "    </tr>\n",
       "    <tr>\n",
       "      <th>4</th>\n",
       "      <td>16790</td>\n",
       "      <td>Audi</td>\n",
       "      <td>A1</td>\n",
       "      <td>16200</td>\n",
       "      <td>2016</td>\n",
       "      <td>3</td>\n",
       "      <td>66</td>\n",
       "      <td>1</td>\n",
       "      <td>VAT deductible</td>\n",
       "      <td>Sedans</td>\n",
       "      <td>Automatic</td>\n",
       "      <td>5</td>\n",
       "      <td>5</td>\n",
       "      <td>3.0</td>\n",
       "      <td>Yes</td>\n",
       "      <td>Black</td>\n",
       "      <td>Metallic</td>\n",
       "      <td>Diesel</td>\n",
       "      <td>Used</td>\n",
       "      <td>Euro 6</td>\n",
       "      <td>1422.0</td>\n",
       "      <td>4.1</td>\n",
       "      <td>109.0</td>\n",
       "      <td>5.0</td>\n",
       "      <td>1</td>\n",
       "      <td>0</td>\n",
       "      <td>1</td>\n",
       "      <td>1</td>\n",
       "      <td>0</td>\n",
       "      <td>0</td>\n",
       "      <td>0</td>\n",
       "      <td>0</td>\n",
       "      <td>1</td>\n",
       "      <td>0</td>\n",
       "      <td>0</td>\n",
       "      <td>0</td>\n",
       "      <td>0</td>\n",
       "      <td>1</td>\n",
       "      <td>0</td>\n",
       "      <td>0</td>\n",
       "      <td>1</td>\n",
       "      <td>1</td>\n",
       "      <td>0</td>\n",
       "      <td>0</td>\n",
       "      <td>1</td>\n",
       "      <td>0</td>\n",
       "      <td>0</td>\n",
       "      <td>1</td>\n",
       "      <td>0</td>\n",
       "      <td>0</td>\n",
       "      <td>0</td>\n",
       "      <td>1</td>\n",
       "      <td>1</td>\n",
       "      <td>1</td>\n",
       "      <td>0</td>\n",
       "      <td>0</td>\n",
       "      <td>0</td>\n",
       "      <td>1</td>\n",
       "      <td>0</td>\n",
       "      <td>0</td>\n",
       "      <td>0</td>\n",
       "      <td>0</td>\n",
       "      <td>1</td>\n",
       "      <td>1</td>\n",
       "      <td>0</td>\n",
       "      <td>1</td>\n",
       "      <td>1</td>\n",
       "      <td>1</td>\n",
       "      <td>1</td>\n",
       "      <td>0</td>\n",
       "      <td>0</td>\n",
       "      <td>1</td>\n",
       "      <td>1</td>\n",
       "      <td>0</td>\n",
       "      <td>0</td>\n",
       "      <td>0</td>\n",
       "      <td>0</td>\n",
       "      <td>0</td>\n",
       "      <td>0</td>\n",
       "      <td>0</td>\n",
       "      <td>0</td>\n",
       "      <td>1</td>\n",
       "      <td>0</td>\n",
       "      <td>1</td>\n",
       "      <td>0</td>\n",
       "      <td>0</td>\n",
       "      <td>0</td>\n",
       "      <td>1</td>\n",
       "      <td>0</td>\n",
       "      <td>1</td>\n",
       "      <td>0</td>\n",
       "      <td>0</td>\n",
       "      <td>0</td>\n",
       "      <td>0</td>\n",
       "      <td>1</td>\n",
       "      <td>0</td>\n",
       "      <td>0</td>\n",
       "      <td>0</td>\n",
       "      <td>1</td>\n",
       "      <td>1</td>\n",
       "      <td>0</td>\n",
       "      <td>0</td>\n",
       "      <td>1</td>\n",
       "      <td>0</td>\n",
       "      <td>1</td>\n",
       "      <td>1</td>\n",
       "      <td>0</td>\n",
       "      <td>0</td>\n",
       "      <td>0</td>\n",
       "      <td>0</td>\n",
       "      <td>1</td>\n",
       "      <td>1</td>\n",
       "      <td>0</td>\n",
       "      <td>1</td>\n",
       "      <td>1</td>\n",
       "      <td>1</td>\n",
       "      <td>0</td>\n",
       "      <td>1</td>\n",
       "      <td>1229</td>\n",
       "      <td>front</td>\n",
       "      <td>Cloth</td>\n",
       "      <td>Black</td>\n",
       "    </tr>\n",
       "  </tbody>\n",
       "</table>\n",
       "</div>"
      ],
      "text/plain": [
       "   price  make model  mileage  first_registration  age  power  prev_owner  \\\n",
       "0  15770  Audi    A1    56013                2016    3     66           2   \n",
       "1  14500  Audi    A1    80000                2017    2    141           1   \n",
       "2  14640  Audi    A1    83450                2016    3     85           1   \n",
       "3  14500  Audi    A1    73000                2016    3     66           1   \n",
       "4  16790  Audi    A1    16200                2016    3     66           1   \n",
       "\n",
       "                vat body_type       gear  nr_of_doors  nr_of_seats  cylinders  \\\n",
       "0    VAT deductible    Sedans  Automatic            5            5        3.0   \n",
       "1  Price negotiable    Sedans  Automatic            3            4        4.0   \n",
       "2    VAT deductible    Sedans  Automatic            4            4        3.0   \n",
       "3    VAT deductible    Sedans  Automatic            3            4        3.0   \n",
       "4    VAT deductible    Sedans  Automatic            5            5        3.0   \n",
       "\n",
       "  inspection_new body_color paint_type     fuel  type emission_class  \\\n",
       "0            Yes      Black   Metallic   Diesel  Used         Euro 6   \n",
       "1             No        Red   Metallic  Benzine  Used         Euro 6   \n",
       "2             No      Black   Metallic   Diesel  Used         Euro 6   \n",
       "3             No      other   Metallic   Diesel  Used         Euro 6   \n",
       "4            Yes      Black   Metallic   Diesel  Used         Euro 6   \n",
       "\n",
       "   displacement  consumption    co2  gears  cc Air conditioning  \\\n",
       "0        1422.0          4.2   99.0    5.0                    1   \n",
       "1        1798.0          5.6  129.0    7.0                    1   \n",
       "2        1598.0          4.2   99.0    5.0                    1   \n",
       "3        1422.0          4.2   99.0    6.0                    0   \n",
       "4        1422.0          4.1  109.0    5.0                    1   \n",
       "\n",
       "   cc Air suspension  cc Armrest  cc Automatic climate control  \\\n",
       "0                  0           1                             1   \n",
       "1                  0           0                             1   \n",
       "2                  0           0                             0   \n",
       "3                  1           1                             0   \n",
       "4                  0           1                             1   \n",
       "\n",
       "   cc Auxiliary heating  cc Cruise control  cc Electric Starter  \\\n",
       "0                     0                  1                    0   \n",
       "1                     0                  0                    0   \n",
       "2                     0                  1                    0   \n",
       "3                     1                  0                    0   \n",
       "4                     0                  0                    0   \n",
       "\n",
       "   cc Electric tailgate  cc Electrical side mirrors  \\\n",
       "0                     0                           1   \n",
       "1                     0                           0   \n",
       "2                     0                           1   \n",
       "3                     0                           1   \n",
       "4                     0                           1   \n",
       "\n",
       "   cc Electrically adjustable seats  cc Electrically heated windshield  \\\n",
       "0                                 0                                  0   \n",
       "1                                 0                                  0   \n",
       "2                                 0                                  0   \n",
       "3                                 0                                  0   \n",
       "4                                 0                                  0   \n",
       "\n",
       "   cc Heads-up display  cc Heated steering wheel  cc Hill Holder  \\\n",
       "0                    0                         0               1   \n",
       "1                    0                         0               1   \n",
       "2                    0                         0               1   \n",
       "3                    1                         0               1   \n",
       "4                    0                         0               1   \n",
       "\n",
       "   cc Keyless central door lock  cc Leather seats  cc Leather steering wheel  \\\n",
       "0                             0                 0                          1   \n",
       "1                             0                 0                          1   \n",
       "2                             0                 0                          1   \n",
       "3                             0                 0                          1   \n",
       "4                             0                 0                          1   \n",
       "\n",
       "   cc Light sensor  cc Lumbar support  cc Massage seats  \\\n",
       "0                1                  0                 0   \n",
       "1                0                  1                 0   \n",
       "2                0                  0                 0   \n",
       "3                1                  1                 0   \n",
       "4                1                  0                 0   \n",
       "\n",
       "   cc Multi-function steering wheel  cc Navigation system  cc Panorama roof  \\\n",
       "0                                 1                     1                 0   \n",
       "1                                 0                     0                 0   \n",
       "2                                 1                     1                 0   \n",
       "3                                 1                     1                 0   \n",
       "4                                 1                     0                 0   \n",
       "\n",
       "   cc Park Distance Control  cc Parking assist system camera  \\\n",
       "0                         1                                0   \n",
       "1                         0                                0   \n",
       "2                         1                                0   \n",
       "3                         0                                0   \n",
       "4                         1                                0   \n",
       "\n",
       "   cc Parking assist system self-steering  \\\n",
       "0                                       0   \n",
       "1                                       0   \n",
       "2                                       0   \n",
       "3                                       0   \n",
       "4                                       0   \n",
       "\n",
       "   cc Parking assist system sensors front  \\\n",
       "0                                       0   \n",
       "1                                       0   \n",
       "2                                       1   \n",
       "3                                       0   \n",
       "4                                       0   \n",
       "\n",
       "   cc Parking assist system sensors rear  cc Power windows  cc Rain sensor  \\\n",
       "0                                      1                 1               1   \n",
       "1                                      1                 1               0   \n",
       "2                                      1                 1               0   \n",
       "3                                      0                 1               1   \n",
       "4                                      1                 1               1   \n",
       "\n",
       "   cc Seat heating  cc Seat ventilation  cc Split rear seats  \\\n",
       "0                1                    0                    0   \n",
       "1                0                    0                    0   \n",
       "2                1                    0                    0   \n",
       "3                1                    0                    1   \n",
       "4                0                    0                    0   \n",
       "\n",
       "   cc Start-stop system  cc Sunroof  cc Tinted windows  cc Wind deflector  \\\n",
       "0                     1           0                  0                  0   \n",
       "1                     1           0                  1                  0   \n",
       "2                     1           0                  0                  0   \n",
       "3                     1           0                  0                  0   \n",
       "4                     1           0                  0                  0   \n",
       "\n",
       "   cc Windshield  em Bluetooth  em CD player  em Digital radio  \\\n",
       "0              0             1             0                 0   \n",
       "1              0             1             0                 0   \n",
       "2              0             0             0                 0   \n",
       "3              0             1             1                 0   \n",
       "4              0             1             1                 0   \n",
       "\n",
       "   em Hands-free equipment  em MP3  em On-board computer  em Radio  \\\n",
       "0                        1       0                     1         1   \n",
       "1                        1       0                     1         1   \n",
       "2                        0       1                     1         0   \n",
       "3                        1       1                     1         1   \n",
       "4                        1       1                     1         1   \n",
       "\n",
       "   em Sound system  em Television  em USB  ex Alloy wheels  \\\n",
       "0                0              0       0                1   \n",
       "1                1              0       0                1   \n",
       "2                0              0       0                1   \n",
       "3                1              0       1                1   \n",
       "4                0              0       1                1   \n",
       "\n",
       "   ex Cab or rented Car  ex Catalytic Converter  ex Handicapped enabled  \\\n",
       "0                     0                       1                       0   \n",
       "1                     0                       0                       0   \n",
       "2                     0                       0                       0   \n",
       "3                     0                       0                       0   \n",
       "4                     0                       0                       0   \n",
       "\n",
       "   ex Right hand drive  ex Roof rack  ex Shift paddles  ex Ski bag  \\\n",
       "0                    0             0                 0           0   \n",
       "1                    0             0                 0           0   \n",
       "2                    0             0                 0           0   \n",
       "3                    0             0                 0           0   \n",
       "4                    0             0                 0           0   \n",
       "\n",
       "   ex Sliding door  ex Sport package  ex Sport seats  ex Sport suspension  \\\n",
       "0                0                 0               0                    0   \n",
       "1                0                 0               1                    1   \n",
       "2                0                 0               0                    0   \n",
       "3                0                 0               1                    0   \n",
       "4                0                 1               0                    1   \n",
       "\n",
       "   ex Touch screen  ex Trailer hitch  ex Tuned car  ex Voice Control  \\\n",
       "0                0                 0             0                 1   \n",
       "1                0                 0             0                 1   \n",
       "2                0                 0             0                 1   \n",
       "3                0                 0             0                 1   \n",
       "4                0                 0             0                 1   \n",
       "\n",
       "   ex Winter tyres  ss ABS  ss Adaptive Cruise Control  \\\n",
       "0                0       1                           0   \n",
       "1                0       1                           0   \n",
       "2                0       1                           0   \n",
       "3                0       1                           0   \n",
       "4                0       1                           0   \n",
       "\n",
       "   ss Adaptive headlights  ss Alarm system  ss Blind spot monitor  \\\n",
       "0                       0                0                      0   \n",
       "1                       0                0                      0   \n",
       "2                       0                0                      0   \n",
       "3                       0                1                      0   \n",
       "4                       0                0                      0   \n",
       "\n",
       "   ss Central door lock  ss Central door lock with remote control  \\\n",
       "0                     1                                         0   \n",
       "1                     1                                         1   \n",
       "2                     1                                         0   \n",
       "3                     0                                         1   \n",
       "4                     1                                         0   \n",
       "\n",
       "   ss Daytime running lights  ss Driver drowsiness detection  \\\n",
       "0                          1                               0   \n",
       "1                          1                               0   \n",
       "2                          1                               0   \n",
       "3                          0                               1   \n",
       "4                          0                               0   \n",
       "\n",
       "   ss Driver-side airbag  ss Electronic stability control  \\\n",
       "0                      1                                1   \n",
       "1                      1                                1   \n",
       "2                      1                                1   \n",
       "3                      1                                1   \n",
       "4                      1                                1   \n",
       "\n",
       "   ss Emergency brake assistant  ss Emergency system  ss Fog lights  \\\n",
       "0                             0                    0              1   \n",
       "1                             0                    0              0   \n",
       "2                             0                    0              0   \n",
       "3                             0                    1              0   \n",
       "4                             0                    0              1   \n",
       "\n",
       "   ss Head airbag  ss Immobilizer  ss Isofix  ss LED Daytime Running Lights  \\\n",
       "0               0               1          1                              0   \n",
       "1               1               1          1                              0   \n",
       "2               0               1          1                              0   \n",
       "3               1               1          1                              0   \n",
       "4               0               1          1                              0   \n",
       "\n",
       "   ss LED Headlights  ss Lane departure warning system  ss Night view assist  \\\n",
       "0                  0                                 0                     0   \n",
       "1                  0                                 0                     0   \n",
       "2                  0                                 0                     0   \n",
       "3                  0                                 0                     0   \n",
       "4                  0                                 0                     0   \n",
       "\n",
       "   ss Passenger-side airbag  ss Power steering  ss Rear airbag  \\\n",
       "0                         1                  1               0   \n",
       "1                         1                  1               0   \n",
       "2                         1                  1               0   \n",
       "3                         1                  1               0   \n",
       "4                         1                  1               0   \n",
       "\n",
       "   ss Side airbag  ss Tire pressure monitoring system  ss Traction control  \\\n",
       "0               1                                   1                    1   \n",
       "1               1                                   1                    1   \n",
       "2               1                                   1                    1   \n",
       "3               1                                   1                    0   \n",
       "4               1                                   1                    1   \n",
       "\n",
       "   ss Traffic sign recognition  ss Xenon headlights  weight drive_chain  \\\n",
       "0                            0                    1    1220       front   \n",
       "1                            0                    1    1255       front   \n",
       "2                            0                    0    1229       front   \n",
       "3                            0                    0    1195       front   \n",
       "4                            0                    1    1229       front   \n",
       "\n",
       "  upholstery_type upholstery_color  \n",
       "0           Cloth            Black  \n",
       "1           Cloth             Grey  \n",
       "2           Cloth            Black  \n",
       "3           Cloth            Black  \n",
       "4           Cloth            Black  "
      ]
     },
     "execution_count": 395,
     "metadata": {},
     "output_type": "execute_result"
    }
   ],
   "source": [
    "data.head()"
   ]
  },
  {
   "cell_type": "markdown",
   "metadata": {},
   "source": [
    "### Variable summary"
   ]
  },
  {
   "cell_type": "markdown",
   "metadata": {},
   "source": [
    "- 'url', removed, not valuable\n",
    "- 'make_model', removed, redundant\n",
    "- 'short_description', removed, redundant\n",
    "- 'body_type', cleaned, included\n",
    "- 'price', included\n",
    "- 'vat', cleaned, included\n",
    "- 'km', cleaned, included\n",
    "- 'registration', cleaned, included\n",
    "- 'prev_owner', removed, redundant\n",
    "- 'kW', removed, redundant, too many NaN\n",
    "- 'hp', cleaned, renamed as power, included\n",
    "- 'Type', cleaned, included\n",
    "- 'Previous Owners', cleaned, included\n",
    "- 'Next Inspection', removed, too many NaN\n",
    "- 'Inspection new', cleaned, included\n",
    "- 'Warranty', removed, redundant, many NaN\n",
    "- 'Full Service', removed, no value information, too many NaN\n",
    "- 'Non-smoking Vehicle', removed, too many NaN\n",
    "- 'null', removed, too many NaN\n",
    "- 'Make', cleaned, included,\n",
    "- 'Model', cleaned, included\n",
    "- 'Offer Number', removed, no value information\n",
    "- 'First Registration', removed, redundant\n",
    "- 'Body Color', cleaned, included\n",
    "- 'Paint Type', cleaned, included\n",
    "- 'Body Color Original', removed, no value information\n",
    "- 'Upholstery', removed, no value information\n",
    "- 'Body', removed, redundant\n",
    "- 'Nr. of Doors', cleaned, included\n",
    "- 'Nr. of Seats', cleaned, included\n",
    "- 'Model Code', removed, too many NaN\n",
    "- 'Gearing Type', cleaned, included\n",
    "- 'Displacement', cleaned, included\n",
    "- 'Cylinders', cleaned, included\n",
    "- 'Weight', removed, no value information\n",
    "- 'Drive chain', removed, no value information\n",
    "- 'Fuel', cleaned, included\n",
    "- 'Consumption', cleaned, included (combined consumption only) \n",
    "- 'CO2 Emission', cleaned, included\n",
    "- 'Emission Class', cleaned, included\n",
    "- 'Comfort & Convenience', cleaned, included\n",
    "- 'Entertainment & Media', cleaned, included\n",
    "- 'Extras', cleaned, included\n",
    "- 'Safety & Security', cleaned, included\n",
    "- 'description', removed, redundant\n",
    "- 'Emission Label', removed, too many NaN\n",
    "- 'Gears', cleaned, included\n",
    "- 'Country version', removed, too many NaN\n",
    "- 'Electricity consumption', removed, too many NaN\n",
    "- 'Last Service Date', removed, too many NaN\n",
    "- 'Other Fuel Types', removed, too many NaN\n",
    "- 'Availability', removed, too many NaN\n",
    "- 'Last Timing Belt Service Date', removed, too many NaN\n",
    "- 'Available from', removed, too many NaN\n"
   ]
  },
  {
   "cell_type": "code",
   "execution_count": null,
   "metadata": {},
   "outputs": [],
   "source": []
  },
  {
   "cell_type": "code",
   "execution_count": null,
   "metadata": {},
   "outputs": [],
   "source": []
  },
  {
   "cell_type": "code",
   "execution_count": null,
   "metadata": {},
   "outputs": [],
   "source": []
  },
  {
   "cell_type": "code",
   "execution_count": null,
   "metadata": {},
   "outputs": [],
   "source": []
  },
  {
   "cell_type": "code",
   "execution_count": null,
   "metadata": {},
   "outputs": [],
   "source": []
  },
  {
   "cell_type": "code",
   "execution_count": null,
   "metadata": {},
   "outputs": [],
   "source": []
  },
  {
   "cell_type": "code",
   "execution_count": null,
   "metadata": {},
   "outputs": [],
   "source": []
  },
  {
   "cell_type": "code",
   "execution_count": null,
   "metadata": {},
   "outputs": [],
   "source": []
  },
  {
   "cell_type": "code",
   "execution_count": null,
   "metadata": {},
   "outputs": [],
   "source": []
  }
 ],
 "metadata": {
  "kernelspec": {
   "display_name": "Python 3 (ipykernel)",
   "language": "python",
   "name": "python3"
  },
  "language_info": {
   "codemirror_mode": {
    "name": "ipython",
    "version": 3
   },
   "file_extension": ".py",
   "mimetype": "text/x-python",
   "name": "python",
   "nbconvert_exporter": "python",
   "pygments_lexer": "ipython3",
   "version": "3.8.11"
  }
 },
 "nbformat": 4,
 "nbformat_minor": 4
}
