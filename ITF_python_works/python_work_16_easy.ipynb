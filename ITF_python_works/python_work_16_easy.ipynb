{
 "cells": [
  {
   "cell_type": "code",
   "execution_count": 10,
   "source": [
    "ninput = int(input(\"Which number for Fibonacci sequence?: \"))\r\n",
    "\r\n",
    "n1, n2 = 0, 1\r\n",
    "nlist =[]\r\n",
    "\r\n",
    "if ninput <= 0:\r\n",
    "   print(\"Please enter a positive integer\")\r\n",
    "elif ninput == 1:\r\n",
    "   print(\"Fibonacci sequence upto\",ninput,\":\")\r\n",
    "   print(n1)\r\n",
    "else:\r\n",
    "   print(\"Fibonacci sequence:\")\r\n",
    "   while n1 <= ninput:\r\n",
    "       nlist.append(n1)\r\n",
    "       nth = n1 + n2\r\n",
    "       n1 = n2\r\n",
    "       n2 = nth\r\n",
    "print(nlist)"
   ],
   "outputs": [
    {
     "output_type": "stream",
     "name": "stdout",
     "text": [
      "Fibonacci sequence:\n",
      "[0, 1, 1, 2, 3, 5, 8, 13, 21, 34]\n"
     ]
    }
   ],
   "metadata": {}
  },
  {
   "cell_type": "markdown",
   "source": [
    "FibArray = [0, 1]\r\n",
    " \r\n",
    "def fibonacci(n):\r\n",
    "    if n<0:\r\n",
    "        print(\"Incorrect input\")\r\n",
    "    elif n<= len(FibArray):\r\n",
    "        return FibArray[n-1]\r\n",
    "    else:\r\n",
    "        temp_fib = fibonacci(n-1)+fibonacci(n-2)\r\n",
    "        FibArray.append(temp_fib)\r\n",
    "        return temp_fib\r\n",
    " \r\n",
    "# Driver Program\r\n",
    " \r\n",
    "print(fibonacci(9))"
   ],
   "metadata": {}
  },
  {
   "cell_type": "code",
   "execution_count": 11,
   "source": [
    "FibArray = [0, 1]\r\n",
    " \r\n",
    "def fibonacci(n):\r\n",
    "    if n<0:\r\n",
    "        print(\"Incorrect input\")\r\n",
    "    elif n<= len(FibArray):\r\n",
    "        return FibArray[n-1]\r\n",
    "    else:\r\n",
    "        temp_fib = fibonacci(n-1)+fibonacci(n-2)\r\n",
    "        FibArray.append(temp_fib)\r\n",
    "        return temp_fib\r\n",
    " \r\n",
    "# Driver Program\r\n",
    " \r\n",
    "print(fibonacci(9))"
   ],
   "outputs": [
    {
     "output_type": "stream",
     "name": "stdout",
     "text": [
      "21\n"
     ]
    }
   ],
   "metadata": {}
  },
  {
   "cell_type": "code",
   "execution_count": 16,
   "source": [
    "out = []\r\n",
    "for i in range(1,101):\r\n",
    "    if i % 3 ==0 and i % 5 == 0 :\r\n",
    "        out.append('Fizzbuzz')\r\n",
    "    elif i % 3 ==0 :\r\n",
    "        out.append('Fizz')\r\n",
    "    elif i %5 ==0 :\r\n",
    "        out.append('Buzz')\r\n",
    "    else :\r\n",
    "        out.append(i)\r\n",
    "sout = '-'.join(map(str,out))\r\n",
    "print(sout)"
   ],
   "outputs": [
    {
     "output_type": "stream",
     "name": "stdout",
     "text": [
      "1-2-Fizz-4-Buzz-Fizz-7-8-Fizz-Buzz-11-Fizz-13-14-Fizzbuzz-16-17-Fizz-19-Buzz-Fizz-22-23-Fizz-Buzz-26-Fizz-28-29-Fizzbuzz-31-32-Fizz-34-Buzz-Fizz-37-38-Fizz-Buzz-41-Fizz-43-44-Fizzbuzz-46-47-Fizz-49-Buzz-Fizz-52-53-Fizz-Buzz-56-Fizz-58-59-Fizzbuzz-61-62-Fizz-64-Buzz-Fizz-67-68-Fizz-Buzz-71-Fizz-73-74-Fizzbuzz-76-77-Fizz-79-Buzz-Fizz-82-83-Fizz-Buzz-86-Fizz-88-89-Fizzbuzz-91-92-Fizz-94-Buzz-Fizz-97-98-Fizz-Buzz\n"
     ]
    }
   ],
   "metadata": {}
  },
  {
   "cell_type": "code",
   "execution_count": 8,
   "source": [
    "s = ['I', 'want', 4, 'apples', 'and', 18, 'bananas']\r\n",
    "  \r\n",
    "# using list comprehension\r\n",
    "listToStr = ' '.join(map(str, s))\r\n",
    "  \r\n",
    "print(listToStr) "
   ],
   "outputs": [
    {
     "output_type": "stream",
     "name": "stdout",
     "text": [
      "I want 4 apples and 18 bananas\n"
     ]
    }
   ],
   "metadata": {}
  },
  {
   "cell_type": "code",
   "execution_count": 3,
   "source": [
    "\r\n",
    "def sum_double(x, y):\r\n",
    "    if x == y :\r\n",
    "        return (x+y)*2\r\n",
    "    else :\r\n",
    "        return (x+y)\r\n",
    "print(sum_double( 4,3))"
   ],
   "outputs": [
    {
     "output_type": "stream",
     "name": "stdout",
     "text": [
      "7\n"
     ]
    }
   ],
   "metadata": {}
  },
  {
   "cell_type": "code",
   "execution_count": 11,
   "source": [
    "def parrot_trouble(talking, hour):\r\n",
    "    if talking:\r\n",
    "        if hour in range(6,22):\r\n",
    "            return False\r\n",
    "        else:\r\n",
    "            return True\r\n",
    "    else :\r\n",
    "        return False\r\n",
    "print(parrot_trouble(False,22))"
   ],
   "outputs": [
    {
     "output_type": "stream",
     "name": "stdout",
     "text": [
      "False\n"
     ]
    }
   ],
   "metadata": {}
  },
  {
   "cell_type": "code",
   "execution_count": 6,
   "source": [
    "def is_palindrome(string):\r\n",
    "    # backwards = string[::-1]\r\n",
    "    # return backwards == string\r\n",
    "    return string[::-1].casefold() == string.casefold()\r\n",
    "\r\n",
    "\r\n",
    "def palindrome_sentence(sentence):\r\n",
    "    string = \"\"\r\n",
    "    for char in sentence:\r\n",
    "        if char.isalnum():\r\n",
    "            string += char\r\n",
    "    print(string)\r\n",
    "    # return string[::-1].casefold() == string.casefold()\r\n",
    "    return is_palindrome(string)\r\n",
    "\r\n",
    "word = input(\"Please enter a word to check: \")\r\n",
    "if palindrome_sentence(word):\r\n",
    "    print(\"'{}' is a palindrome\".format(word))\r\n",
    "else:\r\n",
    "    print(\"'{}' is not a palindrome\".format(word))"
   ],
   "outputs": [
    {
     "output_type": "stream",
     "name": "stdout",
     "text": [
      "Adanada\n",
      "'Adana'da' is a palindrome\n"
     ]
    }
   ],
   "metadata": {}
  },
  {
   "cell_type": "code",
   "execution_count": 22,
   "source": [
    "def not_string(word):\r\n",
    "    if word[:3].lower() != 'not':\r\n",
    "        print('not' , word,end='')\r\n",
    "    else:\r\n",
    "        print(word)\r\n",
    "not_string('bad')"
   ],
   "outputs": [
    {
     "output_type": "stream",
     "name": "stdout",
     "text": [
      "not bad"
     ]
    }
   ],
   "metadata": {}
  },
  {
   "cell_type": "code",
   "execution_count": null,
   "source": [
    "\r\n",
    "n = 100\r\n",
    "list1 = []\r\n",
    "for num in range(2, n + 1):  \r\n",
    "   if num > 1:\r\n",
    "       for i in range(2, num):\r\n",
    "           if (num % i) == 0:\r\n",
    "               break\r\n",
    "       else:\r\n",
    "           list1.append(num)\r\n",
    "print(list1)"
   ],
   "outputs": [],
   "metadata": {}
  },
  {
   "cell_type": "code",
   "execution_count": 3,
   "source": [
    "print((lambda list1 :list1[::-1])('file'))"
   ],
   "outputs": [
    {
     "output_type": "stream",
     "name": "stdout",
     "text": [
      "elif\n"
     ]
    }
   ],
   "metadata": {}
  },
  {
   "cell_type": "code",
   "execution_count": 8,
   "source": [
    "list2= [1,2,6,7,9,0]\r\n",
    "for i in list2:\r\n",
    "    print( i ,(lambda i: ':odd' if i%2!=0 else ':even')(i))"
   ],
   "outputs": [
    {
     "output_type": "stream",
     "name": "stdout",
     "text": [
      "1 :odd\n",
      "2 :even\n",
      "6 :even\n",
      "7 :odd\n",
      "9 :odd\n",
      "0 :even\n"
     ]
    }
   ],
   "metadata": {}
  }
 ],
 "metadata": {
  "orig_nbformat": 4,
  "language_info": {
   "name": "python",
   "version": "3.9.6",
   "mimetype": "text/x-python",
   "codemirror_mode": {
    "name": "ipython",
    "version": 3
   },
   "pygments_lexer": "ipython3",
   "nbconvert_exporter": "python",
   "file_extension": ".py"
  },
  "kernelspec": {
   "name": "python3",
   "display_name": "Python 3.9.6 64-bit"
  },
  "interpreter": {
   "hash": "10fa5b18b6821efcf1a0ca8a7bbd5168ce7aee3a71c9cf3dc990838fd8f195d9"
  }
 },
 "nbformat": 4,
 "nbformat_minor": 2
}