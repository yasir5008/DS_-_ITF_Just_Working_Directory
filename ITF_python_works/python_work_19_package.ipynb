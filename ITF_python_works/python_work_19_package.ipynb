{
    "cells": [
        {
            "cell_type": "code",
            "execution_count": 1,
            "source": [
                "pwd"
            ],
            "outputs": [
                {
                    "output_type": "execute_result",
                    "data": {
                        "text/plain": [
                            "'c:\\\\Users\\\\yasir\\\\Desktop\\\\clarusway GİTHUB'"
                        ]
                    },
                    "metadata": {},
                    "execution_count": 1
                }
            ],
            "metadata": {}
        },
        {
            "cell_type": "code",
            "execution_count": 2,
            "source": [
                "from upper_package import my_package_1,my_package_2"
            ],
            "outputs": [],
            "metadata": {}
        },
        {
            "cell_type": "code",
            "execution_count": 3,
            "source": [
                "from upper_package.my_package_1 import my_module_1,my_module_2"
            ],
            "outputs": [],
            "metadata": {}
        },
        {
            "cell_type": "code",
            "execution_count": 4,
            "source": [
                "dir(my_package_1)"
            ],
            "outputs": [
                {
                    "output_type": "execute_result",
                    "data": {
                        "text/plain": [
                            "['__builtins__',\n",
                            " '__cached__',\n",
                            " '__doc__',\n",
                            " '__file__',\n",
                            " '__loader__',\n",
                            " '__name__',\n",
                            " '__package__',\n",
                            " '__path__',\n",
                            " '__spec__',\n",
                            " 'my_module_1',\n",
                            " 'my_module_2']"
                        ]
                    },
                    "metadata": {},
                    "execution_count": 4
                }
            ],
            "metadata": {}
        },
        {
            "cell_type": "code",
            "execution_count": 5,
            "source": [
                "dir(my_module_1)"
            ],
            "outputs": [
                {
                    "output_type": "execute_result",
                    "data": {
                        "text/plain": [
                            "['__builtins__',\n",
                            " '__cached__',\n",
                            " '__doc__',\n",
                            " '__file__',\n",
                            " '__loader__',\n",
                            " '__name__',\n",
                            " '__package__',\n",
                            " '__spec__',\n",
                            " 'addition',\n",
                            " 'multi']"
                        ]
                    },
                    "metadata": {},
                    "execution_count": 5
                }
            ],
            "metadata": {}
        },
        {
            "cell_type": "code",
            "execution_count": 6,
            "source": [
                "from upper_package.my_package_2 import my_module_3,my_module_4"
            ],
            "outputs": [],
            "metadata": {}
        },
        {
            "cell_type": "code",
            "execution_count": 7,
            "source": [
                "my_module_2.divide(10,5)"
            ],
            "outputs": [
                {
                    "output_type": "execute_result",
                    "data": {
                        "text/plain": [
                            "2.0"
                        ]
                    },
                    "metadata": {},
                    "execution_count": 7
                }
            ],
            "metadata": {}
        },
        {
            "cell_type": "code",
            "execution_count": 8,
            "source": [
                "my_module_1.addition(4,5)"
            ],
            "outputs": [
                {
                    "output_type": "execute_result",
                    "data": {
                        "text/plain": [
                            "9"
                        ]
                    },
                    "metadata": {},
                    "execution_count": 8
                }
            ],
            "metadata": {}
        },
        {
            "cell_type": "code",
            "execution_count": 9,
            "source": [
                "my_module_3.repeater('Lailaheillallah', 999)"
            ],
            "outputs": [
                {
                    "output_type": "execute_result",
                    "data": {
                        "text/plain": [
                            "'LailaheillallahLailaheillallahLailaheillallahLailaheillallahLailaheillallahLailaheillallahLailaheillallahLailaheillallahLailaheillallahLailaheillallahLailaheillallahLailaheillallahLailaheillallahLailaheillallahLailaheillallahLailaheillallahLailaheillallahLailaheillallahLailaheillallahLailaheillallahLailaheillallahLailaheillallahLailaheillallahLailaheillallahLailaheillallahLailaheillallahLailaheillallahLailaheillallahLailaheillallahLailaheillallahLailaheillallahLailaheillallahLailaheillallahLailaheillallahLailaheillallahLailaheillallahLailaheillallahLailaheillallahLailaheillallahLailaheillallahLailaheillallahLailaheillallahLailaheillallahLailaheillallahLailaheillallahLailaheillallahLailaheillallahLailaheillallahLailaheillallahLailaheillallahLailaheillallahLailaheillallahLailaheillallahLailaheillallahLailaheillallahLailaheillallahLailaheillallahLailaheillallahLailaheillallahLailaheillallahLailaheillallahLailaheillallahLailaheillallahLailaheillallahLailaheillallahLailaheillallahLailaheillallahLailaheillallahLailaheillallahLailaheillallahLailaheillallahLailaheillallahLailaheillallahLailaheillallahLailaheillallahLailaheillallahLailaheillallahLailaheillallahLailaheillallahLailaheillallahLailaheillallahLailaheillallahLailaheillallahLailaheillallahLailaheillallahLailaheillallahLailaheillallahLailaheillallahLailaheillallahLailaheillallahLailaheillallahLailaheillallahLailaheillallahLailaheillallahLailaheillallahLailaheillallahLailaheillallahLailaheillallahLailaheillallahLailaheillallahLailaheillallahLailaheillallahLailaheillallahLailaheillallahLailaheillallahLailaheillallahLailaheillallahLailaheillallahLailaheillallahLailaheillallahLailaheillallahLailaheillallahLailaheillallahLailaheillallahLailaheillallahLailaheillallahLailaheillallahLailaheillallahLailaheillallahLailaheillallahLailaheillallahLailaheillallahLailaheillallahLailaheillallahLailaheillallahLailaheillallahLailaheillallahLailaheillallahLailaheillallahLailaheillallahLailaheillallahLailaheillallahLailaheillallahLailaheillallahLailaheillallahLailaheillallahLailaheillallahLailaheillallahLailaheillallahLailaheillallahLailaheillallahLailaheillallahLailaheillallahLailaheillallahLailaheillallahLailaheillallahLailaheillallahLailaheillallahLailaheillallahLailaheillallahLailaheillallahLailaheillallahLailaheillallahLailaheillallahLailaheillallahLailaheillallahLailaheillallahLailaheillallahLailaheillallahLailaheillallahLailaheillallahLailaheillallahLailaheillallahLailaheillallahLailaheillallahLailaheillallahLailaheillallahLailaheillallahLailaheillallahLailaheillallahLailaheillallahLailaheillallahLailaheillallahLailaheillallahLailaheillallahLailaheillallahLailaheillallahLailaheillallahLailaheillallahLailaheillallahLailaheillallahLailaheillallahLailaheillallahLailaheillallahLailaheillallahLailaheillallahLailaheillallahLailaheillallahLailaheillallahLailaheillallahLailaheillallahLailaheillallahLailaheillallahLailaheillallahLailaheillallahLailaheillallahLailaheillallahLailaheillallahLailaheillallahLailaheillallahLailaheillallahLailaheillallahLailaheillallahLailaheillallahLailaheillallahLailaheillallahLailaheillallahLailaheillallahLailaheillallahLailaheillallahLailaheillallahLailaheillallahLailaheillallahLailaheillallahLailaheillallahLailaheillallahLailaheillallahLailaheillallahLailaheillallahLailaheillallahLailaheillallahLailaheillallahLailaheillallahLailaheillallahLailaheillallahLailaheillallahLailaheillallahLailaheillallahLailaheillallahLailaheillallahLailaheillallahLailaheillallahLailaheillallahLailaheillallahLailaheillallahLailaheillallahLailaheillallahLailaheillallahLailaheillallahLailaheillallahLailaheillallahLailaheillallahLailaheillallahLailaheillallahLailaheillallahLailaheillallahLailaheillallahLailaheillallahLailaheillallahLailaheillallahLailaheillallahLailaheillallahLailaheillallahLailaheillallahLailaheillallahLailaheillallahLailaheillallahLailaheillallahLailaheillallahLailaheillallahLailaheillallahLailaheillallahLailaheillallahLailaheillallahLailaheillallahLailaheillallahLailaheillallahLailaheillallahLailaheillallahLailaheillallahLailaheillallahLailaheillallahLailaheillallahLailaheillallahLailaheillallahLailaheillallahLailaheillallahLailaheillallahLailaheillallahLailaheillallahLailaheillallahLailaheillallahLailaheillallahLailaheillallahLailaheillallahLailaheillallahLailaheillallahLailaheillallahLailaheillallahLailaheillallahLailaheillallahLailaheillallahLailaheillallahLailaheillallahLailaheillallahLailaheillallahLailaheillallahLailaheillallahLailaheillallahLailaheillallahLailaheillallahLailaheillallahLailaheillallahLailaheillallahLailaheillallahLailaheillallahLailaheillallahLailaheillallahLailaheillallahLailaheillallahLailaheillallahLailaheillallahLailaheillallahLailaheillallahLailaheillallahLailaheillallahLailaheillallahLailaheillallahLailaheillallahLailaheillallahLailaheillallahLailaheillallahLailaheillallahLailaheillallahLailaheillallahLailaheillallahLailaheillallahLailaheillallahLailaheillallahLailaheillallahLailaheillallahLailaheillallahLailaheillallahLailaheillallahLailaheillallahLailaheillallahLailaheillallahLailaheillallahLailaheillallahLailaheillallahLailaheillallahLailaheillallahLailaheillallahLailaheillallahLailaheillallahLailaheillallahLailaheillallahLailaheillallahLailaheillallahLailaheillallahLailaheillallahLailaheillallahLailaheillallahLailaheillallahLailaheillallahLailaheillallahLailaheillallahLailaheillallahLailaheillallahLailaheillallahLailaheillallahLailaheillallahLailaheillallahLailaheillallahLailaheillallahLailaheillallahLailaheillallahLailaheillallahLailaheillallahLailaheillallahLailaheillallahLailaheillallahLailaheillallahLailaheillallahLailaheillallahLailaheillallahLailaheillallahLailaheillallahLailaheillallahLailaheillallahLailaheillallahLailaheillallahLailaheillallahLailaheillallahLailaheillallahLailaheillallahLailaheillallahLailaheillallahLailaheillallahLailaheillallahLailaheillallahLailaheillallahLailaheillallahLailaheillallahLailaheillallahLailaheillallahLailaheillallahLailaheillallahLailaheillallahLailaheillallahLailaheillallahLailaheillallahLailaheillallahLailaheillallahLailaheillallahLailaheillallahLailaheillallahLailaheillallahLailaheillallahLailaheillallahLailaheillallahLailaheillallahLailaheillallahLailaheillallahLailaheillallahLailaheillallahLailaheillallahLailaheillallahLailaheillallahLailaheillallahLailaheillallahLailaheillallahLailaheillallahLailaheillallahLailaheillallahLailaheillallahLailaheillallahLailaheillallahLailaheillallahLailaheillallahLailaheillallahLailaheillallahLailaheillallahLailaheillallahLailaheillallahLailaheillallahLailaheillallahLailaheillallahLailaheillallahLailaheillallahLailaheillallahLailaheillallahLailaheillallahLailaheillallahLailaheillallahLailaheillallahLailaheillallahLailaheillallahLailaheillallahLailaheillallahLailaheillallahLailaheillallahLailaheillallahLailaheillallahLailaheillallahLailaheillallahLailaheillallahLailaheillallahLailaheillallahLailaheillallahLailaheillallahLailaheillallahLailaheillallahLailaheillallahLailaheillallahLailaheillallahLailaheillallahLailaheillallahLailaheillallahLailaheillallahLailaheillallahLailaheillallahLailaheillallahLailaheillallahLailaheillallahLailaheillallahLailaheillallahLailaheillallahLailaheillallahLailaheillallahLailaheillallahLailaheillallahLailaheillallahLailaheillallahLailaheillallahLailaheillallahLailaheillallahLailaheillallahLailaheillallahLailaheillallahLailaheillallahLailaheillallahLailaheillallahLailaheillallahLailaheillallahLailaheillallahLailaheillallahLailaheillallahLailaheillallahLailaheillallahLailaheillallahLailaheillallahLailaheillallahLailaheillallahLailaheillallahLailaheillallahLailaheillallahLailaheillallahLailaheillallahLailaheillallahLailaheillallahLailaheillallahLailaheillallahLailaheillallahLailaheillallahLailaheillallahLailaheillallahLailaheillallahLailaheillallahLailaheillallahLailaheillallahLailaheillallahLailaheillallahLailaheillallahLailaheillallahLailaheillallahLailaheillallahLailaheillallahLailaheillallahLailaheillallahLailaheillallahLailaheillallahLailaheillallahLailaheillallahLailaheillallahLailaheillallahLailaheillallahLailaheillallahLailaheillallahLailaheillallahLailaheillallahLailaheillallahLailaheillallahLailaheillallahLailaheillallahLailaheillallahLailaheillallahLailaheillallahLailaheillallahLailaheillallahLailaheillallahLailaheillallahLailaheillallahLailaheillallahLailaheillallahLailaheillallahLailaheillallahLailaheillallahLailaheillallahLailaheillallahLailaheillallahLailaheillallahLailaheillallahLailaheillallahLailaheillallahLailaheillallahLailaheillallahLailaheillallahLailaheillallahLailaheillallahLailaheillallahLailaheillallahLailaheillallahLailaheillallahLailaheillallahLailaheillallahLailaheillallahLailaheillallahLailaheillallahLailaheillallahLailaheillallahLailaheillallahLailaheillallahLailaheillallahLailaheillallahLailaheillallahLailaheillallahLailaheillallahLailaheillallahLailaheillallahLailaheillallahLailaheillallahLailaheillallahLailaheillallahLailaheillallahLailaheillallahLailaheillallahLailaheillallahLailaheillallahLailaheillallahLailaheillallahLailaheillallahLailaheillallahLailaheillallahLailaheillallahLailaheillallahLailaheillallahLailaheillallahLailaheillallahLailaheillallahLailaheillallahLailaheillallahLailaheillallahLailaheillallahLailaheillallahLailaheillallahLailaheillallahLailaheillallahLailaheillallahLailaheillallahLailaheillallahLailaheillallahLailaheillallahLailaheillallahLailaheillallahLailaheillallahLailaheillallahLailaheillallahLailaheillallahLailaheillallahLailaheillallahLailaheillallahLailaheillallahLailaheillallahLailaheillallahLailaheillallahLailaheillallahLailaheillallahLailaheillallahLailaheillallahLailaheillallahLailaheillallahLailaheillallahLailaheillallahLailaheillallahLailaheillallahLailaheillallahLailaheillallahLailaheillallahLailaheillallahLailaheillallahLailaheillallahLailaheillallahLailaheillallahLailaheillallahLailaheillallahLailaheillallahLailaheillallahLailaheillallahLailaheillallahLailaheillallahLailaheillallahLailaheillallahLailaheillallahLailaheillallahLailaheillallahLailaheillallahLailaheillallahLailaheillallahLailaheillallahLailaheillallahLailaheillallahLailaheillallahLailaheillallahLailaheillallahLailaheillallahLailaheillallahLailaheillallahLailaheillallahLailaheillallahLailaheillallahLailaheillallahLailaheillallahLailaheillallahLailaheillallahLailaheillallahLailaheillallahLailaheillallahLailaheillallahLailaheillallahLailaheillallahLailaheillallahLailaheillallahLailaheillallahLailaheillallahLailaheillallahLailaheillallahLailaheillallahLailaheillallahLailaheillallahLailaheillallahLailaheillallahLailaheillallahLailaheillallahLailaheillallahLailaheillallahLailaheillallahLailaheillallahLailaheillallahLailaheillallahLailaheillallahLailaheillallahLailaheillallahLailaheillallahLailaheillallahLailaheillallahLailaheillallahLailaheillallahLailaheillallahLailaheillallahLailaheillallahLailaheillallahLailaheillallahLailaheillallahLailaheillallahLailaheillallahLailaheillallahLailaheillallahLailaheillallahLailaheillallahLailaheillallahLailaheillallahLailaheillallahLailaheillallahLailaheillallahLailaheillallahLailaheillallahLailaheillallahLailaheillallahLailaheillallahLailaheillallahLailaheillallahLailaheillallahLailaheillallahLailaheillallahLailaheillallahLailaheillallahLailaheillallahLailaheillallahLailaheillallahLailaheillallahLailaheillallahLailaheillallahLailaheillallahLailaheillallahLailaheillallahLailaheillallahLailaheillallahLailaheillallahLailaheillallahLailaheillallahLailaheillallahLailaheillallahLailaheillallahLailaheillallahLailaheillallahLailaheillallahLailaheillallahLailaheillallahLailaheillallahLailaheillallahLailaheillallahLailaheillallahLailaheillallahLailaheillallahLailaheillallahLailaheillallahLailaheillallahLailaheillallahLailaheillallahLailaheillallahLailaheillallahLailaheillallahLailaheillallahLailaheillallahLailaheillallahLailaheillallahLailaheillallahLailaheillallahLailaheillallahLailaheillallahLailaheillallahLailaheillallahLailaheillallahLailaheillallahLailaheillallahLailaheillallahLailaheillallahLailaheillallahLailaheillallahLailaheillallahLailaheillallahLailaheillallahLailaheillallahLailaheillallahLailaheillallahLailaheillallahLailaheillallahLailaheillallahLailaheillallahLailaheillallahLailaheillallahLailaheillallahLailaheillallahLailaheillallahLailaheillallahLailaheillallahLailaheillallahLailaheillallahLailaheillallahLailaheillallahLailaheillallahLailaheillallahLailaheillallahLailaheillallahLailaheillallahLailaheillallahLailaheillallahLailaheillallahLailaheillallahLailaheillallahLailaheillallahLailaheillallahLailaheillallahLailaheillallahLailaheillallahLailaheillallahLailaheillallahLailaheillallahLailaheillallahLailaheillallahLailaheillallahLailaheillallahLailaheillallahLailaheillallahLailaheillallahLailaheillallahLailaheillallahLailaheillallahLailaheillallahLailaheillallahLailaheillallahLailaheillallahLailaheillallahLailaheillallahLailaheillallahLailaheillallahLailaheillallahLailaheillallahLailaheillallahLailaheillallahLailaheillallahLailaheillallahLailaheillallahLailaheillallahLailaheillallahLailaheillallahLailaheillallahLailaheillallahLailaheillallahLailaheillallahLailaheillallahLailaheillallahLailaheillallahLailaheillallahLailaheillallahLailaheillallahLailaheillallahLailaheillallahLailaheillallahLailaheillallahLailaheillallahLailaheillallahLailaheillallahLailaheillallahLailaheillallahLailaheillallahLailaheillallahLailaheillallahLailaheillallahLailaheillallahLailaheillallahLailaheillallahLailaheillallahLailaheillallahLailaheillallahLailaheillallahLailaheillallahLailaheillallahLailaheillallahLailaheillallahLailaheillallahLailaheillallahLailaheillallahLailaheillallahLailaheillallahLailaheillallahLailaheillallahLailaheillallahLailaheillallahLailaheillallahLailaheillallahLailaheillallahLailaheillallahLailaheillallahLailaheillallahLailaheillallahLailaheillallahLailaheillallahLailaheillallahLailaheillallahLailaheillallahLailaheillallahLailaheillallahLailaheillallahLailaheillallahLailaheillallahLailaheillallahLailaheillallahLailaheillallahLailaheillallahLailaheillallahLailaheillallahLailaheillallahLailaheillallahLailaheillallahLailaheillallahLailaheillallahLailaheillallahLailaheillallahLailaheillallahLailaheillallahLailaheillallahLailaheillallahLailaheillallahLailaheillallahLailaheillallahLailaheillallahLailaheillallahLailaheillallahLailaheillallahLailaheillallahLailaheillallahLailaheillallahLailaheillallahLailaheillallahLailaheillallahLailaheillallahLailaheillallahLailaheillallahLailaheillallahLailaheillallahLailaheillallahLailaheillallahLailaheillallahLailaheillallahLailaheillallahLailaheillallahLailaheillallahLailaheillallahLailaheillallahLailaheillallahLailaheillallahLailaheillallahLailaheillallahLailaheillallahLailaheillallahLailaheillallahLailaheillallahLailaheillallahLailaheillallahLailaheillallahLailaheillallahLailaheillallahLailaheillallahLailaheillallahLailaheillallahLailaheillallahLailaheillallahLailaheillallahLailaheillallahLailaheillallahLailaheillallahLailaheillallahLailaheillallahLailaheillallahLailaheillallahLailaheillallahLailaheillallah'"
                        ]
                    },
                    "metadata": {},
                    "execution_count": 9
                }
            ],
            "metadata": {}
        },
        {
            "cell_type": "code",
            "execution_count": 10,
            "source": [
                "pip --version\r\n"
            ],
            "outputs": [
                {
                    "output_type": "stream",
                    "name": "stdout",
                    "text": [
                        "pip 21.1.3 from C:\\Program Files\\WindowsApps\\PythonSoftwareFoundation.Python.3.9_3.9.1776.0_x64__qbz5n2kfra8p0\\lib\\site-packages\\pip (python 3.9)\n",
                        "\n",
                        "Note: you may need to restart the kernel to use updated packages.\n"
                    ]
                }
            ],
            "metadata": {}
        },
        {
            "cell_type": "code",
            "execution_count": 12,
            "source": [
                "pip install https://raw.githubusercontent.com/Leo-Dennis/assignments/main/README.md"
            ],
            "outputs": [
                {
                    "output_type": "stream",
                    "name": "stdout",
                    "text": [
                        "Collecting https://raw.githubusercontent.com/Leo-Dennis/assignments/main/README.md\n",
                        "  Downloading https://raw.githubusercontent.com/Leo-Dennis/assignments/main/README.md (1.6 kB)\n",
                        "Note: you may need to restart the kernel to use updated packages.\n"
                    ]
                },
                {
                    "output_type": "stream",
                    "name": "stderr",
                    "text": [
                        "  ERROR: Cannot unpack file C:\\Users\\yasir\\AppData\\Local\\Temp\\pip-unpack-vxm0ly2h\\README.md (downloaded from C:\\Users\\yasir\\AppData\\Local\\Temp\\pip-req-build-kc852bsd, content-type: text/plain; charset=utf-8); cannot detect archive format\n",
                        "ERROR: Cannot determine archive format of C:\\Users\\yasir\\AppData\\Local\\Temp\\pip-req-build-kc852bsd\n",
                        "WARNING: You are using pip version 21.1.3; however, version 21.2.4 is available.\n",
                        "You should consider upgrading via the 'C:\\Users\\yasir\\AppData\\Local\\Microsoft\\WindowsApps\\PythonSoftwareFoundation.Python.3.9_qbz5n2kfra8p0\\python.exe -m pip install --upgrade pip' command.\n"
                    ]
                }
            ],
            "metadata": {}
        },
        {
            "cell_type": "code",
            "execution_count": 13,
            "source": [
                "pip list"
            ],
            "outputs": [
                {
                    "output_type": "stream",
                    "name": "stdout",
                    "text": [
                        "Package             Version\n",
                        "------------------- ---------\n",
                        "anyio               3.2.1\n",
                        "argon2-cffi         20.1.0\n",
                        "async-generator     1.10\n",
                        "attrs               21.2.0\n",
                        "Babel               2.9.1\n",
                        "backcall            0.2.0\n",
                        "bleach              3.3.0\n",
                        "certifi             2021.5.30\n",
                        "cffi                1.14.5\n",
                        "chardet             4.0.0\n",
                        "colorama            0.4.4\n",
                        "debugpy             1.3.0\n",
                        "decorator           5.0.9\n",
                        "defusedxml          0.7.1\n",
                        "entrypoints         0.3\n",
                        "idna                2.10\n",
                        "ipykernel           6.0.1\n",
                        "ipython             7.25.0\n",
                        "ipython-genutils    0.2.0\n",
                        "jedi                0.18.0\n",
                        "Jinja2              3.0.1\n",
                        "json5               0.9.6\n",
                        "jsonschema          3.2.0\n",
                        "jupyter-client      6.1.12\n",
                        "jupyter-core        4.7.1\n",
                        "jupyter-server      1.9.0\n",
                        "jupyterlab          3.0.16\n",
                        "jupyterlab-pygments 0.1.2\n",
                        "jupyterlab-server   2.6.0\n",
                        "MarkupSafe          2.0.1\n",
                        "matplotlib-inline   0.1.2\n",
                        "mistune             0.8.4\n",
                        "nbclassic           0.3.1\n",
                        "nbclient            0.5.3\n",
                        "nbconvert           6.1.0\n",
                        "nbformat            5.1.3\n",
                        "nest-asyncio        1.5.1\n",
                        "notebook            6.4.0\n",
                        "packaging           21.0\n",
                        "pandocfilters       1.4.3\n",
                        "parso               0.8.2\n",
                        "pickleshare         0.7.5\n",
                        "pip                 21.2.4\n",
                        "prometheus-client   0.11.0\n",
                        "prompt-toolkit      3.0.19\n",
                        "pycparser           2.20\n",
                        "Pygments            2.9.0\n",
                        "pyparsing           2.4.7\n",
                        "pyrsistent          0.18.0\n",
                        "python-dateutil     2.8.1\n",
                        "pytz                2021.1\n",
                        "pywin32             301\n",
                        "pywinpty            1.1.3\n",
                        "pyzmq               22.1.0\n",
                        "requests            2.25.1\n",
                        "requests-unixsocket 0.2.0\n",
                        "Send2Trash          1.7.1\n",
                        "six                 1.16.0\n",
                        "sniffio             1.2.0\n",
                        "terminado           0.10.1\n",
                        "testpath            0.5.0\n",
                        "tornado             6.1\n",
                        "traitlets           5.0.5\n",
                        "urllib3             1.26.6\n",
                        "wcwidth             0.2.5\n",
                        "webencodings        0.5.1\n",
                        "websocket-client    1.1.0\n",
                        "Note: you may need to restart the kernel to use updated packages.\n"
                    ]
                }
            ],
            "metadata": {}
        },
        {
            "cell_type": "code",
            "execution_count": 14,
            "source": [
                "pip install pandas"
            ],
            "outputs": [
                {
                    "output_type": "stream",
                    "name": "stdout",
                    "text": [
                        "^C\n",
                        "Note: you may need to restart the kernel to use updated packages.\n"
                    ]
                }
            ],
            "metadata": {}
        },
        {
            "cell_type": "code",
            "execution_count": 6,
            "source": [
                "n = 876509755433\r\n",
                "print(list(str(n))[::-1])\r\n",
                "print(*str(n)[::-1])"
            ],
            "outputs": [
                {
                    "output_type": "stream",
                    "name": "stdout",
                    "text": [
                        "['3', '3', '4', '5', '5', '7', '9', '0', '5', '6', '7', '8']\n",
                        "3 3 4 5 5 7 9 0 5 6 7 8\n"
                    ]
                }
            ],
            "metadata": {}
        },
        {
            "cell_type": "code",
            "execution_count": 13,
            "source": [
                "def my_factorial(n):\r\n",
                "    sonuc=1\r\n",
                "    for i in range(1,n+1):\r\n",
                "        sonuc*=i\r\n",
                "    return sonuc"
            ],
            "outputs": [],
            "metadata": {}
        },
        {
            "cell_type": "code",
            "execution_count": 23,
            "source": [
                "my_factorial(10)"
            ],
            "outputs": [
                {
                    "output_type": "execute_result",
                    "data": {
                        "text/plain": [
                            "3628800"
                        ]
                    },
                    "metadata": {},
                    "execution_count": 23
                }
            ],
            "metadata": {}
        },
        {
            "cell_type": "code",
            "execution_count": 17,
            "source": [
                "def my_facto(n) :\r\n",
                "    if (n == 1) or (n == 0) :\r\n",
                "        return 1\r\n",
                "    return n * my_facto(n-1)\r\n"
            ],
            "outputs": [],
            "metadata": {}
        },
        {
            "cell_type": "code",
            "execution_count": 27,
            "source": [
                "my_facto(10)"
            ],
            "outputs": [
                {
                    "output_type": "execute_result",
                    "data": {
                        "text/plain": [
                            "3628800"
                        ]
                    },
                    "metadata": {},
                    "execution_count": 27
                }
            ],
            "metadata": {}
        },
        {
            "cell_type": "code",
            "execution_count": 34,
            "source": [
                "ops={'+':(lambda x,y: x+y)}\r\n",
                "\r\n",
                "\r\n",
                "ops[\"+\"](3, 5)"
            ],
            "outputs": [
                {
                    "output_type": "execute_result",
                    "data": {
                        "text/plain": [
                            "8"
                        ]
                    },
                    "metadata": {},
                    "execution_count": 34
                }
            ],
            "metadata": {}
        },
        {
            "cell_type": "code",
            "execution_count": 35,
            "source": [
                "bir_diksiniri = {'neden':'sebesiz',\"hayrola\": 'cok sukur'}\r\n",
                "{x:y for x,y in bir_diksiniri.items()}"
            ],
            "outputs": [
                {
                    "output_type": "execute_result",
                    "data": {
                        "text/plain": [
                            "{'neden': 'sebesiz', 'hayrola': 'cok sukur'}"
                        ]
                    },
                    "metadata": {},
                    "execution_count": 35
                }
            ],
            "metadata": {}
        },
        {
            "cell_type": "code",
            "execution_count": 5,
            "source": [
                "print(\"{9} {7} {1} {10} {3} {2} {5} {8} {6} {0} {4}\".format('in','know','bring','to','students.','out','best','teachers','the','Good','how'))"
            ],
            "outputs": [
                {
                    "output_type": "stream",
                    "name": "stdout",
                    "text": [
                        "Good teachers know how to bring out the best in students.\n"
                    ]
                }
            ],
            "metadata": {}
        },
        {
            "cell_type": "code",
            "execution_count": 1,
            "source": [
                "example = \"snow world\"\r\n",
                "print(\"%s\" % example[4:7])"
            ],
            "outputs": [
                {
                    "output_type": "stream",
                    "name": "stdout",
                    "text": [
                        " wo\n"
                    ]
                }
            ],
            "metadata": {}
        },
        {
            "cell_type": "code",
            "execution_count": 2,
            "source": [
                "print(\"DA\", sep=\"-\",end = ' ')\r\n",
                "print(\"CA\", end = '')\r\n",
                "print(\"BA\", sep=\"-\", end = ' ')\r\n",
                "print(\"AA\", end = '')"
            ],
            "outputs": [
                {
                    "output_type": "stream",
                    "name": "stdout",
                    "text": [
                        "DA CABA AA"
                    ]
                }
            ],
            "metadata": {}
        },
        {
            "cell_type": "code",
            "execution_count": 3,
            "source": [
                "example = \"snow world\"\r\n",
                "example[3] = 's'\r\n",
                "print(example)"
            ],
            "outputs": [
                {
                    "output_type": "error",
                    "ename": "TypeError",
                    "evalue": "'str' object does not support item assignment",
                    "traceback": [
                        "\u001b[1;31m---------------------------------------------------------------------------\u001b[0m",
                        "\u001b[1;31mTypeError\u001b[0m                                 Traceback (most recent call last)",
                        "\u001b[1;32m~\\AppData\\Local\\Temp/ipykernel_10816/1297661930.py\u001b[0m in \u001b[0;36m<module>\u001b[1;34m\u001b[0m\n\u001b[0;32m      1\u001b[0m \u001b[0mexample\u001b[0m \u001b[1;33m=\u001b[0m \u001b[1;34m\"snow world\"\u001b[0m\u001b[1;33m\u001b[0m\u001b[1;33m\u001b[0m\u001b[0m\n\u001b[1;32m----> 2\u001b[1;33m \u001b[0mexample\u001b[0m\u001b[1;33m[\u001b[0m\u001b[1;36m3\u001b[0m\u001b[1;33m]\u001b[0m \u001b[1;33m=\u001b[0m \u001b[1;34m's'\u001b[0m\u001b[1;33m\u001b[0m\u001b[1;33m\u001b[0m\u001b[0m\n\u001b[0m\u001b[0;32m      3\u001b[0m \u001b[0mprint\u001b[0m\u001b[1;33m(\u001b[0m\u001b[0mexample\u001b[0m\u001b[1;33m)\u001b[0m\u001b[1;33m\u001b[0m\u001b[1;33m\u001b[0m\u001b[0m\n",
                        "\u001b[1;31mTypeError\u001b[0m: 'str' object does not support item assignment"
                    ]
                }
            ],
            "metadata": {}
        },
        {
            "cell_type": "code",
            "execution_count": 4,
            "source": [
                "print(max(\"joseph\"))"
            ],
            "outputs": [
                {
                    "output_type": "stream",
                    "name": "stdout",
                    "text": [
                        "s\n"
                    ]
                }
            ],
            "metadata": {}
        },
        {
            "cell_type": "code",
            "execution_count": 14,
            "source": [
                "\r\n",
                "def i in list('joseph'):\r\n",
                "     return ord(i)"
            ],
            "outputs": [
                {
                    "output_type": "error",
                    "ename": "SyntaxError",
                    "evalue": "invalid syntax (Temp/ipykernel_10816/562562306.py, line 1)",
                    "traceback": [
                        "\u001b[1;36m  File \u001b[1;32m\"C:\\Users\\yasir\\AppData\\Local\\Temp/ipykernel_10816/562562306.py\"\u001b[1;36m, line \u001b[1;32m1\u001b[0m\n\u001b[1;33m    def i in list('joseph'):\u001b[0m\n\u001b[1;37m          ^\u001b[0m\n\u001b[1;31mSyntaxError\u001b[0m\u001b[1;31m:\u001b[0m invalid syntax\n"
                    ]
                }
            ],
            "metadata": {}
        },
        {
            "cell_type": "code",
            "execution_count": 15,
            "source": [
                "strip()"
            ],
            "outputs": [
                {
                    "output_type": "error",
                    "ename": "NameError",
                    "evalue": "name 'strip' is not defined",
                    "traceback": [
                        "\u001b[1;31m---------------------------------------------------------------------------\u001b[0m",
                        "\u001b[1;31mNameError\u001b[0m                                 Traceback (most recent call last)",
                        "\u001b[1;32m~\\AppData\\Local\\Temp/ipykernel_10816/4025784241.py\u001b[0m in \u001b[0;36m<module>\u001b[1;34m\u001b[0m\n\u001b[1;32m----> 1\u001b[1;33m \u001b[0mstrip\u001b[0m\u001b[1;33m(\u001b[0m\u001b[1;33m)\u001b[0m\u001b[1;33m\u001b[0m\u001b[1;33m\u001b[0m\u001b[0m\n\u001b[0m",
                        "\u001b[1;31mNameError\u001b[0m: name 'strip' is not defined"
                    ]
                }
            ],
            "metadata": {}
        },
        {
            "cell_type": "code",
            "execution_count": 18,
            "source": [
                "s = \"\\t\\tWorld\\n\"\r\n",
                "print(s)"
            ],
            "outputs": [
                {
                    "output_type": "stream",
                    "name": "stdout",
                    "text": [
                        "\t\tWorld\n",
                        "\n"
                    ]
                }
            ],
            "metadata": {}
        }
    ],
    "metadata": {
        "orig_nbformat": 4,
        "language_info": {
            "name": "python",
            "version": "3.9.6",
            "mimetype": "text/x-python",
            "codemirror_mode": {
                "name": "ipython",
                "version": 3
            },
            "pygments_lexer": "ipython3",
            "nbconvert_exporter": "python",
            "file_extension": ".py"
        },
        "kernelspec": {
            "name": "python3",
            "display_name": "Python 3.9.6 64-bit (windows store)"
        },
        "interpreter": {
            "hash": "f54f548834cd5004815cf7c2a98e656c3454a16c8c6270de2968c01c213389d4"
        }
    },
    "nbformat": 4,
    "nbformat_minor": 2
}