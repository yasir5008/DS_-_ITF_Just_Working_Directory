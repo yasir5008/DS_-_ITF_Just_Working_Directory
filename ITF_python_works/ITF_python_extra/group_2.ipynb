{
  "nbformat": 4,
  "nbformat_minor": 0,
  "metadata": {
    "colab": {
      "name": "group_2.ipynb",
      "provenance": []
    },
    "kernelspec": {
      "name": "python3",
      "display_name": "Python 3"
    },
    "language_info": {
      "name": "python"
    }
  },
  "cells": [
    {
      "cell_type": "markdown",
      "metadata": {
        "id": "DpXjn6Vd9Yw6"
      },
      "source": [
        "1- Write a program to prompt for a score between 0.0 and 1.0. If the score is out of range, print an error. If the score is between 0.0 and 1.0, print a grade using the following table: Score Grade\n",
        "\n",
        "0.9 A\n",
        "\n",
        "0.8 B\n",
        "\n",
        "0.7 C\n",
        "\n",
        "0.6 D\n",
        "\n",
        "0.6 F\n",
        "\n",
        "If the user enters a value out of range, print a suitable error message and exit. For the test, enter a score of 0.85"
      ]
    },
    {
      "cell_type": "markdown",
      "metadata": {
        "id": "k7W9-BOA9n7O"
      },
      "source": [
        "2- Yazi olarak girilen string ifadenin içindeki harfler tamamen büyük veya tamamen küçük ise True, küçük ve büyük harlerden oluşmuş ise False veren bir fonksiyon yazalım."
      ]
    },
    {
      "cell_type": "markdown",
      "metadata": {
        "id": "6PFwqEFO9nxy"
      },
      "source": [
        "3- Sayıyı kalansız bölen sayıları bulan bir fonksiyon yazalım"
      ]
    },
    {
      "cell_type": "markdown",
      "metadata": {
        "id": "rgWFi-lZ9noI"
      },
      "source": [
        "4- Cümlenin içindeki sesli harfleri kaldıran bir fonksiyon yazalım.\n",
        "print(sessiz_yap(\"Hayat beni neden yoruyosun?:)\")) --> hyt bn ndn yrysn?:)"
      ]
    },
    {
      "cell_type": "markdown",
      "metadata": {
        "id": "yxwOQSQe9ne1"
      },
      "source": [
        "5- Tarihi yüzyıla çeviren bir fonksiyon yazalım.\n",
        "print(yüzyıl_yap(1738)) --> 18. yüzyıl"
      ]
    },
    {
      "cell_type": "markdown",
      "metadata": {
        "id": "E4tCFCc-9nVQ"
      },
      "source": [
        ""
      ]
    },
    {
      "cell_type": "markdown",
      "metadata": {
        "id": "Y4qLf-_89nL4"
      },
      "source": [
        "6- Yazının içersindeki kelimelerin ilk ve son karakterleri sabit tutup diğer karakterleri yerine - çizgi koyan fonksiyon yazalım.\n",
        "print(dönüstür(\"hello world\")) --> h---o w---d "
      ]
    },
    {
      "cell_type": "markdown",
      "metadata": {
        "id": "mEPc7d0Z9nAI"
      },
      "source": [
        "7- Her girdi listesinde iki tanesi hariç her rakam en az bir kere tekrarlıyor.iki benzersiz sayıyı döndüren bir fonksiyon yazalım.\n",
        "benzersizi_bul([2,2,3,11,3,6,5]) --> [6, 5]  # 11 te 2 tane 1 var"
      ]
    },
    {
      "cell_type": "markdown",
      "metadata": {
        "id": "GMgm2Jhu9mQj"
      },
      "source": [
        "8- Bir stringi(kelime) alan ve birbirini izleyen aynı harfleri çıkaran bir fonksiyon oluşturun.\n",
        "print(cıkar(\"mmmeeerrhhhaaabbbaaa\")) --> merhaba"
      ]
    },
    {
      "cell_type": "markdown",
      "metadata": {
        "id": "3oD9kK_q9mBH"
      },
      "source": [
        "9- Belirli aralıkta(sınırlar dahil) verilen rakamın kaç kere olduğunu sayan bir fonksiyon yazalım. print(kac_tane(50,55,5)) --> 7"
      ]
    },
    {
      "cell_type": "markdown",
      "metadata": {
        "id": "n1Tuy6szEGR8"
      },
      "source": [
        "10- Yüksekliği verilen yılbaşı ağacını oluşturan bir fonksiyon yazalım. agac(7)\n",
        "\n",
        "\n",
        "```\n",
        "      #      \n",
        "     ###     \n",
        "    #####    \n",
        "   #######   \n",
        "  #########  \n",
        " ########### \n",
        "############# \n",
        "```\n",
        "\n"
      ]
    }
  ]
}