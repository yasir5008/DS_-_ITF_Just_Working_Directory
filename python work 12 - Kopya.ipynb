{
 "cells": [
  {
   "cell_type": "code",
   "execution_count": 2,
   "id": "87ec29cb",
   "metadata": {},
   "outputs": [
    {
     "name": "stdout",
     "output_type": "stream",
     "text": [
      "Please enter a number: 3\n",
      "0\n",
      "1\n",
      "4\n"
     ]
    }
   ],
   "source": [
    "number = int(input('Please enter a number: '))\n",
    "c = 0\n",
    "\n",
    "while c < len(range(number)):\n",
    "    print(c**2)\n",
    "    c+=1"
   ]
  },
  {
   "cell_type": "code",
   "execution_count": 3,
   "id": "5b4f2d72",
   "metadata": {
    "scrolled": true
   },
   "outputs": [
    {
     "name": "stdout",
     "output_type": "stream",
     "text": [
      "The type of {'section': 5, 'topic': 2} is <class 'dict'>\n",
      "The type of clarusway is <class 'str'>\n",
      "The type of [1, 4] is <class 'list'>\n",
      "The type of 2020 is <class 'int'>\n",
      "The type of 3.14 is <class 'float'>\n",
      "The type of (1+618j) is <class 'complex'>\n",
      "The type of False is <class 'bool'>\n",
      "The type of (10, 20) is <class 'tuple'>\n"
     ]
    }
   ],
   "source": [
    "sample_list = [{\"section\":5, \"topic\":2}, 'clarusway', [1, 4], 2020, 3.14,\\\n",
    "               1+618j, False, (10, 20)]\n",
    "for typer in sample_list :\n",
    "    print(\"The type of {} is\".format(typer), type(typer))"
   ]
  },
  {
   "cell_type": "code",
   "execution_count": null,
   "id": "b709f7c3",
   "metadata": {
    "scrolled": true
   },
   "outputs": [],
   "source": [
    "f_n = input(\"Please enter your first name :\")\n",
    "m_n = \"Yasir\"\n",
    "    \n",
    "while m_n != f_n.capitalize :\n",
    "    if m_n == f_n :\n",
    "        print (\"Hello {}! The Password is : Yaser\".format(f_n))\n",
    "    else :\n",
    "        print( \"Hello {}! See you later\")\n",
    "        break"
   ]
  },
  {
   "cell_type": "code",
   "execution_count": null,
   "id": "999cf1d9",
   "metadata": {},
   "outputs": [],
   "source": []
  },
  {
   "cell_type": "code",
   "execution_count": 2,
   "id": "0b7dd07b",
   "metadata": {
    "scrolled": true
   },
   "outputs": [
    {
     "name": "stdout",
     "output_type": "stream",
     "text": [
      "Please enter your first name :agf\n",
      "Hello agf! See you later\n"
     ]
    }
   ],
   "source": [
    "f_n = input(\"Please enter your first name :\")\n",
    "m_n = \"Yasir\"\n",
    "    \n",
    "while m_n != f_n :\n",
    "    if m_n == f_n.capitalize() :\n",
    "        print (\"Hello {}! The Password is : Yaser\".format(f_n))\n",
    "        break\n",
    "    else :\n",
    "        print( \"Hello {}! See you later\".format(f_n))\n",
    "        break"
   ]
  },
  {
   "cell_type": "code",
   "execution_count": 3,
   "id": "4b5a5449",
   "metadata": {},
   "outputs": [
    {
     "ename": "NameError",
     "evalue": "name 'yasir' is not defined",
     "output_type": "error",
     "traceback": [
      "\u001b[1;31m---------------------------------------------------------------------------\u001b[0m",
      "\u001b[1;31mNameError\u001b[0m                                 Traceback (most recent call last)",
      "\u001b[1;32m<ipython-input-3-c6d7fd9b0197>\u001b[0m in \u001b[0;36m<module>\u001b[1;34m\u001b[0m\n\u001b[1;32m----> 1\u001b[1;33m \u001b[0myasir\u001b[0m\u001b[1;33m\u001b[0m\u001b[1;33m\u001b[0m\u001b[0m\n\u001b[0m",
      "\u001b[1;31mNameError\u001b[0m: name 'yasir' is not defined"
     ]
    }
   ],
   "source": [
    "yasir"
   ]
  },
  {
   "cell_type": "code",
   "execution_count": 53,
   "id": "bd0ec0a7",
   "metadata": {},
   "outputs": [
    {
     "name": "stdout",
     "output_type": "stream",
     "text": [
      " Please enter a positive number for check the number as Prime or not:1\n",
      "1 is  a prime number\n"
     ]
    }
   ],
   "source": [
    "pr = int(input(\" Please enter a positive number for check the number as Prime or not:\"))\n",
    "\n",
    "for divider in range(2, pr) :\n",
    "    if pr % divider == 0:\n",
    "        print(pr,\"is not a prime number\")\n",
    "        break\n",
    "else :\n",
    "        print(pr,\"is  a prime number\")\n"
   ]
  },
  {
   "cell_type": "code",
   "execution_count": 54,
   "id": "8d126cc9",
   "metadata": {},
   "outputs": [
    {
     "name": "stdout",
     "output_type": "stream",
     "text": [
      "Enter temperature in celsius: 33\n",
      "33.0 Celsius is: 91.4 Fahrenheit\n"
     ]
    }
   ],
   "source": [
    "celsius = float(input(\"Enter temperature in celsius: \"))\n",
    "fahrenheit = (celsius * 9/5) + 32\n",
    "print('{} Celsius is: {} Fahrenheit'.format(celsius, fahrenheit))\n",
    "\n",
    "\n"
   ]
  },
  {
   "cell_type": "code",
   "execution_count": 56,
   "id": "e286cfd9",
   "metadata": {},
   "outputs": [
    {
     "name": "stdout",
     "output_type": "stream",
     "text": [
      "How many kilometers to convert miles?: 55\n",
      "55.0 kilometers is equal to 34.175405 miles\n"
     ]
    }
   ],
   "source": [
    "km = float(input('How many kilometers to convert miles?: '))  \n",
    "\n",
    "km_miles = 0.621371  \n",
    " \n",
    "miles = km * km_miles\n",
    "print('{} kilometers is equal to {} miles'.format(km,miles)) "
   ]
  },
  {
   "cell_type": "code",
   "execution_count": null,
   "id": "e7fa06ad",
   "metadata": {},
   "outputs": [],
   "source": []
  },
  {
   "cell_type": "code",
   "execution_count": null,
   "id": "7be8ea71",
   "metadata": {},
   "outputs": [],
   "source": []
  },
  {
   "cell_type": "code",
   "execution_count": null,
   "id": "8c5bd9cd",
   "metadata": {},
   "outputs": [],
   "source": []
  },
  {
   "cell_type": "code",
   "execution_count": null,
   "id": "eac8ccbe",
   "metadata": {},
   "outputs": [],
   "source": []
  },
  {
   "cell_type": "code",
   "execution_count": null,
   "id": "ce361a0c",
   "metadata": {},
   "outputs": [],
   "source": []
  },
  {
   "cell_type": "code",
   "execution_count": null,
   "id": "59e23f26",
   "metadata": {},
   "outputs": [],
   "source": []
  },
  {
   "cell_type": "code",
   "execution_count": null,
   "id": "e7e42b02",
   "metadata": {},
   "outputs": [],
   "source": []
  },
  {
   "cell_type": "code",
   "execution_count": null,
   "id": "9f5f31a7",
   "metadata": {},
   "outputs": [],
   "source": []
  }
 ],
 "metadata": {
  "kernelspec": {
   "display_name": "Python 3",
   "language": "python",
   "name": "python3"
  },
  "language_info": {
   "codemirror_mode": {
    "name": "ipython",
    "version": 3
   },
   "file_extension": ".py",
   "mimetype": "text/x-python",
   "name": "python",
   "nbconvert_exporter": "python",
   "pygments_lexer": "ipython3",
   "version": "3.8.8"
  }
 },
 "nbformat": 4,
 "nbformat_minor": 5
}
