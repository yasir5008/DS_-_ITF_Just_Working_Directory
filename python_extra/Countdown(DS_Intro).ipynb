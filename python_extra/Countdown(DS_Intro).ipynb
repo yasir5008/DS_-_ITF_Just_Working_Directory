{
 "cells": [
  {
   "cell_type": "code",
   "execution_count": 1,
   "source": [
    "import time\r\n",
    "import datetime\r\n",
    "print(\"Merhaba Geleceğin VERİ BİLİMCİLERİ!!!\\n(Geri Sayımdan çıkmak için 'Interrupt the Kernel')\\n\")\r\n",
    "try: \r\n",
    "    def countdown(stop):\r\n",
    "        while True:\r\n",
    "            difference = stop - datetime.datetime.now()\r\n",
    "            count_hours, rem = divmod(difference.seconds, 3600)\r\n",
    "            count_minutes, count_seconds = divmod(rem, 60)\r\n",
    "            print('DATA SCIENCE Introya '\r\n",
    "                  + str(difference.days) + \" gün \"\r\n",
    "                  + str(count_hours) + \" saat \"\r\n",
    "                  + str(count_minutes) + \" dakika \"\r\n",
    "                  + str(count_seconds) + \" saniye kaldı \"\r\n",
    "                  )\r\n",
    "            time.sleep(1)\r\n",
    "    end_time = datetime.datetime(2021, 9, 3, 19, 0, 0)\r\n",
    "    countdown(end_time)\r\n",
    "    \r\n",
    "except KeyboardInterrupt:\r\n",
    "    print('\\n3 EYLÜL Cuma 19.00 (TR) de görüşmek üzere...')"
   ],
   "outputs": [
    {
     "output_type": "stream",
     "name": "stdout",
     "text": [
      "Merhaba Geleceğin VERİ BİLİMCİLERİ!!!\n",
      "(Geri Sayımdan çıkmak için 'Interrupt the Kernel')\n",
      "\n",
      "DATA SCIENCE Introya -6 gün 1 saat 15 dakika 20 saniye kaldı \n",
      "DATA SCIENCE Introya -6 gün 1 saat 15 dakika 19 saniye kaldı \n",
      "DATA SCIENCE Introya -6 gün 1 saat 15 dakika 18 saniye kaldı \n",
      "DATA SCIENCE Introya -6 gün 1 saat 15 dakika 17 saniye kaldı \n",
      "DATA SCIENCE Introya -6 gün 1 saat 15 dakika 16 saniye kaldı \n",
      "DATA SCIENCE Introya -6 gün 1 saat 15 dakika 15 saniye kaldı \n",
      "DATA SCIENCE Introya -6 gün 1 saat 15 dakika 14 saniye kaldı \n",
      "DATA SCIENCE Introya -6 gün 1 saat 15 dakika 13 saniye kaldı \n",
      "DATA SCIENCE Introya -6 gün 1 saat 15 dakika 12 saniye kaldı \n",
      "DATA SCIENCE Introya -6 gün 1 saat 15 dakika 11 saniye kaldı \n",
      "DATA SCIENCE Introya -6 gün 1 saat 15 dakika 10 saniye kaldı \n",
      "DATA SCIENCE Introya -6 gün 1 saat 15 dakika 9 saniye kaldı \n",
      "DATA SCIENCE Introya -6 gün 1 saat 15 dakika 8 saniye kaldı \n",
      "DATA SCIENCE Introya -6 gün 1 saat 15 dakika 7 saniye kaldı \n",
      "DATA SCIENCE Introya -6 gün 1 saat 15 dakika 6 saniye kaldı \n",
      "\n",
      "3 EYLÜL Cuma 19.00 (TR) de görüşmek üzere...\n"
     ]
    }
   ],
   "metadata": {}
  },
  {
   "cell_type": "code",
   "execution_count": null,
   "source": [],
   "outputs": [],
   "metadata": {}
  },
  {
   "cell_type": "code",
   "execution_count": null,
   "source": [],
   "outputs": [],
   "metadata": {}
  }
 ],
 "metadata": {
  "kernelspec": {
   "name": "python3",
   "display_name": "Python 3.8.8 64-bit"
  },
  "language_info": {
   "codemirror_mode": {
    "name": "ipython",
    "version": 3
   },
   "file_extension": ".py",
   "mimetype": "text/x-python",
   "name": "python",
   "nbconvert_exporter": "python",
   "pygments_lexer": "ipython3",
   "version": "3.8.8"
  },
  "interpreter": {
   "hash": "b3ba2566441a7c06988d0923437866b63cedc61552a5af99d1f4fb67d367b25f"
  }
 },
 "nbformat": 4,
 "nbformat_minor": 4
}