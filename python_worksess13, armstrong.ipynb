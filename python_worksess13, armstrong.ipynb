{
    "cells": [
        {
            "cell_type": "code",
            "execution_count": 23,
            "source": [
                "generate = (i **2 for i in range(6))"
            ],
            "outputs": [],
            "metadata": {}
        },
        {
            "cell_type": "code",
            "execution_count": 14,
            "source": [
                "generate"
            ],
            "outputs": [
                {
                    "output_type": "execute_result",
                    "data": {
                        "text/plain": [
                            "<generator object <genexpr> at 0x00000200C5E78350>"
                        ]
                    },
                    "metadata": {},
                    "execution_count": 14
                }
            ],
            "metadata": {}
        },
        {
            "cell_type": "code",
            "execution_count": 26,
            "source": [
                "print(next(generate))"
            ],
            "outputs": [
                {
                    "output_type": "stream",
                    "name": "stdout",
                    "text": [
                        "4\n"
                    ]
                }
            ],
            "metadata": {}
        },
        {
            "cell_type": "code",
            "execution_count": 10,
            "source": [
                "list(generate)"
            ],
            "outputs": [
                {
                    "output_type": "execute_result",
                    "data": {
                        "text/plain": [
                            "[0, 1, 4, 9, 16, 25]"
                        ]
                    },
                    "metadata": {},
                    "execution_count": 10
                }
            ],
            "metadata": {}
        },
        {
            "cell_type": "code",
            "execution_count": 27,
            "source": [
                "print(*generate)"
            ],
            "outputs": [
                {
                    "output_type": "stream",
                    "name": "stdout",
                    "text": [
                        "9 16 25\n"
                    ]
                }
            ],
            "metadata": {}
        },
        {
            "cell_type": "code",
            "execution_count": 12,
            "source": [
                "while True : \r\n",
                "    numbers = input('enter a positive number: ')\r\n",
                "    digits = len(numbers)\r\n",
                "    summ = 0\r\n",
                "    if not numbers.isdigit() :\r\n",
                "        print(numbers, ' is invalid entry, Enter valid input!')\r\n",
                "    elif int(numbers) >=0 :\r\n",
                "        for i in range(digits) :\r\n",
                "            summ = summ + int(numbers[i])**digits\r\n",
                "        if summ == int(numbers) :\r\n",
                "            print(numbers, 'is an Arms')\r\n",
                "            break\r\n",
                "        else :\r\n",
                "            print(numbers, 'is not arms')\r\n",
                "            break"
            ],
            "outputs": [
                {
                    "output_type": "stream",
                    "name": "stdout",
                    "text": [
                        "54981354873135498 is not arms\n"
                    ]
                }
            ],
            "metadata": {}
        }
    ],
    "metadata": {
        "orig_nbformat": 4,
        "language_info": {
            "name": "python",
            "version": "3.9.6",
            "mimetype": "text/x-python",
            "codemirror_mode": {
                "name": "ipython",
                "version": 3
            },
            "pygments_lexer": "ipython3",
            "nbconvert_exporter": "python",
            "file_extension": ".py"
        },
        "kernelspec": {
            "name": "python3",
            "display_name": "Python 3.9.6 64-bit"
        },
        "interpreter": {
            "hash": "10fa5b18b6821efcf1a0ca8a7bbd5168ce7aee3a71c9cf3dc990838fd8f195d9"
        }
    },
    "nbformat": 4,
    "nbformat_minor": 2
}