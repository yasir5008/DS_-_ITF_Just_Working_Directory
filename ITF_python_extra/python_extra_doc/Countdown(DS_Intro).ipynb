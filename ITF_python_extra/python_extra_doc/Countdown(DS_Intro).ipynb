{
 "cells": [
  {
   "cell_type": "code",
   "execution_count": 1,
   "metadata": {},
   "outputs": [
    {
     "name": "stdout",
     "output_type": "stream",
     "text": [
      "Merhaba Geleceğin VERİ BİLİMCİLERİ!!!\n",
      "(Geri Sayımdan çıkmak için 'Interrupt the Kernel')\n",
      "\n",
      "DATA SCIENCE Introya 3 gün 7 saat 28 dakika 10 saniye kaldı \n",
      "DATA SCIENCE Introya 3 gün 7 saat 28 dakika 9 saniye kaldı \n",
      "DATA SCIENCE Introya 3 gün 7 saat 28 dakika 8 saniye kaldı \n",
      "DATA SCIENCE Introya 3 gün 7 saat 28 dakika 7 saniye kaldı \n",
      "DATA SCIENCE Introya 3 gün 7 saat 28 dakika 6 saniye kaldı \n",
      "DATA SCIENCE Introya 3 gün 7 saat 28 dakika 5 saniye kaldı \n",
      "DATA SCIENCE Introya 3 gün 7 saat 28 dakika 4 saniye kaldı \n",
      "DATA SCIENCE Introya 3 gün 7 saat 28 dakika 3 saniye kaldı \n",
      "DATA SCIENCE Introya 3 gün 7 saat 28 dakika 2 saniye kaldı \n",
      "DATA SCIENCE Introya 3 gün 7 saat 28 dakika 1 saniye kaldı \n",
      "\n",
      "3 EYLÜL Cuma 19.00 (TR) de görüşmek üzere...\n"
     ]
    }
   ],
   "source": [
    "import time\n",
    "import datetime\n",
    "print(\"Merhaba Geleceğin VERİ BİLİMCİLERİ!!!\\n(Geri Sayımdan çıkmak için 'Interrupt the Kernel')\\n\")\n",
    "try: \n",
    "    def countdown(stop):\n",
    "        while True:\n",
    "            difference = stop - datetime.datetime.now()\n",
    "            count_hours, rem = divmod(difference.seconds, 3600)\n",
    "            count_minutes, count_seconds = divmod(rem, 60)\n",
    "            print('DATA SCIENCE Introya '\n",
    "                  + str(difference.days) + \" gün \"\n",
    "                  + str(count_hours) + \" saat \"\n",
    "                  + str(count_minutes) + \" dakika \"\n",
    "                  + str(count_seconds) + \" saniye kaldı \"\n",
    "                  )\n",
    "            time.sleep(1)\n",
    "    end_time = datetime.datetime(2021, 9, 3, 19, 0, 0)\n",
    "    countdown(end_time)\n",
    "    \n",
    "except KeyboardInterrupt:\n",
    "    print('\\n3 EYLÜL Cuma 19.00 (TR) de görüşmek üzere...')"
   ]
  },
  {
   "cell_type": "code",
   "execution_count": null,
   "metadata": {},
   "outputs": [],
   "source": []
  },
  {
   "cell_type": "code",
   "execution_count": null,
   "metadata": {},
   "outputs": [],
   "source": []
  }
 ],
 "metadata": {
  "kernelspec": {
   "display_name": "Python 3.7.6 64-bit ('base': conda)",
   "language": "python",
   "name": "python37664bitbasecondabfe845decf54490f8ed0620d7396edaf"
  },
  "language_info": {
   "codemirror_mode": {
    "name": "ipython",
    "version": 3
   },
   "file_extension": ".py",
   "mimetype": "text/x-python",
   "name": "python",
   "nbconvert_exporter": "python",
   "pygments_lexer": "ipython3",
   "version": "3.8.5"
  }
 },
 "nbformat": 4,
 "nbformat_minor": 4
}
