{
  "nbformat": 4,
  "nbformat_minor": 2,
  "metadata": {
    "colab": {
      "name": "group_3.ipynb",
      "provenance": []
    },
    "kernelspec": {
      "name": "python3",
      "display_name": "Python 3.9.6 64-bit (windows store)"
    },
    "language_info": {
      "name": "python",
      "version": "3.9.6",
      "mimetype": "text/x-python",
      "codemirror_mode": {
        "name": "ipython",
        "version": 3
      },
      "pygments_lexer": "ipython3",
      "nbconvert_exporter": "python",
      "file_extension": ".py"
    },
    "interpreter": {
      "hash": "91e309b0d6f9bd13113d0dab55954c7a828cac190944509a12384aacede56c3d"
    }
  },
  "cells": [
    {
      "cell_type": "markdown",
      "source": [
        "1-Bir stringde eğer en az iki kere 'zip' geçiyorsa ikinci kez geçen zip in indexini döndüren, eğer en az iki kere geçmiyorsa -1 döndüren fonksiyon yazalım."
      ],
      "metadata": {
        "id": "tekgbGbYLTZn"
      }
    },
    {
      "cell_type": "code",
      "execution_count": 3,
      "source": [
        "def zip_(yazı):\r\n",
        "    a = yazı.count(\"zip\")\r\n",
        "    if a < 2:\r\n",
        "        return -1\r\n",
        "    else:\r\n",
        "        b = yazı.split(\"zip\")\r\n",
        "        return len(b[0] + b[1]) + 3\r\n",
        "\r\n",
        "\r\n",
        "zip_(\"abczipabdzipabezip\")"
      ],
      "outputs": [
        {
          "output_type": "execute_result",
          "data": {
            "text/plain": [
              "9"
            ]
          },
          "metadata": {},
          "execution_count": 3
        }
      ],
      "metadata": {
        "id": "oc6hiDnaNLgz"
      }
    },
    {
      "cell_type": "code",
      "execution_count": 1,
      "source": [
        "yazı = \"abczipabdzipabezip\"\r\n",
        "a = yazı.find(\"zip\")\r\n",
        "a\r\n"
      ],
      "outputs": [
        {
          "output_type": "execute_result",
          "data": {
            "text/plain": [
              "3"
            ]
          },
          "metadata": {},
          "execution_count": 1
        }
      ],
      "metadata": {}
    },
    {
      "cell_type": "code",
      "execution_count": 2,
      "source": [
        "b = yazı.split(\"zip\")\r\n",
        "b"
      ],
      "outputs": [
        {
          "output_type": "execute_result",
          "data": {
            "text/plain": [
              "['abc', 'abd', 'abe', '']"
            ]
          },
          "metadata": {},
          "execution_count": 2
        }
      ],
      "metadata": {}
    },
    {
      "cell_type": "markdown",
      "source": [
        "```\r\n",
        "2. liste ve boolean alan, \"Ping\"lerin arasına \"Pong\" yazan, boolean True ise sona da koyan False varsa sonuna koymayan bir fonksiyon yazalım\r\n",
        "print(yerlestir([\"Ping\",\"Ping\"],True)) -->['Ping', 'Pong', 'Ping', 'Pong']\r\n",
        "print(yerlestir([\"Ping\",\"Ping\",\"Ping\",\"Ping\",\"Ping\",\"Ping\"],False)) -->['Ping', 'Pong', 'Ping', 'Pong', 'Ping', 'Pong', 'Ping', 'Pong', 'Ping', 'Pong', 'Ping']\r\n",
        "```"
      ],
      "metadata": {
        "id": "Wdk2I2HvNPbA"
      }
    },
    {
      "cell_type": "code",
      "execution_count": 6,
      "source": [
        "def yerleştir(liste, bool):\r\n",
        "    edited = []\r\n",
        "    for i in liste:\r\n",
        "        edited.append(i)\r\n",
        "        edited.append(\"Pong\")\r\n",
        "    if bool:\r\n",
        "        return edited\r\n",
        "    else:\r\n",
        "        del edited[-1]\r\n",
        "        return edited\r\n",
        "\r\n",
        "\r\n",
        "\r\n",
        "yerleştir([\"Ping\",\"Ping\",\"Ping\",\"Ping\"],True)"
      ],
      "outputs": [
        {
          "output_type": "execute_result",
          "data": {
            "text/plain": [
              "['Ping', 'Pong', 'Ping', 'Pong', 'Ping', 'Pong', 'Ping', 'Pong']"
            ]
          },
          "metadata": {},
          "execution_count": 6
        }
      ],
      "metadata": {
        "id": "FEscwCdRNQvt"
      }
    },
    {
      "cell_type": "markdown",
      "source": [
        "```\n",
        "3. Sayının eklemeli devamlılığını bulan fonksiyon yazalım\n",
        "\n",
        "eklemeli_devamlılık(1679583)\n",
        "\n",
        "1+6+7+9+5+8+3=39\n",
        "\n",
        "3+9=12\n",
        "\n",
        "1+2=3\n",
        "\n",
        "Tek basamaklı sayıya ulaşmak için 3 tekrar gerekiyor\n",
        "```"
      ],
      "metadata": {
        "id": "OF0rVsBJNRVm"
      }
    },
    {
      "cell_type": "code",
      "execution_count": 11,
      "source": [
        "def eklemeli(x):\r\n",
        "    x = str(x)\r\n",
        "    a = len(x)\r\n",
        "    count = 0\r\n",
        "    while a != 1:\r\n",
        "        new = 0\r\n",
        "        for i in x:\r\n",
        "            new += int(i)\r\n",
        "        x = str(new)\r\n",
        "        a = len(x)\r\n",
        "        count += 1\r\n",
        "    return count\r\n",
        "\r\n",
        "\r\n",
        "eklemeli(1679583)"
      ],
      "outputs": [
        {
          "output_type": "execute_result",
          "data": {
            "text/plain": [
              "3"
            ]
          },
          "metadata": {},
          "execution_count": 11
        }
      ],
      "metadata": {
        "id": "9wxgaUySOdFv"
      }
    },
    {
      "cell_type": "markdown",
      "source": [
        "```\r\n",
        "4. You will be given an array of numbers. You have to sort the odd numbers in ascending order while leaving the even numbers at their original positions.\r\n",
        "\r\n",
        "Example:\r\n",
        "\r\n",
        "[7, 1] => [1, 7]\r\n",
        "\r\n",
        "[5, 8, 6, 3, 4] => [3, 8, 6, 5, 4]\r\n",
        "\r\n",
        "[9, 8, 7, 6, 5, 4, 3, 2, 1, 0] => [1, 8, 3, 6, 5, 4, 7, 2, 9, 0]\r\n",
        "\r\n",
        "```\r\n"
      ],
      "metadata": {
        "id": "C0bzI8cTO3Wh"
      }
    },
    {
      "cell_type": "code",
      "execution_count": 13,
      "source": [
        "def asc(liste):\r\n",
        "    odd =[]\r\n",
        "    for i in liste:\r\n",
        "        if i % 2:\r\n",
        "            odd.append(i)\r\n",
        "    odd = sorted(odd)\r\n",
        "\r\n",
        "    result = []\r\n",
        "    k = 0\r\n",
        "    for i in liste:\r\n",
        "        if i % 2:\r\n",
        "            result.append(odd[k])\r\n",
        "            k += 1\r\n",
        "        else:\r\n",
        "            result.append(i)\r\n",
        "    return result\r\n",
        "\r\n",
        "\r\n",
        "    #odd = [1,3,5,7,9]\r\n",
        "\r\n",
        "asc([5, 8, 6, 3, 4])"
      ],
      "outputs": [
        {
          "output_type": "execute_result",
          "data": {
            "text/plain": [
              "[3, 8, 6, 5, 4]"
            ]
          },
          "metadata": {},
          "execution_count": 13
        }
      ],
      "metadata": {
        "id": "cL4ywnsFSVGt"
      }
    },
    {
      "cell_type": "markdown",
      "source": [
        "```\n",
        "5- Ornek olarak verilen stringin her bir karakteri sirasiyla buyuk harf haline gelecek ve sonuc bir liste seklinde olacak. Ornek 1:\n",
        "\n",
        "test = ‘iki kelime’\n",
        "\n",
        "sonuc = ['Iki kelime', 'iKi kelime', 'ikI kelime', 'iki Kelime', 'iki kElime', 'iki keLime', 'iki kelIme', 'iki keliMe', 'iki kelimE']\n",
        "```\n",
        "\n"
      ],
      "metadata": {
        "id": "pJUfX-07SY0h"
      }
    },
    {
      "cell_type": "markdown",
      "source": [
        "hatalı çözüm"
      ],
      "metadata": {}
    },
    {
      "cell_type": "code",
      "execution_count": 26,
      "source": [
        "def upper(yazı):\r\n",
        "    sonuc = []\r\n",
        "    k = 0\r\n",
        "    for i in yazı:\r\n",
        "        if i.isalnum():\r\n",
        "            a = yazı.replace(i,i.upper())\r\n",
        "            sonuc.append(a)\r\n",
        "            k += 1\r\n",
        "    return sonuc\r\n",
        "\r\n",
        "\r\n",
        "upper(\"ankara\")"
      ],
      "outputs": [
        {
          "output_type": "execute_result",
          "data": {
            "text/plain": [
              "['AnkArA', 'aNkara', 'anKara', 'AnkArA', 'ankaRa', 'AnkArA']"
            ]
          },
          "metadata": {},
          "execution_count": 26
        }
      ],
      "metadata": {
        "id": "fPB8_BlmKiAq"
      }
    },
    {
      "cell_type": "markdown",
      "source": [
        "doğru çözüm"
      ],
      "metadata": {}
    },
    {
      "cell_type": "code",
      "execution_count": 31,
      "source": [
        "def upper(yazı):\r\n",
        "    sonuc=[]\r\n",
        "    for i in range(len(yazı)):\r\n",
        "          if yazı[i].isalpha():\r\n",
        "            sonuc.append(yazı[:i]+yazı[i].upper()+yazı[i+1:])\r\n",
        "    return sonuc\r\n",
        "upper(\"ankara\")"
      ],
      "outputs": [
        {
          "output_type": "execute_result",
          "data": {
            "text/plain": [
              "['Ankara..', 'aNkara..', 'anKara..', 'ankAra..', 'ankaRa..', 'ankarA..']"
            ]
          },
          "metadata": {},
          "execution_count": 31
        }
      ],
      "metadata": {}
    },
    {
      "cell_type": "markdown",
      "source": [
        "6. ```\r\n",
        "morse_codes = {\r\n",
        "  'A': '.-', 'B': '-...', 'C': '-.-.', 'D': '-..', 'E': '.', 'F': '..-.',\r\n",
        "  'G': '--.', 'H': '....', 'I': '..', 'J': '.---', 'K': '-.-', 'L': '.-..',\r\n",
        "  'M': '--', 'N': '-.', 'O': '---', 'P': '.--.', 'Q': '--.-', 'R': '.-.',\r\n",
        "  'S': '...', 'T': '-', 'U': '..-', 'V': '...-', 'W': '.--', 'X': '-..-',\r\n",
        "  'Y': '-.--', 'Z': '--..', ' ': ' ', '0': '-----',\r\n",
        "  '1': '.----', '2': '..---', '3': '...--', '4': '....-', '5': '.....',\r\n",
        "  '6': '-....', '7': '--...', '8': '---..', '9': '----.',\r\n",
        "  '&': '.-...', \"'\": '.----.', '@': '.--.-.', ')': '-.--.-', '(': '-.--.',\r\n",
        "  ':': '---...', ',': '--..--', '=': '-...-', '!': '-.-.--', '.': '.-.-.-',\r\n",
        "  '-': '-....-', '+': '.-.-.', '\"': '.-..-.', '?': '..--..', '/': '-..-.'\r\n",
        "}\r\n",
        "\r\n",
        "```\r\n",
        "Arasında boşluk bırakılarak girilen morse kodunu ifadeye, ifadeyi morsea çeviren kod yazalım."
      ],
      "metadata": {
        "id": "_t_wBbYtKhYW"
      }
    },
    {
      "cell_type": "code",
      "execution_count": 29,
      "source": [
        "morse_codes = {\r\n",
        "  'A': '.-', 'B': '-...', 'C': '-.-.', 'D': '-..', 'E': '.', 'F': '..-.',\r\n",
        "  'G': '--.', 'H': '....', 'I': '..', 'J': '.---', 'K': '-.-', 'L': '.-..',\r\n",
        "  'M': '--', 'N': '-.', 'O': '---', 'P': '.--.', 'Q': '--.-', 'R': '.-.',\r\n",
        "  'S': '...', 'T': '-', 'U': '..-', 'V': '...-', 'W': '.--', 'X': '-..-',\r\n",
        "  'Y': '-.--', 'Z': '--..', ' ': ' ', '0': '-----',\r\n",
        "  '1': '.----', '2': '..---', '3': '...--', '4': '....-', '5': '.....',\r\n",
        "  '6': '-....', '7': '--...', '8': '---..', '9': '----.',\r\n",
        "  '&': '.-...', \"'\": '.----.', '@': '.--.-.', ')': '-.--.-', '(': '-.--.',\r\n",
        "  ':': '---...', ',': '--..--', '=': '-...-', '!': '-.-.--', '.': '.-.-.-',\r\n",
        "  '-': '-....-', '+': '.-.-.', '\"': '.-..-.', '?': '..--..', '/': '-..-.'\r\n",
        "}\r\n",
        "def dönüştür(yazı):\r\n",
        "    a = yazı.split()\r\n",
        "\r\n",
        "    result = \"\"\r\n",
        "    keys = list(morse_codes.keys())\r\n",
        "    values = list(morse_codes.values())\r\n",
        "    for i in a:\r\n",
        "        if i in keys:\r\n",
        "           result += morse_codes[i] + \" \"\r\n",
        "        elif i in values:\r\n",
        "            result += keys[values.index(i)] + \" \"\r\n",
        "    return result.strip()\r\n",
        "\r\n",
        "#dönüştür(\"A B C D\")\r\n",
        "dönüştür(\"-....- .-.-.\")"
      ],
      "outputs": [
        {
          "output_type": "execute_result",
          "data": {
            "text/plain": [
              "'- +'"
            ]
          },
          "metadata": {},
          "execution_count": 29
        }
      ],
      "metadata": {
        "id": "l0qafjHQMP_9"
      }
    },
    {
      "cell_type": "markdown",
      "source": [
        "```\n",
        "7- Once upon a time, on a way through the old wild mountainous west,…\n",
        "… a man was given directions to go from one point to another. The directions were \"NORTH\", \"SOUTH\", \"WEST\", \"EAST\". Clearly \"NORTH\" and \"SOUTH\" are opposite, \"WEST\" and \"EAST\" too.\n",
        "\n",
        "Going to one direction and coming back the opposite direction right away is a needless effort. Since this is the wild west, with dreadfull weather and not much water, it's important to save yourself some energy, otherwise you might die of thirst!\n",
        "\n",
        "How I crossed a mountainous desert the smart way.\n",
        "The directions given to the man are, for example, the following (depending on the language):\n",
        "\n",
        "[\"NORTH\", \"SOUTH\", \"SOUTH\", \"EAST\", \"WEST\", \"NORTH\", \"WEST\"].\n",
        "or\n",
        "{ \"NORTH\", \"SOUTH\", \"SOUTH\", \"EAST\", \"WEST\", \"NORTH\", \"WEST\" };\n",
        "or\n",
        "[North, South, South, East, West, North, West]\n",
        "You can immediatly see that going \"NORTH\" and immediately \"SOUTH\" is not reasonable, better stay to the same place! So the task is to give to the man a simplified version of the plan. A better plan in this case is simply:\n",
        "\n",
        "[\"WEST\"]\n",
        "or\n",
        "{ \"WEST\" }\n",
        "or\n",
        "[West]\n",
        "Other examples:\n",
        "In [\"NORTH\", \"SOUTH\", \"EAST\", \"WEST\"], the direction \"NORTH\" + \"SOUTH\" is going north and coming back right away.\n",
        "\n",
        "The path becomes [\"EAST\", \"WEST\"], now \"EAST\" and \"WEST\" annihilate each other, therefore, the final result is [] (nil in Clojure).\n",
        "\n",
        "In [\"NORTH\", \"EAST\", \"WEST\", \"SOUTH\", \"WEST\", \"WEST\"], \"NORTH\" and \"SOUTH\" are not directly opposite but they become directly opposite after the reduction of \"EAST\" and \"WEST\" so the whole path is reducible to [\"WEST\", \"WEST\"].\n",
        "\n",
        "Task\n",
        "Write a function dirReduc which will take an array of strings and returns an array of strings with the needless directions removed (W<->E or S<->N side by side).\n",
        "\n",
        "The Haskell version takes a list of directions with data Direction = North | East | West | South.\n",
        "The Clojure version returns nil when the path is reduced to nothing.\n",
        "The Rust version takes a slice of enum Direction {North, East, West, South}.\n",
        "See more examples in \"Sample Tests:\"\n",
        "Notes\n",
        "Not all paths can be made simpler. The path [\"NORTH\", \"WEST\", \"SOUTH\", \"EAST\"] is not reducible. \"NORTH\" and \"WEST\", \"WEST\" and \"SOUTH\", \"SOUTH\" and \"EAST\" are not directly opposite of each other and can't become such. Hence the result path is itself : [\"NORTH\", \"WEST\", \"SOUTH\", \"EAST\"].\n",
        "```\n",
        "\n",
        "\n"
      ],
      "metadata": {
        "id": "zJz-aS4DM9Sl"
      }
    },
    {
      "cell_type": "code",
      "execution_count": 35,
      "source": [
        "def dirReduc(dir):\r\n",
        "    while \"NS\" in dir or \"SN\" in dir or \"WE\" in dir or \"EW\" in dir:\r\n",
        "        dir = dir.replace(\"NS\",\"\").replace(\"SN\",\"\").replace(\"WE\",\"\").replace(\"EW\",\"\")\r\n",
        "    if dir == \"\":\r\n",
        "        return 0\r\n",
        "    else:\r\n",
        "        return dir\r\n",
        "\r\n",
        "dirReduc(\"NWESNWENNS\")\r\n",
        "#dirReduc(\"NN\")"
      ],
      "outputs": [
        {
          "output_type": "execute_result",
          "data": {
            "text/plain": [
              "'NN'"
            ]
          },
          "metadata": {},
          "execution_count": 35
        }
      ],
      "metadata": {
        "id": "lXtQmoMgQjGO"
      }
    }
  ]
}