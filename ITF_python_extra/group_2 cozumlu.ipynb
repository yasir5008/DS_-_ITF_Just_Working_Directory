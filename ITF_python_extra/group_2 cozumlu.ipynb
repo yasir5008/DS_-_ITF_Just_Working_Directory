{
  "nbformat": 4,
  "nbformat_minor": 0,
  "metadata": {
    "colab": {
      "name": "group_2.ipynb",
      "provenance": []
    },
    "kernelspec": {
      "name": "python3",
      "display_name": "Python 3"
    },
    "language_info": {
      "name": "python"
    }
  },
  "cells": [
    {
      "cell_type": "markdown",
      "metadata": {
        "id": "DpXjn6Vd9Yw6"
      },
      "source": [
        "1- Write a program to prompt for a score between 0.0 and 1.0. If the score is out of range, print an error. If the score is between 0.0 and 1.0, print a grade using the following table: Score Grade\n",
        "\n",
        "0.9 A\n",
        "\n",
        "0.8 B\n",
        "\n",
        "0.7 C\n",
        "\n",
        "0.6 D\n",
        "\n",
        "0.5 F\n",
        "\n",
        "If the user enters a value out of range, print a suitable error message and exit. For the test, enter a score of 0.85"
      ]
    },
    {
      "cell_type": "code",
      "metadata": {
        "colab": {
          "base_uri": "https://localhost:8080/"
        },
        "id": "ZMqcwm1AVD_M",
        "outputId": "f399513b-6b2f-43c7-ce44-fdc9fc4f87ae"
      },
      "source": [
        "s = float(input('Enter a score: '))\n",
        "if 0.0 <= s <= 1.0 :\n",
        "  if s >= 0.9:\n",
        "    print('A')\n",
        "  elif s>=0.8:\n",
        "    print('B')\n",
        "  elif s >= 0.7 :\n",
        "    print('C')\n",
        "  elif s >=0.6:\n",
        "    print('D')\n",
        "  elif s < 0.6 :\n",
        "    print('F')\n",
        "else:\n",
        "  print('invalid input')"
      ],
      "execution_count": null,
      "outputs": [
        {
          "output_type": "stream",
          "text": [
            "Enter a score: 0.85\n",
            "B\n"
          ],
          "name": "stdout"
        }
      ]
    },
    {
      "cell_type": "markdown",
      "metadata": {
        "id": "k7W9-BOA9n7O"
      },
      "source": [
        "2- Yazi olarak girilen string ifadenin içindeki harfler tamamen büyük veya tamamen küçük ise True, küçük ve büyük harlerden oluşmuş ise False veren bir fonksiyon yazalım."
      ]
    },
    {
      "cell_type": "code",
      "metadata": {
        "colab": {
          "base_uri": "https://localhost:8080/"
        },
        "id": "aw8NIj4NVE7S",
        "outputId": "4a083ee2-47e6-4c84-9e7b-06d6ae3a3347"
      },
      "source": [
        "def buyuk_kucuk(yazi):\n",
        "  if yazi.lower() == yazi or yazi.upper() == yazi :\n",
        "    return True\n",
        "  else:\n",
        "    return False\n",
        "buyuk_kucuk('Raife')"
      ],
      "execution_count": null,
      "outputs": [
        {
          "output_type": "execute_result",
          "data": {
            "text/plain": [
              "False"
            ]
          },
          "metadata": {
            "tags": []
          },
          "execution_count": 3
        }
      ]
    },
    {
      "cell_type": "markdown",
      "metadata": {
        "id": "6PFwqEFO9nxy"
      },
      "source": [
        "3- Sayıyı kalansız bölen sayıları bulan bir fonksiyon yazalım"
      ]
    },
    {
      "cell_type": "code",
      "metadata": {
        "colab": {
          "base_uri": "https://localhost:8080/"
        },
        "id": "DS38zXWNVFy9",
        "outputId": "da730899-2b37-4716-b934-ea9bb2bfb903"
      },
      "source": [
        "def kalansız_bolen(sayi):\n",
        "  liste = []\n",
        "  for i in range(1, sayi+1):\n",
        "    if sayi % i == 0 :\n",
        "      liste.append(i)\n",
        "  return liste\n",
        "kalansız_bolen(12)"
      ],
      "execution_count": null,
      "outputs": [
        {
          "output_type": "execute_result",
          "data": {
            "text/plain": [
              "[1, 2, 3, 4, 6, 12]"
            ]
          },
          "metadata": {
            "tags": []
          },
          "execution_count": 4
        }
      ]
    },
    {
      "cell_type": "markdown",
      "metadata": {
        "id": "rgWFi-lZ9noI"
      },
      "source": [
        "4- Cümlenin içindeki sesli harfleri kaldıran bir fonksiyon yazalım.\n",
        "print(sessiz_yap(\"Hayat beni neden yoruyosun?:)\")) --> hyt bn ndn yrysn?:)"
      ]
    },
    {
      "cell_type": "code",
      "metadata": {
        "colab": {
          "base_uri": "https://localhost:8080/",
          "height": 35
        },
        "id": "1nDwibpcVGog",
        "outputId": "e5b5472b-cd3f-4a52-ed36-9909a65ead07"
      },
      "source": [
        "def sessiz_yap(cumle):\n",
        "  sesli = 'aeıioöuüAEIİOÖUÜ'\n",
        "  for i in cumle:\n",
        "    if i in sesli:\n",
        "      cumle = cumle.replace(i, '')\n",
        "  return cumle\n",
        "sessiz_yap(\"Hayat beni neden yoruyosun?:)\")"
      ],
      "execution_count": null,
      "outputs": [
        {
          "output_type": "execute_result",
          "data": {
            "application/vnd.google.colaboratory.intrinsic+json": {
              "type": "string"
            },
            "text/plain": [
              "'Hyt bn ndn yrysn?:)'"
            ]
          },
          "metadata": {
            "tags": []
          },
          "execution_count": 5
        }
      ]
    },
    {
      "cell_type": "code",
      "metadata": {
        "colab": {
          "base_uri": "https://localhost:8080/",
          "height": 35
        },
        "id": "CeJ4UWbkcIpB",
        "outputId": "66caec20-8345-456f-c881-75e28bdf88e5"
      },
      "source": [
        "def sessiz_yap(cumle):\n",
        "  sesli = 'aeıioöuüAEIİOÖUÜ'\n",
        "  yeni = ''\n",
        "  for i in cumle:\n",
        "    if i not in sesli:\n",
        "      yeni+= i\n",
        "  return yeni\n",
        "sessiz_yap(\"Hayat beni neden yoruyosun?:)\")"
      ],
      "execution_count": null,
      "outputs": [
        {
          "output_type": "execute_result",
          "data": {
            "application/vnd.google.colaboratory.intrinsic+json": {
              "type": "string"
            },
            "text/plain": [
              "'Hyt bn ndn yrysn?:)'"
            ]
          },
          "metadata": {
            "tags": []
          },
          "execution_count": 6
        }
      ]
    },
    {
      "cell_type": "markdown",
      "metadata": {
        "id": "yxwOQSQe9ne1"
      },
      "source": [
        "5- Tarihi yüzyıla çeviren bir fonksiyon yazalım.\n",
        "print(yüzyıl_yap(1738)) --> 18. yüzyıl"
      ]
    },
    {
      "cell_type": "code",
      "metadata": {
        "colab": {
          "base_uri": "https://localhost:8080/",
          "height": 35
        },
        "id": "G3So_WX3VHPS",
        "outputId": "c67736f9-4f6a-429d-a9ce-3cc924de770a"
      },
      "source": [
        "def yuzyıl_yap(sayi):\n",
        "  return f\"{(sayi//100) + 1}. yüzyıl\"\n",
        "yuzyıl_yap(1738)"
      ],
      "execution_count": null,
      "outputs": [
        {
          "output_type": "execute_result",
          "data": {
            "application/vnd.google.colaboratory.intrinsic+json": {
              "type": "string"
            },
            "text/plain": [
              "'18. yüzyıl'"
            ]
          },
          "metadata": {
            "tags": []
          },
          "execution_count": 7
        }
      ]
    },
    {
      "cell_type": "markdown",
      "metadata": {
        "id": "Y4qLf-_89nL4"
      },
      "source": [
        "6- Yazının içersindeki kelimelerin ilk ve son karakterleri sabit tutup diğer karakterleri yerine - çizgi koyan fonksiyon yazalım.\n",
        "print(dönüstür(\"hello world\")) --> h---o w---d "
      ]
    },
    {
      "cell_type": "code",
      "metadata": {
        "colab": {
          "base_uri": "https://localhost:8080/",
          "height": 35
        },
        "id": "KIIC1NYooFBM",
        "outputId": "8fbf2cc7-5d6e-4e56-d6ab-9d58dab223c9"
      },
      "source": [
        "def donustur(a):\n",
        "    b = a.split()\n",
        "    new = \"\"\n",
        "    for i in b:\n",
        "        x = len(i)\n",
        "        c = i.replace(i[1:(x-1):1], \"-\" *(x-2))\n",
        "        new += c + \" \"\n",
        "    return new.strip()\n",
        "donustur(\"Hello world\")"
      ],
      "execution_count": 22,
      "outputs": [
        {
          "output_type": "execute_result",
          "data": {
            "application/vnd.google.colaboratory.intrinsic+json": {
              "type": "string"
            },
            "text/plain": [
              "'H---o w---d'"
            ]
          },
          "metadata": {
            "tags": []
          },
          "execution_count": 22
        }
      ]
    },
    {
      "cell_type": "code",
      "metadata": {
        "colab": {
          "base_uri": "https://localhost:8080/"
        },
        "id": "URuVwls9oPUr",
        "outputId": "8e09f08a-9ac3-4762-89e6-12f3a0017461"
      },
      "source": [
        "x = \"hello world\"\n",
        "y = x.split(\" \")\n",
        "a=\"\"\n",
        "for i in y:\n",
        "    for j in i:\n",
        "        if not j==i[0] and not j==i[-1] :\n",
        "            i=i.replace(j,\"-\")\n",
        "    a+=i+\" \"\n",
        "print(a.strip())"
      ],
      "execution_count": 23,
      "outputs": [
        {
          "output_type": "stream",
          "text": [
            "h---o w---d\n"
          ],
          "name": "stdout"
        }
      ]
    },
    {
      "cell_type": "markdown",
      "metadata": {
        "id": "mEPc7d0Z9nAI"
      },
      "source": [
        "7- Her girdi listesinde iki tanesi hariç her rakam en az bir kere tekrarlıyor.iki benzersiz sayıyı döndüren bir fonksiyon yazalım.\n",
        "benzersizi_bul([2,2,3,11,3,6,5]) --> [6, 5]  # 11 te 2 tane 1 var"
      ]
    },
    {
      "cell_type": "code",
      "metadata": {
        "colab": {
          "base_uri": "https://localhost:8080/"
        },
        "id": "EY1O4NA7VJnw",
        "outputId": "d4b9def9-018f-44c4-f812-73f334bd63ef"
      },
      "source": [
        "def benzersizi_bul(liste):\n",
        "  yeni = []\n",
        "  s = ''\n",
        "  for i in liste:\n",
        "    s += str(i)\n",
        "  for k in set(s):\n",
        "    if s.count(k) == 1:\n",
        "      yeni.append(int(k))\n",
        "  return yeni\n",
        "benzersizi_bul([2,2,3,11,3,6,5])\n"
      ],
      "execution_count": null,
      "outputs": [
        {
          "output_type": "execute_result",
          "data": {
            "text/plain": [
              "[5, 6]"
            ]
          },
          "metadata": {
            "tags": []
          },
          "execution_count": 14
        }
      ]
    },
    {
      "cell_type": "markdown",
      "metadata": {
        "id": "GMgm2Jhu9mQj"
      },
      "source": [
        "8- Bir stringi(kelime) alan ve birbirini izleyen aynı harfleri çıkaran bir fonksiyon oluşturun.\n",
        "print(cıkar(\"mmmeeerrhhhaaabbbaaa\")) --> merhaba"
      ]
    },
    {
      "cell_type": "code",
      "metadata": {
        "colab": {
          "base_uri": "https://localhost:8080/"
        },
        "id": "OHliMr3fVKm9",
        "outputId": "dcbc363b-e15d-4160-ebd5-5f6cba20dff4"
      },
      "source": [
        "def cıkar(kelime):\n",
        "  yeni = ''\n",
        "  for i in range(len(kelime)-1):\n",
        "    if kelime[i] != kelime [i+1] :\n",
        "      yeni += kelime[i]\n",
        "  yeni += kelime[-1]\n",
        "  return yeni\n",
        "print(cıkar(\"mmmeeerrhhhaaabbbaaa\"))\n",
        "\n"
      ],
      "execution_count": null,
      "outputs": [
        {
          "output_type": "stream",
          "text": [
            "merhaba\n"
          ],
          "name": "stdout"
        }
      ]
    },
    {
      "cell_type": "markdown",
      "metadata": {
        "id": "3oD9kK_q9mBH"
      },
      "source": [
        "9- Belirli aralıkta(sınırlar dahil) verilen rakamın kaç kere olduğunu sayan bir fonksiyon yazalım. print(kac_tane(50,55,5)) --> 7"
      ]
    },
    {
      "cell_type": "code",
      "metadata": {
        "colab": {
          "base_uri": "https://localhost:8080/"
        },
        "id": "Xm3OBUHUVLZm",
        "outputId": "282b5b5a-24ac-4863-c7c7-99b684f77a22"
      },
      "source": [
        "def saydir(a, b, c):\n",
        "  sonuc = 0\n",
        "  for i in range(a, b+1):\n",
        "    sonuc += str(i).count(str(c))\n",
        "  return sonuc\n",
        "saydir(50, 55, 5)"
      ],
      "execution_count": null,
      "outputs": [
        {
          "output_type": "execute_result",
          "data": {
            "text/plain": [
              "7"
            ]
          },
          "metadata": {
            "tags": []
          },
          "execution_count": 17
        }
      ]
    },
    {
      "cell_type": "markdown",
      "metadata": {
        "id": "n1Tuy6szEGR8"
      },
      "source": [
        "10- Yüksekliği verilen yılbaşı ağacını oluşturan bir fonksiyon yazalım. agac(7)\n",
        "\n",
        "\n",
        "```\n",
        "      #      \n",
        "     ###     \n",
        "    #####    \n",
        "   #######   \n",
        "  #########  \n",
        " ########### \n",
        "############# \n",
        "```\n",
        "\n"
      ]
    },
    {
      "cell_type": "code",
      "metadata": {
        "id": "bGV1nJWCVMFX",
        "colab": {
          "base_uri": "https://localhost:8080/"
        },
        "outputId": "66bc6154-c4f9-4a18-c6ab-52a003621fb7"
      },
      "source": [
        "def agac(yukseklik):\n",
        "  for i in range(1, 2*yukseklik, 2):\n",
        "    print((i*'#').center(2*yukseklik-1))\n",
        "agac(7)"
      ],
      "execution_count": 19,
      "outputs": [
        {
          "output_type": "stream",
          "text": [
            "      #      \n",
            "     ###     \n",
            "    #####    \n",
            "   #######   \n",
            "  #########  \n",
            " ########### \n",
            "#############\n"
          ],
          "name": "stdout"
        }
      ]
    },
    {
      "cell_type": "code",
      "metadata": {
        "colab": {
          "base_uri": "https://localhost:8080/"
        },
        "id": "9rQrZYcHnWlX",
        "outputId": "695f2a7e-d97f-407e-f2af-5a333e387e75"
      },
      "source": [
        "def agac(yukseklik):\n",
        "  i=1\n",
        "  while i <= 2*yukseklik -1:\n",
        "    print((i*'#').center(2*yukseklik-1))\n",
        "    i+=2\n",
        "agac(7)"
      ],
      "execution_count": 21,
      "outputs": [
        {
          "output_type": "stream",
          "text": [
            "      #      \n",
            "     ###     \n",
            "    #####    \n",
            "   #######   \n",
            "  #########  \n",
            " ########### \n",
            "#############\n"
          ],
          "name": "stdout"
        }
      ]
    },
    {
      "cell_type": "code",
      "metadata": {
        "id": "FVHKdMMqnxEB"
      },
      "source": [
        ""
      ],
      "execution_count": null,
      "outputs": []
    }
  ]
}