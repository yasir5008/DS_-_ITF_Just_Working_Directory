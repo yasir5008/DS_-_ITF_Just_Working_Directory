{
    "cells": [
        {
            "cell_type": "code",
            "execution_count": 2,
            "source": [
                "def who(first, last) :  # same structure as the previous one\r\n",
                "    print('Your first name is :', first)\r\n",
                "    print('Your last name is :', last)\r\n",
                "\r\n",
                "who(last='Guido', first='van Rossum')  # calling the function is different\r\n",
                "# we used kwargs to pass the values into the function"
            ],
            "outputs": [
                {
                    "output_type": "stream",
                    "name": "stdout",
                    "text": [
                        "Your first name is : van Rossum\n",
                        "Your last name is : Guido\n"
                    ]
                }
            ],
            "metadata": {}
        },
        {
            "cell_type": "code",
            "execution_count": 8,
            "source": [
                "def parrot(voltage, state='a stiff', action='voom', type='Norwegian Blue'):\r\n",
                "    print(\"-- This parrot wouldn't\", action, end=' ')\r\n",
                "    print(\"if you put\", voltage, \"volts through it.\")\r\n",
                "    print(\"-- Lovely plumage, the\", type)\r\n",
                "    print(\"-- It's\", state, \"!\")\r\n",
                "parrot(voltage=1000, 'dead')\r\n"
            ],
            "outputs": [
                {
                    "output_type": "error",
                    "ename": "SyntaxError",
                    "evalue": "positional argument follows keyword argument (Temp/ipykernel_15380/1006721944.py, line 6)",
                    "traceback": [
                        "\u001b[1;36m  File \u001b[1;32m\"C:\\Users\\yasir\\AppData\\Local\\Temp/ipykernel_15380/1006721944.py\"\u001b[1;36m, line \u001b[1;32m6\u001b[0m\n\u001b[1;33m    parrot(voltage=1000, 'dead')\u001b[0m\n\u001b[1;37m                               ^\u001b[0m\n\u001b[1;31mSyntaxError\u001b[0m\u001b[1;31m:\u001b[0m positional argument follows keyword argument\n"
                    ]
                }
            ],
            "metadata": {}
        },
        {
            "cell_type": "code",
            "execution_count": 9,
            "source": [
                "car = {\r\n",
                "  \"brand\": \"Ford\",\r\n",
                "  \"model\": \"Mustang\",\r\n",
                "  \"year\": 1964\r\n",
                "}\r\n",
                "\r\n",
                "x = car.items()\r\n",
                "\r\n",
                "print(x)"
            ],
            "outputs": [
                {
                    "output_type": "stream",
                    "name": "stdout",
                    "text": [
                        "dict_items([('brand', 'Ford'), ('model', 'Mustang'), ('year', 1964)])\n"
                    ]
                }
            ],
            "metadata": {}
        }
    ],
    "metadata": {
        "orig_nbformat": 4,
        "language_info": {
            "name": "python",
            "version": "3.9.6",
            "mimetype": "text/x-python",
            "codemirror_mode": {
                "name": "ipython",
                "version": 3
            },
            "pygments_lexer": "ipython3",
            "nbconvert_exporter": "python",
            "file_extension": ".py"
        },
        "kernelspec": {
            "name": "python3",
            "display_name": "Python 3.9.6 64-bit (windows store)"
        },
        "interpreter": {
            "hash": "f54f548834cd5004815cf7c2a98e656c3454a16c8c6270de2968c01c213389d4"
        }
    },
    "nbformat": 4,
    "nbformat_minor": 2
}