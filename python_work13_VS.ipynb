{
    "cells": [
        {
            "cell_type": "code",
            "execution_count": 2,
            "source": [
                "def who(first, last) :  # same structure as the previous one\r\n",
                "    print('Your first name is :', first)\r\n",
                "    print('Your last name is :', last)\r\n",
                "\r\n",
                "who(last='Guido', first='van Rossum')  # calling the function is different\r\n",
                "# we used kwargs to pass the values into the function"
            ],
            "outputs": [
                {
                    "output_type": "stream",
                    "name": "stdout",
                    "text": [
                        "Your first name is : van Rossum\n",
                        "Your last name is : Guido\n"
                    ]
                }
            ],
            "metadata": {}
        }
    ],
    "metadata": {
        "orig_nbformat": 4,
        "language_info": {
            "name": "python",
            "version": "3.9.6",
            "mimetype": "text/x-python",
            "codemirror_mode": {
                "name": "ipython",
                "version": 3
            },
            "pygments_lexer": "ipython3",
            "nbconvert_exporter": "python",
            "file_extension": ".py"
        },
        "kernelspec": {
            "name": "python3",
            "display_name": "Python 3.9.6 64-bit (windows store)"
        },
        "interpreter": {
            "hash": "f54f548834cd5004815cf7c2a98e656c3454a16c8c6270de2968c01c213389d4"
        }
    },
    "nbformat": 4,
    "nbformat_minor": 2
}