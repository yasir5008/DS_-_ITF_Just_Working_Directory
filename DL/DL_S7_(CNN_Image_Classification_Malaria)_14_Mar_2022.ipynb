{
 "cells": [
  {
   "cell_type": "markdown",
   "metadata": {
    "id": "pAqK_4rJyGIo"
   },
   "source": [
    "\n",
    "## CNN With Custom Images\n",
    "\n",
    "The dataset contains 2 folders - Infected - Uninfected\n",
    "\n",
    "And a total of 27,558 images.\n",
    "\n",
    "\n",
    "This Dataset is taken from the official NIH Website: https://ceb.nlm.nih.gov/repositories/malaria-datasets/ "
   ]
  },
  {
   "cell_type": "code",
   "execution_count": 1,
   "metadata": {
    "id": "HujjHaXQyGIr"
   },
   "outputs": [],
   "source": [
    "import os\n",
    "import pandas as pd\n",
    "import numpy as np\n",
    "import seaborn as sns\n",
    "import matplotlib.pyplot as plt\n",
    "from matplotlib.image import imread"
   ]
  },
  {
   "cell_type": "code",
   "execution_count": 2,
   "metadata": {
    "id": "uFZ8x6-PyGIs",
    "outputId": "eed1fb85-e90c-44e5-a7a7-7a24ab04c938"
   },
   "outputs": [
    {
     "data": {
      "text/plain": [
       "'/home/caliskanahmet6'"
      ]
     },
     "execution_count": 2,
     "metadata": {},
     "output_type": "execute_result"
    }
   ],
   "source": [
    "pwd"
   ]
  },
  {
   "cell_type": "code",
   "execution_count": 3,
   "metadata": {
    "id": "T14jLqBHyGIt"
   },
   "outputs": [],
   "source": [
    "my_data_dir = '/home/caliskanahmet6/cell_images'\n",
    "# '\\\\home\\caliskanahmet6\\\\cell_images"
   ]
  },
  {
   "cell_type": "code",
   "execution_count": 4,
   "metadata": {
    "id": "KPXlpKTpyGIv",
    "outputId": "e6978376-bb2b-4253-d28f-7cc633a57663"
   },
   "outputs": [
    {
     "data": {
      "text/plain": [
       "['test', 'train']"
      ]
     },
     "execution_count": 4,
     "metadata": {},
     "output_type": "execute_result"
    }
   ],
   "source": [
    "# CONFIRM THAT THIS REPORTS BACK 'test', and 'train'\n",
    "os.listdir(my_data_dir) "
   ]
  },
  {
   "cell_type": "code",
   "execution_count": 5,
   "metadata": {
    "id": "z0BuKsaFyGIv"
   },
   "outputs": [],
   "source": [
    "test_path = my_data_dir+'/test/'\n",
    "train_path = my_data_dir+'/train/'"
   ]
  },
  {
   "cell_type": "code",
   "execution_count": 6,
   "metadata": {
    "id": "5eOc4BKRyGIv",
    "outputId": "0049e3e1-0baa-431f-fcc0-5187fa0a14f1"
   },
   "outputs": [
    {
     "data": {
      "text/plain": [
       "['parasitized', 'uninfected']"
      ]
     },
     "execution_count": 6,
     "metadata": {},
     "output_type": "execute_result"
    }
   ],
   "source": [
    "os.listdir(test_path)"
   ]
  },
  {
   "cell_type": "code",
   "execution_count": 7,
   "metadata": {
    "id": "mKliw2QVyGIw",
    "outputId": "2aef4fbc-a507-4694-a7f7-4bedd45d81df"
   },
   "outputs": [
    {
     "data": {
      "text/plain": [
       "['parasitized', 'uninfected']"
      ]
     },
     "execution_count": 7,
     "metadata": {},
     "output_type": "execute_result"
    }
   ],
   "source": [
    "os.listdir(train_path)"
   ]
  },
  {
   "cell_type": "code",
   "execution_count": 8,
   "metadata": {
    "id": "kFQ10IvvyGIx",
    "outputId": "95a59b4e-1bbd-4a11-c863-21f35b3294b1",
    "tags": []
   },
   "outputs": [
    {
     "data": {
      "text/plain": [
       "['C166P127ThinF_IMG_20151117_195030_cell_219.png',\n",
       " 'C131P92ThinF_IMG_20151004_151001_cell_121.png',\n",
       " 'C180P141NThinF_IMG_20151201_163702_cell_185.png',\n",
       " 'C124P85ThinF_IMG_20151002_153825_cell_193.png',\n",
       " 'C176P137NThinF_IMG_20151201_122444_cell_124.png',\n",
       " 'C128P89ThinF_IMG_20151004_131753_cell_130.png',\n",
       " 'C70P31_ThinF_IMG_20150819_141730_cell_95.png',\n",
       " 'C39P4thinF_original_IMG_20150622_114609_cell_13.png',\n",
       " 'C183P144NThinF_IMG_20151201_223208_cell_119.png',\n",
       " 'C91P52ThinF_IMG_20150821_124739_cell_172.png',\n",
       " 'C175P136NThinF_IMG_20151127_141253_cell_246.png',\n",
       " 'C133P94ThinF_IMG_20151004_154919_cell_119.png',\n",
       " 'C136P97ThinF_IMG_20151005_143329_cell_112.png',\n",
       " 'C68P29N_ThinF_IMG_20150819_133350_cell_188.png',\n",
       " 'C39P4thinF_original_IMG_20150622_112119_cell_14.png',\n",
       " 'C117P78ThinF_IMG_20150930_214629_cell_102.png',\n",
       " 'C118P79ThinF_IMG_20151002_110609_cell_2.png',\n",
       " 'C99P60ThinF_IMG_20150918_141314_cell_104.png',\n",
       " 'C177P138NThinF_IMG_20151201_143704_cell_178.png',\n",
       " 'C99P60ThinF_IMG_20150918_141520_cell_91.png']"
      ]
     },
     "execution_count": 8,
     "metadata": {},
     "output_type": "execute_result"
    }
   ],
   "source": [
    "os.listdir(train_path+'parasitized')[:20]"
   ]
  },
  {
   "cell_type": "code",
   "execution_count": 9,
   "metadata": {
    "id": "JF8rXNQPyGIx",
    "outputId": "f97d5251-3b4a-4c5a-e536-97d8c20f8a3d"
   },
   "outputs": [
    {
     "data": {
      "text/plain": [
       "'C39P4thinF_original_IMG_20150622_114609_cell_13.png'"
      ]
     },
     "execution_count": 9,
     "metadata": {},
     "output_type": "execute_result"
    }
   ],
   "source": [
    "os.listdir(train_path+'parasitized')[7]"
   ]
  },
  {
   "cell_type": "code",
   "execution_count": 10,
   "metadata": {
    "id": "YZPSIYW8yGIy"
   },
   "outputs": [],
   "source": [
    "para_cell = train_path+'parasitized'+'/C100P61ThinF_IMG_20150918_144104_cell_169.png'"
   ]
  },
  {
   "cell_type": "code",
   "execution_count": 11,
   "metadata": {
    "id": "cPfIa7-kyGIy",
    "outputId": "677dfbea-7962-485f-c1d5-09e2172e4665",
    "tags": []
   },
   "outputs": [
    {
     "data": {
      "text/plain": [
       "array([[[0., 0., 0.],\n",
       "        [0., 0., 0.],\n",
       "        [0., 0., 0.],\n",
       "        ...,\n",
       "        [0., 0., 0.],\n",
       "        [0., 0., 0.],\n",
       "        [0., 0., 0.]],\n",
       "\n",
       "       [[0., 0., 0.],\n",
       "        [0., 0., 0.],\n",
       "        [0., 0., 0.],\n",
       "        ...,\n",
       "        [0., 0., 0.],\n",
       "        [0., 0., 0.],\n",
       "        [0., 0., 0.]],\n",
       "\n",
       "       [[0., 0., 0.],\n",
       "        [0., 0., 0.],\n",
       "        [0., 0., 0.],\n",
       "        ...,\n",
       "        [0., 0., 0.],\n",
       "        [0., 0., 0.],\n",
       "        [0., 0., 0.]],\n",
       "\n",
       "       ...,\n",
       "\n",
       "       [[0., 0., 0.],\n",
       "        [0., 0., 0.],\n",
       "        [0., 0., 0.],\n",
       "        ...,\n",
       "        [0., 0., 0.],\n",
       "        [0., 0., 0.],\n",
       "        [0., 0., 0.]],\n",
       "\n",
       "       [[0., 0., 0.],\n",
       "        [0., 0., 0.],\n",
       "        [0., 0., 0.],\n",
       "        ...,\n",
       "        [0., 0., 0.],\n",
       "        [0., 0., 0.],\n",
       "        [0., 0., 0.]],\n",
       "\n",
       "       [[0., 0., 0.],\n",
       "        [0., 0., 0.],\n",
       "        [0., 0., 0.],\n",
       "        ...,\n",
       "        [0., 0., 0.],\n",
       "        [0., 0., 0.],\n",
       "        [0., 0., 0.]]], dtype=float32)"
      ]
     },
     "execution_count": 11,
     "metadata": {},
     "output_type": "execute_result"
    }
   ],
   "source": [
    "imread(para_cell)"
   ]
  },
  {
   "cell_type": "code",
   "execution_count": 13,
   "metadata": {
    "id": "On0snEeYyGIz"
   },
   "outputs": [],
   "source": [
    "para_img= imread(para_cell)"
   ]
  },
  {
   "cell_type": "code",
   "execution_count": 14,
   "metadata": {
    "id": "LACF8r3CyGIz",
    "outputId": "8ed93dbf-2931-4fed-8250-6c8d9e455200"
   },
   "outputs": [
    {
     "data": {
      "text/plain": [
       "<matplotlib.image.AxesImage at 0x7fcc17937b80>"
      ]
     },
     "execution_count": 14,
     "metadata": {},
     "output_type": "execute_result"
    },
    {
     "data": {
      "image/png": "[encoded data removed]",
      "text/plain": [
       "<Figure size 432x288 with 1 Axes>"
      ]
     },
     "metadata": {
      "needs_background": "light"
     },
     "output_type": "display_data"
    }
   ],
   "source": [
    "plt.imshow(para_img)"
   ]
  },
  {
   "cell_type": "code",
   "execution_count": 16,
   "metadata": {
    "id": "Y1O2gbWsyGIz",
    "outputId": "bd93aaa3-7c9a-4f2e-d1b4-e967062a3989"
   },
   "outputs": [
    {
     "data": {
      "text/plain": [
       "(124, 154, 3)"
      ]
     },
     "execution_count": 16,
     "metadata": {},
     "output_type": "execute_result"
    }
   ],
   "source": [
    "para_img.shape"
   ]
  },
  {
   "cell_type": "code",
   "execution_count": 17,
   "metadata": {
    "id": "IdFMDqZmyGI0",
    "outputId": "f2fc23ab-a696-4f6f-b21d-331afc8c7ed2",
    "tags": []
   },
   "outputs": [
    {
     "data": {
      "text/plain": [
       "['C140P101ThinF_IMG_20151005_205922_cell_52.png',\n",
       " 'C188P149ThinF_IMG_20151203_134319_cell_159.png',\n",
       " 'C77P38ThinF_IMG_20150601_155125_cell_16.png',\n",
       " 'C239ThinF_IMG_20151127_113202_cell_250.png',\n",
       " 'C51AP12thinF_IMG_20150724_154330_cell_104.png',\n",
       " 'C123P84ThinF_IMG_20151002_152144_cell_43.png',\n",
       " 'C57P18thinF_IMG_20150729_110457_cell_2.png',\n",
       " 'C33P1thinF_IMG_20150619_115808a_cell_62.png',\n",
       " 'C46P7ThinF_IMG_20151130_210309_cell_95.png',\n",
       " 'C240ThinF_IMG_20151127_115223_cell_167.png',\n",
       " 'C108P69ThinF_IMG_20150924_224616_cell_77.png',\n",
       " 'C57P18thinF_IMG_20150729_110457_cell_78.png',\n",
       " 'C230ThinF_IMG_20151112_150329_cell_184.png',\n",
       " 'C225ThinF_IMG_20151112_113915_cell_12.png',\n",
       " 'C64P25N_ThinF_IMG_20150818_152337_cell_51.png',\n",
       " 'C103P64ThinF_IMG_20150918_164553_cell_80.png',\n",
       " 'C49P10thinF_IMG_20150724_102330_cell_109.png',\n",
       " 'C56P17thinF_IMG_20150728_160438_cell_16.png',\n",
       " 'C79P40ThinF_IMG_20150817_102823_cell_7.png',\n",
       " 'C233ThinF_IMG_20151112_161024_cell_32.png']"
      ]
     },
     "execution_count": 17,
     "metadata": {},
     "output_type": "execute_result"
    }
   ],
   "source": [
    "os.listdir(train_path+'uninfected')[:20]"
   ]
  },
  {
   "cell_type": "code",
   "execution_count": 18,
   "metadata": {
    "id": "lP9Put_-yGI0"
   },
   "outputs": [],
   "source": [
    "uninfected_cell_path = train_path+'uninfected/'+os.listdir(train_path+'uninfected')[7]"
   ]
  },
  {
   "cell_type": "code",
   "execution_count": 19,
   "metadata": {},
   "outputs": [
    {
     "data": {
      "text/plain": [
       "'/home/caliskanahmet6/cell_images/train/uninfected/C33P1thinF_IMG_20150619_115808a_cell_62.png'"
      ]
     },
     "execution_count": 19,
     "metadata": {},
     "output_type": "execute_result"
    }
   ],
   "source": [
    "uninfected_cell_path"
   ]
  },
  {
   "cell_type": "code",
   "execution_count": 20,
   "metadata": {
    "id": "d-L4Uw9TyGI1",
    "outputId": "11edc0b9-7a9c-497e-e933-faca34a58561",
    "tags": []
   },
   "outputs": [
    {
     "data": {
      "text/plain": [
       "array([[[0., 0., 0.],\n",
       "        [0., 0., 0.],\n",
       "        [0., 0., 0.],\n",
       "        ...,\n",
       "        [0., 0., 0.],\n",
       "        [0., 0., 0.],\n",
       "        [0., 0., 0.]],\n",
       "\n",
       "       [[0., 0., 0.],\n",
       "        [0., 0., 0.],\n",
       "        [0., 0., 0.],\n",
       "        ...,\n",
       "        [0., 0., 0.],\n",
       "        [0., 0., 0.],\n",
       "        [0., 0., 0.]],\n",
       "\n",
       "       [[0., 0., 0.],\n",
       "        [0., 0., 0.],\n",
       "        [0., 0., 0.],\n",
       "        ...,\n",
       "        [0., 0., 0.],\n",
       "        [0., 0., 0.],\n",
       "        [0., 0., 0.]],\n",
       "\n",
       "       ...,\n",
       "\n",
       "       [[0., 0., 0.],\n",
       "        [0., 0., 0.],\n",
       "        [0., 0., 0.],\n",
       "        ...,\n",
       "        [0., 0., 0.],\n",
       "        [0., 0., 0.],\n",
       "        [0., 0., 0.]],\n",
       "\n",
       "       [[0., 0., 0.],\n",
       "        [0., 0., 0.],\n",
       "        [0., 0., 0.],\n",
       "        ...,\n",
       "        [0., 0., 0.],\n",
       "        [0., 0., 0.],\n",
       "        [0., 0., 0.]],\n",
       "\n",
       "       [[0., 0., 0.],\n",
       "        [0., 0., 0.],\n",
       "        [0., 0., 0.],\n",
       "        ...,\n",
       "        [0., 0., 0.],\n",
       "        [0., 0., 0.],\n",
       "        [0., 0., 0.]]], dtype=float32)"
      ]
     },
     "execution_count": 20,
     "metadata": {},
     "output_type": "execute_result"
    }
   ],
   "source": [
    "imread(uninfected_cell_path)"
   ]
  },
  {
   "cell_type": "code",
   "execution_count": 21,
   "metadata": {
    "id": "5077yUK2yGI1",
    "outputId": "1212c06b-09cb-40dd-bdc1-fa14fcc1b4e8"
   },
   "outputs": [
    {
     "data": {
      "text/plain": [
       "<matplotlib.image.AxesImage at 0x7fcc0ebc4430>"
      ]
     },
     "execution_count": 21,
     "metadata": {},
     "output_type": "execute_result"
    },
    {
     "data": {
      "image/png": "[encoded data removed]",
      "text/plain": [
       "<Figure size 432x288 with 1 Axes>"
      ]
     },
     "metadata": {
      "needs_background": "light"
     },
     "output_type": "display_data"
    }
   ],
   "source": [
    "uninfected_cell = imread(uninfected_cell_path)\n",
    "plt.imshow(uninfected_cell)"
   ]
  },
  {
   "cell_type": "markdown",
   "metadata": {
    "id": "ozw3janNyGI1"
   },
   "source": [
    "**Let's check how many images there are.**"
   ]
  },
  {
   "cell_type": "code",
   "execution_count": 22,
   "metadata": {
    "id": "AyIjBX6HyGI2",
    "outputId": "71940786-1398-4eec-e8c3-0470d122cca6"
   },
   "outputs": [
    {
     "data": {
      "text/plain": [
       "12480"
      ]
     },
     "execution_count": 22,
     "metadata": {},
     "output_type": "execute_result"
    }
   ],
   "source": [
    "len(os.listdir(train_path+'parasitized'))"
   ]
  },
  {
   "cell_type": "code",
   "execution_count": 23,
   "metadata": {
    "id": "B_qqqbbjyGI2",
    "outputId": "eea581a1-b8d5-472f-8272-00cb36e6cf45"
   },
   "outputs": [
    {
     "data": {
      "text/plain": [
       "12481"
      ]
     },
     "execution_count": 23,
     "metadata": {},
     "output_type": "execute_result"
    }
   ],
   "source": [
    "len(os.listdir(train_path+'uninfected'))"
   ]
  },
  {
   "cell_type": "markdown",
   "metadata": {
    "id": "M11aEESPyGI3"
   },
   "source": [
    "**Let's find out the average dimensions of these images.**"
   ]
  },
  {
   "cell_type": "code",
   "execution_count": 24,
   "metadata": {
    "id": "hDI2g2MTyGI3",
    "outputId": "829ebf6c-380d-461a-c9c6-97a413d3fd25"
   },
   "outputs": [
    {
     "data": {
      "text/plain": [
       "(124, 142, 3)"
      ]
     },
     "execution_count": 24,
     "metadata": {},
     "output_type": "execute_result"
    }
   ],
   "source": [
    "uninfected_cell.shape"
   ]
  },
  {
   "cell_type": "code",
   "execution_count": 25,
   "metadata": {
    "id": "JmYusxi-yGI3",
    "outputId": "514cfca8-cf4d-4548-942e-4f2d127858e7"
   },
   "outputs": [
    {
     "data": {
      "text/plain": [
       "(124, 154, 3)"
      ]
     },
     "execution_count": 25,
     "metadata": {},
     "output_type": "execute_result"
    }
   ],
   "source": [
    "para_img.shape"
   ]
  },
  {
   "cell_type": "code",
   "execution_count": 26,
   "metadata": {
    "id": "KU8vN3COyGI4"
   },
   "outputs": [],
   "source": [
    "x = []\n",
    "y = []\n",
    "for image in os.listdir(test_path+'uninfected'):\n",
    "    \n",
    "    img = imread(test_path+'uninfected/'+image)\n",
    "    d1,d2,_ = img.shape\n",
    "    x.append(d1)\n",
    "    y.append(d2)"
   ]
  },
  {
   "cell_type": "code",
   "execution_count": 27,
   "metadata": {
    "id": "uN5np7FCyGI4",
    "outputId": "1da1a9cd-dd03-42e8-dd38-2f08084ec76b",
    "tags": []
   },
   "outputs": [
    {
     "data": {
      "text/plain": [
       "[151,\n",
       " 124,\n",
       " 130,\n",
       " 142,\n",
       " 115,\n",
       " 142,\n",
       " 130,\n",
       " 136,\n",
       " 151,\n",
       " 127,\n",
       " 136,\n",
       " 106,\n",
       " 109,\n",
       " 130,\n",
       " 142,\n",
       " 133,\n",
       " 70,\n",
       " 175,\n",
       " 151,\n",
       " 130]"
      ]
     },
     "execution_count": 27,
     "metadata": {},
     "output_type": "execute_result"
    }
   ],
   "source": [
    "y[:20]"
   ]
  },
  {
   "cell_type": "code",
   "execution_count": 28,
   "metadata": {},
   "outputs": [
    {
     "data": {
      "text/plain": [
       "[130,\n",
       " 115,\n",
       " 109,\n",
       " 121,\n",
       " 136,\n",
       " 130,\n",
       " 154,\n",
       " 121,\n",
       " 163,\n",
       " 148,\n",
       " 136,\n",
       " 91,\n",
       " 115,\n",
       " 136,\n",
       " 118,\n",
       " 157,\n",
       " 94,\n",
       " 121,\n",
       " 124,\n",
       " 139]"
      ]
     },
     "execution_count": 28,
     "metadata": {},
     "output_type": "execute_result"
    }
   ],
   "source": [
    "x[:20]"
   ]
  },
  {
   "cell_type": "code",
   "execution_count": 29,
   "metadata": {},
   "outputs": [
    {
     "name": "stderr",
     "output_type": "stream",
     "text": [
      "/opt/conda/envs/tfgpu/lib/python3.10/site-packages/seaborn/_decorators.py:36: FutureWarning: Pass the following variables as keyword args: x, y. From version 0.12, the only valid positional argument will be `data`, and passing other arguments without an explicit keyword will result in an error or misinterpretation.\n",
      "  warnings.warn(\n"
     ]
    },
    {
     "data": {
      "text/plain": [
       "<AxesSubplot:>"
      ]
     },
     "execution_count": 29,
     "metadata": {},
     "output_type": "execute_result"
    },
    {
     "data": {
      "image/png": "[encoded data removed]",
      "text/plain": [
       "<Figure size 432x288 with 1 Axes>"
      ]
     },
     "metadata": {
      "needs_background": "light"
     },
     "output_type": "display_data"
    }
   ],
   "source": [
    "sns.scatterplot(x,y)"
   ]
  },
  {
   "cell_type": "code",
   "execution_count": 30,
   "metadata": {
    "id": "xkA-LSmJyGI5",
    "outputId": "45d0437a-4b69-498f-8c7a-f71694866426"
   },
   "outputs": [
    {
     "data": {
      "text/plain": [
       "130.92538461538462"
      ]
     },
     "execution_count": 30,
     "metadata": {},
     "output_type": "execute_result"
    }
   ],
   "source": [
    "np.mean(x)"
   ]
  },
  {
   "cell_type": "code",
   "execution_count": 31,
   "metadata": {
    "id": "7uqu0mzfyGI5",
    "outputId": "8bb3fcb8-00c9-4d31-bde7-9a0dafcf8120"
   },
   "outputs": [
    {
     "data": {
      "text/plain": [
       "130.75"
      ]
     },
     "execution_count": 31,
     "metadata": {},
     "output_type": "execute_result"
    }
   ],
   "source": [
    "np.mean(y)"
   ]
  },
  {
   "cell_type": "code",
   "execution_count": 32,
   "metadata": {
    "id": "E2kCYgOQyGI5"
   },
   "outputs": [],
   "source": [
    "image_shape = (130,130,3)"
   ]
  },
  {
   "cell_type": "markdown",
   "metadata": {
    "id": "Cc9Ey1zhyGI5"
   },
   "source": [
    "## Preparing the Data for the model"
   ]
  },
  {
   "cell_type": "code",
   "execution_count": 34,
   "metadata": {
    "id": "toDwf2JTyGI5",
    "outputId": "824c3441-edd2-4353-a2cd-83d59076dad8"
   },
   "outputs": [
    {
     "data": {
      "text/plain": [
       "0.99607843"
      ]
     },
     "execution_count": 34,
     "metadata": {},
     "output_type": "execute_result"
    }
   ],
   "source": [
    "uninfected_cell.max()"
   ]
  },
  {
   "cell_type": "code",
   "execution_count": 35,
   "metadata": {
    "id": "jgml-VO9yGI6",
    "outputId": "33f45bbd-afed-4434-ae37-2cf4c16eda9b"
   },
   "outputs": [
    {
     "data": {
      "text/plain": [
       "0.8901961"
      ]
     },
     "execution_count": 35,
     "metadata": {},
     "output_type": "execute_result"
    }
   ],
   "source": [
    "para_img.max()"
   ]
  },
  {
   "cell_type": "code",
   "execution_count": 36,
   "metadata": {
    "id": "-da3iZnSyGI6"
   },
   "outputs": [],
   "source": [
    "from tensorflow.keras.preprocessing.image import ImageDataGenerator"
   ]
  },
  {
   "cell_type": "code",
   "execution_count": 37,
   "metadata": {
    "id": "C4jI9UIJyGI6",
    "tags": []
   },
   "outputs": [],
   "source": [
    "#help(ImageDataGenerator)"
   ]
  },
  {
   "cell_type": "code",
   "execution_count": 38,
   "metadata": {
    "id": "4hYotfXGyGI6"
   },
   "outputs": [],
   "source": [
    "image_gen = ImageDataGenerator(rotation_range=15, \n",
    "                               width_shift_range=0.10, \n",
    "                               height_shift_range=0.10, \n",
    "                               #rescale=1/255, \n",
    "                               shear_range=0.1, \n",
    "                               zoom_range=0.1, \n",
    "                               horizontal_flip=True, \n",
    "                               fill_mode='nearest')"
   ]
  },
  {
   "cell_type": "code",
   "execution_count": 39,
   "metadata": {
    "id": "YkgwWRm0yGI7",
    "outputId": "646a473a-5a46-43af-9536-a466251d41a3"
   },
   "outputs": [
    {
     "data": {
      "text/plain": [
       "<matplotlib.image.AxesImage at 0x7fcbc9be2620>"
      ]
     },
     "execution_count": 39,
     "metadata": {},
     "output_type": "execute_result"
    },
    {
     "data": {
      "image/png": "[encoded data removed]",
      "text/plain": [
       "<Figure size 432x288 with 1 Axes>"
      ]
     },
     "metadata": {
      "needs_background": "light"
     },
     "output_type": "display_data"
    }
   ],
   "source": [
    "plt.imshow(para_img)"
   ]
  },
  {
   "cell_type": "code",
   "execution_count": 40,
   "metadata": {
    "id": "JvAditu3yGI7",
    "outputId": "bac51c1c-8ca6-496b-e08d-81e55fa39c79"
   },
   "outputs": [
    {
     "data": {
      "text/plain": [
       "<matplotlib.image.AxesImage at 0x7fcbc9a55a20>"
      ]
     },
     "execution_count": 40,
     "metadata": {},
     "output_type": "execute_result"
    },
    {
     "data": {
      "image/png": "[encoded data removed]",
      "text/plain": [
       "<Figure size 432x288 with 1 Axes>"
      ]
     },
     "metadata": {
      "needs_background": "light"
     },
     "output_type": "display_data"
    }
   ],
   "source": [
    "plt.imshow(image_gen.random_transform(para_img))"
   ]
  },
  {
   "cell_type": "code",
   "execution_count": 41,
   "metadata": {
    "id": "iLfrSbXeyGI7",
    "outputId": "64bcdceb-98fc-4eb5-900a-35fee4971d69"
   },
   "outputs": [
    {
     "name": "stdout",
     "output_type": "stream",
     "text": [
      "Found 24959 images belonging to 2 classes.\n"
     ]
    },
    {
     "data": {
      "text/plain": [
       "<keras.preprocessing.image.DirectoryIterator at 0x7fcc17970fa0>"
      ]
     },
     "execution_count": 41,
     "metadata": {},
     "output_type": "execute_result"
    }
   ],
   "source": [
    "image_gen.flow_from_directory(train_path)"
   ]
  },
  {
   "cell_type": "code",
   "execution_count": 43,
   "metadata": {
    "id": "1LZT1qN1yGI8",
    "outputId": "88ceea91-5c15-40b1-d05f-e8b417fdb3e7"
   },
   "outputs": [
    {
     "name": "stdout",
     "output_type": "stream",
     "text": [
      "Found 2600 images belonging to 2 classes.\n"
     ]
    },
    {
     "data": {
      "text/plain": [
       "<keras.preprocessing.image.DirectoryIterator at 0x7fcbc9a56470>"
      ]
     },
     "execution_count": 43,
     "metadata": {},
     "output_type": "execute_result"
    }
   ],
   "source": [
    "image_gen.flow_from_directory(test_path)"
   ]
  },
  {
   "cell_type": "markdown",
   "metadata": {
    "id": "0NEQcQp7yGI8"
   },
   "source": [
    "# Creating the Model"
   ]
  },
  {
   "cell_type": "code",
   "execution_count": 44,
   "metadata": {
    "id": "AIdvyrxlyGI8"
   },
   "outputs": [],
   "source": [
    "from tensorflow.keras.models import Sequential\n",
    "from tensorflow.keras.layers import Activation, Dropout, Flatten, Dense, Conv2D, MaxPooling2D"
   ]
  },
  {
   "cell_type": "code",
   "execution_count": 45,
   "metadata": {
    "id": "5VXwv5MnyGI8"
   },
   "outputs": [
    {
     "name": "stderr",
     "output_type": "stream",
     "text": [
      "2022-03-14 18:32:09.580785: I tensorflow/core/platform/cpu_feature_guard.cc:151] This TensorFlow binary is optimized with oneAPI Deep Neural Network Library (oneDNN) to use the following CPU instructions in performance-critical operations:  SSE4.1 SSE4.2 AVX AVX2 AVX512F FMA\n",
      "To enable them in other operations, rebuild TensorFlow with the appropriate compiler flags.\n",
      "2022-03-14 18:32:10.250378: I tensorflow/core/common_runtime/gpu/gpu_device.cc:1525] Created device /job:localhost/replica:0/task:0/device:GPU:0 with 38394 MB memory:  -> device: 0, name: A100-SXM4-40GB, pci bus id: 0000:00:04.0, compute capability: 8.0\n"
     ]
    }
   ],
   "source": [
    "model = Sequential()\n",
    "\n",
    "model.add(Conv2D(filters=64, kernel_size=(3,3),input_shape=image_shape, padding='same', activation='relu',))\n",
    "model.add(MaxPooling2D(pool_size=(2, 2)))\n",
    "\n",
    "model.add(Conv2D(filters=128, kernel_size=(3,3), padding='same', activation='relu',))\n",
    "model.add(Conv2D(filters=128, kernel_size=(3,3), padding='same', activation='relu',))\n",
    "model.add(MaxPooling2D(pool_size=(2, 2)))\n",
    "\n",
    "model.add(Conv2D(filters=256, kernel_size=(3,3), padding='same', activation='relu',))\n",
    "model.add(Conv2D(filters=256, kernel_size=(3,3), padding='same', activation='relu',))\n",
    "model.add(Conv2D(filters=256, kernel_size=(3,3), padding='same', activation='relu',))\n",
    "model.add(MaxPooling2D(pool_size=(2, 2)))\n",
    "\n",
    "model.add(Conv2D(filters=128, kernel_size=(3,3), padding='same', activation='relu',))\n",
    "model.add(MaxPooling2D(pool_size=(2, 2)))\n",
    "\n",
    "model.add(Conv2D(filters=64, kernel_size=(3,3), padding='same', activation='relu',))\n",
    "model.add(MaxPooling2D(pool_size=(2, 2)))\n",
    "\n",
    "\n",
    "model.add(Flatten())\n",
    "\n",
    "\n",
    "model.add(Dense(128))\n",
    "model.add(Activation('relu'))\n",
    "\n",
    "model.add(Dropout(0.5))\n",
    "\n",
    "model.add(Dense(1))\n",
    "model.add(Activation('sigmoid'))\n",
    "\n",
    "model.compile(loss='binary_crossentropy',\n",
    "              optimizer='adam',\n",
    "              metrics=['accuracy'])"
   ]
  },
  {
   "cell_type": "code",
   "execution_count": 46,
   "metadata": {
    "id": "_QJoTfEdyGI9",
    "outputId": "9a61bdf1-5548-4302-fb60-82fd199d64e0"
   },
   "outputs": [
    {
     "name": "stdout",
     "output_type": "stream",
     "text": [
      "Model: \"sequential\"\n",
      "_________________________________________________________________\n",
      " Layer (type)                Output Shape              Param #   \n",
      "=================================================================\n",
      " conv2d (Conv2D)             (None, 130, 130, 64)      1792      \n",
      "                                                                 \n",
      " max_pooling2d (MaxPooling2D  (None, 65, 65, 64)       0         \n",
      " )                                                               \n",
      "                                                                 \n",
      " conv2d_1 (Conv2D)           (None, 65, 65, 128)       73856     \n",
      "                                                                 \n",
      " conv2d_2 (Conv2D)           (None, 65, 65, 128)       147584    \n",
      "                                                                 \n",
      " max_pooling2d_1 (MaxPooling  (None, 32, 32, 128)      0         \n",
      " 2D)                                                             \n",
      "                                                                 \n",
      " conv2d_3 (Conv2D)           (None, 32, 32, 256)       295168    \n",
      "                                                                 \n",
      " conv2d_4 (Conv2D)           (None, 32, 32, 256)       590080    \n",
      "                                                                 \n",
      " conv2d_5 (Conv2D)           (None, 32, 32, 256)       590080    \n",
      "                                                                 \n",
      " max_pooling2d_2 (MaxPooling  (None, 16, 16, 256)      0         \n",
      " 2D)                                                             \n",
      "                                                                 \n",
      " conv2d_6 (Conv2D)           (None, 16, 16, 128)       295040    \n",
      "                                                                 \n",
      " max_pooling2d_3 (MaxPooling  (None, 8, 8, 128)        0         \n",
      " 2D)                                                             \n",
      "                                                                 \n",
      " conv2d_7 (Conv2D)           (None, 8, 8, 64)          73792     \n",
      "                                                                 \n",
      " max_pooling2d_4 (MaxPooling  (None, 4, 4, 64)         0         \n",
      " 2D)                                                             \n",
      "                                                                 \n",
      " flatten (Flatten)           (None, 1024)              0         \n",
      "                                                                 \n",
      " dense (Dense)               (None, 128)               131200    \n",
      "                                                                 \n",
      " activation (Activation)     (None, 128)               0         \n",
      "                                                                 \n",
      " dropout (Dropout)           (None, 128)               0         \n",
      "                                                                 \n",
      " dense_1 (Dense)             (None, 1)                 129       \n",
      "                                                                 \n",
      " activation_1 (Activation)   (None, 1)                 0         \n",
      "                                                                 \n",
      "=================================================================\n",
      "Total params: 2,198,721\n",
      "Trainable params: 2,198,721\n",
      "Non-trainable params: 0\n",
      "_________________________________________________________________\n"
     ]
    }
   ],
   "source": [
    "model.summary()"
   ]
  },
  {
   "cell_type": "markdown",
   "metadata": {
    "id": "j42pXlqfyGI9"
   },
   "source": [
    "## Early Stopping"
   ]
  },
  {
   "cell_type": "code",
   "execution_count": 47,
   "metadata": {
    "id": "42_fU9BgyGI9"
   },
   "outputs": [],
   "source": [
    "from tensorflow.keras.callbacks import EarlyStopping"
   ]
  },
  {
   "cell_type": "code",
   "execution_count": 48,
   "metadata": {
    "id": "iK59XS1qyGI-"
   },
   "outputs": [],
   "source": [
    "early_stop = EarlyStopping(monitor='val_loss',patience=5)"
   ]
  },
  {
   "cell_type": "markdown",
   "metadata": {
    "id": "QrN3SdBmyGI-"
   },
   "source": [
    "## Training the Model"
   ]
  },
  {
   "cell_type": "code",
   "execution_count": 49,
   "metadata": {
    "id": "_eXPvbMnyGI_"
   },
   "outputs": [],
   "source": [
    "#help(image_gen.flow_from_directory)"
   ]
  },
  {
   "cell_type": "code",
   "execution_count": 50,
   "metadata": {
    "id": "SIBZVLaIyGI_",
    "outputId": "324f6b80-334b-48c8-b5d1-c2c0ece1f279"
   },
   "outputs": [
    {
     "name": "stdout",
     "output_type": "stream",
     "text": [
      "Found 24959 images belonging to 2 classes.\n"
     ]
    }
   ],
   "source": [
    "batch_size = 32\n",
    "train_image_gen = image_gen.flow_from_directory(train_path,\n",
    "                                               target_size=(130,130),\n",
    "                                                color_mode='rgb',\n",
    "                                               batch_size=batch_size,\n",
    "                                               class_mode='binary', shuffle=True, seed=42)"
   ]
  },
  {
   "cell_type": "code",
   "execution_count": 51,
   "metadata": {
    "id": "knuURbmnyGI_",
    "outputId": "3a84a79f-711f-4129-8775-976d94e03ba3"
   },
   "outputs": [
    {
     "name": "stdout",
     "output_type": "stream",
     "text": [
      "Found 2600 images belonging to 2 classes.\n"
     ]
    }
   ],
   "source": [
    "test_image_gen = image_gen.flow_from_directory(test_path,\n",
    "                                               target_size=(130,130),\n",
    "                                               color_mode='rgb',\n",
    "                                               batch_size=batch_size,\n",
    "                                               class_mode='binary', shuffle=True, seed=42)"
   ]
  },
  {
   "cell_type": "code",
   "execution_count": 52,
   "metadata": {
    "id": "12yCh0kEyGJA",
    "outputId": "5c6de2ac-1210-47ad-a0d5-abf72b0d0a94"
   },
   "outputs": [
    {
     "data": {
      "text/plain": [
       "{'parasitized': 0, 'uninfected': 1}"
      ]
     },
     "execution_count": 52,
     "metadata": {},
     "output_type": "execute_result"
    }
   ],
   "source": [
    "train_image_gen.class_indices"
   ]
  },
  {
   "cell_type": "code",
   "execution_count": 53,
   "metadata": {},
   "outputs": [
    {
     "data": {
      "text/plain": [
       "{'parasitized': 0, 'uninfected': 1}"
      ]
     },
     "execution_count": 53,
     "metadata": {},
     "output_type": "execute_result"
    }
   ],
   "source": [
    "test_image_gen.class_indices"
   ]
  },
  {
   "cell_type": "code",
   "execution_count": 55,
   "metadata": {},
   "outputs": [],
   "source": [
    "STEP_SIZE_TRAIN=train_image_gen.n//train_image_gen.batch_size\n",
    "STEP_SIZE_TEST=test_image_gen.n//test_image_gen.batch_size"
   ]
  },
  {
   "cell_type": "code",
   "execution_count": 56,
   "metadata": {},
   "outputs": [
    {
     "data": {
      "text/plain": [
       "(779, 81)"
      ]
     },
     "execution_count": 56,
     "metadata": {},
     "output_type": "execute_result"
    }
   ],
   "source": [
    "STEP_SIZE_TRAIN, STEP_SIZE_TEST"
   ]
  },
  {
   "cell_type": "code",
   "execution_count": null,
   "metadata": {
    "id": "jSYdC6x_yGJA",
    "outputId": "ec9681ce-40df-4034-c4d4-bcff9919b2c4",
    "scrolled": true,
    "tags": []
   },
   "outputs": [
    {
     "name": "stdout",
     "output_type": "stream",
     "text": [
      "Epoch 1/20\n"
     ]
    },
    {
     "name": "stderr",
     "output_type": "stream",
     "text": [
      "2022-03-14 18:40:32.388747: I tensorflow/stream_executor/cuda/cuda_dnn.cc:366] Loaded cuDNN version 8201\n",
      "2022-03-14 18:40:34.677382: I tensorflow/stream_executor/cuda/cuda_blas.cc:1774] TensorFloat-32 will be used for the matrix multiplication. This will only be logged once.\n"
     ]
    },
    {
     "name": "stdout",
     "output_type": "stream",
     "text": [
      "779/779 [==============================] - 121s 150ms/step - loss: 0.7261 - accuracy: 0.5198 - val_loss: 0.7091 - val_accuracy: 0.5123\n",
      "Epoch 2/20\n",
      "779/779 [==============================] - 116s 149ms/step - loss: 0.6931 - accuracy: 0.5142 - val_loss: 0.6930 - val_accuracy: 0.5004\n",
      "Epoch 3/20\n",
      "779/779 [==============================] - 116s 149ms/step - loss: 0.5809 - accuracy: 0.6631 - val_loss: 0.2065 - val_accuracy: 0.9375\n",
      "Epoch 4/20\n",
      "779/779 [==============================] - 116s 149ms/step - loss: 0.1912 - accuracy: 0.9454 - val_loss: 0.1835 - val_accuracy: 0.9456\n",
      "Epoch 5/20\n",
      "779/779 [==============================] - 116s 148ms/step - loss: 0.1727 - accuracy: 0.9491 - val_loss: 0.1615 - val_accuracy: 0.9491\n",
      "Epoch 6/20\n",
      "779/779 [==============================] - 116s 149ms/step - loss: 0.1611 - accuracy: 0.9512 - val_loss: 0.1650 - val_accuracy: 0.9487\n",
      "Epoch 7/20\n",
      "779/779 [==============================] - 116s 149ms/step - loss: 0.1588 - accuracy: 0.9510 - val_loss: 0.1562 - val_accuracy: 0.9471\n",
      "Epoch 8/20\n",
      "779/779 [==============================] - 116s 149ms/step - loss: 0.1526 - accuracy: 0.9528 - val_loss: 0.1507 - val_accuracy: 0.9537\n",
      "Epoch 9/20\n",
      "779/779 [==============================] - 115s 148ms/step - loss: 0.1527 - accuracy: 0.9531 - val_loss: 0.1460 - val_accuracy: 0.9514\n",
      "Epoch 10/20\n",
      "779/779 [==============================] - 116s 149ms/step - loss: 0.1451 - accuracy: 0.9551 - val_loss: 0.1540 - val_accuracy: 0.9514\n",
      "Epoch 11/20\n",
      "779/779 [==============================] - 116s 148ms/step - loss: 0.1411 - accuracy: 0.9557 - val_loss: 0.1394 - val_accuracy: 0.9556\n",
      "Epoch 12/20\n",
      "779/779 [==============================] - 116s 149ms/step - loss: 0.1384 - accuracy: 0.9563 - val_loss: 0.1484 - val_accuracy: 0.9502\n",
      "Epoch 13/20\n",
      "779/779 [==============================] - 117s 150ms/step - loss: 0.1388 - accuracy: 0.9567 - val_loss: 0.1873 - val_accuracy: 0.9379\n",
      "Epoch 14/20\n",
      "779/779 [==============================] - 116s 149ms/step - loss: 0.1461 - accuracy: 0.9558 - val_loss: 0.1649 - val_accuracy: 0.9495\n",
      "Epoch 15/20\n",
      "779/779 [==============================] - 116s 149ms/step - loss: 0.1352 - accuracy: 0.9581 - val_loss: 0.1304 - val_accuracy: 0.9579\n",
      "Epoch 16/20\n",
      "779/779 [==============================] - 116s 149ms/step - loss: 0.1351 - accuracy: 0.9573 - val_loss: 0.1450 - val_accuracy: 0.9525\n",
      "Epoch 17/20\n",
      "779/779 [==============================] - 116s 150ms/step - loss: 0.1356 - accuracy: 0.9578 - val_loss: 0.1323 - val_accuracy: 0.9579\n",
      "Epoch 18/20\n",
      "779/779 [==============================] - 116s 149ms/step - loss: 0.1314 - accuracy: 0.9587 - val_loss: 0.1316 - val_accuracy: 0.9576\n",
      "Epoch 19/20\n",
      "779/779 [==============================] - ETA: 0s - loss: 0.1278 - accuracy: 0.9583"
     ]
    }
   ],
   "source": [
    "results = model.fit(train_image_gen,epochs=20,\n",
    "                    validation_data=test_image_gen,\n",
    "                    steps_per_epoch=STEP_SIZE_TRAIN,\n",
    "                    validation_steps=STEP_SIZE_TEST,\n",
    "                    callbacks=[early_stop])"
   ]
  },
  {
   "cell_type": "markdown",
   "metadata": {
    "id": "vZn8PTMVyGJA",
    "tags": []
   },
   "source": [
    "# Evaluating the Model"
   ]
  },
  {
   "cell_type": "code",
   "execution_count": 51,
   "metadata": {
    "id": "loJLAh7syGJA",
    "outputId": "7a13b0d0-c2ef-4449-ace2-cdaaf4bd15d2"
   },
   "outputs": [
    {
     "data": {
      "text/html": [
       "<div>\n",
       "<style scoped>\n",
       "    .dataframe tbody tr th:only-of-type {\n",
       "        vertical-align: middle;\n",
       "    }\n",
       "\n",
       "    .dataframe tbody tr th {\n",
       "        vertical-align: top;\n",
       "    }\n",
       "\n",
       "    .dataframe thead th {\n",
       "        text-align: right;\n",
       "    }\n",
       "</style>\n",
       "<table border=\"1\" class=\"dataframe\">\n",
       "  <thead>\n",
       "    <tr style=\"text-align: right;\">\n",
       "      <th></th>\n",
       "      <th>loss</th>\n",
       "      <th>accuracy</th>\n",
       "      <th>val_loss</th>\n",
       "      <th>val_accuracy</th>\n",
       "    </tr>\n",
       "  </thead>\n",
       "  <tbody>\n",
       "    <tr>\n",
       "      <th>0</th>\n",
       "      <td>0.726305</td>\n",
       "      <td>0.551111</td>\n",
       "      <td>0.683168</td>\n",
       "      <td>0.597222</td>\n",
       "    </tr>\n",
       "    <tr>\n",
       "      <th>1</th>\n",
       "      <td>0.487765</td>\n",
       "      <td>0.721375</td>\n",
       "      <td>0.292007</td>\n",
       "      <td>0.937886</td>\n",
       "    </tr>\n",
       "    <tr>\n",
       "      <th>2</th>\n",
       "      <td>0.179189</td>\n",
       "      <td>0.947806</td>\n",
       "      <td>0.187404</td>\n",
       "      <td>0.941358</td>\n",
       "    </tr>\n",
       "    <tr>\n",
       "      <th>3</th>\n",
       "      <td>0.166196</td>\n",
       "      <td>0.951416</td>\n",
       "      <td>0.167752</td>\n",
       "      <td>0.943673</td>\n",
       "    </tr>\n",
       "    <tr>\n",
       "      <th>4</th>\n",
       "      <td>0.156234</td>\n",
       "      <td>0.951938</td>\n",
       "      <td>0.153524</td>\n",
       "      <td>0.951389</td>\n",
       "    </tr>\n",
       "  </tbody>\n",
       "</table>\n",
       "</div>"
      ],
      "text/plain": [
       "       loss  accuracy  val_loss  val_accuracy\n",
       "0  0.726305  0.551111  0.683168      0.597222\n",
       "1  0.487765  0.721375  0.292007      0.937886\n",
       "2  0.179189  0.947806  0.187404      0.941358\n",
       "3  0.166196  0.951416  0.167752      0.943673\n",
       "4  0.156234  0.951938  0.153524      0.951389"
      ]
     },
     "execution_count": 51,
     "metadata": {},
     "output_type": "execute_result"
    }
   ],
   "source": [
    "summary = pd.DataFrame(model.history.history)\n",
    "summary.head()"
   ]
  },
  {
   "cell_type": "code",
   "execution_count": 52,
   "metadata": {
    "id": "u2grfsQmyGJB",
    "outputId": "654ad712-fbd1-46e5-971f-10905180b4a3"
   },
   "outputs": [
    {
     "data": {
      "image/png": "[encoded data removed]",
      "text/plain": [
       "<Figure size 720x432 with 1 Axes>"
      ]
     },
     "metadata": {
      "needs_background": "light"
     },
     "output_type": "display_data"
    }
   ],
   "source": [
    "plt.figure(figsize=(10,6))\n",
    "plt.plot(summary.loss, label=\"loss\")\n",
    "plt.plot(summary.val_loss, label=\"val_loss\")\n",
    "plt.legend(loc=\"upper right\")\n",
    "plt.ylabel(\"Loss\")\n",
    "plt.xlabel(\"Epoch\")\n",
    "plt.show()"
   ]
  },
  {
   "cell_type": "code",
   "execution_count": 53,
   "metadata": {
    "id": "jD4KIrKnyGJB",
    "outputId": "43e5a572-e8e9-422c-9f8e-3f86bb6dc979"
   },
   "outputs": [
    {
     "data": {
      "image/png": "[encoded data removed]",
      "text/plain": [
       "<Figure size 720x432 with 1 Axes>"
      ]
     },
     "metadata": {
      "needs_background": "light"
     },
     "output_type": "display_data"
    }
   ],
   "source": [
    "plt.figure(figsize=(10,6))\n",
    "plt.plot(summary.accuracy, label=\"accuracy\")\n",
    "plt.plot(summary.val_accuracy, label=\"val_accuracy\")\n",
    "plt.legend(loc=\"upper left\")\n",
    "plt.ylabel(\"Accuracy\")\n",
    "plt.xlabel(\"Epoch\")\n",
    "plt.show()"
   ]
  },
  {
   "cell_type": "code",
   "execution_count": 54,
   "metadata": {
    "id": "GTPA47R7yGJB",
    "outputId": "164c2da2-7f9f-4989-92a3-23dea02fe67e"
   },
   "outputs": [
    {
     "data": {
      "text/plain": [
       "['loss', 'accuracy']"
      ]
     },
     "execution_count": 54,
     "metadata": {},
     "output_type": "execute_result"
    }
   ],
   "source": [
    "model.metrics_names"
   ]
  },
  {
   "cell_type": "markdown",
   "metadata": {},
   "source": [
    "we should sample the images in the validation set exactly once(if you are planning to evaluate, you need to change the batch size of the valid generator to 1 or something that exactly divides the total num of samples in validation set), but the order doesn’t matter so let “shuffle” be True as it was earlier."
   ]
  },
  {
   "cell_type": "code",
   "execution_count": 55,
   "metadata": {
    "id": "lnTF0Q66yGJB",
    "outputId": "a8ce4d56-298f-4e35-a9ad-9997e9eca598"
   },
   "outputs": [
    {
     "ename": "TypeError",
     "evalue": "Invalid keyword arguments: ({'generator': <keras.preprocessing.image.DirectoryIterator object at 0x7fe415155990>},)",
     "output_type": "error",
     "traceback": [
      "\u001b[0;31m---------------------------------------------------------------------------\u001b[0m",
      "\u001b[0;31mTypeError\u001b[0m                                 Traceback (most recent call last)",
      "Input \u001b[0;32mIn [55]\u001b[0m, in \u001b[0;36m<cell line: 1>\u001b[0;34m()\u001b[0m\n\u001b[0;32m----> 1\u001b[0m \u001b[43mmodel\u001b[49m\u001b[38;5;241;43m.\u001b[39;49m\u001b[43mevaluate\u001b[49m\u001b[43m(\u001b[49m\u001b[43mgenerator\u001b[49m\u001b[38;5;241;43m=\u001b[39;49m\u001b[43mtest_image_gen\u001b[49m\u001b[43m,\u001b[49m\n\u001b[1;32m      2\u001b[0m \u001b[43msteps\u001b[49m\u001b[38;5;241;43m=\u001b[39;49m\u001b[43mSTEP_SIZE_TEST\u001b[49m\u001b[43m)\u001b[49m\n",
      "File \u001b[0;32m/opt/conda/envs/tfgpu/lib/python3.10/site-packages/keras/utils/traceback_utils.py:67\u001b[0m, in \u001b[0;36mfilter_traceback.<locals>.error_handler\u001b[0;34m(*args, **kwargs)\u001b[0m\n\u001b[1;32m     65\u001b[0m \u001b[38;5;28;01mexcept\u001b[39;00m \u001b[38;5;167;01mException\u001b[39;00m \u001b[38;5;28;01mas\u001b[39;00m e:  \u001b[38;5;66;03m# pylint: disable=broad-except\u001b[39;00m\n\u001b[1;32m     66\u001b[0m   filtered_tb \u001b[38;5;241m=\u001b[39m _process_traceback_frames(e\u001b[38;5;241m.\u001b[39m__traceback__)\n\u001b[0;32m---> 67\u001b[0m   \u001b[38;5;28;01mraise\u001b[39;00m e\u001b[38;5;241m.\u001b[39mwith_traceback(filtered_tb) \u001b[38;5;28;01mfrom\u001b[39;00m \u001b[38;5;28mNone\u001b[39m\n\u001b[1;32m     68\u001b[0m \u001b[38;5;28;01mfinally\u001b[39;00m:\n\u001b[1;32m     69\u001b[0m   \u001b[38;5;28;01mdel\u001b[39;00m filtered_tb\n",
      "File \u001b[0;32m/opt/conda/envs/tfgpu/lib/python3.10/site-packages/keras/engine/training.py:1489\u001b[0m, in \u001b[0;36mModel.evaluate\u001b[0;34m(self, x, y, batch_size, verbose, sample_weight, steps, callbacks, max_queue_size, workers, use_multiprocessing, return_dict, **kwargs)\u001b[0m\n\u001b[1;32m   1487\u001b[0m use_cached_eval_dataset \u001b[38;5;241m=\u001b[39m kwargs\u001b[38;5;241m.\u001b[39mpop(\u001b[38;5;124m'\u001b[39m\u001b[38;5;124m_use_cached_eval_dataset\u001b[39m\u001b[38;5;124m'\u001b[39m, \u001b[38;5;28;01mFalse\u001b[39;00m)\n\u001b[1;32m   1488\u001b[0m \u001b[38;5;28;01mif\u001b[39;00m kwargs:\n\u001b[0;32m-> 1489\u001b[0m   \u001b[38;5;28;01mraise\u001b[39;00m \u001b[38;5;167;01mTypeError\u001b[39;00m(\u001b[38;5;124mf\u001b[39m\u001b[38;5;124m'\u001b[39m\u001b[38;5;124mInvalid keyword arguments: \u001b[39m\u001b[38;5;132;01m{\u001b[39;00m(kwargs,)\u001b[38;5;132;01m}\u001b[39;00m\u001b[38;5;124m'\u001b[39m)\n\u001b[1;32m   1491\u001b[0m \u001b[38;5;28;01mif\u001b[39;00m \u001b[38;5;28mself\u001b[39m\u001b[38;5;241m.\u001b[39mdistribute_strategy\u001b[38;5;241m.\u001b[39m_should_use_with_coordinator:  \u001b[38;5;66;03m# pylint: disable=protected-access\u001b[39;00m\n\u001b[1;32m   1492\u001b[0m   \u001b[38;5;28mself\u001b[39m\u001b[38;5;241m.\u001b[39m_cluster_coordinator \u001b[38;5;241m=\u001b[39m tf\u001b[38;5;241m.\u001b[39mdistribute\u001b[38;5;241m.\u001b[39mexperimental\u001b[38;5;241m.\u001b[39mcoordinator\u001b[38;5;241m.\u001b[39mClusterCoordinator(\n\u001b[1;32m   1493\u001b[0m       \u001b[38;5;28mself\u001b[39m\u001b[38;5;241m.\u001b[39mdistribute_strategy)\n",
      "\u001b[0;31mTypeError\u001b[0m: Invalid keyword arguments: ({'generator': <keras.preprocessing.image.DirectoryIterator object at 0x7fe415155990>},)"
     ]
    }
   ],
   "source": [
    "model.evaluate(test_image_gen,\n",
    "steps=STEP_SIZE_TEST)"
   ]
  },
  {
   "cell_type": "code",
   "execution_count": null,
   "metadata": {
    "id": "ZCo0yg6PyGJC"
   },
   "outputs": [],
   "source": [
    "from tensorflow.keras.preprocessing import image"
   ]
  },
  {
   "cell_type": "code",
   "execution_count": null,
   "metadata": {
    "id": "2aSpYj9LyGJC"
   },
   "outputs": [],
   "source": [
    "pred_probabilities = model.predict(test_image_gen)"
   ]
  },
  {
   "cell_type": "code",
   "execution_count": null,
   "metadata": {
    "id": "5jVh9p-1yGJC",
    "outputId": "995852ca-8b58-409c-857c-4e1bd2263a6f"
   },
   "outputs": [],
   "source": [
    "pred_probabilities"
   ]
  },
  {
   "cell_type": "code",
   "execution_count": null,
   "metadata": {
    "id": "d6fxjzltyGJC",
    "outputId": "d17145e2-3fcb-4df9-97aa-d6a708e06e8f"
   },
   "outputs": [],
   "source": [
    "test_image_gen.classes"
   ]
  },
  {
   "cell_type": "code",
   "execution_count": null,
   "metadata": {},
   "outputs": [],
   "source": [
    "pred_probabilities"
   ]
  },
  {
   "cell_type": "code",
   "execution_count": null,
   "metadata": {
    "id": "cfC-SV7xyGJC"
   },
   "outputs": [],
   "source": [
    "predictions = pred_probabilities > 0.5"
   ]
  },
  {
   "cell_type": "code",
   "execution_count": null,
   "metadata": {
    "id": "jbQXSglqyGJD",
    "outputId": "7b8fbfb6-e0df-4115-ab06-20690eeb2aee"
   },
   "outputs": [],
   "source": [
    "predictions[:100]"
   ]
  },
  {
   "cell_type": "code",
   "execution_count": null,
   "metadata": {
    "id": "XAdk4L8WyGJD"
   },
   "outputs": [],
   "source": [
    "from sklearn.metrics import classification_report,confusion_matrix"
   ]
  },
  {
   "cell_type": "code",
   "execution_count": null,
   "metadata": {
    "id": "O-YOZuolyGJD",
    "outputId": "de6a65a3-5ebc-44ed-97a5-7ce731a995d2"
   },
   "outputs": [],
   "source": [
    "print(classification_report(test_image_gen.classes,predictions))"
   ]
  },
  {
   "cell_type": "code",
   "execution_count": null,
   "metadata": {
    "id": "OaLqsbwyyGJD",
    "outputId": "c51e82e1-66f7-49a2-a19e-ecdb8e8db13b"
   },
   "outputs": [],
   "source": [
    "confusion_matrix(test_image_gen.classes,predictions)"
   ]
  },
  {
   "cell_type": "code",
   "execution_count": null,
   "metadata": {
    "id": "XFsDYmx1yGJF"
   },
   "outputs": [],
   "source": [
    "#model.save('malaria_model.h5')"
   ]
  },
  {
   "cell_type": "markdown",
   "metadata": {
    "id": "oQB-AVGRyGJF"
   },
   "source": [
    "# Predicting on an Image"
   ]
  },
  {
   "cell_type": "code",
   "execution_count": null,
   "metadata": {
    "id": "z1EX1D1ryGJF",
    "outputId": "66ef66b1-2e07-490d-b6b6-5097baac5f13"
   },
   "outputs": [],
   "source": [
    "para_cell"
   ]
  },
  {
   "cell_type": "code",
   "execution_count": null,
   "metadata": {
    "id": "xJnaWQcnyGJF"
   },
   "outputs": [],
   "source": [
    "my_image = image.load_img(para_cell,target_size=image_shape)"
   ]
  },
  {
   "cell_type": "code",
   "execution_count": null,
   "metadata": {},
   "outputs": [],
   "source": [
    "tf.keras.preprocessing.image.smart_resize(para_img, image_shape)"
   ]
  },
  {
   "cell_type": "code",
   "execution_count": null,
   "metadata": {
    "id": "Vj1KNBEnyGJG",
    "outputId": "1b6f75fd-9c6e-4a66-caeb-f158e11bdaa3"
   },
   "outputs": [],
   "source": [
    "my_image"
   ]
  },
  {
   "cell_type": "code",
   "execution_count": null,
   "metadata": {
    "id": "RAomlcwXyGJG",
    "outputId": "47c6cf9d-93ca-488a-9759-1213df51f0c2"
   },
   "outputs": [],
   "source": [
    "type(my_image)"
   ]
  },
  {
   "cell_type": "code",
   "execution_count": null,
   "metadata": {
    "id": "h_8_dFYOyGJH"
   },
   "outputs": [],
   "source": [
    "my_image = image.img_to_array(my_image)"
   ]
  },
  {
   "cell_type": "code",
   "execution_count": null,
   "metadata": {
    "id": "x0SDzKj1yGJH",
    "outputId": "8c838e0a-d3e2-4d37-fe77-3cd0ab98b6f6"
   },
   "outputs": [],
   "source": [
    "type(my_image)"
   ]
  },
  {
   "cell_type": "code",
   "execution_count": null,
   "metadata": {
    "id": "PQaOgbqoyGJH",
    "outputId": "23dba4e4-c921-41e2-f8d2-7a1a9fc67f49"
   },
   "outputs": [],
   "source": [
    "my_image.shape"
   ]
  },
  {
   "cell_type": "code",
   "execution_count": null,
   "metadata": {
    "id": "5oQ9QaVpyGJH"
   },
   "outputs": [],
   "source": [
    "my_image = np.expand_dims(my_image, axis=0)"
   ]
  },
  {
   "cell_type": "code",
   "execution_count": null,
   "metadata": {
    "id": "lqAXKrXqyGJH",
    "outputId": "b87c2253-8e69-4bca-ef32-73898c1f7fac"
   },
   "outputs": [],
   "source": [
    "my_image.shape"
   ]
  },
  {
   "cell_type": "code",
   "execution_count": null,
   "metadata": {
    "id": "kANFISzNyGJI",
    "outputId": "add100ac-1459-46e8-c82f-188b4d9171b3"
   },
   "outputs": [],
   "source": [
    "model.predict(my_image)"
   ]
  },
  {
   "cell_type": "code",
   "execution_count": null,
   "metadata": {
    "id": "XZqaf6IbyGJI",
    "outputId": "a12ef9c6-ddb4-4927-8133-53c7f26267ca"
   },
   "outputs": [],
   "source": [
    "train_image_gen.class_indices"
   ]
  },
  {
   "cell_type": "code",
   "execution_count": null,
   "metadata": {
    "id": "PcaLwwCPyGJI",
    "outputId": "daf91bcb-83f0-4f05-d1b1-ec8d642219cd"
   },
   "outputs": [],
   "source": [
    "test_image_gen.class_indices"
   ]
  },
  {
   "cell_type": "code",
   "execution_count": null,
   "metadata": {
    "id": "P9I5qw9tyGJJ"
   },
   "outputs": [],
   "source": []
  },
  {
   "cell_type": "code",
   "execution_count": null,
   "metadata": {},
   "outputs": [],
   "source": []
  }
 ],
 "metadata": {
  "colab": {
   "name": "DL-S7 (CNN Image Classification-Malaria)-03 Nov 2021.ipynb",
   "provenance": []
  },
  "kernelspec": {
   "display_name": "Python [conda env:tfgpu]",
   "language": "python",
   "name": "conda-env-tfgpu-py"
  },
  "language_info": {
   "codemirror_mode": {
    "name": "ipython",
    "version": 3
   },
   "file_extension": ".py",
   "mimetype": "text/x-python",
   "name": "python",
   "nbconvert_exporter": "python",
   "pygments_lexer": "ipython3",
   "version": "3.10.2"
  }
 },
 "nbformat": 4,
 "nbformat_minor": 4
}
