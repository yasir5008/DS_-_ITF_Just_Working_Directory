{
 "cells": [
  {
   "cell_type": "code",
   "execution_count": 2,
   "source": [
    "def sirala(text):\r\n",
    "    harf, rakam = [], []\r\n",
    "    for i in text:\r\n",
    "        if i.isalpha():harf.append(i)\r\n",
    "        else:rakam.append(i)\r\n",
    "    harf.sort()\r\n",
    "    rakam.sort()\r\n",
    "    toplam = harf + rakam\r\n",
    "    sonuc = ''.join(toplam)\r\n",
    "    return sonuc\r\n",
    "\r\n",
    "sirala('MHsdaf1412MMT1453')"
   ],
   "outputs": [
    {
     "output_type": "execute_result",
     "data": {
      "text/plain": [
       "'HMMMTadfs11123445'"
      ]
     },
     "metadata": {},
     "execution_count": 2
    }
   ],
   "metadata": {}
  },
  {
   "cell_type": "code",
   "execution_count": 3,
   "source": [
    "def sort_char(text):\r\n",
    "\r\n",
    "  letters = filter(lambda x: x.isalpha(), text)\r\n",
    "  nums = filter(lambda x: x.isnumeric(), text)\r\n",
    "\r\n",
    "  return \"\".join(sorted(letters) + sorted(nums))\r\n",
    "\r\n",
    "sort_char(\"MHMMT1453\")"
   ],
   "outputs": [
    {
     "output_type": "execute_result",
     "data": {
      "text/plain": [
       "'HMMMT1345'"
      ]
     },
     "metadata": {},
     "execution_count": 3
    }
   ],
   "metadata": {}
  },
  {
   "cell_type": "code",
   "execution_count": 4,
   "source": [
    "text = \"Welcome to the Data Science Path!\"\r\n",
    "\r\n",
    "even_pos = \"\".join([text[x] for x in range(0, len(text), 2)])\r\n",
    "odd_pos = \"\".join([text[x] for x in range(1, len(text), 2)])\r\n",
    "\r\n",
    "print(\"Characters at Even Position: \", even_pos)\r\n",
    "print(\"Characters at Odd Position: \", odd_pos)"
   ],
   "outputs": [
    {
     "output_type": "stream",
     "name": "stdout",
     "text": [
      "Characters at Even Position:  Wloet h aaSinePt!\n",
      "Characters at Odd Position:  ecm oteDt cec ah\n"
     ]
    }
   ],
   "metadata": {}
  },
  {
   "cell_type": "code",
   "execution_count": null,
   "source": [
    "text = \"Welcome to the Data Science Path!\"\r\n",
    "odd = ''.join(list(map(lambda x : text[x] if x % 2 != 0 else '', list(range(len(text))))))\r\n",
    "even = ''.join(list(map(lambda x : text[x] if x % 2 == 0 else '', list(range(len(text))))))\r\n",
    "print('Characters at Even Position: ', even)\r\n",
    "print('Characters at Odd Position: ', odd)"
   ],
   "outputs": [],
   "metadata": {}
  },
  {
   "cell_type": "code",
   "execution_count": 5,
   "source": [
    "liste = [('b', 1), ('c', 2), ('x', 3), ('x', 4), ('z', 0)]\n",
    "liste = sorted([i[::-1] for i in liste])\n",
    "liste = [i[::-1] for i in liste]\n",
    "print(liste)"
   ],
   "outputs": [
    {
     "output_type": "stream",
     "name": "stdout",
     "text": [
      "[('z', 0), ('b', 1), ('c', 2), ('x', 3), ('x', 4)]\n"
     ]
    }
   ],
   "metadata": {}
  },
  {
   "cell_type": "code",
   "execution_count": 6,
   "source": [
    "input=[(\"b\",1),(\"c\",2),(\"x\",3),(\"x\",4),(\"z\",0)]\n",
    "dicct={i:j for j,i in input}\n",
    "output=[(dicct[k],k) for k in sorted(dicct.keys())]\n",
    "print(output)"
   ],
   "outputs": [
    {
     "output_type": "stream",
     "name": "stdout",
     "text": [
      "[('z', 0), ('b', 1), ('c', 2), ('x', 3), ('x', 4)]\n"
     ]
    }
   ],
   "metadata": {}
  },
  {
   "cell_type": "markdown",
   "source": [
    "Herkese iyi akşamlar, iyi hafta sonları:woman-raising-hand:\n",
    "This problem was asked by Microsoft.\n",
    "Compute the running median of a sequence of numbers. That is, given a\n",
    "stream of numbers, print out the median of the list so far on each new\n",
    "element.\n",
    "Recall that the median of an even-numbered list is the average of the two\n",
    "middle numbers.\n",
    "For example, given the sequence [2, 1, 5, 7, 2, 0, 5], your algorithm\n",
    "should print out:\n",
    "2\n",
    "1.5\n",
    "2\n",
    "3.5\n",
    "2\n",
    "2\n",
    "2"
   ],
   "metadata": {}
  },
  {
   "cell_type": "code",
   "execution_count": null,
   "source": [
    "def median(liste):\n",
    "    for i in range(len(liste)):\n",
    "        new = []\n",
    "        new.extend(liste[:i + 1])\n",
    "        new.sort()\n",
    "        if len(new) == 1:\n",
    "            b = new[0]\n",
    "        elif len(new) % 2 == 0:\n",
    "            a = len(new) // 2\n",
    "            b = (new[a - 1] + new[a]) / 2\n",
    "            if b == int(b):\n",
    "                b = int(b)\n",
    "        elif len(new) % 2 != 0:\n",
    "            a = len(new) // 2\n",
    "            b = new[a]\n",
    "        print(b)\n",
    "\n",
    "median([2, 1, 5, 7, 2, 0, 5])"
   ],
   "outputs": [],
   "metadata": {}
  },
  {
   "cell_type": "code",
   "execution_count": null,
   "source": [
    "def sayı(n):\n",
    "  t=1\n",
    "  l=[]\n",
    "  z=[]\n",
    "  for i in range(len(n)):\n",
    "    x=n[:t]\n",
    "    l+=[sorted(x)]\n",
    "    t+=1\n",
    "  for j in l:\n",
    "          if len(j)==1:\n",
    "              a=j[0]\n",
    "              z.append(a)\n",
    "          elif len(j)%2==0:\n",
    "              y=len(j)//2\n",
    "              a=(j[y]+j[y-1])/2\n",
    "              z.append(a)\n",
    "          else:\n",
    "              y=len(j)//2\n",
    "              a=j[y]\n",
    "              z.append(a)\n",
    "  return z\n",
    "print(sayı([2, 1, 5, 7, 2, 0, 5]))"
   ],
   "outputs": [],
   "metadata": {}
  },
  {
   "cell_type": "code",
   "execution_count": null,
   "source": [
    "import statistics as sta\n",
    "dizi= [2, 1, 5, 7, 2, 0, 5]\n",
    "print([sta.median(dizi[:i]) for i in range(1,len(dizi)+1)])"
   ],
   "outputs": [],
   "metadata": {
    "pycharm": {
     "name": "#%%\n"
    }
   }
  },
  {
   "cell_type": "code",
   "execution_count": null,
   "source": [
    "import numpy as np\n"
   ],
   "outputs": [],
   "metadata": {
    "collapsed": false,
    "pycharm": {
     "name": "#%%\n"
    }
   }
  }
 ],
 "metadata": {
  "orig_nbformat": 4,
  "language_info": {
   "name": "python",
   "version": "3.9.7",
   "mimetype": "text/x-python",
   "codemirror_mode": {
    "name": "ipython",
    "version": 3
   },
   "pygments_lexer": "ipython3",
   "nbconvert_exporter": "python",
   "file_extension": ".py"
  },
  "kernelspec": {
   "name": "python3",
   "display_name": "Python 3.9.7 64-bit (windows store)"
  },
  "interpreter": {
   "hash": "f54f548834cd5004815cf7c2a98e656c3454a16c8c6270de2968c01c213389d4"
  }
 },
 "nbformat": 4,
 "nbformat_minor": 2
}