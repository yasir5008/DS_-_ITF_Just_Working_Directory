{
 "cells": [
  {
   "cell_type": "code",
   "execution_count": 2,
   "metadata": {},
   "outputs": [
    {
     "data": {
      "text/plain": [
       "'HMMMTadfs11123445'"
      ]
     },
     "execution_count": 2,
     "metadata": {},
     "output_type": "execute_result"
    }
   ],
   "source": [
    "def sirala(text):\n",
    "    harf, rakam = [], []\n",
    "    for i in text:\n",
    "        if i.isalpha():harf.append(i)\n",
    "        else:rakam.append(i)\n",
    "    harf.sort()\n",
    "    rakam.sort()\n",
    "    toplam = harf + rakam\n",
    "    sonuc = ''.join(toplam)\n",
    "    return sonuc\n",
    "\n",
    "sirala('MHsdaf1412MMT1453')"
   ]
  },
  {
   "cell_type": "code",
   "execution_count": 3,
   "metadata": {},
   "outputs": [
    {
     "data": {
      "text/plain": [
       "'HMMMT1345'"
      ]
     },
     "execution_count": 3,
     "metadata": {},
     "output_type": "execute_result"
    }
   ],
   "source": [
    "def sort_char(text):\n",
    "\n",
    "  letters = filter(lambda x: x.isalpha(), text)\n",
    "  nums = filter(lambda x: x.isnumeric(), text)\n",
    "\n",
    "  return \"\".join(sorted(letters) + sorted(nums))\n",
    "\n",
    "sort_char(\"MHMMT1453\")"
   ]
  },
  {
   "cell_type": "code",
   "execution_count": 4,
   "metadata": {},
   "outputs": [
    {
     "name": "stdout",
     "output_type": "stream",
     "text": [
      "Characters at Even Position:  Wloet h aaSinePt!\n",
      "Characters at Odd Position:  ecm oteDt cec ah\n"
     ]
    }
   ],
   "source": [
    "text = \"Welcome to the Data Science Path!\"\n",
    "\n",
    "even_pos = \"\".join([text[x] for x in range(0, len(text), 2)])\n",
    "odd_pos = \"\".join([text[x] for x in range(1, len(text), 2)])\n",
    "\n",
    "print(\"Characters at Even Position: \", even_pos)\n",
    "print(\"Characters at Odd Position: \", odd_pos)"
   ]
  },
  {
   "cell_type": "code",
   "execution_count": null,
   "metadata": {},
   "outputs": [],
   "source": [
    "text = \"Welcome to the Data Science Path!\"\n",
    "odd = ''.join(list(map(lambda x : text[x] if x % 2 != 0 else '', list(range(len(text))))))\n",
    "even = ''.join(list(map(lambda x : text[x] if x % 2 == 0 else '', list(range(len(text))))))\n",
    "print('Characters at Even Position: ', even)\n",
    "print('Characters at Odd Position: ', odd)"
   ]
  },
  {
   "cell_type": "code",
   "execution_count": 5,
   "metadata": {},
   "outputs": [
    {
     "name": "stdout",
     "output_type": "stream",
     "text": [
      "[('z', 0), ('b', 1), ('c', 2), ('x', 3), ('x', 4)]\n"
     ]
    }
   ],
   "source": [
    "liste = [('b', 1), ('c', 2), ('x', 3), ('x', 4), ('z', 0)]\n",
    "liste = sorted([i[::-1] for i in liste])\n",
    "liste = [i[::-1] for i in liste]\n",
    "print(liste)"
   ]
  },
  {
   "cell_type": "code",
   "execution_count": 6,
   "metadata": {},
   "outputs": [
    {
     "name": "stdout",
     "output_type": "stream",
     "text": [
      "[('z', 0), ('b', 1), ('c', 2), ('x', 3), ('x', 4)]\n"
     ]
    }
   ],
   "source": [
    "input=[(\"b\",1),(\"c\",2),(\"x\",3),(\"x\",4),(\"z\",0)]\n",
    "dicct={i:j for j,i in input}\n",
    "output=[(dicct[k],k) for k in sorted(dicct.keys())]\n",
    "print(output)"
   ]
  },
  {
   "cell_type": "markdown",
   "metadata": {},
   "source": [
    "Herkese iyi akşamlar, iyi hafta sonları:woman-raising-hand:\n",
    "This problem was asked by Microsoft.\n",
    "Compute the running median of a sequence of numbers. That is, given a\n",
    "stream of numbers, print out the median of the list so far on each new\n",
    "element.\n",
    "Recall that the median of an even-numbered list is the average of the two\n",
    "middle numbers.\n",
    "For example, given the sequence [2, 1, 5, 7, 2, 0, 5], your algorithm\n",
    "should print out:\n",
    "2\n",
    "1.5\n",
    "2\n",
    "3.5\n",
    "2\n",
    "2\n",
    "2"
   ]
  },
  {
   "cell_type": "code",
   "execution_count": null,
   "metadata": {},
   "outputs": [],
   "source": [
    "def median(liste):\n",
    "    for i in range(len(liste)):\n",
    "        new = []\n",
    "        new.extend(liste[:i + 1])\n",
    "        new.sort()\n",
    "        if len(new) == 1:\n",
    "            b = new[0]\n",
    "        elif len(new) % 2 == 0:\n",
    "            a = len(new) // 2\n",
    "            b = (new[a - 1] + new[a]) / 2\n",
    "            if b == int(b):\n",
    "                b = int(b)\n",
    "        elif len(new) % 2 != 0:\n",
    "            a = len(new) // 2\n",
    "            b = new[a]\n",
    "        print(b)\n",
    "\n",
    "median([2, 1, 5, 7, 2, 0, 5])"
   ]
  },
  {
   "cell_type": "code",
   "execution_count": null,
   "metadata": {},
   "outputs": [],
   "source": [
    "def sayı(n):\n",
    "  t=1\n",
    "  l=[]\n",
    "  z=[]\n",
    "  for i in range(len(n)):\n",
    "    x=n[:t]\n",
    "    l+=[sorted(x)]\n",
    "    t+=1\n",
    "  for j in l:\n",
    "          if len(j)==1:\n",
    "              a=j[0]\n",
    "              z.append(a)\n",
    "          elif len(j)%2==0:\n",
    "              y=len(j)//2\n",
    "              a=(j[y]+j[y-1])/2\n",
    "              z.append(a)\n",
    "          else:\n",
    "              y=len(j)//2\n",
    "              a=j[y]\n",
    "              z.append(a)\n",
    "  return z\n",
    "print(sayı([2, 1, 5, 7, 2, 0, 5]))"
   ]
  },
  {
   "cell_type": "code",
   "execution_count": null,
   "metadata": {
    "pycharm": {
     "name": "#%%\n"
    }
   },
   "outputs": [],
   "source": [
    "import statistics as sta\n",
    "dizi= [2, 1, 5, 7, 2, 0, 5]\n",
    "print([sta.median(dizi[:i]) for i in range(1,len(dizi)+1)])"
   ]
  },
  {
   "cell_type": "code",
   "execution_count": null,
   "metadata": {
    "collapsed": false,
    "pycharm": {
     "name": "#%%\n"
    }
   },
   "outputs": [],
   "source": [
    "import numpy as np\n"
   ]
  },
  {
   "cell_type": "markdown",
   "metadata": {},
   "source": [
    "This problem was asked by Google.\n",
    "We can determine how \"out of order\" an array A is by counting the number of inversions it has. Two elements A[i] and A[j] form an inversion if A[i] > A[j] but i < j. That is, a smaller element appears after a larger element. Given an array, count the number of inversions it has. Do this faster than O(N^2) time. You may assume each element in the array is distinct. For example, a sorted list has zero inversions. The array [2, 4, 1, 3, 5] has three inversions: (2, 1), (4, 1), and (4, 3). The array [5, 4, 3, 2, 1] has ten inversions: every distinct pair forms an inversion."
   ]
  },
  {
   "cell_type": "code",
   "execution_count": null,
   "metadata": {},
   "outputs": [],
   "source": [
    "def out_of_order(liste):\n",
    "    a, res = 1, []\n",
    "    for i in liste[:-1]:\n",
    "        for j in liste[a:]:\n",
    "            if i > j:\n",
    "                if [i,j] not in res:\n",
    "                    res.append([i,j])\n",
    "        a += 1\n",
    "    return len(res)\n",
    "\n",
    "out_of_order([5, 4, 3, 2, 1])"
   ]
  },
  {
   "cell_type": "code",
   "execution_count": null,
   "metadata": {},
   "outputs": [],
   "source": [
    "def sayı(n):\n",
    "  l=[]\n",
    "  for i in n:\n",
    "    for j in n[n.index(i)+1:]:\n",
    "      if i>j:\n",
    "        l+=[(i,j)]\n",
    "  return len(l)\n",
    "print(sayı( [5, 4, 3, 2, 1] ))"
   ]
  },
  {
   "cell_type": "markdown",
   "metadata": {},
   "source": [
    "Merhaba herkese iyi hafta sonları:hugging_face:\n",
    "This problem was asked by Two Sigma.\n",
    "Using a function rand5() that returns an integer from 1 to 5 (inclusive)\n",
    "with uniform probability, implement a function rand7() that returns an\n",
    "integer from 1 to 7 (inclusive)."
   ]
  },
  {
   "cell_type": "code",
   "execution_count": null,
   "metadata": {},
   "outputs": [],
   "source": [
    "import random\n",
    "\n",
    "def rand7():\n",
    "    def rand5():\n",
    "        return random.randint(1,5)\n",
    "    a = rand5()\n",
    "    b = 7 - a\n",
    "    return random.choice([i for i in range(1, a + b + 1)])\n",
    "\n",
    "rand7()"
   ]
  },
  {
   "cell_type": "markdown",
   "metadata": {},
   "source": [
    "This problem was asked by Amazon.\n",
    "Given a string, find the longest palindromic contiguous substring. If there are more than one with the maximum length, return any one.\n",
    "For example, the longest palindromic substring of \"aabcdcb\" is \"bcdcb\". The longest palindromic substring of \"bananas\" is \"anana\"."
   ]
  },
  {
   "cell_type": "code",
   "execution_count": null,
   "metadata": {},
   "outputs": [],
   "source": [
    "def pal(text):\n",
    "    res, resa, son = [], [], []\n",
    "    for i in range(len(text)):\n",
    "        res.append(text[i:])\n",
    "        resa.append(text[i::-1])\n",
    "\n",
    "    for i in res:\n",
    "        for j in resa:\n",
    "            a = 0\n",
    "            toplam = ''\n",
    "            if i[a] == j[a]:\n",
    "                while i[a] == j[a]:\n",
    "                    toplam += i[a]\n",
    "                    a += 1\n",
    "                    if toplam == toplam[::-1]:\n",
    "                        if toplam not in son:\n",
    "                            son.append(toplam)\n",
    "                    if a == len(i) or a == len(j):\n",
    "                        break\n",
    "    a = sorted(son, key=lambda x : len(x), reverse = True)\n",
    "    return a[0]\n"
   ]
  }
 ],
 "metadata": {
  "interpreter": {
   "hash": "f54f548834cd5004815cf7c2a98e656c3454a16c8c6270de2968c01c213389d4"
  },
  "kernelspec": {
   "display_name": "Python 3.9.7 64-bit (windows store)",
   "name": "python3"
  },
  "language_info": {
   "codemirror_mode": {
    "name": "ipython",
    "version": 3
   },
   "file_extension": ".py",
   "mimetype": "text/x-python",
   "name": "python",
   "nbconvert_exporter": "python",
   "pygments_lexer": "ipython3",
   "version": "3.9.7"
  },
  "orig_nbformat": 4
 },
 "nbformat": 4,
 "nbformat_minor": 2
}
