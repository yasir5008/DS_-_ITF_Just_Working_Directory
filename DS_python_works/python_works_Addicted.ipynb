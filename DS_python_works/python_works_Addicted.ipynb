{
 "cells": [
  {
   "cell_type": "code",
   "execution_count": 2,
   "metadata": {},
   "outputs": [
    {
     "data": {
      "text/plain": [
       "'HMMMTadfs11123445'"
      ]
     },
     "execution_count": 2,
     "metadata": {},
     "output_type": "execute_result"
    }
   ],
   "source": [
    "def sirala(text):\n",
    "    harf, rakam = [], []\n",
    "    for i in text:\n",
    "        if i.isalpha():harf.append(i)\n",
    "        else:rakam.append(i)\n",
    "    harf.sort()\n",
    "    rakam.sort()\n",
    "    toplam = harf + rakam\n",
    "    sonuc = ''.join(toplam)\n",
    "    return sonuc\n",
    "\n",
    "sirala('MHsdaf1412MMT1453')"
   ]
  },
  {
   "cell_type": "code",
   "execution_count": 3,
   "metadata": {},
   "outputs": [
    {
     "data": {
      "text/plain": [
       "'HMMMT1345'"
      ]
     },
     "execution_count": 3,
     "metadata": {},
     "output_type": "execute_result"
    }
   ],
   "source": [
    "def sort_char(text):\n",
    "\n",
    "  letters = filter(lambda x: x.isalpha(), text)\n",
    "  nums = filter(lambda x: x.isnumeric(), text)\n",
    "\n",
    "  return \"\".join(sorted(letters) + sorted(nums))\n",
    "\n",
    "sort_char(\"MHMMT1453\")"
   ]
  },
  {
   "cell_type": "code",
   "execution_count": 4,
   "metadata": {},
   "outputs": [
    {
     "name": "stdout",
     "output_type": "stream",
     "text": [
      "Characters at Even Position:  Wloet h aaSinePt!\n",
      "Characters at Odd Position:  ecm oteDt cec ah\n"
     ]
    }
   ],
   "source": [
    "text = \"Welcome to the Data Science Path!\"\n",
    "\n",
    "even_pos = \"\".join([text[x] for x in range(0, len(text), 2)])\n",
    "odd_pos = \"\".join([text[x] for x in range(1, len(text), 2)])\n",
    "\n",
    "print(\"Characters at Even Position: \", even_pos)\n",
    "print(\"Characters at Odd Position: \", odd_pos)"
   ]
  },
  {
   "cell_type": "code",
   "execution_count": null,
   "metadata": {},
   "outputs": [],
   "source": [
    "text = \"Welcome to the Data Science Path!\"\n",
    "odd = ''.join(list(map(lambda x : text[x] if x % 2 != 0 else '', list(range(len(text))))))\n",
    "even = ''.join(list(map(lambda x : text[x] if x % 2 == 0 else '', list(range(len(text))))))\n",
    "print('Characters at Even Position: ', even)\n",
    "print('Characters at Odd Position: ', odd)"
   ]
  },
  {
   "cell_type": "code",
   "execution_count": 5,
   "metadata": {},
   "outputs": [
    {
     "name": "stdout",
     "output_type": "stream",
     "text": [
      "[('z', 0), ('b', 1), ('c', 2), ('x', 3), ('x', 4)]\n"
     ]
    }
   ],
   "source": [
    "liste = [('b', 1), ('c', 2), ('x', 3), ('x', 4), ('z', 0)]\n",
    "liste = sorted([i[::-1] for i in liste])\n",
    "liste = [i[::-1] for i in liste]\n",
    "print(liste)"
   ]
  },
  {
   "cell_type": "code",
   "execution_count": 6,
   "metadata": {},
   "outputs": [
    {
     "name": "stdout",
     "output_type": "stream",
     "text": [
      "[('z', 0), ('b', 1), ('c', 2), ('x', 3), ('x', 4)]\n"
     ]
    }
   ],
   "source": [
    "input=[(\"b\",1),(\"c\",2),(\"x\",3),(\"x\",4),(\"z\",0)]\n",
    "dicct={i:j for j,i in input}\n",
    "output=[(dicct[k],k) for k in sorted(dicct.keys())]\n",
    "print(output)"
   ]
  },
  {
   "cell_type": "markdown",
   "metadata": {},
   "source": [
    "Herkese iyi akşamlar, iyi hafta sonları:woman-raising-hand:\n",
    "This problem was asked by Microsoft.\n",
    "Compute the running median of a sequence of numbers. That is, given a\n",
    "stream of numbers, print out the median of the list so far on each new\n",
    "element.\n",
    "Recall that the median of an even-numbered list is the average of the two\n",
    "middle numbers.\n",
    "For example, given the sequence [2, 1, 5, 7, 2, 0, 5], your algorithm\n",
    "should print out:\n",
    "2\n",
    "1.5\n",
    "2\n",
    "3.5\n",
    "2\n",
    "2\n",
    "2"
   ]
  },
  {
   "cell_type": "code",
   "execution_count": null,
   "metadata": {},
   "outputs": [],
   "source": [
    "def median(liste):\n",
    "    for i in range(len(liste)):\n",
    "        new = []\n",
    "        new.extend(liste[:i + 1])\n",
    "        new.sort()\n",
    "        if len(new) == 1:\n",
    "            b = new[0]\n",
    "        elif len(new) % 2 == 0:\n",
    "            a = len(new) // 2\n",
    "            b = (new[a - 1] + new[a]) / 2\n",
    "            if b == int(b):\n",
    "                b = int(b)\n",
    "        elif len(new) % 2 != 0:\n",
    "            a = len(new) // 2\n",
    "            b = new[a]\n",
    "        print(b)\n",
    "\n",
    "median([2, 1, 5, 7, 2, 0, 5])"
   ]
  },
  {
   "cell_type": "code",
   "execution_count": null,
   "metadata": {},
   "outputs": [],
   "source": [
    "def sayı(n):\n",
    "  t=1\n",
    "  l=[]\n",
    "  z=[]\n",
    "  for i in range(len(n)):\n",
    "    x=n[:t]\n",
    "    l+=[sorted(x)]\n",
    "    t+=1\n",
    "  for j in l:\n",
    "          if len(j)==1:\n",
    "              a=j[0]\n",
    "              z.append(a)\n",
    "          elif len(j)%2==0:\n",
    "              y=len(j)//2\n",
    "              a=(j[y]+j[y-1])/2\n",
    "              z.append(a)\n",
    "          else:\n",
    "              y=len(j)//2\n",
    "              a=j[y]\n",
    "              z.append(a)\n",
    "  return z\n",
    "print(sayı([2, 1, 5, 7, 2, 0, 5]))"
   ]
  },
  {
   "cell_type": "code",
   "execution_count": null,
   "metadata": {
    "pycharm": {
     "name": "#%%\n"
    }
   },
   "outputs": [],
   "source": [
    "import statistics as sta\n",
    "dizi= [2, 1, 5, 7, 2, 0, 5]\n",
    "print([sta.median(dizi[:i]) for i in range(1,len(dizi)+1)])"
   ]
  },
  {
   "cell_type": "code",
   "execution_count": null,
   "metadata": {
    "collapsed": false,
    "pycharm": {
     "name": "#%%\n"
    }
   },
   "outputs": [],
   "source": [
    "import numpy as np\n"
   ]
  },
  {
   "cell_type": "markdown",
   "metadata": {},
   "source": [
    "This problem was asked by Google.\n",
    "We can determine how \"out of order\" an array A is by counting the number of inversions it has. Two elements A[i] and A[j] form an inversion if A[i] > A[j] but i < j. That is, a smaller element appears after a larger element. Given an array, count the number of inversions it has. Do this faster than O(N^2) time. You may assume each element in the array is distinct. For example, a sorted list has zero inversions. The array [2, 4, 1, 3, 5] has three inversions: (2, 1), (4, 1), and (4, 3). The array [5, 4, 3, 2, 1] has ten inversions: every distinct pair forms an inversion."
   ]
  },
  {
   "cell_type": "code",
   "execution_count": null,
   "metadata": {},
   "outputs": [],
   "source": [
    "def out_of_order(liste):\n",
    "    a, res = 1, []\n",
    "    for i in liste[:-1]:\n",
    "        for j in liste[a:]:\n",
    "            if i > j:\n",
    "                if [i,j] not in res:\n",
    "                    res.append([i,j])\n",
    "        a += 1\n",
    "    return len(res)\n",
    "\n",
    "out_of_order([5, 4, 3, 2, 1])"
   ]
  },
  {
   "cell_type": "code",
   "execution_count": null,
   "metadata": {},
   "outputs": [],
   "source": [
    "def sayı(n):\n",
    "  l=[]\n",
    "  for i in n:\n",
    "    for j in n[n.index(i)+1:]:\n",
    "      if i>j:\n",
    "        l+=[(i,j)]\n",
    "  return len(l)\n",
    "print(sayı( [5, 4, 3, 2, 1] ))"
   ]
  },
  {
   "cell_type": "markdown",
   "metadata": {},
   "source": [
    "Merhaba herkese iyi hafta sonları:hugging_face:\n",
    "This problem was asked by Two Sigma.\n",
    "Using a function rand5() that returns an integer from 1 to 5 (inclusive)\n",
    "with uniform probability, implement a function rand7() that returns an\n",
    "integer from 1 to 7 (inclusive)."
   ]
  },
  {
   "cell_type": "code",
   "execution_count": null,
   "metadata": {},
   "outputs": [],
   "source": [
    "import random\n",
    "\n",
    "def rand7():\n",
    "    def rand5():\n",
    "        return random.randint(1,5)\n",
    "    a = rand5()\n",
    "    b = 7 - a\n",
    "    return random.choice([i for i in range(1, a + b + 1)])\n",
    "\n",
    "rand7()"
   ]
  },
  {
   "cell_type": "markdown",
   "metadata": {},
   "source": [
    "This problem was asked by Amazon.\n",
    "Given a string, find the longest palindromic contiguous substring. If there are more than one with the maximum length, return any one.\n",
    "For example, the longest palindromic substring of \"aabcdcb\" is \"bcdcb\". The longest palindromic substring of \"bananas\" is \"anana\"."
   ]
  },
  {
   "cell_type": "code",
   "execution_count": null,
   "metadata": {},
   "outputs": [],
   "source": [
    "def pal(text):\n",
    "    res, resa, son = [], [], []\n",
    "    for i in range(len(text)):\n",
    "        res.append(text[i:])\n",
    "        resa.append(text[i::-1])\n",
    "\n",
    "    for i in res:\n",
    "        for j in resa:\n",
    "            a = 0\n",
    "            toplam = ''\n",
    "            if i[a] == j[a]:\n",
    "                while i[a] == j[a]:\n",
    "                    toplam += i[a]\n",
    "                    a += 1\n",
    "                    if toplam == toplam[::-1]:\n",
    "                        if toplam not in son:\n",
    "                            son.append(toplam)\n",
    "                    if a == len(i) or a == len(j):\n",
    "                        break\n",
    "    a = sorted(son, key=lambda x : len(x), reverse = True)\n",
    "    return a[0]\n"
   ]
  },
  {
   "cell_type": "markdown",
   "metadata": {},
   "source": [
    "Merhaba:hugging_face: Neredesiniz cohort-9:smiling_face_with_tear:\n",
    "This problem was asked by Amazon.\n",
    "Given a N by M matrix of numbers, print out the matrix in a clockwise spiral.\n",
    "For example, given the following matrix:\n",
    "[[1,  2,  3,  4,  5],\n",
    " [6,  7,  8,  9,  10],\n",
    " [11, 12, 13, 14, 15],\n",
    " [16, 17, 18, 19, 20]]\n",
    "You should print out the following:\n",
    "1\n",
    "2\n",
    "3\n",
    "4\n",
    "5\n",
    "10\n",
    "15\n",
    "20\n",
    "19\n",
    "18\n",
    "17\n",
    "16\n",
    "11\n",
    "6\n",
    "7\n",
    "8\n",
    "9\n",
    "14\n",
    "13\n",
    "12"
   ]
  },
  {
   "cell_type": "code",
   "execution_count": null,
   "metadata": {},
   "outputs": [],
   "source": [
    "def snail(list1):\n",
    "  if len(list1) < 1:\n",
    "    return list1\n",
    "  else:\n",
    "    outer = list1[0] + [item[-1] for item in list1[1:-1]] + list1[-1][::-1] + [item[0] for item in list1[-2:0:-1]]\n",
    "    inner = [item[1:-1] for item in list1[1:-1]]\n",
    "    return outer + snail(inner)\n",
    "list2= [[1,  2,  3,  4,  5],\n",
    "        [6,  7,  8,  9,  10],\n",
    "        [11, 12, 13, 14, 15],\n",
    "        [16, 17, 18, 19, 20]]\n",
    "print(snail(list2))"
   ]
  },
  {
   "cell_type": "code",
   "execution_count": null,
   "metadata": {},
   "outputs": [],
   "source": [
    "def matrix_list(array):\n",
    "    ind, liste, liste_2 = [], [], []\n",
    "    a, b = 0, len(array[0]) - 1\n",
    "    c = len(array) - 1\n",
    "    ters = True\n",
    "\n",
    "    array_1 = list(map(lambda *a: [*a], *array))\n",
    "    if len(array) >= len(array[0]):\n",
    "        kademe = len(array) * 2\n",
    "    else:\n",
    "        kademe = len(array[0]) * 2\n",
    "\n",
    "    for i in range(kademe // 2 - 1):\n",
    "        ind.append([a, b, c, a])\n",
    "        a += 1\n",
    "        b -= 1\n",
    "        c -= 1\n",
    "    \n",
    "    ind_2 = [j for i in ind for j in i] \n",
    "    for i in range(kademe - 1):\n",
    "        if ters:\n",
    "            if i % 2 == 0:\n",
    "                liste.append(array[ind_2[i]])\n",
    "            else:\n",
    "                liste.append(array_1[ind_2[i]])\n",
    "                ters = False\n",
    "        else:\n",
    "            if i % 2 == 0:\n",
    "                liste.append(array[ind_2[i]][::-1])\n",
    "            else:\n",
    "                liste.append(array_1[ind_2[i]][::-1])\n",
    "                ters = True\n",
    "        for i in liste:\n",
    "            for j in i:\n",
    "                if j not in liste_2:\n",
    "                    liste_2.append(j)\n",
    "        if len(liste_2) == len(array) * len(array[0]):\n",
    "            break\n",
    "    return liste_2\n",
    "    \n",
    "matrix_list([[ 0,  1,  2,  3],\n",
    "             [ 4,  5,  6,  7],\n",
    "             [ 8,  9, 10, 11],\n",
    "             [12, 13, 14, 15],\n",
    "             [16, 17, 18, 19],\n",
    "             [20, 21, 22, 23],\n",
    "             [24, 25, 26, 27],\n",
    "             [28, 29, 30, 31],\n",
    "             [32, 33, 34, 35]])"
   ]
  },
  {
   "cell_type": "code",
   "execution_count": null,
   "metadata": {},
   "outputs": [],
   "source": [
    "import numpy as np\n",
    "mat=np.array([[1,  2,  3,  4,  5],\n",
    "              [6,  7,  8,  9,  10],\n",
    "              [11, 12, 13, 14, 15],\n",
    "              [16, 17, 18, 19, 20]])\n",
    "lis,sifir,bos=[j for i in mat for j in i],0,[]\n",
    "a,b=mat.shape\n",
    "while True:\n",
    "    a,b=a-1,b-1\n",
    "    degisken,dol = list(mat[sifir])+list(mat[:,b])+list(mat[a][::-1])+list(mat[:,sifir][::-1]),[]\n",
    "    sifir += 1\n",
    "    for was in degisken:\n",
    "        if was in bos:pass\n",
    "        else:bos.append(was)\n",
    "    if len(bos)==len(lis):break\n",
    "print(bos)"
   ]
  },
  {
   "cell_type": "markdown",
   "metadata": {},
   "source": [
    "Selam arkadaşlar.:woman-raising-hand: Anlıyorum ki pathlerde çok yoğunsunuz. Kolay gelsin, başarılar:pray:\n",
    "This problem was asked by Facebook.\n",
    "Given a list of integers, return the largest product that can be made by multiplying any three integers.\n",
    "For example, if the list is [-10, -10, 5, 2], we should return 500, since that's  -10 * -10 * 5.\n",
    "You can assume the list has at least three integers."
   ]
  },
  {
   "cell_type": "code",
   "execution_count": null,
   "metadata": {},
   "outputs": [],
   "source": [
    "def largest_product(array):    \n",
    "    res = [[]]\n",
    "    result = []\n",
    "    for i in array:\n",
    "        for j in res:\n",
    "            res = res + [j + [i]]\n",
    "    for i in res:\n",
    "        if len(i) == 3:\n",
    "            carpim = 1\n",
    "            for j in i:\n",
    "                carpim *= j\n",
    "            result.append(carpim)\n",
    "    return max(result)\n",
    "\n",
    "largest_product([-10, -10, 5, 2])"
   ]
  },
  {
   "cell_type": "code",
   "execution_count": null,
   "metadata": {},
   "outputs": [],
   "source": [
    "import numpy as np\n",
    "trip,stat=[-10, -10,5,2],1\n",
    "for i in trip:stat*=i\n",
    "if stat>0:print(np.prod(sorted([abs(j) for j in trip],reverse=True)[:3]))\n",
    "else:print(np.prod(sorted(trip,reverse=True)[:3]))"
   ]
  },
  {
   "cell_type": "markdown",
   "metadata": {},
   "source": [
    "Günaydın:woman-raising-hand: Güzel bir gün olsun hepimiz için:pray:\n",
    "This problem was asked by Microsoft.\n",
    "A number is considered perfect if its digits sum up to exactly 10. Given a positive integer n, return the n-th perfect number.\n",
    "For example, given 1, you should return 19. Given 2, you should return 28"
   ]
  },
  {
   "cell_type": "code",
   "execution_count": null,
   "metadata": {},
   "outputs": [],
   "source": [
    "def perfect_number(n):\n",
    "    m = 10\n",
    "    result = []\n",
    "    while True:\n",
    "        summ = sum([int(i) for i in str(m)])\n",
    "        if summ == 10:\n",
    "            result.append(m)\n",
    "            if len(result) == n:\n",
    "                break\n",
    "            else:\n",
    "                m += 1\n",
    "        else:\n",
    "            m += 1\n",
    "    return result[-1]\n",
    "\n",
    "perfect_number(2)"
   ]
  },
  {
   "cell_type": "code",
   "execution_count": null,
   "metadata": {},
   "outputs": [],
   "source": [
    "def perfnum(a):\n",
    "    if sum([int(i)for i in  str(a)])==10:return print(\"perfect number\")\n",
    "    elif (10-sum([int(i)for i in  str(a)]))>0:return print(str(a)+str(10-sum([int(i)for i in  str(a)])) )\n",
    "    elif sum([int(i)for i in  str(a)])>10:\n",
    "        start,count=1,0\n",
    "        while True:\n",
    "            start+=1\n",
    "            if sum([int(i) for i in str(start)]) == 10:count+=1\n",
    "            if count==a:break\n",
    "        return  print(\"number:\",start)\n",
    "    else:return print(\"not perfect\")\n",
    "perfnum(79)"
   ]
  },
  {
   "cell_type": "code",
   "execution_count": null,
   "metadata": {},
   "outputs": [],
   "source": [
    "def perfect(n):\n",
    "    i=0\n",
    "    count = 0\n",
    "    \n",
    "    while True:\n",
    "        count += 1\n",
    "        sum_digits = 0\n",
    "        for digit in str(count):\n",
    "            sum_digits += int(digit)\n",
    "        if sum_digits == 10:\n",
    "            i = i+1\n",
    "        if i == n:\n",
    "            break\n",
    "    return count       \n",
    "      \n",
    "perfect(8)"
   ]
  },
  {
   "cell_type": "code",
   "execution_count": null,
   "metadata": {},
   "outputs": [],
   "source": [
    "while True: \n",
    "    b= input(\"Enter your number \")\n",
    "    a=sum(list(map(int,b)))\n",
    "    if  a % 10 == 0 :\n",
    "        print(f'{b} is a perfect number')\n",
    "    else:\n",
    "        fx= str(b)+str(abs(int(10-(a%10))))+\".\"\n",
    "        print(fx)\n",
    "    break"
   ]
  },
  {
   "cell_type": "markdown",
   "metadata": {},
   "source": [
    "Merhaba:hibiscus:\n",
    "This problem was asked by Yelp.\n",
    "Given a mapping of digits to letters (as in a phone number), and a digit string,return all possible letters the number could represent. You can assume each valid number in the mapping is a single digit.\n",
    "For example if {“2”: [“a”, “b”, “c”], 3: [“d”, “e”, “f”], …} then “23” should return [“ad”, “ae”, “af”, “bd”, “be”, “bf”, “cd”, “ce”, “cf\"]."
   ]
  },
  {
   "cell_type": "code",
   "execution_count": null,
   "metadata": {},
   "outputs": [],
   "source": [
    "import random\n",
    "\n",
    "def phone_letter(num):\n",
    "    \n",
    "    dictt = {2: 'abc', 3: 'def', 4: 'ghi', 5: 'jkl', 6: 'mno', 7: 'pqrs', 8: 'tuv', 9: 'wxyz'}\n",
    "    \n",
    "    times = 1\n",
    "    for i in range(len(str(num))):\n",
    "        times *= len(dictt[int(str(num)[i])])\n",
    "    \n",
    "    a = 0\n",
    "    result_list = []\n",
    "    while a < times:\n",
    "        liste = []\n",
    "        for i in range(len(str(num))):\n",
    "            random_chr = random.choice(dictt[int(str(num)[i])])\n",
    "            liste.append(random_chr)\n",
    "        if liste not in result_list:\n",
    "            result_list.insert(len(result_list), liste)\n",
    "            a += 1\n",
    "    result_list = [''.join(i) for i in result_list]\n",
    "    result_list.sort()\n",
    "    return result_list\n",
    "\n",
    "phone_letter(642)"
   ]
  },
  {
   "cell_type": "code",
   "execution_count": null,
   "metadata": {},
   "outputs": [],
   "source": [
    "def phone_letter(number):\n",
    "    dictt = {2: 'abc', 3: 'def', 4: 'ghi', 5: 'jkl', 6: 'mno', 7: 'pqrs', 8: 'tuv', 9: 'wxyz'}\n",
    "\n",
    "    str_num = str(number)\n",
    "    a = 0\n",
    "    b = 1\n",
    "    first = dictt[int(str_num[a])]\n",
    "    second = dictt[int(str_num[b])]\n",
    "\n",
    "    while True:\n",
    "        res = []\n",
    "        for i in first:\n",
    "            for j in second:\n",
    "                res.append(i+j)\n",
    "        if b == len(str_num) - 1:\n",
    "            break\n",
    "        else:\n",
    "            b += 1\n",
    "            first = res\n",
    "            second = dictt[int(str_num[b])]\n",
    "    return res\n",
    "\n",
    "phone_letter(642)"
   ]
  },
  {
   "cell_type": "markdown",
   "metadata": {},
   "source": [
    " Soru bazı kodlarda, doğru sonuç verse bile runtime error veriyor. O sebeple önce kalem kağıtla bir algoritma kurmak gerekli."
   ]
  },
  {
   "cell_type": "code",
   "execution_count": 1,
   "metadata": {},
   "outputs": [
    {
     "data": {
      "text/plain": [
       "-20"
      ]
     },
     "execution_count": 1,
     "metadata": {},
     "output_type": "execute_result"
    }
   ],
   "source": [
    "def sum_loop(i, j, k):\n",
    "    \n",
    "    total = 0\n",
    "\n",
    "    while i < j:\n",
    "        total += i\n",
    "        i += 1\n",
    "\n",
    "    while j >= k:\n",
    "        total += j\n",
    "        j -= 1\n",
    "\n",
    "    return total\n",
    "\n",
    "sum_loop(-5,-1,-3)"
   ]
  },
  {
   "cell_type": "code",
   "execution_count": 9,
   "metadata": {},
   "outputs": [
    {
     "name": "stdout",
     "output_type": "stream",
     "text": [
      "Execution time is: 9.51115569999996\n"
     ]
    }
   ],
   "source": [
    "import timeit\n",
    "\n",
    "statement='''\n",
    "def sum_loop(i,j,k):\n",
    "\n",
    "    a = (i * (i + 1)) / 2\n",
    "    b = (j * (j + 1)) / 2\n",
    "    c = (k * (k + 1)) / 2\n",
    "\n",
    "    d = (b - a) + i\n",
    "    e = (b - c) + k\n",
    "    return d+e-j\n",
    "\n",
    "sum_loop(5,9,6)'''\n",
    "\n",
    "print(f'Execution time is: {timeit.timeit(stmt=statement, number=10000000)}')"
   ]
  },
  {
   "cell_type": "code",
   "execution_count": 8,
   "metadata": {},
   "outputs": [
    {
     "data": {
      "text/plain": [
       "-20.0"
      ]
     },
     "execution_count": 8,
     "metadata": {},
     "output_type": "execute_result"
    }
   ],
   "source": [
    "def getSequenceSum(i,j,k):\n",
    "\n",
    "    if all([i<=j, k<=j, -10**8<i<10**8, -10**8<j<10**8, -10**8<k<10**8]):\n",
    "        # en düşük değeri bulup o değeri 0'a yükselteli/düşürelim, diğer değerleride ona göre değiştirelim,\n",
    "        # bu işlemin geri adımını işlemlerin hepsi bittiğinde uygulayalım\n",
    "        change_val = 0 - min(i,j,k)\n",
    "        i,j,k = i + change_val , j + change_val , k + change_val\n",
    "\n",
    "        # i alt sınırdan tepeye olan toplam formülü\n",
    "        n1 = j - i + 1\n",
    "        sum_total = n1*(j + i)/2\n",
    "        # j bir üstte toplandığından şimdi k'dan j-1'e olan toplam formülü\n",
    "        # eğer j==k ise toplamamalıyız\n",
    "        n2 = 0\n",
    "        if j != k:\n",
    "            n2 = (j-1) - k + 1\n",
    "            sum_total += n2*(k + (j-1))/2\n",
    "             \n",
    "        # Şimdi yukardaki change_val kadar değişimi geri almalıyız.\n",
    "        # Bunun için (terim sayısı *  change_val) kadar toplamdan çıkarmalıyız\n",
    "        sum_total -= (n1 + n2)*change_val\n",
    "        \n",
    "        return sum_total\n",
    "\n",
    "    else:\n",
    "        return None\n",
    "\n",
    "getSequenceSum(-5,-1,-3)"
   ]
  },
  {
   "cell_type": "code",
   "execution_count": 7,
   "metadata": {},
   "outputs": [
    {
     "ename": "IndexError",
     "evalue": "list index out of range",
     "output_type": "error",
     "traceback": [
      "\u001b[1;31m---------------------------------------------------------------------------\u001b[0m",
      "\u001b[1;31mIndexError\u001b[0m                                Traceback (most recent call last)",
      "\u001b[1;32m~\\AppData\\Local\\Temp/ipykernel_17732/2944589423.py\u001b[0m in \u001b[0;36m<module>\u001b[1;34m\u001b[0m\n\u001b[0;32m      1\u001b[0m \u001b[0mmy_numbers\u001b[0m\u001b[1;33m=\u001b[0m\u001b[0mlist\u001b[0m\u001b[1;33m(\u001b[0m\u001b[1;33m[\u001b[0m\u001b[0mint\u001b[0m\u001b[1;33m(\u001b[0m\u001b[0mx\u001b[0m\u001b[1;33m)\u001b[0m \u001b[1;32mfor\u001b[0m \u001b[0mx\u001b[0m \u001b[1;32min\u001b[0m \u001b[0minput\u001b[0m\u001b[1;33m(\u001b[0m\u001b[1;34m\"Please enter the numbers: \"\u001b[0m\u001b[1;33m)\u001b[0m\u001b[1;33m.\u001b[0m\u001b[0msplit\u001b[0m\u001b[1;33m(\u001b[0m\u001b[1;33m)\u001b[0m\u001b[1;33m]\u001b[0m\u001b[1;33m)\u001b[0m\u001b[1;33m\u001b[0m\u001b[1;33m\u001b[0m\u001b[0m\n\u001b[0;32m      2\u001b[0m \u001b[0mmy_numbers\u001b[0m\u001b[1;33m.\u001b[0m\u001b[0msort\u001b[0m\u001b[1;33m(\u001b[0m\u001b[1;33m)\u001b[0m\u001b[1;33m\u001b[0m\u001b[1;33m\u001b[0m\u001b[0m\n\u001b[1;32m----> 3\u001b[1;33m \u001b[0mmy_total\u001b[0m\u001b[1;33m=\u001b[0m\u001b[0msum\u001b[0m\u001b[1;33m(\u001b[0m\u001b[0mrange\u001b[0m\u001b[1;33m(\u001b[0m\u001b[0mmy_numbers\u001b[0m\u001b[1;33m[\u001b[0m\u001b[1;36m0\u001b[0m\u001b[1;33m]\u001b[0m\u001b[1;33m,\u001b[0m\u001b[0mmy_numbers\u001b[0m\u001b[1;33m[\u001b[0m\u001b[1;33m-\u001b[0m\u001b[1;36m1\u001b[0m\u001b[1;33m]\u001b[0m\u001b[1;33m+\u001b[0m\u001b[1;36m1\u001b[0m\u001b[1;33m)\u001b[0m\u001b[1;33m)\u001b[0m\u001b[1;33m+\u001b[0m\u001b[0msum\u001b[0m\u001b[1;33m(\u001b[0m\u001b[0mrange\u001b[0m\u001b[1;33m(\u001b[0m\u001b[0mmy_numbers\u001b[0m\u001b[1;33m[\u001b[0m\u001b[1;36m1\u001b[0m\u001b[1;33m]\u001b[0m\u001b[1;33m,\u001b[0m\u001b[0mmy_numbers\u001b[0m\u001b[1;33m[\u001b[0m\u001b[1;33m-\u001b[0m\u001b[1;36m1\u001b[0m\u001b[1;33m]\u001b[0m\u001b[1;33m)\u001b[0m\u001b[1;33m)\u001b[0m\u001b[1;33m\u001b[0m\u001b[1;33m\u001b[0m\u001b[0m\n\u001b[0m\u001b[0;32m      4\u001b[0m \u001b[0mmy_total\u001b[0m\u001b[1;33m\u001b[0m\u001b[1;33m\u001b[0m\u001b[0m\n",
      "\u001b[1;31mIndexError\u001b[0m: list index out of range"
     ]
    }
   ],
   "source": [
    "my_numbers=list([int(x) for x in input(\"Please enter the numbers: \").split()])\n",
    "my_numbers.sort()\n",
    "my_total=sum(range(my_numbers[0],my_numbers[-1]+1))+sum(range(my_numbers[1],my_numbers[-1]))\n",
    "my_total"
   ]
  },
  {
   "cell_type": "code",
   "execution_count": 6,
   "metadata": {},
   "outputs": [
    {
     "ename": "IndexError",
     "evalue": "list index out of range",
     "output_type": "error",
     "traceback": [
      "\u001b[1;31m---------------------------------------------------------------------------\u001b[0m",
      "\u001b[1;31mIndexError\u001b[0m                                Traceback (most recent call last)",
      "\u001b[1;32m~\\AppData\\Local\\Temp/ipykernel_17732/2011003545.py\u001b[0m in \u001b[0;36m<module>\u001b[1;34m\u001b[0m\n\u001b[0;32m      1\u001b[0m \u001b[0mmy_numbers\u001b[0m\u001b[1;33m=\u001b[0m\u001b[0mlist\u001b[0m\u001b[1;33m(\u001b[0m\u001b[0mmap\u001b[0m\u001b[1;33m(\u001b[0m\u001b[0mint\u001b[0m\u001b[1;33m,\u001b[0m \u001b[0minput\u001b[0m\u001b[1;33m(\u001b[0m\u001b[1;34m\"Enter numbers: \"\u001b[0m\u001b[1;33m)\u001b[0m\u001b[1;33m.\u001b[0m\u001b[0msplit\u001b[0m\u001b[1;33m(\u001b[0m\u001b[1;33m)\u001b[0m\u001b[1;33m)\u001b[0m\u001b[1;33m)\u001b[0m\u001b[1;33m\u001b[0m\u001b[1;33m\u001b[0m\u001b[0m\n\u001b[0;32m      2\u001b[0m \u001b[0mmy_numbers\u001b[0m\u001b[1;33m.\u001b[0m\u001b[0msort\u001b[0m\u001b[1;33m(\u001b[0m\u001b[1;33m)\u001b[0m\u001b[1;33m\u001b[0m\u001b[1;33m\u001b[0m\u001b[0m\n\u001b[1;32m----> 3\u001b[1;33m \u001b[0mmy_total\u001b[0m\u001b[1;33m=\u001b[0m\u001b[0msum\u001b[0m\u001b[1;33m(\u001b[0m\u001b[0mrange\u001b[0m\u001b[1;33m(\u001b[0m\u001b[0mmy_numbers\u001b[0m\u001b[1;33m[\u001b[0m\u001b[1;36m0\u001b[0m\u001b[1;33m]\u001b[0m\u001b[1;33m,\u001b[0m\u001b[0mmy_numbers\u001b[0m\u001b[1;33m[\u001b[0m\u001b[1;33m-\u001b[0m\u001b[1;36m1\u001b[0m\u001b[1;33m]\u001b[0m\u001b[1;33m+\u001b[0m\u001b[1;36m1\u001b[0m\u001b[1;33m)\u001b[0m\u001b[1;33m)\u001b[0m\u001b[1;33m+\u001b[0m\u001b[0msum\u001b[0m\u001b[1;33m(\u001b[0m\u001b[0mrange\u001b[0m\u001b[1;33m(\u001b[0m\u001b[0mmy_numbers\u001b[0m\u001b[1;33m[\u001b[0m\u001b[1;36m1\u001b[0m\u001b[1;33m]\u001b[0m\u001b[1;33m,\u001b[0m\u001b[0mmy_numbers\u001b[0m\u001b[1;33m[\u001b[0m\u001b[1;33m-\u001b[0m\u001b[1;36m1\u001b[0m\u001b[1;33m]\u001b[0m\u001b[1;33m)\u001b[0m\u001b[1;33m)\u001b[0m\u001b[1;33m\u001b[0m\u001b[1;33m\u001b[0m\u001b[0m\n\u001b[0m\u001b[0;32m      4\u001b[0m \u001b[0mmy_total\u001b[0m\u001b[1;33m\u001b[0m\u001b[1;33m\u001b[0m\u001b[0m\n",
      "\u001b[1;31mIndexError\u001b[0m: list index out of range"
     ]
    }
   ],
   "source": [
    "my_numbers=list(map(int, input(\"Enter numbers: \").split()))\n",
    "my_numbers.sort()\n",
    "my_total=sum(range(my_numbers[0],my_numbers[-1]+1))+sum(range(my_numbers[1],my_numbers[-1]))\n",
    "my_total"
   ]
  },
  {
   "cell_type": "code",
   "execution_count": 4,
   "metadata": {},
   "outputs": [
    {
     "data": {
      "text/plain": [
       "24"
      ]
     },
     "execution_count": 4,
     "metadata": {},
     "output_type": "execute_result"
    }
   ],
   "source": [
    "def getsequencesum(i, j, k):\n",
    "  my_numbers=list(map(int,(i, j, k)))\n",
    "  my_numbers.sort()\n",
    "  my_total=sum(range(my_numbers[0],my_numbers[-1]+1))+sum(range(my_numbers[1],my_numbers[-1]))\n",
    "  return my_total\n",
    "getsequencesum(-1,5,0)"
   ]
  },
  {
   "cell_type": "code",
   "execution_count": 3,
   "metadata": {},
   "outputs": [
    {
     "ename": "SyntaxError",
     "evalue": "invalid syntax (Temp/ipykernel_17732/376856506.py, line 7)",
     "output_type": "error",
     "traceback": [
      "\u001b[1;36m  File \u001b[1;32m\"C:\\Users\\yasir\\AppData\\Local\\Temp/ipykernel_17732/376856506.py\"\u001b[1;36m, line \u001b[1;32m7\u001b[0m\n\u001b[1;33m    print(f'Execution time is: {timeit.timeit(stmt=statement, number=10000000)}') -->     Execution time is: 9.248810318999858 (edited)\u001b[0m\n\u001b[1;37m                                                                                   ^\u001b[0m\n\u001b[1;31mSyntaxError\u001b[0m\u001b[1;31m:\u001b[0m invalid syntax\n"
     ]
    }
   ],
   "source": [
    "import timeit\n",
    "statement='''\n",
    "def getsequencesum(i, j, k):\n",
    "  my_total=sum(range(i,j+1))+sum(range(k,j))\n",
    "  return my_total\n",
    "getsequencesum(5,9,6) '''\n",
    "print(f'Execution time is: {timeit.timeit(stmt=statement, number=10000000)}') -->     Execution time is: 9.248810318999858 (edited) "
   ]
  },
  {
   "cell_type": "code",
   "execution_count": 2,
   "metadata": {},
   "outputs": [
    {
     "ename": "SyntaxError",
     "evalue": "invalid syntax (Temp/ipykernel_17732/750783999.py, line 6)",
     "output_type": "error",
     "traceback": [
      "\u001b[1;36m  File \u001b[1;32m\"C:\\Users\\yasir\\AppData\\Local\\Temp/ipykernel_17732/750783999.py\"\u001b[1;36m, line \u001b[1;32m6\u001b[0m\n\u001b[1;33m    print(f'Execution time is: {timeit.timeit(stmt=statement, number=10000000)}')    4.772606774999986\u001b[0m\n\u001b[1;37m                                                                                     ^\u001b[0m\n\u001b[1;31mSyntaxError\u001b[0m\u001b[1;31m:\u001b[0m invalid syntax\n"
     ]
    }
   ],
   "source": [
    "import timeit\n",
    "statement='''\n",
    "def getsequencesum(i, j, k):\n",
    "   return ((i+j)*(j-i+1)/2)+((k+j)*(j-k+1)/2)-j\n",
    "getsequencesum(5,9,6) '''\n",
    "print(f'Execution time is: {timeit.timeit(stmt=statement, number=10000000)}')    4.772606774999986"
   ]
  }
 ],
 "metadata": {
  "interpreter": {
   "hash": "f54f548834cd5004815cf7c2a98e656c3454a16c8c6270de2968c01c213389d4"
  },
  "kernelspec": {
   "display_name": "Python 3.9.7 64-bit (windows store)",
   "name": "python3"
  },
  "language_info": {
   "codemirror_mode": {
    "name": "ipython",
    "version": 3
   },
   "file_extension": ".py",
   "mimetype": "text/x-python",
   "name": "python",
   "nbconvert_exporter": "python",
   "pygments_lexer": "ipython3",
   "version": "3.9.9"
  },
  "orig_nbformat": 4
 },
 "nbformat": 4,
 "nbformat_minor": 2
}
