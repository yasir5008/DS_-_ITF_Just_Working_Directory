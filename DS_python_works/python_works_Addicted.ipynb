{
 "cells": [
  {
   "cell_type": "code",
   "execution_count": 2,
   "metadata": {},
   "outputs": [
    {
     "data": {
      "text/plain": [
       "'HMMMTadfs11123445'"
      ]
     },
     "execution_count": 2,
     "metadata": {},
     "output_type": "execute_result"
    }
   ],
   "source": [
    "def sirala(text):\n",
    "    harf, rakam = [], []\n",
    "    for i in text:\n",
    "        if i.isalpha():harf.append(i)\n",
    "        else:rakam.append(i)\n",
    "    harf.sort()\n",
    "    rakam.sort()\n",
    "    toplam = harf + rakam\n",
    "    sonuc = ''.join(toplam)\n",
    "    return sonuc\n",
    "\n",
    "sirala('MHsdaf1412MMT1453')"
   ]
  },
  {
   "cell_type": "code",
   "execution_count": 3,
   "metadata": {},
   "outputs": [
    {
     "data": {
      "text/plain": [
       "'HMMMT1345'"
      ]
     },
     "execution_count": 3,
     "metadata": {},
     "output_type": "execute_result"
    }
   ],
   "source": [
    "def sort_char(text):\n",
    "\n",
    "  letters = filter(lambda x: x.isalpha(), text)\n",
    "  nums = filter(lambda x: x.isnumeric(), text)\n",
    "\n",
    "  return \"\".join(sorted(letters) + sorted(nums))\n",
    "\n",
    "sort_char(\"MHMMT1453\")"
   ]
  },
  {
   "cell_type": "code",
   "execution_count": 4,
   "metadata": {},
   "outputs": [
    {
     "name": "stdout",
     "output_type": "stream",
     "text": [
      "Characters at Even Position:  Wloet h aaSinePt!\n",
      "Characters at Odd Position:  ecm oteDt cec ah\n"
     ]
    }
   ],
   "source": [
    "text = \"Welcome to the Data Science Path!\"\n",
    "\n",
    "even_pos = \"\".join([text[x] for x in range(0, len(text), 2)])\n",
    "odd_pos = \"\".join([text[x] for x in range(1, len(text), 2)])\n",
    "\n",
    "print(\"Characters at Even Position: \", even_pos)\n",
    "print(\"Characters at Odd Position: \", odd_pos)"
   ]
  },
  {
   "cell_type": "code",
   "execution_count": null,
   "metadata": {},
   "outputs": [],
   "source": [
    "text = \"Welcome to the Data Science Path!\"\n",
    "odd = ''.join(list(map(lambda x : text[x] if x % 2 != 0 else '', list(range(len(text))))))\n",
    "even = ''.join(list(map(lambda x : text[x] if x % 2 == 0 else '', list(range(len(text))))))\n",
    "print('Characters at Even Position: ', even)\n",
    "print('Characters at Odd Position: ', odd)"
   ]
  },
  {
   "cell_type": "code",
   "execution_count": 5,
   "metadata": {},
   "outputs": [
    {
     "name": "stdout",
     "output_type": "stream",
     "text": [
      "[('z', 0), ('b', 1), ('c', 2), ('x', 3), ('x', 4)]\n"
     ]
    }
   ],
   "source": [
    "liste = [('b', 1), ('c', 2), ('x', 3), ('x', 4), ('z', 0)]\n",
    "liste = sorted([i[::-1] for i in liste])\n",
    "liste = [i[::-1] for i in liste]\n",
    "print(liste)"
   ]
  },
  {
   "cell_type": "code",
   "execution_count": 6,
   "metadata": {},
   "outputs": [
    {
     "name": "stdout",
     "output_type": "stream",
     "text": [
      "[('z', 0), ('b', 1), ('c', 2), ('x', 3), ('x', 4)]\n"
     ]
    }
   ],
   "source": [
    "input=[(\"b\",1),(\"c\",2),(\"x\",3),(\"x\",4),(\"z\",0)]\n",
    "dicct={i:j for j,i in input}\n",
    "output=[(dicct[k],k) for k in sorted(dicct.keys())]\n",
    "print(output)"
   ]
  },
  {
   "cell_type": "markdown",
   "metadata": {},
   "source": [
    "Herkese iyi akşamlar, iyi hafta sonları:woman-raising-hand:\n",
    "This problem was asked by Microsoft.\n",
    "Compute the running median of a sequence of numbers. That is, given a\n",
    "stream of numbers, print out the median of the list so far on each new\n",
    "element.\n",
    "Recall that the median of an even-numbered list is the average of the two\n",
    "middle numbers.\n",
    "For example, given the sequence [2, 1, 5, 7, 2, 0, 5], your algorithm\n",
    "should print out:\n",
    "2\n",
    "1.5\n",
    "2\n",
    "3.5\n",
    "2\n",
    "2\n",
    "2"
   ]
  },
  {
   "cell_type": "code",
   "execution_count": null,
   "metadata": {},
   "outputs": [],
   "source": [
    "def median(liste):\n",
    "    for i in range(len(liste)):\n",
    "        new = []\n",
    "        new.extend(liste[:i + 1])\n",
    "        new.sort()\n",
    "        if len(new) == 1:\n",
    "            b = new[0]\n",
    "        elif len(new) % 2 == 0:\n",
    "            a = len(new) // 2\n",
    "            b = (new[a - 1] + new[a]) / 2\n",
    "            if b == int(b):\n",
    "                b = int(b)\n",
    "        elif len(new) % 2 != 0:\n",
    "            a = len(new) // 2\n",
    "            b = new[a]\n",
    "        print(b)\n",
    "\n",
    "median([2, 1, 5, 7, 2, 0, 5])"
   ]
  },
  {
   "cell_type": "code",
   "execution_count": null,
   "metadata": {},
   "outputs": [],
   "source": [
    "def sayı(n):\n",
    "  t=1\n",
    "  l=[]\n",
    "  z=[]\n",
    "  for i in range(len(n)):\n",
    "    x=n[:t]\n",
    "    l+=[sorted(x)]\n",
    "    t+=1\n",
    "  for j in l:\n",
    "          if len(j)==1:\n",
    "              a=j[0]\n",
    "              z.append(a)\n",
    "          elif len(j)%2==0:\n",
    "              y=len(j)//2\n",
    "              a=(j[y]+j[y-1])/2\n",
    "              z.append(a)\n",
    "          else:\n",
    "              y=len(j)//2\n",
    "              a=j[y]\n",
    "              z.append(a)\n",
    "  return z\n",
    "print(sayı([2, 1, 5, 7, 2, 0, 5]))"
   ]
  },
  {
   "cell_type": "code",
   "execution_count": null,
   "metadata": {
    "pycharm": {
     "name": "#%%\n"
    }
   },
   "outputs": [],
   "source": [
    "import statistics as sta\n",
    "dizi= [2, 1, 5, 7, 2, 0, 5]\n",
    "print([sta.median(dizi[:i]) for i in range(1,len(dizi)+1)])"
   ]
  },
  {
   "cell_type": "code",
   "execution_count": null,
   "metadata": {
    "collapsed": false,
    "pycharm": {
     "name": "#%%\n"
    }
   },
   "outputs": [],
   "source": [
    "import numpy as np\n"
   ]
  },
  {
   "cell_type": "markdown",
   "metadata": {},
   "source": [
    "This problem was asked by Google.\n",
    "We can determine how \"out of order\" an array A is by counting the number of inversions it has. Two elements A[i] and A[j] form an inversion if A[i] > A[j] but i < j. That is, a smaller element appears after a larger element. Given an array, count the number of inversions it has. Do this faster than O(N^2) time. You may assume each element in the array is distinct. For example, a sorted list has zero inversions. The array [2, 4, 1, 3, 5] has three inversions: (2, 1), (4, 1), and (4, 3). The array [5, 4, 3, 2, 1] has ten inversions: every distinct pair forms an inversion."
   ]
  },
  {
   "cell_type": "code",
   "execution_count": null,
   "metadata": {},
   "outputs": [],
   "source": [
    "def out_of_order(liste):\n",
    "    a, res = 1, []\n",
    "    for i in liste[:-1]:\n",
    "        for j in liste[a:]:\n",
    "            if i > j:\n",
    "                if [i,j] not in res:\n",
    "                    res.append([i,j])\n",
    "        a += 1\n",
    "    return len(res)\n",
    "\n",
    "out_of_order([5, 4, 3, 2, 1])"
   ]
  },
  {
   "cell_type": "code",
   "execution_count": null,
   "metadata": {},
   "outputs": [],
   "source": [
    "def sayı(n):\n",
    "  l=[]\n",
    "  for i in n:\n",
    "    for j in n[n.index(i)+1:]:\n",
    "      if i>j:\n",
    "        l+=[(i,j)]\n",
    "  return len(l)\n",
    "print(sayı( [5, 4, 3, 2, 1] ))"
   ]
  },
  {
   "cell_type": "markdown",
   "metadata": {},
   "source": [
    "Merhaba herkese iyi hafta sonları:hugging_face:\n",
    "This problem was asked by Two Sigma.\n",
    "Using a function rand5() that returns an integer from 1 to 5 (inclusive)\n",
    "with uniform probability, implement a function rand7() that returns an\n",
    "integer from 1 to 7 (inclusive)."
   ]
  },
  {
   "cell_type": "code",
   "execution_count": null,
   "metadata": {},
   "outputs": [],
   "source": [
    "import random\n",
    "\n",
    "def rand7():\n",
    "    def rand5():\n",
    "        return random.randint(1,5)\n",
    "    a = rand5()\n",
    "    b = 7 - a\n",
    "    return random.choice([i for i in range(1, a + b + 1)])\n",
    "\n",
    "rand7()"
   ]
  },
  {
   "cell_type": "markdown",
   "metadata": {},
   "source": [
    "This problem was asked by Amazon.\n",
    "Given a string, find the longest palindromic contiguous substring. If there are more than one with the maximum length, return any one.\n",
    "For example, the longest palindromic substring of \"aabcdcb\" is \"bcdcb\". The longest palindromic substring of \"bananas\" is \"anana\"."
   ]
  },
  {
   "cell_type": "code",
   "execution_count": null,
   "metadata": {},
   "outputs": [],
   "source": [
    "def pal(text):\n",
    "    res, resa, son = [], [], []\n",
    "    for i in range(len(text)):\n",
    "        res.append(text[i:])\n",
    "        resa.append(text[i::-1])\n",
    "\n",
    "    for i in res:\n",
    "        for j in resa:\n",
    "            a = 0\n",
    "            toplam = ''\n",
    "            if i[a] == j[a]:\n",
    "                while i[a] == j[a]:\n",
    "                    toplam += i[a]\n",
    "                    a += 1\n",
    "                    if toplam == toplam[::-1]:\n",
    "                        if toplam not in son:\n",
    "                            son.append(toplam)\n",
    "                    if a == len(i) or a == len(j):\n",
    "                        break\n",
    "    a = sorted(son, key=lambda x : len(x), reverse = True)\n",
    "    return a[0]\n"
   ]
  },
  {
   "cell_type": "markdown",
   "metadata": {},
   "source": [
    "Merhaba:hugging_face: Neredesiniz cohort-9:smiling_face_with_tear:\n",
    "This problem was asked by Amazon.\n",
    "Given a N by M matrix of numbers, print out the matrix in a clockwise spiral.\n",
    "For example, given the following matrix:\n",
    "[[1,  2,  3,  4,  5],\n",
    " [6,  7,  8,  9,  10],\n",
    " [11, 12, 13, 14, 15],\n",
    " [16, 17, 18, 19, 20]]\n",
    "You should print out the following:\n",
    "1\n",
    "2\n",
    "3\n",
    "4\n",
    "5\n",
    "10\n",
    "15\n",
    "20\n",
    "19\n",
    "18\n",
    "17\n",
    "16\n",
    "11\n",
    "6\n",
    "7\n",
    "8\n",
    "9\n",
    "14\n",
    "13\n",
    "12"
   ]
  },
  {
   "cell_type": "code",
   "execution_count": null,
   "metadata": {},
   "outputs": [],
   "source": [
    "def snail(list1):\n",
    "  if len(list1) < 1:\n",
    "    return list1\n",
    "  else:\n",
    "    outer = list1[0] + [item[-1] for item in list1[1:-1]] + list1[-1][::-1] + [item[0] for item in list1[-2:0:-1]]\n",
    "    inner = [item[1:-1] for item in list1[1:-1]]\n",
    "    return outer + snail(inner)\n",
    "list2= [[1,  2,  3,  4,  5],\n",
    "        [6,  7,  8,  9,  10],\n",
    "        [11, 12, 13, 14, 15],\n",
    "        [16, 17, 18, 19, 20]]\n",
    "print(snail(list2))"
   ]
  },
  {
   "cell_type": "code",
   "execution_count": null,
   "metadata": {},
   "outputs": [],
   "source": [
    "def matrix_list(array):\n",
    "    ind, liste, liste_2 = [], [], []\n",
    "    a, b = 0, len(array[0]) - 1\n",
    "    c = len(array) - 1\n",
    "    ters = True\n",
    "\n",
    "    array_1 = list(map(lambda *a: [*a], *array))\n",
    "    if len(array) >= len(array[0]):\n",
    "        kademe = len(array) * 2\n",
    "    else:\n",
    "        kademe = len(array[0]) * 2\n",
    "\n",
    "    for i in range(kademe // 2 - 1):\n",
    "        ind.append([a, b, c, a])\n",
    "        a += 1\n",
    "        b -= 1\n",
    "        c -= 1\n",
    "    \n",
    "    ind_2 = [j for i in ind for j in i] \n",
    "    for i in range(kademe - 1):\n",
    "        if ters:\n",
    "            if i % 2 == 0:\n",
    "                liste.append(array[ind_2[i]])\n",
    "            else:\n",
    "                liste.append(array_1[ind_2[i]])\n",
    "                ters = False\n",
    "        else:\n",
    "            if i % 2 == 0:\n",
    "                liste.append(array[ind_2[i]][::-1])\n",
    "            else:\n",
    "                liste.append(array_1[ind_2[i]][::-1])\n",
    "                ters = True\n",
    "        for i in liste:\n",
    "            for j in i:\n",
    "                if j not in liste_2:\n",
    "                    liste_2.append(j)\n",
    "        if len(liste_2) == len(array) * len(array[0]):\n",
    "            break\n",
    "    return liste_2\n",
    "    \n",
    "matrix_list([[ 0,  1,  2,  3],\n",
    "             [ 4,  5,  6,  7],\n",
    "             [ 8,  9, 10, 11],\n",
    "             [12, 13, 14, 15],\n",
    "             [16, 17, 18, 19],\n",
    "             [20, 21, 22, 23],\n",
    "             [24, 25, 26, 27],\n",
    "             [28, 29, 30, 31],\n",
    "             [32, 33, 34, 35]])"
   ]
  },
  {
   "cell_type": "code",
   "execution_count": null,
   "metadata": {},
   "outputs": [],
   "source": [
    "import numpy as np\n",
    "mat=np.array([[1,  2,  3,  4,  5],\n",
    "              [6,  7,  8,  9,  10],\n",
    "              [11, 12, 13, 14, 15],\n",
    "              [16, 17, 18, 19, 20]])\n",
    "lis,sifir,bos=[j for i in mat for j in i],0,[]\n",
    "a,b=mat.shape\n",
    "while True:\n",
    "    a,b=a-1,b-1\n",
    "    degisken,dol = list(mat[sifir])+list(mat[:,b])+list(mat[a][::-1])+list(mat[:,sifir][::-1]),[]\n",
    "    sifir += 1\n",
    "    for was in degisken:\n",
    "        if was in bos:pass\n",
    "        else:bos.append(was)\n",
    "    if len(bos)==len(lis):break\n",
    "print(bos)"
   ]
  },
  {
   "cell_type": "markdown",
   "metadata": {},
   "source": [
    "Selam arkadaşlar.:woman-raising-hand: Anlıyorum ki pathlerde çok yoğunsunuz. Kolay gelsin, başarılar:pray:\n",
    "This problem was asked by Facebook.\n",
    "Given a list of integers, return the largest product that can be made by multiplying any three integers.\n",
    "For example, if the list is [-10, -10, 5, 2], we should return 500, since that's  -10 * -10 * 5.\n",
    "You can assume the list has at least three integers."
   ]
  },
  {
   "cell_type": "code",
   "execution_count": null,
   "metadata": {},
   "outputs": [],
   "source": [
    "def largest_product(array):    \n",
    "    res = [[]]\n",
    "    result = []\n",
    "    for i in array:\n",
    "        for j in res:\n",
    "            res = res + [j + [i]]\n",
    "    for i in res:\n",
    "        if len(i) == 3:\n",
    "            carpim = 1\n",
    "            for j in i:\n",
    "                carpim *= j\n",
    "            result.append(carpim)\n",
    "    return max(result)\n",
    "\n",
    "largest_product([-10, -10, 5, 2])"
   ]
  },
  {
   "cell_type": "code",
   "execution_count": null,
   "metadata": {},
   "outputs": [],
   "source": [
    "import numpy as np\n",
    "trip,stat=[-10, -10,5,2],1\n",
    "for i in trip:stat*=i\n",
    "if stat>0:print(np.prod(sorted([abs(j) for j in trip],reverse=True)[:3]))\n",
    "else:print(np.prod(sorted(trip,reverse=True)[:3]))"
   ]
  }
 ],
 "metadata": {
  "interpreter": {
   "hash": "f54f548834cd5004815cf7c2a98e656c3454a16c8c6270de2968c01c213389d4"
  },
  "kernelspec": {
   "display_name": "Python 3.9.7 64-bit (windows store)",
   "name": "python3"
  },
  "language_info": {
   "codemirror_mode": {
    "name": "ipython",
    "version": 3
   },
   "file_extension": ".py",
   "mimetype": "text/x-python",
   "name": "python",
   "nbconvert_exporter": "python",
   "pygments_lexer": "ipython3",
   "version": "3.9.7"
  },
  "orig_nbformat": 4
 },
 "nbformat": 4,
 "nbformat_minor": 2
}
